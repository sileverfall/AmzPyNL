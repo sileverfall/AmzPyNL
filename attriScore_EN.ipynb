{
 "cells": [
  {
   "cell_type": "code",
   "execution_count": 1,
   "metadata": {
    "collapsed": true
   },
   "outputs": [],
   "source": [
    "import numpy as np\n",
    "import time"
   ]
  },
  {
   "cell_type": "code",
   "execution_count": 2,
   "metadata": {},
   "outputs": [
    {
     "data": {
      "text/plain": [
       "78"
      ]
     },
     "execution_count": 2,
     "metadata": {},
     "output_type": "execute_result"
    }
   ],
   "source": [
    "#quality\n",
    "qual_word = open('./dic/attri/quality.txt').read().split('\\t')\n",
    "qual_word\n",
    "len(qual_word)"
   ]
  },
  {
   "cell_type": "code",
   "execution_count": 3,
   "metadata": {},
   "outputs": [
    {
     "data": {
      "text/plain": [
       "50"
      ]
     },
     "execution_count": 3,
     "metadata": {},
     "output_type": "execute_result"
    }
   ],
   "source": [
    "#portable\n",
    "portable_word = open('./dic/attri/portable.txt').read().split('\\t')\n",
    "portable_word\n",
    "len(portable_word)"
   ]
  },
  {
   "cell_type": "code",
   "execution_count": 4,
   "metadata": {
    "scrolled": true
   },
   "outputs": [
    {
     "data": {
      "text/plain": [
       "20"
      ]
     },
     "execution_count": 4,
     "metadata": {},
     "output_type": "execute_result"
    }
   ],
   "source": [
    "#brand\n",
    "brand_word = open('./dic/attri/brand.txt').read().split('\\t')\n",
    "brand_word\n",
    "len(brand_word)"
   ]
  },
  {
   "cell_type": "code",
   "execution_count": 5,
   "metadata": {},
   "outputs": [
    {
     "data": {
      "text/plain": [
       "22"
      ]
     },
     "execution_count": 5,
     "metadata": {},
     "output_type": "execute_result"
    }
   ],
   "source": [
    "#price\n",
    "price_word = open('./dic/attri/price.txt').read().split('\\t')\n",
    "price_word\n",
    "len(price_word)"
   ]
  },
  {
   "cell_type": "code",
   "execution_count": 6,
   "metadata": {},
   "outputs": [
    {
     "data": {
      "text/plain": [
       "17"
      ]
     },
     "execution_count": 6,
     "metadata": {},
     "output_type": "execute_result"
    }
   ],
   "source": [
    "#innovative\n",
    "inno_word = open('./dic/attri/innovative.txt').read().split('\\t')\n",
    "inno_word\n",
    "len(inno_word)"
   ]
  },
  {
   "cell_type": "code",
   "execution_count": 7,
   "metadata": {},
   "outputs": [
    {
     "data": {
      "text/plain": [
       "27"
      ]
     },
     "execution_count": 7,
     "metadata": {},
     "output_type": "execute_result"
    }
   ],
   "source": [
    "#web\n",
    "web_word = open('./dic/attri/web.txt').read().split('\\t')\n",
    "web_word\n",
    "len(web_word)"
   ]
  },
  {
   "cell_type": "code",
   "execution_count": 161,
   "metadata": {},
   "outputs": [
    {
     "data": {
      "text/plain": [
       "\"'s , like , littl , just , realli , make , n't , help , thing , use , think , onli , come , need , easi , look , cute , becaus , price , good , doe , ani , want , small , way , month , togeth , love , old , lot\""
      ]
     },
     "execution_count": 161,
     "metadata": {},
     "output_type": "execute_result"
    }
   ],
   "source": [
    "LDA = open('../test.txt').read().split('\\n')\n",
    "LDA[0]  "
   ]
  },
  {
   "cell_type": "code",
   "execution_count": 201,
   "metadata": {},
   "outputs": [
    {
     "data": {
      "text/plain": [
       "array([[0, 2, 0, 1, 0, 0],\n",
       "       [0, 1, 0, 1, 0, 0],\n",
       "       [1, 3, 0, 1, 0, 0],\n",
       "       [1, 2, 0, 1, 0, 0],\n",
       "       [1, 2, 0, 0, 0, 0],\n",
       "       [1, 3, 0, 0, 0, 0],\n",
       "       [1, 1, 0, 0, 0, 0],\n",
       "       [0, 3, 0, 0, 0, 0],\n",
       "       [1, 0, 0, 1, 0, 0],\n",
       "       [1, 3, 0, 0, 0, 0]])"
      ]
     },
     "execution_count": 201,
     "metadata": {},
     "output_type": "execute_result"
    }
   ],
   "source": [
    "\n",
    "score = []\n",
    "Score =[]\n",
    "for lda in LDA:\n",
    "#     print(lda)\n",
    "    quality = 0\n",
    "    portable = 0\n",
    "    brand = 0\n",
    "    price = 0\n",
    "    innovative = 0\n",
    "    web = 0\n",
    "    term = lda.split(' , ')\n",
    "    \n",
    "    for t in term:\n",
    "#         print(t)\n",
    "        if t in qual_word:\n",
    "            quality +=1\n",
    "    \n",
    "        elif t in portable_word:\n",
    "            portable +=1\n",
    "    \n",
    "        elif t in brand_word:\n",
    "            brand +=1\n",
    "        elif t in price_word:\n",
    "            price +=1\n",
    "        elif t in inno_word:\n",
    "            innovative += 1\n",
    "        elif t in web_word:\n",
    "            web +=1\n",
    "        \n",
    "        score = ([quality,portable,brand,price,innovative,web])\n",
    "    Score.append(score)\n",
    "   \n",
    "\n",
    "    \n",
    "    \n",
    "Score\n",
    "Ascore = np.array(Score)\n",
    "Ascore"
   ]
  },
  {
   "cell_type": "code",
   "execution_count": null,
   "metadata": {
    "collapsed": true
   },
   "outputs": [],
   "source": []
  }
 ],
 "metadata": {
  "kernelspec": {
   "display_name": "Python 3",
   "language": "python",
   "name": "python3"
  },
  "language_info": {
   "codemirror_mode": {
    "name": "ipython",
    "version": 3
   },
   "file_extension": ".py",
   "mimetype": "text/x-python",
   "name": "python",
   "nbconvert_exporter": "python",
   "pygments_lexer": "ipython3",
   "version": "3.6.1"
  }
 },
 "nbformat": 4,
 "nbformat_minor": 2
}
