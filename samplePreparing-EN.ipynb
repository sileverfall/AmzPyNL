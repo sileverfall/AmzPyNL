{
 "cells": [
  {
   "cell_type": "code",
   "execution_count": 25,
   "metadata": {
    "collapsed": true
   },
   "outputs": [],
   "source": [
    "import time            \n",
    "import re            \n",
    "import os    \n",
    "import sys  \n",
    "import codecs  \n",
    "import shutil  \n",
    "import numpy as np  \n",
    "import matplotlib  \n",
    "import scipy  \n",
    "import pandas as pd\n",
    "import matplotlib.pyplot as plt  \n",
    "from sklearn import feature_extraction    \n",
    "from sklearn.feature_extraction.text import TfidfTransformer    \n",
    "from sklearn.feature_extraction.text import CountVectorizer  \n",
    "from sklearn.feature_extraction.text import HashingVectorizer"
   ]
  },
  {
   "cell_type": "code",
   "execution_count": 26,
   "metadata": {},
   "outputs": [
    {
     "data": {
      "text/plain": [
       "\"  play\\t toy\\t love\\t make\\t son\\t 's\\t like\\t littl\\t veri\\t time\\t gift\\t recommend\\t realli\\t bought\\t just\\t look\\t n't\\t price\\t kid\\t good\\t old\\t christma\\t qualiti\\t daughter\\t fun\\t happi\\t bit\\t great\\t year\\t use\""
      ]
     },
     "execution_count": 26,
     "metadata": {},
     "output_type": "execute_result"
    }
   ],
   "source": [
    "#一个群集\n",
    "cluster = open('../testE.txt',encoding='utf-8').read().split('\\n')\n",
    "cluster[0]\n",
    "\n",
    "# len(review)"
   ]
  },
  {
   "cell_type": "code",
   "execution_count": 27,
   "metadata": {
    "scrolled": true
   },
   "outputs": [
    {
     "data": {
      "text/plain": [
       "78"
      ]
     },
     "execution_count": 27,
     "metadata": {},
     "output_type": "execute_result"
    }
   ],
   "source": [
    "#quality\n",
    "qual_word = open('./dic/attri/quality.txt').read().split('\\t')\n",
    "qual_word = set(qual_word)\n",
    "len(qual_word)"
   ]
  },
  {
   "cell_type": "code",
   "execution_count": 28,
   "metadata": {},
   "outputs": [
    {
     "data": {
      "text/plain": [
       "49"
      ]
     },
     "execution_count": 28,
     "metadata": {},
     "output_type": "execute_result"
    }
   ],
   "source": [
    "#portable\n",
    "portable_word = open('./dic/attri/portable.txt').read().split('\\t')\n",
    "portable_word =set(portable_word)\n",
    "len(portable_word)"
   ]
  },
  {
   "cell_type": "code",
   "execution_count": 29,
   "metadata": {},
   "outputs": [
    {
     "data": {
      "text/plain": [
       "19"
      ]
     },
     "execution_count": 29,
     "metadata": {},
     "output_type": "execute_result"
    }
   ],
   "source": [
    "#brand\n",
    "brand_word = open('./dic/attri/brand.txt').read().split('\\t')\n",
    "brand_word =set(brand_word)\n",
    "len(brand_word)"
   ]
  },
  {
   "cell_type": "code",
   "execution_count": 30,
   "metadata": {},
   "outputs": [
    {
     "data": {
      "text/plain": [
       "22"
      ]
     },
     "execution_count": 30,
     "metadata": {},
     "output_type": "execute_result"
    }
   ],
   "source": [
    "#price\n",
    "price_word = open('./dic/attri/price.txt').read().split('\\t')\n",
    "price_word = set(price_word)\n",
    "len(price_word)"
   ]
  },
  {
   "cell_type": "code",
   "execution_count": 31,
   "metadata": {},
   "outputs": [
    {
     "data": {
      "text/plain": [
       "17"
      ]
     },
     "execution_count": 31,
     "metadata": {},
     "output_type": "execute_result"
    }
   ],
   "source": [
    "#innovative\n",
    "inno_word = open('./dic/attri/innovative.txt').read().split('\\t')\n",
    "inno_word = set(inno_word)\n",
    "len(inno_word)"
   ]
  },
  {
   "cell_type": "code",
   "execution_count": 32,
   "metadata": {},
   "outputs": [
    {
     "data": {
      "text/plain": [
       "27"
      ]
     },
     "execution_count": 32,
     "metadata": {},
     "output_type": "execute_result"
    }
   ],
   "source": [
    "#web\n",
    "web_word = open('./dic/attri/web.txt').read().split('\\t')\n",
    "web_word = set(web_word)\n",
    "len(web_word)"
   ]
  },
  {
   "cell_type": "code",
   "execution_count": 34,
   "metadata": {
    "scrolled": false
   },
   "outputs": [
    {
     "name": "stdout",
     "output_type": "stream",
     "text": [
      "++++++++++++++++++++++++++++++++\n",
      "[[1 1 0 1 0 1]\n",
      " [1 1 0 1 0 1]\n",
      " [1 1 0 1 0 1]\n",
      " [1 1 0 0 0 1]\n",
      " [1 1 0 1 0 1]\n",
      " [1 1 0 1 0 0]\n",
      " [1 1 0 1 0 1]\n",
      " [1 1 0 1 0 1]\n",
      " [1 1 0 1 0 1]\n",
      " [1 1 0 1 0 1]]\n"
     ]
    },
    {
     "data": {
      "text/plain": [
       "array([[list(['qualiti']), list(['time']), list([]), list(['price']),\n",
       "        list([]), list(['happi'])],\n",
       "       [list(['qualiti']), list(['time']), list([]), list(['price']),\n",
       "        list([]), list(['happi'])],\n",
       "       [list(['qualiti']), list(['time']), list([]), list(['price']),\n",
       "        list([]), list(['happi'])],\n",
       "       [list(['qualiti']), list(['time']), list([]), list([]), list([]),\n",
       "        list(['happi'])],\n",
       "       [list(['qualiti']), list(['time']), list([]), list(['price']),\n",
       "        list([]), list(['happi'])],\n",
       "       [list(['qualiti']), list(['time']), list([]), list(['price']),\n",
       "        list([]), list([])],\n",
       "       [list(['qualiti']), list(['time']), list([]), list(['price']),\n",
       "        list([]), list(['happi'])],\n",
       "       [list(['qualiti']), list(['time']), list([]), list(['price']),\n",
       "        list([]), list(['happi'])],\n",
       "       [list(['qualiti']), list(['time']), list([]), list(['price']),\n",
       "        list([]), list(['happi'])],\n",
       "       [list(['qualiti']), list(['time']), list([]), list(['price']),\n",
       "        list([]), list(['happi'])]], dtype=object)"
      ]
     },
     "execution_count": 34,
     "metadata": {},
     "output_type": "execute_result"
    }
   ],
   "source": [
    "score = []\n",
    "Score =[]\n",
    "T=[]\n",
    "Term = []\n",
    "\n",
    "i= 0\n",
    "for c in cluster:\n",
    "    quality = 0\n",
    "    portable = 0\n",
    "    brand = 0\n",
    "    price = 0\n",
    "    innovative = 0\n",
    "    web = 0\n",
    "    term = c.split('\\t ')\n",
    "    \n",
    "    \n",
    "    Q=[]\n",
    "    P=[]\n",
    "    B=[]\n",
    "    Pr=[]\n",
    "    I=[]\n",
    "    W=[]\n",
    "    \n",
    "    for t in term:\n",
    "        if t in qual_word:\n",
    "            quality +=1\n",
    "            Q.append(t)\n",
    "        elif t in portable_word:\n",
    "            portable +=1\n",
    "            P.append(t)\n",
    "    \n",
    "        elif t in brand_word:\n",
    "            brand +=1\n",
    "            B.append(t)\n",
    "        elif t in price_word:\n",
    "            price +=1\n",
    "            Pr.append(t)\n",
    "        elif t in inno_word:\n",
    "            innovative += 1\n",
    "            I.append(t)\n",
    "        elif t in web_word:\n",
    "            web +=1\n",
    "            W.append(t)\n",
    "        score = ([quality,portable,brand,price,innovative,web])\n",
    "        T=([Q,P,B,Pr,I,W])\n",
    "#         print(T)\n",
    "    Score.append(score)\n",
    "    Term.append(T)\n",
    "#     print(Term)\n",
    "    ATerm = np.array(Term)\n",
    "# print(Score)\n",
    "Ascore = np.array(Score)\n",
    "print('++++++++++++++++++++++++++++++++')\n",
    "print(Ascore)\n",
    "ATerm"
   ]
  },
  {
   "cell_type": "code",
   "execution_count": 35,
   "metadata": {},
   "outputs": [
    {
     "data": {
      "text/plain": [
       "(10, 6)"
      ]
     },
     "execution_count": 35,
     "metadata": {},
     "output_type": "execute_result"
    }
   ],
   "source": [
    "ATerm.shape"
   ]
  },
  {
   "cell_type": "code",
   "execution_count": 36,
   "metadata": {},
   "outputs": [
    {
     "data": {
      "text/plain": [
       "(10, 6)"
      ]
     },
     "execution_count": 36,
     "metadata": {},
     "output_type": "execute_result"
    }
   ],
   "source": [
    "Ascore.shape"
   ]
  },
  {
   "cell_type": "code",
   "execution_count": 37,
   "metadata": {
    "collapsed": true
   },
   "outputs": [],
   "source": [
    "Frame = pd.DataFrame(Ascore,columns=['質量','可攜性','品牌','價格','創新性','網站內容'])"
   ]
  },
  {
   "cell_type": "code",
   "execution_count": 38,
   "metadata": {},
   "outputs": [
    {
     "data": {
      "text/html": [
       "<div>\n",
       "<style>\n",
       "    .dataframe thead tr:only-child th {\n",
       "        text-align: right;\n",
       "    }\n",
       "\n",
       "    .dataframe thead th {\n",
       "        text-align: left;\n",
       "    }\n",
       "\n",
       "    .dataframe tbody tr th {\n",
       "        vertical-align: top;\n",
       "    }\n",
       "</style>\n",
       "<table border=\"1\" class=\"dataframe\">\n",
       "  <thead>\n",
       "    <tr style=\"text-align: right;\">\n",
       "      <th></th>\n",
       "      <th>質量</th>\n",
       "      <th>可攜性</th>\n",
       "      <th>品牌</th>\n",
       "      <th>價格</th>\n",
       "      <th>創新性</th>\n",
       "      <th>網站內容</th>\n",
       "    </tr>\n",
       "  </thead>\n",
       "  <tbody>\n",
       "    <tr>\n",
       "      <th>0</th>\n",
       "      <td>1</td>\n",
       "      <td>1</td>\n",
       "      <td>0</td>\n",
       "      <td>1</td>\n",
       "      <td>0</td>\n",
       "      <td>1</td>\n",
       "    </tr>\n",
       "    <tr>\n",
       "      <th>1</th>\n",
       "      <td>1</td>\n",
       "      <td>1</td>\n",
       "      <td>0</td>\n",
       "      <td>1</td>\n",
       "      <td>0</td>\n",
       "      <td>1</td>\n",
       "    </tr>\n",
       "    <tr>\n",
       "      <th>2</th>\n",
       "      <td>1</td>\n",
       "      <td>1</td>\n",
       "      <td>0</td>\n",
       "      <td>1</td>\n",
       "      <td>0</td>\n",
       "      <td>1</td>\n",
       "    </tr>\n",
       "    <tr>\n",
       "      <th>3</th>\n",
       "      <td>1</td>\n",
       "      <td>1</td>\n",
       "      <td>0</td>\n",
       "      <td>0</td>\n",
       "      <td>0</td>\n",
       "      <td>1</td>\n",
       "    </tr>\n",
       "    <tr>\n",
       "      <th>4</th>\n",
       "      <td>1</td>\n",
       "      <td>1</td>\n",
       "      <td>0</td>\n",
       "      <td>1</td>\n",
       "      <td>0</td>\n",
       "      <td>1</td>\n",
       "    </tr>\n",
       "    <tr>\n",
       "      <th>5</th>\n",
       "      <td>1</td>\n",
       "      <td>1</td>\n",
       "      <td>0</td>\n",
       "      <td>1</td>\n",
       "      <td>0</td>\n",
       "      <td>0</td>\n",
       "    </tr>\n",
       "    <tr>\n",
       "      <th>6</th>\n",
       "      <td>1</td>\n",
       "      <td>1</td>\n",
       "      <td>0</td>\n",
       "      <td>1</td>\n",
       "      <td>0</td>\n",
       "      <td>1</td>\n",
       "    </tr>\n",
       "    <tr>\n",
       "      <th>7</th>\n",
       "      <td>1</td>\n",
       "      <td>1</td>\n",
       "      <td>0</td>\n",
       "      <td>1</td>\n",
       "      <td>0</td>\n",
       "      <td>1</td>\n",
       "    </tr>\n",
       "    <tr>\n",
       "      <th>8</th>\n",
       "      <td>1</td>\n",
       "      <td>1</td>\n",
       "      <td>0</td>\n",
       "      <td>1</td>\n",
       "      <td>0</td>\n",
       "      <td>1</td>\n",
       "    </tr>\n",
       "    <tr>\n",
       "      <th>9</th>\n",
       "      <td>1</td>\n",
       "      <td>1</td>\n",
       "      <td>0</td>\n",
       "      <td>1</td>\n",
       "      <td>0</td>\n",
       "      <td>1</td>\n",
       "    </tr>\n",
       "  </tbody>\n",
       "</table>\n",
       "</div>"
      ],
      "text/plain": [
       "   質量  可攜性  品牌  價格  創新性  網站內容\n",
       "0   1    1   0   1    0     1\n",
       "1   1    1   0   1    0     1\n",
       "2   1    1   0   1    0     1\n",
       "3   1    1   0   0    0     1\n",
       "4   1    1   0   1    0     1\n",
       "5   1    1   0   1    0     0\n",
       "6   1    1   0   1    0     1\n",
       "7   1    1   0   1    0     1\n",
       "8   1    1   0   1    0     1\n",
       "9   1    1   0   1    0     1"
      ]
     },
     "execution_count": 38,
     "metadata": {},
     "output_type": "execute_result"
    }
   ],
   "source": [
    "Frame[:10]"
   ]
  },
  {
   "cell_type": "code",
   "execution_count": 22,
   "metadata": {
    "collapsed": true
   },
   "outputs": [],
   "source": [
    "Frame.to_csv('../test_score.csv')"
   ]
  },
  {
   "cell_type": "code",
   "execution_count": 39,
   "metadata": {},
   "outputs": [],
   "source": [
    "TATerm = ATerm.reshape(6,10)"
   ]
  },
  {
   "cell_type": "code",
   "execution_count": 40,
   "metadata": {},
   "outputs": [
    {
     "data": {
      "text/plain": [
       "(6, 10)"
      ]
     },
     "execution_count": 40,
     "metadata": {},
     "output_type": "execute_result"
    }
   ],
   "source": [
    "TATerm.shape"
   ]
  },
  {
   "cell_type": "code",
   "execution_count": 41,
   "metadata": {
    "collapsed": true
   },
   "outputs": [],
   "source": [
    "AFrame = pd.DataFrame(ATerm,columns=['質量','可攜性','品牌','價格','創新性','網站內容'])"
   ]
  },
  {
   "cell_type": "code",
   "execution_count": 42,
   "metadata": {},
   "outputs": [
    {
     "data": {
      "text/html": [
       "<div>\n",
       "<style>\n",
       "    .dataframe thead tr:only-child th {\n",
       "        text-align: right;\n",
       "    }\n",
       "\n",
       "    .dataframe thead th {\n",
       "        text-align: left;\n",
       "    }\n",
       "\n",
       "    .dataframe tbody tr th {\n",
       "        vertical-align: top;\n",
       "    }\n",
       "</style>\n",
       "<table border=\"1\" class=\"dataframe\">\n",
       "  <thead>\n",
       "    <tr style=\"text-align: right;\">\n",
       "      <th></th>\n",
       "      <th>質量</th>\n",
       "      <th>可攜性</th>\n",
       "      <th>品牌</th>\n",
       "      <th>價格</th>\n",
       "      <th>創新性</th>\n",
       "      <th>網站內容</th>\n",
       "    </tr>\n",
       "  </thead>\n",
       "  <tbody>\n",
       "    <tr>\n",
       "      <th>0</th>\n",
       "      <td>[qualiti]</td>\n",
       "      <td>[time]</td>\n",
       "      <td>[]</td>\n",
       "      <td>[price]</td>\n",
       "      <td>[]</td>\n",
       "      <td>[happi]</td>\n",
       "    </tr>\n",
       "    <tr>\n",
       "      <th>1</th>\n",
       "      <td>[qualiti]</td>\n",
       "      <td>[time]</td>\n",
       "      <td>[]</td>\n",
       "      <td>[price]</td>\n",
       "      <td>[]</td>\n",
       "      <td>[happi]</td>\n",
       "    </tr>\n",
       "    <tr>\n",
       "      <th>2</th>\n",
       "      <td>[qualiti]</td>\n",
       "      <td>[time]</td>\n",
       "      <td>[]</td>\n",
       "      <td>[price]</td>\n",
       "      <td>[]</td>\n",
       "      <td>[happi]</td>\n",
       "    </tr>\n",
       "    <tr>\n",
       "      <th>3</th>\n",
       "      <td>[qualiti]</td>\n",
       "      <td>[time]</td>\n",
       "      <td>[]</td>\n",
       "      <td>[]</td>\n",
       "      <td>[]</td>\n",
       "      <td>[happi]</td>\n",
       "    </tr>\n",
       "    <tr>\n",
       "      <th>4</th>\n",
       "      <td>[qualiti]</td>\n",
       "      <td>[time]</td>\n",
       "      <td>[]</td>\n",
       "      <td>[price]</td>\n",
       "      <td>[]</td>\n",
       "      <td>[happi]</td>\n",
       "    </tr>\n",
       "    <tr>\n",
       "      <th>5</th>\n",
       "      <td>[qualiti]</td>\n",
       "      <td>[time]</td>\n",
       "      <td>[]</td>\n",
       "      <td>[price]</td>\n",
       "      <td>[]</td>\n",
       "      <td>[]</td>\n",
       "    </tr>\n",
       "    <tr>\n",
       "      <th>6</th>\n",
       "      <td>[qualiti]</td>\n",
       "      <td>[time]</td>\n",
       "      <td>[]</td>\n",
       "      <td>[price]</td>\n",
       "      <td>[]</td>\n",
       "      <td>[happi]</td>\n",
       "    </tr>\n",
       "    <tr>\n",
       "      <th>7</th>\n",
       "      <td>[qualiti]</td>\n",
       "      <td>[time]</td>\n",
       "      <td>[]</td>\n",
       "      <td>[price]</td>\n",
       "      <td>[]</td>\n",
       "      <td>[happi]</td>\n",
       "    </tr>\n",
       "    <tr>\n",
       "      <th>8</th>\n",
       "      <td>[qualiti]</td>\n",
       "      <td>[time]</td>\n",
       "      <td>[]</td>\n",
       "      <td>[price]</td>\n",
       "      <td>[]</td>\n",
       "      <td>[happi]</td>\n",
       "    </tr>\n",
       "    <tr>\n",
       "      <th>9</th>\n",
       "      <td>[qualiti]</td>\n",
       "      <td>[time]</td>\n",
       "      <td>[]</td>\n",
       "      <td>[price]</td>\n",
       "      <td>[]</td>\n",
       "      <td>[happi]</td>\n",
       "    </tr>\n",
       "  </tbody>\n",
       "</table>\n",
       "</div>"
      ],
      "text/plain": [
       "          質量     可攜性  品牌       價格 創新性     網站內容\n",
       "0  [qualiti]  [time]  []  [price]  []  [happi]\n",
       "1  [qualiti]  [time]  []  [price]  []  [happi]\n",
       "2  [qualiti]  [time]  []  [price]  []  [happi]\n",
       "3  [qualiti]  [time]  []       []  []  [happi]\n",
       "4  [qualiti]  [time]  []  [price]  []  [happi]\n",
       "5  [qualiti]  [time]  []  [price]  []       []\n",
       "6  [qualiti]  [time]  []  [price]  []  [happi]\n",
       "7  [qualiti]  [time]  []  [price]  []  [happi]\n",
       "8  [qualiti]  [time]  []  [price]  []  [happi]\n",
       "9  [qualiti]  [time]  []  [price]  []  [happi]"
      ]
     },
     "execution_count": 42,
     "metadata": {},
     "output_type": "execute_result"
    }
   ],
   "source": [
    "AFrame"
   ]
  },
  {
   "cell_type": "code",
   "execution_count": 43,
   "metadata": {
    "collapsed": true
   },
   "outputs": [],
   "source": [
    "AFrame2 = AFrame.T"
   ]
  },
  {
   "cell_type": "code",
   "execution_count": 44,
   "metadata": {},
   "outputs": [
    {
     "data": {
      "text/html": [
       "<div>\n",
       "<style>\n",
       "    .dataframe thead tr:only-child th {\n",
       "        text-align: right;\n",
       "    }\n",
       "\n",
       "    .dataframe thead th {\n",
       "        text-align: left;\n",
       "    }\n",
       "\n",
       "    .dataframe tbody tr th {\n",
       "        vertical-align: top;\n",
       "    }\n",
       "</style>\n",
       "<table border=\"1\" class=\"dataframe\">\n",
       "  <thead>\n",
       "    <tr style=\"text-align: right;\">\n",
       "      <th></th>\n",
       "      <th>0</th>\n",
       "      <th>1</th>\n",
       "      <th>2</th>\n",
       "      <th>3</th>\n",
       "      <th>4</th>\n",
       "      <th>5</th>\n",
       "      <th>6</th>\n",
       "      <th>7</th>\n",
       "      <th>8</th>\n",
       "      <th>9</th>\n",
       "    </tr>\n",
       "  </thead>\n",
       "  <tbody>\n",
       "    <tr>\n",
       "      <th>質量</th>\n",
       "      <td>[qualiti]</td>\n",
       "      <td>[qualiti]</td>\n",
       "      <td>[qualiti]</td>\n",
       "      <td>[qualiti]</td>\n",
       "      <td>[qualiti]</td>\n",
       "      <td>[qualiti]</td>\n",
       "      <td>[qualiti]</td>\n",
       "      <td>[qualiti]</td>\n",
       "      <td>[qualiti]</td>\n",
       "      <td>[qualiti]</td>\n",
       "    </tr>\n",
       "    <tr>\n",
       "      <th>可攜性</th>\n",
       "      <td>[time]</td>\n",
       "      <td>[time]</td>\n",
       "      <td>[time]</td>\n",
       "      <td>[time]</td>\n",
       "      <td>[time]</td>\n",
       "      <td>[time]</td>\n",
       "      <td>[time]</td>\n",
       "      <td>[time]</td>\n",
       "      <td>[time]</td>\n",
       "      <td>[time]</td>\n",
       "    </tr>\n",
       "    <tr>\n",
       "      <th>品牌</th>\n",
       "      <td>[]</td>\n",
       "      <td>[]</td>\n",
       "      <td>[]</td>\n",
       "      <td>[]</td>\n",
       "      <td>[]</td>\n",
       "      <td>[]</td>\n",
       "      <td>[]</td>\n",
       "      <td>[]</td>\n",
       "      <td>[]</td>\n",
       "      <td>[]</td>\n",
       "    </tr>\n",
       "    <tr>\n",
       "      <th>價格</th>\n",
       "      <td>[price]</td>\n",
       "      <td>[price]</td>\n",
       "      <td>[price]</td>\n",
       "      <td>[]</td>\n",
       "      <td>[price]</td>\n",
       "      <td>[price]</td>\n",
       "      <td>[price]</td>\n",
       "      <td>[price]</td>\n",
       "      <td>[price]</td>\n",
       "      <td>[price]</td>\n",
       "    </tr>\n",
       "    <tr>\n",
       "      <th>創新性</th>\n",
       "      <td>[]</td>\n",
       "      <td>[]</td>\n",
       "      <td>[]</td>\n",
       "      <td>[]</td>\n",
       "      <td>[]</td>\n",
       "      <td>[]</td>\n",
       "      <td>[]</td>\n",
       "      <td>[]</td>\n",
       "      <td>[]</td>\n",
       "      <td>[]</td>\n",
       "    </tr>\n",
       "    <tr>\n",
       "      <th>網站內容</th>\n",
       "      <td>[happi]</td>\n",
       "      <td>[happi]</td>\n",
       "      <td>[happi]</td>\n",
       "      <td>[happi]</td>\n",
       "      <td>[happi]</td>\n",
       "      <td>[]</td>\n",
       "      <td>[happi]</td>\n",
       "      <td>[happi]</td>\n",
       "      <td>[happi]</td>\n",
       "      <td>[happi]</td>\n",
       "    </tr>\n",
       "  </tbody>\n",
       "</table>\n",
       "</div>"
      ],
      "text/plain": [
       "              0          1          2          3          4          5  \\\n",
       "質量    [qualiti]  [qualiti]  [qualiti]  [qualiti]  [qualiti]  [qualiti]   \n",
       "可攜性      [time]     [time]     [time]     [time]     [time]     [time]   \n",
       "品牌           []         []         []         []         []         []   \n",
       "價格      [price]    [price]    [price]         []    [price]    [price]   \n",
       "創新性          []         []         []         []         []         []   \n",
       "網站內容    [happi]    [happi]    [happi]    [happi]    [happi]         []   \n",
       "\n",
       "              6          7          8          9  \n",
       "質量    [qualiti]  [qualiti]  [qualiti]  [qualiti]  \n",
       "可攜性      [time]     [time]     [time]     [time]  \n",
       "品牌           []         []         []         []  \n",
       "價格      [price]    [price]    [price]    [price]  \n",
       "創新性          []         []         []         []  \n",
       "網站內容    [happi]    [happi]    [happi]    [happi]  "
      ]
     },
     "execution_count": 44,
     "metadata": {},
     "output_type": "execute_result"
    }
   ],
   "source": [
    "AFrame2"
   ]
  },
  {
   "cell_type": "code",
   "execution_count": 36,
   "metadata": {
    "collapsed": true
   },
   "outputs": [],
   "source": [
    "AFrame2.to_csv('../test_score.csv')"
   ]
  },
  {
   "cell_type": "code",
   "execution_count": null,
   "metadata": {
    "collapsed": true
   },
   "outputs": [],
   "source": []
  }
 ],
 "metadata": {
  "kernelspec": {
   "display_name": "Python 3",
   "language": "python",
   "name": "python3"
  },
  "language_info": {
   "codemirror_mode": {
    "name": "ipython",
    "version": 3
   },
   "file_extension": ".py",
   "mimetype": "text/x-python",
   "name": "python",
   "nbconvert_exporter": "python",
   "pygments_lexer": "ipython3",
   "version": "3.6.1"
  }
 },
 "nbformat": 4,
 "nbformat_minor": 2
}
