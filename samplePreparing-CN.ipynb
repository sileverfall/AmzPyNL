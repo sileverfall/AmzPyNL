{
 "cells": [
  {
   "cell_type": "code",
   "execution_count": 1,
   "metadata": {
    "collapsed": true
   },
   "outputs": [],
   "source": [
    "import time            \n",
    "import re            \n",
    "import os    \n",
    "import sys  \n",
    "import codecs  \n",
    "import shutil  \n",
    "import numpy as np  \n",
    "import matplotlib  \n",
    "import scipy  \n",
    "import pandas as pd\n",
    "import matplotlib.pyplot as plt  \n",
    "from sklearn import feature_extraction    \n",
    "from sklearn.feature_extraction.text import TfidfTransformer    \n",
    "from sklearn.feature_extraction.text import CountVectorizer  \n",
    "from sklearn.feature_extraction.text import HashingVectorizer"
   ]
  },
  {
   "cell_type": "code",
   "execution_count": 2,
   "metadata": {
    "collapsed": true
   },
   "outputs": [],
   "source": [
    "#一个群集\n",
    "term1 = pd.read_csv('../SEI/CN/C1/pre/term.csv',header=None)"
   ]
  },
  {
   "cell_type": "code",
   "execution_count": 3,
   "metadata": {
    "collapsed": true
   },
   "outputs": [],
   "source": [
    "termMatrix = term1.values"
   ]
  },
  {
   "cell_type": "code",
   "execution_count": 4,
   "metadata": {
    "collapsed": true
   },
   "outputs": [],
   "source": [
    "#TF\n",
    "TF = pd.read_csv('../SEI/CN/C1/pre/TF.csv',header=None)\n",
    "TFMatrix = TF.values"
   ]
  },
  {
   "cell_type": "code",
   "execution_count": 5,
   "metadata": {
    "collapsed": true
   },
   "outputs": [],
   "source": [
    "TFMatrix = TFMatrix.T"
   ]
  },
  {
   "cell_type": "code",
   "execution_count": 6,
   "metadata": {},
   "outputs": [],
   "source": [
    "#RF\n",
    "RF = pd.read_csv('../SEI/CN/C1/pre/RF.csv',header=None)\n",
    "RFMatrix = RF.values"
   ]
  },
  {
   "cell_type": "code",
   "execution_count": 7,
   "metadata": {
    "scrolled": true
   },
   "outputs": [
    {
     "data": {
      "text/plain": [
       "65"
      ]
     },
     "execution_count": 7,
     "metadata": {},
     "output_type": "execute_result"
    }
   ],
   "source": [
    "#质地\n",
    "t_word = open('./dic/CNattri/texture.txt').read().split('\\t')\n",
    "len(t_word)"
   ]
  },
  {
   "cell_type": "code",
   "execution_count": 8,
   "metadata": {},
   "outputs": [
    {
     "data": {
      "text/plain": [
       "45"
      ]
     },
     "execution_count": 8,
     "metadata": {},
     "output_type": "execute_result"
    }
   ],
   "source": [
    "#外观\n",
    "out_word = open('./dic/CNattri/outlook.txt').read().split('\\t')\n",
    "out_word\n",
    "len(out_word)"
   ]
  },
  {
   "cell_type": "code",
   "execution_count": 9,
   "metadata": {},
   "outputs": [
    {
     "data": {
      "text/plain": [
       "47"
      ]
     },
     "execution_count": 9,
     "metadata": {},
     "output_type": "execute_result"
    }
   ],
   "source": [
    "#功能\n",
    "f_word = open('./dic/CNattri/function.txt').read().split('\\t')\n",
    "len(f_word)\n"
   ]
  },
  {
   "cell_type": "code",
   "execution_count": 10,
   "metadata": {},
   "outputs": [
    {
     "data": {
      "text/plain": [
       "14"
      ]
     },
     "execution_count": 10,
     "metadata": {},
     "output_type": "execute_result"
    }
   ],
   "source": [
    "#耐用\n",
    "old_word = open('./dic/CNattri/old.txt').read().split('\\t')\n",
    "len(old_word)"
   ]
  },
  {
   "cell_type": "code",
   "execution_count": 11,
   "metadata": {},
   "outputs": [
    {
     "data": {
      "text/plain": [
       "53"
      ]
     },
     "execution_count": 11,
     "metadata": {},
     "output_type": "execute_result"
    }
   ],
   "source": [
    "#物流\n",
    "l_word = open('./dic/CNattri/logistics.txt').read().split('\\t')\n",
    "len(l_word)"
   ]
  },
  {
   "cell_type": "code",
   "execution_count": 12,
   "metadata": {},
   "outputs": [
    {
     "data": {
      "text/plain": [
       "48"
      ]
     },
     "execution_count": 12,
     "metadata": {},
     "output_type": "execute_result"
    }
   ],
   "source": [
    "#网站内容\n",
    "web_word = open('./dic/CNattri/website.txt').read().split('\\t')\n",
    "len(web_word)"
   ]
  },
  {
   "cell_type": "code",
   "execution_count": 13,
   "metadata": {},
   "outputs": [
    {
     "data": {
      "text/plain": [
       "51"
      ]
     },
     "execution_count": 13,
     "metadata": {},
     "output_type": "execute_result"
    }
   ],
   "source": [
    "#品牌\n",
    "brand_word = open('./dic/CNattri/brand.txt').read().split('\\t')\n",
    "len(brand_word)"
   ]
  },
  {
   "cell_type": "code",
   "execution_count": 14,
   "metadata": {},
   "outputs": [
    {
     "data": {
      "text/plain": [
       "64"
      ]
     },
     "execution_count": 14,
     "metadata": {},
     "output_type": "execute_result"
    }
   ],
   "source": [
    "#价格\n",
    "price_word = open('./dic/CNattri/price.txt').read().split('\\t')\n",
    "len(price_word)"
   ]
  },
  {
   "cell_type": "code",
   "execution_count": 15,
   "metadata": {
    "scrolled": false
   },
   "outputs": [
    {
     "data": {
      "text/plain": [
       "array([list([' 质量', ' 精致', ' 做工', ' 材质']), list([' 颜色', ' 设计', ' 细节']),\n",
       "       list([]), list([]), list([' 商场']), list([' 活动']), list([' 亚马逊']),\n",
       "       list([' 价格', ' 划算'])], dtype=object)"
      ]
     },
     "execution_count": 15,
     "metadata": {},
     "output_type": "execute_result"
    }
   ],
   "source": [
    "Count = []\n",
    "count = []\n",
    "score = []\n",
    "Score =[]\n",
    "T=[]\n",
    "Term = []\n",
    "TF=[]\n",
    "tf=[]\n",
    "i=0\n",
    "for i in range(0,len(termMatrix)) :\n",
    "    \n",
    "    tTF=0\n",
    "    oTF=0\n",
    "    fTF=0\n",
    "    uTF=0\n",
    "    lTF=0\n",
    "    wTF=0\n",
    "    bTF=0\n",
    "    pTF=0\n",
    "    \n",
    "    texture = 0\n",
    "    outlook = 0\n",
    "    function = 0\n",
    "    use_old = 0\n",
    "    logistics = 0\n",
    "    website = 0\n",
    "    brand = 0\n",
    "    price = 0\n",
    "   \n",
    "    t=0\n",
    "    o=0\n",
    "    f=0\n",
    "    u=0\n",
    "    lo=0\n",
    "    w=0\n",
    "    b=0\n",
    "    p=0\n",
    "    \n",
    "    term = termMatrix[i]\n",
    "    T=[]\n",
    "    O=[]\n",
    "    F=[]\n",
    "    U=[]\n",
    "    L=[]\n",
    "    W=[]\n",
    "    B=[]\n",
    "    P=[]\n",
    "    for l in range(0,len(term)) :\n",
    "        \n",
    "        if term[l] in t_word:\n",
    "            texture += float(RFMatrix[i][l])\n",
    "            tTF += float(TFMatrix[i][l])\n",
    "            t +=1\n",
    "            T.append(term[l])\n",
    "\n",
    "        elif term[l] in out_word:\n",
    "            outlook +=  float(RFMatrix[i][l])\n",
    "            oTF += float(TFMatrix[i][l])\n",
    "            o +=1\n",
    "            O.append(term[l])\n",
    "\n",
    "        elif term[l] in f_word:\n",
    "            function +=  float(RFMatrix[i][l])\n",
    "            fTF += float(TFMatrix[i][l])\n",
    "            f+=1\n",
    "            F.append(term[l])\n",
    "\n",
    "        elif term[l] in old_word:\n",
    "            use_old +=  float(RFMatrix[i][l])\n",
    "            uTF += float(TFMatrix[i][l])\n",
    "            u+=1\n",
    "            U.append(term[l])\n",
    "\n",
    "        elif term[l] in l_word:\n",
    "            logistics +=  float(RFMatrix[i][l])\n",
    "            lTF += float(TFMatrix[i][l])\n",
    "            lo+=1\n",
    "            L.append(term[l])\n",
    "\n",
    "        elif term[l] in web_word:\n",
    "            website +=  float(RFMatrix[i][l])\n",
    "            wTF+= float(TFMatrix[i][l])\n",
    "            w+=1\n",
    "            W.append(term[l])\n",
    "\n",
    "        elif term[l] in brand_word:\n",
    "            brand +=  float(RFMatrix[i][l])\n",
    "            bTF+= float(TFMatrix[i][l])\n",
    "            B.append(term[l])\n",
    "            b+=1\n",
    "\n",
    "        elif term[l] in price_word:\n",
    "            price +=  float(RFMatrix[i][l])\n",
    "            pTF+= float(TFMatrix[i][l])\n",
    "            P.append(term[l])\n",
    "        score = ([texture,outlook,function,use_old,logistics,website,brand,price])\n",
    "        tf = ([tTF,oTF,fTF,uTF,lTF,wTF,bTF,pTF])\n",
    "        count = ([t,o,f,u,lo,w,b,p])\n",
    "    T=([T,O,F,U,L,W,B,P])\n",
    "# #         print(T)\n",
    "    TF.append(tf)\n",
    "    Count.append(count)\n",
    "    Score.append(score)\n",
    "    Term.append(T)\n",
    "ATF = np.array(TF)\n",
    "ACount = np.array(Count)\n",
    "ATerm = np.array(Term)\n",
    "# print(Score)\n",
    "Ascore = np.array(Score)\n",
    "# print('++++++++++++++++++++++++++++++++')\n",
    "# # print(Ascore)\n",
    "ATerm[2]\n",
    "# Ascore"
   ]
  },
  {
   "cell_type": "code",
   "execution_count": 16,
   "metadata": {},
   "outputs": [
    {
     "data": {
      "text/plain": [
       "(10, 8)"
      ]
     },
     "execution_count": 16,
     "metadata": {},
     "output_type": "execute_result"
    }
   ],
   "source": [
    "ATF.shape"
   ]
  },
  {
   "cell_type": "code",
   "execution_count": 17,
   "metadata": {},
   "outputs": [
    {
     "data": {
      "text/plain": [
       "(10, 8)"
      ]
     },
     "execution_count": 17,
     "metadata": {},
     "output_type": "execute_result"
    }
   ],
   "source": [
    "ACount.shape"
   ]
  },
  {
   "cell_type": "code",
   "execution_count": 18,
   "metadata": {
    "scrolled": true
   },
   "outputs": [
    {
     "data": {
      "text/plain": [
       "(10, 8)"
      ]
     },
     "execution_count": 18,
     "metadata": {},
     "output_type": "execute_result"
    }
   ],
   "source": [
    "ATerm.shape"
   ]
  },
  {
   "cell_type": "code",
   "execution_count": 19,
   "metadata": {
    "scrolled": true
   },
   "outputs": [
    {
     "data": {
      "text/plain": [
       "(10, 8)"
      ]
     },
     "execution_count": 19,
     "metadata": {},
     "output_type": "execute_result"
    }
   ],
   "source": [
    "Ascore.shape"
   ]
  },
  {
   "cell_type": "code",
   "execution_count": 20,
   "metadata": {},
   "outputs": [
    {
     "data": {
      "text/html": [
       "<div>\n",
       "<style>\n",
       "    .dataframe thead tr:only-child th {\n",
       "        text-align: right;\n",
       "    }\n",
       "\n",
       "    .dataframe thead th {\n",
       "        text-align: left;\n",
       "    }\n",
       "\n",
       "    .dataframe tbody tr th {\n",
       "        vertical-align: top;\n",
       "    }\n",
       "</style>\n",
       "<table border=\"1\" class=\"dataframe\">\n",
       "  <thead>\n",
       "    <tr style=\"text-align: right;\">\n",
       "      <th></th>\n",
       "      <th>质地</th>\n",
       "      <th>外观</th>\n",
       "      <th>功能</th>\n",
       "      <th>耐用性</th>\n",
       "      <th>物流</th>\n",
       "      <th>品牌</th>\n",
       "      <th>网站</th>\n",
       "      <th>价格</th>\n",
       "    </tr>\n",
       "  </thead>\n",
       "  <tbody>\n",
       "    <tr>\n",
       "      <th>0</th>\n",
       "      <td>0.68</td>\n",
       "      <td>0.46</td>\n",
       "      <td>0.0</td>\n",
       "      <td>0.0</td>\n",
       "      <td>0.000000</td>\n",
       "      <td>0.269231</td>\n",
       "      <td>0.000000</td>\n",
       "      <td>0.07</td>\n",
       "    </tr>\n",
       "    <tr>\n",
       "      <th>1</th>\n",
       "      <td>0.25</td>\n",
       "      <td>0.58</td>\n",
       "      <td>0.0</td>\n",
       "      <td>0.0</td>\n",
       "      <td>0.000000</td>\n",
       "      <td>0.051282</td>\n",
       "      <td>0.126316</td>\n",
       "      <td>0.28</td>\n",
       "    </tr>\n",
       "    <tr>\n",
       "      <th>2</th>\n",
       "      <td>0.60</td>\n",
       "      <td>0.25</td>\n",
       "      <td>0.0</td>\n",
       "      <td>0.0</td>\n",
       "      <td>0.079545</td>\n",
       "      <td>0.282051</td>\n",
       "      <td>0.010526</td>\n",
       "      <td>0.19</td>\n",
       "    </tr>\n",
       "    <tr>\n",
       "      <th>3</th>\n",
       "      <td>0.28</td>\n",
       "      <td>0.25</td>\n",
       "      <td>0.0</td>\n",
       "      <td>0.0</td>\n",
       "      <td>0.000000</td>\n",
       "      <td>0.115385</td>\n",
       "      <td>0.000000</td>\n",
       "      <td>0.07</td>\n",
       "    </tr>\n",
       "    <tr>\n",
       "      <th>4</th>\n",
       "      <td>0.50</td>\n",
       "      <td>0.26</td>\n",
       "      <td>0.0</td>\n",
       "      <td>0.0</td>\n",
       "      <td>0.000000</td>\n",
       "      <td>0.128205</td>\n",
       "      <td>0.000000</td>\n",
       "      <td>0.39</td>\n",
       "    </tr>\n",
       "    <tr>\n",
       "      <th>5</th>\n",
       "      <td>0.24</td>\n",
       "      <td>0.38</td>\n",
       "      <td>0.0</td>\n",
       "      <td>0.0</td>\n",
       "      <td>0.000000</td>\n",
       "      <td>0.000000</td>\n",
       "      <td>0.200000</td>\n",
       "      <td>0.42</td>\n",
       "    </tr>\n",
       "    <tr>\n",
       "      <th>6</th>\n",
       "      <td>0.30</td>\n",
       "      <td>0.21</td>\n",
       "      <td>0.0</td>\n",
       "      <td>0.0</td>\n",
       "      <td>0.000000</td>\n",
       "      <td>0.102564</td>\n",
       "      <td>0.000000</td>\n",
       "      <td>0.27</td>\n",
       "    </tr>\n",
       "    <tr>\n",
       "      <th>7</th>\n",
       "      <td>0.42</td>\n",
       "      <td>0.08</td>\n",
       "      <td>0.0</td>\n",
       "      <td>0.0</td>\n",
       "      <td>0.000000</td>\n",
       "      <td>0.115385</td>\n",
       "      <td>0.000000</td>\n",
       "      <td>0.51</td>\n",
       "    </tr>\n",
       "    <tr>\n",
       "      <th>8</th>\n",
       "      <td>0.28</td>\n",
       "      <td>0.00</td>\n",
       "      <td>0.0</td>\n",
       "      <td>0.0</td>\n",
       "      <td>0.000000</td>\n",
       "      <td>0.128205</td>\n",
       "      <td>0.031579</td>\n",
       "      <td>0.37</td>\n",
       "    </tr>\n",
       "    <tr>\n",
       "      <th>9</th>\n",
       "      <td>0.51</td>\n",
       "      <td>0.33</td>\n",
       "      <td>0.0</td>\n",
       "      <td>0.0</td>\n",
       "      <td>0.181818</td>\n",
       "      <td>0.000000</td>\n",
       "      <td>0.178947</td>\n",
       "      <td>0.18</td>\n",
       "    </tr>\n",
       "  </tbody>\n",
       "</table>\n",
       "</div>"
      ],
      "text/plain": [
       "     质地    外观   功能  耐用性        物流        品牌        网站    价格\n",
       "0  0.68  0.46  0.0  0.0  0.000000  0.269231  0.000000  0.07\n",
       "1  0.25  0.58  0.0  0.0  0.000000  0.051282  0.126316  0.28\n",
       "2  0.60  0.25  0.0  0.0  0.079545  0.282051  0.010526  0.19\n",
       "3  0.28  0.25  0.0  0.0  0.000000  0.115385  0.000000  0.07\n",
       "4  0.50  0.26  0.0  0.0  0.000000  0.128205  0.000000  0.39\n",
       "5  0.24  0.38  0.0  0.0  0.000000  0.000000  0.200000  0.42\n",
       "6  0.30  0.21  0.0  0.0  0.000000  0.102564  0.000000  0.27\n",
       "7  0.42  0.08  0.0  0.0  0.000000  0.115385  0.000000  0.51\n",
       "8  0.28  0.00  0.0  0.0  0.000000  0.128205  0.031579  0.37\n",
       "9  0.51  0.33  0.0  0.0  0.181818  0.000000  0.178947  0.18"
      ]
     },
     "execution_count": 20,
     "metadata": {},
     "output_type": "execute_result"
    }
   ],
   "source": [
    "#RF相對詞頻\n",
    "Frame = pd.DataFrame(Ascore,columns=['质地','外观','功能','耐用性','物流','品牌','网站','价格'])\n",
    "Frame"
   ]
  },
  {
   "cell_type": "code",
   "execution_count": 21,
   "metadata": {
    "collapsed": true
   },
   "outputs": [],
   "source": [
    "Frame.to_csv('../SEI/CN/C1/RF_score.csv')"
   ]
  },
  {
   "cell_type": "code",
   "execution_count": 22,
   "metadata": {
    "collapsed": true
   },
   "outputs": [],
   "source": [
    "TATerm = ATerm.reshape(8,10)"
   ]
  },
  {
   "cell_type": "code",
   "execution_count": 23,
   "metadata": {
    "collapsed": true
   },
   "outputs": [],
   "source": [
    "AFrame = pd.DataFrame(ATerm,columns=['质地','外观','功能','耐用性','物流','品牌','网站','价格'])"
   ]
  },
  {
   "cell_type": "code",
   "execution_count": 24,
   "metadata": {},
   "outputs": [
    {
     "data": {
      "text/html": [
       "<div>\n",
       "<style>\n",
       "    .dataframe thead tr:only-child th {\n",
       "        text-align: right;\n",
       "    }\n",
       "\n",
       "    .dataframe thead th {\n",
       "        text-align: left;\n",
       "    }\n",
       "\n",
       "    .dataframe tbody tr th {\n",
       "        vertical-align: top;\n",
       "    }\n",
       "</style>\n",
       "<table border=\"1\" class=\"dataframe\">\n",
       "  <thead>\n",
       "    <tr style=\"text-align: right;\">\n",
       "      <th></th>\n",
       "      <th>质地</th>\n",
       "      <th>外观</th>\n",
       "      <th>功能</th>\n",
       "      <th>耐用性</th>\n",
       "      <th>物流</th>\n",
       "      <th>品牌</th>\n",
       "      <th>网站</th>\n",
       "      <th>价格</th>\n",
       "    </tr>\n",
       "  </thead>\n",
       "  <tbody>\n",
       "    <tr>\n",
       "      <th>0</th>\n",
       "      <td>[ 质量,  精致,  材质,  做工]</td>\n",
       "      <td>[ 细节,  设计,  颜色]</td>\n",
       "      <td>[]</td>\n",
       "      <td>[]</td>\n",
       "      <td>[]</td>\n",
       "      <td>[ 活动]</td>\n",
       "      <td>[]</td>\n",
       "      <td>[ 价格,  不值]</td>\n",
       "    </tr>\n",
       "    <tr>\n",
       "      <th>1</th>\n",
       "      <td>[ 精致,  质量,  做工]</td>\n",
       "      <td>[ 逼真,  细节,  设计,  颜色]</td>\n",
       "      <td>[]</td>\n",
       "      <td>[]</td>\n",
       "      <td>[]</td>\n",
       "      <td>[ 活动]</td>\n",
       "      <td>[ 亚马逊]</td>\n",
       "      <td>[ 价格,  不值]</td>\n",
       "    </tr>\n",
       "    <tr>\n",
       "      <th>2</th>\n",
       "      <td>[ 质量,  精致,  做工,  材质]</td>\n",
       "      <td>[ 颜色,  设计,  细节]</td>\n",
       "      <td>[]</td>\n",
       "      <td>[]</td>\n",
       "      <td>[ 商场]</td>\n",
       "      <td>[ 活动]</td>\n",
       "      <td>[ 亚马逊]</td>\n",
       "      <td>[ 价格,  划算]</td>\n",
       "    </tr>\n",
       "    <tr>\n",
       "      <th>3</th>\n",
       "      <td>[ 精致,  做工,  质量]</td>\n",
       "      <td>[ 逼真,  细节]</td>\n",
       "      <td>[]</td>\n",
       "      <td>[]</td>\n",
       "      <td>[]</td>\n",
       "      <td>[ 活动]</td>\n",
       "      <td>[]</td>\n",
       "      <td>[ 不值]</td>\n",
       "    </tr>\n",
       "    <tr>\n",
       "      <th>4</th>\n",
       "      <td>[ 质量,  精致,  做工]</td>\n",
       "      <td>[ 细节,  逼真]</td>\n",
       "      <td>[]</td>\n",
       "      <td>[]</td>\n",
       "      <td>[]</td>\n",
       "      <td>[ 活动]</td>\n",
       "      <td>[]</td>\n",
       "      <td>[ 划算,  不值,  价格]</td>\n",
       "    </tr>\n",
       "    <tr>\n",
       "      <th>5</th>\n",
       "      <td>[ 质量,  做工]</td>\n",
       "      <td>[ 设计,  细节,  颜色,  逼真]</td>\n",
       "      <td>[]</td>\n",
       "      <td>[]</td>\n",
       "      <td>[]</td>\n",
       "      <td>[]</td>\n",
       "      <td>[ 亚马逊]</td>\n",
       "      <td>[ 价格,  不值,  划算]</td>\n",
       "    </tr>\n",
       "    <tr>\n",
       "      <th>6</th>\n",
       "      <td>[ 做工,  精致]</td>\n",
       "      <td>[ 逼真,  细节]</td>\n",
       "      <td>[]</td>\n",
       "      <td>[]</td>\n",
       "      <td>[]</td>\n",
       "      <td>[ 活动]</td>\n",
       "      <td>[]</td>\n",
       "      <td>[ 不值,  价格]</td>\n",
       "    </tr>\n",
       "    <tr>\n",
       "      <th>7</th>\n",
       "      <td>[ 精致,  质量,  做工]</td>\n",
       "      <td>[ 细节,  颜色]</td>\n",
       "      <td>[]</td>\n",
       "      <td>[]</td>\n",
       "      <td>[]</td>\n",
       "      <td>[ 活动]</td>\n",
       "      <td>[]</td>\n",
       "      <td>[ 不值,  划算,  价格]</td>\n",
       "    </tr>\n",
       "    <tr>\n",
       "      <th>8</th>\n",
       "      <td>[ 质量,  精致,  做工]</td>\n",
       "      <td>[]</td>\n",
       "      <td>[]</td>\n",
       "      <td>[]</td>\n",
       "      <td>[]</td>\n",
       "      <td>[ 活动]</td>\n",
       "      <td>[ 亚马逊]</td>\n",
       "      <td>[ 价格,  不值]</td>\n",
       "    </tr>\n",
       "    <tr>\n",
       "      <th>9</th>\n",
       "      <td>[ 材质,  质量,  做工]</td>\n",
       "      <td>[ 逼真,  细节]</td>\n",
       "      <td>[]</td>\n",
       "      <td>[]</td>\n",
       "      <td>[ 商场]</td>\n",
       "      <td>[]</td>\n",
       "      <td>[ 亚马逊]</td>\n",
       "      <td>[ 价格,  不值,  划算]</td>\n",
       "    </tr>\n",
       "  </tbody>\n",
       "</table>\n",
       "</div>"
      ],
      "text/plain": [
       "                     质地                    外观  功能 耐用性     物流     品牌      网站  \\\n",
       "0  [ 质量,  精致,  材质,  做工]       [ 细节,  设计,  颜色]  []  []     []  [ 活动]      []   \n",
       "1       [ 精致,  质量,  做工]  [ 逼真,  细节,  设计,  颜色]  []  []     []  [ 活动]  [ 亚马逊]   \n",
       "2  [ 质量,  精致,  做工,  材质]       [ 颜色,  设计,  细节]  []  []  [ 商场]  [ 活动]  [ 亚马逊]   \n",
       "3       [ 精致,  做工,  质量]            [ 逼真,  细节]  []  []     []  [ 活动]      []   \n",
       "4       [ 质量,  精致,  做工]            [ 细节,  逼真]  []  []     []  [ 活动]      []   \n",
       "5            [ 质量,  做工]  [ 设计,  细节,  颜色,  逼真]  []  []     []     []  [ 亚马逊]   \n",
       "6            [ 做工,  精致]            [ 逼真,  细节]  []  []     []  [ 活动]      []   \n",
       "7       [ 精致,  质量,  做工]            [ 细节,  颜色]  []  []     []  [ 活动]      []   \n",
       "8       [ 质量,  精致,  做工]                    []  []  []     []  [ 活动]  [ 亚马逊]   \n",
       "9       [ 材质,  质量,  做工]            [ 逼真,  细节]  []  []  [ 商场]     []  [ 亚马逊]   \n",
       "\n",
       "                价格  \n",
       "0       [ 价格,  不值]  \n",
       "1       [ 价格,  不值]  \n",
       "2       [ 价格,  划算]  \n",
       "3            [ 不值]  \n",
       "4  [ 划算,  不值,  价格]  \n",
       "5  [ 价格,  不值,  划算]  \n",
       "6       [ 不值,  价格]  \n",
       "7  [ 不值,  划算,  价格]  \n",
       "8       [ 价格,  不值]  \n",
       "9  [ 价格,  不值,  划算]  "
      ]
     },
     "execution_count": 24,
     "metadata": {},
     "output_type": "execute_result"
    }
   ],
   "source": [
    "#Term\n",
    "AFrame"
   ]
  },
  {
   "cell_type": "code",
   "execution_count": 25,
   "metadata": {
    "collapsed": true
   },
   "outputs": [],
   "source": [
    "AFrame.to_csv('../SEI/CN/C1/term_cluster.csv')"
   ]
  },
  {
   "cell_type": "code",
   "execution_count": 26,
   "metadata": {
    "collapsed": true
   },
   "outputs": [],
   "source": [
    "ACframe = pd.DataFrame(ACount,columns=['质地','外观','功能','耐用性','物流','品牌','网站','价格'])"
   ]
  },
  {
   "cell_type": "code",
   "execution_count": 27,
   "metadata": {},
   "outputs": [
    {
     "data": {
      "text/html": [
       "<div>\n",
       "<style>\n",
       "    .dataframe thead tr:only-child th {\n",
       "        text-align: right;\n",
       "    }\n",
       "\n",
       "    .dataframe thead th {\n",
       "        text-align: left;\n",
       "    }\n",
       "\n",
       "    .dataframe tbody tr th {\n",
       "        vertical-align: top;\n",
       "    }\n",
       "</style>\n",
       "<table border=\"1\" class=\"dataframe\">\n",
       "  <thead>\n",
       "    <tr style=\"text-align: right;\">\n",
       "      <th></th>\n",
       "      <th>质地</th>\n",
       "      <th>外观</th>\n",
       "      <th>功能</th>\n",
       "      <th>耐用性</th>\n",
       "      <th>物流</th>\n",
       "      <th>品牌</th>\n",
       "      <th>网站</th>\n",
       "      <th>价格</th>\n",
       "    </tr>\n",
       "  </thead>\n",
       "  <tbody>\n",
       "    <tr>\n",
       "      <th>0</th>\n",
       "      <td>4</td>\n",
       "      <td>3</td>\n",
       "      <td>0</td>\n",
       "      <td>0</td>\n",
       "      <td>0</td>\n",
       "      <td>1</td>\n",
       "      <td>0</td>\n",
       "      <td>0</td>\n",
       "    </tr>\n",
       "    <tr>\n",
       "      <th>1</th>\n",
       "      <td>3</td>\n",
       "      <td>4</td>\n",
       "      <td>0</td>\n",
       "      <td>0</td>\n",
       "      <td>0</td>\n",
       "      <td>1</td>\n",
       "      <td>1</td>\n",
       "      <td>0</td>\n",
       "    </tr>\n",
       "    <tr>\n",
       "      <th>2</th>\n",
       "      <td>4</td>\n",
       "      <td>3</td>\n",
       "      <td>0</td>\n",
       "      <td>0</td>\n",
       "      <td>1</td>\n",
       "      <td>1</td>\n",
       "      <td>1</td>\n",
       "      <td>0</td>\n",
       "    </tr>\n",
       "    <tr>\n",
       "      <th>3</th>\n",
       "      <td>3</td>\n",
       "      <td>2</td>\n",
       "      <td>0</td>\n",
       "      <td>0</td>\n",
       "      <td>0</td>\n",
       "      <td>1</td>\n",
       "      <td>0</td>\n",
       "      <td>0</td>\n",
       "    </tr>\n",
       "    <tr>\n",
       "      <th>4</th>\n",
       "      <td>3</td>\n",
       "      <td>2</td>\n",
       "      <td>0</td>\n",
       "      <td>0</td>\n",
       "      <td>0</td>\n",
       "      <td>1</td>\n",
       "      <td>0</td>\n",
       "      <td>0</td>\n",
       "    </tr>\n",
       "    <tr>\n",
       "      <th>5</th>\n",
       "      <td>2</td>\n",
       "      <td>4</td>\n",
       "      <td>0</td>\n",
       "      <td>0</td>\n",
       "      <td>0</td>\n",
       "      <td>0</td>\n",
       "      <td>1</td>\n",
       "      <td>0</td>\n",
       "    </tr>\n",
       "    <tr>\n",
       "      <th>6</th>\n",
       "      <td>2</td>\n",
       "      <td>2</td>\n",
       "      <td>0</td>\n",
       "      <td>0</td>\n",
       "      <td>0</td>\n",
       "      <td>1</td>\n",
       "      <td>0</td>\n",
       "      <td>0</td>\n",
       "    </tr>\n",
       "    <tr>\n",
       "      <th>7</th>\n",
       "      <td>3</td>\n",
       "      <td>2</td>\n",
       "      <td>0</td>\n",
       "      <td>0</td>\n",
       "      <td>0</td>\n",
       "      <td>1</td>\n",
       "      <td>0</td>\n",
       "      <td>0</td>\n",
       "    </tr>\n",
       "    <tr>\n",
       "      <th>8</th>\n",
       "      <td>3</td>\n",
       "      <td>0</td>\n",
       "      <td>0</td>\n",
       "      <td>0</td>\n",
       "      <td>0</td>\n",
       "      <td>1</td>\n",
       "      <td>1</td>\n",
       "      <td>0</td>\n",
       "    </tr>\n",
       "    <tr>\n",
       "      <th>9</th>\n",
       "      <td>3</td>\n",
       "      <td>2</td>\n",
       "      <td>0</td>\n",
       "      <td>0</td>\n",
       "      <td>1</td>\n",
       "      <td>0</td>\n",
       "      <td>1</td>\n",
       "      <td>0</td>\n",
       "    </tr>\n",
       "  </tbody>\n",
       "</table>\n",
       "</div>"
      ],
      "text/plain": [
       "   质地  外观  功能  耐用性  物流  品牌  网站  价格\n",
       "0   4   3   0    0   0   1   0   0\n",
       "1   3   4   0    0   0   1   1   0\n",
       "2   4   3   0    0   1   1   1   0\n",
       "3   3   2   0    0   0   1   0   0\n",
       "4   3   2   0    0   0   1   0   0\n",
       "5   2   4   0    0   0   0   1   0\n",
       "6   2   2   0    0   0   1   0   0\n",
       "7   3   2   0    0   0   1   0   0\n",
       "8   3   0   0    0   0   1   1   0\n",
       "9   3   2   0    0   1   0   1   0"
      ]
     },
     "execution_count": 27,
     "metadata": {},
     "output_type": "execute_result"
    }
   ],
   "source": [
    "#Count\n",
    "ACframe "
   ]
  },
  {
   "cell_type": "code",
   "execution_count": 28,
   "metadata": {
    "collapsed": true
   },
   "outputs": [],
   "source": [
    "ACframe.to_csv('../SEI/CN/C1/count.csv')"
   ]
  },
  {
   "cell_type": "code",
   "execution_count": 29,
   "metadata": {
    "collapsed": true
   },
   "outputs": [],
   "source": [
    "ATframe = pd.DataFrame(ATF,columns=['质地','外观','功能','耐用性','物流','品牌','网站','价格'])"
   ]
  },
  {
   "cell_type": "code",
   "execution_count": 30,
   "metadata": {},
   "outputs": [
    {
     "data": {
      "text/html": [
       "<div>\n",
       "<style>\n",
       "    .dataframe thead tr:only-child th {\n",
       "        text-align: right;\n",
       "    }\n",
       "\n",
       "    .dataframe thead th {\n",
       "        text-align: left;\n",
       "    }\n",
       "\n",
       "    .dataframe tbody tr th {\n",
       "        vertical-align: top;\n",
       "    }\n",
       "</style>\n",
       "<table border=\"1\" class=\"dataframe\">\n",
       "  <thead>\n",
       "    <tr style=\"text-align: right;\">\n",
       "      <th></th>\n",
       "      <th>质地</th>\n",
       "      <th>外观</th>\n",
       "      <th>功能</th>\n",
       "      <th>耐用性</th>\n",
       "      <th>物流</th>\n",
       "      <th>品牌</th>\n",
       "      <th>网站</th>\n",
       "      <th>价格</th>\n",
       "    </tr>\n",
       "  </thead>\n",
       "  <tbody>\n",
       "    <tr>\n",
       "      <th>0</th>\n",
       "      <td>0.68</td>\n",
       "      <td>0.46</td>\n",
       "      <td>0.0</td>\n",
       "      <td>0.0</td>\n",
       "      <td>0.00</td>\n",
       "      <td>0.21</td>\n",
       "      <td>0.00</td>\n",
       "      <td>0.07</td>\n",
       "    </tr>\n",
       "    <tr>\n",
       "      <th>1</th>\n",
       "      <td>0.25</td>\n",
       "      <td>0.58</td>\n",
       "      <td>0.0</td>\n",
       "      <td>0.0</td>\n",
       "      <td>0.00</td>\n",
       "      <td>0.04</td>\n",
       "      <td>0.12</td>\n",
       "      <td>0.28</td>\n",
       "    </tr>\n",
       "    <tr>\n",
       "      <th>2</th>\n",
       "      <td>0.60</td>\n",
       "      <td>0.25</td>\n",
       "      <td>0.0</td>\n",
       "      <td>0.0</td>\n",
       "      <td>0.07</td>\n",
       "      <td>0.22</td>\n",
       "      <td>0.01</td>\n",
       "      <td>0.19</td>\n",
       "    </tr>\n",
       "    <tr>\n",
       "      <th>3</th>\n",
       "      <td>0.28</td>\n",
       "      <td>0.25</td>\n",
       "      <td>0.0</td>\n",
       "      <td>0.0</td>\n",
       "      <td>0.00</td>\n",
       "      <td>0.09</td>\n",
       "      <td>0.00</td>\n",
       "      <td>0.07</td>\n",
       "    </tr>\n",
       "    <tr>\n",
       "      <th>4</th>\n",
       "      <td>0.50</td>\n",
       "      <td>0.26</td>\n",
       "      <td>0.0</td>\n",
       "      <td>0.0</td>\n",
       "      <td>0.00</td>\n",
       "      <td>0.10</td>\n",
       "      <td>0.00</td>\n",
       "      <td>0.39</td>\n",
       "    </tr>\n",
       "    <tr>\n",
       "      <th>5</th>\n",
       "      <td>0.24</td>\n",
       "      <td>0.38</td>\n",
       "      <td>0.0</td>\n",
       "      <td>0.0</td>\n",
       "      <td>0.00</td>\n",
       "      <td>0.00</td>\n",
       "      <td>0.19</td>\n",
       "      <td>0.42</td>\n",
       "    </tr>\n",
       "    <tr>\n",
       "      <th>6</th>\n",
       "      <td>0.30</td>\n",
       "      <td>0.21</td>\n",
       "      <td>0.0</td>\n",
       "      <td>0.0</td>\n",
       "      <td>0.00</td>\n",
       "      <td>0.08</td>\n",
       "      <td>0.00</td>\n",
       "      <td>0.27</td>\n",
       "    </tr>\n",
       "    <tr>\n",
       "      <th>7</th>\n",
       "      <td>0.42</td>\n",
       "      <td>0.08</td>\n",
       "      <td>0.0</td>\n",
       "      <td>0.0</td>\n",
       "      <td>0.00</td>\n",
       "      <td>0.09</td>\n",
       "      <td>0.00</td>\n",
       "      <td>0.51</td>\n",
       "    </tr>\n",
       "    <tr>\n",
       "      <th>8</th>\n",
       "      <td>0.28</td>\n",
       "      <td>0.00</td>\n",
       "      <td>0.0</td>\n",
       "      <td>0.0</td>\n",
       "      <td>0.00</td>\n",
       "      <td>0.10</td>\n",
       "      <td>0.03</td>\n",
       "      <td>0.37</td>\n",
       "    </tr>\n",
       "    <tr>\n",
       "      <th>9</th>\n",
       "      <td>0.51</td>\n",
       "      <td>0.33</td>\n",
       "      <td>0.0</td>\n",
       "      <td>0.0</td>\n",
       "      <td>0.16</td>\n",
       "      <td>0.00</td>\n",
       "      <td>0.17</td>\n",
       "      <td>0.18</td>\n",
       "    </tr>\n",
       "  </tbody>\n",
       "</table>\n",
       "</div>"
      ],
      "text/plain": [
       "     质地    外观   功能  耐用性    物流    品牌    网站    价格\n",
       "0  0.68  0.46  0.0  0.0  0.00  0.21  0.00  0.07\n",
       "1  0.25  0.58  0.0  0.0  0.00  0.04  0.12  0.28\n",
       "2  0.60  0.25  0.0  0.0  0.07  0.22  0.01  0.19\n",
       "3  0.28  0.25  0.0  0.0  0.00  0.09  0.00  0.07\n",
       "4  0.50  0.26  0.0  0.0  0.00  0.10  0.00  0.39\n",
       "5  0.24  0.38  0.0  0.0  0.00  0.00  0.19  0.42\n",
       "6  0.30  0.21  0.0  0.0  0.00  0.08  0.00  0.27\n",
       "7  0.42  0.08  0.0  0.0  0.00  0.09  0.00  0.51\n",
       "8  0.28  0.00  0.0  0.0  0.00  0.10  0.03  0.37\n",
       "9  0.51  0.33  0.0  0.0  0.16  0.00  0.17  0.18"
      ]
     },
     "execution_count": 30,
     "metadata": {},
     "output_type": "execute_result"
    }
   ],
   "source": [
    "#TF詞頻\n",
    "ATframe "
   ]
  },
  {
   "cell_type": "code",
   "execution_count": 31,
   "metadata": {
    "collapsed": true
   },
   "outputs": [],
   "source": [
    "ATframe .to_csv('../SEI/CN/C1/TF.csv')"
   ]
  },
  {
   "cell_type": "code",
   "execution_count": null,
   "metadata": {
    "collapsed": true
   },
   "outputs": [],
   "source": []
  }
 ],
 "metadata": {
  "kernelspec": {
   "display_name": "Python 3",
   "language": "python",
   "name": "python3"
  },
  "language_info": {
   "codemirror_mode": {
    "name": "ipython",
    "version": 3
   },
   "file_extension": ".py",
   "mimetype": "text/x-python",
   "name": "python",
   "nbconvert_exporter": "python",
   "pygments_lexer": "ipython3",
   "version": "3.6.1"
  }
 },
 "nbformat": 4,
 "nbformat_minor": 2
}
