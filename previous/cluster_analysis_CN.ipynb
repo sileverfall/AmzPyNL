{
 "cells": [
  {
   "cell_type": "code",
   "execution_count": 1,
   "metadata": {
    "collapsed": true
   },
   "outputs": [],
   "source": [
    "import time            \n",
    "import re            \n",
    "import os    \n",
    "import sys  \n",
    "import codecs  \n",
    "import shutil  \n",
    "import numpy as np  \n",
    "import matplotlib  \n",
    "import scipy  \n",
    "import pandas as pd\n",
    "import matplotlib.pyplot as plt  \n",
    "from sklearn import feature_extraction    \n",
    "from sklearn.feature_extraction.text import TfidfTransformer    \n",
    "from sklearn.feature_extraction.text import CountVectorizer  \n",
    "from sklearn.feature_extraction.text import HashingVectorizer"
   ]
  },
  {
   "cell_type": "code",
   "execution_count": 62,
   "metadata": {
    "collapsed": true
   },
   "outputs": [],
   "source": [
    "# #結巴 匯入自己的詞典\n",
    "# jieba.set_dictionary('./dict/jieba_dict.txt.big')\n",
    "\n",
    "#停止詞字典stopwordset\n",
    "stopwordset = set()\n",
    "with open('./dic/stopwords.txt', 'r', encoding='utf-8') as sw:\n",
    "    for line in sw:\n",
    "        stopwordset.add(line.strip('\\n'))"
   ]
  },
  {
   "cell_type": "code",
   "execution_count": 70,
   "metadata": {},
   "outputs": [
    {
     "data": {
      "text/plain": [
       "'头可动，模型也很逼真|商品到达得很快，很不错~||||||||'"
      ]
     },
     "execution_count": 70,
     "metadata": {},
     "output_type": "execute_result"
    }
   ],
   "source": [
    "#一个商品\n",
    "review = open('../CN_20171130/pre/review.txt',encoding='utf-8').read().split('\\n')\n",
    "review[0]"
   ]
  },
  {
   "cell_type": "code",
   "execution_count": 71,
   "metadata": {
    "scrolled": true
   },
   "outputs": [
    {
     "data": {
      "text/plain": [
       "['头可动，模型也很逼真',\n",
       " '商品到达得很快，很不错~',\n",
       " '',\n",
       " '',\n",
       " '',\n",
       " '',\n",
       " '',\n",
       " '',\n",
       " '',\n",
       " '',\n",
       " '非常喜欢哦，卡斯利亚斯',\n",
       " 'Kaecilius头又大又重……很难站起来啊……正考虑要不要搞点双面胶粘到桌子上！还有这个是摇头款啦 头和身体是用弹簧连接的 所以 Funko脑子是坏掉了么……好变态的设计（不',\n",
       " '好东西！！！喜欢拔叔的必入！！！！而且非中国造！！！',\n",
       " '',\n",
       " '',\n",
       " '',\n",
       " '',\n",
       " '',\n",
       " '',\n",
       " '',\n",
       " '比较小，容组装，感觉还好吗',\n",
       " \"This is a present for my 3 years old son.  He got interested in it. But for myself, I love it very much. The set contains all details about a camping and each piece is designed exquisitely. I  can play it with my son in many ways. We can build up all the pieces and my son loves to put the sticker on the little one. Also, we can play with it as we are take camping and I can tell story with all the set.I love it. It's the best set that I have even as a adult. You never get boring with the little furniture and  kitchen appliances.\",\n",
       " '',\n",
       " '',\n",
       " '',\n",
       " '',\n",
       " '',\n",
       " '',\n",
       " '',\n",
       " '',\n",
       " '颜色和质量非常好，宝贝很喜欢',\n",
       " '这个很喜欢，送给女孩子的。很好。',\n",
       " '不值这个价  特别迷你啊',\n",
       " '质量不错，儿子爱玩，很好',\n",
       " '',\n",
       " '',\n",
       " '',\n",
       " '',\n",
       " '',\n",
       " '',\n",
       " '特别美！！头发做得超级精致！',\n",
       " '',\n",
       " '',\n",
       " '',\n",
       " '',\n",
       " '',\n",
       " '',\n",
       " '',\n",
       " '',\n",
       " '',\n",
       " '还不错 比淘宝便宜很多 东西本身其实不是特别好玩 但是造型还是比较吸引眼球的 总体来说还是比较喜欢的',\n",
       " '包装好随意，外包装都没有，盒子都挤瘪了。玩具的做工也很粗糙，很怀疑真假性。。。',\n",
       " '宝宝不怎么爱，但是我看着都好喜欢玩，哈哈哈哈',\n",
       " '夹子内侧像橡皮的固定物时间长了就挤成渣了',\n",
       " '',\n",
       " '',\n",
       " '',\n",
       " '',\n",
       " '',\n",
       " '',\n",
       " '买了一套，孩子很喜欢，每天洗澡玩儿',\n",
       " '整体不错，就是不知为何箱子打开里面是塑料保鲜膜缠裹包装玩具的，灯笼鱼艇顶部还有个去不掉的黑点',\n",
       " '质量很好，宝宝非常喜欢，玩得很开心。有活动很划算。送货速度也太快了。赞！',\n",
       " '儿子很喜欢东西不错洗澡时也可以玩',\n",
       " '做工还行，但好几个都站不住，娃娃玩了一次就不想再玩了',\n",
       " '特别好特别好，手脚还是柔软的，适合小孩子玩',\n",
       " '包装太不好了。连个箱子都没有',\n",
       " '质量好，孩子喜欢，比商场便宜',\n",
       " '非常好…女儿很喜欢…',\n",
       " '灯笼鱼艇很小，结构简单，前面的盖还容易掉，只值几十块，跟商场的完全不是一个档次，就算这是真货，也是网货，我们这里商场都不卖这款，商场的又大材质厚构造也复杂，当然价格也好几百，以后买东西前一定要默念三遍：一份价钱一分货！',\n",
       " '形象还原得不错，站得也挺稳。',\n",
       " '',\n",
       " '',\n",
       " '',\n",
       " '',\n",
       " '',\n",
       " '',\n",
       " '',\n",
       " '',\n",
       " '',\n",
       " '不错，果然比某宝的山寨要强很多………',\n",
       " '宝贝做工一般，上色不好，偏贵，天天的飞机前轮都不能动...',\n",
       " '很赞，不错，跟上次买的配套了，易客满发货比DHL还要快，太赞了',\n",
       " '',\n",
       " '',\n",
       " '',\n",
       " '',\n",
       " '',\n",
       " '',\n",
       " '',\n",
       " '这个很奇怪，和乐迪 小青 包警长不一样。明显不灵活，关节硬，一变就咔嚓咔嚓响，和其它的脆响不一样。这个很难操作，力度大点，腿就掉了。',\n",
       " '',\n",
       " '',\n",
       " '',\n",
       " '',\n",
       " '',\n",
       " '',\n",
       " '',\n",
       " '',\n",
       " '']"
      ]
     },
     "execution_count": 71,
     "metadata": {},
     "output_type": "execute_result"
    }
   ],
   "source": [
    "#一条评论\n",
    "Reviews=[]\n",
    "for rev in review:\n",
    "    a = rev.split('|')\n",
    "    if a !='':\n",
    "        Reviews += a \n",
    "Reviews[:100]"
   ]
  },
  {
   "cell_type": "code",
   "execution_count": 72,
   "metadata": {
    "scrolled": true
   },
   "outputs": [
    {
     "data": {
      "text/plain": [
       "6290"
      ]
     },
     "execution_count": 72,
     "metadata": {},
     "output_type": "execute_result"
    }
   ],
   "source": [
    "# 断词\n",
    "import jieba  \n",
    "import jieba.analyse  \n",
    "corpus=[]\n",
    "for review in Reviews:\n",
    "#     if review !='':\n",
    "    words=jieba.cut(review, cut_all=False)\n",
    "    pincut=\" \".join([word for word in words if word not in stopwordset and '\\u4e00' <= word and word <= '\\u9fff'])\n",
    "    corpus.append(pincut)\n",
    "# corpus =corpus[:-1]   \n",
    "len(corpus)"
   ]
  },
  {
   "cell_type": "code",
   "execution_count": 48,
   "metadata": {},
   "outputs": [
    {
     "data": {
      "text/plain": [
       "6290"
      ]
     },
     "execution_count": 48,
     "metadata": {},
     "output_type": "execute_result"
    }
   ],
   "source": [
    "#title\n",
    "asins = open('../CN_20171130/pre/ASIN.csv').read().split('\\n')\n",
    "ASINs=[]\n",
    "for item in asins:\n",
    "    a = item.split('\\t')\n",
    "    ASINs += a\n",
    "# ASINs =ASINs[:-1]   \n",
    "len(ASINs)"
   ]
  },
  {
   "cell_type": "code",
   "execution_count": 49,
   "metadata": {},
   "outputs": [
    {
     "data": {
      "text/plain": [
       "6290"
      ]
     },
     "execution_count": 49,
     "metadata": {},
     "output_type": "execute_result"
    }
   ],
   "source": [
    "#genres\n",
    "categorys = open('../CN_20171130/pre/categories.csv').read().split('\\n')\n",
    "\n",
    "Category=[]\n",
    "for cat in categorys:\n",
    "    a = cat.split('\\t')\n",
    "    Category += a\n",
    "# Category = Category[:-1]\n",
    "len(Category)"
   ]
  },
  {
   "cell_type": "code",
   "execution_count": 26,
   "metadata": {},
   "outputs": [
    {
     "data": {
      "text/plain": [
       "6290"
      ]
     },
     "execution_count": 26,
     "metadata": {},
     "output_type": "execute_result"
    }
   ],
   "source": [
    "#ranks\n",
    "ranks = open('../CN_20171130/pre/ranks.csv').read().split('\\n')\n",
    "# ranks[0] = ranks[0].replace('\\ufeff','')\n",
    "Rank =[]\n",
    "for rank in ranks:\n",
    "    a = rank.split('\\t')\n",
    "    Rank += a\n",
    "    \n",
    "Ranks =[float(i) for i in Rank]  \n",
    "Ranks[0]\n",
    "len(Ranks)"
   ]
  },
  {
   "cell_type": "markdown",
   "metadata": {},
   "source": [
    "## Tf-idf and document similarity"
   ]
  },
  {
   "cell_type": "code",
   "execution_count": 73,
   "metadata": {
    "collapsed": true
   },
   "outputs": [],
   "source": [
    "#将评论中的词语转换为词频矩阵 矩阵元素a[i][j] 表示j词在第i类评论下的词频  \n",
    "vectorizer = CountVectorizer()"
   ]
  },
  {
   "cell_type": "code",
   "execution_count": 74,
   "metadata": {
    "collapsed": true
   },
   "outputs": [],
   "source": [
    "#该类会统计每个词语的tf-idf权值  \n",
    "transformer = TfidfTransformer() "
   ]
  },
  {
   "cell_type": "code",
   "execution_count": 75,
   "metadata": {
    "collapsed": true
   },
   "outputs": [],
   "source": [
    "tf = vectorizer.fit_transform(corpus)"
   ]
  },
  {
   "cell_type": "code",
   "execution_count": 76,
   "metadata": {
    "collapsed": true
   },
   "outputs": [],
   "source": [
    "#第一个fit_transform是计算tf-idf 第二个fit_transform是将文本转为词频矩阵  \n",
    "tfidf = transformer.fit_transform(tf)"
   ]
  },
  {
   "cell_type": "code",
   "execution_count": 77,
   "metadata": {},
   "outputs": [
    {
     "data": {
      "text/plain": [
       "['一丁点', '一上', '一下子', '一下子把', '一不小心', '一不留神', '一个个', '一个劲', '一个半', '一个多']"
      ]
     },
     "execution_count": 77,
     "metadata": {},
     "output_type": "execute_result"
    }
   ],
   "source": [
    "#获取词袋模型中的前10个词语    \n",
    "word = vectorizer.get_feature_names()\n",
    "word[:10]"
   ]
  },
  {
   "cell_type": "code",
   "execution_count": 78,
   "metadata": {},
   "outputs": [
    {
     "data": {
      "text/plain": [
       "5360"
      ]
     },
     "execution_count": 78,
     "metadata": {},
     "output_type": "execute_result"
    }
   ],
   "source": [
    "# 词袋模型中共有几个词语\n",
    "len(word)"
   ]
  },
  {
   "cell_type": "code",
   "execution_count": 79,
   "metadata": {},
   "outputs": [
    {
     "data": {
      "text/plain": [
       "array([[ 0.,  0.,  0., ...,  0.,  0.,  0.],\n",
       "       [ 0.,  0.,  0., ...,  0.,  0.,  0.],\n",
       "       [ 0.,  0.,  0., ...,  0.,  0.,  0.],\n",
       "       ..., \n",
       "       [ 0.,  0.,  0., ...,  0.,  0.,  0.],\n",
       "       [ 0.,  0.,  0., ...,  0.,  0.,  0.],\n",
       "       [ 0.,  0.,  0., ...,  0.,  0.,  0.]])"
      ]
     },
     "execution_count": 79,
     "metadata": {},
     "output_type": "execute_result"
    }
   ],
   "source": [
    "#将tf-idf矩阵抽取出来，元素w[i][j]表示j词在i类文本中的tf-idf权重  \n",
    "weight = tfidf.toarray() \n",
    "weight"
   ]
  },
  {
   "cell_type": "code",
   "execution_count": 80,
   "metadata": {},
   "outputs": [
    {
     "name": "stdout",
     "output_type": "stream",
     "text": [
      "Features length: 5360\n"
     ]
    }
   ],
   "source": [
    "#打印特征向量文本内容  \n",
    "print ('Features length: ' + str(len(word))) \n",
    "resName = \"BHTfidf_Result.txt\"  \n",
    "result = codecs.open(resName, 'w', 'utf-8')  \n",
    "for j in range(len(word)):  \n",
    "    result.write(word[j] + ' ')  \n",
    "result.write('\\r\\n\\r\\n') "
   ]
  },
  {
   "cell_type": "code",
   "execution_count": 81,
   "metadata": {
    "collapsed": true
   },
   "outputs": [],
   "source": [
    "from sklearn.metrics.pairwise import cosine_similarity\n",
    "dist = 1 - cosine_similarity(tfidf)"
   ]
  },
  {
   "cell_type": "code",
   "execution_count": 82,
   "metadata": {},
   "outputs": [
    {
     "name": "stdout",
     "output_type": "stream",
     "text": [
      "[[ -2.22044605e-16   1.00000000e+00   1.00000000e+00 ...,   1.00000000e+00\n",
      "    1.00000000e+00   1.00000000e+00]\n",
      " [  1.00000000e+00   0.00000000e+00   1.00000000e+00 ...,   1.00000000e+00\n",
      "    1.00000000e+00   9.04035014e-01]\n",
      " [  1.00000000e+00   1.00000000e+00   1.00000000e+00 ...,   1.00000000e+00\n",
      "    1.00000000e+00   1.00000000e+00]\n",
      " ..., \n",
      " [  1.00000000e+00   1.00000000e+00   1.00000000e+00 ...,  -2.22044605e-16\n",
      "    9.77831781e-01   8.81090336e-01]\n",
      " [  1.00000000e+00   1.00000000e+00   1.00000000e+00 ...,   9.77831781e-01\n",
      "   -6.66133815e-16   1.00000000e+00]\n",
      " [  1.00000000e+00   9.04035014e-01   1.00000000e+00 ...,   8.81090336e-01\n",
      "    1.00000000e+00   0.00000000e+00]]\n"
     ]
    }
   ],
   "source": [
    "print(dist)"
   ]
  },
  {
   "cell_type": "markdown",
   "metadata": {},
   "source": [
    "# K-means clustering"
   ]
  },
  {
   "cell_type": "code",
   "execution_count": 83,
   "metadata": {
    "scrolled": true
   },
   "outputs": [
    {
     "name": "stdout",
     "output_type": "stream",
     "text": [
      "CPU times: user 26.9 s, sys: 3.55 s, total: 30.4 s\n",
      "Wall time: 25.2 s\n",
      "KMeans(algorithm='auto', copy_x=True, init='k-means++', max_iter=300,\n",
      "    n_clusters=10, n_init=10, n_jobs=1, precompute_distances='auto',\n",
      "    random_state=None, tol=0.0001, verbose=0)\n"
     ]
    }
   ],
   "source": [
    "from sklearn.cluster import KMeans  \n",
    "num_clusters = 10\n",
    "km = KMeans(n_clusters=10)   \n",
    "%time s = km.fit(weight)  \n",
    "clusters = km.labels_.tolist()\n",
    "print(s)"
   ]
  },
  {
   "cell_type": "code",
   "execution_count": 22,
   "metadata": {
    "collapsed": true
   },
   "outputs": [
    {
     "ename": "KeyboardInterrupt",
     "evalue": "",
     "output_type": "error",
     "traceback": [
      "\u001b[0;31m---------------------------------------------------------------------------\u001b[0m",
      "\u001b[0;31mKeyboardInterrupt\u001b[0m                         Traceback (most recent call last)",
      "\u001b[0;32m<ipython-input-22-e9119176c565>\u001b[0m in \u001b[0;36m<module>\u001b[0;34m()\u001b[0m\n\u001b[1;32m      5\u001b[0m \u001b[0;32mfor\u001b[0m \u001b[0mk\u001b[0m \u001b[0;32min\u001b[0m \u001b[0mK\u001b[0m\u001b[0;34m:\u001b[0m\u001b[0;34m\u001b[0m\u001b[0m\n\u001b[1;32m      6\u001b[0m     \u001b[0mkmeans\u001b[0m \u001b[0;34m=\u001b[0m \u001b[0mKMeans\u001b[0m\u001b[0;34m(\u001b[0m\u001b[0mn_clusters\u001b[0m\u001b[0;34m=\u001b[0m\u001b[0mk\u001b[0m\u001b[0;34m)\u001b[0m\u001b[0;34m\u001b[0m\u001b[0m\n\u001b[0;32m----> 7\u001b[0;31m     \u001b[0mkmeans\u001b[0m\u001b[0;34m.\u001b[0m\u001b[0mfit\u001b[0m\u001b[0;34m(\u001b[0m\u001b[0mX\u001b[0m\u001b[0;34m)\u001b[0m\u001b[0;34m\u001b[0m\u001b[0m\n\u001b[0m\u001b[1;32m      8\u001b[0m     \u001b[0;31m# 求kmeans的成本函数值\u001b[0m\u001b[0;34m\u001b[0m\u001b[0;34m\u001b[0m\u001b[0m\n\u001b[1;32m      9\u001b[0m     \u001b[0mmeandistortions\u001b[0m\u001b[0;34m.\u001b[0m\u001b[0mappend\u001b[0m\u001b[0;34m(\u001b[0m\u001b[0msum\u001b[0m\u001b[0;34m(\u001b[0m\u001b[0mnp\u001b[0m\u001b[0;34m.\u001b[0m\u001b[0mmin\u001b[0m\u001b[0;34m(\u001b[0m\u001b[0mcdist\u001b[0m\u001b[0;34m(\u001b[0m\u001b[0mX\u001b[0m\u001b[0;34m,\u001b[0m \u001b[0mkmeans\u001b[0m\u001b[0;34m.\u001b[0m\u001b[0mcluster_centers_\u001b[0m\u001b[0;34m,\u001b[0m \u001b[0;34m'euclidean'\u001b[0m\u001b[0;34m)\u001b[0m\u001b[0;34m,\u001b[0m \u001b[0maxis\u001b[0m\u001b[0;34m=\u001b[0m\u001b[0;36m1\u001b[0m\u001b[0;34m)\u001b[0m\u001b[0;34m)\u001b[0m \u001b[0;34m/\u001b[0m \u001b[0mX\u001b[0m\u001b[0;34m.\u001b[0m\u001b[0mshape\u001b[0m\u001b[0;34m[\u001b[0m\u001b[0;36m0\u001b[0m\u001b[0;34m]\u001b[0m\u001b[0;34m)\u001b[0m\u001b[0;34m\u001b[0m\u001b[0m\n",
      "\u001b[0;32m/usr/local/lib/python3.6/site-packages/sklearn/cluster/k_means_.py\u001b[0m in \u001b[0;36mfit\u001b[0;34m(self, X, y)\u001b[0m\n\u001b[1;32m    891\u001b[0m                 \u001b[0mtol\u001b[0m\u001b[0;34m=\u001b[0m\u001b[0mself\u001b[0m\u001b[0;34m.\u001b[0m\u001b[0mtol\u001b[0m\u001b[0;34m,\u001b[0m \u001b[0mrandom_state\u001b[0m\u001b[0;34m=\u001b[0m\u001b[0mrandom_state\u001b[0m\u001b[0;34m,\u001b[0m \u001b[0mcopy_x\u001b[0m\u001b[0;34m=\u001b[0m\u001b[0mself\u001b[0m\u001b[0;34m.\u001b[0m\u001b[0mcopy_x\u001b[0m\u001b[0;34m,\u001b[0m\u001b[0;34m\u001b[0m\u001b[0m\n\u001b[1;32m    892\u001b[0m                 \u001b[0mn_jobs\u001b[0m\u001b[0;34m=\u001b[0m\u001b[0mself\u001b[0m\u001b[0;34m.\u001b[0m\u001b[0mn_jobs\u001b[0m\u001b[0;34m,\u001b[0m \u001b[0malgorithm\u001b[0m\u001b[0;34m=\u001b[0m\u001b[0mself\u001b[0m\u001b[0;34m.\u001b[0m\u001b[0malgorithm\u001b[0m\u001b[0;34m,\u001b[0m\u001b[0;34m\u001b[0m\u001b[0m\n\u001b[0;32m--> 893\u001b[0;31m                 return_n_iter=True)\n\u001b[0m\u001b[1;32m    894\u001b[0m         \u001b[0;32mreturn\u001b[0m \u001b[0mself\u001b[0m\u001b[0;34m\u001b[0m\u001b[0m\n\u001b[1;32m    895\u001b[0m \u001b[0;34m\u001b[0m\u001b[0m\n",
      "\u001b[0;32m/usr/local/lib/python3.6/site-packages/sklearn/cluster/k_means_.py\u001b[0m in \u001b[0;36mk_means\u001b[0;34m(X, n_clusters, init, precompute_distances, n_init, max_iter, verbose, tol, random_state, copy_x, n_jobs, algorithm, return_n_iter)\u001b[0m\n\u001b[1;32m    281\u001b[0m                          ' got %d instead' % max_iter)\n\u001b[1;32m    282\u001b[0m \u001b[0;34m\u001b[0m\u001b[0m\n\u001b[0;32m--> 283\u001b[0;31m     \u001b[0mX\u001b[0m \u001b[0;34m=\u001b[0m \u001b[0mas_float_array\u001b[0m\u001b[0;34m(\u001b[0m\u001b[0mX\u001b[0m\u001b[0;34m,\u001b[0m \u001b[0mcopy\u001b[0m\u001b[0;34m=\u001b[0m\u001b[0mcopy_x\u001b[0m\u001b[0;34m)\u001b[0m\u001b[0;34m\u001b[0m\u001b[0m\n\u001b[0m\u001b[1;32m    284\u001b[0m     \u001b[0mtol\u001b[0m \u001b[0;34m=\u001b[0m \u001b[0m_tolerance\u001b[0m\u001b[0;34m(\u001b[0m\u001b[0mX\u001b[0m\u001b[0;34m,\u001b[0m \u001b[0mtol\u001b[0m\u001b[0;34m)\u001b[0m\u001b[0;34m\u001b[0m\u001b[0m\n\u001b[1;32m    285\u001b[0m \u001b[0;34m\u001b[0m\u001b[0m\n",
      "\u001b[0;32m/usr/local/lib/python3.6/site-packages/sklearn/utils/validation.py\u001b[0m in \u001b[0;36mas_float_array\u001b[0;34m(X, copy, force_all_finite)\u001b[0m\n\u001b[1;32m     85\u001b[0m         \u001b[0;32mreturn\u001b[0m \u001b[0mX\u001b[0m\u001b[0;34m.\u001b[0m\u001b[0mcopy\u001b[0m\u001b[0;34m(\u001b[0m\u001b[0;34m)\u001b[0m \u001b[0;32mif\u001b[0m \u001b[0mcopy\u001b[0m \u001b[0;32melse\u001b[0m \u001b[0mX\u001b[0m\u001b[0;34m\u001b[0m\u001b[0m\n\u001b[1;32m     86\u001b[0m     \u001b[0;32melif\u001b[0m \u001b[0mX\u001b[0m\u001b[0;34m.\u001b[0m\u001b[0mdtype\u001b[0m \u001b[0;32min\u001b[0m \u001b[0;34m[\u001b[0m\u001b[0mnp\u001b[0m\u001b[0;34m.\u001b[0m\u001b[0mfloat32\u001b[0m\u001b[0;34m,\u001b[0m \u001b[0mnp\u001b[0m\u001b[0;34m.\u001b[0m\u001b[0mfloat64\u001b[0m\u001b[0;34m]\u001b[0m\u001b[0;34m:\u001b[0m  \u001b[0;31m# is numpy array\u001b[0m\u001b[0;34m\u001b[0m\u001b[0m\n\u001b[0;32m---> 87\u001b[0;31m         \u001b[0;32mreturn\u001b[0m \u001b[0mX\u001b[0m\u001b[0;34m.\u001b[0m\u001b[0mcopy\u001b[0m\u001b[0;34m(\u001b[0m\u001b[0;34m'F'\u001b[0m \u001b[0;32mif\u001b[0m \u001b[0mX\u001b[0m\u001b[0;34m.\u001b[0m\u001b[0mflags\u001b[0m\u001b[0;34m[\u001b[0m\u001b[0;34m'F_CONTIGUOUS'\u001b[0m\u001b[0;34m]\u001b[0m \u001b[0;32melse\u001b[0m \u001b[0;34m'C'\u001b[0m\u001b[0;34m)\u001b[0m \u001b[0;32mif\u001b[0m \u001b[0mcopy\u001b[0m \u001b[0;32melse\u001b[0m \u001b[0mX\u001b[0m\u001b[0;34m\u001b[0m\u001b[0m\n\u001b[0m\u001b[1;32m     88\u001b[0m     \u001b[0;32melse\u001b[0m\u001b[0;34m:\u001b[0m\u001b[0;34m\u001b[0m\u001b[0m\n\u001b[1;32m     89\u001b[0m         \u001b[0;32mif\u001b[0m \u001b[0mX\u001b[0m\u001b[0;34m.\u001b[0m\u001b[0mdtype\u001b[0m\u001b[0;34m.\u001b[0m\u001b[0mkind\u001b[0m \u001b[0;32min\u001b[0m \u001b[0;34m'uib'\u001b[0m \u001b[0;32mand\u001b[0m \u001b[0mX\u001b[0m\u001b[0;34m.\u001b[0m\u001b[0mdtype\u001b[0m\u001b[0;34m.\u001b[0m\u001b[0mitemsize\u001b[0m \u001b[0;34m<=\u001b[0m \u001b[0;36m4\u001b[0m\u001b[0;34m:\u001b[0m\u001b[0;34m\u001b[0m\u001b[0m\n",
      "\u001b[0;31mKeyboardInterrupt\u001b[0m: "
     ]
    }
   ],
   "source": [
    "# from scipy.spatial.distance import cdist\n",
    "# X = weight #在weight矩阵中元素w[i][j]表示j词在i类文本中的tf-idf权重  \n",
    "# K = range(1, 100)\n",
    "# meandistortions = []\n",
    "# for k in K:\n",
    "#     kmeans = KMeans(n_clusters=k)\n",
    "#     kmeans.fit(X)\n",
    "#     # 求kmeans的成本函数值\n",
    "#     meandistortions.append(sum(np.min(cdist(X, kmeans.cluster_centers_, 'euclidean'), axis=1)) / X.shape[0])\n",
    "\n",
    "# plt.figure()\n",
    "# plt.grid(True)\n",
    "# plt1 = plt.subplot(2,1,1)\n",
    "# # 画样本点\n",
    "# plt1.plot(X[:,0],X[:,1],'k.');\n",
    "# plt2 = plt.subplot(2,1,2)\n",
    "# # 画成本函数值曲线\n",
    "# plt2.plot(K, meandistortions, 'bx-')\n",
    "# plt.show()"
   ]
  },
  {
   "cell_type": "code",
   "execution_count": 84,
   "metadata": {
    "collapsed": true
   },
   "outputs": [],
   "source": [
    "from sklearn.externals import joblib\n",
    "# 注释语句用来存储你的模型\n",
    "# 因为我已经从 pickle 载入过模型了\n",
    " \n",
    "joblib.dump(km,  'doc_cluster.pkl')\n",
    " \n",
    "km = joblib.load('doc_cluster.pkl')\n",
    "clusters = km.labels_.tolist()"
   ]
  },
  {
   "cell_type": "code",
   "execution_count": 86,
   "metadata": {
    "collapsed": true
   },
   "outputs": [],
   "source": [
    "toys = { 'title': ASINs, 'rank': Ranks, 'review': Reviews, 'cluster': clusters, 'category': Category }\n",
    " \n",
    "frame = pd.DataFrame(toys , index = [clusters] , columns = ['rank', 'title', 'cluster', 'category'])"
   ]
  },
  {
   "cell_type": "code",
   "execution_count": 87,
   "metadata": {},
   "outputs": [
    {
     "data": {
      "text/plain": [
       "0    4171\n",
       "4     484\n",
       "5     463\n",
       "3     350\n",
       "2     305\n",
       "8     162\n",
       "7     142\n",
       "6     109\n",
       "9      65\n",
       "1      39\n",
       "Name: cluster, dtype: int64"
      ]
     },
     "execution_count": 87,
     "metadata": {},
     "output_type": "execute_result"
    }
   ],
   "source": [
    "frame['cluster'].value_counts() #number of review per cluster (clusters from 0 to 10)"
   ]
  },
  {
   "cell_type": "code",
   "execution_count": 88,
   "metadata": {},
   "outputs": [
    {
     "data": {
      "text/plain": [
       "3764.3703662924549"
      ]
     },
     "execution_count": 88,
     "metadata": {},
     "output_type": "execute_result"
    }
   ],
   "source": [
    "km.inertia_"
   ]
  },
  {
   "cell_type": "code",
   "execution_count": 89,
   "metadata": {},
   "outputs": [
    {
     "data": {
      "text/plain": [
       "cluster\n",
       "0    1.899065\n",
       "1    4.974359\n",
       "2    4.757377\n",
       "3    4.711429\n",
       "4    4.708678\n",
       "5    4.840173\n",
       "6    4.513761\n",
       "7    4.619718\n",
       "8    4.851852\n",
       "9    4.430769\n",
       "Name: rank, dtype: float64"
      ]
     },
     "execution_count": 89,
     "metadata": {},
     "output_type": "execute_result"
    }
   ],
   "source": [
    "grouped = frame['rank'].groupby(frame['cluster']) # 为了凝聚（aggregation），由聚类分类。\n",
    " \n",
    "grouped.mean() # 每个聚类的平均排名（0 到 5）"
   ]
  },
  {
   "cell_type": "code",
   "execution_count": 90,
   "metadata": {},
   "outputs": [
    {
     "name": "stdout",
     "output_type": "stream",
     "text": [
      "Top terms per cluster:\n",
      "\n",
      "Cluster 0 titles: \"B06WWD7SMQ_1, B06WWD7SMQ_3, B06WWD7SMQ_4, B06WWD7SMQ_5, B06WWD7SMQ_6, B06WWD7SMQ_7, B06WWD7SMQ_8, B06WWD7SMQ_9, B06WWD7SMQ_10\", \"B01JL8KELG_1, B01JL8KELG_2, B01JL8KELG_3, B01JL8KELG_4, B01JL8KELG_5, B01JL8KELG_6, B01JL8KELG_7, B01JL8KELG_8, B01JL8KELG_9, B01JL8KELG_10\", \"B00A30ZA34_1, B00A30ZA34_2, B00A30ZA34_3, B00A30ZA34_4, B00A30ZA34_5, B00A30ZA34_6, B00A30ZA34_7, B00A30ZA34_8, B00A30ZA34_9, B00A30ZA34_10\", B00VR2EB3W_2, B00VR2EB3W_5, B00VR2EB3W_6, B00VR2EB3W_7, B00VR2EB3W_8, B00VR2EB3W_9, B00VR2EB3W_10\", B019JIADG4_2, B019JIADG4_3, B019JIADG4_4, B019JIADG4_5, B019JIADG4_6, B019JIADG4_7, B019JIADG4_8, B019JIADG4_9, B019JIADG4_10\", B0063DEIQK_2, B0063DEIQK_4, B0063DEIQK_5, B0063DEIQK_6, B0063DEIQK_7, B0063DEIQK_8, B0063DEIQK_9, B0063DEIQK_10\", B01MZALP0W_2, B01MZALP0W_5, B01MZALP0W_7, B01MZALP0W_10\", B06XHJ1JRT_2, B06XHJ1JRT_3, B06XHJ1JRT_4, B06XHJ1JRT_5, B06XHJ1JRT_6, B06XHJ1JRT_7, B06XHJ1JRT_8, B06XHJ1JRT_9, B06XHJ1JRT_10\", B00U7EX51K_2, B00U7EX51K_3, B00U7EX51K_4, B00U7EX51K_5, B00U7EX51K_6, B00U7EX51K_7, B00U7EX51K_8, B00U7EX51K_9, B00U7EX51K_10\", \"B06XNMN87Q_1, B06XNMN87Q_2, B06XNMN87Q_3, B06XNMN87Q_4, B06XNMN87Q_5, B06XNMN87Q_6, B06XNMN87Q_7, B06XNMN87Q_8, B06XNMN87Q_9, B06XNMN87Q_10\", \"B06XKZRSJG_1, B06XKZRSJG_2, B06XKZRSJG_3, B06XKZRSJG_4, B06XKZRSJG_5, B06XKZRSJG_6, B06XKZRSJG_7, B06XKZRSJG_8, B06XKZRSJG_9, B06XKZRSJG_10\", \"B01JZ6BX78_1, B01JZ6BX78_2, B01JZ6BX78_3, B01JZ6BX78_4, B01JZ6BX78_5, B01JZ6BX78_6, B01JZ6BX78_7, B01JZ6BX78_8, B01JZ6BX78_9, B01JZ6BX78_10\", B01M8QYH9V_2, B01M8QYH9V_3, B01M8QYH9V_4, B01M8QYH9V_5, B01M8QYH9V_6, B01M8QYH9V_7, B01M8QYH9V_8, B01M8QYH9V_9, B01M8QYH9V_10\", \"B071DQYHDZ_1, B071DQYHDZ_2, B071DQYHDZ_3, B071DQYHDZ_4, B071DQYHDZ_5, B071DQYHDZ_6, B071DQYHDZ_7, B071DQYHDZ_8, B071DQYHDZ_9, B071DQYHDZ_10\", \"B072NZVLQR_1, B072NZVLQR_6, B072NZVLQR_7, B072NZVLQR_8, B072NZVLQR_10\", \"B0194WFWCK_1, B0194WFWCK_5, B0194WFWCK_10\", B073FYF9S2_2, B073FYF9S2_3, B073FYF9S2_6, B073FYF9S2_7, B073FYF9S2_10\", \"B01N1W1GAO_1, B01N1W1GAO_2, B01N1W1GAO_4, B01N1W1GAO_6, B01N1W1GAO_7, B01N1W1GAO_8, B01N1W1GAO_9, B01N1W1GAO_10\", B00IF1W7IO_2, B00IF1W7IO_3, B00IF1W7IO_4, B00IF1W7IO_5, B00IF1W7IO_6, B00IF1W7IO_7, B00IF1W7IO_8, B00IF1W7IO_9, B00IF1W7IO_10\", \"B00VR2E6AK_1, B00VR2E6AK_2, B00VR2E6AK_3, B00VR2E6AK_4, B00VR2E6AK_7, B00VR2E6AK_8, B00VR2E6AK_10\", \"B06XKMGRTM_1, B06XKMGRTM_2, B06XKMGRTM_3, B06XKMGRTM_4, B06XKMGRTM_5, B06XKMGRTM_6, B06XKMGRTM_7, B06XKMGRTM_8, B06XKMGRTM_9, B06XKMGRTM_10\", \"B06Y2ZK8VY_1, B06Y2ZK8VY_3, B06Y2ZK8VY_4, B06Y2ZK8VY_8, B06Y2ZK8VY_10\", \"B01HPGFRKY_1, B01HPGFRKY_2, B01HPGFRKY_4, B01HPGFRKY_6, B01HPGFRKY_7, B01HPGFRKY_8, B01HPGFRKY_10\", B073FWCJQV_2, B073FWCJQV_3, B073FWCJQV_6, B073FWCJQV_7, B073FWCJQV_10\", B00VR2EAZG_2, B00VR2EAZG_5, B00VR2EAZG_6, B00VR2EAZG_7, B00VR2EAZG_8, B00VR2EAZG_9, B00VR2EAZG_10\", \"B01N0X3R9Y_1, B01N0X3R9Y_3, B01N0X3R9Y_4, B01N0X3R9Y_8, B01N0X3R9Y_10\", B015XA8YJK_4, B015XA8YJK_6, B015XA8YJK_7, B015XA8YJK_8, B015XA8YJK_9, B015XA8YJK_10\", B01N34QXLH_2, B01N34QXLH_5, B01N34QXLH_7, B01N34QXLH_10\", B00QEQZEZA_2, B00QEQZEZA_3, B00QEQZEZA_4, B00QEQZEZA_5, B00QEQZEZA_6, B00QEQZEZA_7, B00QEQZEZA_8, B00QEQZEZA_9, B00QEQZEZA_10\", \"B0713RD9L8_1, B0713RD9L8_3, B0713RD9L8_4, B0713RD9L8_5, B0713RD9L8_6, B0713RD9L8_7, B0713RD9L8_8, B0713RD9L8_9, B0713RD9L8_10\", B0719KQPX5_2, B0719KQPX5_3, B0719KQPX5_4, B0719KQPX5_5, B0719KQPX5_6, B0719KQPX5_7, B0719KQPX5_8, B0719KQPX5_9, B0719KQPX5_10\", \"B01HEQGPBU_1, B01HEQGPBU_2, B01HEQGPBU_4, B01HEQGPBU_6, B01HEQGPBU_7, B01HEQGPBU_8, B01HEQGPBU_10\", \"B00TR8JUHU_1, B00TR8JUHU_2, B00TR8JUHU_3, B00TR8JUHU_4, B00TR8JUHU_5, B00TR8JUHU_6, B00TR8JUHU_7, B00TR8JUHU_8, B00TR8JUHU_9, B00TR8JUHU_10\", \"B06XVW8SGT_1, B06XVW8SGT_2, B06XVW8SGT_3, B06XVW8SGT_4, B06XVW8SGT_5, B06XVW8SGT_6, B06XVW8SGT_7, B06XVW8SGT_8, B06XVW8SGT_9, B06XVW8SGT_10\", \"B018B2E65I_1, B018B2E65I_2, B018B2E65I_3, B018B2E65I_4, B018B2E65I_5, B018B2E65I_8, B018B2E65I_9, B018B2E65I_10\", \"B01GGYZHTC_1, B01GGYZHTC_2, B01GGYZHTC_3, B01GGYZHTC_4, B01GGYZHTC_5, B01GGYZHTC_6, B01GGYZHTC_7, B01GGYZHTC_8, \"B00QKLLC1O_1, B00QKLLC1O_2, B00QKLLC1O_3, B00QKLLC1O_4, B00QKLLC1O_5, B00QKLLC1O_6, B00QKLLC1O_7, B00QKLLC1O_8, B00QKLLC1O_9, B00QKLLC1O_10\", \"B0012TTHPM_1, B0012TTHPM_2, B0012TTHPM_3, B0012TTHPM_4, B0012TTHPM_5, B0012TTHPM_6, B0012TTHPM_7, B0012TTHPM_8, B0012TTHPM_9, B0012TTHPM_10\", B01N2XLPXS_2, B01N2XLPXS_4, B01N2XLPXS_5, B01N2XLPXS_6, B01N2XLPXS_7, B01N2XLPXS_8, B01N2XLPXS_9, B01N2XLPXS_10\", \"B00PESY1T4_1, B00PESY1T4_2, B00PESY1T4_5, B00PESY1T4_7, B00PESY1T4_8, B00PESY1T4_9, B00PESY1T4_10\", \"B018SNV3N8_1, B018SNV3N8_2, B018SNV3N8_3, B018SNV3N8_4, B018SNV3N8_5, B018SNV3N8_6, B018SNV3N8_7, B018SNV3N8_8, B018SNV3N8_9, B018SNV3N8_10\", \"B01JHY42IU_1, B01JHY42IU_2, B01JHY42IU_3, B01JHY42IU_5, B01JHY42IU_6, B01JHY42IU_7, B01JHY42IU_9, B00VR2E6GO_2, B00VR2E6GO_5, B00VR2E6GO_6, B00VR2E6GO_7, B00VR2E6GO_8, B00VR2E6GO_9, B00VR2E6GO_10\", \"B00OFR5H0M_1, B00OFR5H0M_7, B00OFR5H0M_8, B00OFR5H0M_10\", B00HH25GGW_5, B00HH25GGW_6, B00HH25GGW_7, B00HH25GGW_8, B00HH25GGW_9, B00HH25GGW_10\", B00ME8CNYW_2, B00ME8CNYW_4, B00ME8CNYW_6, B00ME8CNYW_7, B00ME8CNYW_8, B00ME8CNYW_9, \"B00VR2E6O6_1, B00VR2E6O6_2, B00VR2E6O6_3, B00VR2E6O6_4, B00VR2E6O6_7, B00VR2E6O6_8, B00VR2E6O6_10\", \"B00H48PVV4_1, B00H48PVV4_2, B00H48PVV4_3, B00H48PVV4_4, B00H48PVV4_5, B00H48PVV4_6, B00H48PVV4_7, B00H48PVV4_8, B00H48PVV4_9, B00H48PVV4_10\", B0713RPXF3_2, B0713RPXF3_5, B0713RPXF3_7, B0713RPXF3_10\", \"B01MU6W8BU_1, B01MU6W8BU_2, B01MU6W8BU_3, B01MU6W8BU_4, B01MU6W8BU_5, B01MU6W8BU_6, B01MU6W8BU_7, B01MU6W8BU_8, B01MU6W8BU_9, B01MU6W8BU_10\", B0124JPKUY_2, B0124JPKUY_3, B0124JPKUY_4, B0124JPKUY_5, B0124JPKUY_6, B0124JPKUY_7, B0124JPKUY_8, B0124JPKUY_9, B0124JPKUY_10\", B01JZ6BWKQ_3, B01JZ6BWKQ_4, B01JZ6BWKQ_5, B01JZ6BWKQ_6, B01JZ6BWKQ_7, B01JZ6BWKQ_8, B01JZ6BWKQ_9, B01JZ6BWKQ_10\", B01N34QVF6_2, B01N34QVF6_5, B01N34QVF6_7, B01N34QVF6_10\", \"B01MS3MSWM_1, B01MS3MSWM_3, B01MS3MSWM_4, B01MS3MSWM_8, B01MS3MSWM_10\", B01N6N3JYC_3, B01N6N3JYC_4, B01N6N3JYC_5, B01N6N3JYC_6, B01N6N3JYC_7, B01N6N3JYC_8, B01N6N3JYC_9, B01N6N3JYC_10\", \"B00U7EX4ZC_1, B00U7EX4ZC_2, B00U7EX4ZC_3, B00U7EX4ZC_4, B00U7EX4ZC_5, B00U7EX4ZC_6, B00U7EX4ZC_7, B00U7EX4ZC_8, B00U7EX4ZC_9, B00U7EX4ZC_10\", B00J3LXLL2_3, B00J3LXLL2_4, B00J3LXLL2_5, B00J3LXLL2_6, B00J3LXLL2_7, B00J3LXLL2_8, B00J3LXLL2_9, B00J3LXLL2_10\", \"B01G9STT8A_1, B01G9STT8A_2, B01G9STT8A_4, B01G9STT8A_5, B01G9STT8A_6, B01G9STT8A_7, B01G9STT8A_8, B01G9STT8A_9, B01G9STT8A_10\", \"B01MUAEH5O_1, B01MUAEH5O_2, B01MUAEH5O_3, B01MUAEH5O_4, B01MUAEH5O_5, B01MUAEH5O_6, B01MUAEH5O_7, B01MUAEH5O_8, B01MUAEH5O_9, B01MUAEH5O_10\", B015W05J3K_3, B015W05J3K_4, B015W05J3K_5, B015W05J3K_6, B015W05J3K_7, B015W05J3K_8, B015W05J3K_9, B015W05J3K_10\", B01MY4HMFR_2, B01MY4HMFR_3, B01MY4HMFR_5, B01MY4HMFR_6, B01MY4HMFR_9, B01MY4HMFR_10\", B01N9SIV16_2, B01N9SIV16_5, B01N9SIV16_7, B01N9SIV16_10\", \"B00TR8ZM86_1, B00TR8ZM86_2, B00TR8ZM86_4, B00TR8ZM86_5, B00TR8ZM86_6, B00TR8ZM86_7, B00TR8ZM86_8, B00TR8ZM86_9, B00TR8ZM86_10\", \"B01JZ6BWZG_1, B01JZ6BWZG_2, B01JZ6BWZG_3, B01JZ6BWZG_4, B01JZ6BWZG_5, B01JZ6BWZG_6, B01JZ6BWZG_7, B01JZ6BWZG_8, B01JZ6BWZG_9, B01JZ6BWZG_10\", \"B00GZH1KFG_1, B00GZH1KFG_2, B00GZH1KFG_3, B00GZH1KFG_4, B00GZH1KFG_5, B00GZH1KFG_6, B00GZH1KFG_7, B00GZH1KFG_8, B00GZH1KFG_9, B00GZH1KFG_10\", \"B01I9GUD62_1, B01I9GUD62_6, B01I9GUD62_7, B01I9GUD62_8, B01I9GUD62_9, B01I9GUD62_10\", B00E94U12A_2, B00E94U12A_3, B00E94U12A_4, B00E94U12A_5, B00E94U12A_6, B00E94U12A_7, B00E94U12A_9, B00E94U12A_10\", \"B0021TZBNY_1, B0021TZBNY_3, B0021TZBNY_5, B0021TZBNY_6, B0021TZBNY_7, B0021TZBNY_9, B0021TZBNY_10\", \"B071RB8KBR_1, B071RB8KBR_3, B071RB8KBR_4, B071RB8KBR_10\", B00ZWTUHH0_4, B00ZWTUHH0_5, B00ZWTUHH0_7, B00ZWTUHH0_9, \"B003XB57GU_1, B003XB57GU_2, B003XB57GU_3, B003XB57GU_4, B003XB57GU_5, B003XB57GU_6, B003XB57GU_7, B003XB57GU_8, B003XB57GU_9, B003XB57GU_10\", \"B06X1J2LMH_1, B06X1J2LMH_5, B06X1J2LMH_8, B06X1J2LMH_9, B01G3A7A5S_2, B01G3A7A5S_4, B01G3A7A5S_7, B01G3A7A5S_10\", B013RQPB5C_3, B013RQPB5C_5, B013RQPB5C_6, B013RQPB5C_7, B013RQPB5C_8, B013RQPB5C_9, B013RQPB5C_10\", \"B071XP2FKX_1, B071XP2FKX_4, B071XP2FKX_5, B071XP2FKX_7, B071XP2FKX_8, B071XP2FKX_9, B071XP2FKX_10\", \"B01N23WDHO_1, B01N23WDHO_2, B01N23WDHO_3, B01N23WDHO_5, B01N23WDHO_6, B01N23WDHO_7, B01N23WDHO_8, B01N23WDHO_9, B01N23WDHO_10\", B00JM5GW10_3, B00JM5GW10_4, B00JM5GW10_5, B00JM5GW10_6, B00JM5GW10_7, B00JM5GW10_8, B00JM5GW10_9, B00JM5GW10_10\", B004SE3O70_4, B004SE3O70_9, B004SE3O70_10\", \"B000GIJ4Y4_1, B000GIJ4Y4_2, B000GIJ4Y4_3, B000GIJ4Y4_4, B000GIJ4Y4_5, B000GIJ4Y4_6, B000GIJ4Y4_7, B000GIJ4Y4_8, B000GIJ4Y4_9, B000GIJ4Y4_10\", \"B00TFWOS8Y_1, B00TFWOS8Y_4, B00TFWOS8Y_5, B00TFWOS8Y_7, B00TFWOS8Y_10\", B000M25PE2_2, B000M25PE2_9, B000M25PE2_10\", B01G1SB5I0_2, B01G1SB5I0_3, B01G1SB5I0_4, B01G1SB5I0_5, B01G1SB5I0_7, B01G1SB5I0_9, B01G1SB5I0_10\", B00ZWTU6RG_2, B00ZWTU6RG_4, B00ZWTU6RG_5, B00ZWTU6RG_7, B00ZWTU6RG_8, B00ZWTU6RG_9, B00ZWTU6RG_10\", B01HPG6NVQ_2, B01HPG6NVQ_3, B01HPG6NVQ_4, B01HPG6NVQ_5, B01HPG6NVQ_7, B01HPG6NVQ_9, B01HPG6NVQ_10\", B01HPG6NK2_2, B01HPG6NK2_3, B01HPG6NK2_4, B01HPG6NK2_5, B01HPG6NK2_7, B01HPG6NK2_9, B01HPG6NK2_10\", B01HPG6NIE_2, B01HPG6NIE_3, B01HPG6NIE_4, B01HPG6NIE_5, B01HPG6NIE_7, B01HPG6NIE_9, B01HPG6NIE_10\", B00PTP6PH8_2, B00PTP6PH8_3, B00PTP6PH8_4, B00PTP6PH8_5, B00PTP6PH8_8, B00PTP6PH8_9, B00PTP6PH8_10\", \"B01MTO7JX7_1, B01MTO7JX7_6, B01MTO7JX7_7, B01MTO7JX7_8, B01MTO7JX7_9, B01MTO7JX7_10\", B009VYCA4U_2, B009VYCA4U_3, B009VYCA4U_4, B009VYCA4U_6, B009VYCA4U_8, B009VYCA4U_9, \"B000C6RHBW_1, B000C6RHBW_2, B000C6RHBW_3, B000C6RHBW_4, B000C6RHBW_5, B000C6RHBW_6, B000C6RHBW_7, B000C6RHBW_8, B000C6RHBW_9, B000C6RHBW_10\", \"B00COX3M4W_1, B00COX3M4W_6, B00COX3M4W_7, B00COX3M4W_8, B00COX3M4W_9, B01I9GUBTQ_4, B01I9GUBTQ_5, B01I9GUBTQ_7, B01I9GUBTQ_9, \"B01M998TSK_1, B01M998TSK_2, B01M998TSK_3, B01M998TSK_4, B01M998TSK_5, B01M998TSK_6, B01M998TSK_7, B01M998TSK_8, B01M998TSK_9, B01M998TSK_10\", \"B010Q2CF0E_1, B010Q2CF0E_2, B010Q2CF0E_6, B010Q2CF0E_9, B016ZDDMFA_4, B016ZDDMFA_5, B016ZDDMFA_7, B016ZDDMFA_9, \"B01MDLG6IH_1, B01MDLG6IH_2, B01MDLG6IH_3, B01MDLG6IH_4, B01MDLG6IH_5, B01MDLG6IH_6, B01MDLG6IH_7, B01MDLG6IH_8, B01MDLG6IH_9, B01MDLG6IH_10\", \"B00ZWTTGZY_1, B00ZWTTGZY_4, \"B0017IMBCO_1, B0017IMBCO_2, B0017IMBCO_3, B0017IMBCO_5, B0017IMBCO_6, B0017IMBCO_7, B0017IMBCO_8, B0017IMBCO_9, B00Y4QBJAQ_2, B00Y4QBJAQ_3, B00Y4QBJAQ_4, B00Y4QBJAQ_5, B00Y4QBJAQ_6, B00Y4QBJAQ_7, B00Y4QBJAQ_8, B00Y4QBJAQ_9, B00Y4QBJAQ_10\", \"B014H0UJ6I_1, B014H0UJ6I_3, B014H0UJ6I_4, B014H0UJ6I_7, B014H0UJ6I_9, B014H0UJ6I_10\", \"B0194M68ZK_1, B0194M68ZK_4, \"B002YIRKKY_1, B002YIRKKY_3, B002YIRKKY_4, B002YIRKKY_9, B00PDTBMB4_2, B00PDTBMB4_3, B00PDTBMB4_4, B00PDTBMB4_5, B00PDTBMB4_6, B00PDTBMB4_7, B00PDTBMB4_8, B00PDTBMB4_10\", \"B00V9YYD68_1, B00V9YYD68_3, B00V9YYD68_6, B00V9YYD68_8, B00V9YYD68_9, B00V9YYD68_10\", \"B00MGLHL6W_1, B00MGLHL6W_2, B00MGLHL6W_3, B00MGLHL6W_5, B00MGLHL6W_6, B00MGLHL6W_8, B00MGLHL6W_9, B00MGLHL6W_10\", \"B00IGNX226_1, B00IGNX226_6, B00IGNX226_10\", \"B004SE3OTI_1, B004SE3OTI_2, B004SE3OTI_3, B004SE3OTI_5, B004SE3OTI_6, B004SE3OTI_8, B004SE3OTI_9, B004SE3OTI_10\", \"B018VNUTDU_1, B018VNUTDU_2, B018VNUTDU_3, B018VNUTDU_5, B018VNUTDU_9, B018VNUTDU_10\", B00ZWTU6QW_2, B00ZWTU6QW_4, B00ZWTU6QW_5, B00ZWTU6QW_7, B00ZWTU6QW_8, B00ZWTU6QW_9, B00ZWTU6QW_10\", B002NZJ4L6_4, B002NZJ4L6_6, B002NZJ4L6_9, B002NZJ4L6_10\", \"B01EXSOYVU_1, B01EXSOYVU_2, B01EXSOYVU_3, B01EXSOYVU_4, B01EXSOYVU_5, B01EXSOYVU_6, B01EXSOYVU_7, B01EXSOYVU_8, B01EXSOYVU_9, B01EXSOYVU_10\", B001M04T0E_2, B001M04T0E_3, B001M04T0E_4, B001M04T0E_6, B001M04T0E_7, B001M04T0E_8, B00A9N1MR8_2, B00A9N1MR8_3, B00A9N1MR8_4, B00A9N1MR8_5, B00A9N1MR8_7, B00A9N1MR8_8, B00A9N1MR8_10\", \"B00ZWTTH62_1, B00ZWTTH62_4, B01JKAPB3Q_3, B01JKAPB3Q_4, B01JKAPB3Q_5, B01JKAPB3Q_6, B01JKAPB3Q_7, B01JKAPB3Q_8, B01JKAPB3Q_9, B01JKAPB3Q_10\", \"B01FLSUQTK_1, B01FLSUQTK_2, B01FLSUQTK_3, B01FLSUQTK_4, B01FLSUQTK_5, B01FLSUQTK_6, B01FLSUQTK_7, B01FLSUQTK_8, B01FLSUQTK_9, B01FLSUQTK_10\", B01DW37RO8_4, B01DW37RO8_5, B01DW37RO8_7, B01DW37RO8_9, B003HGGPLW_2, B003HGGPLW_3, B003HGGPLW_4, B003HGGPLW_6, B003HGGPLW_8, B003HGGPLW_9, \"B071F4WX11_1, B071F4WX11_4, B071F4WX11_5, B071F4WX11_7, B071F4WX11_8, B071F4WX11_9, B071F4WX11_10\", B004G8QSXU_2, B004G8QSXU_3, B004G8QSXU_5, B004G8QSXU_8, B004G8QSXU_9, B004G8QSXU_10\", B0017IIOQQ_4, B0017IIOQQ_9, B0017IIOQQ_10\", \"B01FF1073I_1, B01FF1073I_6, B01FF1073I_10\", \"B008BP9NTU_1, B008BP9NTU_2, B008BP9NTU_3, B008BP9NTU_6, B008BP9NTU_7, B008BP9NTU_8, B008BP9NTU_9, B008BP9NTU_10\", B009VYCA0E_6, B009VYCA0E_7, \"B00N3T3N22_1, B00N3T3N22_2, B00N3T3N22_4, B00N3T3N22_6, B00N3T3N22_7, B00N3T3N22_10\", B00CI6J5JQ_2, B00CI6J5JQ_3, B00CI6J5JQ_5, B00CI6J5JQ_6, B00CI6J5JQ_10\", \"B071V9KSXB_1, B071V9KSXB_3, B071V9KSXB_4, B071V9KSXB_5, B071V9KSXB_6, B071V9KSXB_7, B071V9KSXB_10\", B002NZJ4MU_4, B002NZJ4MU_6, B002NZJ4MU_9, B002NZJ4MU_10\", B0035FWBG8_2, B0035FWBG8_3, B0035FWBG8_4, B0035FWBG8_5, B0035FWBG8_6, B0035FWBG8_7, B0035FWBG8_8, B0035FWBG8_9, B0035FWBG8_10\", B00ZWTU6O4_4, B00ZWTU6O4_5, B00ZWTU6O4_7, B00ZWTU6O4_9, B000LEG3SI_2, B000LEG3SI_4, B000LEG3SI_5, B000LEG3SI_6, B000LEG3SI_7, B000LEG3SI_8, \"B00B16U4Z8_1, B00B16U4Z8_2, B00B16U4Z8_4, B00B16U4Z8_5, B00B16U4Z8_6, B00B16U4Z8_7, B00B16U4Z8_8, B00B16U4Z8_9, B00B16U4Z8_10\", B01G3A9A0G_2, B01G3A9A0G_3, B01G3A9A0G_7, B01G3A9A0G_8, B01G3A9A0G_9, B01G3A9A0G_10\", \"B004ALKLR2_1, B004ALKLR2_2, B004ALKLR2_3, B004ALKLR2_4, B004ALKLR2_5, B004ALKLR2_6, B004ALKLR2_7, B004ALKLR2_8, B004ALKLR2_9, B004ALKLR2_10\", \"B01M7YRL3P_1, B01M7YRL3P_5, B01M7YRL3P_8, B01M7YRL3P_9, B002PNV6YE_4, B002PNV6YE_6, B002PNV6YE_9, B002PNV6YE_10\", \"B013OVV8HK_1, B013OVV8HK_3, B013OVV8HK_6, B013OVV8HK_8, B013OVV8HK_9, B013OVV8HK_10\", \"B00005C8R6_1, B00005C8R6_3, B00005C8R6_4, B00005C8R6_5, B00005C8R6_8, B00005C8R6_9, B00005C8R6_10\", B00B9MU1DE_3, B00B9MU1DE_7, B0080AHHBM_7, B0080AHHBM_8, B01M7PAZ0M_2, B01M7PAZ0M_3, B01M7PAZ0M_6, B01M7PAZ0M_7, \"B073WNQGC7_1, B073WNQGC7_4, B073WNQGC7_5, B073WNQGC7_6, B073WNQGC7_7, B073WNQGC7_8, B073WNQGC7_9, B073WNQGC7_10\", B01JIJEPIQ_4, B01JIJEPIQ_9, \"B071P954CM_1, B071P954CM_4, B071P954CM_5, B071P954CM_8, B071P954CM_9, B071P954CM_10\", B01DU5M5T0_2, B01DU5M5T0_3, B01DU5M5T0_4, B01DU5M5T0_5, B01DU5M5T0_6, B01DU5M5T0_7, B01DU5M5T0_8, B01DU5M5T0_9, B01DU5M5T0_10\", B072PTTM41_2, B072PTTM41_3, B072PTTM41_4, B072PTTM41_5, B072PTTM41_6, B072PTTM41_7, B072PTTM41_8, B072PTTM41_9, B072PTTM41_10\", B06WLLMXF8_2, B06WLLMXF8_3, B06WLLMXF8_4, B06WLLMXF8_5, B06WLLMXF8_6, B06WLLMXF8_7, B06WLLMXF8_8, B06WLLMXF8_9, B06WLLMXF8_10\", B073V2797Y_2, B073V2797Y_3, B073V2797Y_4, B073V2797Y_5, B073V2797Y_6, B073V2797Y_7, B073V2797Y_8, B073V2797Y_9, B073V2797Y_10\", B01M9AL8QZ_2, B01M9AL8QZ_5, B01M9AL8QZ_9, \"B00B5951YU_1, B00B5951YU_4, B00B5951YU_5, B00B5951YU_6, B00B5951YU_7, B00J3LXLEO_2, B00J3LXLEO_3, B00J3LXLEO_4, B00J3LXLEO_5, B00J3LXLEO_6, B00J3LXLEO_7, B00J3LXLEO_8, B00J3LXLEO_9, B00J3LXLEO_10\", \"B00JFP2ILU_1, B00JFP2ILU_3, B00JFP2ILU_8, B00JFP2ILU_9, B00JFP2ILU_10\", B071RZY5B5_2, B071RZY5B5_3, B071RZY5B5_4, B071RZY5B5_5, B071RZY5B5_6, B071RZY5B5_7, B071RZY5B5_8, B071RZY5B5_9, B071RZY5B5_10\", \"B0191JFHNA_1, B0191JFHNA_4, B0191JFHNA_5, B0191JFHNA_6, B0191JFHNA_9, B01M9JKSLN_2, B01M9JKSLN_3, B01M9JKSLN_4, B01M9JKSLN_5, B01M9JKSLN_6, B01M9JKSLN_7, B01M9JKSLN_8, B01M9JKSLN_9, B01M9JKSLN_10\", \"B0756J5H6D_1, B0756J5H6D_2, B0756J5H6D_3, B0756J5H6D_4, B0756J5H6D_5, B0756J5H6D_6, B0756J5H6D_7, B0756J5H6D_8, B0756J5H6D_9, B0756J5H6D_10\", \"B01M8FQH7W_1, B01M8FQH7W_3, B01M8FQH7W_4, B01M8FQH7W_5, B01M8FQH7W_6, B01M8FQH7W_8, B01M8FQH7W_10\", B01M4IPTZQ_2, B01M4IPTZQ_5, B01M4IPTZQ_9, \"B0001WGIKS_1, B0001WGIKS_2, B0001WGIKS_3, B0001WGIKS_4, B0001WGIKS_5, B0001WGIKS_6, B0001WGIKS_7, B0001WGIKS_8, B0001WGIKS_9, B0001WGIKS_10\", B0743GLTL2_3, B0743GLTL2_4, B0743GLTL2_5, B0743GLTL2_6, B0743GLTL2_7, B0743GLTL2_8, B0743GLTL2_9, B0743GLTL2_10\", B00U7EX51K_2, B00U7EX51K_3, B00U7EX51K_4, B00U7EX51K_5, B00U7EX51K_6, B00U7EX51K_7, B00U7EX51K_8, B00U7EX51K_9, B00U7EX51K_10\", \"B0191JFMO4_1, B0191JFMO4_4, B0191JFMO4_5, B0191JFMO4_6, B0191JFMO4_9, \"B0191JFMTO_1, B0191JFMTO_4, B0191JFMTO_5, B0191JFMTO_6, B0191JFMTO_7, B00F25KFM6_2, B00F25KFM6_3, B00F25KFM6_5, B00F25KFM6_9, B00F25KFM6_10\", B075S4R1YH_2, B075S4R1YH_3, B075S4R1YH_4, B075S4R1YH_5, B075S4R1YH_6, B075S4R1YH_7, B075S4R1YH_8, B075S4R1YH_9, B075S4R1YH_10\", \"B01EYDCZAQ_1, B01EYDCZAQ_2, B01EYDCZAQ_3, B01EYDCZAQ_4, B01EYDCZAQ_5, B01EYDCZAQ_6, B01EYDCZAQ_7, B01EYDCZAQ_8, B01EYDCZAQ_9, B01EYDCZAQ_10\", \"B073RJMRR6_1, B073RJMRR6_7, B011HXHFQK_2, B011HXHFQK_3, B011HXHFQK_4, B011HXHFQK_5, B011HXHFQK_6, B011HXHFQK_7, B011HXHFQK_8, B011HXHFQK_9, B011HXHFQK_10\", B00U7EXD0I_2, B00U7EXD0I_5, B00U7EXD0I_6, B00U7EXD0I_7, B00U7EXD0I_8, B00U7EXD0I_9, B00U7EXD0I_10\", \"B00CBT01PC_1, B00CBT01PC_4, B00CBT01PC_5, B00CBT01PC_6, B00CBT01PC_9, \"B018M0XDWG_1, B018M0XDWG_5, B018M0XDWG_9, B018M0XDWG_10\", \"B01N374DI5_1, B01N374DI5_3, B01N374DI5_4, B01N374DI5_5, B01N374DI5_6, B01N374DI5_7, B01N374DI5_8, B01N374DI5_9, B01N374DI5_10\", \"B00Y1XXRK2_1, B00Y1XXRK2_2, B00Y1XXRK2_5, B00Y1XXRK2_6, B00Y1XXRK2_7, B00Y1XXRK2_8, B00Y1XXRK2_9, \"B00F25KD7S_1, B00F25KD7S_3, B00F25KD7S_8, \"B00Y53V7XM_1, B00Y53V7XM_6, B00Y53V7XM_10\", B01M6WDH4L_2, B01M6WDH4L_5, B01M6WDH4L_9, B01M8HPJM5_2, B01M8HPJM5_5, B01M8HPJM5_9, B01AGTHY26_2, B01AGTHY26_3, B01AGTHY26_4, B01AGTHY26_5, B01AGTHY26_6, B01AGTHY26_7, B01AGTHY26_8, B01AGTHY26_9, B01AGTHY26_10\", B015WP13BW_4, B015WP13BW_5, B015WP13BW_6, B015WP13BW_7, B015WP13BW_8, B015WP13BW_9, B015WP13BW_10\", \"B007IGRV6U_1, B007IGRV6U_2, B007IGRV6U_3, B007IGRV6U_4, B007IGRV6U_5, B007IGRV6U_9, B007IGRV6U_10\", \"B009A45S2W_1, B009A45S2W_5, B009A45S2W_9, B009A45S2W_10\", B008LT0KFM_3, B008LT0KFM_4, B008LT0KFM_5, B008LT0KFM_6, B008LT0KFM_8, B008LT0KFM_9, \"B073RHXLN1_1, B073RHXLN1_7, B00U7EXD2G_4, B00U7EXD2G_5, B00U7EXD2G_6, B00U7EXD2G_7, B00U7EXD2G_8, B00U7EXD2G_9, B00U7EXD2G_10\", \"B008LQXR9Q_1, B008LQXR9Q_3, B008LQXR9Q_5, B008LQXR9Q_6, B008LQXR9Q_7, B008LQXR9Q_8, B008LQXR9Q_9, B008LQXR9Q_10\", \"B0002YM99Y_1, B0002YM99Y_3, B0002YM99Y_4, \"B00NFGZ0WO_1, B00NFGZ0WO_3, B00NFGZ0WO_8, B00NFGZ0WO_9, B00NFGZ0WO_10\", \"B0756JNLV1_1, B0756JNLV1_2, B0756JNLV1_3, B0756JNLV1_4, B0756JNLV1_5, B0756JNLV1_6, B0756JNLV1_7, B0756JNLV1_8, B0756JNLV1_9, B0756JNLV1_10\", B01M2D4X7D_2, B01M2D4X7D_3, B01M2D4X7D_4, B01M2D4X7D_5, B01M2D4X7D_6, B01M2D4X7D_7, B01M2D4X7D_8, B01M2D4X7D_9, B01M2D4X7D_10\", \"B00R5GYFZI_1, B00R5GYFZI_3, B00R5GYFZI_6, B00R5GYFZI_8, B00R5GYFZI_9, B00R5GYFZI_10\", B01M5AXN5L_2, B01M5AXN5L_3, B01M5AXN5L_6, B01M5AXN5L_7, B01M3YM13W_2, B01M3YM13W_3, B01M3YM13W_4, B01M3YM13W_5, B01M3YM13W_6, B01M3YM13W_7, B01M3YM13W_8, B01M3YM13W_9, B01M3YM13W_10\", B01M3PLS8I_2, B01M3PLS8I_5, B01M3PLS8I_9,"
     ]
    },
    {
     "name": "stderr",
     "output_type": "stream",
     "text": [
      "/usr/local/lib/python3.6/site-packages/ipykernel_launcher.py:10: DeprecationWarning: \n",
      ".ix is deprecated. Please use\n",
      ".loc for label based indexing or\n",
      ".iloc for positional indexing\n",
      "\n",
      "See the documentation here:\n",
      "http://pandas.pydata.org/pandas-docs/stable/indexing.html#ix-indexer-is-deprecated\n",
      "  # Remove the CWD from sys.path while we load stuff.\n"
     ]
    },
    {
     "name": "stdout",
     "output_type": "stream",
     "text": [
      " \"B01MDUOZAO_1, B01MDUOZAO_2, B01MDUOZAO_3, B01MDUOZAO_4, B01MDUOZAO_5, B01MDUOZAO_6, B01MDUOZAO_7, B01MDUOZAO_8, B01MDUOZAO_9, B01MDUOZAO_10\", B00CL2H1U2_2, B00CL2H1U2_4, B00CL2H1U2_8, B00U8K2LHW_3, B00U8K2LHW_5, B00U8K2LHW_6, B00U8K2LHW_7, B00U8K2LHW_8, B00U8K2LHW_9, B00U8K2LHW_10\", \"B075S59W5K_1, B075S59W5K_2, B075S59W5K_3, B075S59W5K_4, B075S59W5K_5, B075S59W5K_6, B075S59W5K_7, B075S59W5K_8, B075S59W5K_9, B075S59W5K_10\", \"B00V7U69QQ_1, B00V7U69QQ_3, B00V7U69QQ_4, B00V7U69QQ_6, B00V7U69QQ_9, B00V7U69QQ_10\", B00B9MU1DE_3, B00B9MU1DE_7, B0080AHHBM_7, B0080AHHBM_8, B01M7PAZ0M_2, B01M7PAZ0M_3, B01M7PAZ0M_6, B01M7PAZ0M_7, \"B073WNQGC7_1, B073WNQGC7_4, B073WNQGC7_5, B073WNQGC7_6, B073WNQGC7_7, B073WNQGC7_8, B073WNQGC7_9, B073WNQGC7_10\", B01JIJEPIQ_4, B01JIJEPIQ_9, \"B071P954CM_1, B071P954CM_4, B071P954CM_5, B071P954CM_8, B071P954CM_9, B071P954CM_10\", B01DU5M5T0_2, B01DU5M5T0_3, B01DU5M5T0_4, B01DU5M5T0_5, B01DU5M5T0_6, B01DU5M5T0_7, B01DU5M5T0_8, B01DU5M5T0_9, B01DU5M5T0_10\", B072PTTM41_2, B072PTTM41_3, B072PTTM41_4, B072PTTM41_5, B072PTTM41_6, B072PTTM41_7, B072PTTM41_8, B072PTTM41_9, B072PTTM41_10\", B06WLLMXF8_2, B06WLLMXF8_3, B06WLLMXF8_4, B06WLLMXF8_5, B06WLLMXF8_6, B06WLLMXF8_7, B06WLLMXF8_8, B06WLLMXF8_9, B06WLLMXF8_10\", B073V2797Y_2, B073V2797Y_3, B073V2797Y_4, B073V2797Y_5, B073V2797Y_6, B073V2797Y_7, B073V2797Y_8, B073V2797Y_9, B073V2797Y_10\", B01M9AL8QZ_2, B01M9AL8QZ_5, B01M9AL8QZ_9, \"B00B5951YU_1, B00B5951YU_4, B00B5951YU_5, B00B5951YU_6, B00B5951YU_7, B00J3LXLEO_2, B00J3LXLEO_3, B00J3LXLEO_4, B00J3LXLEO_5, B00J3LXLEO_6, B00J3LXLEO_7, B00J3LXLEO_8, B00J3LXLEO_9, B00J3LXLEO_10\", \"B00JFP2ILU_1, B00JFP2ILU_3, B00JFP2ILU_8, B00JFP2ILU_9, B00JFP2ILU_10\", B071RZY5B5_2, B071RZY5B5_3, B071RZY5B5_4, B071RZY5B5_5, B071RZY5B5_6, B071RZY5B5_7, B071RZY5B5_8, B071RZY5B5_9, B071RZY5B5_10\", \"B0191JFHNA_1, B0191JFHNA_4, B0191JFHNA_5, B0191JFHNA_6, B0191JFHNA_9, B01M9JKSLN_2, B01M9JKSLN_3, B01M9JKSLN_4, B01M9JKSLN_5, B01M9JKSLN_6, B01M9JKSLN_7, B01M9JKSLN_8, B01M9JKSLN_9, B01M9JKSLN_10\", \"B0756J5H6D_1, B0756J5H6D_2, B0756J5H6D_3, B0756J5H6D_4, B0756J5H6D_5, B0756J5H6D_6, B0756J5H6D_7, B0756J5H6D_8, B0756J5H6D_9, B0756J5H6D_10\", \"B01M8FQH7W_1, B01M8FQH7W_3, B01M8FQH7W_4, B01M8FQH7W_5, B01M8FQH7W_6, B01M8FQH7W_8, B01M8FQH7W_10\", B01M4IPTZQ_2, B01M4IPTZQ_5, B01M4IPTZQ_9, \"B0001WGIKS_1, B0001WGIKS_2, B0001WGIKS_3, B0001WGIKS_4, B0001WGIKS_5, B0001WGIKS_6, B0001WGIKS_7, B0001WGIKS_8, B0001WGIKS_9, B0001WGIKS_10\", B0743GLTL2_3, B0743GLTL2_4, B0743GLTL2_5, B0743GLTL2_6, B0743GLTL2_7, B0743GLTL2_8, B0743GLTL2_9, B0743GLTL2_10\", B00U7EX51K_2, B00U7EX51K_3, B00U7EX51K_4, B00U7EX51K_5, B00U7EX51K_6, B00U7EX51K_7, B00U7EX51K_8, B00U7EX51K_9, B00U7EX51K_10\", \"B0191JFMO4_1, B0191JFMO4_4, B0191JFMO4_5, B0191JFMO4_6, B0191JFMO4_9, \"B0191JFMTO_1, B0191JFMTO_4, B0191JFMTO_5, B0191JFMTO_6, B0191JFMTO_7, B00F25KFM6_2, B00F25KFM6_3, B00F25KFM6_5, B00F25KFM6_9, B00F25KFM6_10\", B075S4R1YH_2, B075S4R1YH_3, B075S4R1YH_4, B075S4R1YH_5, B075S4R1YH_6, B075S4R1YH_7, B075S4R1YH_8, B075S4R1YH_9, B075S4R1YH_10\", \"B01EYDCZAQ_1, B01EYDCZAQ_2, B01EYDCZAQ_3, B01EYDCZAQ_4, B01EYDCZAQ_5, B01EYDCZAQ_6, B01EYDCZAQ_7, B01EYDCZAQ_8, B01EYDCZAQ_9, B01EYDCZAQ_10\", \"B073RJMRR6_1, B073RJMRR6_7, B011HXHFQK_2, B011HXHFQK_3, B011HXHFQK_4, B011HXHFQK_5, B011HXHFQK_6, B011HXHFQK_7, B011HXHFQK_8, B011HXHFQK_9, B011HXHFQK_10\", B00U7EXD0I_2, B00U7EXD0I_5, B00U7EXD0I_6, B00U7EXD0I_7, B00U7EXD0I_8, B00U7EXD0I_9, B00U7EXD0I_10\", \"B00CBT01PC_1, B00CBT01PC_4, B00CBT01PC_5, B00CBT01PC_6, B00CBT01PC_9, \"B018M0XDWG_1, B018M0XDWG_5, B018M0XDWG_9, B018M0XDWG_10\", \"B01N374DI5_1, B01N374DI5_3, B01N374DI5_4, B01N374DI5_5, B01N374DI5_6, B01N374DI5_7, B01N374DI5_8, B01N374DI5_9, B01N374DI5_10\", \"B00Y1XXRK2_1, B00Y1XXRK2_2, B00Y1XXRK2_5, B00Y1XXRK2_6, B00Y1XXRK2_7, B00Y1XXRK2_8, B00Y1XXRK2_9, \"B00F25KD7S_1, B00F25KD7S_3, B00F25KD7S_8, \"B00Y53V7XM_1, B00Y53V7XM_6, B00Y53V7XM_10\", B01M6WDH4L_2, B01M6WDH4L_5, B01M6WDH4L_9, B01M8HPJM5_2, B01M8HPJM5_5, B01M8HPJM5_9, B01AGTHY26_2, B01AGTHY26_3, B01AGTHY26_4, B01AGTHY26_5, B01AGTHY26_6, B01AGTHY26_7, B01AGTHY26_8, B01AGTHY26_9, B01AGTHY26_10\", B015WP13BW_4, B015WP13BW_5, B015WP13BW_6, B015WP13BW_7, B015WP13BW_8, B015WP13BW_9, B015WP13BW_10\", \"B007IGRV6U_1, B007IGRV6U_2, B007IGRV6U_3, B007IGRV6U_4, B007IGRV6U_5, B007IGRV6U_9, B007IGRV6U_10\", \"B009A45S2W_1, B009A45S2W_5, B009A45S2W_9, B009A45S2W_10\", B008LT0KFM_3, B008LT0KFM_4, B008LT0KFM_5, B008LT0KFM_6, B008LT0KFM_8, B008LT0KFM_9, \"B073RHXLN1_1, B073RHXLN1_7, B00U7EXD2G_4, B00U7EXD2G_5, B00U7EXD2G_6, B00U7EXD2G_7, B00U7EXD2G_8, B00U7EXD2G_9, B00U7EXD2G_10\", \"B008LQXR9Q_1, B008LQXR9Q_3, B008LQXR9Q_5, B008LQXR9Q_6, B008LQXR9Q_7, B008LQXR9Q_8, B008LQXR9Q_9, B008LQXR9Q_10\", \"B0002YM99Y_1, B0002YM99Y_3, B0002YM99Y_4, \"B00NFGZ0WO_1, B00NFGZ0WO_3, B00NFGZ0WO_8, B00NFGZ0WO_9, B00NFGZ0WO_10\", \"B0756JNLV1_1, B0756JNLV1_2, B0756JNLV1_3, B0756JNLV1_4, B0756JNLV1_5, B0756JNLV1_6, B0756JNLV1_7, B0756JNLV1_8, B0756JNLV1_9, B0756JNLV1_10\", B01M2D4X7D_2, B01M2D4X7D_3, B01M2D4X7D_4, B01M2D4X7D_5, B01M2D4X7D_6, B01M2D4X7D_7, B01M2D4X7D_8, B01M2D4X7D_9, B01M2D4X7D_10\", \"B00R5GYFZI_1, B00R5GYFZI_3, B00R5GYFZI_6, B00R5GYFZI_8, B00R5GYFZI_9, B00R5GYFZI_10\", B01M5AXN5L_2, B01M5AXN5L_3, B01M5AXN5L_6, B01M5AXN5L_7, B01M3YM13W_2, B01M3YM13W_3, B01M3YM13W_4, B01M3YM13W_5, B01M3YM13W_6, B01M3YM13W_7, B01M3YM13W_8, B01M3YM13W_9, B01M3YM13W_10\", B01M3PLS8I_2, B01M3PLS8I_5, B01M3PLS8I_9, \"B01MDUOZAO_1, B01MDUOZAO_2, B01MDUOZAO_3, B01MDUOZAO_4, B01MDUOZAO_5, B01MDUOZAO_6, B01MDUOZAO_7, B01MDUOZAO_8, B01MDUOZAO_9, B01MDUOZAO_10\", B00CL2H1U2_2, B00CL2H1U2_4, B00CL2H1U2_8, B00U8K2LHW_3, B00U8K2LHW_5, B00U8K2LHW_6, B00U8K2LHW_7, B00U8K2LHW_8, B00U8K2LHW_9, B00U8K2LHW_10\", \"B075S59W5K_1, B075S59W5K_2, B075S59W5K_3, B075S59W5K_4, B075S59W5K_5, B075S59W5K_6, B075S59W5K_7, B075S59W5K_8, B075S59W5K_9, B075S59W5K_10\", \"B00V7U69QQ_1, B00V7U69QQ_3, B00V7U69QQ_4, B00V7U69QQ_6, B00V7U69QQ_9, B00V7U69QQ_10\", B006ZWJJO0_3, B006ZWJJO0_6, B006ZWJJO0_7, B006ZWJJO0_10\", \"B01BX4F79K_1, B01BX4F79K_2, B01BX4F79K_3, B01BX4F79K_4, B01BX4F79K_5, B01BX4F79K_6, B01BX4F79K_10\", B00B9MU1DE_3, B00B9MU1DE_7, \"B00MO1WP6A_1, B00MO1WP6A_3, B00MO1WP6A_5, B00MO1WP6A_6, B00MO1WP6A_9, B00MO1WP6A_10\", \"B01FH0483W_1, B01FH0483W_2, B01FH0483W_3, B01FH0483W_8, B01FH0483W_9, B01FH0483W_10\", \"B0742KJZ2K_1, B0742KJZ2K_2, B0742KJZ2K_3, B0742KJZ2K_4, B0742KJZ2K_5, B0742KJZ2K_6, B0742KJZ2K_7, B0742KJZ2K_8, B0742KJZ2K_9, B0742KJZ2K_10\", B00S83XTJA_4, B00S83XTJA_7, B00S83XTJA_9, B00S83XTJA_10\", \"B006DY9LDY_1, B006DY9LDY_2, B006DY9LDY_3, B006DY9LDY_4, B006DY9LDY_5, B006DY9LDY_6, B006DY9LDY_7, B006DY9LDY_8, B006DY9LDY_9, B006DY9LDY_10\", \"B0722PW59L_1, B0722PW59L_2, B0722PW59L_3, B0722PW59L_4, B0722PW59L_5, B0722PW59L_6, B0722PW59L_7, B0722PW59L_8, B0722PW59L_9, B0722PW59L_10\", B00X33ESF4_2, B00X33ESF4_3, B00X33ESF4_4, B00X33ESF4_5, B00X33ESF4_6, B00X33ESF4_7, B00X33ESF4_8, B00X33ESF4_9, B00X33ESF4_10\", \"B00IF24GFA_1, B00IF24GFA_3, B00IF24GFA_5, B00IF24GFA_6, B00IF24GFA_9, B00IF24GFA_10\", \"B01MRST8XG_1, B01MRST8XG_2, B01MRST8XG_3, B01MRST8XG_4, B01MRST8XG_5, B01MRST8XG_6, B01MRST8XG_10\", \"B001381OQM_1, B001381OQM_3, B001381OQM_4, B001381OQM_5, B001381OQM_6, B001381OQM_7, B001381OQM_8, B001381OQM_9, B001381OQM_10\", B01DUABEOW_7, \"B01BX4F6X2_1, B01BX4F6X2_2, B01BX4F6X2_3, B01BX4F6X2_4, B01BX4F6X2_5, B01BX4F6X2_6, B01BX4F6X2_10\", B00LLYP6QM_2, B00LLYP6QM_3, B00LLYP6QM_4, B00LLYP6QM_7, B00LLYP6QM_8, B00LLYP6QM_10\", \"B01HPGFJ3E_1, B01HPGFJ3E_2, B01HPGFJ3E_4, B01HPGFJ3E_6, B01HPGFJ3E_7, B01HPGFJ3E_8, B01HPGFJ3E_10\", B00U7EX51K_2, B00U7EX51K_3, B00U7EX51K_4, B00U7EX51K_5, B00U7EX51K_6, B00U7EX51K_7, B00U7EX51K_8, B00U7EX51K_9, B00U7EX51K_10\", B01DUABF50_7, \"B00I65HRES_1, B00I65HRES_6, B00I65HRES_7, B00I65HRES_8, B00I65HRES_9, B00I65HRES_10\", B00RYZR3SG_2, B00RYZR3SG_3, B00RYZR3SG_5, B00RYZR3SG_6, B00RYZR3SG_7, B00RYZR3SG_8, B00RYZR3SG_9, B00RYZR3SG_10\", \"B01MT0P0IB_1, B01MT0P0IB_2, B01MT0P0IB_3, B01MT0P0IB_4, B01MT0P0IB_5, B01MT0P0IB_6, B01MT0P0IB_10\", \"B00NTW0J20_1, B00NTW0J20_4, B00NTW0J20_5, B00NTW0J20_6, B00NTW0J20_9, \"B00B1D6YZ0_1, B00B1D6YZ0_2, B00B1D6YZ0_3, B00B1D6YZ0_5, B00B1D6YZ0_6, B00B1D6YZ0_7, B00B1D6YZ0_8, \"B0073RSVMC_1, B0073RSVMC_2, B0073RSVMC_8, B0073RSVMC_9, B0073RSVMC_10\", B001B6N2JI_4, B001B6N2JI_5, B001B6N2JI_6, B001B6N2JI_10\", \"B016ZOLKVW_1, B016ZOLKVW_2, B016ZOLKVW_4, B016ZOLKVW_6, B016ZOLKVW_8, \"B01N6GQ9JY_1, B01N6GQ9JY_2, B01N6GQ9JY_3, B01N6GQ9JY_4, B01N6GQ9JY_8, B01N6GQ9JY_9, B01N6GQ9JY_10\", \"B00UBTOERA_1, B00UBTOERA_2, B00UBTOERA_3, B00UBTOERA_4, B00UBTOERA_5, B00UBTOERA_6, B00UBTOERA_7, B00UBTOERA_8, B00UBTOERA_9, B00UBTOERA_10\", \"B00Y53V7XM_1, B00Y53V7XM_6, B00Y53V7XM_10\", B075V71FM8_2, B075V71FM8_3, B075V71FM8_4, B075V71FM8_5, B075V71FM8_6, B075V71FM8_7, B075V71FM8_8, B075V71FM8_9, B075V71FM8_10\", \"B01HPGFRKY_1, B01HPGFRKY_2, B01HPGFRKY_4, B01HPGFRKY_6, B01HPGFRKY_7, B01HPGFRKY_8, B01HPGFRKY_10\", B001B6N2IY_4, B001B6N2IY_5, B001B6N2IY_6, B001B6N2IY_10\", B004KAAR9K_3, B004KAAR9K_7, \"B01HEQGPBU_1, B01HEQGPBU_2, B01HEQGPBU_4, B01HEQGPBU_6, B01HEQGPBU_7, B01HEQGPBU_8, B01HEQGPBU_10\", \"B009A45S2W_1, B009A45S2W_5, B009A45S2W_9, B009A45S2W_10\", \"B00292ANK4_1, B00292ANK4_3, B00292ANK4_4, B00292ANK4_5, B00292ANK4_6, B00292ANK4_7, B00292ANK4_8, B00292ANK4_10\", B01DUABL8G_7, B001B6LAOC_4, B001B6LAOC_5, B001B6LAOC_6, B001B6LAOC_10\", B01DUABEQA_7, B004KAARCM_4, B004KAARCM_5, B004KAARCM_6, B004KAARCM_10\", B01DUABLE0_7, \"B008LQXR9Q_1, B008LQXR9Q_3, B008LQXR9Q_5, B008LQXR9Q_6, B008LQXR9Q_7, B008LQXR9Q_8, B008LQXR9Q_9, B008LQXR9Q_10\", \"B00W4ZE7GW_1, B00W4ZE7GW_3, B00W4ZE7GW_4, B00W4ZE7GW_5, B00W4ZE7GW_6, B00W4ZE7GW_7, B00W4ZE7GW_8, B00W4ZE7GW_9, B00W4ZE7GW_10\", \"B01K1WC0Z4_1, B01K1WC0Z4_2, B01K1WC0Z4_3, B01K1WC0Z4_4, B01K1WC0Z4_5, B01K1WC0Z4_6, B01K1WC0Z4_7, B01K1WC0Z4_8, B01K1WC0Z4_9, B01K1WC0Z4_10\", \"B00MO1WLBY_1, B00MO1WLBY_2, B00MO1WLBY_4, B00MO1WLBY_5, B00MO1WLBY_6, B00MO1WLBY_7, B00MO1WLBY_10\", \"B00HL2EMSQ_1, B00HL2EMSQ_2, B00HL2EMSQ_3, B00HL2EMSQ_5, B00HL2EMSQ_6, B00HL2EMSQ_9, B00HL2EMSQ_10\", \"B06XCR3SRT_1, B06XCR3SRT_2, B06XCR3SRT_3, B06XCR3SRT_4, B06XCR3SRT_5, B06XCR3SRT_6, B06XCR3SRT_7, B06XCR3SRT_8, B06XCR3SRT_9, B06XCR3SRT_10\", B01DUABF6E_7, \"B01B55C2KE_1, B01B55C2KE_2, B01B55C2KE_3, B01B55C2KE_4, B01B55C2KE_5, B01B55C2KE_6, B01B55C2KE_7, B01B55C2KE_8, B01B55C2KE_9, B01B55C2KE_10\", \"B0010MJ2G0_1, B0010MJ2G0_2, B0010MJ2G0_4, B0010MJ2G0_6, B0010MJ2G0_7, B0010MJ2G0_8, B0010MJ2G0_10\", \"B01MS3MSWM_1, B01MS3MSWM_3, B01MS3MSWM_4, B01MS3MSWM_8, B01MS3MSWM_10\", \"B0038APD2E_1, B0038APD2E_2, B0038APD2E_3, B0038APD2E_4, B0038APD2E_5, B0038APD2E_6, B0038APD2E_7, B0038APD2E_8, B0038APD2E_9, B0038APD2E_10\", B01DUABL9K_7, \"B071YDWKJ1_1, B071YDWKJ1_2, B071YDWKJ1_4, B071YDWKJ1_5, B071YDWKJ1_9, B071YDWKJ1_10\", \"B0014BLM4C_1, B0014BLM4C_2, B0014BLM4C_3, B0014BLM4C_5, B0014BLM4C_6, B0014BLM4C_8, B0014BLM4C_9, B01DUABEQK_7, \"B01K7GTMHS_1, B01K7GTMHS_2, B01K7GTMHS_3, B01K7GTMHS_4, B01K7GTMHS_5, B01K7GTMHS_6, B01K7GTMHS_10\", B00CL2H1U2_2, B00CL2H1U2_4, B00CL2H1U2_8, \"B06XCKP2KX_1, B06XCKP2KX_2, B06XCKP2KX_3, B06XCKP2KX_4, B06XCKP2KX_5, B06XCKP2KX_6, B06XCKP2KX_7, B06XCKP2KX_8, B06XCKP2KX_9, B06XCKP2KX_10\", \"B06XCKR9C1_1, B06XCKR9C1_2, B06XCKR9C1_3, B06XCKR9C1_4, B06XCKR9C1_5, B06XCKR9C1_6, B06XCKR9C1_7, B06XCKR9C1_8, B06XCKR9C1_9, B06XCKR9C1_10\", B01K7GT1CO_2, B01K7GT1CO_4, B01K7GT1CO_5, B01K7GT1CO_7, B01K7GT1CO_8, B01K7GT1CO_9, B01K7GT1CO_10\", \"B01B55BPCU_1, B01B55BPCU_2, B01B55BPCU_3, B01B55BPCU_4, B01B55BPCU_5, B01B55BPCU_6, B01B55BPCU_7, B01B55BPCU_8, B01B55BPCU_9, B01B55BPCU_10\", \"B00N3T3JXU_1, B00N3T3JXU_2, B00N3T3JXU_4, B00N3T3JXU_6, B00N3T3JXU_7, B00N3T3JXU_8, B00N3T3JXU_10\", B06WWR2RQ7_3, B06WWR2RQ7_4, B06WWR2RQ7_5, B06WWR2RQ7_6, B06WWR2RQ7_7, B06WWR2RQ7_8, B06WWR2RQ7_9, B06WWR2RQ7_10\", \"B015EB2BLK_1, B015EB2BLK_2, B015EB2BLK_3, B015EB2BLK_4, B015EB2BLK_6, B015EB2BLK_10\", B013UL59N8_2, B013UL59N8_3, B013UL59N8_4, B013UL59N8_5, B013UL59N8_7, B013UL59N8_8, B013UL59N8_10\", \"B06WLGP1HQ_1, B06WLGP1HQ_2, B06WLGP1HQ_3, B06WLGP1HQ_4, B06WLGP1HQ_5, B06WLGP1HQ_6, B06WLGP1HQ_7, B06WLGP1HQ_8, B06WLGP1HQ_9, B06WLGP1HQ_10\", \"B0191JFHW6_1, B0191JFHW6_2, B0191JFHW6_9, B0191JFHW6_10\", B014DEHUU6_2, B014DEHUU6_3, B014DEHUU6_4, B014DEHUU6_5, B014DEHUU6_6, B014DEHUU6_7, B014DEHUU6_8, B014DEHUU6_9, B014DEHUU6_10\", B005N1L4NS_2, B005N1L4NS_3, B005N1L4NS_4, B005N1L4NS_5, B005N1L4NS_6, B005N1L4NS_7, B005N1L4NS_8, B005N1L4NS_9, B005N1L4NS_10\", B0783MSZHJ_2, B0783MSZHJ_3, B0783MSZHJ_4, B0783MSZHJ_5, B0783MSZHJ_6, B0783MSZHJ_7, B0783MSZHJ_8, B0783MSZHJ_9, B0783MSZHJ_10\", B01MR0FODO_2, B01MR0FODO_3, B01MR0FODO_4, B01MR0FODO_5, B01MR0FODO_6, B01MR0FODO_7, B01MR0FODO_8, B01MR0FODO_9, B01MR0FODO_10\", B00PJHPIWY_4, B00PJHPIWY_5, B00PJHPIWY_7, B00PJHPIWY_8, B00PJHPIWY_9, B00PJHPIWY_10\", \"B00JXDOQN2_1, B00JXDOQN2_3, B00JXDOQN2_4, B00JXDOQN2_5, B00JXDOQN2_6, B00JXDOQN2_7, B00JXDOQN2_8, B00JXDOQN2_9, B00JXDOQN2_10\", \"B01MYFBTN2_1, B01MYFBTN2_2, B01MYFBTN2_3, B01MYFBTN2_4, B01MYFBTN2_5, B01MYFBTN2_6, B01MYFBTN2_7, B01MYFBTN2_8, B01MYFBTN2_10\", B00JXDPVF4_2, B00JXDPVF4_3, B00JXDPVF4_4, B00JXDPVF4_5, B00JXDPVF4_6, B00JXDPVF4_7, B00JXDPVF4_8, B00JXDPVF4_9, B00JXDPVF4_10\", \"B01B4NLOW4_1, B01B4NLOW4_2, B01B4NLOW4_3, B01B4NLOW4_4, B01B4NLOW4_6, B01B4NLOW4_9, B01B4NLOW4_10\", B00FZMDLRC_2, B00FZMDLRC_3, B00FZMDLRC_4, B00FZMDLRC_5, B00FZMDLRC_6, B00FZMDLRC_7, B00FZMDLRC_8, B00FZMDLRC_9, B00FZMDLRC_10\", \"B00E4BGB90_1, B00E4BGB90_2, B00E4BGB90_6, B00E4BGB90_7, B00E4BGB90_9, B002APDYV0_2, B002APDYV0_3, B002APDYV0_5, B002APDYV0_6, B002APDYV0_8, B002APDYV0_9, B002APDYV0_10\", B016LBYHYQ_3, B016LBYHYQ_5, B016LBYHYQ_7, B016LBYHYQ_8, B016LBYHYQ_10\", \"B007V7M6UW_1, B007V7M6UW_6, B007V7M6UW_7, B007V7M6UW_8, B007V7M6UW_10\", \"B00JXDOLS2_1, B00JXDOLS2_2, B00JXDOLS2_3, B00JXDOLS2_4, B00JXDOLS2_5, B00JXDOLS2_6, B00JXDOLS2_7, B00JXDOLS2_8, B00JXDOLS2_9, B00JXDOLS2_10\", \"B01N29I8GD_1, B01N29I8GD_2, B01N29I8GD_3, B01N29I8GD_4, B01N29I8GD_5, B01N29I8GD_6, B01N29I8GD_7, B01N29I8GD_8, B01N29I8GD_10\", \"B01LYU0AG9_1, B01LYU0AG9_2, B01LYU0AG9_3, B01LYU0AG9_4, B01LYU0AG9_5, B01LYU0AG9_6, B01LYU0AG9_7, B01LYU0AG9_8, B01LYU0AG9_9, B01LYU0AG9_10\", B016LBYEXK_3, B016LBYEXK_5, B016LBYEXK_7, B016LBYEXK_8, B016LBYEXK_10\", B01ABS3YXU_2, B01ABS3YXU_3, B01ABS3YXU_4, B01ABS3YXU_6, B01ABS3YXU_7, B01ABS3YXU_9, B077MF7NF9_2, B077MF7NF9_3, B077MF7NF9_4, B077MF7NF9_5, B077MF7NF9_6, B077MF7NF9_7, B077MF7NF9_8, B077MF7NF9_9, B077MF7NF9_10\", \"B074F1DWV4_1, B074F1DWV4_2, B074F1DWV4_3, B074F1DWV4_4, B074F1DWV4_5, B074F1DWV4_6, B074F1DWV4_7, B074F1DWV4_8, B074F1DWV4_10\", \"B01N3B24FX_1, B01N3B24FX_2, B01N3B24FX_3, B01N3B24FX_4, B01N3B24FX_5, B01N3B24FX_6, B01N3B24FX_7, B01N3B24FX_8, B01N3B24FX_10\", \"B000BVYQ9O_1, B000BVYQ9O_4, B000BVYQ9O_5, B000BVYQ9O_6, B000BVYQ9O_7, B000BVYQ9O_8, B000BVYQ9O_9, B000BVYQ9O_10\", \"B072MZ89YG_1, B072MZ89YG_2, B072MZ89YG_3, B072MZ89YG_4, B072MZ89YG_5, B072MZ89YG_6, B072MZ89YG_7, B072MZ89YG_8, B072MZ89YG_10\", \"B00B1Z6EPS_1, B00B1Z6EPS_2, B00B1Z6EPS_3, B00B1Z6EPS_4, B00B1Z6EPS_7, B00B1Z6EPS_10\", B00YMIWTO6_4, B00YMIWTO6_5, B00YMIWTO6_7, B00YMIWTO6_8, B00YMIWTO6_9, B00YMIWTO6_10\", \"B00B16U502_1, B00B16U502_2, B00B16U502_3, B00B16U502_4, B00B16U502_5, B00B16U502_6, B00B16U502_7, B00B16U502_8, B00B16U502_9, B00B16U502_10\", \"B075S8KXDL_1, B075S8KXDL_2, B075S8KXDL_3, B075S8KXDL_4, B075S8KXDL_5, B075S8KXDL_6, B075S8KXDL_7, B075S8KXDL_8, B075S8KXDL_9, B075S8KXDL_10\", \"B06VXZBDPX_1, B06VXZBDPX_2, B06VXZBDPX_4, B06VXZBDPX_6, B06VXZBDPX_7, B06VXZBDPX_8, B06VXZBDPX_9, B06VXZBDPX_10\", B016LBYIRW_3, B016LBYIRW_5, B016LBYIRW_7, B016LBYIRW_8, B016LBYIRW_10\", B002APM86M_2, B002APM86M_3, B002APM86M_5, B002APM86M_6, B002APM86M_8, B002APM86M_9, B002APM86M_10\", B077N22LC9_2, B077N22LC9_3, B077N22LC9_4, B077N22LC9_5, B077N22LC9_6, B077N22LC9_7, B077N22LC9_8, B077N22LC9_9, B077N22LC9_10\", B01ABS3XSG_2, B01ABS3XSG_3, B01ABS3XSG_4, B01ABS3XSG_6, B01ABS3XSG_7, B01ABS3XSG_9, \"B009A449FY_1, B009A449FY_2, B009A449FY_6, B009A449FY_7, B009A449FY_9, B06W2PM4M9_2, B06W2PM4M9_6, B06W2PM4M9_7, B06W2PM4M9_8, B06W2PM4M9_9, B06W2PM4M9_10\", \"B01HNSL31Q_1, B01HNSL31Q_2, B01HNSL31Q_4, B01HNSL31Q_5, B01HNSL31Q_6, B01HNSL31Q_7, B01HNSL31Q_8, B01HNSL31Q_9, B01HNSL31Q_10\", B07842RX42_2, B07842RX42_3, B07842RX42_4, B07842RX42_5, B07842RX42_6, B07842RX42_7, B07842RX42_8, B07842RX42_9, B07842RX42_10\", \"B014DEIBOA_1, B014DEIBOA_2, B014DEIBOA_3, B014DEIBOA_4, B014DEIBOA_6, B014DEIBOA_8, B014DEIBOA_9, B014DEIBOA_10\", \"B06Y195XSD_1, B06Y195XSD_2, B06Y195XSD_3, B06Y195XSD_4, B06Y195XSD_5, B06Y195XSD_6, B06Y195XSD_7, B06Y195XSD_8, B06Y195XSD_9, B06Y195XSD_10\", \"B01EUGPCT8_1, B01EUGPCT8_2, B01EUGPCT8_4, B01EUGPCT8_5, B01EUGPCT8_8, \"B01ALIQY1E_1, B01ALIQY1E_3, B01ALIQY1E_4, B01ALIQY1E_5, B01ALIQY1E_6, B01ALIQY1E_7, B01ALIQY1E_8, B01ALIQY1E_9, B01ALIQY1E_10\", B0034IX85O_2, B0034IX85O_5, B0034IX85O_6, B0034IX85O_7, B0034IX85O_8, B0034IX85O_9, B0034IX85O_10\", B00AV8XBGG_2, B00AV8XBGG_3, B00AV8XBGG_4, B00AV8XBGG_5, B00AV8XBGG_6, B00AV8XBGG_7, B00AV8XBGG_8, B00AV8XBGG_9, B00AV8XBGG_10\", B003WE8U1C_2, B003WE8U1C_3, B003WE8U1C_4, B003WE8U1C_5, B003WE8U1C_6, B003WE8U1C_8, B003WE8U1C_9, B003WE8U1C_10\", B01BCZDO9K_2, B01BCZDO9K_3, B01BCZDO9K_4, B01BCZDO9K_5, B01BCZDO9K_6, B01BCZDO9K_8, B01BCZDO9K_9, B01BCZDO9K_10\", \"B0000Y8I0K_1, B0000Y8I0K_5, B0000Y8I0K_6, B0000Y8I0K_7, B0000Y8I0K_8, B0000Y8I0K_9, B0000Y8I0K_10\", \"B01CXT01WW_1, B01CXT01WW_2, B01CXT01WW_4, B01CXT01WW_8, B01CXT01WW_10\", B06XTMCCM7_3, B06XTMCCM7_4, B06XTMCCM7_5, B06XTMCCM7_6, B06XTMCCM7_7, B06XTMCCM7_8, B06XTMCCM7_9, B06XTMCCM7_10\", \"B00AWMKQEG_1, B00AWMKQEG_2, B00AWMKQEG_4, B00AWMKQEG_5, B00AWMKQEG_8, B00AWMKQEG_9, B00AWMKQEG_10\", \"B00UT34UQI_1, B00UT34UQI_2, B00UT34UQI_3, B00UT34UQI_4, B00UT34UQI_5, B00UT34UQI_6, B00UT34UQI_8, B00UT34UQI_9, B00UT34UQI_10\", \"B00P8O2ED4_1, B00P8O2ED4_2, B00P8O2ED4_3, B00P8O2ED4_4, B00P8O2ED4_5, B00P8O2ED4_6, B00P8O2ED4_7, B00P8O2ED4_8, B00P8O2ED4_9, B00P8O2ED4_10\", B00Z0IIEAU_3, B00Z0IIEAU_6, B00Z0IIEAU_7, B00Z0IIEAU_8, B00Z0IIEAU_9, B00Z0IIEAU_10\", \"B0160JBGRA_1, B0160JBGRA_2, B0160JBGRA_3, B0160JBGRA_4, B0160JBGRA_5, B0160JBGRA_6, B0160JBGRA_7, B0160JBGRA_8, B0160JBGRA_9, B0160JBGRA_10\", \"B01822U9LM_1, B01822U9LM_3, B01822U9LM_4, B01822U9LM_6, B01822U9LM_7, B01822U9LM_8, B01822U9LM_9, B01822U9LM_10\", \"B06XTM8L86_1, B06XTM8L86_2, B06XTM8L86_3, B06XTM8L86_4, B06XTM8L86_8, B06XTM8L86_9, B00G5JW4FY_2, B00G5JW4FY_3, B00G5JW4FY_4, B00G5JW4FY_5, B00G5JW4FY_6, B00G5JW4FY_7, B00G5JW4FY_8, B00G5JW4FY_9, B00G5JW4FY_10\", \"B007CGL9GE_1, B007CGL9GE_2, B007CGL9GE_3, B007CGL9GE_4, B007CGL9GE_7, B007CGL9GE_9, B007CGL9GE_10\", B0103AHP90_5, B0103AHP90_7, B0103AHP90_9, B000BZ6TZE_2, B000BZ6TZE_3, B000BZ6TZE_5, B000BZ6TZE_6, B000BZ6TZE_7, B000BZ6TZE_8, B01ET2ZRJS_2, B01ET2ZRJS_3, B01ET2ZRJS_4, B01ET2ZRJS_5, B01ET2ZRJS_6, B01ET2ZRJS_7, B01ET2ZRJS_8, B01ET2ZRJS_9, B01ET2ZRJS_10\", B004560BPY_6, B004560BPY_7, B004560BPY_8, B004560BPY_9, B004560BPY_10\", \"B06Y4667D2_1, B06Y4667D2_2, B06Y4667D2_3, B06Y4667D2_4, B06Y4667D2_5, B06Y4667D2_6, B06Y4667D2_7, B06Y4667D2_8, B06Y4667D2_9, B06Y4667D2_10\", B071ZMBVGN_3, B071ZMBVGN_4, B071ZMBVGN_5, B071ZMBVGN_6, B071ZMBVGN_7, B071ZMBVGN_8, B071ZMBVGN_9, B071ZMBVGN_10\", B001MBURM2_2, B001MBURM2_3, B001MBURM2_4, B001MBURM2_5, B001MBURM2_6, B001MBURM2_8, B001MBURM2_9, B001MBURM2_10\", B0053X62GK_5, B0053X62GK_7, B0053X62GK_9, \"B01A5YMCH4_1, B01A5YMCH4_3, B01A5YMCH4_4, B01A5YMCH4_5, B01A5YMCH4_6, B01A5YMCH4_7, B01A5YMCH4_8, B01A5YMCH4_9, B01A5YMCH4_10\", \"B000IXMP6Q_1, B000IXMP6Q_2, B000IXMP6Q_3, B000IXMP6Q_4, B000IXMP6Q_5, B000IXMP6Q_6, B000IXMP6Q_7, B000IXMP6Q_8, B000IXMP6Q_9, B000IXMP6Q_10\", \"B06Y42JFS5_1, B06Y42JFS5_3, B06Y42JFS5_4, B06Y42JFS5_6, B06Y42JFS5_7, B06Y42JFS5_8, B06Y42JFS5_9, B06Y42JFS5_10\", B00004WKPM_2, B00004WKPM_3, B00004WKPM_4, B00004WKPM_5, B00004WKPM_6, B00004WKPM_7, B00004WKPM_8, B00004WKPM_9, B00004WKPM_10\", B0719TQDVB_2, B0719TQDVB_3, B0719TQDVB_4, B0719TQDVB_5, B0719TQDVB_6, B0719TQDVB_7, B0719TQDVB_8, B0719TQDVB_9, B0719TQDVB_10\", B00CIXVIRQ_3, B00CIXVIRQ_4, B00CIXVIRQ_6, B00CIXVIRQ_8, \"B01N146D5O_1, B01N146D5O_4, B01N146D5O_5, B01N146D5O_6, B01N146D5O_7, B01N146D5O_8, B01N146D5O_9, B01N146D5O_10\", \"B01COSENNU_1, B01COSENNU_2, B01COSENNU_3, B01COSENNU_4, B01COSENNU_5, B01COSENNU_6, B01COSENNU_7, B01COSENNU_8, B01COSENNU_9, B01COSENNU_10\", \"B00JDVIPOU_1, B00JDVIPOU_2, B00JDVIPOU_3, B00JDVIPOU_6, B00JDVIPOU_7, B00JDVIPOU_8, B00JDVIPOU_10\", \"B011M0XXXM_1, B011M0XXXM_2, B011M0XXXM_3, B011M0XXXM_4, B011M0XXXM_5, B011M0XXXM_6, B011M0XXXM_7, B011M0XXXM_8, B011M0XXXM_9, B011M0XXXM_10\", \"B002HHQ8X2_1, B002HHQ8X2_2, B002HHQ8X2_3, B002HHQ8X2_4, B002HHQ8X2_5, B002HHQ8X2_6, B002HHQ8X2_7, B002HHQ8X2_10\", \"B00MO1WL46_1, B00MO1WL46_3, B00MO1WL46_4, B00MO1WL46_7, B00MO1WL46_8, B00MO1WL46_9, B00MO1WL46_10\", B00H8OINX2_2, B00H8OINX2_5, B00H8OINX2_7, B00H8OINX2_9, B00H8OINX2_10\", B007K5HC0Y_2, B007K5HC0Y_3, B007K5HC0Y_4, B007K5HC0Y_5, B007K5HC0Y_6, B007K5HC0Y_8, B007K5HC0Y_9, B01BEVH7GI_2, B01BEVH7GI_3, B01BEVH7GI_4, B01BEVH7GI_5, B01BEVH7GI_6, B01BEVH7GI_8, B01BEVH7GI_9, B01BEVH7GI_10\", \"B00Y53V7XM_1, B00Y53V7XM_6, B00Y53V7XM_10\", \"B0089E2JZ8_1, B0089E2JZ8_2, B0089E2JZ8_4, B0089E2JZ8_5, B0089E2JZ8_6, \"B00CIXVISU_1, B00CIXVISU_2, B00CIXVISU_3, B00CIXVISU_4, B00CIXVISU_5, B00CIXVISU_6, B00CIXVISU_7, B00CIXVISU_8, B00CIXVISU_9, B00CIXVISU_10\", \"B00K89KU4Y_1, B00K89KU4Y_2, B00K89KU4Y_3, B00K89KU4Y_5, B00K89KU4Y_6, B00K89KU4Y_7, B00K89KU4Y_8, B00K89KU4Y_9, B00K89KU4Y_10\", \"B00FEJPCNC_1, B00FEJPCNC_2, B00FEJPCNC_3, B00FEJPCNC_4, B00FEJPCNC_7, B00FEJPCNC_8, B00FEJPCNC_9, B01BG8QHW4_3, B01BG8QHW4_4, B01BG8QHW4_5, B01BG8QHW4_7, B01BG8QHW4_8, B00UBUL18Y_3, B00UBUL18Y_5, B00UBUL18Y_6, B00UBUL18Y_7, B00UBUL18Y_9, \"B00LLYPDGU_1, B00LLYPDGU_2, B00LLYPDGU_3, B00LLYPDGU_6, B00LLYPDGU_10\", \"B00CPHE7EQ_1, B00CPHE7EQ_2, B00CPHE7EQ_3, B00CPHE7EQ_4, B00CPHE7EQ_5, B00CPHE7EQ_7, B00CPHE7EQ_8, B00CPHE7EQ_10\", B01BEVH7L8_2, B01BEVH7L8_3, B01BEVH7L8_4, B01BEVH7L8_5, B01BEVH7L8_6, B01BEVH7L8_8, B01BEVH7L8_9, B01BEVH7L8_10\", \"B01N6XHI1L_1, B01N6XHI1L_2, B01N6XHI1L_3, B01N6XHI1L_4, B01N6XHI1L_5, B01N6XHI1L_6, B01N6XHI1L_7, B01N6XHI1L_8, B01N6XHI1L_9, B01N6XHI1L_10\", B00U5U5VWM_2, B00U5U5VWM_3, B00U5U5VWM_4, B00U5U5VWM_5, B00U5U5VWM_6, B00U5U5VWM_7, B00U5U5VWM_8, B00U5U5VWM_9, B00U5U5VWM_10\", B01ESSIQ9G_2, B01ESSIQ9G_3, B01ESSIQ9G_4, B01ESSIQ9G_5, B01ESSIQ9G_6, B01ESSIQ9G_7, B01ESSIQ9G_8, B01ESSIQ9G_9, B01ESSIQ9G_10\", B008BHR0TI_2, B008BHR0TI_6, B008BHR0TI_7, B008BHR0TI_8, B008BHR0TI_9, B008BHR0TI_10\", \"B000URL296_1, B000URL296_2, B000URL296_3, B000URL296_5, B000URL296_6, B000URL296_7, B000URL296_8, B000URL296_9, B000URL296_10\", B01EUGPD4W_4, B01EUGPD4W_7, B01EUGPD4W_8, B01EUGPD4W_10\", B01MY7C62V_2, B01MY7C62V_3, B01MY7C62V_5, B01MY7C62V_6, B01MY7C62V_7, B01MY7C62V_9, \"B00SKURVKY_1, B00SKURVKY_2, B00SKURVKY_3, B00SKURVKY_4, B00SKURVKY_5, B00SKURVKY_6, B00SKURVKY_7, B00SKURVKY_8, B00SKURVKY_9, \"B000P1PVMQ_1, B000P1PVMQ_2, B000P1PVMQ_3, B000P1PVMQ_4, B000P1PVMQ_5, B000P1PVMQ_6, B000P1PVMQ_7, B000P1PVMQ_8, B000P1PVMQ_9, B000P1PVMQ_10\", B000O94QTI_4, B000O94QTI_8, B000O94QTI_10\", B06XPLKM2R_2, B06XPLKM2R_3, B06XPLKM2R_4, B06XPLKM2R_5, B06XPLKM2R_6, B06XPLKM2R_7, B06XPLKM2R_8, B06XPLKM2R_9, B06XPLKM2R_10\", B00ZZVZPMW_2, B00ZZVZPMW_4, B00ZZVZPMW_7, B00ZZVZPMW_8, B00ZZVZPMW_9, B00ZZVZPMW_10\", \"B06Y459LZD_1, B06Y459LZD_3, B06Y459LZD_5, B06Y459LZD_6, B06Y459LZD_7, B06Y459LZD_8, B06Y459LZD_9, B06Y459LZD_10\", \"B01N52VCR4_1, B01N52VCR4_3, B01N52VCR4_4, B01N52VCR4_5, B01N52VCR4_6, B01N52VCR4_7, B01N52VCR4_8, B01N52VCR4_9, B01N52VCR4_10\", \"B01MS1T0HD_1, B01MS1T0HD_2, B01MS1T0HD_3, B01MS1T0HD_4, B01MS1T0HD_5, B01MS1T0HD_6, B01MS1T0HD_7, B01MS1T0HD_8, B01MS1T0HD_9, B01MS1T0HD_10\", B071FN6KXK_2, B071FN6KXK_3, B071FN6KXK_4, B071FN6KXK_5, B071FN6KXK_6, B071FN6KXK_7, B071FN6KXK_8, B071FN6KXK_9, B071FN6KXK_10\", \"B06XNQDR8J_1, B06XNQDR8J_2, B06XNQDR8J_3, B06XNQDR8J_4, B06XNQDR8J_5, B06XNQDR8J_6, B06XNQDR8J_7, B06XNQDR8J_8, B06XNQDR8J_9, B06XNQDR8J_10\", \"B00LD6UIG6_1, B00LD6UIG6_2, B00LD6UIG6_3, B00LD6UIG6_4, B00LD6UIG6_5, B00LD6UIG6_6, B00LD6UIG6_7, B00LD6UIG6_8, B00LD6UIG6_9, B00LD6UIG6_10\", B003PHMLKC_3, B003PHMLKC_7, B003PHMLKC_8, B003PHMLKC_9, \"B00O7XEVG0_1, B00O7XEVG0_2, B00O7XEVG0_3, B00O7XEVG0_4, B00O7XEVG0_5, B00O7XEVG0_6, B00O7XEVG0_7, B00O7XEVG0_8, B00O7XEVG0_9, B00O7XEVG0_10\", \"B004I8VMAW_1, B004I8VMAW_2, B004I8VMAW_3, B004I8VMAW_4, B004I8VMAW_5, B004I8VMAW_6, B004I8VMAW_7, B004I8VMAW_8, B004I8VMAW_9, B004I8VMAW_10\", B00DUPD8JW_2, B00DUPD8JW_3, B00DUPD8JW_4, B00DUPD8JW_5, B00DUPD8JW_6, B00DUPD8JW_7, B00DUPD8JW_8, B00DUPD8JW_9, B00DUPD8JW_10\", \"B000REP3E2_1, B000REP3E2_6, B000REP3E2_8, B000REP3E2_9, B000REP3E2_10\", B00JPF2CHU_2, B00JPF2CHU_3, B00JPF2CHU_4, B00JPF2CHU_5, B00JPF2CHU_6, B00JPF2CHU_7, B00JPF2CHU_8, B00JPF2CHU_9, B00JPF2CHU_10\", 1223062503_2, 1223062503_3, 1223062503_4, 1223062503_5, B06XYFMNZN_2, B06XYFMNZN_5, B06XYFMNZN_7, B06XYFMNZN_8, B06XYFMNZN_10\", \"B06XRY1RKV_1, B06XRY1RKV_5, B06XRY1RKV_6, B06XRY1RKV_8, B06XRY1RKV_9, B06XRY1RKV_10\", \"B00B111DC6_1, B00B111DC6_2, B00B111DC6_3, B00B111DC6_4, B00B111DC6_5, B00B111DC6_6, B00B111DC6_7, B00B111DC6_8, B00B111DC6_9, B00B111DC6_10\", B00QDWK8PG_2, B00QDWK8PG_3, B00QDWK8PG_4, B00QDWK8PG_5, B00QDWK8PG_6, B00QDWK8PG_7, B00QDWK8PG_8, B00QDWK8PG_9, B00QDWK8PG_10\", B000NVBE10_3, B000NVBE10_4, B000NVBE10_5, B000NVBE10_6, B000NVBE10_7, B000NVBE10_8, B000NVBE10_9, B000NVBE10_10\", \"B00QR38DB2_1, B00QR38DB2_3, B00QR38DB2_4, B00QR38DB2_5, B00QR38DB2_6, B00QR38DB2_7, B00QR38DB2_8, B00QR38DB2_9, B00QR38DB2_10\", B00DR73CAS_2, B00DR73CAS_3, B00DR73CAS_4, B00DR73CAS_5, B00DR73CAS_6, B00DR73CAS_7, B00DR73CAS_8, B00DR73CAS_9, B00DR73CAS_10\", B000ES3LOU_3, B000ES3LOU_4, B000ES3LOU_5, B000ES3LOU_6, B000ES3LOU_7, B000ES3LOU_8, B000ES3LOU_9, B000ES3LOU_10\", B0002HWG9E_2, B0002HWG9E_4, B0002HWG9E_6, B0002HWG9E_7, B0002HWG9E_8, B0002HWG9E_9, B0002HWG9E_10\", \"B0032UP5R8_1, B0032UP5R8_2, B0032UP5R8_3, B0032UP5R8_4, B0032UP5R8_5, B0032UP5R8_6, B0032UP5R8_7, B0032UP5R8_8, B0032UP5R8_9, B0032UP5R8_10\", \"B00H5T8GDW_1, B00H5T8GDW_2, B00H5T8GDW_3, B00H5T8GDW_4, B00H5T8GDW_5, B00H5T8GDW_6, B00H5T8GDW_7, B00H5T8GDW_8, B00H5T8GDW_9, B00H5T8GDW_10\", B01N8ZYBE6_2, B01N8ZYBE6_3, B01N8ZYBE6_7, B01N8ZYBE6_10\", B014SVVLDQ_4, B014SVVLDQ_5, B014SVVLDQ_6, B014SVVLDQ_7, B014SVVLDQ_8, B014SVVLDQ_9, B014SVVLDQ_10\", \"B005UEU1TQ_1, B005UEU1TQ_2, B005UEU1TQ_3, B005UEU1TQ_4, B005UEU1TQ_5, B005UEU1TQ_6, B005UEU1TQ_7, B005UEU1TQ_8, B005UEU1TQ_9, B005UEU1TQ_10\", B0754FHMKL_2, B0754FHMKL_3, B0754FHMKL_4, B0754FHMKL_5, B0754FHMKL_6, B0754FHMKL_7, B0754FHMKL_8, B0754FHMKL_9, B0754FHMKL_10\", B004NSUGOU_2, B004NSUGOU_3, B004NSUGOU_4, B004NSUGOU_5, B004NSUGOU_6, B004NSUGOU_7, B004NSUGOU_8, B004NSUGOU_9, B004NSUGOU_10\", \"B00B84UJSU_1, B00B84UJSU_2, B00B84UJSU_3, B00B84UJSU_4, B00B84UJSU_5, B00B84UJSU_6, B00B84UJSU_7, B00B84UJSU_8, B00B84UJSU_9, B00B84UJSU_10\", \"B0007VT9OK_1, B0007VT9OK_2, B0007VT9OK_3, B0007VT9OK_4, B0007VT9OK_5, B0007VT9OK_6, B0007VT9OK_7, B0007VT9OK_8, B0007VT9OK_9, B0007VT9OK_10\", \"B00PSIZQXU_1, B00PSIZQXU_2, B00PSIZQXU_3, B00PSIZQXU_4, B00PSIZQXU_5, B00PSIZQXU_6, B00PSIZQXU_7, B00PSIZQXU_8, B00PSIZQXU_9, B00PSIZQXU_10\", \"B00B855JIE_1, B00B855JIE_6, B00B855JIE_7, B00B855JIE_8, B00B855JIE_9, B00B855JIE_10\", B00860F4Y8_2, B00860F4Y8_3, B00860F4Y8_4, B00860F4Y8_5, B00860F4Y8_6, B00860F4Y8_7, B00860F4Y8_8, B00860F4Y8_9, B00860F4Y8_10\", B000GKW6KG_2, B000GKW6KG_3, B000GKW6KG_4, B000GKW6KG_5, B000GKW6KG_6, B000GKW6KG_7, B000GKW6KG_8, B000GKW6KG_9, B000GKW6KG_10\", B0754GJXGC_2, B0754GJXGC_3, B0754GJXGC_4, B0754GJXGC_5, B0754GJXGC_6, B0754GJXGC_7, B0754GJXGC_8, B0754GJXGC_9, B0754GJXGC_10\", B00IE6KT1M_2, B00IE6KT1M_5, B00IE6KT1M_7, B00IE6KT1M_8, B00IE6KT1M_10\", B000A42CUC_3, B000A42CUC_7, B000A42CUC_8, B000A42CUC_9, \"B019336SY6_1, B019336SY6_2, B019336SY6_3, B019336SY6_4, B019336SY6_5, B019336SY6_6, B019336SY6_7, B019336SY6_8, B019336SY6_9, B019336SY6_10\", \"B00LA4ZX3O_1, B00LA4ZX3O_2, B00LA4ZX3O_3, B00LA4ZX3O_4, B00LA4ZX3O_5, B00LA4ZX3O_6, B00LA4ZX3O_7, B00LA4ZX3O_8, B00LA4ZX3O_9, B00LA4ZX3O_10\", B00XE6TAEY_2, B00XE6TAEY_3, B00XE6TAEY_4, B00XE6TAEY_5, B00XE6TAEY_6, B00XE6TAEY_7, B00XE6TAEY_8, B00XE6TAEY_9, B00XE6TAEY_10\", B004NSUGP4_2, B004NSUGP4_3, B004NSUGP4_4, B004NSUGP4_5, B004NSUGP4_6, B004NSUGP4_7, B004NSUGP4_8, B004NSUGP4_9, B004NSUGP4_10\", \"B06XRRFN3D_1, B06XRRFN3D_5, B06XRRFN3D_6, B06XRRFN3D_8, B06XRRFN3D_9, B06XRRFN3D_10\", \"B00CPHE7EQ_1, B00CPHE7EQ_2, B00CPHE7EQ_3, B00CPHE7EQ_4, B00CPHE7EQ_5, B00CPHE7EQ_7, B00CPHE7EQ_8, B00CPHE7EQ_10\", \"B000FUEZA6_1, B000FUEZA6_3, B000FUEZA6_4, B000FUEZA6_5, B000FUEZA6_6, B000FUEZA6_7, B000FUEZA6_8, B000FUEZA6_9, B000FUEZA6_10\", \"B00TF774V2_1, B00TF774V2_2, B00TF774V2_3, B00TF774V2_4, B00TF774V2_5, B00TF774V2_6, B00TF774V2_7, B00TF774V2_8, B00TF774V2_9, B00TF774V2_10\", B0006HBEV6_3, B0006HBEV6_4, B0006HBEV6_5, B0006HBEV6_6, B0006HBEV6_7, B0006HBEV6_8, B0006HBEV6_9, B0006HBEV6_10\", B0007TXTFM_3, B0007TXTFM_4, B0007TXTFM_5, B0007TXTFM_6, B0007TXTFM_7, B0007TXTFM_8, B0007TXTFM_9, B0007TXTFM_10\", B00E3KEKAO_2, B00E3KEKAO_3, B00E3KEKAO_4, B00E3KEKAO_7, B00E3KEKAO_9, B00E3KEKAO_10\", B06XYFMNZM_2, B06XYFMNZM_5, B06XYFMNZM_7, B06XYFMNZM_8, B06XYFMNZM_10\", B075YLSBV7_2, B075YLSBV7_3, B075YLSBV7_4, B075YLSBV7_5, B075YLSBV7_6, B075YLSBV7_7, B075YLSBV7_8, B075YLSBV7_9, B075YLSBV7_10\", B000A42CT8_3, B000A42CT8_7, B000A42CT8_8, B000A42CT8_9, \"B000KWJSKG_1, B000KWJSKG_2, B000KWJSKG_3, B000KWJSKG_4, B000KWJSKG_5, B000KWJSKG_6, B000KWJSKG_7, B000KWJSKG_8, B000KWJSKG_9, B000KWJSKG_10\", B019W2LU7I_2, B019W2LU7I_5, B019W2LU7I_6, B019W2LU7I_7, B019W2LU7I_8, B019W2LU7I_9, \"B014KGEG3G_1, B014KGEG3G_2, B014KGEG3G_3, B014KGEG3G_4, B014KGEG3G_5, B014KGEG3G_6, B014KGEG3G_7, B014KGEG3G_8, B014KGEG3G_9, B014KGEG3G_10\", \"B00MOI8756_1, B00MOI8756_6, B00MOI8756_7, B00MOI8756_8, B00MOI8756_9, B00MOI8756_10\", B005IX6ZOY_2, B005IX6ZOY_5, B005IX6ZOY_7, B005IX6ZOY_8, B005IX6ZOY_10\", \"B00R0FUS1E_1, B00R0FUS1E_2, B00R0FUS1E_3, B00R0FUS1E_4, B00R0FUS1E_5, B00R0FUS1E_6, B00R0FUS1E_7, B00R0FUS1E_8, B00R0FUS1E_9, B00R0FUS1E_10\", B06W9MQJJL_2, B06W9MQJJL_3, B06W9MQJJL_4, B06W9MQJJL_5, B06W9MQJJL_6, B06W9MQJJL_7, B06W9MQJJL_8, B06W9MQJJL_9, B06W9MQJJL_10\", B00CCWTO7Y_2, B00CCWTO7Y_3, B00CCWTO7Y_4, B00CCWTO7Y_5, B00CCWTO7Y_6, B00CCWTO7Y_7, B00CCWTO7Y_8, B00CCWTO7Y_9, B00CCWTO7Y_10\", \"B01H70I3E0_1, B01H70I3E0_2, B01H70I3E0_3, B01H70I3E0_4, B01H70I3E0_5, B01H70I3E0_6, B01H70I3E0_7, B01H70I3E0_8, B01H70I3E0_9, B01H70I3E0_10\", B0742DF1LQ_3, B0742DF1LQ_6, B0742DF1LQ_7, B0742DF1LQ_8, B0742DF1LQ_9, B0742DF1LQ_10\", \"B0745D287V_1, B0745D287V_2, B0745D287V_3, B0745D287V_4, B0745D287V_5, B0745D287V_6, B0745D287V_7, B0745D287V_8, B0745D287V_9, B0745D287V_10\", \"B00VM16OYM_1, B00VM16OYM_3, B00VM16OYM_10\", \"B07219PL55_1, B07219PL55_3, B07219PL55_4, B07219PL55_5, B07219PL55_6, B07219PL55_7, B07219PL55_8, B07219PL55_9, B07219PL55_10\", B00RH5ZGUU_2, B00RH5ZGUU_4, B00RH5ZGUU_5, B00RH5ZGUU_6, B00RH5ZGUU_7, B00RH5ZGUU_8, B00RH5ZGUU_9, B00RH5ZGUU_10\", \"B00AE1K6RW_1, B00AE1K6RW_3, B00AE1K6RW_5, B00AE1K6RW_6, B00AE1K6RW_8, \"B06XDC1JXG_1, B06XDC1JXG_2, B06XDC1JXG_5, B06XDC1JXG_6, B06XDC1JXG_7, B06XDC1JXG_8, B06XDC1JXG_9, B06XDC1JXG_10\", \"B00DFXJVMC_1, B00DFXJVMC_2, B00DFXJVMC_3, B00DFXJVMC_4, B00DFXJVMC_6, B00DFXJVMC_8, B00DFXJVMC_10\", \"B0716ZD99W_1, B0716ZD99W_2, B0716ZD99W_3, B0716ZD99W_4, B0716ZD99W_6, B0716ZD99W_8, B0716ZD99W_9, B00W50V854_2, B00W50V854_3, B00W50V854_4, B00W50V854_6, B00W50V854_9, B00W50V854_10\", \"B00KGFM5TI_1, B00KGFM5TI_2, B00KGFM5TI_3, B00KGFM5TI_4, B00KGFM5TI_5, B00KGFM5TI_6, B00KGFM5TI_7, \"B071NFDRL2_1, B071NFDRL2_2, B071NFDRL2_3, B071NFDRL2_4, B071NFDRL2_5, B071NFDRL2_6, B071NFDRL2_7, B071NFDRL2_8, B071NFDRL2_9, B071NFDRL2_10\", \"B01JUWAX00_1, B01JUWAX00_2, B01JUWAX00_3, B01JUWAX00_4, B01JUWAX00_5, B01JUWAX00_6, B01JUWAX00_7, B01JUWAX00_8, B01JUWAX00_9, B01JUWAX00_10\", \"B01B55C2CC_1, B01B55C2CC_2, B01B55C2CC_3, B01B55C2CC_4, B01B55C2CC_5, B01B55C2CC_6, B01B55C2CC_7, B01B55C2CC_8, B01B55C2CC_9, B01B55C2CC_10\", \"B00IE267BC_1, B00IE267BC_2, B00IE267BC_3, B00IE267BC_4, B00IE267BC_5, B00IE267BC_6, B00IE267BC_7, B00IE267BC_9, B00IE267BC_10\", B00WM2QFMG_2, B00WM2QFMG_3, B00WM2QFMG_4, B00WM2QFMG_5, B00WM2QFMG_6, B00WM2QFMG_7, B00WM2QFMG_8, B00WM2QFMG_9, B00WM2QFMG_10\", \"B06XG9S5GL_1, B06XG9S5GL_3, B06XG9S5GL_4, B06XG9S5GL_8, B06XG9S5GL_10\", \"B00O8RQYGU_1,"
     ]
    },
    {
     "name": "stdout",
     "output_type": "stream",
     "text": [
      " B00O8RQYGU_5, B00O8RQYGU_8, B00O8RQYGU_9, B00KLXOZD4_4, B00KLXOZD4_5, B00KLXOZD4_7, B00KLXOZD4_8, B00KLXOZD4_10\", \"B00D9KSY8I_1, B00D9KSY8I_3, B00D9KSY8I_4, B00D9KSY8I_5, B00D9KSY8I_6, B00D9KSY8I_9, B00D9KSY8I_10\", \"B01A0FEPFU_1, B01A0FEPFU_2, B01A0FEPFU_3, B01A0FEPFU_4, B01A0FEPFU_5, B01A0FEPFU_6, B01A0FEPFU_7, B01A0FEPFU_8, B01A0FEPFU_9, B01A0FEPFU_10\", B0756CG87G_2, B0756CG87G_8, B0756CG87G_9, B0756CG87G_10\", \"B074RFJQB2_1, B074RFJQB2_3, B074RFJQB2_4, B074RFJQB2_5, B074RFJQB2_6, B074RFJQB2_7, B074RFJQB2_8, B074RFJQB2_9, B074RFJQB2_10\", B01B7GAGWM_2, B01B7GAGWM_4, B01B7GAGWM_5, B01B7GAGWM_6, B01B7GAGWM_7, B01B7GAGWM_8, B01B7GAGWM_9, B01B7GAGWM_10\", \"B00QT354D0_1, B00QT354D0_2, B00QT354D0_3, B00QT354D0_4, B00QT354D0_5, B00QT354D0_6, B00QT354D0_7, B00QT354D0_8, B00QT354D0_9, B00QT354D0_10\", \"B0194M6A3U_1, B0194M6A3U_3, B0194M6A3U_4, B0194M6A3U_5, B0194M6A3U_6, B0194M6A3U_9, B0194M6A3U_10\", \"B00OJG5MDG_1, B00OJG5MDG_6, B00OJG5MDG_7, B00OJG5MDG_8, B00OJG5MDG_9, B00OJG5MDG_10\", B00QT354SK_2, B00QT354SK_3, B00QT354SK_4, B00QT354SK_5, B00QT354SK_6, B00QT354SK_7, B00QT354SK_8, B00QT354SK_9, B00QT354SK_10\", \"B00KGFM264_1, B00KGFM264_2, B00KGFM264_3, B00KGFM264_4, B00KGFM264_5, B00KGFM264_6, B00KGFM264_7, B01I9GUBJ6_2, B01I9GUBJ6_3, B01I9GUBJ6_4, B01I9GUBJ6_5, B01I9GUBJ6_7, B01I9GUBJ6_9, B01I9GUBJ6_10\", B018HGUTPY_2, B018HGUTPY_3, B018HGUTPY_4, B018HGUTPY_5, B018HGUTPY_6, B018HGUTPY_7, B018HGUTPY_8, B018HGUTPY_9, B018HGUTPY_10\", B0758DJDT2_2, B0758DJDT2_3, B0758DJDT2_7, B0758DJDT2_8, B0758DJDT2_9, B0758DJDT2_10\", \"B00VM16OUG_1, B00VM16OUG_3, B00VM16OUG_10\", \"B01HPMNZL6_1, B01HPMNZL6_2, B01HPMNZL6_4, B01HPMNZL6_5, B01HPMNZL6_7, B01HPMNZL6_8, B01CQCK51S_4, B01CQCK51S_5, B01CQCK51S_6, B01CQCK51S_7, B01CQCK51S_8, B01CQCK51S_9, B01CQCK51S_10\", \"B00VM16O2Y_1, B00VM16O2Y_3, B00VM16O2Y_10\", \"B07195NVWF_1, B07195NVWF_5, B07195NVWF_8, B07195NVWF_9, B07195NVWF_10\", \"B00ABRX8MY_1, B00ABRX8MY_3, B00ABRX8MY_4, B00ABRX8MY_5, B00ABRX8MY_6, B00ABRX8MY_7, B00ABRX8MY_8, B00ABRX8MY_9, B00ABRX8MY_10\", B06VWGX4JH_3, B01DU79MVC_2, B01DU79MVC_7, B00GAM4PHG_2, B00GAM4PHG_3, B00GAM4PHG_4, B00GAM4PHG_7, B00GAM4PHG_8, B00GAM4PHG_9, B00GAM4PHG_10\", \"B00TF1FNQQ_1, B00TF1FNQQ_6, B00TF1FNQQ_10\", \"B00OJG5K2O_1, B00OJG5K2O_6, B00OJG5K2O_7, B00OJG5K2O_8, B00OJG5K2O_9, B00OJG5K2O_10\", B0194K5OPW_2, B0194K5OPW_4, B0194K5OPW_6, B0194K5OPW_7, B0194K5OPW_8, B0194K5OPW_9, \"B00DCUG0UY_1, B00DCUG0UY_2, B00DCUG0UY_3, B00DCUG0UY_4, B00DCUG0UY_5, B00DCUG0UY_6, B00DCUG0UY_7, B00DCUG0UY_8, B00DCUG0UY_9, B00DCUG0UY_10\", \"B074JCXJ5T_1, B074JCXJ5T_2, B074JCXJ5T_3, B074JCXJ5T_4, B074JCXJ5T_5, B074JCXJ5T_6, B074JCXJ5T_7, B074JCXJ5T_8, B074JCXJ5T_9, B074JCXJ5T_10\", \"B00SVE65EM_1, B00SVE65EM_2, B00SVE65EM_4, B00SVE65EM_5, B00SVE65EM_7, B00SVE65EM_8, B00SVE65EM_9, B00SVE65EM_10\", B00DW1JT5G_4, B00DW1JT5G_5, B00DW1JT5G_6, B00DW1JT5G_8, B00DW1JT5G_9, B00DW1JT5G_10\", B00BCG2NRY_2, B00BCG2NRY_3, B00BCG2NRY_4, B00BCG2NRY_7, B00BCG2NRY_8, B00BCG2NRY_9, B00BCG2NRY_10\", B00KGFM26E_4, B00KGFM26E_5, B00KGFM26E_6, B00KGFM26E_7, B00KGFM26E_8, B00KGFM26E_9, B00KGFM26E_10\", \"B074JCQ46R_1, B074JCQ46R_2, B074JCQ46R_3, B074JCQ46R_4, B074JCQ46R_5, B074JCQ46R_6, B074JCQ46R_7, B074JCQ46R_8, B074JCQ46R_9, B074JCQ46R_10\", B00AR92IL8_2, B00AR92IL8_4, B00AR92IL8_5, B00AR92IL8_6, B00AR92IL8_7, B00AR92IL8_8, B00AR92IL8_9, B00AR92IL8_10\", B06XRZ9CBD_2, B06XRZ9CBD_3, B06XRZ9CBD_4, B06XRZ9CBD_5, B06XRZ9CBD_6, B06XRZ9CBD_7, B06XRZ9CBD_8, B06XRZ9CBD_9, B06XRZ9CBD_10\", B075NGT6TG_3, B075NGT6TG_6, B075NGT6TG_7, B075NGT6TG_8, B075NGT6TG_9, B075NGT6TG_10\", B01HD4I64W_2, B01HD4I64W_3, B01HD4I64W_4, B01HD4I64W_5, B01HD4I64W_6, B01HD4I64W_7, B01HD4I64W_8, B01HD4I64W_9, B01HD4I64W_10\", \"B075YQ94RJ_1, B075YQ94RJ_2, B075YQ94RJ_3, B075YQ94RJ_4, B075YQ94RJ_5, B075YQ94RJ_6, B075YQ94RJ_7, B075YQ94RJ_8, B075YQ94RJ_9, B075YQ94RJ_10\", \"B0716FQVMZ_1, B0716FQVMZ_3, B0716FQVMZ_4, B0716FQVMZ_5, B0716FQVMZ_6, B0716FQVMZ_7, B0716FQVMZ_10\", \"B00IY39UYM_1, B00IY39UYM_3, B00IY39UYM_10\", B01KFPK8EC_2, B01KFPK8EC_4, B01KFPK8EC_8, B01KFPK8EC_9, B0076N1ZXK_2, B0076N1ZXK_3, B0076N1ZXK_6, \"B0040PMR0C_1, B0040PMR0C_7, B0040PMR0C_8, B01FD1R314_2, B01FD1R314_6, B01FD1R314_7, B01FD1R314_8, B01FD1R314_9, B01FD1R314_10\", \"B00SJBG592_1, B00SJBG592_2, B00SJBG592_4, B00SJBG592_5, B00SJBG592_6, B00SJBG592_7, B00SJBG592_8, B00SJBG592_9, B00SJBG592_10\", B00X7BH2G4_5, B00X7BH2G4_6, B06XYMR5W8_3, B06XYMR5W8_10\", \"B06VV7LM2T_1, B06VV7LM2T_3, B06VV7LM2T_4, B06VV7LM2T_5, B06VV7LM2T_6, B06VV7LM2T_7, B06VV7LM2T_8, B06VV7LM2T_9, B06VV7LM2T_10\", B01IP3WVDM_5, B01IP3WVDM_6, B01NBXEXTX_2, B01NBXEXTX_3, B01NBXEXTX_6, B01NBXEXTX_7, B01NBXEXTX_8, B01NBXEXTX_9, B01NBXEXTX_10\", \"B01LZRGK2B_1, B01LZRGK2B_3, B01LZRGK2B_5, B01LZRGK2B_8, B01MT1VL6L_8, \"B075T8MPC7_1, B075T8MPC7_2, B075T8MPC7_3, B075T8MPC7_4, B075T8MPC7_5, B075T8MPC7_7, B075T8MPC7_9, B075T8MPC7_10\", \"B00J3LXLGW_1, B00J3LXLGW_2, B00J3LXLGW_4, B00J3LXLGW_5, B00J3LXLGW_6, B00J3LXLGW_7, B00J3LXLGW_8, B00J3LXLGW_9, B00J3LXLGW_10\", B0192NO83U_6, B0192NO83U_7, B0192NO83U_8, B0192NO83U_9, B0192NO83U_10\", \"B01HID2R34_1, B01HID2R34_3, B01HID2R34_4, B01HID2R34_5, B01HID2R34_7, B01HID2R34_9, B01HID2R34_10\", B00SUEEMPC_2, B00SUEEMPC_3, B00SUEEMPC_4, B00SUEEMPC_5, B00SUEEMPC_6, B00SUEEMPC_7, B00SUEEMPC_8, B00SUEEMPC_9, B00SUEEMPC_10\", B07114ZDQR_5, B07114ZDQR_6, \"B01N13LYMX_1, B01N13LYMX_3, B01N13LYMX_5, B01N13LYMX_6, B01N13LYMX_7, B01N13LYMX_8, B01N13LYMX_9, B01N13LYMX_10\", B00S0WT0O2_4, B00S0WT0O2_5, B00S0WT0O2_6, B00S0WT0O2_7, B00S0WT0O2_8, B00S0WT0O2_9, B00S0WT0O2_10\", B01IP3XQYA_5, B01IP3XQYA_6, \"B01EARLUQQ_1, B01EARLUQQ_2, B01EARLUQQ_3, B01EARLUQQ_4, B01EARLUQQ_8, B01EARLUQQ_10\", B01IP3WVJQ_5, B01IP3WVJQ_6, B01MDNGWXY_3, B01MDNGWXY_5, B01MDNGWXY_7, B00RUEQX14_5, B00RUEQX14_6, B00RUEQX14_7, B00RUEQX14_8, B00RUEQX14_9, \"B00336EPWW_1, B00336EPWW_5, B00336EPWW_6, B00336EPWW_7, B00336EPWW_8, B00336EPWW_9, B00336EPWW_10\", B06Y53GV98_5, B06Y53GV98_6, \"B01IP3XHN0_1, B01IP3XHN0_3, B01IP3XHN0_4, B01IP3XHN0_5, B01IP3XHN0_6, B01IP3XHN0_9, B01IP3XHN0_10\", B014WB89UK_3, B014WB89UK_4, B014WB89UK_5, B014WB89UK_6, B014WB89UK_7, B014WB89UK_8, B014WB89UK_9, B014WB89UK_10\", \"B01EARLUBG_1, B01EARLUBG_2, B01EARLUBG_3, B01EARLUBG_4, B01EARLUBG_8, B01EARLUBG_10\", B00IFAZ5PW_2, B00IFAZ5PW_7, B00IFAZ5PW_8, B00IFAZ5PW_9, B00IFAZ5PW_10\", B01IP3WVXM_8, \"B06XW64DLH_1, B06XW64DLH_5, B06XW64DLH_9, B06XW64DLH_10\", \"B00ID6QFCA_1, B00ID6QFCA_2, B00ID6QFCA_3, B00ID6QFCA_4, B00ID6QFCA_5, B00ID6QFCA_6, B00ID6QFCA_7, B00ID6QFCA_8, B00ID6QFCA_9, B00ID6QFCA_10\", \"B01A8AHXPG_1, B01A8AHXPG_4, B01A8AHXPG_8, B01A8AHXPG_9, B01A8AHXPG_10\", B01IP3WVGO_5, B01IP3WVGO_6, B01M14RFZ1_2, B01M14RFZ1_3, B01M14RFZ1_4, B01M14RFZ1_5, B01M14RFZ1_6, B01M14RFZ1_7, B01M14RFZ1_8, B01M14RFZ1_9, B01M14RFZ1_10\", \"B01EARLUZW_1, B01EARLUZW_3, B01EARLUZW_4, B01EARLUZW_5, B01EARLUZW_6, B01EARLUZW_7, B01EARLUZW_8, B01EARLUZW_9, B01EARLUZW_10\", \"B06W9K3R28_1, B06W9K3R28_3, B06W9K3R28_5, B06W9K3R28_6, B06W9K3R28_7, B06W9K3R28_8, B06W9K3R28_9, B06W9K3R28_10\", \"B007KAKLAC_1, B007KAKLAC_2, B007KAKLAC_3, B007KAKLAC_4, B007KAKLAC_5, B007KAKLAC_6, B007KAKLAC_7, B007KAKLAC_8, B007KAKLAC_9, B007KAKLAC_10\", \"B01N36L01M_1, B01N36L01M_5, B01N36L01M_6, B01N36L01M_8, B01N36L01M_9, B01N36L01M_10\", B01IP3WVKU_5, B01IP3WVKU_6, \"B01IP3XH5I_1, B01IP3XH5I_5, B01IP3XH5I_6, B01IP3XH5I_8, B01IP3XH5I_9, B0713ZQC37_3, B0713ZQC37_4, B0713ZQC37_8, B0713ZQC37_9, B0713ZQC37_10\", B075YWZ4K5_2, B075YWZ4K5_3, B075YWZ4K5_4, B075YWZ4K5_5, B075YWZ4K5_6, B075YWZ4K5_7, B075YWZ4K5_8, B075YWZ4K5_9, B075YWZ4K5_10\", \"B00IX6A05I_1, B00IX6A05I_2, B00IX6A05I_3, B00IX6A05I_6, B00IX6A05I_7, \"B06X19SP68_1, B06X19SP68_3, B06X19SP68_5, B06X19SP68_6, B06X19SP68_7, B06X19SP68_8, B06X19SP68_9, B06X19SP68_10\", B01F3J20P0_3, B01F3J20P0_10\", B073PB6S71_8, B007KALG8I_5, B007KALG8I_7, B007KALG8I_8, B007KALG8I_9, B007KALG8I_10\", \"B01B13B92W_1, B01B13B92W_2, B01B13B92W_3, B01B13B92W_4, B01B13B92W_5, B01B13B92W_6, B01B13B92W_7, B01B13B92W_8, B01B13B92W_9, B01B13B92W_10\", \"B01HXLDCBW_1, B01HXLDCBW_3, B01HXLDCBW_5, B01HXLDCBW_6, B01HXLDCBW_7, B01HXLDCBW_9, B01HXLDCBW_10\", \"B06XCR6Z41_1, B06XCR6Z41_3, B06XCR6Z41_5, B06XCR6Z41_8, \"B01EARLU70_1, B01EARLU70_2, B01EARLU70_3, B01EARLU70_4, B01EARLU70_8, B01EARLU70_10\", \"B01N36KN3O_1, B01N36KN3O_2, B01N36KN3O_4, B01N36KN3O_5, B01N36KN3O_8, B01N36KN3O_10\", \"B01EARLU16_1, B01EARLU16_3, B01EARLU16_4, B01EARLU16_5, B01EARLU16_6, B01EARLU16_7, B01EARLU16_8, B01EARLU16_9, B01EARLU16_10\", \"B019B6RXOO_1, B019B6RXOO_2, B019B6RXOO_3, B019B6RXOO_7, B019B6RXOO_9, B019B6RXOO_10\", \"B01N9UDQ4L_1, B01N9UDQ4L_2, B01N9UDQ4L_3, B01N9UDQ4L_4, B01N9UDQ4L_5, B01N9UDQ4L_6, B01N9UDQ4L_7, B01N9UDQ4L_8, B01N9UDQ4L_9, B01N9UDQ4L_10\", B000WFPHC4_3, B000WFPHC4_4, B000WFPHC4_5, B000WFPHC4_6, B000WFPHC4_7, B000WFPHC4_8, B000WFPHC4_9, B000WFPHC4_10\", B07354SNPS_5, B07354SNPS_6, B07354SNPS_7, B07354SNPS_8, B07354SNPS_9, \"B013K9YXL4_1, B013K9YXL4_2, B013K9YXL4_3, B013K9YXL4_4, B013K9YXL4_5, B013K9YXL4_6, B013K9YXL4_7, B013K9YXL4_8, B013K9YXL4_9, B013K9YXL4_10\", B01N2U58WV_8, \"B0012SFM6G_1, B0012SFM6G_2, B0012SFM6G_3, B0012SFM6G_6, B0012SFM6G_8, B0012SFM6G_9, B0012SFM6G_10\", B00S0WSZYS_2, B00S0WSZYS_6, B00S0WSZYS_7, B00S0WSZYS_8, B00S0WSZYS_9, B00S0WSZYS_10\", B01F3J1T2K_3, B01F3J1T2K_10\", B075T5T6BX_5, B075T5T6BX_6, B075T5T6BX_7, B075T5T6BX_8, B075T5T6BX_9,\n",
      "\n",
      "Cluster 1 titles: \"B01N2XLPXS_1, \"B01MY4HMFR_1, B000M25PE2_3, \"B009VYCA4U_1, \"B00Y4QBJAQ_1, B00A9N1MR8_9, \"B003HGGPLW_1, \"B00CI6J5JQ_1, B00005C8R6_2, \"B01M7PAZ0M_1, \"B072PTTM41_1, \"B01M5AXN5L_1, \"B01M7PAZ0M_1, \"B072PTTM41_1, \"B01M5AXN5L_1, \"B013UL59N8_1, \"B0034IX85O_1, B00LLYPDGU_4, \"B06XPLKM2R_1, B00D9KSY8I_2, \"B0758DJDT2_1, \"B075NGT6TG_1, B00BMT78TO_2, B00719B0G6_2, B00HTE7JG8_2, B00BMT6WG4_2, B000V6I8N4_2, B00H9I653M_2, B00ZVGG8SQ_2, B0012SFMCA_2, B00135C75W_2, B00DP5MDRU_2, \"B007KALG8I_1, B0012SDXUI_2, B01ASZWIG0_2, B072DWNG6Z_2, B004U0KWKE_2, \"B00S0WSZYS_1, B01I4H83TK_2,\n",
      "\n",
      "Cluster 2 titles: B01MZALP0W_9, \"B01M8QYH9V_1, B073FYF9S2_9, B073FWCJQV_9, B015XA8YJK_3, B01N34QXLH_9, \"B0719KQPX5_1, B00PESY1T4_3, B00OFR5H0M_6, B0713RPXF3_9, \"B0124JPKUY_1, B01N34QVF6_9, \"B015W05J3K_1, B01N9SIV16_9, \"B00ZWTUHH0_1, B00ZWTUHH0_2, B00ZWTUHH0_8, B01G3A7A5S_8, \"B013RQPB5C_1, B013RQPB5C_2, \"B01G1SB5I0_1, B00ZWTU6RG_3, \"B01HPG6NVQ_1, \"B01HPG6NK2_1, \"B01HPG6NIE_1, \"B01I9GUBTQ_1, B01I9GUBTQ_2, B01I9GUBTQ_8, B010Q2CF0E_7, \"B016ZDDMFA_1, B016ZDDMFA_2, B016ZDDMFA_8, B014H0UJ6I_6, \"B00PDTBMB4_1, B00V9YYD68_2, B00V9YYD68_7, B00IGNX226_3, B00IGNX226_4, B00IGNX226_5, B004SE3OTI_7, B00ZWTU6QW_3, B00A9N1MR8_6, \"B01DW37RO8_1, B01DW37RO8_2, B01DW37RO8_8, B01FF1073I_3, B01FF1073I_4, B01FF1073I_5, B071V9KSXB_2, \"B00ZWTU6O4_1, B00ZWTU6O4_2, B00ZWTU6O4_8, B01G3A9A0G_5, B013OVV8HK_2, B013OVV8HK_7, B00005C8R6_7, \"B00B9MU1DE_1, B00B9MU1DE_2, B00B9MU1DE_8, B0080AHHBM_4, B0080AHHBM_10\", B01M7PAZ0M_10\", B01M9AL8QZ_7, B0191JFHNA_7, B01M4IPTZQ_7, B0191JFMO4_7, B073RJMRR6_5, B073RJMRR6_6, B00CBT01PC_7, B018M0XDWG_8, B01M6WDH4L_7, B01M8HPJM5_7, \"B01AGTHY26_1, B009A45S2W_8, B073RHXLN1_5, B073RHXLN1_6, B0002YM99Y_2, B01M5AXN5L_10\", B01M3PLS8I_7, \"B00B9MU1DE_1, B00B9MU1DE_2, B00B9MU1DE_8, B0080AHHBM_4, B0080AHHBM_10\", B01M7PAZ0M_10\", B01M9AL8QZ_7, B0191JFHNA_7, B01M4IPTZQ_7, B0191JFMO4_7, B073RJMRR6_5, B073RJMRR6_6, B00CBT01PC_7, B018M0XDWG_8, B01M6WDH4L_7, B01M8HPJM5_7, \"B01AGTHY26_1, B009A45S2W_8, B073RHXLN1_5, B073RHXLN1_6, B0002YM99Y_2, B01M5AXN5L_10\", B01M3PLS8I_7, B006ZWJJO0_4, \"B00B9MU1DE_1, B00B9MU1DE_2, B00B9MU1DE_8, B00S83XTJA_6, B001381OQM_2, B00NTW0J20_7, B001B6N2JI_3, B01N6GQ9JY_6, B001B6N2IY_3, \"B004KAAR9K_1, B004KAAR9K_2, B004KAAR9K_8, B009A45S2W_8, B001B6LAOC_3, B004KAARCM_3, B0014BLM4C_7, B015EB2BLK_8, B013UL59N8_9, B00PJHPIWY_6, B007V7M6UW_2, B00YMIWTO6_6, B0034IX85O_3, B0034IX85O_4, B01CXT01WW_7, B00AWMKQEG_6, B00Z0IIEAU_2, B06XTM8L86_6, \"B004560BPY_1, B00CIXVIRQ_10\", B00MO1WL46_5, B01BG8QHW4_6, B00UBUL18Y_2, B00UBUL18Y_8, B00LLYPDGU_9, B00SKURVKY_10\", B000O94QTI_5, B00ZZVZPMW_5, B00ZZVZPMW_6, B000REP3E2_4, 1223062503_6, \"B00DR73CAS_1, B0742DF1LQ_2, B00VM16OYM_8, B00AE1K6RW_7, B00AE1K6RW_10\", B06XDC1JXG_4, B00W50V854_5, B06XG9S5GL_2, B00O8RQYGU_10\", B00KLXOZD4_2, B00KLXOZD4_9, \"B0756CG87G_1, B0756CG87G_7, B0194M6A3U_2, B00OJG5MDG_3, \"B01I9GUBJ6_1, B01I9GUBJ6_8, B00VM16OUG_8, \"B01CQCK51S_1, B00VM16O2Y_8, B00OJG5K2O_3, B00KGFM26E_3, B075NGT6TG_5, B0716FQVMZ_2, B00IY39UYM_8, B00X7BH2G4_4, B00X7BH2G4_10\", B06XYMR5W8_4, B06XYMR5W8_5, B06XYMR5W8_6, B06XYMR5W8_7, B06XYMR5W8_8, B00BMT78TO_5, B00719B0G6_5, B06VV7LM2T_2, B01IP3WVDM_2, B01IP3WVDM_8, B01IP3WVDM_9, B01IP3WVDM_10\", B00HTE7JG8_5, B01NBXEXTX_4, B01LZRGK2B_7, \"B01MT1VL6L_1, B01MT1VL6L_2, B01MT1VL6L_3, B01MT1VL6L_5, B01MT1VL6L_7, B01MT1VL6L_10\", B075T8MPC7_8, B00BMT6WG4_5, B0192NO83U_4, B01HID2R34_6, B01HID2R34_8, B07114ZDQR_2, B07114ZDQR_8, B07114ZDQR_9, B07114ZDQR_10\", B000V6I8N4_5, B01N13LYMX_4, \"B00S0WT0O2_1, B00S0WT0O2_3, B00H9I653M_5, B01IP3XQYA_2, B01IP3XQYA_8, B01IP3XQYA_9, B01IP3XQYA_10\", B00ZVGG8SQ_5, B01EARLUQQ_5, B01EARLUQQ_7, B01IP3WVJQ_2, B01IP3WVJQ_8, B01IP3WVJQ_9, B01IP3WVJQ_10\", B01MDNGWXY_8, B00RUEQX14_4, B00336EPWW_3, B06Y53GV98_2, B06Y53GV98_8, B06Y53GV98_9, B06Y53GV98_10\", B01IP3XHN0_2, B01IP3XHN0_7, B01IP3XHN0_8, \"B014WB89UK_1, B014WB89UK_2, B01EARLUBG_5, B01EARLUBG_7, B00IFAZ5PW_3, B00IFAZ5PW_4, B00IFAZ5PW_6, B0012SFMCA_5, \"B01IP3WVXM_1, B01IP3WVXM_2, B01IP3WVXM_3, B01IP3WVXM_5, B01IP3WVXM_7, B01IP3WVXM_10\", B06XW64DLH_3, B06XW64DLH_4, B06XW64DLH_6, B06XW64DLH_8, B01A8AHXPG_5, B01IP3WVGO_2, B01IP3WVGO_8, B01IP3WVGO_9, B01IP3WVGO_10\", B06W9K3R28_4, B01N36L01M_4, B01IP3WVKU_2, B01IP3WVKU_8, B01IP3WVKU_9, B01IP3WVKU_10\", B01IP3XH5I_2, B01IP3XH5I_3, B01IP3XH5I_4, B01IP3XH5I_10\", B00135C75W_5, \"B0713ZQC37_1, B0713ZQC37_5, B00DP5MDRU_5, \"B075YWZ4K5_1, B00IX6A05I_4, B00IX6A05I_10\", B06X19SP68_4, B01F3J20P0_4, B01F3J20P0_5, B01F3J20P0_6, B01F3J20P0_7, B01F3J20P0_8, \"B073PB6S71_1, B073PB6S71_2, B073PB6S71_3, B073PB6S71_5, B073PB6S71_7, B073PB6S71_10\", B007KALG8I_3, B007KALG8I_4, B0012SDXUI_5, B01HXLDCBW_4, B01HXLDCBW_8, B06XCR6Z41_7, B01ASZWIG0_5, B072DWNG6Z_5, B01EARLU70_5, B01EARLU70_7, B004U0KWKE_5, B01N36KN3O_7, B019B6RXOO_4, B07354SNPS_4, \"B01N2U58WV_1, B01N2U58WV_2, B01N2U58WV_3, B01N2U58WV_5, B01N2U58WV_7, B01N2U58WV_10\", B01F3J1T2K_4, B01F3J1T2K_5, B01F3J1T2K_6, B01F3J1T2K_7, B01F3J1T2K_8, B075T5T6BX_4, B01I4H83TK_5,\n",
      "\n",
      "Cluster 3 titles: B0063DEIQK_3, B01MZALP0W_3, B072NZVLQR_3, B073FYF9S2_8, B06Y2ZK8VY_5, B01HPGFRKY_5, B01HPGFRKY_9, B073FWCJQV_8, B01N0X3R9Y_5, B01N34QXLH_3, B01HEQGPBU_5, B01HEQGPBU_9, B00OFR5H0M_5, B00HH25GGW_3, B0713RPXF3_3, B01N34QVF6_3, B01MS3MSWM_5, B00J3LXLL2_2, B015W05J3K_2, B01N9SIV16_3, B01I9GUD62_4, B071RB8KBR_5, B06X1J2LMH_2, B06X1J2LMH_6, B071XP2FKX_2, \"B00JM5GW10_1, B004SE3O70_3, B004SE3O70_5, B004SE3O70_8, B00TFWOS8Y_9, B00ZWTU6RG_6, B00PTP6PH8_6, B01MTO7JX7_4, B009VYCA4U_5, B00COX3M4W_5, B00ZWTTGZY_2, B00ZWTTGZY_8, B00ZWTTGZY_9, B0194M68ZK_2, B0194M68ZK_8, B0194M68ZK_9, B002YIRKKY_6, B00V9YYD68_4, B00ZWTU6QW_6, \"B001M04T0E_1, B00ZWTTH62_2, B00ZWTTH62_8, B00ZWTTH62_9, B003HGGPLW_5, B071F4WX11_2, \"B004G8QSXU_1, B004G8QSXU_6, B004G8QSXU_7, B0017IIOQQ_3, B0017IIOQQ_5, B0017IIOQQ_8, B009VYCA0E_8, B00N3T3N22_3, B00N3T3N22_8, B00N3T3N22_9, B00CI6J5JQ_8, B071V9KSXB_8, \"B0035FWBG8_1, \"B000LEG3SI_1, B00B16U4Z8_3, B01M7YRL3P_2, B01M7YRL3P_6, B013OVV8HK_4, \"B0080AHHBM_1, B01M7PAZ0M_4, B01M7PAZ0M_8, B073WNQGC7_2, B073WNQGC7_3, B01JIJEPIQ_2, \"B01DU5M5T0_1, \"B01M9AL8QZ_1, B01M9AL8QZ_4, B00JFP2ILU_5, B00JFP2ILU_7, \"B01M4IPTZQ_1, B01M4IPTZQ_4, B073RJMRR6_3, B073RJMRR6_9, B073RJMRR6_10\", \"B011HXHFQK_1, B00Y1XXRK2_4, B00Y1XXRK2_10\", B00F25KD7S_2, B00F25KD7S_6, B00Y53V7XM_8, \"B01M6WDH4L_1, B01M6WDH4L_4, \"B01M8HPJM5_1, B01M8HPJM5_4, B073RHXLN1_3, B073RHXLN1_9, B073RHXLN1_10\", B008LQXR9Q_2, B0002YM99Y_6, B0002YM99Y_8, B00NFGZ0WO_5, B00NFGZ0WO_7, B00R5GYFZI_2, B01M5AXN5L_4, B01M5AXN5L_8, \"B01M3PLS8I_1, B01M3PLS8I_4, \"B00CL2H1U2_1, B00CL2H1U2_7, B00CL2H1U2_9, \"B0080AHHBM_1, B01M7PAZ0M_4, B01M7PAZ0M_8, B073WNQGC7_2, B073WNQGC7_3, B01JIJEPIQ_2, \"B01DU5M5T0_1, \"B01M9AL8QZ_1, B01M9AL8QZ_4, B00JFP2ILU_5, B00JFP2ILU_7, \"B01M4IPTZQ_1, B01M4IPTZQ_4, B073RJMRR6_3, B073RJMRR6_9, B073RJMRR6_10\", \"B011HXHFQK_1, B00Y1XXRK2_4, B00Y1XXRK2_10\", B00F25KD7S_2, B00F25KD7S_6, B00Y53V7XM_8, \"B01M6WDH4L_1, B01M6WDH4L_4, \"B01M8HPJM5_1, B01M8HPJM5_4, B073RHXLN1_3, B073RHXLN1_9, B073RHXLN1_10\", B008LQXR9Q_2, B0002YM99Y_6, B0002YM99Y_8, B00NFGZ0WO_5, B00NFGZ0WO_7, B00R5GYFZI_2, B01M5AXN5L_4, B01M5AXN5L_8, \"B01M3PLS8I_1, B01M3PLS8I_4, \"B00CL2H1U2_1, B00CL2H1U2_7, B00CL2H1U2_9, B01BX4F79K_7, B01MRST8XG_7, B01DUABEOW_8, B01DUABEOW_9, B01BX4F6X2_7, B01HPGFJ3E_5, B01HPGFJ3E_9, B01DUABF50_8, B01DUABF50_9, \"B00RYZR3SG_1, B01MT0P0IB_7, B016ZOLKVW_9, B00Y53V7XM_8, B01HPGFRKY_5, B01HPGFRKY_9, B01HEQGPBU_5, B01HEQGPBU_9, B01DUABL8G_8, B01DUABL8G_9, B01DUABEQA_8, B01DUABEQA_9, B01DUABLE0_8, B01DUABLE0_9, B008LQXR9Q_2, B01DUABF6E_8, B01DUABF6E_9, B0010MJ2G0_5, B0010MJ2G0_9, B01MS3MSWM_5, B01DUABL9K_8, B01DUABL9K_9, B01DUABEQK_8, B01DUABEQK_9, B01K7GTMHS_7, \"B00CL2H1U2_1, B00CL2H1U2_7, B00CL2H1U2_9, B00N3T3JXU_5, B00N3T3JXU_9, \"B06WWR2RQ7_1, B015EB2BLK_5, B0191JFHW6_6, B0191JFHW6_7, \"B005N1L4NS_1, \"B00PJHPIWY_1, B00PJHPIWY_2, B00PJHPIWY_3, B00E4BGB90_10\", \"B002APDYV0_1, B002APDYV0_4, B002APDYV0_7, B007V7M6UW_5, B007V7M6UW_9, \"B01ABS3YXU_1, B00B1Z6EPS_8, \"B00YMIWTO6_1, B00YMIWTO6_2, B00YMIWTO6_3, \"B002APM86M_1, B002APM86M_4, B002APM86M_7, \"B01ABS3XSG_1, B009A449FY_10\", \"B003WE8U1C_1, \"B01BCZDO9K_1, B01CXT01WW_3, B00AWMKQEG_7, B01822U9LM_5, \"B0103AHP90_1, B0103AHP90_8, B0103AHP90_10\", B004560BPY_4, \"B001MBURM2_1, \"B0053X62GK_1, B0053X62GK_8, B0053X62GK_10\", B06Y42JFS5_2, \"B00CIXVIRQ_1, \"B00H8OINX2_1, B00H8OINX2_3, B00H8OINX2_6, B007K5HC0Y_10\", \"B01BEVH7GI_1, B00Y53V7XM_8, B0089E2JZ8_3, B0089E2JZ8_8, B0089E2JZ8_9, B00K89KU4Y_4, B00FEJPCNC_10\", B01BG8QHW4_2, B01BG8QHW4_10\", \"B00UBUL18Y_1, B00LLYPDGU_5, B00LLYPDGU_8, \"B01BEVH7L8_1, \"B00U5U5VWM_1, B008BHR0TI_5, B01MY7C62V_10\", B01N52VCR4_2, \"B003PHMLKC_1, B003PHMLKC_2, B003PHMLKC_4, B003PHMLKC_5, B003PHMLKC_6, B000REP3E2_7, B06XRY1RKV_2, B06XRY1RKV_3, B06XRY1RKV_7, B014SVVLDQ_3, B00B855JIE_5, \"B00860F4Y8_1, \"B000A42CUC_1, B000A42CUC_2, B000A42CUC_4, B000A42CUC_5, B000A42CUC_6, B06XRRFN3D_2, B06XRRFN3D_3, B06XRRFN3D_7, \"B075YLSBV7_1, \"B000A42CT8_1, B000A42CT8_2, B000A42CT8_4, B000A42CT8_5, B000A42CT8_6, B019W2LU7I_4, B00MOI8756_5, \"B00CCWTO7Y_1, B00AE1K6RW_4, B06XDC1JXG_3, B00KGFM5TI_10\", B06XG9S5GL_7, B00O8RQYGU_2, B00O8RQYGU_4, B00O8RQYGU_7, B0756CG87G_4, B0756CG87G_5, B0194M6A3U_7, B00KGFM264_10\", \"B018HGUTPY_1, B0758DJDT2_4, B0758DJDT2_5, B0758DJDT2_6, B01HPMNZL6_3, B07195NVWF_6, B06VWGX4JH_6, B01DU79MVC_5, B00TF1FNQQ_4, B00TF1FNQQ_5, B00TF1FNQQ_8, B00TF1FNQQ_9, B00KGFM26E_2, \"B06XRZ9CBD_1, B075NGT6TG_4, B0716FQVMZ_8, \"B01KFPK8EC_1, B01KFPK8EC_6, B01KFPK8EC_7, B0076N1ZXK_4, B0076N1ZXK_9, B0040PMR0C_5, B0040PMR0C_6, B00X7BH2G4_2, B00BMT78TO_9, B00719B0G6_9, B00HTE7JG8_9, B01LZRGK2B_9, B01MT1VL6L_4, B00BMT6WG4_9, \"B0192NO83U_1, B0192NO83U_2, B0192NO83U_5, B000V6I8N4_9, B00S0WT0O2_2, B00H9I653M_9, B00ZVGG8SQ_9, B00336EPWW_2, B00IFAZ5PW_5, B0012SFMCA_9, B01IP3WVXM_4, B01A8AHXPG_7, B01N36L01M_2, B00135C75W_9, B00DP5MDRU_9, B00IX6A05I_5, B073PB6S71_4, B0012SDXUI_9, B06XCR6Z41_9, B01ASZWIG0_9, B072DWNG6Z_9, B004U0KWKE_9, B01N36KN3O_6, \"B000WFPHC4_1, B000WFPHC4_2, B01N2U58WV_4, B0012SFM6G_7, B00S0WSZYS_3, B01I4H83TK_9,\n",
      "\n",
      "Cluster 4 titles: B06WWD7SMQ_2, \"B00VR2EB3W_1, B00VR2EB3W_4, B01MZALP0W_4, \"B06XHJ1JRT_1, \"B00U7EX51K_1, B072NZVLQR_9, B0194WFWCK_2, B0194WFWCK_3, B01N1W1GAO_3, B01N1W1GAO_5, \"B00IF1W7IO_1, B00VR2E6AK_5, B06Y2ZK8VY_2, B06Y2ZK8VY_7, B06Y2ZK8VY_9, B01HPGFRKY_3, \"B00VR2EAZG_1, B00VR2EAZG_4, B01N0X3R9Y_2, B01N0X3R9Y_7, B01N0X3R9Y_9, B015XA8YJK_2, B015XA8YJK_5, B01N34QXLH_4, \"B00QEQZEZA_1, B0713RD9L8_2, B01HEQGPBU_3, B01JHY42IU_4, B01JHY42IU_10\", \"B00VR2E6GO_1, B00VR2E6GO_4, B00HH25GGW_2, B00HH25GGW_4, B00ME8CNYW_10\", B00VR2E6O6_5, B0713RPXF3_4, B01N34QVF6_4, B01MS3MSWM_2, B01MS3MSWM_7, B01MS3MSWM_9, B01N9SIV16_4, B00TR8ZM86_3, B01I9GUD62_3, B0021TZBNY_2, B071RB8KBR_2, B071RB8KBR_9, B01G3A7A5S_9, B071XP2FKX_6, B004SE3O70_6, B00TFWOS8Y_2, B000M25PE2_5, B01G1SB5I0_6, \"B00ZWTU6RG_1, B01HPG6NVQ_6, B01HPG6NK2_6, B01HPG6NIE_6, \"B00PTP6PH8_1, B00PTP6PH8_7, B01MTO7JX7_3, B009VYCA4U_10\", B00ZWTTGZY_6, B00ZWTTGZY_7, B0017IMBCO_10\", B014H0UJ6I_8, B0194M68ZK_6, B0194M68ZK_7, B00PDTBMB4_9, B00MGLHL6W_4, B00MGLHL6W_7, B018VNUTDU_4, B018VNUTDU_6, B018VNUTDU_7, B018VNUTDU_8, \"B00ZWTU6QW_1, \"B002NZJ4L6_1, B001M04T0E_9, B001M04T0E_10\", B00ZWTTH62_6, B00ZWTTH62_7, B003HGGPLW_10\", B071F4WX11_6, B0017IIOQQ_6, B009VYCA0E_5, B00CI6J5JQ_9, B071V9KSXB_9, \"B002NZJ4MU_1, B000LEG3SI_9, B000LEG3SI_10\", \"B01G3A9A0G_1, B01G3A9A0G_6, \"B002PNV6YE_1, B00B9MU1DE_5, B00B9MU1DE_6, B01M7PAZ0M_9, B01JIJEPIQ_6, B071P954CM_6, B071P954CM_7, \"B06WLLMXF8_1, \"B073V2797Y_1, B01M9AL8QZ_3, B00B5951YU_2, B00B5951YU_8, B00JFP2ILU_6, B0191JFHNA_8, \"B01M9JKSLN_1, B01M8FQH7W_2, B01M8FQH7W_7, B01M4IPTZQ_3, \"B0743GLTL2_1, B0743GLTL2_2, \"B00U7EX51K_1, B0191JFMO4_8, B0191JFMTO_2, B0191JFMTO_8, \"B00F25KFM6_1, \"B00U7EXD0I_1, B00U7EXD0I_4, B00CBT01PC_8, B018M0XDWG_2, B018M0XDWG_6, B018M0XDWG_7, B01N374DI5_2, B00Y1XXRK2_3, B00F25KD7S_7, B00F25KD7S_9, B00F25KD7S_10\", B00Y53V7XM_2, B00Y53V7XM_4, B00Y53V7XM_5, B00Y53V7XM_7, B01M6WDH4L_3, B01M8HPJM5_3, B015WP13BW_3, B009A45S2W_2, B009A45S2W_6, B009A45S2W_7, B008LT0KFM_7, B00U7EXD2G_2, B00U7EXD2G_3, B0002YM99Y_5, B0002YM99Y_7, B00NFGZ0WO_6, B00R5GYFZI_7, B01M5AXN5L_9, \"B01M3YM13W_1, B01M3PLS8I_3, B00CL2H1U2_3, B00U8K2LHW_2, B00V7U69QQ_5, B00V7U69QQ_7, B00B9MU1DE_5, B00B9MU1DE_6, B01M7PAZ0M_9, B01JIJEPIQ_6, B071P954CM_6, B071P954CM_7, \"B06WLLMXF8_1, \"B073V2797Y_1, B01M9AL8QZ_3, B00B5951YU_2, B00B5951YU_8, B00JFP2ILU_6, B0191JFHNA_8, \"B01M9JKSLN_1, B01M8FQH7W_2, B01M8FQH7W_7, B01M4IPTZQ_3, \"B0743GLTL2_1, B0743GLTL2_2, \"B00U7EX51K_1, B0191JFMO4_8, B0191JFMTO_2, B0191JFMTO_8, \"B00F25KFM6_1, \"B00U7EXD0I_1, B00U7EXD0I_4, B00CBT01PC_8, B018M0XDWG_2, B018M0XDWG_6, B018M0XDWG_7, B01N374DI5_2, B00Y1XXRK2_3, B00F25KD7S_7, B00F25KD7S_9, B00F25KD7S_10\", B00Y53V7XM_2, B00Y53V7XM_4, B00Y53V7XM_5, B00Y53V7XM_7, B01M6WDH4L_3, B01M8HPJM5_3, B015WP13BW_3, B009A45S2W_2, B009A45S2W_6, B009A45S2W_7, B008LT0KFM_7, B00U7EXD2G_2, B00U7EXD2G_3, B0002YM99Y_5, B0002YM99Y_7, B00NFGZ0WO_6, B00R5GYFZI_7, B01M5AXN5L_9, \"B01M3YM13W_1, B01M3PLS8I_3, B00CL2H1U2_3, B00U8K2LHW_2, B00V7U69QQ_5, B00V7U69QQ_7, \"B006ZWJJO0_1, B006ZWJJO0_2, B006ZWJJO0_5, B006ZWJJO0_8, B01BX4F79K_9, B00B9MU1DE_5, B00B9MU1DE_6, B01FH0483W_4, B01FH0483W_7, B00S83XTJA_2, B00S83XTJA_5, B00S83XTJA_8, \"B00X33ESF4_1, B01MRST8XG_9, B01DUABEOW_6, B01BX4F6X2_9, \"B00LLYP6QM_1, B00LLYP6QM_5, B01HPGFJ3E_3, \"B00U7EX51K_1, B01DUABF50_6, B00I65HRES_2, B00I65HRES_4, B00I65HRES_5, B00RYZR3SG_4, B01MT0P0IB_9, B00NTW0J20_8, B00B1D6YZ0_10\", B0073RSVMC_5, B001B6N2JI_2, B00Y53V7XM_2, B00Y53V7XM_4, B00Y53V7XM_5, B00Y53V7XM_7, B01HPGFRKY_3, B001B6N2IY_2, B004KAAR9K_5, B004KAAR9K_6, B01HEQGPBU_3, B009A45S2W_2, B009A45S2W_6, B009A45S2W_7, B01DUABL8G_6, B001B6LAOC_2, B01DUABEQA_6, B004KAARCM_2, B01DUABLE0_6, B00HL2EMSQ_4, B00HL2EMSQ_7, B01DUABF6E_6, B0010MJ2G0_3, B01MS3MSWM_2, B01MS3MSWM_7, B01MS3MSWM_9, B01DUABL9K_6, B0014BLM4C_10\", B01DUABEQK_6, B01K7GTMHS_9, B00CL2H1U2_3, B00N3T3JXU_3, B06WWR2RQ7_2, B0191JFHW6_3, B0191JFHW6_8, B01MYFBTN2_9, \"B00JXDPVF4_1, B01B4NLOW4_7, B01B4NLOW4_8, B016LBYHYQ_4, B016LBYHYQ_9, B01N29I8GD_9, B016LBYEXK_4, B016LBYEXK_9, B074F1DWV4_9, B01N3B24FX_9, B072MZ89YG_9, B00B1Z6EPS_6, B06VXZBDPX_5, B016LBYIRW_4, B016LBYIRW_9, B014DEIBOA_5, B01EUGPCT8_6, B01ALIQY1E_2, B01BCZDO9K_7, B00UT34UQI_7, B00Z0IIEAU_5, B01822U9LM_2, \"B00G5JW4FY_1, B007CGL9GE_8, B000BZ6TZE_9, B01A5YMCH4_2, \"B0719TQDVB_1, B00CIXVIRQ_9, B01N146D5O_2, B002HHQ8X2_9, B00MO1WL46_2, B00MO1WL46_6, B01BEVH7GI_7, B00Y53V7XM_2, B00Y53V7XM_4, B00Y53V7XM_5, B00Y53V7XM_7, B00FEJPCNC_5, \"B01BG8QHW4_1, B00UBUL18Y_4, B00UBUL18Y_10\", B00CPHE7EQ_9, B01BEVH7L8_7, \"B01EUGPD4W_1, B01EUGPD4W_9, B06Y459LZD_2, B06Y459LZD_4, \"B00DUPD8JW_1, \"B00JPF2CHU_1, 1223062503_7, 1223062503_9, \"B00QDWK8PG_1, B000NVBE10_2, B00QR38DB2_2, B000ES3LOU_2, B0002HWG9E_3, B0002HWG9E_5, B014SVVLDQ_2, \"B0754FHMKL_1, \"B004NSUGOU_1, \"B000GKW6KG_1, \"B00XE6TAEY_1, \"B004NSUGP4_1, B00CPHE7EQ_9, B0006HBEV6_2, B0007TXTFM_2, \"B00E3KEKAO_1, B00E3KEKAO_5, B00E3KEKAO_6, B00E3KEKAO_8, B019W2LU7I_3, B019W2LU7I_10\", \"B06W9MQJJL_1, \"B0742DF1LQ_1, B0742DF1LQ_4, B00VM16OYM_4, B00VM16OYM_6, B00VM16OYM_7, \"B00RH5ZGUU_1, B0716ZD99W_5, B0716ZD99W_7, B00W50V854_7, B00KGFM5TI_8, B00KGFM5TI_9, B00IE267BC_8, \"B00KLXOZD4_1, B00KLXOZD4_3, B00KLXOZD4_6, B0756CG87G_3, B074RFJQB2_2, \"B01B7GAGWM_1, B0194M6A3U_8, \"B00QT354SK_1, B00KGFM264_8, B00KGFM264_9, B00VM16OUG_4, B00VM16OUG_6, B00VM16OUG_7, B01HPMNZL6_6, B01CQCK51S_3, B00VM16O2Y_4, B00VM16O2Y_6, B00VM16O2Y_7, B07195NVWF_4, \"B06VWGX4JH_1, B06VWGX4JH_4, B06VWGX4JH_5, B06VWGX4JH_9, B01DU79MVC_4, B01DU79MVC_6, B01DU79MVC_8, B01DU79MVC_9, B00GAM4PHG_5, B00GAM4PHG_6, B00TF1FNQQ_2, B00TF1FNQQ_3, B00TF1FNQQ_7, \"B0194K5OPW_1, B0194K5OPW_3, B0194K5OPW_5, B0194K5OPW_10\", B00SVE65EM_3, B00DW1JT5G_3, B00DW1JT5G_7, B00BCG2NRY_5, B00BCG2NRY_6, \"B00KGFM26E_1, \"B00AR92IL8_1, B00AR92IL8_3, B075NGT6TG_2, B0716FQVMZ_9, B00IY39UYM_4, B00IY39UYM_6, B00IY39UYM_7, B01KFPK8EC_5, B01KFPK8EC_10\", \"B0076N1ZXK_1, B0076N1ZXK_5, B0076N1ZXK_8, B0076N1ZXK_10\", B0040PMR0C_2, B0040PMR0C_3, B0040PMR0C_4, B0040PMR0C_9, B0040PMR0C_10\", \"B01FD1R314_1, B01FD1R314_3, B01FD1R314_4, B00SJBG592_3, \"B00X7BH2G4_1, B00X7BH2G4_7, B00X7BH2G4_9, B06XYMR5W8_2, B06XYMR5W8_9, \"B01IP3WVDM_1, B01IP3WVDM_3, B01IP3WVDM_7, \"B01NBXEXTX_1, B01LZRGK2B_4, B00J3LXLGW_3, B0192NO83U_3, B01HID2R34_2, \"B00SUEEMPC_1, \"B07114ZDQR_1, B07114ZDQR_3, B07114ZDQR_7, \"B01IP3XQYA_1, B01IP3XQYA_3, B01IP3XQYA_7, \"B01IP3WVJQ_1, B01IP3WVJQ_3, B01IP3WVJQ_7, B01MDNGWXY_10\", \"B00RUEQX14_1, B00RUEQX14_3, B00RUEQX14_10\", \"B06Y53GV98_1, B06Y53GV98_3, B06Y53GV98_7, B06XW64DLH_2, B01A8AHXPG_2, \"B01IP3WVGO_1, B01IP3WVGO_3, B01IP3WVGO_7, B06W9K3R28_2, \"B01IP3WVKU_1, B01IP3WVKU_3, B01IP3WVKU_7, B01IP3XH5I_7, B0713ZQC37_2, B0713ZQC37_6, B00IX6A05I_8, B00IX6A05I_9, B06X19SP68_2, B01F3J20P0_2, B01F3J20P0_9, B007KALG8I_2, B01HXLDCBW_2, B06XCR6Z41_4, B019B6RXOO_5, B019B6RXOO_6, \"B07354SNPS_1, B07354SNPS_3, B07354SNPS_10\", B00S0WSZYS_4, B01F3J1T2K_2, B01F3J1T2K_9, \"B075T5T6BX_1, B075T5T6BX_3, B075T5T6BX_10\",\n",
      "\n"
     ]
    },
    {
     "name": "stdout",
     "output_type": "stream",
     "text": [
      "Cluster 5 titles: \"B01MZALP0W_1, B01MZALP0W_8, B0194WFWCK_4, B0194WFWCK_9, B073FYF9S2_5, B00VR2E6AK_9, B073FWCJQV_5, \"B015XA8YJK_1, \"B01N34QXLH_1, B01N34QXLH_8, B018B2E65I_7, B01N2XLPXS_3, B00PESY1T4_4, B00OFR5H0M_2, B00OFR5H0M_3, B00OFR5H0M_9, \"B00HH25GGW_1, \"B00ME8CNYW_1, B00ME8CNYW_3, B00ME8CNYW_5, B00VR2E6O6_9, \"B0713RPXF3_1, B0713RPXF3_8, \"B01JZ6BWKQ_1, \"B01N34QVF6_1, B01N34QVF6_8, \"B01N6N3JYC_1, B01N6N3JYC_2, B01MY4HMFR_7, \"B01N9SIV16_1, B01N9SIV16_8, B01I9GUD62_5, B00E94U12A_8, B00ZWTUHH0_3, B00ZWTUHH0_6, B00ZWTUHH0_10\", B06X1J2LMH_3, B06X1J2LMH_4, B06X1J2LMH_10\", B01G3A7A5S_5, B071XP2FKX_3, B00JM5GW10_2, B004SE3O70_2, B004SE3O70_7, B00TFWOS8Y_8, B000M25PE2_6, B000M25PE2_7, B000M25PE2_8, B01G1SB5I0_8, B01HPG6NVQ_8, B01HPG6NK2_8, B01HPG6NIE_8, B01MTO7JX7_5, B00COX3M4W_4, B00COX3M4W_10\", B01I9GUBTQ_3, B01I9GUBTQ_6, B01I9GUBTQ_10\", B010Q2CF0E_3, B010Q2CF0E_8, B016ZDDMFA_3, B016ZDDMFA_6, B016ZDDMFA_10\", B0017IMBCO_4, B014H0UJ6I_5, B002YIRKKY_5, B002YIRKKY_7, B002YIRKKY_10\", B00IGNX226_2, B00IGNX226_8, B004SE3OTI_4, B002NZJ4L6_3, B002NZJ4L6_5, B002NZJ4L6_7, \"B00A9N1MR8_1, B01DW37RO8_3, B01DW37RO8_6, B01DW37RO8_10\", B071F4WX11_3, B0017IIOQQ_2, B0017IIOQQ_7, B01FF1073I_2, B01FF1073I_8, \"B009VYCA0E_1, B00CI6J5JQ_4, B002NZJ4MU_3, B002NZJ4MU_5, B002NZJ4MU_7, B00ZWTU6O4_3, B00ZWTU6O4_6, B00ZWTU6O4_10\", B01M7YRL3P_3, B01M7YRL3P_4, B01M7YRL3P_10\", B002PNV6YE_3, B002PNV6YE_5, B002PNV6YE_7, B00B9MU1DE_9, B0080AHHBM_6, B0080AHHBM_9, \"B01JIJEPIQ_1, B01JIJEPIQ_3, B01JIJEPIQ_7, B01JIJEPIQ_8, B071P954CM_3, B01M9AL8QZ_6, B01M9AL8QZ_8, B00B5951YU_9, \"B00J3LXLEO_1, B00JFP2ILU_2, \"B071RZY5B5_1, B0191JFHNA_3, B01M4IPTZQ_6, B01M4IPTZQ_8, B0191JFMO4_3, B0191JFMTO_9, B00F25KFM6_4, B00F25KFM6_7, B00F25KFM6_8, B073RJMRR6_2, B073RJMRR6_4, B00U7EXD0I_3, B00CBT01PC_3, B018M0XDWG_3, B018M0XDWG_4, B00Y53V7XM_3, B01M6WDH4L_6, B01M6WDH4L_8, B01M8HPJM5_6, B01M8HPJM5_8, \"B015WP13BW_1, B007IGRV6U_6, B007IGRV6U_7, B007IGRV6U_8, B009A45S2W_3, B009A45S2W_4, B008LT0KFM_10\", B073RHXLN1_2, B073RHXLN1_4, \"B00U7EXD2G_1, B008LQXR9Q_4, B00NFGZ0WO_2, B00R5GYFZI_5, B01M3PLS8I_6, B01M3PLS8I_8, B00CL2H1U2_5, B00CL2H1U2_6, \"B00U8K2LHW_1, B00V7U69QQ_2, B00B9MU1DE_9, B0080AHHBM_6, B0080AHHBM_9, \"B01JIJEPIQ_1, B01JIJEPIQ_3, B01JIJEPIQ_7, B01JIJEPIQ_8, B071P954CM_3, B01M9AL8QZ_6, B01M9AL8QZ_8, B00B5951YU_9, \"B00J3LXLEO_1, B00JFP2ILU_2, \"B071RZY5B5_1, B0191JFHNA_3, B01M4IPTZQ_6, B01M4IPTZQ_8, B0191JFMO4_3, B0191JFMTO_9, B00F25KFM6_4, B00F25KFM6_7, B00F25KFM6_8, B073RJMRR6_2, B073RJMRR6_4, B00U7EXD0I_3, B00CBT01PC_3, B018M0XDWG_3, B018M0XDWG_4, B00Y53V7XM_3, B01M6WDH4L_6, B01M6WDH4L_8, B01M8HPJM5_6, B01M8HPJM5_8, \"B015WP13BW_1, B007IGRV6U_6, B007IGRV6U_7, B007IGRV6U_8, B009A45S2W_3, B009A45S2W_4, B008LT0KFM_10\", B073RHXLN1_2, B073RHXLN1_4, \"B00U7EXD2G_1, B008LQXR9Q_4, B00NFGZ0WO_2, B00R5GYFZI_5, B01M3PLS8I_6, B01M3PLS8I_8, B00CL2H1U2_5, B00CL2H1U2_6, \"B00U8K2LHW_1, B00V7U69QQ_2, B01BX4F79K_8, B00B9MU1DE_9, B00MO1WP6A_4, B00MO1WP6A_8, B01FH0483W_5, \"B00S83XTJA_1, B00IF24GFA_4, B00IF24GFA_8, B01MRST8XG_8, \"B01DUABEOW_1, B01DUABEOW_2, B01DUABEOW_3, B01DUABEOW_4, B01DUABEOW_5, B01DUABEOW_10\", B01BX4F6X2_8, \"B01DUABF50_1, B01DUABF50_2, B01DUABF50_3, B01DUABF50_4, B01DUABF50_5, B01DUABF50_10\", B01MT0P0IB_8, B00NTW0J20_3, B00B1D6YZ0_9, B0073RSVMC_3, B0073RSVMC_7, B001B6N2JI_8, B016ZOLKVW_3, B016ZOLKVW_5, B016ZOLKVW_7, B016ZOLKVW_10\", B00Y53V7XM_3, \"B075V71FM8_1, B001B6N2IY_8, B004KAAR9K_9, B009A45S2W_3, B009A45S2W_4, B00292ANK4_9, \"B01DUABL8G_1, B01DUABL8G_2, B01DUABL8G_3, B01DUABL8G_4, B01DUABL8G_5, B01DUABL8G_10\", B001B6LAOC_8, \"B01DUABEQA_1, B01DUABEQA_2, B01DUABEQA_3, B01DUABEQA_4, B01DUABEQA_5, B01DUABEQA_10\", B004KAARCM_8, \"B01DUABLE0_1, B01DUABLE0_2, B01DUABLE0_3, B01DUABLE0_4, B01DUABLE0_5, B01DUABLE0_10\", B008LQXR9Q_4, B00MO1WLBY_3, B00MO1WLBY_8, \"B01DUABF6E_1, B01DUABF6E_2, B01DUABF6E_3, B01DUABF6E_4, B01DUABF6E_5, B01DUABF6E_10\", \"B01DUABL9K_1, B01DUABL9K_2, B01DUABL9K_3, B01DUABL9K_4, B01DUABL9K_5, B01DUABL9K_10\", B071YDWKJ1_6, B071YDWKJ1_8, \"B01DUABEQK_1, B01DUABEQK_2, B01DUABEQK_3, B01DUABEQK_4, B01DUABEQK_5, B01DUABEQK_10\", B01K7GTMHS_8, B00CL2H1U2_5, B00CL2H1U2_6, B01K7GT1CO_3, B015EB2BLK_7, B015EB2BLK_9, B0191JFHW6_4, \"B014DEHUU6_1, \"B0783MSZHJ_1, \"B01MR0FODO_1, B00JXDOQN2_2, B00E4BGB90_3, B00E4BGB90_4, B00E4BGB90_5, \"B016LBYHYQ_1, B016LBYHYQ_2, B016LBYHYQ_6, \"B016LBYEXK_1, B016LBYEXK_2, B016LBYEXK_6, B01ABS3YXU_10\", \"B077MF7NF9_1, B00B1Z6EPS_5, B06VXZBDPX_3, \"B016LBYIRW_1, B016LBYIRW_2, B016LBYIRW_6, \"B077N22LC9_1, B01ABS3XSG_10\", B009A449FY_3, B009A449FY_4, B009A449FY_5, B06W2PM4M9_4, B06W2PM4M9_5, \"B07842RX42_1, B01EUGPCT8_9, B0000Y8I0K_2, B0000Y8I0K_4, B01CXT01WW_5, B01CXT01WW_6, B01CXT01WW_9, B06XTMCCM7_2, \"B00Z0IIEAU_1, B00Z0IIEAU_4, B06XTM8L86_10\", B007CGL9GE_5, B0103AHP90_2, \"B000BZ6TZE_1, B000BZ6TZE_4, B000BZ6TZE_10\", B004560BPY_2, B004560BPY_5, B0053X62GK_2, B06Y42JFS5_5, B00CIXVIRQ_2, B00CIXVIRQ_5, B002HHQ8X2_8, B007K5HC0Y_7, B00Y53V7XM_3, B01BG8QHW4_9, \"B01ESSIQ9G_1, \"B008BHR0TI_1, B008BHR0TI_3, B008BHR0TI_4, B01EUGPD4W_3, B01EUGPD4W_5, \"B01MY7C62V_1, B000O94QTI_6, \"B00ZZVZPMW_1, \"B071FN6KXK_1, B000REP3E2_2, B000REP3E2_5, 1223062503_8, \"B06XYFMNZN_1, B06XYFMNZN_3, B06XYFMNZN_4, B06XYFMNZN_6, B06XYFMNZN_9, \"B000NVBE10_1, \"B000ES3LOU_1, B01N8ZYBE6_4, B01N8ZYBE6_8, B01N8ZYBE6_9, \"B014SVVLDQ_1, B00B855JIE_3, B00B855JIE_4, \"B0754GJXGC_1, \"B00IE6KT1M_1, B00IE6KT1M_3, B00IE6KT1M_4, B00IE6KT1M_6, B00IE6KT1M_9, \"B0006HBEV6_1, \"B0007TXTFM_1, \"B06XYFMNZM_1, B06XYFMNZM_3, B06XYFMNZM_4, B06XYFMNZM_6, B06XYFMNZM_9, \"B019W2LU7I_1, B00MOI8756_3, B00MOI8756_4, \"B005IX6ZOY_1, B005IX6ZOY_3, B005IX6ZOY_4, B005IX6ZOY_6, B005IX6ZOY_9, B00VM16OYM_2, B00AE1K6RW_2, B00DFXJVMC_7, B0716ZD99W_10\", \"B00W50V854_1, B06XG9S5GL_5, B06XG9S5GL_6, B00O8RQYGU_6, B00D9KSY8I_8, B0756CG87G_6, B00OJG5MDG_2, B00VM16OUG_2, B01HPMNZL6_9, B00VM16O2Y_2, B07195NVWF_7, B06VWGX4JH_7, B00OJG5K2O_2, B00SVE65EM_6, B00IY39UYM_2, B00X7BH2G4_3, \"B06XYMR5W8_1, B00BMT78TO_3, B00BMT78TO_10\", B00719B0G6_3, B00719B0G6_10\", B01IP3WVDM_4, B00HTE7JG8_3, B00HTE7JG8_10\", B075T8MPC7_6, B00BMT6WG4_3, B00BMT6WG4_10\", B07114ZDQR_4, B000V6I8N4_3, B000V6I8N4_10\", B00H9I653M_3, B00H9I653M_10\", B01IP3XQYA_4, B00ZVGG8SQ_3, B00ZVGG8SQ_10\", B01IP3WVJQ_4, \"B01MDNGWXY_1, B00RUEQX14_2, B00336EPWW_4, B06Y53GV98_4, B0012SFMCA_3, B0012SFMCA_10\", B01A8AHXPG_3, B01A8AHXPG_6, B01IP3WVGO_4, B01EARLUZW_2, B01IP3WVKU_4, B00135C75W_3, B00135C75W_10\", B00DP5MDRU_3, B00DP5MDRU_10\", \"B01F3J20P0_1, B0012SDXUI_3, B0012SDXUI_10\", B01ASZWIG0_3, B01ASZWIG0_10\", B072DWNG6Z_3, B072DWNG6Z_10\", B004U0KWKE_3, B004U0KWKE_10\", B01N36KN3O_3, B01EARLU16_2, B07354SNPS_2, B0012SFM6G_4, B00S0WSZYS_5, \"B01F3J1T2K_1, B075T5T6BX_2, B01I4H83TK_3, B01I4H83TK_10\",\n",
      "\n",
      "Cluster 6 titles: B00VR2EB3W_3, \"B019JIADG4_1, \"B0063DEIQK_1, B01MZALP0W_6, B072NZVLQR_5, \"B073FYF9S2_1, \"B073FWCJQV_1, B00VR2EAZG_3, B01N34QXLH_6, B00VR2E6GO_3, B00OFR5H0M_4, B0713RPXF3_6, B01JZ6BWKQ_2, B01N34QVF6_6, \"B00J3LXLL2_1, B01G9STT8A_3, B01N9SIV16_6, B071RB8KBR_7, B06X1J2LMH_7, B01G3A7A5S_6, B01N23WDHO_4, \"B004SE3O70_1, B009VYCA4U_7, B002YIRKKY_2, B002NZJ4L6_2, B003HGGPLW_7, B004G8QSXU_4, \"B0017IIOQQ_1, B008BP9NTU_4, B002NZJ4MU_2, B000LEG3SI_3, B01M7YRL3P_7, B002PNV6YE_2, B00005C8R6_6, B00JFP2ILU_4, B073RJMRR6_8, B00Y53V7XM_9, B073RHXLN1_8, B0002YM99Y_9, B00NFGZ0WO_4, \"B01M2D4X7D_1, B00JFP2ILU_4, B073RJMRR6_8, B00Y53V7XM_9, B073RHXLN1_8, B0002YM99Y_9, B00NFGZ0WO_4, \"B01M2D4X7D_1, B006ZWJJO0_9, B00B1D6YZ0_4, B001B6N2JI_9, B00Y53V7XM_9, B001B6N2IY_9, B00292ANK4_2, B001B6LAOC_9, B004KAARCM_9, B00W4ZE7GW_2, B01K7GT1CO_6, \"B00FZMDLRC_1, B007V7M6UW_4, B01ABS3YXU_5, B01ABS3XSG_5, B06W2PM4M9_3, B01HNSL31Q_3, B01EUGPCT8_3, B0103AHP90_3, B0103AHP90_4, \"B01ET2ZRJS_1, B004560BPY_3, B071ZMBVGN_2, B0053X62GK_3, B0053X62GK_4, B00CIXVIRQ_7, B00JDVIPOU_5, B00Y53V7XM_9, B0089E2JZ8_7, B0089E2JZ8_10\", B01EUGPD4W_2, B000O94QTI_7, 1223062503_10\", \"B0002HWG9E_1, B01N8ZYBE6_6, B0742DF1LQ_5, B07219PL55_2, B00W50V854_8, \"B00WM2QFMG_1, B00O8RQYGU_3, B00OJG5MDG_4, B06VWGX4JH_2, B06VWGX4JH_10\", B00OJG5K2O_4, \"B01HD4I64W_1, B01FD1R314_5, B01LZRGK2B_6, B01LZRGK2B_10\", B01MT1VL6L_9, B01N13LYMX_2, B01MDNGWXY_2, B01MDNGWXY_9, \"B00IFAZ5PW_1, B01IP3WVXM_9, B06XW64DLH_7, B01N36L01M_3, B073PB6S71_9, B06XCR6Z41_6, B06XCR6Z41_10\", B01N36KN3O_9, B01N2U58WV_9, B0012SFM6G_5,\n",
      "\n",
      "Cluster 7 titles: B01GGYZHTC_10\", B00PESY1T4_6, B01MY4HMFR_4, B01I9GUD62_2, B0021TZBNY_4, B071RB8KBR_8, B01G3A7A5S_3, B013RQPB5C_4, B000M25PE2_4, B01MTO7JX7_2, B00COX3M4W_2, B00COX3M4W_3, B00ZWTTGZY_3, B00ZWTTGZY_5, B0194M68ZK_3, B0194M68ZK_5, B00V9YYD68_5, B001M04T0E_5, B00ZWTTH62_3, B00ZWTTH62_5, B01JKAPB3Q_2, B01G3A9A0G_4, B013OVV8HK_5, B0080AHHBM_3, B01JIJEPIQ_5, B01JIJEPIQ_10\", B071P954CM_2, B00B5951YU_10\", B0191JFHNA_10\", B01M8FQH7W_9, B0191JFMO4_10\", B0191JFMTO_10\", B00CBT01PC_10\", B00F25KD7S_4, B015WP13BW_2, B00U8K2LHW_4, B0080AHHBM_3, B01JIJEPIQ_5, B01JIJEPIQ_10\", B071P954CM_2, B00B5951YU_10\", B0191JFHNA_10\", B01M8FQH7W_9, B0191JFMO4_10\", B0191JFMTO_10\", B00CBT01PC_10\", B00F25KD7S_4, B015WP13BW_2, B00U8K2LHW_4, B00MO1WP6A_7, B01FH0483W_6, B00IF24GFA_7, B00LLYP6QM_6, B00NTW0J20_10\", B001B6N2JI_7, B01N6GQ9JY_7, B001B6N2IY_7, B001B6LAOC_7, B004KAARCM_7, B01B4NLOW4_5, B007V7M6UW_3, B000BVYQ9O_2, B000BVYQ9O_3, \"B06W2PM4M9_1, B003WE8U1C_7, B0000Y8I0K_3, B06XTM8L86_5, B001MBURM2_7, \"B00004WKPM_1, B00JDVIPOU_4, B00JDVIPOU_9, B00H8OINX2_4, \"B007K5HC0Y_1, B00LLYPDGU_7, B01MY7C62V_4, B01MY7C62V_8, \"B000O94QTI_1, B000O94QTI_2, \"B01N8ZYBE6_1, B00VM16OYM_5, B00VM16OYM_9, B00RH5ZGUU_3, B00DFXJVMC_5, B06XG9S5GL_9, B00D9KSY8I_7, B01B7GAGWM_3, B00OJG5MDG_5, B01I9GUBJ6_6, B00VM16OUG_5, B00VM16OUG_9, B00VM16O2Y_5, B00VM16O2Y_9, B00ABRX8MY_2, \"B00GAM4PHG_1, B00OJG5K2O_5, \"B00DW1JT5G_1, B00DW1JT5G_2, \"B00BCG2NRY_1, B00IY39UYM_5, B00IY39UYM_9, B0076N1ZXK_7, B00BMT78TO_4, B00BMT78TO_6, B00719B0G6_4, B00719B0G6_6, B00HTE7JG8_4, B00HTE7JG8_6, B01LZRGK2B_2, B01MT1VL6L_6, B00BMT6WG4_4, B00BMT6WG4_6, B000V6I8N4_4, B000V6I8N4_6, B00H9I653M_4, B00H9I653M_6, B00ZVGG8SQ_4, B00ZVGG8SQ_6, B01MDNGWXY_4, B01MDNGWXY_6, B0012SFMCA_4, B0012SFMCA_6, B01IP3WVXM_6, \"B01M14RFZ1_1, B01N36L01M_7, B00135C75W_4, B00135C75W_6, B00DP5MDRU_4, B00DP5MDRU_6, B073PB6S71_6, B0012SDXUI_4, B0012SDXUI_6, B06XCR6Z41_2, B01ASZWIG0_4, B01ASZWIG0_6, B072DWNG6Z_4, B072DWNG6Z_6, B004U0KWKE_4, B004U0KWKE_6, B019B6RXOO_8, B01N2U58WV_6, B01I4H83TK_4, B01I4H83TK_6,\n",
      "\n",
      "Cluster 8 titles: B072NZVLQR_2, B072NZVLQR_4, B0194WFWCK_6, B0194WFWCK_7, B0194WFWCK_8, B073FYF9S2_4, B00VR2E6AK_6, B073FWCJQV_4, B018B2E65I_6, B00VR2E6O6_6, B01MY4HMFR_8, \"B00E94U12A_1, B0021TZBNY_8, B071RB8KBR_6, B00TFWOS8Y_3, B010Q2CF0E_4, B014H0UJ6I_2, B002YIRKKY_8, B00IGNX226_7, B00IGNX226_9, B002NZJ4L6_8, \"B01JKAPB3Q_1, B01FF1073I_7, B01FF1073I_9, B008BP9NTU_5, B009VYCA0E_3, B009VYCA0E_4, B009VYCA0E_9, B009VYCA0E_10\", B00N3T3N22_5, B00CI6J5JQ_7, B002NZJ4MU_8, B002PNV6YE_8, B00B9MU1DE_10\", B0080AHHBM_2, B0080AHHBM_5, B01M7PAZ0M_5, B01M9AL8QZ_10\", B00B5951YU_3, B0191JFHNA_2, B01M4IPTZQ_10\", B0191JFMO4_2, B0191JFMTO_3, B00F25KFM6_6, \"B075S4R1YH_1, B00CBT01PC_2, B00F25KD7S_5, B01M6WDH4L_10\", B01M8HPJM5_10\", \"B008LT0KFM_1, B00R5GYFZI_4, B01M5AXN5L_5, B01M3PLS8I_10\", B00V7U69QQ_8, B00B9MU1DE_10\", B0080AHHBM_2, B0080AHHBM_5, B01M7PAZ0M_5, B01M9AL8QZ_10\", B00B5951YU_3, B0191JFHNA_2, B01M4IPTZQ_10\", B0191JFMO4_2, B0191JFMTO_3, B00F25KFM6_6, \"B075S4R1YH_1, B00CBT01PC_2, B00F25KD7S_5, B01M6WDH4L_10\", B01M8HPJM5_10\", \"B008LT0KFM_1, B00R5GYFZI_4, B01M5AXN5L_5, B01M3PLS8I_10\", B00V7U69QQ_8, B00B9MU1DE_10\", B00MO1WP6A_2, B00S83XTJA_3, B00IF24GFA_2, B00LLYP6QM_9, B00I65HRES_3, B00NTW0J20_2, B0073RSVMC_4, B0073RSVMC_6, B01N6GQ9JY_5, B004KAAR9K_10\", B00MO1WLBY_9, B00HL2EMSQ_8, B071YDWKJ1_3, B071YDWKJ1_7, B013UL59N8_6, B0191JFHW6_5, B01ABS3YXU_8, B01ABS3XSG_8, B014DEIBOA_7, B01EUGPCT8_7, B01EUGPCT8_10\", \"B00AV8XBGG_1, B00AWMKQEG_3, B06XTM8L86_7, B007CGL9GE_6, B00H8OINX2_8, B00FEJPCNC_6, B00CPHE7EQ_6, B01EUGPD4W_6, B000O94QTI_3, B000O94QTI_9, B00ZZVZPMW_3, B000REP3E2_3, B06XRY1RKV_4, B01N8ZYBE6_5, B00B855JIE_2, B06XRRFN3D_4, B00CPHE7EQ_6, B00MOI8756_2, B00AE1K6RW_9, B00DFXJVMC_9, B01HPMNZL6_10\", B01CQCK51S_2, B07195NVWF_2, B07195NVWF_3, \"B01DU79MVC_1, B01DU79MVC_3, B01KFPK8EC_3, \"B00BMT78TO_1, B00BMT78TO_8, \"B00719B0G6_1, B00719B0G6_8, \"B00HTE7JG8_1, B00HTE7JG8_8, B01NBXEXTX_5, \"B00BMT6WG4_1, B00BMT6WG4_8, \"B000V6I8N4_1, B000V6I8N4_8, \"B00H9I653M_1, B00H9I653M_8, \"B00ZVGG8SQ_1, B00ZVGG8SQ_8, B01EARLUQQ_6, B01EARLUQQ_9, B01EARLUBG_6, B01EARLUBG_9, \"B0012SFMCA_1, B0012SFMCA_8, \"B00135C75W_1, B00135C75W_8, B0713ZQC37_7, \"B00DP5MDRU_1, B00DP5MDRU_8, \"B0012SDXUI_1, B0012SDXUI_8, \"B01ASZWIG0_1, B01ASZWIG0_8, \"B072DWNG6Z_1, B072DWNG6Z_8, B01EARLU70_6, B01EARLU70_9, \"B004U0KWKE_1, B004U0KWKE_8, \"B01I4H83TK_1, B01I4H83TK_8,\n",
      "\n",
      "Cluster 9 titles: B06Y2ZK8VY_6, B01N0X3R9Y_6, B01GGYZHTC_9, B01JHY42IU_8, B01MS3MSWM_6, \"B01G3A7A5S_1, B00TFWOS8Y_6, \"B000M25PE2_1, B010Q2CF0E_5, B010Q2CF0E_10\", B00ZWTTGZY_10\", B0194M68ZK_10\", B00ZWTTH62_10\", B009VYCA0E_2, B00B9MU1DE_4, B008LT0KFM_2, B0002YM99Y_10\", B00CL2H1U2_10\", B00B9MU1DE_4, B008LT0KFM_2, B0002YM99Y_10\", B00CL2H1U2_10\", B00B9MU1DE_4, \"B001B6N2JI_1, \"B001B6N2IY_1, B004KAAR9K_4, \"B001B6LAOC_1, \"B004KAARCM_1, B01MS3MSWM_6, B0014BLM4C_4, B00CL2H1U2_10\", \"B01K7GT1CO_1, B00E4BGB90_8, B00B1Z6EPS_9, B009A449FY_8, \"B06XTMCCM7_1, B0103AHP90_6, \"B071ZMBVGN_1, B0053X62GK_6, B01N146D5O_3, B000URL296_4, B003PHMLKC_10\", \"1223062503_1, B000A42CUC_10\", B000FUEZA6_2, B000A42CT8_10\", B06VWGX4JH_8, B01DU79MVC_10\", B00X7BH2G4_8, B00BMT78TO_7, B00719B0G6_7, B00HTE7JG8_7, B00BMT6WG4_7, B000V6I8N4_7, B00H9I653M_7, B00ZVGG8SQ_7, B0012SFMCA_7, B00135C75W_7, B00DP5MDRU_7, B007KALG8I_6, B0012SDXUI_7, B01ASZWIG0_7, B072DWNG6Z_7, B004U0KWKE_7, B01I4H83TK_7,\n",
      "\n"
     ]
    }
   ],
   "source": [
    "from __future__ import print_function\n",
    " \n",
    "print(\"Top terms per cluster:\")\n",
    "print()\n",
    "# 按离质心的距离排列聚类中心，由近到远\n",
    "order_centroids = km.cluster_centers_.argsort()[:, ::-1] \n",
    " \n",
    "for i in range(num_clusters):\n",
    "    print(\"Cluster %d titles:\" % i, end='')\n",
    "    for title in frame.ix[i]['title'].values.tolist():\n",
    "        print(' %s,' % title, end='')\n",
    "    print() # 空行\n",
    "    print() # 空行"
   ]
  },
  {
   "cell_type": "code",
   "execution_count": 91,
   "metadata": {
    "scrolled": true
   },
   "outputs": [
    {
     "name": "stdout",
     "output_type": "stream",
     "text": [
      "Top terms per cluster:\n",
      "\n",
      "Cluster 0: 做工, 玩具, 孩子, 喜欢, 亚马逊, 儿子, 感觉, 包装, 东西, 味道, 质量, 价格, 满意, 设计, 打开, 电池, 不错, 适合, 精致, 收到, 便宜, 好玩, 不好, 真的, 轨道, 商品, 失望, 简单, 一点, 只能, 正品, 火车, 粗糙, 太小, 娃娃, 牌子, 地方, 宝贝, 塑料, 盒子, 两个, 好看, 想象, 性价比, 发货, 玩儿, 图片, 小贵, 很大, 产品,\n",
      "\n",
      "Cluster 1: 积分, 评价, 不用, 复制到, 复制, 换钱, 走到, 这段话, 省事, 既能, 浪费, 发出, 好好, 评论, 推荐, 有用吗, 留言, 飘飘, 锦衣, 侄女, 确认, 满意, 完美, 购买, 宝宝, 可爱, 做工, 孩子, 一岁, 颜色, 真的, 儿子, 礼物, 正品, 味道, 感觉, 想象, 开心, 不太好, 品牌, 很小, 爱不释手, 娃娃, 塑料, 东西, 火车, 外面, 姑娘, 小车, 用料,\n",
      "\n",
      "Cluster 2: 可爱, 女儿, 喜欢, 颜色, 精致, 送人, 包装, 鲜艳, 不太好, 瑕疵, 很小, 异味, 好看, 火车, 太小, 感觉, 对得起, 做工, 孩子, 图片, 手感, 真的, 价格, 听到, 反馈, 味道, 很软, 小侄女, 舒服, 东西, 照片, 不错, 本来, 妈妈, 种类, 上深, 绒毛, 稀少, 蓝色, 入手, 质量, 小是, 速度, 发现, 玩具, 质感, 测试, 合适, 苗条, 坐姿,\n",
      "\n",
      "Cluster 3: 宝宝, 喜欢, 不错, 做工, 可爱, 能力, 合适, 精细, 玩具, 质量, 毛绒, 锻炼, 拼图, 爱不释手, 适合, 我家, 价格, 宝贝, 爱玩, 简单, 柔软, 拿到, 两岁, 一岁, 一点, 小车, 配件, 大人, 亚马逊, 第一次, 介绍, 设计, 动手, 挖掘机, 期待, 睡觉, 娃娃, 时式, 包装纸, 放入, 撕扯, 盒内, 广告宣传, 分包, 大小, 小兔子, 咯手, 觉着, 作工, 晚上,\n",
      "\n",
      "Cluster 4: 不错, 质量, 做工, 喜欢, 东西, 凑单, 价格, 孩子, 儿子, 满意, 制造, 好评, 太小, 性价比, 手感, 想象, 中国, 车子, 品牌, 爱玩, 亚马逊, 小车, 很棒, 颜色, 设计, 单买, 宝贝, 物有所值, 产品, 个头, 价格便宜, 用料, 宝宝, 味道, 塑料, 不行, 金属, 小孩子, 玩具, 送人, 商品, 打开, 总体, 适合, 特价, 异味, 活动, 洗澡时, 赛道, 更好,\n",
      "\n",
      "Cluster 5: 孩子, 喜欢, 不错, 做工, 儿子, 质量, 玩具, 手感, 便宜, 姑娘, 三岁, 拼装, 超级, 好玩, 朋友, 最早, 拆卸, 粉色, 紫色, 拼完, 礼物, 小家伙, 美亚, 小孩子, 包装, 颜色, 价格, 爱不释手, 柔和, 大牌, 侄子, 纸张, 精致, 味道, 装配, 图纸, 开心, 超市, 可爱, 拼图, 感觉, 正品, 用时, 玩好, 半小时, 纸质, 一阵子, 厚实, 难以, 随意,\n",
      "\n",
      "Cluster 6: 特别, 喜欢, 宝宝, 孩子, 可爱, 好玩, 真的, 做工, 小孩子, 适合, 不到, 亚马逊, 质量, 不错, 手脚, 颜色, 东西, 鲜艳, 儿子, 玩具, 小朋友, 迷你, 不值, 一上, 完美, 玩具车, 柔软, 瑕疵, 工具, 一盒, 好久, 泰克, 希望, 精致, 没法, 压根, 出新, 付款, 四辆, 这款, 玩儿, 精细, 舅舅, 物美价廉, 城要, 两百块, 回力, 调节, 一点, 超级,\n",
      "\n",
      "Cluster 7: 小孩, 喜欢, 朋友, 白色, 不错, 半岁, 耐脏, 第一个, 玩偶, 小尾巴, 兔纸, 软绵绵, 天天, 最棒, 送给, 礼物, 儿童节, 手感, 超级, 好好, 一岁, 进口货, 亲戚, 尺寸, 满意, 玩具, 性价比, 适合, 宝宝, 看清楚, 便宜, 系列, 托马斯, 画画, 价格, 爱玩, 一如既往, 转向, 灵活, 车子, 送人, 太小, 孩子, 一套, 浣熊, 单一, 质量, 没玩过, 不太大, 买来,\n",
      "\n",
      "Cluster 8: 小朋友, 喜欢, 一岁, 男生, 质量, 还会, 适合, 宝宝, 摸摸, 窒息, 看不懂, 不错, 危险, 孩子, 好玩, 睡觉, 太小, 味道, 参考, 少少, 洗后, 楼上, 货比, 相象, 买贵, 材质, 赶上, 几天, 我家, 合适, 白色, 收到, 柔软, 活动, 爱不释手, 推荐, 手里, 开心, 小男生, 超爱, 玩具, 耗电, 精致, 贴纸, 首选, 可爱, 毛掉, 东西, 担心, 更好,\n",
      "\n",
      "Cluster 9: 购买, 推荐, 值得, 长些, 长度, 强太多, 官旗, 袋子, 清晰, 标签, 外面, 蓝色, 细节, 退货, 信得过, 仿真, 德国, 不错, 小汽车, 品质, 质量, 精细, 慎重, 下次, 做工, 还会, 很差, 喜欢, 后悔, 鲜明, 宝宝, 宝贝, 东西, 真的, 送货, 颜色, 水彩笔, 正品, 之大, 教具, 好评, 沙子, 一会, 异味, 特价, 实惠, 车子, 孩子, 必备, 小熊,\n",
      "\n"
     ]
    }
   ],
   "source": [
    "from __future__ import print_function\n",
    " \n",
    "print(\"Top terms per cluster:\")\n",
    "print()\n",
    "# 按离质心的距离排列聚类中心，由近到远\n",
    "order_centroids = km.cluster_centers_.argsort()[:, ::-1] \n",
    "# print(order_centroids)\n",
    "for i in range(num_clusters):\n",
    "    print(\"Cluster %d:\" % i, end='')\n",
    "    time.sleep(1)\n",
    "    for ind in order_centroids[i, :50]: # 每个聚类选 10 个词\n",
    "        print(' %s' % word[ind]  , end=',')\n",
    "    print() # 空行\n",
    "    print() # 空行"
   ]
  },
  {
   "cell_type": "markdown",
   "metadata": {},
   "source": [
    "## LDA"
   ]
  },
  {
   "cell_type": "code",
   "execution_count": 92,
   "metadata": {
    "collapsed": true
   },
   "outputs": [],
   "source": [
    "from sklearn.decomposition import LatentDirichletAllocation"
   ]
  },
  {
   "cell_type": "code",
   "execution_count": 93,
   "metadata": {
    "collapsed": true
   },
   "outputs": [],
   "source": [
    "n_topics = 10\n",
    "lda = LatentDirichletAllocation(n_topics=n_topics, max_iter=50,\n",
    "                                learning_method='online',\n",
    "                                learning_offset=50.,\n",
    "                                random_state=0)"
   ]
  },
  {
   "cell_type": "code",
   "execution_count": 113,
   "metadata": {
    "scrolled": false
   },
   "outputs": [
    {
     "name": "stderr",
     "output_type": "stream",
     "text": [
      "/usr/local/lib/python3.6/site-packages/sklearn/decomposition/online_lda.py:294: DeprecationWarning: n_topics has been renamed to n_components in version 0.19 and will be removed in 0.21\n",
      "  DeprecationWarning)\n"
     ]
    },
    {
     "name": "stdout",
     "output_type": "stream",
     "text": [
      "CPU times: user 34.9 s, sys: 399 ms, total: 35.3 s\n",
      "Wall time: 35.5 s\n"
     ]
    }
   ],
   "source": [
    "%time L = lda.fit(tf) #tf 为向量化后的语料词集"
   ]
  },
  {
   "cell_type": "code",
   "execution_count": 115,
   "metadata": {},
   "outputs": [
    {
     "data": {
      "text/plain": [
       "sklearn.decomposition.online_lda.LatentDirichletAllocation"
      ]
     },
     "execution_count": 115,
     "metadata": {},
     "output_type": "execute_result"
    }
   ],
   "source": [
    "type(L)"
   ]
  },
  {
   "cell_type": "code",
   "execution_count": 166,
   "metadata": {},
   "outputs": [
    {
     "name": "stderr",
     "output_type": "stream",
     "text": [
      "/usr/local/lib/python3.6/site-packages/sklearn/decomposition/online_lda.py:294: DeprecationWarning: n_topics has been renamed to n_components in version 0.19 and will be removed in 0.21\n",
      "  DeprecationWarning)\n"
     ]
    },
    {
     "name": "stdout",
     "output_type": "stream",
     "text": [
      "CPU times: user 36.1 s, sys: 526 ms, total: 36.6 s\n",
      "Wall time: 37.2 s\n"
     ]
    }
   ],
   "source": [
    "%time lda_matrix = lda.fit_transform(tf)"
   ]
  },
  {
   "cell_type": "code",
   "execution_count": 167,
   "metadata": {},
   "outputs": [
    {
     "data": {
      "text/plain": [
       "array([[ 0.02500027,  0.025     ,  0.025     , ...,  0.025     ,\n",
       "         0.025     ,  0.77499973],\n",
       "       [ 0.020011  ,  0.02      ,  0.02000212, ...,  0.0200003 ,\n",
       "         0.02000436,  0.57462934],\n",
       "       [ 0.1       ,  0.1       ,  0.1       , ...,  0.1       ,\n",
       "         0.1       ,  0.1       ],\n",
       "       ..., \n",
       "       [ 0.00769264,  0.00769231,  0.77692142, ...,  0.00769247,\n",
       "         0.00769231,  0.16153815],\n",
       "       [ 0.00588308,  0.00588235,  0.00588432, ...,  0.07251232,\n",
       "         0.00588289,  0.00588235],\n",
       "       [ 0.84998988,  0.01666667,  0.0166741 , ...,  0.01666694,\n",
       "         0.01666791,  0.01666718]])"
      ]
     },
     "execution_count": 167,
     "metadata": {},
     "output_type": "execute_result"
    }
   ],
   "source": [
    "lda_matrix"
   ]
  },
  {
   "cell_type": "code",
   "execution_count": 169,
   "metadata": {},
   "outputs": [],
   "source": [
    "#https://www.pixpo.net/education/0IJdxJRZ.html\n",
    "features = pd.DataFrame(lda_matrix, columns=['T1', 'T2', 'T3','T4','T5','T6','T7','T8','T9','T10'])"
   ]
  },
  {
   "cell_type": "code",
   "execution_count": 176,
   "metadata": {},
   "outputs": [
    {
     "data": {
      "text/html": [
       "<div>\n",
       "<style>\n",
       "    .dataframe thead tr:only-child th {\n",
       "        text-align: right;\n",
       "    }\n",
       "\n",
       "    .dataframe thead th {\n",
       "        text-align: left;\n",
       "    }\n",
       "\n",
       "    .dataframe tbody tr th {\n",
       "        vertical-align: top;\n",
       "    }\n",
       "</style>\n",
       "<table border=\"1\" class=\"dataframe\">\n",
       "  <thead>\n",
       "    <tr style=\"text-align: right;\">\n",
       "      <th></th>\n",
       "      <th>T1</th>\n",
       "      <th>T2</th>\n",
       "      <th>T3</th>\n",
       "      <th>T4</th>\n",
       "      <th>T5</th>\n",
       "      <th>T6</th>\n",
       "      <th>T7</th>\n",
       "      <th>T8</th>\n",
       "      <th>T9</th>\n",
       "      <th>T10</th>\n",
       "    </tr>\n",
       "  </thead>\n",
       "  <tbody>\n",
       "    <tr>\n",
       "      <th>0</th>\n",
       "      <td>0.025000</td>\n",
       "      <td>0.025</td>\n",
       "      <td>0.025000</td>\n",
       "      <td>0.025</td>\n",
       "      <td>0.025</td>\n",
       "      <td>0.025</td>\n",
       "      <td>0.025000</td>\n",
       "      <td>0.025</td>\n",
       "      <td>0.025000</td>\n",
       "      <td>0.775000</td>\n",
       "    </tr>\n",
       "    <tr>\n",
       "      <th>1</th>\n",
       "      <td>0.020011</td>\n",
       "      <td>0.020</td>\n",
       "      <td>0.020002</td>\n",
       "      <td>0.020</td>\n",
       "      <td>0.020</td>\n",
       "      <td>0.020</td>\n",
       "      <td>0.265353</td>\n",
       "      <td>0.020</td>\n",
       "      <td>0.020004</td>\n",
       "      <td>0.574629</td>\n",
       "    </tr>\n",
       "    <tr>\n",
       "      <th>2</th>\n",
       "      <td>0.100000</td>\n",
       "      <td>0.100</td>\n",
       "      <td>0.100000</td>\n",
       "      <td>0.100</td>\n",
       "      <td>0.100</td>\n",
       "      <td>0.100</td>\n",
       "      <td>0.100000</td>\n",
       "      <td>0.100</td>\n",
       "      <td>0.100000</td>\n",
       "      <td>0.100000</td>\n",
       "    </tr>\n",
       "    <tr>\n",
       "      <th>3</th>\n",
       "      <td>0.100000</td>\n",
       "      <td>0.100</td>\n",
       "      <td>0.100000</td>\n",
       "      <td>0.100</td>\n",
       "      <td>0.100</td>\n",
       "      <td>0.100</td>\n",
       "      <td>0.100000</td>\n",
       "      <td>0.100</td>\n",
       "      <td>0.100000</td>\n",
       "      <td>0.100000</td>\n",
       "    </tr>\n",
       "    <tr>\n",
       "      <th>4</th>\n",
       "      <td>0.100000</td>\n",
       "      <td>0.100</td>\n",
       "      <td>0.100000</td>\n",
       "      <td>0.100</td>\n",
       "      <td>0.100</td>\n",
       "      <td>0.100</td>\n",
       "      <td>0.100000</td>\n",
       "      <td>0.100</td>\n",
       "      <td>0.100000</td>\n",
       "      <td>0.100000</td>\n",
       "    </tr>\n",
       "  </tbody>\n",
       "</table>\n",
       "</div>"
      ],
      "text/plain": [
       "         T1     T2        T3     T4     T5     T6        T7     T8        T9  \\\n",
       "0  0.025000  0.025  0.025000  0.025  0.025  0.025  0.025000  0.025  0.025000   \n",
       "1  0.020011  0.020  0.020002  0.020  0.020  0.020  0.265353  0.020  0.020004   \n",
       "2  0.100000  0.100  0.100000  0.100  0.100  0.100  0.100000  0.100  0.100000   \n",
       "3  0.100000  0.100  0.100000  0.100  0.100  0.100  0.100000  0.100  0.100000   \n",
       "4  0.100000  0.100  0.100000  0.100  0.100  0.100  0.100000  0.100  0.100000   \n",
       "\n",
       "        T10  \n",
       "0  0.775000  \n",
       "1  0.574629  \n",
       "2  0.100000  \n",
       "3  0.100000  \n",
       "4  0.100000  "
      ]
     },
     "execution_count": 176,
     "metadata": {},
     "output_type": "execute_result"
    }
   ],
   "source": [
    "features[:5]"
   ]
  },
  {
   "cell_type": "code",
   "execution_count": 171,
   "metadata": {},
   "outputs": [
    {
     "name": "stdout",
     "output_type": "stream",
     "text": [
      "CPU times: user 178 ms, sys: 13.9 ms, total: 192 ms\n",
      "Wall time: 186 ms\n"
     ]
    },
    {
     "data": {
      "text/plain": [
       "array([[ 0.72015675,  0.99648933,  1.00146708, ...,  0.92343361,\n",
       "         0.91835057,  0.9573937 ],\n",
       "       [ 0.5604219 ,  0.89328248,  0.89550313, ...,  0.80595549,\n",
       "         0.80235041,  0.84810172],\n",
       "       [ 0.02984682,  0.61957949,  0.6311005 , ...,  0.50408285,\n",
       "         0.48486424,  0.55262243],\n",
       "       ..., \n",
       "       [ 0.73311318,  1.01944931,  1.02286552, ...,  0.93992854,\n",
       "         0.9249662 ,  0.95885264],\n",
       "       [ 0.72533017,  0.97232385,  1.01826739, ...,  0.23554938,\n",
       "         0.93933672,  0.97528086],\n",
       "       [ 0.7828694 ,  1.00514147,  0.16209411, ...,  0.9555793 ,\n",
       "         0.90575711,  0.98729231]])"
      ]
     },
     "execution_count": 171,
     "metadata": {},
     "output_type": "execute_result"
    }
   ],
   "source": [
    "%time km.fit_transform(features)"
   ]
  },
  {
   "cell_type": "code",
   "execution_count": 172,
   "metadata": {
    "collapsed": true
   },
   "outputs": [],
   "source": [
    "cluster_labels = km.labels_"
   ]
  },
  {
   "cell_type": "code",
   "execution_count": 173,
   "metadata": {
    "collapsed": true
   },
   "outputs": [],
   "source": [
    "cluster_labels = pd.DataFrame(cluster_labels, columns=['ClusterLabel'])"
   ]
  },
  {
   "cell_type": "code",
   "execution_count": 194,
   "metadata": {},
   "outputs": [
    {
     "data": {
      "text/html": [
       "<div>\n",
       "<style>\n",
       "    .dataframe thead tr:only-child th {\n",
       "        text-align: right;\n",
       "    }\n",
       "\n",
       "    .dataframe thead th {\n",
       "        text-align: left;\n",
       "    }\n",
       "\n",
       "    .dataframe tbody tr th {\n",
       "        vertical-align: top;\n",
       "    }\n",
       "</style>\n",
       "<table border=\"1\" class=\"dataframe\">\n",
       "  <thead>\n",
       "    <tr style=\"text-align: right;\">\n",
       "      <th></th>\n",
       "      <th>ClusterLabel</th>\n",
       "    </tr>\n",
       "  </thead>\n",
       "  <tbody>\n",
       "    <tr>\n",
       "      <th>0</th>\n",
       "      <td>6</td>\n",
       "    </tr>\n",
       "    <tr>\n",
       "      <th>1</th>\n",
       "      <td>6</td>\n",
       "    </tr>\n",
       "    <tr>\n",
       "      <th>2</th>\n",
       "      <td>0</td>\n",
       "    </tr>\n",
       "    <tr>\n",
       "      <th>3</th>\n",
       "      <td>0</td>\n",
       "    </tr>\n",
       "    <tr>\n",
       "      <th>4</th>\n",
       "      <td>0</td>\n",
       "    </tr>\n",
       "  </tbody>\n",
       "</table>\n",
       "</div>"
      ],
      "text/plain": [
       "   ClusterLabel\n",
       "0             6\n",
       "1             6\n",
       "2             0\n",
       "3             0\n",
       "4             0"
      ]
     },
     "execution_count": 194,
     "metadata": {},
     "output_type": "execute_result"
    }
   ],
   "source": [
    "cluster_labels[:5]"
   ]
  },
  {
   "cell_type": "code",
   "execution_count": 182,
   "metadata": {},
   "outputs": [],
   "source": [
    "ldaframe = pd.DataFrame({ 'title': ASINs, 'rank': Ranks, 'review': Reviews,'category': Category })"
   ]
  },
  {
   "cell_type": "code",
   "execution_count": 183,
   "metadata": {
    "collapsed": true
   },
   "outputs": [],
   "source": [
    "ldaframe = ldaframe[['title','rank','category','review']]"
   ]
  },
  {
   "cell_type": "code",
   "execution_count": 206,
   "metadata": {},
   "outputs": [],
   "source": [
    "ldaClusterframe = pd.concat([ldaframe, cluster_labels], axis=1)"
   ]
  },
  {
   "cell_type": "code",
   "execution_count": 207,
   "metadata": {},
   "outputs": [
    {
     "data": {
      "text/html": [
       "<div>\n",
       "<style>\n",
       "    .dataframe thead tr:only-child th {\n",
       "        text-align: right;\n",
       "    }\n",
       "\n",
       "    .dataframe thead th {\n",
       "        text-align: left;\n",
       "    }\n",
       "\n",
       "    .dataframe tbody tr th {\n",
       "        vertical-align: top;\n",
       "    }\n",
       "</style>\n",
       "<table border=\"1\" class=\"dataframe\">\n",
       "  <thead>\n",
       "    <tr style=\"text-align: right;\">\n",
       "      <th></th>\n",
       "      <th>title</th>\n",
       "      <th>rank</th>\n",
       "      <th>category</th>\n",
       "      <th>review</th>\n",
       "      <th>ClusterLabel</th>\n",
       "    </tr>\n",
       "  </thead>\n",
       "  <tbody>\n",
       "    <tr>\n",
       "      <th>0</th>\n",
       "      <td>\"B06WWD7SMQ_1</td>\n",
       "      <td>5.0</td>\n",
       "      <td>1</td>\n",
       "      <td>头可动，模型也很逼真</td>\n",
       "      <td>6</td>\n",
       "    </tr>\n",
       "    <tr>\n",
       "      <th>1</th>\n",
       "      <td>B06WWD7SMQ_2</td>\n",
       "      <td>5.0</td>\n",
       "      <td>1</td>\n",
       "      <td>商品到达得很快，很不错~</td>\n",
       "      <td>6</td>\n",
       "    </tr>\n",
       "    <tr>\n",
       "      <th>2</th>\n",
       "      <td>B06WWD7SMQ_3</td>\n",
       "      <td>0.0</td>\n",
       "      <td>1</td>\n",
       "      <td></td>\n",
       "      <td>0</td>\n",
       "    </tr>\n",
       "    <tr>\n",
       "      <th>3</th>\n",
       "      <td>B06WWD7SMQ_4</td>\n",
       "      <td>0.0</td>\n",
       "      <td>1</td>\n",
       "      <td></td>\n",
       "      <td>0</td>\n",
       "    </tr>\n",
       "    <tr>\n",
       "      <th>4</th>\n",
       "      <td>B06WWD7SMQ_5</td>\n",
       "      <td>0.0</td>\n",
       "      <td>1</td>\n",
       "      <td></td>\n",
       "      <td>0</td>\n",
       "    </tr>\n",
       "  </tbody>\n",
       "</table>\n",
       "</div>"
      ],
      "text/plain": [
       "           title  rank category        review  ClusterLabel\n",
       "0  \"B06WWD7SMQ_1   5.0        1    头可动，模型也很逼真             6\n",
       "1   B06WWD7SMQ_2   5.0        1  商品到达得很快，很不错~             6\n",
       "2   B06WWD7SMQ_3   0.0        1                           0\n",
       "3   B06WWD7SMQ_4   0.0        1                           0\n",
       "4   B06WWD7SMQ_5   0.0        1                           0"
      ]
     },
     "execution_count": 207,
     "metadata": {},
     "output_type": "execute_result"
    }
   ],
   "source": [
    "ldaClusterframe[:5]"
   ]
  },
  {
   "cell_type": "code",
   "execution_count": 208,
   "metadata": {},
   "outputs": [
    {
     "data": {
      "text/plain": [
       "0    2617\n",
       "2    1061\n",
       "3     539\n",
       "1     441\n",
       "4     352\n",
       "5     344\n",
       "6     308\n",
       "7     235\n",
       "8     206\n",
       "9     187\n",
       "Name: ClusterLabel, dtype: int64"
      ]
     },
     "execution_count": 208,
     "metadata": {},
     "output_type": "execute_result"
    }
   ],
   "source": [
    "ldaClusterframe['ClusterLabel'].value_counts()"
   ]
  },
  {
   "cell_type": "code",
   "execution_count": 209,
   "metadata": {},
   "outputs": [
    {
     "data": {
      "text/plain": [
       "ClusterLabel\n",
       "0    0.639282\n",
       "1    4.360544\n",
       "2    4.634307\n",
       "3    4.688312\n",
       "4    4.585227\n",
       "5    4.148256\n",
       "6    4.074675\n",
       "7    4.255319\n",
       "8    4.233010\n",
       "9    4.005348\n",
       "Name: rank, dtype: float64"
      ]
     },
     "execution_count": 209,
     "metadata": {},
     "output_type": "execute_result"
    }
   ],
   "source": [
    "Rankgrouped = ldaClusterframe['rank'].groupby(ldaClusterframe['ClusterLabel']) # 为了凝聚（aggregation），由聚类分类。\n",
    " \n",
    "Rankgrouped.mean() # 每个聚类的平均排名（0 到 5）"
   ]
  },
  {
   "cell_type": "code",
   "execution_count": 210,
   "metadata": {},
   "outputs": [
    {
     "data": {
      "text/html": [
       "<div>\n",
       "<style>\n",
       "    .dataframe thead tr:only-child th {\n",
       "        text-align: right;\n",
       "    }\n",
       "\n",
       "    .dataframe thead th {\n",
       "        text-align: left;\n",
       "    }\n",
       "\n",
       "    .dataframe tbody tr th {\n",
       "        vertical-align: top;\n",
       "    }\n",
       "</style>\n",
       "<table border=\"1\" class=\"dataframe\">\n",
       "  <thead>\n",
       "    <tr style=\"text-align: right;\">\n",
       "      <th></th>\n",
       "      <th>title</th>\n",
       "      <th>rank</th>\n",
       "      <th>category</th>\n",
       "      <th>review</th>\n",
       "      <th>ClusterLabel</th>\n",
       "    </tr>\n",
       "  </thead>\n",
       "  <tbody>\n",
       "    <tr>\n",
       "      <th>3771</th>\n",
       "      <td>B00P8O2ED4_2</td>\n",
       "      <td>0.0</td>\n",
       "      <td>7</td>\n",
       "      <td></td>\n",
       "      <td>0</td>\n",
       "    </tr>\n",
       "    <tr>\n",
       "      <th>2044</th>\n",
       "      <td>B01DU5M5T0_5</td>\n",
       "      <td>0.0</td>\n",
       "      <td>4</td>\n",
       "      <td></td>\n",
       "      <td>0</td>\n",
       "    </tr>\n",
       "    <tr>\n",
       "      <th>2045</th>\n",
       "      <td>B01DU5M5T0_6</td>\n",
       "      <td>0.0</td>\n",
       "      <td>4</td>\n",
       "      <td></td>\n",
       "      <td>0</td>\n",
       "    </tr>\n",
       "    <tr>\n",
       "      <th>2046</th>\n",
       "      <td>B01DU5M5T0_7</td>\n",
       "      <td>0.0</td>\n",
       "      <td>4</td>\n",
       "      <td></td>\n",
       "      <td>0</td>\n",
       "    </tr>\n",
       "    <tr>\n",
       "      <th>2047</th>\n",
       "      <td>B01DU5M5T0_8</td>\n",
       "      <td>0.0</td>\n",
       "      <td>4</td>\n",
       "      <td></td>\n",
       "      <td>0</td>\n",
       "    </tr>\n",
       "    <tr>\n",
       "      <th>2048</th>\n",
       "      <td>B01DU5M5T0_9</td>\n",
       "      <td>0.0</td>\n",
       "      <td>4</td>\n",
       "      <td></td>\n",
       "      <td>0</td>\n",
       "    </tr>\n",
       "    <tr>\n",
       "      <th>2049</th>\n",
       "      <td>B01DU5M5T0_10\"</td>\n",
       "      <td>0.0</td>\n",
       "      <td>4</td>\n",
       "      <td></td>\n",
       "      <td>0</td>\n",
       "    </tr>\n",
       "    <tr>\n",
       "      <th>2051</th>\n",
       "      <td>B072PTTM41_2</td>\n",
       "      <td>0.0</td>\n",
       "      <td>4</td>\n",
       "      <td></td>\n",
       "      <td>0</td>\n",
       "    </tr>\n",
       "    <tr>\n",
       "      <th>2052</th>\n",
       "      <td>B072PTTM41_3</td>\n",
       "      <td>0.0</td>\n",
       "      <td>4</td>\n",
       "      <td></td>\n",
       "      <td>0</td>\n",
       "    </tr>\n",
       "    <tr>\n",
       "      <th>2043</th>\n",
       "      <td>B01DU5M5T0_4</td>\n",
       "      <td>0.0</td>\n",
       "      <td>4</td>\n",
       "      <td></td>\n",
       "      <td>0</td>\n",
       "    </tr>\n",
       "  </tbody>\n",
       "</table>\n",
       "</div>"
      ],
      "text/plain": [
       "               title  rank category review  ClusterLabel\n",
       "3771    B00P8O2ED4_2   0.0        7                    0\n",
       "2044    B01DU5M5T0_5   0.0        4                    0\n",
       "2045    B01DU5M5T0_6   0.0        4                    0\n",
       "2046    B01DU5M5T0_7   0.0        4                    0\n",
       "2047    B01DU5M5T0_8   0.0        4                    0\n",
       "2048    B01DU5M5T0_9   0.0        4                    0\n",
       "2049  B01DU5M5T0_10\"   0.0        4                    0\n",
       "2051    B072PTTM41_2   0.0        4                    0\n",
       "2052    B072PTTM41_3   0.0        4                    0\n",
       "2043    B01DU5M5T0_4   0.0        4                    0"
      ]
     },
     "execution_count": 210,
     "metadata": {},
     "output_type": "execute_result"
    }
   ],
   "source": [
    "#排序\n",
    "ldaClusterframe.sort_values(by = 'ClusterLabel')[:10]"
   ]
  },
  {
   "cell_type": "code",
   "execution_count": 214,
   "metadata": {},
   "outputs": [
    {
     "data": {
      "text/html": [
       "<div>\n",
       "<style>\n",
       "    .dataframe thead tr:only-child th {\n",
       "        text-align: right;\n",
       "    }\n",
       "\n",
       "    .dataframe thead th {\n",
       "        text-align: left;\n",
       "    }\n",
       "\n",
       "    .dataframe tbody tr th {\n",
       "        vertical-align: top;\n",
       "    }\n",
       "</style>\n",
       "<table border=\"1\" class=\"dataframe\">\n",
       "  <thead>\n",
       "    <tr style=\"text-align: right;\">\n",
       "      <th></th>\n",
       "      <th>title</th>\n",
       "      <th>rank</th>\n",
       "      <th>category</th>\n",
       "      <th>review</th>\n",
       "      <th>ClusterLabel</th>\n",
       "    </tr>\n",
       "  </thead>\n",
       "  <tbody>\n",
       "    <tr>\n",
       "      <th>0</th>\n",
       "      <td>\"B06WWD7SMQ_1</td>\n",
       "      <td>5.0</td>\n",
       "      <td>1</td>\n",
       "      <td>头可动，模型也很逼真</td>\n",
       "      <td>6</td>\n",
       "    </tr>\n",
       "    <tr>\n",
       "      <th>1</th>\n",
       "      <td>B06WWD7SMQ_2</td>\n",
       "      <td>5.0</td>\n",
       "      <td>1</td>\n",
       "      <td>商品到达得很快，很不错~</td>\n",
       "      <td>6</td>\n",
       "    </tr>\n",
       "    <tr>\n",
       "      <th>20</th>\n",
       "      <td>\"B00A30ZA34_1</td>\n",
       "      <td>4.0</td>\n",
       "      <td>1</td>\n",
       "      <td>比较小，容组装，感觉还好吗</td>\n",
       "      <td>6</td>\n",
       "    </tr>\n",
       "    <tr>\n",
       "      <th>53</th>\n",
       "      <td>B0063DEIQK_4</td>\n",
       "      <td>4.0</td>\n",
       "      <td>1</td>\n",
       "      <td>夹子内侧像橡皮的固定物时间长了就挤成渣了</td>\n",
       "      <td>6</td>\n",
       "    </tr>\n",
       "    <tr>\n",
       "      <th>64</th>\n",
       "      <td>B01MZALP0W_5</td>\n",
       "      <td>3.0</td>\n",
       "      <td>1</td>\n",
       "      <td>做工还行，但好几个都站不住，娃娃玩了一次就不想再玩了</td>\n",
       "      <td>6</td>\n",
       "    </tr>\n",
       "    <tr>\n",
       "      <th>70</th>\n",
       "      <td>\"B06XHJ1JRT_1</td>\n",
       "      <td>5.0</td>\n",
       "      <td>1</td>\n",
       "      <td>形象还原得不错，站得也挺稳。</td>\n",
       "      <td>6</td>\n",
       "    </tr>\n",
       "    <tr>\n",
       "      <th>150</th>\n",
       "      <td>\"B0194WFWCK_1</td>\n",
       "      <td>5.0</td>\n",
       "      <td>1</td>\n",
       "      <td>孩子送给同学的生日礼物，由于时间急，和卖家联系，卖家想用户所需，立即改发顺丰，第二天就收到了...</td>\n",
       "      <td>6</td>\n",
       "    </tr>\n",
       "    <tr>\n",
       "      <th>151</th>\n",
       "      <td>B0194WFWCK_2</td>\n",
       "      <td>4.0</td>\n",
       "      <td>1</td>\n",
       "      <td>人物做的比较像，很逼真，细节不错，关节要是能活动就更好了</td>\n",
       "      <td>6</td>\n",
       "    </tr>\n",
       "    <tr>\n",
       "      <th>154</th>\n",
       "      <td>B0194WFWCK_5</td>\n",
       "      <td>5.0</td>\n",
       "      <td>1</td>\n",
       "      <td>给小侄女买的圣诞节礼物，做工精致，脸部逼真，没有那种假娃娃连我的感觉</td>\n",
       "      <td>6</td>\n",
       "    </tr>\n",
       "    <tr>\n",
       "      <th>161</th>\n",
       "      <td>B073FYF9S2_2</td>\n",
       "      <td>5.0</td>\n",
       "      <td>1</td>\n",
       "      <td>感觉买贵了，出了贵，没毛病。好用，相信亚马逊。</td>\n",
       "      <td>6</td>\n",
       "    </tr>\n",
       "    <tr>\n",
       "      <th>165</th>\n",
       "      <td>B073FYF9S2_6</td>\n",
       "      <td>5.0</td>\n",
       "      <td>1</td>\n",
       "      <td>娃娃太小了，感觉有点失望</td>\n",
       "      <td>6</td>\n",
       "    </tr>\n",
       "    <tr>\n",
       "      <th>213</th>\n",
       "      <td>B06Y2ZK8VY_4</td>\n",
       "      <td>4.0</td>\n",
       "      <td>1</td>\n",
       "      <td>到手完了几次就有白痕，看来孩之宝用料有一次刷新了下限，感觉不如探长</td>\n",
       "      <td>6</td>\n",
       "    </tr>\n",
       "    <tr>\n",
       "      <th>216</th>\n",
       "      <td>B06Y2ZK8VY_7</td>\n",
       "      <td>5.0</td>\n",
       "      <td>1</td>\n",
       "      <td>设计很好很不错。比以往的好多了。玩起来变形顺畅</td>\n",
       "      <td>6</td>\n",
       "    </tr>\n",
       "    <tr>\n",
       "      <th>218</th>\n",
       "      <td>B06Y2ZK8VY_9</td>\n",
       "      <td>4.0</td>\n",
       "      <td>1</td>\n",
       "      <td>有说明书就更好了！质量可以</td>\n",
       "      <td>6</td>\n",
       "    </tr>\n",
       "    <tr>\n",
       "      <th>231</th>\n",
       "      <td>B073FWCJQV_2</td>\n",
       "      <td>5.0</td>\n",
       "      <td>1</td>\n",
       "      <td>感觉买贵了，出了贵，没毛病。好用，相信亚马逊。</td>\n",
       "      <td>6</td>\n",
       "    </tr>\n",
       "    <tr>\n",
       "      <th>235</th>\n",
       "      <td>B073FWCJQV_6</td>\n",
       "      <td>5.0</td>\n",
       "      <td>1</td>\n",
       "      <td>娃娃太小了，感觉有点失望</td>\n",
       "      <td>6</td>\n",
       "    </tr>\n",
       "    <tr>\n",
       "      <th>253</th>\n",
       "      <td>B01N0X3R9Y_4</td>\n",
       "      <td>4.0</td>\n",
       "      <td>1</td>\n",
       "      <td>到手完了几次就有白痕，看来孩之宝用料有一次刷新了下限，感觉不如探长</td>\n",
       "      <td>6</td>\n",
       "    </tr>\n",
       "    <tr>\n",
       "      <th>256</th>\n",
       "      <td>B01N0X3R9Y_7</td>\n",
       "      <td>5.0</td>\n",
       "      <td>1</td>\n",
       "      <td>设计很好很不错。比以往的好多了。玩起来变形顺畅</td>\n",
       "      <td>6</td>\n",
       "    </tr>\n",
       "    <tr>\n",
       "      <th>258</th>\n",
       "      <td>B01N0X3R9Y_9</td>\n",
       "      <td>4.0</td>\n",
       "      <td>1</td>\n",
       "      <td>有说明书就更好了！质量可以</td>\n",
       "      <td>6</td>\n",
       "    </tr>\n",
       "    <tr>\n",
       "      <th>274</th>\n",
       "      <td>B01N34QXLH_5</td>\n",
       "      <td>3.0</td>\n",
       "      <td>1</td>\n",
       "      <td>做工还行，但好几个都站不住，娃娃玩了一次就不想再玩了</td>\n",
       "      <td>6</td>\n",
       "    </tr>\n",
       "    <tr>\n",
       "      <th>356</th>\n",
       "      <td>B01GGYZHTC_7</td>\n",
       "      <td>5.0</td>\n",
       "      <td>1</td>\n",
       "      <td>做工精致，可以活动的关节很多，变形过程相应比较复杂，配有说明书，多变几次熟悉了也很快。儿子爱...</td>\n",
       "      <td>6</td>\n",
       "    </tr>\n",
       "    <tr>\n",
       "      <th>387</th>\n",
       "      <td>B01N2XLPXS_8</td>\n",
       "      <td>5.0</td>\n",
       "      <td>1</td>\n",
       "      <td>关节比较松垮，用料不如以前</td>\n",
       "      <td>6</td>\n",
       "    </tr>\n",
       "    <tr>\n",
       "      <th>389</th>\n",
       "      <td>B01N2XLPXS_10\"</td>\n",
       "      <td>4.0</td>\n",
       "      <td>1</td>\n",
       "      <td>变形金刚很好，但是没有说明书，这怎么变？</td>\n",
       "      <td>6</td>\n",
       "    </tr>\n",
       "    <tr>\n",
       "      <th>391</th>\n",
       "      <td>B00PESY1T4_2</td>\n",
       "      <td>4.0</td>\n",
       "      <td>1</td>\n",
       "      <td>东西不错，河马很丑。但为什么买了一次后，好多可享prime的思乐都取消prime免邮了？不至...</td>\n",
       "      <td>6</td>\n",
       "    </tr>\n",
       "    <tr>\n",
       "      <th>392</th>\n",
       "      <td>B00PESY1T4_3</td>\n",
       "      <td>5.0</td>\n",
       "      <td>1</td>\n",
       "      <td>思乐的模型很逼真，女儿很喜欢，买了10多个了，这个体积属于较大的。</td>\n",
       "      <td>6</td>\n",
       "    </tr>\n",
       "    <tr>\n",
       "      <th>411</th>\n",
       "      <td>B01JHY42IU_2</td>\n",
       "      <td>4.0</td>\n",
       "      <td>1</td>\n",
       "      <td>很喜欢的动物手办啊，西逼真</td>\n",
       "      <td>6</td>\n",
       "    </tr>\n",
       "    <tr>\n",
       "      <th>484</th>\n",
       "      <td>B0713RPXF3_5</td>\n",
       "      <td>3.0</td>\n",
       "      <td>1</td>\n",
       "      <td>做工还行，但好几个都站不住，娃娃玩了一次就不想再玩了</td>\n",
       "      <td>6</td>\n",
       "    </tr>\n",
       "    <tr>\n",
       "      <th>524</th>\n",
       "      <td>B01N34QVF6_5</td>\n",
       "      <td>3.0</td>\n",
       "      <td>1</td>\n",
       "      <td>做工还行，但好几个都站不住，娃娃玩了一次就不想再玩了</td>\n",
       "      <td>6</td>\n",
       "    </tr>\n",
       "    <tr>\n",
       "      <th>533</th>\n",
       "      <td>B01MS3MSWM_4</td>\n",
       "      <td>4.0</td>\n",
       "      <td>1</td>\n",
       "      <td>到手完了几次就有白痕，看来孩之宝用料有一次刷新了下限，感觉不如探长</td>\n",
       "      <td>6</td>\n",
       "    </tr>\n",
       "    <tr>\n",
       "      <th>536</th>\n",
       "      <td>B01MS3MSWM_7</td>\n",
       "      <td>5.0</td>\n",
       "      <td>1</td>\n",
       "      <td>设计很好很不错。比以往的好多了。玩起来变形顺畅</td>\n",
       "      <td>6</td>\n",
       "    </tr>\n",
       "    <tr>\n",
       "      <th>...</th>\n",
       "      <td>...</td>\n",
       "      <td>...</td>\n",
       "      <td>...</td>\n",
       "      <td>...</td>\n",
       "      <td>...</td>\n",
       "    </tr>\n",
       "    <tr>\n",
       "      <th>1278</th>\n",
       "      <td>B002NZJ4MU_9</td>\n",
       "      <td>2.0</td>\n",
       "      <td>2</td>\n",
       "      <td>感觉ok就是进口税贵了点，</td>\n",
       "      <td>6</td>\n",
       "    </tr>\n",
       "    <tr>\n",
       "      <th>1294</th>\n",
       "      <td>B00ZWTU6O4_5</td>\n",
       "      <td>5.0</td>\n",
       "      <td>2</td>\n",
       "      <td>据说可以清洗，还没试！娃娃就画画玩儿的</td>\n",
       "      <td>6</td>\n",
       "    </tr>\n",
       "    <tr>\n",
       "      <th>1302</th>\n",
       "      <td>B000LEG3SI_3</td>\n",
       "      <td>5.0</td>\n",
       "      <td>2</td>\n",
       "      <td>这个围兜特别好用，感觉能用很久，容易清洗且不会显得旧</td>\n",
       "      <td>6</td>\n",
       "    </tr>\n",
       "    <tr>\n",
       "      <th>1310</th>\n",
       "      <td>\"B00B16U4Z8_1</td>\n",
       "      <td>4.0</td>\n",
       "      <td>2</td>\n",
       "      <td>很好的想法，对口欲期的宝宝也有保护作用，但是画了很快就干了</td>\n",
       "      <td>6</td>\n",
       "    </tr>\n",
       "    <tr>\n",
       "      <th>1324</th>\n",
       "      <td>B01G3A9A0G_5</td>\n",
       "      <td>5.0</td>\n",
       "      <td>2</td>\n",
       "      <td>既锋利又安全，女儿很容易就上手，很快就轻松学会剪纸了。而且不用担心伤到手。</td>\n",
       "      <td>6</td>\n",
       "    </tr>\n",
       "    <tr>\n",
       "      <th>1358</th>\n",
       "      <td>B002PNV6YE_9</td>\n",
       "      <td>2.0</td>\n",
       "      <td>2</td>\n",
       "      <td>感觉ok就是进口税贵了点，</td>\n",
       "      <td>6</td>\n",
       "    </tr>\n",
       "    <tr>\n",
       "      <th>1382</th>\n",
       "      <td>B00B9MU1DE_3</td>\n",
       "      <td>2.0</td>\n",
       "      <td>3</td>\n",
       "      <td>非常非常小......还没有一个食指长。还以为是精致的模型，结果....</td>\n",
       "      <td>6</td>\n",
       "    </tr>\n",
       "    <tr>\n",
       "      <th>1386</th>\n",
       "      <td>B00B9MU1DE_7</td>\n",
       "      <td>5.0</td>\n",
       "      <td>3</td>\n",
       "      <td>小而精致，性价高，派好</td>\n",
       "      <td>6</td>\n",
       "    </tr>\n",
       "    <tr>\n",
       "      <th>1410</th>\n",
       "      <td>\"B073WNQGC7_1</td>\n",
       "      <td>5.0</td>\n",
       "      <td>3</td>\n",
       "      <td>不用十天时间就到了，这车好大，我都喜欢，比校车要好</td>\n",
       "      <td>6</td>\n",
       "    </tr>\n",
       "    <tr>\n",
       "      <th>1486</th>\n",
       "      <td>B01M9AL8QZ_7</td>\n",
       "      <td>5.0</td>\n",
       "      <td>3</td>\n",
       "      <td>小火车很小，很精致。</td>\n",
       "      <td>6</td>\n",
       "    </tr>\n",
       "    <tr>\n",
       "      <th>1488</th>\n",
       "      <td>B01M9AL8QZ_9</td>\n",
       "      <td>5.0</td>\n",
       "      <td>3</td>\n",
       "      <td>火车虽小 用料扎实还是挺沉手的</td>\n",
       "      <td>6</td>\n",
       "    </tr>\n",
       "    <tr>\n",
       "      <th>1492</th>\n",
       "      <td>B00B5951YU_3</td>\n",
       "      <td>3.0</td>\n",
       "      <td>3</td>\n",
       "      <td>拿到手的时候贴纸都已经贴好了，包装也不是很好，感觉是别人退换货的，不过小朋友喜欢就收下了，希...</td>\n",
       "      <td>6</td>\n",
       "    </tr>\n",
       "    <tr>\n",
       "      <th>1514</th>\n",
       "      <td>B00JFP2ILU_5</td>\n",
       "      <td>3.0</td>\n",
       "      <td>3</td>\n",
       "      <td>不知道为什么，我家宝宝很害怕这个玩具啊看到就哭要我抱，连它的发动剩都不想听见</td>\n",
       "      <td>6</td>\n",
       "    </tr>\n",
       "    <tr>\n",
       "      <th>1517</th>\n",
       "      <td>B00JFP2ILU_8</td>\n",
       "      <td>5.0</td>\n",
       "      <td>3</td>\n",
       "      <td>声音挺逼真的，但贴上的标志不好，已经掉了</td>\n",
       "      <td>6</td>\n",
       "    </tr>\n",
       "    <tr>\n",
       "      <th>1534</th>\n",
       "      <td>B0191JFHNA_5</td>\n",
       "      <td>2.0</td>\n",
       "      <td>3</td>\n",
       "      <td>没有说明书..轨道做工很粗糙..很失望..如果不是亚马逊直营真怀疑是山寨的</td>\n",
       "      <td>6</td>\n",
       "    </tr>\n",
       "    <tr>\n",
       "      <th>1561</th>\n",
       "      <td>B01M8FQH7W_2</td>\n",
       "      <td>4.0</td>\n",
       "      <td>3</td>\n",
       "      <td>泰国制造的，做工用料倒是不错的，硬伤是太小太小了…… 性价比不高。</td>\n",
       "      <td>6</td>\n",
       "    </tr>\n",
       "    <tr>\n",
       "      <th>1567</th>\n",
       "      <td>B01M8FQH7W_8</td>\n",
       "      <td>1.0</td>\n",
       "      <td>3</td>\n",
       "      <td>那么小的火车那么贵。简直了。</td>\n",
       "      <td>6</td>\n",
       "    </tr>\n",
       "    <tr>\n",
       "      <th>1576</th>\n",
       "      <td>B01M4IPTZQ_7</td>\n",
       "      <td>5.0</td>\n",
       "      <td>3</td>\n",
       "      <td>小火车很小，很精致。</td>\n",
       "      <td>6</td>\n",
       "    </tr>\n",
       "    <tr>\n",
       "      <th>1578</th>\n",
       "      <td>B01M4IPTZQ_9</td>\n",
       "      <td>5.0</td>\n",
       "      <td>3</td>\n",
       "      <td>火车虽小 用料扎实还是挺沉手的</td>\n",
       "      <td>6</td>\n",
       "    </tr>\n",
       "    <tr>\n",
       "      <th>1614</th>\n",
       "      <td>B0191JFMO4_5</td>\n",
       "      <td>2.0</td>\n",
       "      <td>3</td>\n",
       "      <td>没有说明书..轨道做工很粗糙..很失望..如果不是亚马逊直营真怀疑是山寨的</td>\n",
       "      <td>6</td>\n",
       "    </tr>\n",
       "    <tr>\n",
       "      <th>1622</th>\n",
       "      <td>B0191JFMTO_3</td>\n",
       "      <td>3.0</td>\n",
       "      <td>3</td>\n",
       "      <td>拿到手的时候贴纸都已经贴好了，包装也不是很好，感觉是别人退换货的，不过小朋友喜欢就收下了，希...</td>\n",
       "      <td>6</td>\n",
       "    </tr>\n",
       "    <tr>\n",
       "      <th>1694</th>\n",
       "      <td>B00CBT01PC_5</td>\n",
       "      <td>2.0</td>\n",
       "      <td>3</td>\n",
       "      <td>没有说明书..轨道做工很粗糙..很失望..如果不是亚马逊直营真怀疑是山寨的</td>\n",
       "      <td>6</td>\n",
       "    </tr>\n",
       "    <tr>\n",
       "      <th>1705</th>\n",
       "      <td>B018M0XDWG_6</td>\n",
       "      <td>4.0</td>\n",
       "      <td>3</td>\n",
       "      <td>还没拆封，从包装盒上看纸壳厚度不错，上面有一张中文标签，符合进口商品的标准！还没打开玩，不知...</td>\n",
       "      <td>6</td>\n",
       "    </tr>\n",
       "    <tr>\n",
       "      <th>1707</th>\n",
       "      <td>B018M0XDWG_8</td>\n",
       "      <td>5.0</td>\n",
       "      <td>3</td>\n",
       "      <td>种类多，很精致，尤其是跑起来速度很快</td>\n",
       "      <td>6</td>\n",
       "    </tr>\n",
       "    <tr>\n",
       "      <th>1720</th>\n",
       "      <td>\"B00Y1XXRK2_1</td>\n",
       "      <td>5.0</td>\n",
       "      <td>3</td>\n",
       "      <td>还比较符合我的想法，我崽还小不太会玩哈哈，等大点吧</td>\n",
       "      <td>6</td>\n",
       "    </tr>\n",
       "    <tr>\n",
       "      <th>1735</th>\n",
       "      <td>B00F25KD7S_6</td>\n",
       "      <td>5.0</td>\n",
       "      <td>3</td>\n",
       "      <td>四十几入手，感觉很棒，细节设计到位，估计宝宝大了会很喜欢</td>\n",
       "      <td>6</td>\n",
       "    </tr>\n",
       "    <tr>\n",
       "      <th>1739</th>\n",
       "      <td>B00F25KD7S_10\"</td>\n",
       "      <td>4.0</td>\n",
       "      <td>3</td>\n",
       "      <td>造型还不错，就是太小了</td>\n",
       "      <td>6</td>\n",
       "    </tr>\n",
       "    <tr>\n",
       "      <th>1756</th>\n",
       "      <td>B01M6WDH4L_7</td>\n",
       "      <td>5.0</td>\n",
       "      <td>3</td>\n",
       "      <td>小火车很小，很精致。</td>\n",
       "      <td>6</td>\n",
       "    </tr>\n",
       "    <tr>\n",
       "      <th>1758</th>\n",
       "      <td>B01M6WDH4L_9</td>\n",
       "      <td>5.0</td>\n",
       "      <td>3</td>\n",
       "      <td>火车虽小 用料扎实还是挺沉手的</td>\n",
       "      <td>6</td>\n",
       "    </tr>\n",
       "    <tr>\n",
       "      <th>1766</th>\n",
       "      <td>B01M8HPJM5_7</td>\n",
       "      <td>5.0</td>\n",
       "      <td>3</td>\n",
       "      <td>小火车很小，很精致。</td>\n",
       "      <td>6</td>\n",
       "    </tr>\n",
       "  </tbody>\n",
       "</table>\n",
       "<p>100 rows × 5 columns</p>\n",
       "</div>"
      ],
      "text/plain": [
       "               title  rank category  \\\n",
       "0      \"B06WWD7SMQ_1   5.0        1   \n",
       "1       B06WWD7SMQ_2   5.0        1   \n",
       "20     \"B00A30ZA34_1   4.0        1   \n",
       "53      B0063DEIQK_4   4.0        1   \n",
       "64      B01MZALP0W_5   3.0        1   \n",
       "70     \"B06XHJ1JRT_1   5.0        1   \n",
       "150    \"B0194WFWCK_1   5.0        1   \n",
       "151     B0194WFWCK_2   4.0        1   \n",
       "154     B0194WFWCK_5   5.0        1   \n",
       "161     B073FYF9S2_2   5.0        1   \n",
       "165     B073FYF9S2_6   5.0        1   \n",
       "213     B06Y2ZK8VY_4   4.0        1   \n",
       "216     B06Y2ZK8VY_7   5.0        1   \n",
       "218     B06Y2ZK8VY_9   4.0        1   \n",
       "231     B073FWCJQV_2   5.0        1   \n",
       "235     B073FWCJQV_6   5.0        1   \n",
       "253     B01N0X3R9Y_4   4.0        1   \n",
       "256     B01N0X3R9Y_7   5.0        1   \n",
       "258     B01N0X3R9Y_9   4.0        1   \n",
       "274     B01N34QXLH_5   3.0        1   \n",
       "356     B01GGYZHTC_7   5.0        1   \n",
       "387     B01N2XLPXS_8   5.0        1   \n",
       "389   B01N2XLPXS_10\"   4.0        1   \n",
       "391     B00PESY1T4_2   4.0        1   \n",
       "392     B00PESY1T4_3   5.0        1   \n",
       "411     B01JHY42IU_2   4.0        1   \n",
       "484     B0713RPXF3_5   3.0        1   \n",
       "524     B01N34QVF6_5   3.0        1   \n",
       "533     B01MS3MSWM_4   4.0        1   \n",
       "536     B01MS3MSWM_7   5.0        1   \n",
       "...              ...   ...      ...   \n",
       "1278    B002NZJ4MU_9   2.0        2   \n",
       "1294    B00ZWTU6O4_5   5.0        2   \n",
       "1302    B000LEG3SI_3   5.0        2   \n",
       "1310   \"B00B16U4Z8_1   4.0        2   \n",
       "1324    B01G3A9A0G_5   5.0        2   \n",
       "1358    B002PNV6YE_9   2.0        2   \n",
       "1382    B00B9MU1DE_3   2.0        3   \n",
       "1386    B00B9MU1DE_7   5.0        3   \n",
       "1410   \"B073WNQGC7_1   5.0        3   \n",
       "1486    B01M9AL8QZ_7   5.0        3   \n",
       "1488    B01M9AL8QZ_9   5.0        3   \n",
       "1492    B00B5951YU_3   3.0        3   \n",
       "1514    B00JFP2ILU_5   3.0        3   \n",
       "1517    B00JFP2ILU_8   5.0        3   \n",
       "1534    B0191JFHNA_5   2.0        3   \n",
       "1561    B01M8FQH7W_2   4.0        3   \n",
       "1567    B01M8FQH7W_8   1.0        3   \n",
       "1576    B01M4IPTZQ_7   5.0        3   \n",
       "1578    B01M4IPTZQ_9   5.0        3   \n",
       "1614    B0191JFMO4_5   2.0        3   \n",
       "1622    B0191JFMTO_3   3.0        3   \n",
       "1694    B00CBT01PC_5   2.0        3   \n",
       "1705    B018M0XDWG_6   4.0        3   \n",
       "1707    B018M0XDWG_8   5.0        3   \n",
       "1720   \"B00Y1XXRK2_1   5.0        3   \n",
       "1735    B00F25KD7S_6   5.0        3   \n",
       "1739  B00F25KD7S_10\"   4.0        3   \n",
       "1756    B01M6WDH4L_7   5.0        3   \n",
       "1758    B01M6WDH4L_9   5.0        3   \n",
       "1766    B01M8HPJM5_7   5.0        3   \n",
       "\n",
       "                                                 review  ClusterLabel  \n",
       "0                                            头可动，模型也很逼真             6  \n",
       "1                                          商品到达得很快，很不错~             6  \n",
       "20                                        比较小，容组装，感觉还好吗             6  \n",
       "53                                 夹子内侧像橡皮的固定物时间长了就挤成渣了             6  \n",
       "64                           做工还行，但好几个都站不住，娃娃玩了一次就不想再玩了             6  \n",
       "70                                       形象还原得不错，站得也挺稳。             6  \n",
       "150   孩子送给同学的生日礼物，由于时间急，和卖家联系，卖家想用户所需，立即改发顺丰，第二天就收到了...             6  \n",
       "151                        人物做的比较像，很逼真，细节不错，关节要是能活动就更好了             6  \n",
       "154                  给小侄女买的圣诞节礼物，做工精致，脸部逼真，没有那种假娃娃连我的感觉             6  \n",
       "161                             感觉买贵了，出了贵，没毛病。好用，相信亚马逊。             6  \n",
       "165                                        娃娃太小了，感觉有点失望             6  \n",
       "213                   到手完了几次就有白痕，看来孩之宝用料有一次刷新了下限，感觉不如探长             6  \n",
       "216                             设计很好很不错。比以往的好多了。玩起来变形顺畅             6  \n",
       "218                                       有说明书就更好了！质量可以             6  \n",
       "231                             感觉买贵了，出了贵，没毛病。好用，相信亚马逊。             6  \n",
       "235                                        娃娃太小了，感觉有点失望             6  \n",
       "253                   到手完了几次就有白痕，看来孩之宝用料有一次刷新了下限，感觉不如探长             6  \n",
       "256                             设计很好很不错。比以往的好多了。玩起来变形顺畅             6  \n",
       "258                                       有说明书就更好了！质量可以             6  \n",
       "274                          做工还行，但好几个都站不住，娃娃玩了一次就不想再玩了             6  \n",
       "356   做工精致，可以活动的关节很多，变形过程相应比较复杂，配有说明书，多变几次熟悉了也很快。儿子爱...             6  \n",
       "387                                       关节比较松垮，用料不如以前             6  \n",
       "389                                变形金刚很好，但是没有说明书，这怎么变？             6  \n",
       "391   东西不错，河马很丑。但为什么买了一次后，好多可享prime的思乐都取消prime免邮了？不至...             6  \n",
       "392                   思乐的模型很逼真，女儿很喜欢，买了10多个了，这个体积属于较大的。             6  \n",
       "411                                       很喜欢的动物手办啊，西逼真             6  \n",
       "484                          做工还行，但好几个都站不住，娃娃玩了一次就不想再玩了             6  \n",
       "524                          做工还行，但好几个都站不住，娃娃玩了一次就不想再玩了             6  \n",
       "533                   到手完了几次就有白痕，看来孩之宝用料有一次刷新了下限，感觉不如探长             6  \n",
       "536                             设计很好很不错。比以往的好多了。玩起来变形顺畅             6  \n",
       "...                                                 ...           ...  \n",
       "1278                                      感觉ok就是进口税贵了点，             6  \n",
       "1294                                据说可以清洗，还没试！娃娃就画画玩儿的             6  \n",
       "1302                         这个围兜特别好用，感觉能用很久，容易清洗且不会显得旧             6  \n",
       "1310                      很好的想法，对口欲期的宝宝也有保护作用，但是画了很快就干了             6  \n",
       "1324              既锋利又安全，女儿很容易就上手，很快就轻松学会剪纸了。而且不用担心伤到手。             6  \n",
       "1358                                      感觉ok就是进口税贵了点，             6  \n",
       "1382               非常非常小......还没有一个食指长。还以为是精致的模型，结果....             6  \n",
       "1386                                        小而精致，性价高，派好             6  \n",
       "1410                          不用十天时间就到了，这车好大，我都喜欢，比校车要好             6  \n",
       "1486                                         小火车很小，很精致。             6  \n",
       "1488                                    火车虽小 用料扎实还是挺沉手的             6  \n",
       "1492  拿到手的时候贴纸都已经贴好了，包装也不是很好，感觉是别人退换货的，不过小朋友喜欢就收下了，希...             6  \n",
       "1514             不知道为什么，我家宝宝很害怕这个玩具啊看到就哭要我抱，连它的发动剩都不想听见             6  \n",
       "1517                               声音挺逼真的，但贴上的标志不好，已经掉了             6  \n",
       "1534              没有说明书..轨道做工很粗糙..很失望..如果不是亚马逊直营真怀疑是山寨的             6  \n",
       "1561                  泰国制造的，做工用料倒是不错的，硬伤是太小太小了…… 性价比不高。             6  \n",
       "1567                                     那么小的火车那么贵。简直了。             6  \n",
       "1576                                         小火车很小，很精致。             6  \n",
       "1578                                    火车虽小 用料扎实还是挺沉手的             6  \n",
       "1614              没有说明书..轨道做工很粗糙..很失望..如果不是亚马逊直营真怀疑是山寨的             6  \n",
       "1622  拿到手的时候贴纸都已经贴好了，包装也不是很好，感觉是别人退换货的，不过小朋友喜欢就收下了，希...             6  \n",
       "1694              没有说明书..轨道做工很粗糙..很失望..如果不是亚马逊直营真怀疑是山寨的             6  \n",
       "1705  还没拆封，从包装盒上看纸壳厚度不错，上面有一张中文标签，符合进口商品的标准！还没打开玩，不知...             6  \n",
       "1707                                 种类多，很精致，尤其是跑起来速度很快             6  \n",
       "1720                          还比较符合我的想法，我崽还小不太会玩哈哈，等大点吧             6  \n",
       "1735                       四十几入手，感觉很棒，细节设计到位，估计宝宝大了会很喜欢             6  \n",
       "1739                                        造型还不错，就是太小了             6  \n",
       "1756                                         小火车很小，很精致。             6  \n",
       "1758                                    火车虽小 用料扎实还是挺沉手的             6  \n",
       "1766                                         小火车很小，很精致。             6  \n",
       "\n",
       "[100 rows x 5 columns]"
      ]
     },
     "execution_count": 214,
     "metadata": {},
     "output_type": "execute_result"
    }
   ],
   "source": [
    "#挑選特定條件\n",
    "ldaClusterframe[ldaClusterframe.loc[:,'ClusterLabel'] == 6][:100]"
   ]
  },
  {
   "cell_type": "markdown",
   "metadata": {},
   "source": [
    "## LDA 2"
   ]
  },
  {
   "cell_type": "code",
   "execution_count": 95,
   "metadata": {
    "collapsed": true
   },
   "outputs": [],
   "source": [
    "def print_top_words(model, feature_names, n_top_words):\n",
    "    for topic_idx, topic in enumerate(model.components_):\n",
    "        print(\"Topic #%d:\" % topic_idx)\n",
    "        print(\" \".join([feature_names[i]\n",
    "                        for i in topic.argsort()[:-n_top_words - 1:-1]]))\n",
    "        print([model.components_[topic_idx][i-1] for i in topic.argsort()[:-n_top_words - 1:-1]])\n",
    "        \n",
    "    print()"
   ]
  },
  {
   "cell_type": "code",
   "execution_count": 96,
   "metadata": {
    "collapsed": true
   },
   "outputs": [],
   "source": [
    "n_top_words = 30"
   ]
  },
  {
   "cell_type": "code",
   "execution_count": 97,
   "metadata": {},
   "outputs": [
    {
     "name": "stdout",
     "output_type": "stream",
     "text": [
      "Topic #0:\n",
      "不错 喜欢 质量 做工 玩具 孩子 宝宝 小孩 价格 儿子 味道 好玩 手感 设计 图片 东西 活动 异味 开心 精致 小车 爱玩 牌子 想象 划算 精细 超级 粗糙 购买 车子\n",
      "[0.10000205279770037, 0.10001665478687394, 0.10000483516678697, 1.26161354509381, 0.10000853955073997, 0.10000383334418854, 0.10000000010106537, 0.10000745170863339, 0.10000000028605403, 0.10001045747005695, 0.10000000010505206, 0.10000987593750103, 0.10000293450685328, 0.10001429346663272, 0.10000456115625689, 0.10000000007839807, 0.100016759238349, 0.10000288368213384, 3.7350569930223951, 0.10002158202238789, 0.10005012287227573, 0.10000570052842774, 0.10000239145289629, 0.10000090502143714, 0.10000797039851365, 0.99375395312450099, 0.10000279814026966, 0.10000359716964982, 0.10003829508563876, 0.10000663974649709]\n",
      "Topic #1:\n",
      "难度 车厢 回家 系列 客服 照片 实物 小男孩 有时候 想要 卡扣 超过 情况 哇哇 几种 一摸 太软 半小时 用时 放在 太好了 绒毛 稀少 上深 紫霞 车子 组合 木屑 人员 吃惊\n",
      "[0.10000000067838662, 0.10000000037997397, 0.10000000133263441, 0.10000000015437614, 0.10000000010562227, 0.10000000028869624, 1.1373740219254436, 0.10000000115507282, 0.10000000063222479, 0.10014869893416517, 0.10000068085644513, 0.10000000031504477, 0.10000000010758485, 0.10000115821736168, 0.10000495372603155, 0.1000031748019123, 0.10000000042406397, 0.10000000011775254, 0.10000102070854587, 0.10000000030794765, 0.1000000017864989, 1.1416658272260787, 0.10000000119645047, 0.10000000028325041, 0.10000829775851373, 0.10000000059741915, 0.10000000069999879, 0.10000454699854419, 0.1000000001259367, 0.10000000047486357]\n",
      "Topic #2:\n",
      "孩子 喜欢 宝宝 一岁 便宜 质量 朋友 可爱 适合 玩儿 一套 精致 清晰 天天 还会 颜色 玩偶 送给 第一个 很快 三岁 兴趣 摸摸 窒息 看不懂 感觉 小孩 厚实 可惜 侄子\n",
      "[0.10000000012248797, 3.0079038640175639, 0.10001070543246686, 0.10000000025679792, 0.10000000006981472, 0.10000000011928148, 0.10000000012297175, 0.10000224957241126, 0.10000475820616209, 31.093032479799209, 0.10000000011720493, 0.10000324448867562, 1.9403299267041889, 0.10000000030119348, 0.10000000006598782, 0.1000351130151505, 0.10000794311156615, 0.10000000025765454, 0.10002745064077027, 0.10003177097155416, 0.10000176926245272, 5.1476070378163898, 0.10000000069662318, 0.10000000015495579, 0.1000000002412314, 0.10000396226226865, 0.10000000060073913, 0.10000000017519856, 0.10000000020289203, 0.10000227314559616]\n",
      "Topic #3:\n",
      "适合 柔软 简单 小孩子 毛绒 舒服 介绍 漂亮 袋子 购买 特别 很漂亮 一只 小兔子 推荐 音乐 放入 盒内 广告宣传 分包 包装纸 时式 撕扯 官旗 强太多 长度 长些 不行 厉害 女朋友\n",
      "[0.10000674341512385, 0.10000884028015361, 0.10000000082087575, 0.10000000045236601, 0.10000000189315168, 1.1765045845676365, 0.10000000014174949, 0.10000000084526131, 0.10000622928370177, 0.10000000147712196, 0.10014236505311683, 3.3163296864741252, 0.10010358303836191, 0.1000031501893506, 0.10001085261083087, 0.10000000019911866, 0.10000000032011569, 0.1000903110104259, 1.1078322830499725, 0.10000291072824459, 0.10000000042752814, 0.10000000019800924, 0.10000000041301794, 0.10000070019854235, 1.1416309634151756, 0.10000155316666089, 0.100000001002263, 0.10000000014303387, 0.10000000041014015, 1.1037019119384077]\n",
      "Topic #4:\n",
      "材质 好看 超级 很小 两个 头发 儿童节 这是 好好 最棒 简单 软绵绵 兔纸 小尾巴 飞机 价钱 效果 这款 精致 商场 适中 价格 轮子 不好 过程 东西 犹豫 转弯 结构 模具\n",
      "[0.10001559890035615, 0.10000392432410969, 0.10000000060210967, 0.10001033182155901, 0.10000000012083152, 0.10000000044831173, 0.10000000106527898, 0.10000381021440162, 0.10000000125635633, 0.10000000080012866, 0.10004895109365954, 0.1000000001828055, 0.10000428957799047, 0.10000887970368737, 0.1000000010784791, 0.10000000084939367, 0.10002343250040104, 25.483520353012267, 0.10000000081621514, 0.10000000012942768, 0.10000000016739811, 0.10000000091953046, 1.150235185040789, 0.10008817620050126, 0.10000000048786603, 0.10000000022340087, 1.163264276973659, 0.10000000015260559, 0.1000000007869063, 0.1000000003474438]\n",
      "Topic #5:\n",
      "拼图 真的 地方 子弹 详细 完美 遗憾 耳朵 连接 还会 轨道 设计 精美 下次 个头 购买 兔子 熟练 桌游 引导 东东 电话 很难 小小 支持 后悔 是因为 纸板 拼出来 官方\n",
      "[8.3058342161111671, 0.1000000002286548, 0.10000490831044247, 0.10000000082400878, 0.10000000012412109, 4.9516200504528225, 0.10000000060183009, 0.10000000085785704, 1.1373262415923484, 1.0791372042924079, 0.10000000033969367, 0.10000385092589066, 0.10000831131108011, 0.10000000099226727, 0.1000000018569729, 0.10000000179261616, 1.0995640237351476, 0.10012118964420193, 0.10000000038646578, 0.10000000023763211, 2.1409101122715946, 0.10000000028232291, 0.10001231803885213, 0.10001633696685593, 1.0791323779468116, 1.1416370217150966, 0.10000000049010595, 0.10000000061583351, 0.10000274045500275, 17.723431745365282]\n",
      "Topic #6:\n",
      "宝宝 满意 包装 喜欢 女儿 宝贝 儿子 价格 爱不释手 睡觉 商品 不好 一点 送人 我家 购物 不错 性价比 能力 锻炼 有趣 瑕疵 海外 期待 不太好 体验 精细 愉快 耐脏 一岁\n",
      "[0.10000000016967367, 0.10000000069130807, 0.10000000010875063, 0.10000000040659429, 0.1000000004743206, 1.1416171732347908, 1.0163432565565891, 0.10000000052342324, 0.10000145795313709, 0.10000000081210869, 0.10000000061190387, 0.10002514244078528, 0.10000127920304784, 0.10000360410885019, 0.10000000078486471, 0.10001321399583908, 0.10000000023230073, 0.10000758825927582, 0.1000068299236206, 0.1000000001112913, 0.10000000009669872, 0.10000595198808736, 0.1000000000722702, 2.082624183254365, 0.10000000088862816, 0.10008016102120149, 0.1000139451543723, 0.10000240044272879, 4.0352856119225642, 0.10000191991989141]\n",
      "Topic #7:\n",
      "亚马逊 小朋友 可爱 积分 特别 东西 喜欢 不用 评价 评论 宝宝 产品 推荐 电池 值得 中国 合适 好好 浪费 发出 真的 只能 既能 复制到 复制 这段话 换钱 走到 省事 看着\n",
      "[0.1000186556965087, 0.10000521723961418, 0.10000000007049176, 0.10000000057217616, 0.10000432076965982, 0.10000000010793589, 0.10002354963341951, 0.1000365990096474, 0.10000000027896254, 0.10002686084670838, 0.10000307802998407, 0.10002293089826807, 0.1000119553127319, 0.10001285704106939, 0.10000000068156981, 0.10000277263132472, 2.0827415043507731, 0.10000226465023683, 0.10000000033810669, 0.10000000071775247, 0.99006737587175164, 0.10000261476689609, 0.10000174452924131, 45.92430268945769, 0.10000000030127867, 13.555125925023706, 0.10000523936264169, 1.0791277091542653, 0.10000075296686151, 0.10000000010683849]\n",
      "Topic #8:\n",
      "不错 颜色 收到 退货 质量 亚马逊 白色 发现 包装 打开 礼物 蓝色 感觉 外面 发货 本来 拿到 手感 塑料 送给 几天 功能 赶上 粉色 参考 安装 盒子 一点 鲜艳 推荐\n",
      "[0.10000000020594346, 9.9941899551321018, 0.10001256723316904, 0.10000000016272347, 0.10000000012154009, 1.0831262696324149, 0.100000000090723, 0.10004856759453803, 0.10001074528097949, 2.2354384833720493, 0.10000643623656015, 2.0064321247424233, 0.10002403390983301, 0.10007814890230948, 0.10000000014391389, 0.10000000012491381, 0.10003066293781522, 0.10000125158852091, 0.10000158753888645, 4.8729196563599029, 0.1000048533230703, 0.10003131387078228, 0.10000000051400958, 0.10000103551700024, 0.10000000045615802, 0.10000000024537994, 0.10000000006658676, 0.10000210882643699, 0.10000000029228429, 0.10000134779873994]\n",
      "Topic #9:\n",
      "太小 感觉 娃娃 失望 细节 火车 不错 做工 精致 模型 活动 标签 亚马逊 用料 说明书 组装 买贵 变形 逼真 设计 危险 符合 更好 好几个 办法 到手 很快 扎实 好多 包装盒\n",
      "[0.10006192183635987, 0.10005247705899678, 0.10000000050032702, 0.10010103751116549, 0.10001891563575534, 0.10000000063665083, 0.10000000032589249, 0.10000000055120395, 0.10001202611689582, 0.10001242778699752, 0.10000000040286135, 0.10000000012765332, 0.10000000035997486, 0.10000000015722194, 0.10000000056638905, 1.008737222759543, 0.10000000058625866, 0.10000000044046531, 0.10000000030196453, 0.10000153510582005, 0.10001111144697154, 0.10000461155626671, 0.1000000001056069, 0.10000000015581777, 0.10000000047318834, 0.10001154991667995, 0.10000472107986702, 0.10002531717192573, 0.10000277286741509, 0.10000000017133996]\n",
      "\n"
     ]
    }
   ],
   "source": [
    "tf_feature_names = vectorizer.get_feature_names()\n",
    "print_top_words(lda, tf_feature_names, n_top_words)"
   ]
  },
  {
   "cell_type": "code",
   "execution_count": 98,
   "metadata": {},
   "outputs": [
    {
     "name": "stderr",
     "output_type": "stream",
     "text": [
      "/usr/local/lib/python3.6/site-packages/pyLDAvis/_prepare.py:387: DeprecationWarning: \n",
      ".ix is deprecated. Please use\n",
      ".loc for label based indexing or\n",
      ".iloc for positional indexing\n",
      "\n",
      "See the documentation here:\n",
      "http://pandas.pydata.org/pandas-docs/stable/indexing.html#ix-indexer-is-deprecated\n",
      "  topic_term_dists = topic_term_dists.ix[topic_order]\n"
     ]
    },
    {
     "data": {
      "text/html": [
       "\n",
       "<link rel=\"stylesheet\" type=\"text/css\" href=\"https://cdn.rawgit.com/bmabey/pyLDAvis/files/ldavis.v1.0.0.css\">\n",
       "\n",
       "\n",
       "<div id=\"ldavis_el2148447040346325443168438\"></div>\n",
       "<script type=\"text/javascript\">\n",
       "\n",
       "var ldavis_el2148447040346325443168438_data = {\"mdsDat\": {\"Freq\": [20.583108865400177, 15.310618281789367, 12.289927986190019, 11.863946237871032, 10.670002263747778, 7.399985832296912, 6.444813435418295, 5.731754588921424, 5.374649652323462, 4.331192856041538], \"cluster\": [1, 1, 1, 1, 1, 1, 1, 1, 1, 1], \"topics\": [1, 2, 3, 4, 5, 6, 7, 8, 9, 10], \"x\": [-0.2506235620524405, -0.07395222361231361, -0.08888194644811466, -0.1771049428777386, -0.10406276605021458, 0.07713276342882397, 0.16990633052530402, 0.12877784599449318, 0.15726845211934887, 0.1615400489728519], \"y\": [-0.05798140128260574, 0.2277550708493566, -0.1395441902312279, 0.08470069485884131, -0.02087896976919735, -0.19516396952328652, 0.14427405462432474, -0.004287301279828013, -0.02551603384151377, -0.013357954404863284]}, \"tinfo\": {\"Category\": [\"Default\", \"Default\", \"Default\", \"Default\", \"Default\", \"Default\", \"Default\", \"Default\", \"Default\", \"Default\", \"Default\", \"Default\", \"Default\", \"Default\", \"Default\", \"Default\", \"Default\", \"Default\", \"Default\", \"Default\", \"Default\", \"Default\", \"Default\", \"Default\", \"Default\", \"Default\", \"Default\", \"Default\", \"Default\", \"Default\", \"Topic1\", \"Topic1\", \"Topic1\", \"Topic1\", \"Topic1\", \"Topic1\", \"Topic1\", \"Topic1\", \"Topic1\", \"Topic1\", \"Topic1\", \"Topic1\", \"Topic1\", \"Topic1\", \"Topic1\", \"Topic1\", \"Topic1\", \"Topic1\", \"Topic1\", \"Topic1\", \"Topic1\", \"Topic1\", \"Topic1\", \"Topic1\", \"Topic1\", \"Topic1\", \"Topic1\", \"Topic1\", \"Topic1\", \"Topic1\", \"Topic1\", \"Topic1\", \"Topic1\", \"Topic1\", \"Topic1\", \"Topic1\", \"Topic1\", \"Topic1\", \"Topic1\", \"Topic1\", \"Topic1\", \"Topic1\", \"Topic1\", \"Topic1\", \"Topic1\", \"Topic1\", \"Topic1\", \"Topic1\", \"Topic1\", \"Topic1\", \"Topic1\", \"Topic1\", \"Topic1\", \"Topic1\", \"Topic1\", \"Topic1\", \"Topic1\", \"Topic1\", \"Topic2\", \"Topic2\", \"Topic2\", \"Topic2\", \"Topic2\", \"Topic2\", \"Topic2\", \"Topic2\", \"Topic2\", \"Topic2\", \"Topic2\", \"Topic2\", \"Topic2\", \"Topic2\", \"Topic2\", \"Topic2\", \"Topic2\", \"Topic2\", \"Topic2\", \"Topic2\", \"Topic2\", \"Topic2\", \"Topic2\", \"Topic2\", \"Topic2\", \"Topic2\", \"Topic2\", \"Topic2\", \"Topic2\", \"Topic2\", \"Topic2\", \"Topic2\", \"Topic2\", \"Topic2\", \"Topic2\", \"Topic2\", \"Topic2\", \"Topic2\", \"Topic2\", \"Topic2\", \"Topic2\", \"Topic2\", \"Topic2\", \"Topic3\", \"Topic3\", \"Topic3\", \"Topic3\", \"Topic3\", \"Topic3\", \"Topic3\", \"Topic3\", \"Topic3\", \"Topic3\", \"Topic3\", \"Topic3\", \"Topic3\", \"Topic3\", \"Topic3\", \"Topic3\", \"Topic3\", \"Topic3\", \"Topic3\", \"Topic3\", \"Topic3\", \"Topic3\", \"Topic3\", \"Topic3\", \"Topic3\", \"Topic3\", \"Topic3\", \"Topic3\", \"Topic3\", \"Topic3\", \"Topic3\", \"Topic3\", \"Topic3\", \"Topic3\", \"Topic3\", \"Topic3\", \"Topic3\", \"Topic3\", \"Topic3\", \"Topic3\", \"Topic3\", \"Topic3\", \"Topic3\", \"Topic3\", \"Topic3\", \"Topic3\", \"Topic3\", \"Topic3\", \"Topic3\", \"Topic3\", \"Topic3\", \"Topic3\", \"Topic4\", \"Topic4\", \"Topic4\", \"Topic4\", \"Topic4\", \"Topic4\", \"Topic4\", \"Topic4\", \"Topic4\", \"Topic4\", \"Topic4\", \"Topic4\", \"Topic4\", \"Topic4\", \"Topic4\", \"Topic4\", \"Topic4\", \"Topic4\", \"Topic4\", \"Topic4\", \"Topic4\", \"Topic4\", \"Topic4\", \"Topic4\", \"Topic4\", \"Topic4\", \"Topic4\", \"Topic4\", \"Topic4\", \"Topic4\", \"Topic4\", \"Topic4\", \"Topic4\", \"Topic4\", \"Topic4\", \"Topic4\", \"Topic4\", \"Topic4\", \"Topic4\", \"Topic4\", \"Topic4\", \"Topic4\", \"Topic4\", \"Topic4\", \"Topic4\", \"Topic4\", \"Topic4\", \"Topic4\", \"Topic4\", \"Topic4\", \"Topic4\", \"Topic5\", \"Topic5\", \"Topic5\", \"Topic5\", \"Topic5\", \"Topic5\", \"Topic5\", \"Topic5\", \"Topic5\", \"Topic5\", \"Topic5\", \"Topic5\", \"Topic5\", \"Topic5\", \"Topic5\", \"Topic5\", \"Topic5\", \"Topic5\", \"Topic5\", \"Topic5\", \"Topic5\", \"Topic5\", \"Topic5\", \"Topic5\", \"Topic5\", \"Topic5\", \"Topic5\", \"Topic5\", \"Topic5\", \"Topic5\", \"Topic5\", \"Topic5\", \"Topic5\", \"Topic5\", \"Topic5\", \"Topic5\", \"Topic5\", \"Topic5\", \"Topic5\", \"Topic5\", \"Topic5\", \"Topic5\", \"Topic5\", \"Topic5\", \"Topic5\", \"Topic5\", \"Topic5\", \"Topic5\", \"Topic5\", \"Topic5\", \"Topic5\", \"Topic6\", \"Topic6\", \"Topic6\", \"Topic6\", \"Topic6\", \"Topic6\", \"Topic6\", \"Topic6\", \"Topic6\", \"Topic6\", \"Topic6\", \"Topic6\", \"Topic6\", \"Topic6\", \"Topic6\", \"Topic6\", \"Topic6\", \"Topic6\", \"Topic6\", \"Topic6\", \"Topic6\", \"Topic6\", \"Topic6\", \"Topic6\", \"Topic6\", \"Topic6\", \"Topic6\", \"Topic6\", \"Topic6\", \"Topic6\", \"Topic6\", \"Topic6\", \"Topic6\", \"Topic6\", \"Topic6\", \"Topic6\", \"Topic6\", \"Topic6\", \"Topic6\", \"Topic6\", \"Topic6\", \"Topic6\", \"Topic6\", \"Topic6\", \"Topic6\", \"Topic6\", \"Topic6\", \"Topic7\", \"Topic7\", \"Topic7\", \"Topic7\", \"Topic7\", \"Topic7\", \"Topic7\", \"Topic7\", \"Topic7\", \"Topic7\", \"Topic7\", \"Topic7\", \"Topic7\", \"Topic7\", \"Topic7\", \"Topic7\", \"Topic7\", \"Topic7\", \"Topic7\", \"Topic7\", \"Topic7\", \"Topic7\", \"Topic7\", \"Topic7\", \"Topic7\", \"Topic7\", \"Topic7\", \"Topic7\", \"Topic7\", \"Topic7\", \"Topic7\", \"Topic7\", \"Topic7\", \"Topic7\", \"Topic7\", \"Topic7\", \"Topic7\", \"Topic8\", \"Topic8\", \"Topic8\", \"Topic8\", \"Topic8\", \"Topic8\", \"Topic8\", \"Topic8\", \"Topic8\", \"Topic8\", \"Topic8\", \"Topic8\", \"Topic8\", \"Topic8\", \"Topic8\", \"Topic8\", \"Topic8\", \"Topic8\", \"Topic8\", \"Topic8\", \"Topic8\", \"Topic8\", \"Topic8\", \"Topic8\", \"Topic8\", \"Topic8\", \"Topic8\", \"Topic8\", \"Topic8\", \"Topic8\", \"Topic8\", \"Topic8\", \"Topic8\", \"Topic8\", \"Topic8\", \"Topic8\", \"Topic8\", \"Topic8\", \"Topic8\", \"Topic8\", \"Topic8\", \"Topic8\", \"Topic8\", \"Topic8\", \"Topic8\", \"Topic8\", \"Topic9\", \"Topic9\", \"Topic9\", \"Topic9\", \"Topic9\", \"Topic9\", \"Topic9\", \"Topic9\", \"Topic9\", \"Topic9\", \"Topic9\", \"Topic9\", \"Topic9\", \"Topic9\", \"Topic9\", \"Topic9\", \"Topic9\", \"Topic9\", \"Topic9\", \"Topic9\", \"Topic9\", \"Topic9\", \"Topic9\", \"Topic9\", \"Topic9\", \"Topic9\", \"Topic9\", \"Topic9\", \"Topic9\", \"Topic9\", \"Topic9\", \"Topic9\", \"Topic9\", \"Topic9\", \"Topic9\", \"Topic9\", \"Topic9\", \"Topic9\", \"Topic9\", \"Topic9\", \"Topic9\", \"Topic9\", \"Topic10\", \"Topic10\", \"Topic10\", \"Topic10\", \"Topic10\", \"Topic10\", \"Topic10\", \"Topic10\", \"Topic10\", \"Topic10\", \"Topic10\", \"Topic10\", \"Topic10\", \"Topic10\", \"Topic10\", \"Topic10\", \"Topic10\", \"Topic10\", \"Topic10\", \"Topic10\", \"Topic10\", \"Topic10\", \"Topic10\", \"Topic10\", \"Topic10\", \"Topic10\", \"Topic10\", \"Topic10\", \"Topic10\", \"Topic10\", \"Topic10\", \"Topic10\", \"Topic10\", \"Topic10\", \"Topic10\", \"Topic10\"], \"Freq\": [689.0, 1133.0, 738.0, 521.0, 561.0, 346.0, 287.0, 97.0, 150.0, 242.0, 114.0, 183.0, 146.0, 136.0, 186.0, 89.0, 120.0, 138.0, 74.0, 158.0, 129.0, 84.0, 168.0, 97.0, 96.0, 77.0, 99.0, 101.0, 62.0, 91.0, 55.37085110039663, 53.405112079600904, 52.37590001365919, 37.8302617933142, 34.82997449831493, 28.733723968796365, 27.801472718990514, 22.353820668498244, 19.993347108631184, 19.739080449460218, 19.463538585718055, 18.423767859973324, 18.169756459155312, 18.137084934269282, 18.067002896212802, 21.900782181120164, 17.19833962118693, 17.188775566399013, 16.16665111749509, 15.176687817415813, 14.820607788101388, 14.479906877151844, 14.36672412242595, 14.104584352678962, 14.034572033694474, 13.708843757986639, 13.652296776411461, 13.368886996238334, 13.356317143475941, 13.322180094038817, 269.60141799581453, 304.39284558074206, 86.40157134056612, 112.21285958492862, 534.596681914927, 383.19089907971835, 32.72136873127392, 23.680041591935815, 77.83038778089889, 523.4758441935267, 88.20940343867856, 90.61200144216784, 91.9845077196748, 36.58998588361936, 53.575388180979004, 31.83548789641016, 29.65210367115861, 223.6952104673528, 193.40209327653386, 37.07588443437253, 64.04176445812396, 37.01478258255339, 44.67555671706553, 36.31401537898843, 45.9140363898548, 54.32078273226301, 35.05509250798608, 34.22350556633728, 149.58786701876903, 119.3700384660915, 96.88128978463936, 96.04812667429482, 83.10710615075948, 64.69345392464737, 48.96933919119402, 47.61283282285481, 46.33721692449206, 44.83802854119443, 40.8538601142844, 39.84785850507493, 39.84785850507418, 39.847858505070526, 39.84785850507526, 39.84785850506814, 39.847858505064266, 39.84785850506935, 32.45769293199264, 31.481815973365375, 30.401163440341353, 24.93826770904287, 24.907225426679, 24.19536846332218, 21.378037199275653, 19.34442367121967, 17.13119311820401, 16.986135487827298, 16.569605342533695, 16.55598949170441, 115.94788630125605, 46.65032633753544, 129.711088402582, 150.74776413617386, 50.08971271175746, 109.16772430959443, 46.445724354308936, 63.99371266628623, 32.53181508727522, 100.33071706351959, 70.89473504275196, 42.27981012156005, 34.886585036629164, 73.12010736533985, 57.95679930731916, 46.94036715352339, 36.703228218115584, 30.136716196632552, 29.813709599016118, 28.796498380985415, 26.630210057906144, 24.09712434433956, 22.3267465296368, 19.847032925665264, 19.847032918608697, 19.847032912455283, 19.847032900124155, 19.847032888667812, 19.437656693752412, 18.301354577326798, 17.746181913458763, 16.463438463487154, 14.99885207691725, 14.63300495966202, 12.518934839994069, 12.148718687257285, 12.123913574413745, 11.669524655845526, 11.565456442851367, 38.253361658401744, 11.285176219940825, 10.613937242245411, 10.436847742625272, 36.74516422430323, 58.01736480789175, 49.628329355346814, 30.440925960946725, 76.50339716425927, 53.26115310351073, 86.29693775302401, 35.67328073983033, 24.651097332076787, 34.04802644538971, 128.9274948403897, 34.38279869327726, 57.10852892595077, 62.66191326529112, 70.32056748708753, 25.795084539958257, 39.419780809336494, 35.18656379186407, 24.11876311966105, 25.504936616794343, 25.256773779669473, 24.26276701368501, 64.84486195651571, 40.3110960322616, 38.0581653548223, 28.59668643240026, 26.443237315287274, 19.498912925398198, 19.36938131603668, 19.36938131506652, 19.369381312681995, 16.907862685965764, 15.357319352389018, 13.947287879942216, 12.888482150596731, 12.820021658075806, 10.878845032794944, 10.777492192174938, 10.667007135653828, 10.532236257742051, 9.835457661426197, 9.16751489796731, 9.066316761552887, 9.0348115448993, 9.008128711589126, 8.266277076583002, 8.264886231089882, 8.14011175975097, 8.013359625433685, 7.771636678971757, 7.491891110173481, 7.4524332975250935, 23.50903537791375, 86.68504809785071, 18.103457420959565, 28.518008905974614, 14.886010161109418, 99.98363661774461, 465.06083938000387, 22.97295161702328, 406.413482756532, 28.463489111774727, 17.853985434608745, 129.88897705599837, 55.96043940501494, 45.09297373672589, 22.979238135409034, 26.07454757891096, 67.79089523345006, 30.106121053818665, 27.369609800581443, 18.783464318216122, 18.136458965855127, 114.18824164477034, 76.83087498751347, 59.487235675560555, 57.312431216116636, 50.743487668352266, 42.58610876555013, 29.727260786505965, 27.219300703010287, 22.701081129987067, 22.55651288242685, 21.31723828628635, 20.400539546035525, 19.771394256674537, 19.1956179899062, 18.07916332254129, 16.026366286993373, 14.272376982854048, 13.912455389536776, 13.231000114779176, 13.231000114751335, 13.231000114751085, 12.207102268398796, 11.42563718178348, 11.316957853720298, 9.856560723074764, 9.609866307753041, 9.512221341665715, 9.16772758637557, 8.54614833366623, 8.48026734471946, 73.20688153747332, 27.72872387771581, 25.583419371159668, 47.59885910999259, 46.18249256237281, 17.176332476099468, 39.72978725924492, 26.633053927190282, 32.36292668809969, 107.77352047016312, 44.84461276970815, 28.783656028213837, 31.613841853268312, 166.7900017880088, 47.03270838074711, 67.31801529665309, 63.0626073937069, 103.18515487095875, 25.299128641422644, 40.11953242919496, 21.84428829319275, 88.90987879381402, 59.4760717417513, 30.64269053685221, 26.77802463154206, 22.797979764380294, 22.76174699747184, 20.280756360575953, 18.762459270617004, 18.409637175835126, 18.15087962947915, 16.16214339444546, 13.967423290794757, 13.726500245385495, 13.465631515449301, 12.174679882856728, 10.133349993540715, 9.440534639343348, 9.091871498317218, 8.536901060325588, 8.450213690177424, 8.147928912168487, 8.147928912163406, 29.0635090425891, 6.943436188957575, 6.8280868872248845, 6.54717643943029, 23.39668293428393, 6.34871169872937, 6.069825346627626, 5.941727189234611, 38.128556152196445, 18.015490765398624, 15.851457797808237, 36.817133188098474, 21.087212583004586, 87.76464284032589, 35.97527185980052, 18.658315156010463, 15.5952924308558, 22.525904454475175, 29.465265572139533, 31.320222072132854, 16.953495264664795, 32.60588690538489, 28.45798327926517, 34.631039348027294, 20.365408433411787, 73.26429860533423, 45.89145803926745, 39.488996628271124, 35.615982285224284, 31.14352863951922, 23.768887429376974, 21.762315496275736, 19.190939080468365, 18.31261472028291, 18.08506190798976, 18.08506190780858, 18.085061907772484, 18.085061907720075, 18.085061907647557, 18.08506190748125, 18.085061907334037, 18.08505008985031, 18.085050087492316, 18.085050086734267, 18.08505008185168, 16.349088706004977, 12.885059385155191, 12.794286000749361, 11.459492087874208, 10.999147637639169, 9.532918517204562, 8.685452364143336, 7.914435482467644, 7.582869150505344, 7.19171014496975, 28.044517632449324, 18.81506250770917, 75.01227935028732, 46.26604305691467, 22.628758278639147, 22.154418381018893, 18.76675601037197, 49.29230359938668, 25.12875898201972, 21.962654730739107, 20.825734852548482, 19.44973123718897, 18.608910013825763, 18.608910013047886, 18.608910010797796, 17.101482844870652, 15.75613154560158, 14.540076044191274, 11.643552753121456, 11.218655262552627, 11.02495324159162, 10.695379463836824, 8.63137140919606, 8.263986836430078, 8.145268180459315, 8.14525612189194, 8.145245604349293, 7.776110079172592, 7.273521477737127, 7.235725095269654, 7.176090678642559, 7.0186852866763205, 6.631631546031875, 6.603616860354598, 6.4436582349786775, 6.2883588706431155, 5.876628120726649, 54.75481282391964, 10.185584047193293, 13.003079545291472, 32.847159512770794, 48.86300982250289, 31.2353807786384, 14.174013102178819, 12.290056043861242, 14.439894706437999, 20.179684741152013, 18.6437628592321, 12.766894153764024, 12.47106354429683, 14.407739580252978, 12.968312278116588, 12.023284091352387, 97.11769489428941, 23.254508551126207, 15.958306750661915, 14.819253060847345, 14.209046092635756, 13.36118313294344, 11.226204670193123, 9.87979819381804, 8.751930848922996, 8.75005775692826, 8.672423773343798, 8.462027292129031, 7.654673243617346, 7.601790755766499, 7.60045590762398, 7.458523705821883, 7.053562049634339, 7.021283023598223, 6.528760360053736, 6.39973080144078, 6.155000045790485, 5.930119353182642, 5.906741015458059, 5.596477948784659, 5.295944720092606, 5.29629396144132, 5.292393195595447, 5.26455375184549, 5.216451620215553, 5.093736055903754, 7.377073421727147, 25.766709551749514, 10.57192484235438, 38.96823556966673, 14.982387945120712, 10.37614644087196, 12.260595373697857, 11.767398062437724, 7.582592015991887, 11.264213776756986, 10.301342721720268, 6.630065999106563, 23.308580703552153, 17.58453326341148, 16.967058392233252, 12.180046300812194, 11.589070023696465, 10.788008718005067, 9.446595596540643, 9.104200196564978, 8.736244017554327, 8.566698752052895, 8.327396300832643, 8.12694857103593, 7.363009101599886, 7.3409436726820285, 6.574490887579528, 6.383510328769981, 6.301501953553822, 6.301501953449627, 6.301501953419907, 6.214982913418974, 5.9578953610422465, 5.9504590158877075, 5.836674490527761, 5.809654116288712, 5.747387113761788, 5.694215821200758, 5.310804136411382, 5.252461076341372, 5.214979464629981, 5.093499711644349, 7.847293060600824, 9.692685365516239, 14.763484032832974, 14.228472695659715, 6.404373230064785, 6.009171807601613], \"Term\": [\"\\u5b69\\u5b50\", \"\\u559c\\u6b22\", \"\\u4e0d\\u9519\", \"\\u8d28\\u91cf\", \"\\u5b9d\\u5b9d\", \"\\u505a\\u5de5\", \"\\u73a9\\u5177\", \"\\u62fc\\u56fe\", \"\\u5c0f\\u670b\\u53cb\", \"\\u4e9a\\u9a6c\\u900a\", \"\\u6ee1\\u610f\", \"\\u5305\\u88c5\", \"\\u611f\\u89c9\", \"\\u9002\\u5408\", \"\\u53ef\\u7231\", \"\\u592a\\u5c0f\", \"\\u79ef\\u5206\", \"\\u7279\\u522b\", \"\\u67d4\\u8f6f\", \"\\u513f\\u5b50\", \"\\u4e00\\u5c81\", \"\\u8d85\\u7ea7\", \"\\u4ef7\\u683c\", \"\\u4e0d\\u7528\", \"\\u8bc4\\u4ef7\", \"\\u5973\\u513f\", \"\\u4fbf\\u5b9c\", \"\\u771f\\u7684\", \"\\u6750\\u8d28\", \"\\u7b80\\u5355\", \"\\u56fe\\u7247\", \"\\u5f02\\u5473\", \"\\u5f00\\u5fc3\", \"\\u7231\\u73a9\", \"\\u7c97\\u7cd9\", \"\\u773c\\u775b\", \"\\u5c0f\\u5bb6\\u4f19\", \"\\u7d2b\\u8272\", \"\\u6000\\u7591\", \"\\u6700\\u65e9\", \"\\u4f18\\u60e0\", \"\\u9001\\u8d27\", \"\\u5b66\\u4e60\", \"\\u51d1\\u5355\", \"\\u53ef\\u73a9\\u6027\", \"\\u914d\\u4ef6\", \"\\u5c0f\\u65f6\", \"\\u4e0d\\u50cf\", \"\\u5c0f\\u5de7\", \"\\u5927\\u724c\", \"\\u516c\\u53f8\", \"\\u6750\\u6599\", \"\\u5bf9\\u5f97\\u8d77\", \"\\u4e24\\u5929\", \"\\u592a\\u8d35\", \"\\u611f\\u5174\\u8da3\", \"\\u4ef7\\u683c\\u4fbf\\u5b9c\", \"\\u73a9\\u5f97\", \"\\u6c99\\u5b50\", \"\\u91d1\\u5c5e\", \"\\u73a9\\u5177\", \"\\u505a\\u5de5\", \"\\u597d\\u73a9\", \"\\u5c0f\\u5b69\", \"\\u4e0d\\u9519\", \"\\u8d28\\u91cf\", \"\\u8f66\\u5b50\", \"\\u6709\\u610f\\u601d\", \"\\u624b\\u611f\", \"\\u559c\\u6b22\", \"\\u5473\\u9053\", \"\\u513f\\u5b50\", \"\\u4ef7\\u683c\", \"\\u5212\\u7b97\", \"\\u6d3b\\u52a8\", \"\\u5bb6\\u91cc\", \"\\u786e\\u5b9e\", \"\\u5b69\\u5b50\", \"\\u5b9d\\u5b9d\", \"\\u724c\\u5b50\", \"\\u8bbe\\u8ba1\", \"\\u60f3\\u8c61\", \"\\u5c0f\\u8f66\", \"\\u7cbe\\u7ec6\", \"\\u7cbe\\u81f4\", \"\\u4e1c\\u897f\", \"\\u8d85\\u7ea7\", \"\\u8d2d\\u4e70\", \"\\u5c0f\\u670b\\u53cb\", \"\\u79ef\\u5206\", \"\\u4e0d\\u7528\", \"\\u8bc4\\u4ef7\", \"\\u8bc4\\u8bba\", \"\\u4ea7\\u54c1\", \"\\u503c\\u5f97\", \"\\u4e2d\\u56fd\", \"\\u6d6a\\u8d39\", \"\\u53d1\\u51fa\", \"\\u53ea\\u80fd\", \"\\u590d\\u5236\\u5230\", \"\\u590d\\u5236\", \"\\u8fd9\\u6bb5\\u8bdd\", \"\\u65e2\\u80fd\", \"\\u8d70\\u5230\", \"\\u7701\\u4e8b\", \"\\u6362\\u94b1\", \"\\u7f8e\\u4e9a\", \"\\u7b2c\\u4e8c\\u5929\", \"\\u5c0f\\u8d35\", \"\\u4e00\\u6b3e\", \"\\u62c5\\u5fc3\", \"\\u6837\\u5b50\", \"\\u5236\\u9020\", \"\\u7533\\u8bf7\", \"\\u552e\\u540e\", \"\\u5f88\\u8f6f\", \"\\u8ff7\\u4f60\", \"\\u60ca\\u559c\", \"\\u7279\\u522b\", \"\\u5408\\u9002\", \"\\u53ef\\u7231\", \"\\u4e9a\\u9a6c\\u900a\", \"\\u7535\\u6c60\", \"\\u4e1c\\u897f\", \"\\u597d\\u597d\", \"\\u63a8\\u8350\", \"\\u670d\\u52a1\", \"\\u559c\\u6b22\", \"\\u5b9d\\u5b9d\", \"\\u771f\\u7684\", \"\\u770b\\u7740\", \"\\u9000\\u8d27\", \"\\u53d1\\u73b0\", \"\\u84dd\\u8272\", \"\\u672c\\u6765\", \"\\u529f\\u80fd\", \"\\u8d76\\u4e0a\", \"\\u7c89\\u8272\", \"\\u53c2\\u8003\", \"\\u6574\\u4f53\", \"\\u534a\\u5c81\", \"\\u6d17\\u540e\", \"\\u8d27\\u6bd4\", \"\\u697c\\u4e0a\", \"\\u76f8\\u8c61\", \"\\u5c11\\u5c11\", \"\\u771f\\u5fc3\", \"\\u5356\\u5bb6\", \"\\u7269\\u6709\\u6240\\u503c\", \"\\u9000\\u6b3e\", \"\\u4fdd\\u9c9c\\u819c\", \"\\u8d85\\u5e02\", \"\\u81ea\\u8425\", \"\\u597d\\u5927\", \"\\u526a\\u5200\", \"\\u91cd\\u590d\", \"\\u5929\\u732b\", \"\\u5916\\u9762\", \"\\u6bdb\\u7ed2\\u73a9\\u5177\", \"\\u5783\\u573e\", \"\\u539f\\u56e0\", \"\\u53d1\\u8d27\", \"\\u767d\\u8272\", \"\\u793c\\u7269\", \"\\u51e0\\u5929\", \"\\u6536\\u5230\", \"\\u6253\\u5f00\", \"\\u989c\\u8272\", \"\\u62ff\\u5230\", \"\\u9c9c\\u8273\", \"\\u9001\\u7ed9\", \"\\u4e0d\\u9519\", \"\\u5851\\u6599\", \"\\u5305\\u88c5\", \"\\u4e9a\\u9a6c\\u900a\", \"\\u8d28\\u91cf\", \"\\u5b89\\u88c5\", \"\\u611f\\u89c9\", \"\\u624b\\u611f\", \"\\u7b2c\\u4e00\\u6b21\", \"\\u76d2\\u5b50\", \"\\u4e00\\u70b9\", \"\\u63a8\\u8350\", \"\\u670b\\u53cb\", \"\\u73a9\\u513f\", \"\\u4e00\\u5957\", \"\\u6e05\\u6670\", \"\\u73a9\\u5076\", \"\\u5174\\u8da3\", \"\\u6478\\u6478\", \"\\u7a92\\u606f\", \"\\u770b\\u4e0d\\u61c2\", \"\\u4f84\\u5b50\", \"\\u73e0\\u5b50\", \"\\u4e11\\u840c\", \"\\u633a\\u597d\\u73a9\", \"\\u62fc\\u5b8c\", \"\\u4e00\\u5171\", \"\\u6536\\u7eb3\", \"\\u6d17\\u6fa1\", \"\\u5c0f\\u4f84\\u5973\", \"\\u5c0f\\u624b\", \"\\u62c6\\u5378\", \"\\u4e00\\u5806\", \"\\u76ae\\u80a4\", \"\\u59d1\\u5a18\", \"\\u52a8\\u529b\", \"\\u67d4\\u548c\", \"\\u624b\\u5de5\", \"\\u7eb8\\u5f20\", \"\\u56fa\\u5b9a\", \"\\u4e00\\u9635\\u5b50\", \"\\u632b\\u8d25\", \"\\u7b2c\\u4e00\\u4e2a\", \"\\u4fbf\\u5b9c\", \"\\u539a\\u5b9e\", \"\\u5929\\u5929\", \"\\u5f62\\u72b6\", \"\\u4e00\\u5c81\", \"\\u5b69\\u5b50\", \"\\u4e09\\u5c81\", \"\\u559c\\u6b22\", \"\\u8fd8\\u4f1a\", \"\\u53ef\\u60dc\", \"\\u5b9d\\u5b9d\", \"\\u53ef\\u7231\", \"\\u9002\\u5408\", \"\\u5f88\\u5feb\", \"\\u9001\\u7ed9\", \"\\u8d28\\u91cf\", \"\\u7cbe\\u81f4\", \"\\u989c\\u8272\", \"\\u611f\\u89c9\", \"\\u5c0f\\u5b69\", \"\\u6ee1\\u610f\", \"\\u5973\\u513f\", \"\\u7231\\u4e0d\\u91ca\\u624b\", \"\\u7761\\u89c9\", \"\\u5546\\u54c1\", \"\\u8d2d\\u7269\", \"\\u6709\\u8da3\", \"\\u671f\\u5f85\", \"\\u6109\\u5feb\", \"\\u8010\\u810f\", \"\\u5185\\u5bb9\", \"\\u54c1\\u8d28\", \"\\u67d0\\u5b9d\", \"\\u82f1\\u6587\", \"\\u53ea\\u4f1a\", \"\\u6ca1\\u6536\", \"\\u5c0f\\u76c6\\u53cb\", \"\\u6210\\u5c31\\u611f\", \"\\u4f5c\\u5de5\", \"\\u89c9\\u7740\", \"\\u54af\\u624b\", \"\\u4ea7\\u5730\", \"\\u5361\\u7247\", \"\\u53d1\\u97f3\", \"\\u8d60\\u9001\", \"\\u610f\\u4e49\", \"\\u56db\\u5c81\", \"\\u7ed9\\u529b\", \"\\u542c\\u5230\", \"\\u8bd5\\u7528\", \"\\u5b9d\\u8d1d\", \"\\u6d77\\u5916\", \"\\u4f53\\u9a8c\", \"\\u4e0d\\u597d\", \"\\u9001\\u4eba\", \"\\u5408\\u91d1\", \"\\u6027\\u4ef7\\u6bd4\", \"\\u4e0d\\u592a\\u597d\", \"\\u80fd\\u529b\", \"\\u5305\\u88c5\", \"\\u6211\\u5bb6\", \"\\u7455\\u75b5\", \"\\u953b\\u70bc\", \"\\u5b9d\\u5b9d\", \"\\u4e00\\u70b9\", \"\\u513f\\u5b50\", \"\\u4ef7\\u683c\", \"\\u559c\\u6b22\", \"\\u7cbe\\u7ec6\", \"\\u4e0d\\u9519\", \"\\u4e00\\u5c81\", \"\\u592a\\u5c0f\", \"\\u5a03\\u5a03\", \"\\u6a21\\u578b\", \"\\u7528\\u6599\", \"\\u7ec4\\u88c5\", \"\\u4e70\\u8d35\", \"\\u5371\\u9669\", \"\\u7b26\\u5408\", \"\\u597d\\u51e0\\u4e2a\", \"\\u529e\\u6cd5\", \"\\u624e\\u5b9e\", \"\\u4e0d\\u60f3\", \"\\u4e2d\\u6587\", \"\\u597d\\u7528\", \"\\u51e0\\u6b21\", \"\\u8fd8\\u539f\", \"\\u4e00\\u5f20\", \"\\u5f62\\u8c61\", \"\\u5a01\\u9707\", \"\\u6446\\u8bbe\", \"\\u867d\\u5c0f\", \"\\u6c89\\u624b\", \"\\u6807\\u7b7e\", \"\\u5e74\\u9f84\", \"\\u5b66\\u4f1a\", \"\\u987a\\u7545\", \"\\u8bf4\\u660e\\u4e66\", \"\\u5361\\u5f39\", \"\\u5927\\u70b9\", \"\\u4e00\\u6d41\", \"\\u5931\\u671b\", \"\\u5230\\u624b\", \"\\u597d\\u591a\", \"\\u7ec6\\u8282\", \"\\u903c\\u771f\", \"\\u611f\\u89c9\", \"\\u706b\\u8f66\", \"\\u66f4\\u597d\", \"\\u5305\\u88c5\\u76d2\", \"\\u53d8\\u5f62\", \"\\u6d3b\\u52a8\", \"\\u7cbe\\u81f4\", \"\\u5f88\\u5feb\", \"\\u505a\\u5de5\", \"\\u4e9a\\u9a6c\\u900a\", \"\\u4e0d\\u9519\", \"\\u8bbe\\u8ba1\", \"\\u67d4\\u8f6f\", \"\\u5c0f\\u5b69\\u5b50\", \"\\u6bdb\\u7ed2\", \"\\u8212\\u670d\", \"\\u4ecb\\u7ecd\", \"\\u888b\\u5b50\", \"\\u5f88\\u6f02\\u4eae\", \"\\u4e00\\u53ea\", \"\\u97f3\\u4e50\", \"\\u653e\\u5165\", \"\\u76d2\\u5185\", \"\\u5e7f\\u544a\\u5ba3\\u4f20\", \"\\u5206\\u5305\", \"\\u5305\\u88c5\\u7eb8\", \"\\u65f6\\u5f0f\", \"\\u6495\\u626f\", \"\\u5b98\\u65d7\", \"\\u5f3a\\u592a\\u591a\", \"\\u957f\\u5ea6\", \"\\u957f\\u4e9b\", \"\\u4e0d\\u884c\", \"\\u5389\\u5bb3\", \"\\u5973\\u670b\\u53cb\", \"\\u5e7c\\u513f\", \"\\u6bcf\\u6b21\", \"\\u624b\\u811a\", \"\\u5634\\u5df4\", \"\\u6bdb\\u53d1\", \"\\u6bdb\\u6bdb\", \"\\u673a\\u5668\\u4eba\", \"\\u6f02\\u4eae\", \"\\u5c0f\\u5154\\u5b50\", \"\\u9002\\u5408\", \"\\u7b80\\u5355\", \"\\u8d2d\\u4e70\", \"\\u7279\\u522b\", \"\\u63a8\\u8350\", \"\\u597d\\u770b\", \"\\u5934\\u53d1\", \"\\u513f\\u7ae5\\u8282\", \"\\u8fd9\\u662f\", \"\\u6700\\u68d2\", \"\\u8f6f\\u7ef5\\u7ef5\", \"\\u5154\\u7eb8\", \"\\u5c0f\\u5c3e\\u5df4\", \"\\u98de\\u673a\", \"\\u4ef7\\u94b1\", \"\\u6548\\u679c\", \"\\u72b9\\u8c6b\", \"\\u8f6c\\u5f2f\", \"\\u7ed3\\u6784\", \"\\u6a21\\u5177\", \"\\u4e00\\u5206\\u8d27\", \"\\u524d\\u8f6e\", \"\\u51cc\\u4e71\", \"\\u597d\\u597d\\u7b11\", \"\\u90a3\\u4e48\\u56de\\u4e8b\", \"\\u7ea0\\u7ed3\", \"\\u95fa\\u5bc6\", \"\\u90e8\\u4ef6\", \"\\u504f\\u8d35\", \"\\u60f3\\u60f3\", \"\\u4e16\\u754c\", \"\\u5c4f\\u5e55\", \"\\u5e73\\u677f\\u8f66\", \"\\u652f\\u6491\", \"\\u540c\\u7c7b\", \"\\u6750\\u8d28\", \"\\u6389\\u8272\", \"\\u9002\\u4e2d\", \"\\u5f88\\u5c0f\", \"\\u8d85\\u7ea7\", \"\\u4e24\\u4e2a\", \"\\u5546\\u573a\", \"\\u8fc7\\u7a0b\", \"\\u8fd9\\u6b3e\", \"\\u597d\\u597d\", \"\\u7b80\\u5355\", \"\\u8f6e\\u5b50\", \"\\u4e0d\\u597d\", \"\\u7cbe\\u81f4\", \"\\u4ef7\\u683c\", \"\\u4e1c\\u897f\", \"\\u62fc\\u56fe\", \"\\u5b50\\u5f39\", \"\\u8be6\\u7ec6\", \"\\u9057\\u61be\", \"\\u8033\\u6735\", \"\\u8fde\\u63a5\", \"\\u7cbe\\u7f8e\", \"\\u5154\\u5b50\", \"\\u719f\\u7ec3\", \"\\u684c\\u6e38\", \"\\u5f15\\u5bfc\", \"\\u4e1c\\u4e1c\", \"\\u7535\\u8bdd\", \"\\u5f88\\u96be\", \"\\u5c0f\\u5c0f\", \"\\u540e\\u6094\", \"\\u7eb8\\u677f\", \"\\u62fc\\u51fa\\u6765\", \"\\u5e7c\\u513f\\u56ed\", \"\\u4f1a\\u5458\", \"\\u5305\\u542b\", \"\\u82ad\\u6bd4\", \"\\u5149\\u6ed1\", \"\\u5f88\\u5dee\", \"\\u81ea\\u8c6a\\u611f\", \"\\u80cc\\u9762\", \"\\u5927\\u5757\", \"\\u591a\\u6708\", \"\\u5c3e\\u5df4\", \"\\u90e8\\u4f4d\", \"\\u662f\\u56e0\\u4e3a\", \"\\u5730\\u65b9\", \"\\u4e0b\\u6b21\", \"\\u771f\\u7684\", \"\\u5b8c\\u7f8e\", \"\\u4e2a\\u5934\", \"\\u8fd8\\u4f1a\", \"\\u8f68\\u9053\", \"\\u652f\\u6301\", \"\\u8bbe\\u8ba1\", \"\\u8d2d\\u4e70\", \"\\u5b98\\u65b9\", \"\\u96be\\u5ea6\", \"\\u8f66\\u53a2\", \"\\u56de\\u5bb6\", \"\\u7167\\u7247\", \"\\u5b9e\\u7269\", \"\\u5c0f\\u7537\\u5b69\", \"\\u60f3\\u8981\", \"\\u5361\\u6263\", \"\\u8d85\\u8fc7\", \"\\u60c5\\u51b5\", \"\\u54c7\\u54c7\", \"\\u51e0\\u79cd\", \"\\u592a\\u8f6f\", \"\\u534a\\u5c0f\\u65f6\", \"\\u7528\\u65f6\", \"\\u592a\\u597d\\u4e86\", \"\\u7ed2\\u6bdb\", \"\\u7a00\\u5c11\", \"\\u4e0a\\u6df1\", \"\\u7d2b\\u971e\", \"\\u7ec4\\u5408\", \"\\u6728\\u5c51\", \"\\u4eba\\u5458\", \"\\u5403\\u60ca\", \"\\u63d0\\u4f9b\", \"\\u7535\\u5f71\", \"\\u6280\\u5de7\", \"\\u4e0a\\u7f51\", \"\\u6307\\u5bfc\", \"\\u65b9\\u6cd5\", \"\\u4e00\\u6478\", \"\\u6709\\u65f6\\u5019\", \"\\u7cfb\\u5217\", \"\\u5ba2\\u670d\", \"\\u653e\\u5728\", \"\\u8f66\\u5b50\"], \"Total\": [689.0, 1133.0, 738.0, 521.0, 561.0, 346.0, 287.0, 97.0, 150.0, 242.0, 114.0, 183.0, 146.0, 136.0, 186.0, 89.0, 120.0, 138.0, 74.0, 158.0, 129.0, 84.0, 168.0, 97.0, 96.0, 77.0, 99.0, 101.0, 62.0, 91.0, 56.13145643598357, 54.16556832285469, 53.136354388020635, 38.59069228093549, 35.590471021257486, 29.494465335625723, 28.561956480446284, 23.11425134452148, 20.753890896187084, 20.49946148872101, 20.223977132355902, 19.184448871894848, 18.930276755789013, 18.897510396980202, 18.827505859550808, 22.864118862292816, 17.958765312144916, 17.94927795783106, 16.927052530261196, 15.937062743705818, 15.581141778456242, 15.240409866611351, 15.127129206724181, 14.865006802470804, 14.794978198418553, 14.469353909596911, 14.41273424623889, 14.12934577413379, 14.116767700919363, 14.082585464051077, 287.7469234389459, 346.15270552498305, 98.26774799480867, 131.02476348044328, 738.7756066978501, 521.8906700213486, 39.40784857537441, 27.295765046721588, 113.69029255719401, 1133.9067802483357, 139.52411717194798, 158.603429884911, 168.60713695107907, 49.459411966261584, 83.71591978568382, 41.41251071730571, 37.85370355058471, 689.4314571134074, 561.4774605836466, 52.61738951986937, 123.72990247109873, 53.601261231066, 74.05005118390528, 62.286502292926436, 122.25638167599432, 194.98545894265513, 84.59684335662504, 94.36953535542754, 150.3482533149, 120.13031262336236, 97.64159444795892, 96.80846159538663, 83.86746225141363, 65.4539325919093, 49.72977727273967, 48.37327409728647, 47.09751234316205, 45.598324414924086, 41.61431282305922, 40.60813266255561, 40.608132662560294, 40.60813266256057, 40.6081326625665, 40.608132662562674, 40.608132662562326, 40.608132662569695, 33.21811298120129, 32.24214910730895, 31.161611591117165, 25.69878611257788, 25.667637721455435, 24.95600983497314, 22.138379287841165, 20.104745384614723, 17.89152732683951, 17.74645133334844, 17.329931599486834, 17.31641452774241, 138.78328452309754, 55.616805928614006, 186.3470229884364, 242.45550862074157, 66.67936232135376, 194.98545894265513, 67.30397934776819, 134.49632882276373, 41.700108193980824, 1133.9067802483357, 561.4774605836466, 101.69940404577432, 51.59428906556103, 73.88007568374655, 58.71684073268388, 47.700346410566084, 37.463216794071535, 30.896709623626705, 30.573611471545842, 29.556536262041462, 27.390138209238568, 24.857095149396162, 23.086877270720684, 20.606938199399597, 20.60693819932856, 20.606938199378952, 20.606938199182277, 20.606938199434616, 20.197683242928584, 19.061327871209244, 18.50613085342523, 17.22345202360227, 15.75874545109754, 15.392989168182988, 13.278878725182807, 12.908748801946535, 12.883848701237794, 12.429451992536263, 12.32544178854642, 40.81315064127902, 12.045153635095287, 11.374369569840441, 11.196929279282955, 42.70395461282735, 74.07119726951586, 64.00053402779345, 37.648683163259065, 129.9891356546019, 83.68990751619025, 155.51876768536997, 57.522517249667345, 35.36848332582749, 60.79749800997977, 738.7756066978501, 65.87171393208945, 183.6288170067495, 242.45550862074157, 521.8906700213486, 41.599143718088726, 146.557476502261, 113.69029255719401, 43.34213803810103, 55.44018450875665, 89.9485478593241, 134.49632882276373, 65.60692856972577, 41.073256791665514, 38.82024604232967, 29.35921824611683, 27.205255601552185, 20.26116313702791, 20.131386295872574, 20.13138629586432, 20.1313862958854, 17.66992294933398, 16.119336417280753, 14.709324056242455, 13.650604102774038, 13.58203152507665, 11.640872156517048, 11.539755232835093, 11.429075004406293, 11.294295344662176, 10.597499275985431, 9.9295248215473, 9.82835613485202, 9.796932802202146, 9.770126899851194, 9.028299245885297, 9.026932680649265, 8.902201351476352, 8.77539667922605, 8.533873464466215, 8.253901055917932, 8.214480246744431, 26.01206971254115, 99.37109380203836, 20.200741545882895, 32.891405640605804, 16.771027115208593, 129.90910603129507, 689.4314571134074, 27.529790081444403, 1133.9067802483357, 41.40158701881961, 24.43067772136788, 561.4774605836466, 186.3470229884364, 136.5008239534221, 45.11792912176986, 60.79749800997977, 521.8906700213486, 122.25638167599432, 155.51876768536997, 146.557476502261, 131.02476348044328, 114.94838796590537, 77.59104315569942, 60.24733717931828, 58.07251570549871, 51.50361725992311, 43.34630660203318, 30.487503511964356, 27.97946433905422, 23.461106366014263, 23.316778306449784, 22.077329271350145, 21.16065578814269, 20.531497325244825, 19.955806669885565, 18.839210445061035, 16.7864229216106, 15.032520074753712, 14.672567641901862, 13.991010234692393, 13.99101023469675, 13.991010234702237, 12.967264529669064, 12.185760495105214, 12.077091800654262, 10.616633789392997, 10.36992981963217, 10.27225874543358, 9.927788260142657, 9.306205355524568, 9.240298931497218, 80.38369289169732, 32.66053849626915, 30.123102978694327, 60.74837468079731, 59.94580099008565, 19.776833144713656, 52.98941794745005, 33.119921882719616, 42.37986209158854, 183.6288170067495, 65.79444505475554, 38.4025036499046, 44.5105971447579, 561.4774605836466, 89.9485478593241, 158.603429884911, 168.60713695107907, 1133.9067802483357, 62.286502292926436, 738.7756066978501, 129.90910603129507, 89.67159910184148, 60.23778119781364, 31.40442311705975, 27.539698916610803, 23.55975290870591, 23.52356038204465, 21.04251100578836, 19.524223530089, 19.171330924235715, 18.912747018897257, 16.923857947505027, 14.729138203378348, 14.488285626200705, 14.227339927271146, 12.93643402109568, 10.895008192716524, 10.202328858005961, 9.853551538290345, 9.298555450019018, 9.211899570541934, 8.909580046401196, 8.909580046398808, 32.17716137167699, 7.7051795693324685, 7.589923685828857, 7.3088887685634285, 26.154765875318787, 7.110375302528469, 6.831556229642226, 6.703393286745486, 46.33078525238967, 21.73793026245712, 18.999784452528193, 50.21891646582639, 27.51476803662525, 146.557476502261, 59.40085184298381, 25.99047886642985, 21.88195110903781, 44.46333521502037, 83.71591978568382, 122.25638167599432, 45.11792912176986, 346.15270552498305, 242.45550862074157, 738.7756066978501, 123.72990247109873, 74.03204602843725, 46.65917019675564, 40.25664006819667, 36.38369211779866, 31.911222490206136, 24.536569337474717, 22.530061847476148, 19.958641516991687, 19.080354872266902, 18.852701246507216, 18.852701246517874, 18.852701246525275, 18.852701246521566, 18.85270124654182, 18.852701246547632, 18.852701246557146, 18.85270222533196, 18.85270222551963, 18.852702225587993, 18.852702225951003, 17.116799094204815, 13.652786055748662, 13.561944349044772, 12.227257628505281, 11.766850253988405, 10.300563471245125, 9.453193312564183, 8.682076067355405, 8.350795162942948, 7.95949479442189, 31.477015837845066, 21.36615955267196, 136.5008239534221, 91.2100463770186, 94.36953535542754, 138.78328452309754, 134.49632882276373, 50.05769218013183, 25.894214852392395, 22.728008755264497, 21.591249022032986, 20.21506027835625, 19.37423834814034, 19.374238348204713, 19.374238348341965, 17.866822377038467, 16.52155553619211, 15.305488715366543, 12.409012308134576, 11.98408120198909, 11.790365847034485, 11.460786609262025, 9.396701130541944, 9.029332732446067, 8.91058850236171, 8.910589246908398, 8.91058988442606, 8.541441637507564, 8.038842754806803, 8.001116730357296, 7.941416449603254, 7.784022681885243, 7.396983742165774, 7.368998200981512, 7.208987122895938, 7.053717946406714, 6.641974362323169, 62.07198189873787, 11.804361807509228, 15.46589851792528, 43.466048441542085, 84.59684335662504, 53.35948887875878, 19.60650866916802, 17.331031484898382, 26.880153644748464, 67.30397934776819, 91.2100463770186, 36.64658545618405, 60.74837468079731, 122.25638167599432, 168.60713695107907, 194.98545894265513, 97.88024073847943, 24.01705257814727, 16.720892045172597, 15.581862642778583, 14.971631025936581, 14.123751750739242, 11.98878632226795, 10.642396736953469, 9.514558067515978, 9.512591941974453, 9.435105674089822, 9.224601306586608, 8.417284090695281, 8.364321986098261, 8.362999671088767, 8.22104822029821, 7.816109138671215, 7.783815398923135, 7.291324095623415, 7.162290669343694, 6.917529749296084, 6.692738236325341, 6.669318721587325, 6.35902550774893, 6.058466281380249, 6.058908899957638, 6.0549165271359175, 6.027258651914987, 5.979078833245104, 5.856420790946149, 9.492327936899436, 50.60924539534502, 16.046227319061757, 101.69940404577432, 28.125111307415143, 18.552476346828165, 41.40158701881961, 56.79591187654408, 19.225332905783077, 123.72990247109873, 94.36953535542754, 10.86937992463982, 24.072428676439387, 18.348404033668483, 17.730908092763382, 12.943815752876603, 12.352848350877482, 11.55178305190618, 10.210374806108016, 9.868045887831313, 9.500167499187773, 9.330572977483124, 9.091144129741426, 8.891068171042573, 8.126818723867073, 8.104698176914928, 7.33824306926264, 7.147266492890124, 7.065253858820376, 7.0652538588204425, 7.065253858822309, 6.978732282309485, 6.72171185349415, 6.714522160953828, 6.600425345636444, 6.573524243281398, 6.511146287950197, 6.458056940776783, 6.074597566430169, 6.016217732029003, 5.978785662452539, 5.857324463053073, 9.942310087780635, 12.93863265920991, 25.57255787930204, 33.983616830468975, 20.91045034444801, 39.40784857537441], \"loglift\": [30.0, 29.0, 28.0, 27.0, 26.0, 25.0, 24.0, 23.0, 22.0, 21.0, 20.0, 19.0, 18.0, 17.0, 16.0, 15.0, 14.0, 13.0, 12.0, 11.0, 10.0, 9.0, 8.0, 7.0, 6.0, 5.0, 4.0, 3.0, 2.0, 1.0, 1.5671, 1.5666, 1.5663, 1.5608, 1.5591, 1.5546, 1.5537, 1.5472, 1.5434, 1.5429, 1.5424, 1.5402, 1.5397, 1.5396, 1.5395, 1.5377, 1.5374, 1.5374, 1.5347, 1.5318, 1.5307, 1.5295, 1.5291, 1.5282, 1.5279, 1.5267, 1.5265, 1.5254, 1.5253, 1.5252, 1.5156, 1.4521, 1.452, 1.4257, 1.2572, 1.2718, 1.3948, 1.4386, 1.2018, 0.8078, 1.1222, 1.0209, 0.9747, 1.2793, 1.1344, 1.3177, 1.3365, 0.4551, 0.5149, 1.2306, 0.9221, 1.2104, 1.0754, 1.0412, 0.6013, 0.3027, 0.6997, 0.5664, 1.8716, 1.8703, 1.8688, 1.8687, 1.8675, 1.8649, 1.8612, 1.8608, 1.8603, 1.8598, 1.8582, 1.8577, 1.8577, 1.8577, 1.8577, 1.8577, 1.8577, 1.8577, 1.8535, 1.8528, 1.8519, 1.8466, 1.8466, 1.8457, 1.8417, 1.8381, 1.8332, 1.8328, 1.8318, 1.8317, 1.6969, 1.7008, 1.5143, 1.4014, 1.5905, 1.2966, 1.5057, 1.1339, 1.6283, -0.5483, -0.1928, 0.9989, 1.4853, 2.0861, 2.0834, 2.0803, 2.0759, 2.0715, 2.0712, 2.0703, 2.0683, 2.0653, 2.0629, 2.0588, 2.0588, 2.0588, 2.0588, 2.0588, 2.058, 2.0557, 2.0545, 2.0513, 2.047, 2.0458, 2.0375, 2.0357, 2.0356, 2.0333, 2.0327, 2.0316, 2.0312, 2.0272, 2.0261, 1.9461, 1.8521, 1.8421, 1.8839, 1.5663, 1.6445, 1.5074, 1.6186, 1.7354, 1.5166, 0.3506, 1.4462, 0.9284, 0.7433, 0.092, 1.6185, 0.7832, 0.9236, 1.5103, 1.32, 0.8262, 0.3838, 2.12, 2.1129, 2.1118, 2.1054, 2.1033, 2.0933, 2.0931, 2.0931, 2.0931, 2.0876, 2.0832, 2.0785, 2.0742, 2.0739, 2.064, 2.0633, 2.0627, 2.0618, 2.057, 2.0518, 2.051, 2.0507, 2.0505, 2.0435, 2.0435, 2.0422, 2.0408, 2.0381, 2.0348, 2.0343, 2.0305, 1.9951, 2.022, 1.989, 2.0124, 1.8698, 1.738, 1.9507, 1.1056, 1.757, 1.8181, 0.6678, 0.9287, 1.0241, 1.457, 1.2851, 0.0906, 0.7303, 0.3943, 0.0772, 0.1542, 2.2311, 2.2279, 2.225, 2.2246, 2.2229, 2.22, 2.2125, 2.2102, 2.2048, 2.2046, 2.2027, 2.2012, 2.2, 2.1989, 2.1966, 2.1914, 2.1858, 2.1845, 2.1819, 2.1819, 2.1819, 2.1773, 2.1733, 2.1727, 2.1634, 2.1616, 2.1609, 2.1581, 2.1525, 2.1519, 2.1442, 2.074, 2.0744, 1.9938, 1.9769, 2.0968, 1.9497, 2.0198, 1.9681, 1.7048, 1.8544, 1.9494, 1.8956, 1.0239, 1.5893, 1.3808, 1.2543, -0.1592, 1.3368, -0.6754, 0.4548, 2.5952, 2.591, 2.5791, 2.5756, 2.5708, 2.5708, 2.5668, 2.5639, 2.5632, 2.5626, 2.5576, 2.5506, 2.5497, 2.5487, 2.543, 2.5312, 2.5261, 2.5232, 2.5182, 2.5174, 2.5143, 2.5143, 2.5019, 2.4996, 2.4979, 2.4936, 2.4923, 2.4904, 2.4855, 2.4831, 2.4088, 2.4159, 2.4225, 2.2933, 2.3376, 2.0909, 2.1022, 2.2723, 2.265, 1.9237, 1.5595, 1.2418, 1.6249, 0.2413, 0.4613, -0.4566, 0.7994, 2.7315, 2.7253, 2.7226, 2.7206, 2.7175, 2.7101, 2.7072, 2.7027, 2.7008, 2.7003, 2.7003, 2.7003, 2.7003, 2.7003, 2.7003, 2.7003, 2.7003, 2.7003, 2.7003, 2.7003, 2.696, 2.684, 2.6836, 2.677, 2.6744, 2.6644, 2.6572, 2.6493, 2.6454, 2.6405, 2.6264, 2.6147, 2.1432, 2.0631, 1.3139, 0.907, 0.7724, 2.8437, 2.8291, 2.8249, 2.823, 2.8206, 2.8188, 2.8188, 2.8188, 2.8154, 2.8117, 2.8078, 2.7955, 2.7931, 2.792, 2.79, 2.7742, 2.7706, 2.7693, 2.7693, 2.7693, 2.7653, 2.7591, 2.7586, 2.7578, 2.7557, 2.7499, 2.7495, 2.7469, 2.7443, 2.7367, 2.7337, 2.7117, 2.6857, 2.579, 2.3103, 2.3236, 2.5347, 2.5154, 2.2378, 1.6546, 1.2715, 1.8047, 1.2758, 0.7208, 0.2941, 0.0731, 2.9157, 2.8912, 2.8768, 2.8733, 2.8712, 2.868, 2.8578, 2.8491, 2.8399, 2.8399, 2.8392, 2.8372, 2.8285, 2.8279, 2.8279, 2.8261, 2.8208, 2.8204, 2.813, 2.8109, 2.8067, 2.8025, 2.8021, 2.7957, 2.789, 2.789, 2.7889, 2.7882, 2.787, 2.7839, 2.6714, 2.2484, 2.5062, 1.9642, 2.2937, 2.3424, 1.7065, 1.3493, 1.9931, 0.527, 0.7085, 2.4291, 3.1071, 3.0968, 3.0953, 3.0785, 3.0755, 3.0709, 3.0616, 3.0588, 3.0555, 3.0539, 3.0516, 3.0495, 3.0406, 3.0404, 3.0294, 3.0263, 3.0249, 3.0249, 3.0249, 3.0234, 3.0187, 3.0185, 3.0164, 3.0158, 3.0146, 3.0134, 3.005, 3.0036, 3.0026, 2.9996, 2.9027, 2.8505, 2.59, 2.2687, 1.9561, 1.2586], \"logprob\": [30.0, 29.0, 28.0, 27.0, 26.0, 25.0, 24.0, 23.0, 22.0, 21.0, 20.0, 19.0, 18.0, 17.0, 16.0, 15.0, 14.0, 13.0, 12.0, 11.0, 10.0, 9.0, 8.0, 7.0, 6.0, 5.0, 4.0, 3.0, 2.0, 1.0, -4.8557, -4.8918, -4.9113, -5.2366, -5.3192, -5.5117, -5.5446, -5.7627, -5.8743, -5.8871, -5.9012, -5.9561, -5.97, -5.9718, -5.9756, -5.7832, -6.0249, -6.0255, -6.0868, -6.15, -6.1737, -6.197, -6.2048, -6.2232, -6.2282, -6.2517, -6.2558, -6.2768, -6.2777, -6.2803, -3.2728, -3.1514, -4.4107, -4.1493, -2.5882, -2.9212, -5.3817, -5.7051, -4.5152, -2.6092, -4.39, -4.3631, -4.3481, -5.2699, -4.8886, -5.4091, -5.4802, -3.4594, -3.605, -5.2568, -4.7102, -5.2584, -5.0703, -5.2775, -5.043, -4.8748, -5.3128, -5.3368, -3.5659, -3.7916, -4.0003, -4.009, -4.1537, -4.4041, -4.6826, -4.7107, -4.7379, -4.7707, -4.8638, -4.8887, -4.8887, -4.8887, -4.8887, -4.8887, -4.8887, -4.8887, -5.0939, -5.1244, -5.1593, -5.3574, -5.3586, -5.3876, -5.5114, -5.6114, -5.7329, -5.7414, -5.7662, -5.7671, -3.8207, -4.7311, -3.7085, -3.5582, -4.66, -3.8809, -4.7355, -4.415, -5.0916, -3.9653, -4.3126, -4.8295, -5.0217, -4.0619, -4.2943, -4.5052, -4.7512, -4.9483, -4.9591, -4.9938, -5.072, -5.1719, -5.2482, -5.366, -5.366, -5.366, -5.366, -5.366, -5.3868, -5.4471, -5.4779, -5.5529, -5.6461, -5.6708, -5.8268, -5.8568, -5.8589, -5.8971, -5.906, -4.7098, -5.9305, -5.9919, -6.0087, -4.75, -4.2933, -4.4495, -4.9382, -4.0167, -4.3788, -3.8962, -4.7796, -5.1492, -4.8263, -3.4948, -4.8165, -4.3091, -4.2163, -4.101, -5.1038, -4.6798, -4.7934, -5.171, -5.1152, -5.1249, -5.1651, -4.1468, -4.6221, -4.6796, -4.9655, -5.0438, -5.3484, -5.3551, -5.3551, -5.3551, -5.491, -5.5872, -5.6835, -5.7624, -5.7677, -5.9319, -5.9413, -5.9516, -5.9643, -6.0328, -6.1031, -6.1142, -6.1177, -6.1206, -6.2066, -6.2067, -6.222, -6.2376, -6.2683, -6.3049, -6.3102, -5.1614, -3.8565, -5.4227, -4.9682, -5.6183, -3.7138, -2.1766, -5.1844, -2.3114, -4.9701, -5.4365, -3.4521, -4.2941, -4.51, -5.1842, -5.0578, -4.1023, -4.914, -5.0093, -5.3858, -5.4208, -3.4748, -3.8711, -4.1269, -4.1642, -4.2859, -4.4612, -4.8206, -4.9088, -5.0903, -5.0967, -5.1532, -5.1971, -5.2285, -5.258, -5.3179, -5.4385, -5.5544, -5.5799, -5.6301, -5.6301, -5.6301, -5.7107, -5.7768, -5.7864, -5.9246, -5.9499, -5.9601, -5.997, -6.0672, -6.0749, -3.9194, -4.8902, -4.9707, -4.3499, -4.3801, -5.3692, -4.5306, -4.9305, -4.7357, -3.5327, -4.4095, -4.8529, -4.7591, -3.096, -4.3618, -4.0033, -4.0686, -3.5762, -4.9819, -4.5208, -5.1287, -3.3591, -3.7612, -4.4243, -4.5591, -4.7201, -4.7216, -4.8371, -4.9149, -4.9339, -4.948, -5.0641, -5.21, -5.2274, -5.2466, -5.3474, -5.5309, -5.6017, -5.6394, -5.7023, -5.7125, -5.749, -5.749, -4.4772, -5.9089, -5.9257, -5.9677, -4.6941, -5.9985, -6.0434, -6.0647, -4.2058, -4.9555, -5.0835, -4.2408, -4.7981, -3.3721, -4.2639, -4.9204, -5.0998, -4.7321, -4.4635, -4.4025, -5.0163, -4.3622, -4.4983, -4.302, -4.8329, -3.4145, -3.8822, -4.0325, -4.1357, -4.2699, -4.5402, -4.6283, -4.7541, -4.8009, -4.8134, -4.8134, -4.8134, -4.8134, -4.8134, -4.8134, -4.8134, -4.8134, -4.8134, -4.8134, -4.8134, -4.9144, -5.1525, -5.1595, -5.2697, -5.3107, -5.4538, -5.5469, -5.6398, -5.6826, -5.7356, -4.3747, -4.7739, -3.3909, -3.8741, -4.5893, -4.6105, -4.7764, -3.6935, -4.3673, -4.5019, -4.5551, -4.6234, -4.6676, -4.6676, -4.6676, -4.7521, -4.834, -4.9144, -5.1365, -5.1737, -5.1911, -5.2215, -5.4359, -5.4794, -5.4938, -5.4938, -5.4938, -5.5402, -5.607, -5.6122, -5.6205, -5.6427, -5.6994, -5.7037, -5.7282, -5.7526, -5.8203, -3.5884, -5.2703, -5.0261, -4.0994, -3.7023, -4.1497, -4.9399, -5.0825, -4.9213, -4.5866, -4.6658, -5.0444, -5.0679, -4.9235, -5.0288, -5.1044, -2.951, -4.3804, -4.757, -4.831, -4.8731, -4.9346, -5.1087, -5.2365, -5.3577, -5.3579, -5.3668, -5.3914, -5.4916, -5.4986, -5.4987, -5.5176, -5.5734, -5.578, -5.6507, -5.6707, -5.7097, -5.7469, -5.7509, -5.8048, -5.86, -5.8599, -5.8607, -5.866, -5.8751, -5.8989, -5.5286, -4.2779, -5.1687, -3.8642, -4.8201, -5.1874, -5.0206, -5.0616, -5.5011, -5.1053, -5.1947, -5.6353, -4.1623, -4.4441, -4.4798, -4.8113, -4.861, -4.9327, -5.0654, -5.1024, -5.1436, -5.1632, -5.1915, -5.2159, -5.3146, -5.3176, -5.4279, -5.4574, -5.4703, -5.4703, -5.4703, -5.4841, -5.5264, -5.5276, -5.5469, -5.5516, -5.5624, -5.5716, -5.6414, -5.6524, -5.6596, -5.6831, -5.2509, -5.0397, -4.6189, -4.6559, -5.4541, -5.5178]}, \"token.table\": {\"Topic\": [4, 8, 7, 4, 4, 4, 5, 7, 6, 2, 10, 2, 6, 3, 4, 5, 8, 4, 4, 10, 10, 10, 5, 9, 1, 4, 5, 5, 8, 6, 2, 7, 1, 3, 5, 6, 4, 8, 9, 1, 2, 3, 5, 8, 3, 8, 1, 5, 9, 2, 6, 6, 2, 3, 6, 2, 5, 10, 7, 1, 5, 8, 1, 8, 1, 9, 2, 5, 5, 4, 2, 4, 5, 3, 2, 8, 1, 6, 8, 1, 5, 8, 9, 9, 8, 1, 4, 5, 8, 1, 1, 3, 6, 10, 7, 1, 2, 3, 6, 2, 8, 3, 6, 3, 4, 9, 1, 3, 5, 6, 9, 7, 10, 3, 3, 6, 10, 5, 6, 7, 3, 4, 3, 3, 2, 3, 2, 3, 5, 4, 5, 6, 8, 5, 2, 3, 4, 2, 4, 1, 10, 2, 4, 5, 10, 8, 9, 5, 1, 2, 3, 4, 5, 5, 10, 2, 5, 4, 8, 1, 2, 4, 5, 7, 5, 10, 4, 1, 1, 9, 3, 1, 3, 4, 2, 2, 3, 4, 9, 9, 6, 1, 4, 8, 3, 10, 6, 1, 10, 3, 6, 8, 5, 7, 6, 6, 10, 3, 2, 8, 8, 1, 3, 8, 6, 8, 4, 6, 6, 9, 1, 6, 1, 4, 2, 3, 2, 9, 5, 9, 7, 1, 2, 4, 5, 3, 5, 8, 10, 2, 10, 1, 8, 9, 1, 4, 5, 7, 1, 4, 7, 1, 9, 8, 1, 4, 1, 2, 10, 5, 2, 1, 2, 4, 8, 3, 9, 8, 8, 6, 7, 9, 7, 1, 1, 9, 7, 4, 8, 6, 4, 8, 9, 2, 4, 6, 7, 2, 9, 1, 2, 5, 10, 2, 8, 10, 1, 3, 5, 5, 1, 3, 4, 6, 5, 3, 5, 6, 4, 1, 3, 7, 6, 2, 3, 10, 2, 4, 9, 9, 4, 1, 3, 7, 10, 4, 4, 2, 4, 8, 1, 2, 3, 7, 10, 6, 4, 7, 2, 6, 9, 8, 2, 3, 5, 4, 7, 3, 4, 5, 10, 8, 3, 10, 2, 7, 4, 9, 1, 6, 1, 8, 1, 8, 4, 10, 5, 4, 2, 6, 8, 5, 10, 3, 7, 1, 2, 8, 5, 4, 7, 6, 10, 2, 9, 3, 8, 6, 7, 7, 7, 7, 3, 6, 1, 5, 3, 4, 1, 6, 2, 5, 9, 4, 5, 7, 8, 3, 5, 6, 10, 9, 5, 1, 1, 2, 4, 5, 3, 2, 7, 8, 4, 4, 1, 3, 1, 4, 2, 5, 6, 10, 2, 10, 2, 3, 9, 3, 4, 4, 7, 1, 3, 4, 3, 2, 4, 2, 5, 3, 2, 3, 9, 1, 5, 1, 3, 4, 3, 4, 2, 10, 4, 6, 3, 4, 2, 3, 2, 1, 2, 7, 8, 3, 1, 1, 5, 9, 1, 4, 6, 8, 1, 10, 1, 10, 8, 4, 9, 10, 6, 5, 6, 10, 8, 5, 2, 5, 9, 9, 2, 5, 3, 9, 7, 9, 5, 3, 6, 7, 5, 1, 3, 5, 6, 9, 2, 2, 5, 9, 5, 6, 3, 1, 3, 4, 1, 2, 7, 9, 5, 5, 2, 3, 3, 1, 8, 10, 10, 1, 10, 1, 3, 6, 8, 9, 8, 2, 7, 8, 8, 6, 8, 4, 9, 6, 8, 2, 8, 2, 9, 2, 3, 3, 3, 5, 3, 4, 1, 3, 8, 2, 4, 7, 1, 6, 9, 8, 8, 9, 1, 3, 1, 2, 5, 7, 7, 8, 10, 7, 6, 1, 2, 3, 4, 8, 3, 4], \"Freq\": [0.9449463796268683, 0.9577829362633922, 0.9519685988560117, 0.9157177331095468, 0.9788706634822646, 0.7697689796734497, 0.16934917552815895, 0.05388382857714148, 0.8821515288577989, 0.10058024655950197, 0.8046419724760158, 0.9728085945570841, 0.8950690707441715, 0.27793667151913326, 0.11117466860765331, 0.5225209424559706, 0.07782226802535731, 0.8480838275836972, 0.8354586043684522, 0.14529714858581777, 0.849226385900892, 0.8310869424457685, 0.3115997237593887, 0.6855193922706552, 0.9471133067268089, 0.18115984757592413, 0.8152193140916586, 0.7901445964968821, 0.19753614912422052, 0.950496886286863, 0.9934290867372011, 0.9347542091217904, 0.7241711761319811, 0.17461323686173003, 0.05414363933697055, 0.04737568441984923, 0.9517772500265621, 0.9463316730165557, 0.8672461534232151, 0.276943728485319, 0.559016044535181, 0.035900112951800615, 0.061543050774515336, 0.061543050774515336, 0.39355699316602016, 0.5809650851498394, 0.9418091889250245, 0.43120928173923934, 0.5390116021740492, 0.992283464283692, 0.9662979017118708, 0.9777431488456025, 0.6227946762645024, 0.25984148744810365, 0.1154851055324905, 0.9930648537997028, 0.9254072030800354, 0.909032325313188, 0.9714450773396163, 0.5456471277766466, 0.37364966358618196, 0.07710231153365658, 0.971363223716791, 0.9684318141200693, 0.9394789103871322, 0.8377208182406539, 0.13278844489656816, 0.863124891827693, 0.9291680716353803, 0.9620868211335788, 0.01006328864601355, 0.8755061122031788, 0.11069617510614904, 0.9518524203939916, 0.9853251449581756, 0.8814548442865898, 0.8782251161057566, 0.09533364747200647, 0.026000085674183583, 0.5737580837062177, 0.4224372704210614, 0.9679686521109832, 0.8996421149553302, 0.9396379638128992, 0.9806837130069997, 0.9627022341032943, 0.9377546526574728, 0.9512020109810927, 0.8978082646145804, 0.9525064213154965, 0.18592947778931143, 0.7968406190970491, 0.9276126620698857, 0.8997794017658415, 0.9547703411107258, 0.748088150041883, 0.24262318379736747, 0.13800761911455772, 0.8280457146873463, 0.9485789238209328, 0.8860012402968322, 0.9313987053299625, 0.9517390563102622, 0.970977180594629, 0.8861026625414581, 0.8673616475029327, 0.09802383031928147, 0.310408796011058, 0.5881429819156888, 0.7311962228720814, 0.27419858357703053, 0.9547703411097, 0.8636965679904648, 0.952922291829433, 0.9443203601354393, 0.8438373144475768, 0.9120346725483173, 0.9026929426701344, 0.9504569105131233, 0.9521866047645419, 0.049503133225513175, 0.8910563980592372, 0.8931020059671569, 0.9857562526242757, 0.9868783683917943, 0.9877915650137344, 0.11708517502259866, 0.8664302951672301, 0.9108153007004623, 0.15743308427378827, 0.29237572793703537, 0.5172801340424472, 0.02249044061054118, 0.9554540543241797, 0.9852379438374669, 0.24559285945441464, 0.7367785783632439, 0.697623165185027, 0.3005145942335501, 0.9560480360105144, 0.9127523955102805, 0.8450683065173868, 0.1438414138752999, 0.8595916179099735, 0.10112842563646747, 0.9033458536117226, 0.8514729280770577, 0.967096647470519, 0.6307153328305942, 0.22218381042895935, 0.12900995444262156, 0.014334439382513506, 0.9291680716347265, 0.9451502921382493, 0.8799772488292449, 0.950170418066986, 0.9902217108871886, 0.2550173559386782, 0.7140485966282989, 0.461237210245324, 0.08819067117501414, 0.35805412497055744, 0.09083639131026457, 0.9520592356910922, 0.9734957274557935, 0.9587777406019214, 0.9374406631772565, 0.9798427386740985, 0.47422165283277457, 0.5137401239021724, 0.9670865653219941, 0.31880148164430616, 0.5161547798050671, 0.1518102293544315, 0.9850243627892553, 0.9850243627893689, 0.9310724460847244, 0.049003812951827604, 0.8295645315323236, 0.8257752154950166, 0.8782771887269125, 0.9412022931216795, 0.8816892873741552, 0.12161231549988348, 0.973595933181978, 0.8394817803377852, 0.9925104591802948, 0.946267024678446, 0.8613456553967668, 0.1726713664881683, 0.8201889908187995, 0.9654666164821067, 0.9923825852616339, 0.9585646176844582, 0.9389019505810647, 0.842114816616826, 0.10526435207710325, 0.9296021004135193, 0.6834662741457258, 0.2971592496285764, 0.8978081895959535, 0.8751599762369974, 0.08141023034762766, 0.04070511517381383, 0.9137337033103029, 0.9788705364936573, 0.921175343192019, 0.9678922762117413, 0.9794517465085755, 0.9576528978800393, 0.9508577308303469, 0.9222754127382989, 0.32490539514670463, 0.6744687890322217, 0.36058434523683447, 0.6250128650771798, 0.4266649780986367, 0.5333312226232958, 0.36800627337833614, 0.6440109784120882, 0.954770291540159, 0.34373597080705554, 0.12645209288756964, 0.23153200106174723, 0.29742957059470604, 0.024880668305381826, 0.9081443931464367, 0.04976133661076365, 0.97143587123755, 0.5590929327735655, 0.4119632136226272, 0.7727133526977308, 0.07244187681541225, 0.1448837536308245, 0.9254895498464336, 0.9739430096627264, 0.09360596578292839, 0.8892566749378197, 0.8548002455788984, 0.1373786108966087, 0.9858726549577285, 0.9803250004658818, 0.9565945611185814, 0.9806837130000523, 0.9452324893182752, 0.9436188424811314, 0.9466129605526648, 0.9976836889872568, 0.9522339495620005, 0.9313142394209888, 0.9627229937155019, 0.6076970816433509, 0.16205255510489358, 0.17555693469696804, 0.05401751836829786, 0.9705469005846163, 0.836249218223852, 0.9499255949156884, 0.8322944538136068, 0.908479800764259, 0.8996293636895171, 0.9600451040438209, 0.9547703411105379, 0.9786143704981608, 0.9784813792424867, 0.9538843878257044, 0.9547702915306547, 0.8943996033729765, 0.0596266402248651, 0.9133762547469821, 0.2300646218956181, 0.7592132522555397, 0.9435407976723114, 0.11082068918778121, 0.5097751702637935, 0.3767903432384561, 0.9764731294985093, 0.9579379945135433, 0.9564433331591282, 0.963674720082219, 0.2453320021913089, 0.7548676990501813, 0.9645709884826071, 0.98172748017579, 0.8992779551234097, 0.8814563785274612, 0.6902822648239421, 0.29850043884278576, 0.9803459240659588, 0.964326680501557, 0.9675622068179831, 0.2661072019713599, 0.12964197019117532, 0.600447019832812, 0.954161557927929, 0.22798277252003082, 0.6839483175600924, 0.09119310900801234, 0.8986541288097545, 0.6860744065792658, 0.3078539003881321, 0.9708206767441244, 0.9454109133762124, 0.3584661626516476, 0.6332902206845775, 0.823099793084454, 0.9739891247998502, 0.9063877840830601, 0.8993019028905062, 0.9910069618562617, 0.9571469463900125, 0.3129209370632001, 0.6258418741264002, 0.06953798601404447, 0.8362902238493971, 0.8521537321578252, 0.952338805090551, 0.9850243627890273, 0.08471444846462262, 0.8471444846462263, 0.20074897386663987, 0.47584941953573895, 0.17844353232590213, 0.14126779642467252, 0.9214967280191284, 0.8684419471509025, 0.9437998814763922, 0.9547703411089239, 0.3120882238764859, 0.26007351989707156, 0.4161176318353145, 0.8506152422860208, 0.23848146880806287, 0.5923571967168013, 0.16924491334765754, 0.9532264574122613, 0.9547703411114524, 0.23911488837578115, 0.3347608437260936, 0.04782297767515623, 0.28693786605093735, 0.9800405775308674, 0.9655190944780616, 0.8536320689658019, 0.9850243627891049, 0.9547703411094057, 0.10534823561169959, 0.7374376492818971, 0.2693293969678038, 0.731036934626896, 0.975635384910193, 0.9398933141120936, 0.879257275219057, 0.10990715940238213, 0.2318637586379389, 0.7728791954597963, 0.9840097267467951, 0.9907490171700275, 0.7913648532154975, 0.14388451876645408, 0.07194225938322704, 0.9649934563726773, 0.893585553249209, 0.9876354239248126, 0.8794528020680011, 0.9186104653701711, 0.11277229735341081, 0.8860680506339421, 0.9741130752996123, 0.8862368074539132, 0.986059469056943, 0.9012603587066698, 0.062155886807356536, 0.9616921999432219, 0.9461143771223243, 0.9705469005872379, 0.9597945040797078, 0.9871220969239821, 0.9348296071220521, 0.9214385980883063, 0.9579926035667097, 0.9687842784179738, 0.9132303607942299, 0.8979098855768792, 0.9208906936361478, 0.9531512505503378, 0.9705469005862656, 0.9624575913413054, 0.6450386036281057, 0.3464096204669457, 0.9766970209558977, 0.8573036847876367, 0.12247195496966239, 0.9877647203305783, 0.9917494452711536, 0.8895379455359735, 0.09530763702171145, 0.08417387705510791, 0.3030259573983885, 0.606051914796777, 0.9270836536230167, 0.9459188683421093, 0.9792963932064624, 0.9846934002469994, 0.703189579293516, 0.09502561882344811, 0.05701537129406886, 0.13303586635282735, 0.97265063899991, 0.8358355287426149, 0.15852053131325455, 0.967039092396866, 0.9556976924163352, 0.9738696934331417, 0.9383245414865002, 0.05907969335285372, 0.9200709082934857, 0.9305593984575713, 0.23435971992993632, 0.755159097552017, 0.9804028752004519, 0.9539068049299942, 0.9450505160110042, 0.9290720188785317, 0.749857201078657, 0.23995430434517026, 0.9504253288591554, 0.7830304104436288, 0.20250786476990398, 0.9186548669576449, 0.9547703411109127, 0.2525244121038005, 0.4689739081927723, 0.2885993281186291, 0.970546900596501, 0.985024362789206, 0.9437998814757909, 0.6783696535778483, 0.3101118416355878, 0.9407019494006619, 0.41298177107405704, 0.19665798622574146, 0.38348307314019586, 0.9832353178808613, 0.9815314406054367, 0.792524830758247, 0.13208747179304114, 0.07925248307582469, 0.7812434811604314, 0.21874817472492078, 0.9905909457931225, 0.8492263859011163, 0.9437998814767791, 0.9731500958652152, 0.07688738428360214, 0.9226486114032257, 0.43837246753488623, 0.5537336432019616, 0.9614743699877201, 0.27409261362133275, 0.01096370454485331, 0.5043304090632522, 0.20831038635221288, 0.9811704505187164, 0.9834092945579503, 0.5779743391384548, 0.4013710688461491, 0.9175240682677461, 0.37625847722133543, 0.24538596340521876, 0.25356549551872604, 0.11451344958910209, 0.39104418287752973, 0.5865662743162946, 0.9517937514863279, 0.8597550038148775, 0.9366100407301314, 0.9116397004523291, 0.8955862662365589, 0.8926297542613372, 0.9762411383992458, 0.2588665967902037, 0.736774160095195, 0.8492263859011243, 0.9329651125937473, 0.906546328766149, 0.963329856157373, 0.9864141476885699, 0.9351018586917254, 0.8252310907059451, 0.2123650138490257, 0.7550756047965358, 0.978998322753417, 0.8252913803228913, 0.9894542830739556, 0.8964940489431588, 0.9521038319474235, 0.9853177919393274, 0.8979098855766385, 0.978131851682492, 0.9291680716350909, 0.5172557217116481, 0.04849272391046701, 0.16972453368663454, 0.16164241303489002, 0.08890332716918951, 0.9916488540147904, 0.9896567485395803, 0.8657728564095003, 0.9568867472366271, 0.0764678991788384, 0.8793808405566416, 0.9705469005896113, 0.7338701800979368, 0.1341277091562809, 0.13029548889467285, 0.36028576247561794, 0.28610928196593194, 0.24372272167468273, 0.10596640072812293, 0.9920107010451281, 0.9419181445243904, 0.9850243627891976, 0.9812383475835137, 0.9744696001608779, 0.4137270211425571, 0.5792178295995799, 0.9473517178270241, 0.9810117526827304, 0.8373966403388331, 0.15225393460706058, 0.28171041667186925, 0.21128281250390193, 0.12324830729394279, 0.17606901041991826, 0.21128281250390193, 0.917884301232392, 0.3001643908448712, 0.32745206273985944, 0.35473973463484776, 0.9806837130102581, 0.23079988075063226, 0.6923996422518969, 0.6763025771759003, 0.28984396164681436, 0.917851535594544, 0.9726162659033926, 0.44642601967955725, 0.5208303562928168, 0.9850243627892487, 0.9204353226698123, 0.9809617483143094, 0.9289659226312063, 0.9880877804252146, 0.2168625622693748, 0.7673598357224032, 0.5592335394199771, 0.4276491772035119, 0.9382599479503391, 0.12931676731758976, 0.8405589875643336, 0.11721540967005187, 0.32966833969702086, 0.5494472328283682, 0.21806471317560538, 0.7632264961146189, 0.9626576965720945, 0.8978081253613086, 0.8748778746648044, 0.8537637882390299, 0.9622063344099427, 0.965448839353968, 0.9231259439671348, 0.2695987196256535, 0.7189299190017427, 0.9547702915088084, 0.9547702915271925, 0.8707721015956396, 0.9554499177937532, 0.9433786803495365, 0.9577379300267911, 0.1736124867875992, 0.09645138154866621, 0.5529879208790196, 0.1736124867875992, 0.9514842450019281, 0.7068439935546796, 0.2827375974218718], \"Term\": [\"\\u4e00\\u5171\", \"\\u4e00\\u5206\\u8d27\", \"\\u4e00\\u53ea\", \"\\u4e00\\u5806\", \"\\u4e00\\u5957\", \"\\u4e00\\u5c81\", \"\\u4e00\\u5c81\", \"\\u4e00\\u5c81\", \"\\u4e00\\u5f20\", \"\\u4e00\\u6478\", \"\\u4e00\\u6478\", \"\\u4e00\\u6b3e\", \"\\u4e00\\u6d41\", \"\\u4e00\\u70b9\", \"\\u4e00\\u70b9\", \"\\u4e00\\u70b9\", \"\\u4e00\\u70b9\", \"\\u4e00\\u9635\\u5b50\", \"\\u4e09\\u5c81\", \"\\u4e09\\u5c81\", \"\\u4e0a\\u6df1\", \"\\u4e0a\\u7f51\", \"\\u4e0b\\u6b21\", \"\\u4e0b\\u6b21\", \"\\u4e0d\\u50cf\", \"\\u4e0d\\u592a\\u597d\", \"\\u4e0d\\u592a\\u597d\", \"\\u4e0d\\u597d\", \"\\u4e0d\\u597d\", \"\\u4e0d\\u60f3\", \"\\u4e0d\\u7528\", \"\\u4e0d\\u884c\", \"\\u4e0d\\u9519\", \"\\u4e0d\\u9519\", \"\\u4e0d\\u9519\", \"\\u4e0d\\u9519\", \"\\u4e11\\u840c\", \"\\u4e16\\u754c\", \"\\u4e1c\\u4e1c\", \"\\u4e1c\\u897f\", \"\\u4e1c\\u897f\", \"\\u4e1c\\u897f\", \"\\u4e1c\\u897f\", \"\\u4e1c\\u897f\", \"\\u4e24\\u4e2a\", \"\\u4e24\\u4e2a\", \"\\u4e24\\u5929\", \"\\u4e2a\\u5934\", \"\\u4e2a\\u5934\", \"\\u4e2d\\u56fd\", \"\\u4e2d\\u6587\", \"\\u4e70\\u8d35\", \"\\u4e9a\\u9a6c\\u900a\", \"\\u4e9a\\u9a6c\\u900a\", \"\\u4e9a\\u9a6c\\u900a\", \"\\u4ea7\\u54c1\", \"\\u4ea7\\u5730\", \"\\u4eba\\u5458\", \"\\u4ecb\\u7ecd\", \"\\u4ef7\\u683c\", \"\\u4ef7\\u683c\", \"\\u4ef7\\u683c\", \"\\u4ef7\\u683c\\u4fbf\\u5b9c\", \"\\u4ef7\\u94b1\", \"\\u4f18\\u60e0\", \"\\u4f1a\\u5458\", \"\\u4f53\\u9a8c\", \"\\u4f53\\u9a8c\", \"\\u4f5c\\u5de5\", \"\\u4f84\\u5b50\", \"\\u4fbf\\u5b9c\", \"\\u4fbf\\u5b9c\", \"\\u4fbf\\u5b9c\", \"\\u4fdd\\u9c9c\\u819c\", \"\\u503c\\u5f97\", \"\\u504f\\u8d35\", \"\\u505a\\u5de5\", \"\\u505a\\u5de5\", \"\\u505a\\u5de5\", \"\\u513f\\u5b50\", \"\\u513f\\u5b50\", \"\\u513f\\u7ae5\\u8282\", \"\\u5149\\u6ed1\", \"\\u5154\\u5b50\", \"\\u5154\\u7eb8\", \"\\u516c\\u53f8\", \"\\u5174\\u8da3\", \"\\u5185\\u5bb9\", \"\\u51cc\\u4e71\", \"\\u51d1\\u5355\", \"\\u51e0\\u5929\", \"\\u51e0\\u5929\", \"\\u51e0\\u6b21\", \"\\u51e0\\u79cd\", \"\\u5206\\u5305\", \"\\u5212\\u7b97\", \"\\u5212\\u7b97\", \"\\u5230\\u624b\", \"\\u5230\\u624b\", \"\\u5236\\u9020\", \"\\u524d\\u8f6e\", \"\\u526a\\u5200\", \"\\u529e\\u6cd5\", \"\\u529f\\u80fd\", \"\\u52a8\\u529b\", \"\\u5305\\u542b\", \"\\u5305\\u88c5\", \"\\u5305\\u88c5\", \"\\u5305\\u88c5\", \"\\u5305\\u88c5\\u76d2\", \"\\u5305\\u88c5\\u76d2\", \"\\u5305\\u88c5\\u7eb8\", \"\\u534a\\u5c0f\\u65f6\", \"\\u534a\\u5c81\", \"\\u5356\\u5bb6\", \"\\u5361\\u5f39\", \"\\u5361\\u6263\", \"\\u5361\\u7247\", \"\\u5371\\u9669\", \"\\u5389\\u5bb3\", \"\\u539a\\u5b9e\", \"\\u539a\\u5b9e\", \"\\u539f\\u56e0\", \"\\u53c2\\u8003\", \"\\u53d1\\u51fa\", \"\\u53d1\\u73b0\", \"\\u53d1\\u8d27\", \"\\u53d1\\u8d27\", \"\\u53d1\\u97f3\", \"\\u53d8\\u5f62\", \"\\u53d8\\u5f62\", \"\\u53d8\\u5f62\", \"\\u53d8\\u5f62\", \"\\u53ea\\u4f1a\", \"\\u53ea\\u80fd\", \"\\u53ef\\u60dc\", \"\\u53ef\\u60dc\", \"\\u53ef\\u7231\", \"\\u53ef\\u7231\", \"\\u53ef\\u73a9\\u6027\", \"\\u5403\\u60ca\", \"\\u5408\\u9002\", \"\\u5408\\u9002\", \"\\u5408\\u91d1\", \"\\u5408\\u91d1\", \"\\u540c\\u7c7b\", \"\\u540e\\u6094\", \"\\u542c\\u5230\", \"\\u5473\\u9053\", \"\\u5473\\u9053\", \"\\u5473\\u9053\", \"\\u5473\\u9053\", \"\\u54af\\u624b\", \"\\u54c1\\u8d28\", \"\\u54c7\\u54c7\", \"\\u552e\\u540e\", \"\\u5546\\u54c1\", \"\\u5546\\u573a\", \"\\u5546\\u573a\", \"\\u559c\\u6b22\", \"\\u559c\\u6b22\", \"\\u559c\\u6b22\", \"\\u559c\\u6b22\", \"\\u5634\\u5df4\", \"\\u56db\\u5c81\", \"\\u56de\\u5bb6\", \"\\u56fa\\u5b9a\", \"\\u56fe\\u7247\", \"\\u5730\\u65b9\", \"\\u5730\\u65b9\", \"\\u5783\\u573e\", \"\\u5851\\u6599\", \"\\u5851\\u6599\", \"\\u5851\\u6599\", \"\\u590d\\u5236\", \"\\u590d\\u5236\\u5230\", \"\\u5916\\u9762\", \"\\u5916\\u9762\", \"\\u591a\\u6708\", \"\\u5927\\u5757\", \"\\u5927\\u70b9\", \"\\u5927\\u724c\", \"\\u5929\\u5929\", \"\\u5929\\u5929\", \"\\u5929\\u732b\", \"\\u592a\\u597d\\u4e86\", \"\\u592a\\u5c0f\", \"\\u592a\\u8d35\", \"\\u592a\\u8f6f\", \"\\u5931\\u671b\", \"\\u5931\\u671b\", \"\\u5934\\u53d1\", \"\\u5973\\u513f\", \"\\u5973\\u670b\\u53cb\", \"\\u597d\\u51e0\\u4e2a\", \"\\u597d\\u591a\", \"\\u597d\\u591a\", \"\\u597d\\u5927\", \"\\u597d\\u597d\", \"\\u597d\\u597d\", \"\\u597d\\u597d\\u7b11\", \"\\u597d\\u73a9\", \"\\u597d\\u73a9\", \"\\u597d\\u73a9\", \"\\u597d\\u7528\", \"\\u597d\\u770b\", \"\\u59d1\\u5a18\", \"\\u5a01\\u9707\", \"\\u5a03\\u5a03\", \"\\u5b50\\u5f39\", \"\\u5b66\\u4e60\", \"\\u5b66\\u4f1a\", \"\\u5b69\\u5b50\", \"\\u5b69\\u5b50\", \"\\u5b89\\u88c5\", \"\\u5b89\\u88c5\", \"\\u5b8c\\u7f8e\", \"\\u5b8c\\u7f8e\", \"\\u5b98\\u65b9\", \"\\u5b98\\u65b9\", \"\\u5b98\\u65d7\", \"\\u5b9d\\u5b9d\", \"\\u5b9d\\u5b9d\", \"\\u5b9d\\u5b9d\", \"\\u5b9d\\u5b9d\", \"\\u5b9d\\u8d1d\", \"\\u5b9d\\u8d1d\", \"\\u5b9d\\u8d1d\", \"\\u5b9e\\u7269\", \"\\u5ba2\\u670d\", \"\\u5ba2\\u670d\", \"\\u5bb6\\u91cc\", \"\\u5bb6\\u91cc\", \"\\u5bb6\\u91cc\", \"\\u5bf9\\u5f97\\u8d77\", \"\\u5c0f\\u4f84\\u5973\", \"\\u5c0f\\u5154\\u5b50\", \"\\u5c0f\\u5154\\u5b50\", \"\\u5c0f\\u5b69\", \"\\u5c0f\\u5b69\", \"\\u5c0f\\u5b69\\u5b50\", \"\\u5c0f\\u5bb6\\u4f19\", \"\\u5c0f\\u5c0f\", \"\\u5c0f\\u5c3e\\u5df4\", \"\\u5c0f\\u5de7\", \"\\u5c0f\\u624b\", \"\\u5c0f\\u65f6\", \"\\u5c0f\\u670b\\u53cb\", \"\\u5c0f\\u7537\\u5b69\", \"\\u5c0f\\u76c6\\u53cb\", \"\\u5c0f\\u8d35\", \"\\u5c0f\\u8f66\", \"\\u5c0f\\u8f66\", \"\\u5c0f\\u8f66\", \"\\u5c0f\\u8f66\", \"\\u5c11\\u5c11\", \"\\u5c3e\\u5df4\", \"\\u5c4f\\u5e55\", \"\\u5e73\\u677f\\u8f66\", \"\\u5e74\\u9f84\", \"\\u5e7c\\u513f\", \"\\u5e7c\\u513f\\u56ed\", \"\\u5e7f\\u544a\\u5ba3\\u4f20\", \"\\u5f00\\u5fc3\", \"\\u5f02\\u5473\", \"\\u5f15\\u5bfc\", \"\\u5f3a\\u592a\\u591a\", \"\\u5f62\\u72b6\", \"\\u5f62\\u72b6\", \"\\u5f62\\u8c61\", \"\\u5f88\\u5c0f\", \"\\u5f88\\u5c0f\", \"\\u5f88\\u5dee\", \"\\u5f88\\u5feb\", \"\\u5f88\\u5feb\", \"\\u5f88\\u5feb\", \"\\u5f88\\u6f02\\u4eae\", \"\\u5f88\\u8f6f\", \"\\u5f88\\u96be\", \"\\u6000\\u7591\", \"\\u6027\\u4ef7\\u6bd4\", \"\\u6027\\u4ef7\\u6bd4\", \"\\u60c5\\u51b5\", \"\\u60ca\\u559c\", \"\\u60f3\\u60f3\", \"\\u60f3\\u8981\", \"\\u60f3\\u8c61\", \"\\u60f3\\u8c61\", \"\\u6109\\u5feb\", \"\\u610f\\u4e49\", \"\\u611f\\u5174\\u8da3\", \"\\u611f\\u89c9\", \"\\u611f\\u89c9\", \"\\u611f\\u89c9\", \"\\u6210\\u5c31\\u611f\", \"\\u6211\\u5bb6\", \"\\u6211\\u5bb6\", \"\\u6211\\u5bb6\", \"\\u624b\\u5de5\", \"\\u624b\\u611f\", \"\\u624b\\u611f\", \"\\u624b\\u811a\", \"\\u624e\\u5b9e\", \"\\u6253\\u5f00\", \"\\u6253\\u5f00\", \"\\u6280\\u5de7\", \"\\u62c5\\u5fc3\", \"\\u62c6\\u5378\", \"\\u62fc\\u51fa\\u6765\", \"\\u62fc\\u56fe\", \"\\u62fc\\u5b8c\", \"\\u62ff\\u5230\", \"\\u62ff\\u5230\", \"\\u62ff\\u5230\", \"\\u6307\\u5bfc\", \"\\u632b\\u8d25\", \"\\u633a\\u597d\\u73a9\", \"\\u6362\\u94b1\", \"\\u6389\\u8272\", \"\\u6389\\u8272\", \"\\u63a8\\u8350\", \"\\u63a8\\u8350\", \"\\u63a8\\u8350\", \"\\u63a8\\u8350\", \"\\u63d0\\u4f9b\", \"\\u6446\\u8bbe\", \"\\u6478\\u6478\", \"\\u6495\\u626f\", \"\\u652f\\u6301\", \"\\u652f\\u6301\", \"\\u652f\\u6301\", \"\\u652f\\u6491\", \"\\u6536\\u5230\", \"\\u6536\\u5230\", \"\\u6536\\u5230\", \"\\u6536\\u7eb3\", \"\\u653e\\u5165\", \"\\u653e\\u5728\", \"\\u653e\\u5728\", \"\\u653e\\u5728\", \"\\u653e\\u5728\", \"\\u6548\\u679c\", \"\\u6574\\u4f53\", \"\\u65b9\\u6cd5\", \"\\u65e2\\u80fd\", \"\\u65f6\\u5f0f\", \"\\u662f\\u56e0\\u4e3a\", \"\\u662f\\u56e0\\u4e3a\", \"\\u66f4\\u597d\", \"\\u66f4\\u597d\", \"\\u6700\\u65e9\", \"\\u6700\\u68d2\", \"\\u6709\\u610f\\u601d\", \"\\u6709\\u610f\\u601d\", \"\\u6709\\u65f6\\u5019\", \"\\u6709\\u65f6\\u5019\", \"\\u6709\\u8da3\", \"\\u670b\\u53cb\", \"\\u670d\\u52a1\", \"\\u670d\\u52a1\", \"\\u670d\\u52a1\", \"\\u671f\\u5f85\", \"\\u6728\\u5c51\", \"\\u672c\\u6765\", \"\\u673a\\u5668\\u4eba\", \"\\u6750\\u6599\", \"\\u6750\\u8d28\", \"\\u6750\\u8d28\", \"\\u67d0\\u5b9d\", \"\\u67d4\\u548c\", \"\\u67d4\\u8f6f\", \"\\u6807\\u7b7e\", \"\\u6807\\u7b7e\", \"\\u6837\\u5b50\", \"\\u684c\\u6e38\", \"\\u697c\\u4e0a\", \"\\u6a21\\u5177\", \"\\u6a21\\u578b\", \"\\u6bcf\\u6b21\", \"\\u6bdb\\u53d1\", \"\\u6bdb\\u6bdb\", \"\\u6bdb\\u7ed2\", \"\\u6bdb\\u7ed2\\u73a9\\u5177\", \"\\u6c89\\u624b\", \"\\u6c99\\u5b50\", \"\\u6ca1\\u6536\", \"\\u6d17\\u540e\", \"\\u6d17\\u6fa1\", \"\\u6d3b\\u52a8\", \"\\u6d3b\\u52a8\", \"\\u6d6a\\u8d39\", \"\\u6d77\\u5916\", \"\\u6d77\\u5916\", \"\\u6e05\\u6670\", \"\\u6ee1\\u610f\", \"\\u6f02\\u4eae\", \"\\u6f02\\u4eae\", \"\\u706b\\u8f66\", \"\\u706b\\u8f66\", \"\\u706b\\u8f66\", \"\\u7167\\u7247\", \"\\u719f\\u7ec3\", \"\\u7231\\u4e0d\\u91ca\\u624b\", \"\\u7231\\u73a9\", \"\\u724c\\u5b50\", \"\\u724c\\u5b50\", \"\\u724c\\u5b50\", \"\\u724c\\u5b50\", \"\\u7269\\u6709\\u6240\\u503c\", \"\\u7279\\u522b\", \"\\u7279\\u522b\", \"\\u72b9\\u8c6b\", \"\\u73a9\\u5076\", \"\\u73a9\\u513f\", \"\\u73a9\\u5177\", \"\\u73a9\\u5177\", \"\\u73a9\\u5f97\", \"\\u73e0\\u5b50\", \"\\u7455\\u75b5\", \"\\u7455\\u75b5\", \"\\u7528\\u6599\", \"\\u7528\\u65f6\", \"\\u7533\\u8bf7\", \"\\u7535\\u5f71\", \"\\u7535\\u6c60\", \"\\u7535\\u6c60\", \"\\u7535\\u8bdd\", \"\\u767d\\u8272\", \"\\u767d\\u8272\", \"\\u76ae\\u80a4\", \"\\u76d2\\u5185\", \"\\u76d2\\u5b50\", \"\\u76d2\\u5b50\", \"\\u76d2\\u5b50\", \"\\u76f8\\u8c61\", \"\\u7701\\u4e8b\", \"\\u770b\\u4e0d\\u61c2\", \"\\u770b\\u7740\", \"\\u770b\\u7740\", \"\\u771f\\u5fc3\", \"\\u771f\\u7684\", \"\\u771f\\u7684\", \"\\u771f\\u7684\", \"\\u773c\\u775b\", \"\\u7761\\u89c9\", \"\\u786e\\u5b9e\", \"\\u786e\\u5b9e\", \"\\u786e\\u5b9e\", \"\\u793c\\u7269\", \"\\u793c\\u7269\", \"\\u79ef\\u5206\", \"\\u7a00\\u5c11\", \"\\u7a92\\u606f\", \"\\u7b26\\u5408\", \"\\u7b2c\\u4e00\\u4e2a\", \"\\u7b2c\\u4e00\\u4e2a\", \"\\u7b2c\\u4e00\\u6b21\", \"\\u7b2c\\u4e00\\u6b21\", \"\\u7b2c\\u4e8c\\u5929\", \"\\u7b80\\u5355\", \"\\u7b80\\u5355\", \"\\u7b80\\u5355\", \"\\u7b80\\u5355\", \"\\u7c89\\u8272\", \"\\u7c97\\u7cd9\", \"\\u7cbe\\u7ec6\", \"\\u7cbe\\u7ec6\", \"\\u7cbe\\u7f8e\", \"\\u7cbe\\u81f4\", \"\\u7cbe\\u81f4\", \"\\u7cbe\\u81f4\", \"\\u7cbe\\u81f4\", \"\\u7cfb\\u5217\", \"\\u7cfb\\u5217\", \"\\u7d2b\\u8272\", \"\\u7d2b\\u971e\", \"\\u7ea0\\u7ed3\", \"\\u7eb8\\u5f20\", \"\\u7eb8\\u677f\", \"\\u7ec4\\u5408\", \"\\u7ec4\\u88c5\", \"\\u7ec6\\u8282\", \"\\u7ec6\\u8282\", \"\\u7ed2\\u6bdb\", \"\\u7ed3\\u6784\", \"\\u7ed9\\u529b\", \"\\u7f8e\\u4e9a\", \"\\u8010\\u810f\", \"\\u8033\\u6735\", \"\\u80cc\\u9762\", \"\\u80fd\\u529b\", \"\\u80fd\\u529b\", \"\\u81ea\\u8425\", \"\\u81ea\\u8c6a\\u611f\", \"\\u8212\\u670d\", \"\\u82ad\\u6bd4\", \"\\u82f1\\u6587\", \"\\u84dd\\u8272\", \"\\u867d\\u5c0f\", \"\\u888b\\u5b50\", \"\\u89c9\\u7740\", \"\\u8bbe\\u8ba1\", \"\\u8bbe\\u8ba1\", \"\\u8bbe\\u8ba1\", \"\\u8bbe\\u8ba1\", \"\\u8bbe\\u8ba1\", \"\\u8bc4\\u4ef7\", \"\\u8bc4\\u8bba\", \"\\u8bd5\\u7528\", \"\\u8be6\\u7ec6\", \"\\u8bf4\\u660e\\u4e66\", \"\\u8bf4\\u660e\\u4e66\", \"\\u8d27\\u6bd4\", \"\\u8d28\\u91cf\", \"\\u8d28\\u91cf\", \"\\u8d28\\u91cf\", \"\\u8d2d\\u4e70\", \"\\u8d2d\\u4e70\", \"\\u8d2d\\u4e70\", \"\\u8d2d\\u4e70\", \"\\u8d2d\\u7269\", \"\\u8d60\\u9001\", \"\\u8d70\\u5230\", \"\\u8d76\\u4e0a\", \"\\u8d85\\u5e02\", \"\\u8d85\\u7ea7\", \"\\u8d85\\u7ea7\", \"\\u8d85\\u8fc7\", \"\\u8f66\\u53a2\", \"\\u8f66\\u5b50\", \"\\u8f66\\u5b50\", \"\\u8f68\\u9053\", \"\\u8f68\\u9053\", \"\\u8f68\\u9053\", \"\\u8f68\\u9053\", \"\\u8f68\\u9053\", \"\\u8f6c\\u5f2f\", \"\\u8f6e\\u5b50\", \"\\u8f6e\\u5b50\", \"\\u8f6e\\u5b50\", \"\\u8f6f\\u7ef5\\u7ef5\", \"\\u8fc7\\u7a0b\", \"\\u8fc7\\u7a0b\", \"\\u8fd8\\u4f1a\", \"\\u8fd8\\u4f1a\", \"\\u8fd8\\u539f\", \"\\u8fd9\\u662f\", \"\\u8fd9\\u6b3e\", \"\\u8fd9\\u6b3e\", \"\\u8fd9\\u6bb5\\u8bdd\", \"\\u8fde\\u63a5\", \"\\u8ff7\\u4f60\", \"\\u9000\\u6b3e\", \"\\u9000\\u8d27\", \"\\u9001\\u4eba\", \"\\u9001\\u4eba\", \"\\u9001\\u7ed9\", \"\\u9001\\u7ed9\", \"\\u9001\\u8d27\", \"\\u9002\\u4e2d\", \"\\u9002\\u4e2d\", \"\\u9002\\u5408\", \"\\u9002\\u5408\", \"\\u9002\\u5408\", \"\\u903c\\u771f\", \"\\u903c\\u771f\", \"\\u9057\\u61be\", \"\\u90a3\\u4e48\\u56de\\u4e8b\", \"\\u90e8\\u4ef6\", \"\\u90e8\\u4f4d\", \"\\u914d\\u4ef6\", \"\\u91cd\\u590d\", \"\\u91d1\\u5c5e\", \"\\u953b\\u70bc\", \"\\u953b\\u70bc\", \"\\u957f\\u4e9b\", \"\\u957f\\u5ea6\", \"\\u95fa\\u5bc6\", \"\\u96be\\u5ea6\", \"\\u97f3\\u4e50\", \"\\u987a\\u7545\", \"\\u989c\\u8272\", \"\\u989c\\u8272\", \"\\u989c\\u8272\", \"\\u989c\\u8272\", \"\\u98de\\u673a\", \"\\u9c9c\\u8273\", \"\\u9c9c\\u8273\"]}, \"R\": 30, \"lambda.step\": 0.01, \"plot.opts\": {\"xlab\": \"PC1\", \"ylab\": \"PC2\"}, \"topic.order\": [1, 8, 9, 3, 7, 10, 4, 5, 6, 2]};\n",
       "\n",
       "function LDAvis_load_lib(url, callback){\n",
       "  var s = document.createElement('script');\n",
       "  s.src = url;\n",
       "  s.async = true;\n",
       "  s.onreadystatechange = s.onload = callback;\n",
       "  s.onerror = function(){console.warn(\"failed to load library \" + url);};\n",
       "  document.getElementsByTagName(\"head\")[0].appendChild(s);\n",
       "}\n",
       "\n",
       "if(typeof(LDAvis) !== \"undefined\"){\n",
       "   // already loaded: just create the visualization\n",
       "   !function(LDAvis){\n",
       "       new LDAvis(\"#\" + \"ldavis_el2148447040346325443168438\", ldavis_el2148447040346325443168438_data);\n",
       "   }(LDAvis);\n",
       "}else if(typeof define === \"function\" && define.amd){\n",
       "   // require.js is available: use it to load d3/LDAvis\n",
       "   require.config({paths: {d3: \"https://cdnjs.cloudflare.com/ajax/libs/d3/3.5.5/d3.min\"}});\n",
       "   require([\"d3\"], function(d3){\n",
       "      window.d3 = d3;\n",
       "      LDAvis_load_lib(\"https://cdn.rawgit.com/bmabey/pyLDAvis/files/ldavis.v1.0.0.js\", function(){\n",
       "        new LDAvis(\"#\" + \"ldavis_el2148447040346325443168438\", ldavis_el2148447040346325443168438_data);\n",
       "      });\n",
       "    });\n",
       "}else{\n",
       "    // require.js not available: dynamically load d3 & LDAvis\n",
       "    LDAvis_load_lib(\"https://cdnjs.cloudflare.com/ajax/libs/d3/3.5.5/d3.min.js\", function(){\n",
       "         LDAvis_load_lib(\"https://cdn.rawgit.com/bmabey/pyLDAvis/files/ldavis.v1.0.0.js\", function(){\n",
       "                 new LDAvis(\"#\" + \"ldavis_el2148447040346325443168438\", ldavis_el2148447040346325443168438_data);\n",
       "            })\n",
       "         });\n",
       "}\n",
       "</script>"
      ],
      "text/plain": [
       "PreparedData(topic_coordinates=            Freq  cluster  topics         x         y\n",
       "topic                                                \n",
       "0      20.583109        1       1 -0.250624 -0.057981\n",
       "7      15.310618        1       2 -0.073952  0.227755\n",
       "8      12.289928        1       3 -0.088882 -0.139544\n",
       "2      11.863946        1       4 -0.177105  0.084701\n",
       "6      10.670002        1       5 -0.104063 -0.020879\n",
       "9       7.399986        1       6  0.077133 -0.195164\n",
       "3       6.444813        1       7  0.169906  0.144274\n",
       "4       5.731755        1       8  0.128778 -0.004287\n",
       "5       5.374650        1       9  0.157268 -0.025516\n",
       "1       4.331193        1      10  0.161540 -0.013358, topic_info=     Category         Freq Term        Total  loglift  logprob\n",
       "term                                                          \n",
       "1903  Default   689.000000   孩子   689.000000  30.0000  30.0000\n",
       "1433  Default  1133.000000   喜欢  1133.000000  29.0000  29.0000\n",
       "306   Default   738.000000   不错   738.000000  28.0000  28.0000\n",
       "4726  Default   521.000000   质量   521.000000  27.0000  27.0000\n",
       "1929  Default   561.000000   宝宝   561.000000  26.0000  26.0000\n",
       "707   Default   346.000000   做工   346.000000  25.0000  25.0000\n",
       "3698  Default   287.000000   玩具   287.000000  24.0000  24.0000\n",
       "2647  Default    97.000000   拼图    97.000000  23.0000  23.0000\n",
       "2045  Default   150.000000  小朋友   150.000000  22.0000  22.0000\n",
       "507   Default   242.000000  亚马逊   242.000000  21.0000  21.0000\n",
       "3547  Default   114.000000   满意   114.000000  20.0000  20.0000\n",
       "1067  Default   183.000000   包装   183.000000  19.0000  19.0000\n",
       "2456  Default   146.000000   感觉   146.000000  18.0000  18.0000\n",
       "5002  Default   136.000000   适合   136.000000  17.0000  17.0000\n",
       "1283  Default   186.000000   可爱   186.000000  16.0000  16.0000\n",
       "1729  Default    89.000000   太小    89.000000  15.0000  15.0000\n",
       "4033  Default   120.000000   积分   120.000000  14.0000  14.0000\n",
       "3668  Default   138.000000   特别   138.000000  13.0000  13.0000\n",
       "3183  Default    74.000000   柔软    74.000000  12.0000  12.0000\n",
       "730   Default   158.000000   儿子   158.000000  11.0000  11.0000\n",
       "54    Default   129.000000   一岁   129.000000  10.0000  10.0000\n",
       "4773  Default    84.000000   超级    84.000000   9.0000   9.0000\n",
       "570   Default   168.000000   价格   168.000000   8.0000   8.0000\n",
       "277   Default    97.000000   不用    97.000000   7.0000   7.0000\n",
       "4650  Default    96.000000   评价    96.000000   6.0000   6.0000\n",
       "1798  Default    77.000000   女儿    77.000000   5.0000   5.0000\n",
       "652   Default    99.000000   便宜    99.000000   4.0000   4.0000\n",
       "3938  Default   101.000000   真的   101.000000   3.0000   3.0000\n",
       "3139  Default    62.000000   材质    62.000000   2.0000   2.0000\n",
       "4141  Default    91.000000   简单    91.000000   1.0000   1.0000\n",
       "...       ...          ...  ...          ...      ...      ...\n",
       "2436  Topic10     9.446596   想要    10.210375   3.0616  -5.0654\n",
       "1139  Topic10     9.104200   卡扣     9.868046   3.0588  -5.1024\n",
       "4776  Topic10     8.736244   超过     9.500167   3.0555  -5.1436\n",
       "2422  Topic10     8.566699   情况     9.330573   3.0539  -5.1632\n",
       "1398  Topic10     8.327396   哇哇     9.091144   3.0516  -5.1915\n",
       "899   Topic10     8.126949   几种     8.891068   3.0495  -5.2159\n",
       "1756  Topic10     7.363009   太软     8.126819   3.0406  -5.3146\n",
       "1104  Topic10     7.340944  半小时     8.104698   3.0404  -5.3176\n",
       "3779  Topic10     6.574491   用时     7.338243   3.0294  -5.4279\n",
       "1727  Topic10     6.383510  太好了     7.147266   3.0263  -5.4574\n",
       "4254  Topic10     6.301502   绒毛     7.065254   3.0249  -5.4703\n",
       "4041  Topic10     6.301502   稀少     7.065254   3.0249  -5.4703\n",
       "188   Topic10     6.301502   上深     7.065254   3.0249  -5.4703\n",
       "4204  Topic10     6.214983   紫霞     6.978732   3.0234  -5.4841\n",
       "4234  Topic10     5.957895   组合     6.721712   3.0187  -5.5264\n",
       "3110  Topic10     5.950459   木屑     6.714522   3.0185  -5.5276\n",
       "531   Topic10     5.836674   人员     6.600425   3.0164  -5.5469\n",
       "1295  Topic10     5.809654   吃惊     6.573524   3.0158  -5.5516\n",
       "2768  Topic10     5.747387   提供     6.511146   3.0146  -5.5624\n",
       "3793  Topic10     5.694216   电影     6.458057   3.0134  -5.5716\n",
       "2574  Topic10     5.310804   技巧     6.074598   3.0050  -5.6414\n",
       "193   Topic10     5.252461   上网     6.016218   3.0036  -5.6524\n",
       "2672  Topic10     5.214979   指导     5.978786   3.0026  -5.6596\n",
       "2926  Topic10     5.093500   方法     5.857324   2.9996  -5.6831\n",
       "68    Topic10     7.847293   一摸     9.942310   2.9027  -5.2509\n",
       "3067  Topic10     9.692685  有时候    12.938633   2.8505  -5.0397\n",
       "4194  Topic10    14.763484   系列    25.572558   2.5900  -4.6189\n",
       "1951  Topic10    14.228473   客服    33.983617   2.2687  -4.6559\n",
       "2865  Topic10     6.404373   放在    20.910450   1.9561  -5.4541\n",
       "4822  Topic10     6.009172   车子    39.407849   1.2586  -5.5178\n",
       "\n",
       "[493 rows x 6 columns], token_table=      Topic      Freq  Term\n",
       "term                       \n",
       "20        4  0.944946    一共\n",
       "22        8  0.957783   一分货\n",
       "34        7  0.951969    一只\n",
       "43        4  0.915718    一堆\n",
       "46        4  0.978871    一套\n",
       "54        4  0.769769    一岁\n",
       "54        5  0.169349    一岁\n",
       "54        7  0.053884    一岁\n",
       "57        6  0.882152    一张\n",
       "68        2  0.100580    一摸\n",
       "68       10  0.804642    一摸\n",
       "84        2  0.972809    一款\n",
       "94        6  0.895069    一流\n",
       "95        3  0.277937    一点\n",
       "95        4  0.111175    一点\n",
       "95        5  0.522521    一点\n",
       "95        8  0.077822    一点\n",
       "130       4  0.848084   一阵子\n",
       "156       4  0.835459    三岁\n",
       "156      10  0.145297    三岁\n",
       "188      10  0.849226    上深\n",
       "193      10  0.831087    上网\n",
       "202       5  0.311600    下次\n",
       "202       9  0.685519    下次\n",
       "216       1  0.947113    不像\n",
       "240       4  0.181160   不太好\n",
       "240       5  0.815219   不太好\n",
       "246       5  0.790145    不好\n",
       "246       8  0.197536    不好\n",
       "258       6  0.950497    不想\n",
       "...     ...       ...   ...\n",
       "4996      1  0.938260    送货\n",
       "5001      3  0.129317    适中\n",
       "5001      8  0.840559    适中\n",
       "5002      2  0.117215    适合\n",
       "5002      4  0.329668    适合\n",
       "5002      7  0.549447    适合\n",
       "5031      1  0.218065    逼真\n",
       "5031      6  0.763226    逼真\n",
       "5037      9  0.962658    遗憾\n",
       "5044      8  0.897808  那么回事\n",
       "5054      8  0.874878    部件\n",
       "5055      9  0.853764    部位\n",
       "5058      1  0.962206    配件\n",
       "5079      3  0.965449    重复\n",
       "5087      1  0.923126    金属\n",
       "5120      2  0.269599    锻炼\n",
       "5120      5  0.718930    锻炼\n",
       "5125      7  0.954770    长些\n",
       "5129      7  0.954770    长度\n",
       "5158      8  0.870772    闺密\n",
       "5193     10  0.955450    难度\n",
       "5246      7  0.943379    音乐\n",
       "5261      6  0.957738    顺畅\n",
       "5273      1  0.173612    颜色\n",
       "5273      2  0.096451    颜色\n",
       "5273      3  0.552988    颜色\n",
       "5273      4  0.173612    颜色\n",
       "5288      8  0.951484    飞机\n",
       "5331      3  0.706844    鲜艳\n",
       "5331      4  0.282738    鲜艳\n",
       "\n",
       "[588 rows x 3 columns], R=30, lambda_step=0.01, plot_opts={'xlab': 'PC1', 'ylab': 'PC2'}, topic_order=[1, 8, 9, 3, 7, 10, 4, 5, 6, 2])"
      ]
     },
     "execution_count": 98,
     "metadata": {},
     "output_type": "execute_result"
    },
    {
     "name": "stderr",
     "output_type": "stream",
     "text": [
      "/usr/local/Cellar/python3/3.6.1/Frameworks/Python.framework/Versions/3.6/lib/python3.6/json/encoder.py:199: DeprecationWarning: Interpreting naive datetime as local 2018-02-20 23:27:21.317417. Please add timezone info to timestamps.\n",
      "  chunks = self.iterencode(o, _one_shot=True)\n"
     ]
    }
   ],
   "source": [
    "import pyLDAvis\n",
    "import pyLDAvis.sklearn\n",
    "pyLDAvis.enable_notebook()\n",
    "pyLDAvis.sklearn.prepare(lda, tf, vectorizer)"
   ]
  },
  {
   "cell_type": "code",
   "execution_count": 232,
   "metadata": {},
   "outputs": [
    {
     "name": "stderr",
     "output_type": "stream",
     "text": [
      "/usr/local/lib/python3.6/site-packages/pyLDAvis/_prepare.py:387: DeprecationWarning: \n",
      ".ix is deprecated. Please use\n",
      ".loc for label based indexing or\n",
      ".iloc for positional indexing\n",
      "\n",
      "See the documentation here:\n",
      "http://pandas.pydata.org/pandas-docs/stable/indexing.html#ix-indexer-is-deprecated\n",
      "  topic_term_dists = topic_term_dists.ix[topic_order]\n"
     ]
    },
    {
     "name": "stdout",
     "output_type": "stream",
     "text": [
      "\n",
      "Note: if you're in the IPython notebook, pyLDAvis.show() is not the best command\n",
      "      to use. Consider using pyLDAvis.display(), or pyLDAvis.enable_notebook().\n",
      "      See more information at http://pyLDAvis.github.io/quickstart.html .\n",
      "\n",
      "You must interrupt the kernel to end this command\n",
      "\n",
      "Serving to http://127.0.0.1:8889/    [Ctrl-C to exit]\n"
     ]
    },
    {
     "name": "stderr",
     "output_type": "stream",
     "text": [
      "127.0.0.1 - - [18/Feb/2018 19:53:54] \"GET / HTTP/1.1\" 200 -\n",
      "127.0.0.1 - - [18/Feb/2018 19:53:54] \"GET /LDAvis.css HTTP/1.1\" 200 -\n",
      "127.0.0.1 - - [18/Feb/2018 19:53:54] \"GET /d3.js HTTP/1.1\" 200 -\n",
      "127.0.0.1 - - [18/Feb/2018 19:53:54] \"GET /LDAvis.js HTTP/1.1\" 200 -\n"
     ]
    },
    {
     "name": "stdout",
     "output_type": "stream",
     "text": [
      "\n",
      "stopping Server...\n"
     ]
    },
    {
     "name": "stderr",
     "output_type": "stream",
     "text": [
      "/usr/local/Cellar/python3/3.6.1/Frameworks/Python.framework/Versions/3.6/lib/python3.6/json/encoder.py:199: DeprecationWarning: Interpreting naive datetime as local 2018-02-18 19:53:52.307771. Please add timezone info to timestamps.\n",
      "  chunks = self.iterencode(o, _one_shot=True)\n"
     ]
    }
   ],
   "source": [
    "data = pyLDAvis.sklearn.prepare(lda, tf, vectorizer)\n",
    "pyLDAvis.show(data)"
   ]
  },
  {
   "cell_type": "code",
   "execution_count": 233,
   "metadata": {},
   "outputs": [
    {
     "name": "stderr",
     "output_type": "stream",
     "text": [
      "/usr/local/Cellar/python3/3.6.1/Frameworks/Python.framework/Versions/3.6/lib/python3.6/json/encoder.py:199: DeprecationWarning: Interpreting naive datetime as local 2018-02-18 19:55:32.938488. Please add timezone info to timestamps.\n",
      "  chunks = self.iterencode(o, _one_shot=True)\n"
     ]
    }
   ],
   "source": [
    "pyLDAvis.disable_notebook()"
   ]
  },
  {
   "cell_type": "code",
   "execution_count": null,
   "metadata": {
    "collapsed": true
   },
   "outputs": [],
   "source": []
  }
 ],
 "metadata": {
  "kernelspec": {
   "display_name": "Python 3",
   "language": "python",
   "name": "python3"
  },
  "language_info": {
   "codemirror_mode": {
    "name": "ipython",
    "version": 3
   },
   "file_extension": ".py",
   "mimetype": "text/x-python",
   "name": "python",
   "nbconvert_exporter": "python",
   "pygments_lexer": "ipython3",
   "version": "3.6.1"
  }
 },
 "nbformat": 4,
 "nbformat_minor": 2
}
