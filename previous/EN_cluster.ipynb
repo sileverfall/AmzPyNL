{
 "cells": [
  {
   "cell_type": "code",
   "execution_count": 1,
   "metadata": {
    "collapsed": true
   },
   "outputs": [],
   "source": [
    "import time            \n",
    "import re            \n",
    "import os    \n",
    "import sys  \n",
    "import codecs  \n",
    "import shutil  \n",
    "import nltk\n",
    "import numpy as np  \n",
    "import matplotlib  \n",
    "import scipy  \n",
    "import pandas as pd\n",
    "import matplotlib.pyplot as plt  \n",
    "from sklearn import feature_extraction    \n",
    "from sklearn.feature_extraction.text import TfidfTransformer    \n",
    "from sklearn.feature_extraction.text import CountVectorizer  \n",
    "from sklearn.feature_extraction.text import HashingVectorizer"
   ]
  },
  {
   "cell_type": "code",
   "execution_count": 2,
   "metadata": {},
   "outputs": [
    {
     "data": {
      "text/plain": [
       "9750"
      ]
     },
     "execution_count": 2,
     "metadata": {},
     "output_type": "execute_result"
    }
   ],
   "source": [
    "#title\n",
    "asins = open('../UK_20171130/pre/ASIN.csv').read().split('\\n')\n",
    "ASINs=[]\n",
    "for item in asins:\n",
    "    a = item.split(',')\n",
    "    ASINs += a\n",
    "# ASINs = ASINs[:-1]\n",
    "len(ASINs)"
   ]
  },
  {
   "cell_type": "code",
   "execution_count": 3,
   "metadata": {},
   "outputs": [
    {
     "data": {
      "text/plain": [
       "9750"
      ]
     },
     "execution_count": 3,
     "metadata": {},
     "output_type": "execute_result"
    }
   ],
   "source": [
    "#synopses\n",
    "review = open('../UK_20171130/pre/review.csv').read().split('\\n')\n",
    "review[0]\n",
    "Reviews=[]\n",
    "for rev in review:\n",
    "    a = rev.split('|')\n",
    "    Reviews += a \n",
    "Reviews = Reviews[:-1]\n",
    "len(Reviews)\n"
   ]
  },
  {
   "cell_type": "code",
   "execution_count": 4,
   "metadata": {},
   "outputs": [
    {
     "data": {
      "text/plain": [
       "9750"
      ]
     },
     "execution_count": 4,
     "metadata": {},
     "output_type": "execute_result"
    }
   ],
   "source": [
    "#genres\n",
    "categorys = open('../UK_20171130/pre/categories.csv').read().split('\\n')\n",
    "\n",
    "Category=[]\n",
    "for cat in categorys:\n",
    "    a = cat.split(',')\n",
    "    Category += a\n",
    "# Category = Category[:-1]\n",
    "len(Category)"
   ]
  },
  {
   "cell_type": "code",
   "execution_count": 5,
   "metadata": {},
   "outputs": [
    {
     "data": {
      "text/plain": [
       "9750"
      ]
     },
     "execution_count": 5,
     "metadata": {},
     "output_type": "execute_result"
    }
   ],
   "source": [
    "#ranks\n",
    "ranks = open('../UK_20171130/pre/ranks.csv').read().split('\\n')\n",
    "ranks[0] = ranks[0].replace('\\ufeff','')\n",
    "Rank =[]\n",
    "for rank in ranks:\n",
    "    a = rank.split(',')\n",
    "    Rank += a\n",
    "    \n",
    "Ranks =[float(i) for i in Rank]  \n",
    "Ranks[0]\n",
    "len(Ranks)"
   ]
  },
  {
   "cell_type": "code",
   "execution_count": 6,
   "metadata": {
    "collapsed": true
   },
   "outputs": [],
   "source": [
    "# 载入 nltk 的英文停用词作为“stopwords”变量\n",
    "stopwords = nltk.corpus.stopwords.words('english')"
   ]
  },
  {
   "cell_type": "code",
   "execution_count": 7,
   "metadata": {
    "collapsed": true
   },
   "outputs": [],
   "source": [
    "# 载入 nltk 的 SnowballStemmer 作为“stemmer”变量\n",
    "from nltk.stem.snowball import SnowballStemmer\n",
    "stemmer = SnowballStemmer(\"english\")"
   ]
  },
  {
   "cell_type": "code",
   "execution_count": 8,
   "metadata": {
    "collapsed": true
   },
   "outputs": [],
   "source": [
    "# 这里我定义了一个分词器（tokenizer）和词干分析器（stemmer），它们会输出给定文本词干化后的词集合\n",
    " \n",
    "def tokenize_and_stem(text):\n",
    "    # 首先分句，接着分词，而标点也会作为词例存在\n",
    "    tokens = [word for sent in nltk.sent_tokenize(text) for word in nltk.word_tokenize(sent)]\n",
    "    filtered_tokens = []\n",
    "    # 过滤所有不含字母的词例（例如：数字、纯标点）\n",
    "    for token in tokens:\n",
    "        if re.search('[a-zA-Z]', token):\n",
    "            filtered_tokens.append(token)\n",
    "    stems = [stemmer.stem(t) for t in filtered_tokens]\n",
    "    return stems\n",
    " \n",
    "def tokenize_only(text):\n",
    "    # 首先分句，接着分词，而标点也会作为词例存在\n",
    "    tokens = [word.lower() for sent in nltk.sent_tokenize(text) for word in nltk.word_tokenize(sent)]\n",
    "    filtered_tokens = []\n",
    "    # 过滤所有不含字母的词例（例如：数字、纯标点）\n",
    "    for token in tokens:\n",
    "        if re.search('[a-zA-Z]', token):\n",
    "            filtered_tokens.append(token)\n",
    "    return filtered_tokens"
   ]
  },
  {
   "cell_type": "code",
   "execution_count": 9,
   "metadata": {
    "collapsed": true
   },
   "outputs": [],
   "source": [
    "# 非常不 pythonic，一点也不！\n",
    "# 扩充列表后变成了非常庞大的二维（flat）词汇表\n",
    "totalvocab_stemmed = []\n",
    "totalvocab_tokenized = []\n",
    "for i in Reviews:\n",
    "    allwords_stemmed = tokenize_and_stem(i) #对每个评价进行分词和词干化\n",
    "    totalvocab_stemmed.extend(allwords_stemmed) # 扩充“totalvocab_stemmed”列表\n",
    " \n",
    "    allwords_tokenized = tokenize_only(i)\n",
    "    totalvocab_tokenized.extend(allwords_tokenized)"
   ]
  },
  {
   "cell_type": "code",
   "execution_count": 10,
   "metadata": {},
   "outputs": [
    {
     "data": {
      "text/plain": [
       "['excel',\n",
       " 'qualiti',\n",
       " 'bike',\n",
       " 'my',\n",
       " 'three',\n",
       " 'year',\n",
       " 'old',\n",
       " 'son',\n",
       " 'was',\n",
       " 'delight',\n",
       " 'receiv',\n",
       " 'this',\n",
       " 'for',\n",
       " 'his',\n",
       " 'birthday',\n",
       " 'fast',\n",
       " 'deliveri',\n",
       " 'easi',\n",
       " 'to',\n",
       " 'build',\n",
       " 'ca',\n",
       " \"n't\",\n",
       " 'fault',\n",
       " 'at',\n",
       " 'all']"
      ]
     },
     "execution_count": 10,
     "metadata": {},
     "output_type": "execute_result"
    }
   ],
   "source": [
    "allwords_stemmed"
   ]
  },
  {
   "cell_type": "markdown",
   "metadata": {},
   "source": [
    "## Tf-idf and document similarity"
   ]
  },
  {
   "cell_type": "code",
   "execution_count": 11,
   "metadata": {},
   "outputs": [
    {
     "name": "stdout",
     "output_type": "stream",
     "text": [
      "CPU times: user 11.8 s, sys: 208 ms, total: 12 s\n",
      "Wall time: 12.5 s\n",
      "CPU times: user 2.29 ms, sys: 958 µs, total: 3.25 ms\n",
      "Wall time: 4.75 ms\n"
     ]
    }
   ],
   "source": [
    "from sklearn.feature_extraction.text import TfidfVectorizer\n",
    " \n",
    "# 定义向量化参数\n",
    "#将文本中的词语转换为词频矩阵 矩阵元素a[i][j] 表示j词在第i类评论下的词频  \n",
    "vectorizer = CountVectorizer(max_df=0.9, max_features=200000,\n",
    "                                 min_df=0.05, stop_words='english',\n",
    "                                 tokenizer=tokenize_and_stem, ngram_range=(1,3))\n",
    "#该类会统计每个词语的tf-idf权值  \n",
    "transformer = TfidfTransformer() \n",
    "\n",
    "#第一个fit_transform是计算tf-idf 第二个fit_transform是将文本转为词频矩阵  \n",
    "%time tf =  vectorizer.fit_transform(Reviews)\n",
    "%time tfidf = transformer.fit_transform(tf) # 向量化\n",
    " "
   ]
  },
  {
   "cell_type": "code",
   "execution_count": 12,
   "metadata": {},
   "outputs": [
    {
     "name": "stdout",
     "output_type": "stream",
     "text": [
      "[\"'s\", 'bit', 'bought', 'christma', 'daughter', 'fun', 'gift', 'good', 'grandson', 'great']\n"
     ]
    }
   ],
   "source": [
    "#获取词袋模型中的前10个词语 \n",
    "word = vectorizer.get_feature_names()\n",
    "print(word[:10])"
   ]
  },
  {
   "cell_type": "code",
   "execution_count": 13,
   "metadata": {},
   "outputs": [
    {
     "data": {
      "text/plain": [
       "array([[ 0.        ,  0.        ,  0.        , ...,  0.56926872,\n",
       "         0.        ,  0.        ],\n",
       "       [ 0.        ,  0.        ,  0.        , ...,  0.        ,\n",
       "         0.        ,  0.        ],\n",
       "       [ 0.        ,  0.        ,  0.        , ...,  0.        ,\n",
       "         0.        ,  0.        ],\n",
       "       ..., \n",
       "       [ 0.        ,  0.        ,  0.        , ...,  0.        ,\n",
       "         0.        ,  0.        ],\n",
       "       [ 0.        ,  0.        ,  0.        , ...,  0.32371572,\n",
       "         0.35135715,  0.37006125],\n",
       "       [ 0.        ,  0.        ,  0.        , ...,  0.        ,\n",
       "         0.38452372,  0.40499341]])"
      ]
     },
     "execution_count": 13,
     "metadata": {},
     "output_type": "execute_result"
    }
   ],
   "source": [
    "#将tf-idf矩阵抽取出来，元素w[i][j]表示j词在第i类评论中的tf-idf权重  \n",
    "weight = tfidf.toarray()  \n",
    "weight"
   ]
  },
  {
   "cell_type": "code",
   "execution_count": 14,
   "metadata": {
    "collapsed": true
   },
   "outputs": [],
   "source": [
    "from sklearn.metrics.pairwise import cosine_similarity\n",
    "dist = 1 - cosine_similarity(tfidf)"
   ]
  },
  {
   "cell_type": "code",
   "execution_count": 15,
   "metadata": {},
   "outputs": [
    {
     "name": "stdout",
     "output_type": "stream",
     "text": [
      "[[  0.00000000e+00   8.51603038e-01   1.00000000e+00 ...,   1.00000000e+00\n",
      "    7.15478640e-01   6.89048822e-01]\n",
      " [  8.51603038e-01   0.00000000e+00   1.00000000e+00 ...,   1.00000000e+00\n",
      "    9.15613791e-01   1.00000000e+00]\n",
      " [  1.00000000e+00   1.00000000e+00   1.00000000e+00 ...,   1.00000000e+00\n",
      "    1.00000000e+00   1.00000000e+00]\n",
      " ..., \n",
      " [  1.00000000e+00   1.00000000e+00   1.00000000e+00 ...,   1.00000000e+00\n",
      "    1.00000000e+00   1.00000000e+00]\n",
      " [  7.15478640e-01   9.15613791e-01   1.00000000e+00 ...,   1.00000000e+00\n",
      "   -2.22044605e-16   5.91572696e-01]\n",
      " [  6.89048822e-01   1.00000000e+00   1.00000000e+00 ...,   1.00000000e+00\n",
      "    5.91572696e-01   0.00000000e+00]]\n"
     ]
    }
   ],
   "source": [
    "print(dist)"
   ]
  },
  {
   "cell_type": "markdown",
   "metadata": {},
   "source": [
    "## K-means clustering"
   ]
  },
  {
   "cell_type": "code",
   "execution_count": 37,
   "metadata": {},
   "outputs": [
    {
     "name": "stdout",
     "output_type": "stream",
     "text": [
      "CPU times: user 687 ms, sys: 36.6 ms, total: 724 ms\n",
      "Wall time: 700 ms\n",
      "KMeans(algorithm='auto', copy_x=True, init='k-means++', max_iter=300,\n",
      "    n_clusters=10, n_init=10, n_jobs=1, precompute_distances='auto',\n",
      "    random_state=None, tol=0.0001, verbose=0)\n"
     ]
    }
   ],
   "source": [
    "from sklearn.cluster import KMeans  \n",
    "num_clusters = 10\n",
    "km = KMeans(n_clusters=10)   \n",
    "%time s = km.fit(weight)  \n",
    "clusters = km.labels_.tolist()\n",
    "print(s)"
   ]
  },
  {
   "cell_type": "code",
   "execution_count": 94,
   "metadata": {},
   "outputs": [
    {
     "name": "stdout",
     "output_type": "stream",
     "text": [
      "[1 1 0 ..., 0 1 1] <class 'numpy.ndarray'>\n",
      "7687.53697284\n"
     ]
    },
    {
     "ename": "IndexError",
     "evalue": "arrays used as indices must be of integer (or boolean) type",
     "output_type": "error",
     "traceback": [
      "\u001b[0;31m---------------------------------------------------------------------------\u001b[0m",
      "\u001b[0;31mIndexError\u001b[0m                                Traceback (most recent call last)",
      "\u001b[0;32m<ipython-input-94-654772323f74>\u001b[0m in \u001b[0;36m<module>\u001b[0;34m()\u001b[0m\n\u001b[1;32m     19\u001b[0m     \u001b[0;32mfor\u001b[0m \u001b[0mi\u001b[0m \u001b[0;32min\u001b[0m \u001b[0mdataSet\u001b[0m\u001b[0;34m:\u001b[0m\u001b[0;34m\u001b[0m\u001b[0m\n\u001b[1;32m     20\u001b[0m \u001b[0;31m#         markIndex = int(clusterAssment[i, 0])\u001b[0m\u001b[0;34m\u001b[0m\u001b[0;34m\u001b[0m\u001b[0m\n\u001b[0;32m---> 21\u001b[0;31m         \u001b[0mplt\u001b[0m\u001b[0;34m.\u001b[0m\u001b[0mplot\u001b[0m\u001b[0;34m(\u001b[0m\u001b[0mdataSet\u001b[0m\u001b[0;34m[\u001b[0m\u001b[0mi\u001b[0m\u001b[0;34m]\u001b[0m\u001b[0;34m[\u001b[0m\u001b[0;36m0\u001b[0m\u001b[0;34m]\u001b[0m\u001b[0;34m,\u001b[0m \u001b[0mdataSet\u001b[0m\u001b[0;34m[\u001b[0m\u001b[0mi\u001b[0m\u001b[0;34m]\u001b[0m\u001b[0;34m[\u001b[0m\u001b[0;36m1\u001b[0m\u001b[0;34m]\u001b[0m\u001b[0;34m,\u001b[0m \u001b[0mmark\u001b[0m\u001b[0;34m[\u001b[0m\u001b[0mclf\u001b[0m\u001b[0;34m.\u001b[0m\u001b[0mlabels_\u001b[0m\u001b[0;34m[\u001b[0m\u001b[0mi\u001b[0m\u001b[0;34m]\u001b[0m\u001b[0;34m]\u001b[0m\u001b[0;34m)\u001b[0m \u001b[0;31m#mark[markIndex])\u001b[0m\u001b[0;34m\u001b[0m\u001b[0m\n\u001b[0m\u001b[1;32m     22\u001b[0m     \u001b[0mmark\u001b[0m \u001b[0;34m=\u001b[0m \u001b[0;34m[\u001b[0m\u001b[0;34m'Dr'\u001b[0m\u001b[0;34m,\u001b[0m \u001b[0;34m'Db'\u001b[0m\u001b[0;34m,\u001b[0m \u001b[0;34m'Dg'\u001b[0m\u001b[0;34m,\u001b[0m \u001b[0;34m'Dk'\u001b[0m\u001b[0;34m,\u001b[0m \u001b[0;34m'^b'\u001b[0m\u001b[0;34m,\u001b[0m \u001b[0;34m'+b'\u001b[0m\u001b[0;34m,\u001b[0m \u001b[0;34m'sb'\u001b[0m\u001b[0;34m,\u001b[0m \u001b[0;34m'db'\u001b[0m\u001b[0;34m,\u001b[0m \u001b[0;34m'<b'\u001b[0m\u001b[0;34m,\u001b[0m \u001b[0;34m'pb'\u001b[0m\u001b[0;34m]\u001b[0m\u001b[0;34m\u001b[0m\u001b[0m\n\u001b[1;32m     23\u001b[0m     \u001b[0;31m# 画出质点，用特殊图型\u001b[0m\u001b[0;34m\u001b[0m\u001b[0;34m\u001b[0m\u001b[0m\n",
      "\u001b[0;31mIndexError\u001b[0m: arrays used as indices must be of integer (or boolean) type"
     ]
    },
    {
     "name": "stderr",
     "output_type": "stream",
     "text": [
      "/usr/local/Cellar/python3/3.6.1/Frameworks/Python.framework/Versions/3.6/lib/python3.6/json/encoder.py:199: DeprecationWarning: Interpreting naive datetime as local 2018-02-13 14:57:59.297608. Please add timezone info to timestamps.\n",
      "  chunks = self.iterencode(o, _one_shot=True)\n"
     ]
    }
   ],
   "source": [
    "from sklearn.cluster import KMeans\n",
    "from sklearn.externals import joblib\n",
    "import numpy\n",
    "import time\n",
    "import matplotlib.pyplot as plt\n",
    "#设定不同k值以运算\n",
    "\n",
    "dataSet = weight\n",
    "\n",
    "for k in range(2,10):\n",
    "    clf = KMeans(n_clusters=k) #设定k  ！！！！！！！！！！这里就是调用KMeans算法\n",
    "    s = clf.fit(dataSet) #加载数据集合\n",
    "    numSamples = len(dataSet) \n",
    "    centroids = clf.labels_\n",
    "    print (centroids,type(centroids)) #显示中心点\n",
    "    print(clf.inertia_)  #显示聚类效果\n",
    "    mark = ['or', 'ob', 'og', 'ok', '^r', '+r', 'sr', 'dr', '<r', 'pr']\n",
    "    #画出所有样例点 属于同一分类的绘制同样的颜色\n",
    "    for i in xrange(numSample):\n",
    "#         markIndex = int(clusterAssment[i, 0])\n",
    "        plt.plot(dataSet[i][0], dataSet[i][1], mark[clf.labels_[i]]) #mark[markIndex])\n",
    "    mark = ['Dr', 'Db', 'Dg', 'Dk', '^b', '+b', 'sb', 'db', '<b', 'pb']\n",
    "    # 画出质点，用特殊图型\n",
    "#     centroids =  clf.cluster_centers_\n",
    "#     for i in range(k):\n",
    "#         plt.plot(centroids[i][0], centroids[i][1], mark[i], markersize = 12)\n",
    "#         #print centroids[i, 0], centroids[i, 1]\n",
    "    plt.show()\n",
    "\n",
    "    "
   ]
  },
  {
   "cell_type": "code",
   "execution_count": 38,
   "metadata": {
    "collapsed": true
   },
   "outputs": [],
   "source": [
    "from sklearn.externals import joblib\n",
    "# 注释语句用来存储你的模型\n",
    "# 因为我已经从 pickle 载入过模型了\n",
    " \n",
    "joblib.dump(km,  'CN_cluster.pkl')\n",
    " \n",
    "km = joblib.load('CN_cluster.pkl')\n",
    "clusters = km.labels_.tolist()"
   ]
  },
  {
   "cell_type": "code",
   "execution_count": 39,
   "metadata": {
    "collapsed": true
   },
   "outputs": [],
   "source": [
    "toys = { 'title': ASINs, 'rank': Ranks, 'review': Reviews, 'cluster': clusters, 'category': Category }\n",
    " \n",
    "frame = pd.DataFrame(toys , index = [clusters] , columns = ['rank', 'title', 'cluster', 'category'])"
   ]
  },
  {
   "cell_type": "code",
   "execution_count": 93,
   "metadata": {},
   "outputs": [
    {
     "data": {
      "text/html": [
       "<div>\n",
       "<style>\n",
       "    .dataframe thead tr:only-child th {\n",
       "        text-align: right;\n",
       "    }\n",
       "\n",
       "    .dataframe thead th {\n",
       "        text-align: left;\n",
       "    }\n",
       "\n",
       "    .dataframe tbody tr th {\n",
       "        vertical-align: top;\n",
       "    }\n",
       "</style>\n",
       "<table border=\"1\" class=\"dataframe\">\n",
       "  <thead>\n",
       "    <tr style=\"text-align: right;\">\n",
       "      <th></th>\n",
       "      <th>rank</th>\n",
       "      <th>title</th>\n",
       "      <th>cluster</th>\n",
       "      <th>category</th>\n",
       "    </tr>\n",
       "  </thead>\n",
       "  <tbody>\n",
       "    <tr>\n",
       "      <th>1</th>\n",
       "      <td>4.4</td>\n",
       "      <td>B01DZXE8PG_1</td>\n",
       "      <td>1</td>\n",
       "      <td>﻿4</td>\n",
       "    </tr>\n",
       "    <tr>\n",
       "      <th>6</th>\n",
       "      <td>4.4</td>\n",
       "      <td>B01DZXE8PG_2</td>\n",
       "      <td>6</td>\n",
       "      <td>4</td>\n",
       "    </tr>\n",
       "    <tr>\n",
       "      <th>0</th>\n",
       "      <td>4.4</td>\n",
       "      <td>B01DZXE8PG_3</td>\n",
       "      <td>0</td>\n",
       "      <td>4</td>\n",
       "    </tr>\n",
       "    <tr>\n",
       "      <th>4</th>\n",
       "      <td>4.4</td>\n",
       "      <td>B01DZXE8PG_4</td>\n",
       "      <td>4</td>\n",
       "      <td>4</td>\n",
       "    </tr>\n",
       "    <tr>\n",
       "      <th>0</th>\n",
       "      <td>4.4</td>\n",
       "      <td>B01DZXE8PG_5</td>\n",
       "      <td>0</td>\n",
       "      <td>4</td>\n",
       "    </tr>\n",
       "  </tbody>\n",
       "</table>\n",
       "</div>"
      ],
      "text/plain": [
       "   rank         title  cluster category\n",
       "1   4.4  B01DZXE8PG_1        1       ﻿4\n",
       "6   4.4  B01DZXE8PG_2        6        4\n",
       "0   4.4  B01DZXE8PG_3        0        4\n",
       "4   4.4  B01DZXE8PG_4        4        4\n",
       "0   4.4  B01DZXE8PG_5        0        4"
      ]
     },
     "execution_count": 93,
     "metadata": {},
     "output_type": "execute_result"
    },
    {
     "name": "stderr",
     "output_type": "stream",
     "text": [
      "/usr/local/Cellar/python3/3.6.1/Frameworks/Python.framework/Versions/3.6/lib/python3.6/json/encoder.py:199: DeprecationWarning: Interpreting naive datetime as local 2018-02-13 14:57:28.440083. Please add timezone info to timestamps.\n",
      "  chunks = self.iterencode(o, _one_shot=True)\n"
     ]
    }
   ],
   "source": [
    "frame[:5]"
   ]
  },
  {
   "cell_type": "code",
   "execution_count": 40,
   "metadata": {},
   "outputs": [
    {
     "data": {
      "text/plain": [
       "0    2684\n",
       "8    1051\n",
       "6     979\n",
       "4     878\n",
       "1     873\n",
       "5     839\n",
       "2     755\n",
       "3     627\n",
       "9     588\n",
       "7     476\n",
       "Name: cluster, dtype: int64"
      ]
     },
     "execution_count": 40,
     "metadata": {},
     "output_type": "execute_result"
    }
   ],
   "source": [
    "frame['cluster'].value_counts() #number of review per cluster (clusters from 0 to 10)"
   ]
  },
  {
   "cell_type": "code",
   "execution_count": 41,
   "metadata": {},
   "outputs": [
    {
     "data": {
      "text/plain": [
       "5842.3046980616882"
      ]
     },
     "execution_count": 41,
     "metadata": {},
     "output_type": "execute_result"
    }
   ],
   "source": [
    "km.inertia_"
   ]
  },
  {
   "cell_type": "code",
   "execution_count": 42,
   "metadata": {},
   "outputs": [
    {
     "data": {
      "text/plain": [
       "cluster\n",
       "0    4.614680\n",
       "1    4.634536\n",
       "2    4.571258\n",
       "3    4.637640\n",
       "4    4.664351\n",
       "5    4.656138\n",
       "6    4.679571\n",
       "7    4.674790\n",
       "8    4.686679\n",
       "9    4.674575\n",
       "Name: rank, dtype: float64"
      ]
     },
     "execution_count": 42,
     "metadata": {},
     "output_type": "execute_result"
    }
   ],
   "source": [
    "grouped = frame['rank'].groupby(frame['cluster']) # 为了凝聚（aggregation），由聚类分类。\n",
    " \n",
    "grouped.mean() # 每个聚类的平均排名（0 到 5）"
   ]
  },
  {
   "cell_type": "code",
   "execution_count": 43,
   "metadata": {},
   "outputs": [
    {
     "name": "stdout",
     "output_type": "stream",
     "text": [
      "Top terms per cluster:\n",
      "\n",
      "Cluster 0 titles: B01DZXE8PG_3, B01DZXE8PG_5, B01DZXE8PG_9, B01DZXE8PG_10, B01KZS1IEI_3, B01MXXC58P_8, B0052RMWF2_8, B00L1FEYFA_2, B00L1FEYFA_3, B00L1FEYFA_6, B002CY999K_4, B002CY999K_5, B002CY999K_8, B002CY999K_9, B00BVIHWKQ_9, B00BVIHWKQ_10, B00OH9OMUE_4, B00OH9OMUE_6, B00OH9OMUE_9, B00OH9OMUE_10, B01B6C1MVQ_5, B006ZKXGL4_7, B01N4PKL8O_4, B01N4PKL8O_6, B01G3KI8A4_4, B01G3KI8A4_9, B01G3KI8A4_10, B006MPY0WG_4, B006MPY0WG_9, B01ND3Y02K_2, B01ND3Y02K_3, B01ND3Y02K_10, B072N6VMKV_5, B072N6VMKV_10, B005OYGNLW_1, B005OYGNLW_7, B005OYGNLW_9, B01N8PQGFE_3, B01N8PQGFE_5, B01N8PQGFE_7, B01N8PQGFE_8, B07576493W_2, B07576493W_10, B006ZKXHFE_2, B006ZKXHFE_5, B01N8TTTWH_2, B01N8TTTWH_3, B01N8TTTWH_6, B01CIQ11PQ_7, B01CIQ11PQ_9, B01CIQ11PQ_10, B00RVZGVBE_1, B00RVZGVBE_5, B00RVZGVBE_8, B00RVZGVBE_10, B01N3U5U6H_2, B01N3U5U6H_3, B01N3U5U6H_6, B011R2RFX4_5, B011R2RFX4_6, B011R2RFX4_7, B01KZS1IFW_1, B01KZS1IFW_2, B01KZS1IFW_5, B01KZS1IFW_6, B01KZS1IA2_2, B01CW35VME_4, B01CW35VME_5, B01CW35VME_8, B0083U8GP0_4, B0083U8GP0_7, B01JLX2KWC_2, B01JLX2KWC_8, B076B42HXR_4, B01KXT8JV4_10, B008U8WZIY_3, B008U8WZIY_4, B008U8WZIY_9, B01CSAR4F8_4, B00F961WJI_3, B00F961WJI_6, B00F961WJI_8, B002QQ7JM8_1, B002QQ7JM8_2, B002QQ7JM8_6, B002BDU87Y_7, B01608M29M_4, B01608M29M_8, B00IEAALP2_1, B00IEAALP2_2, B00IEAALP2_6, B00IEAALP2_9, B00IEAALP2_10, B01DVEI0WQ_3, B01DVEI0WQ_5, B01DVEI0WQ_7, B01DVEI0WQ_9, B0009Y4FSK_6, B00TT5LRC2_1, B00TT5LRC2_4, B00TT5LRC2_7, B019DZ67J0_3, B019DZ67J0_5, B019DZ67J0_6, B019DZ67J0_8, B019DZ67J0_9, B019DZ67J0_10, B01MUXWESB_5, B01MUXWESB_8, B001S2TIQG_1, B001S2TIQG_2, B001S2TIQG_5, B001S2TIQG_10, B000XAUEXA_5, B000XAUEXA_7, B000XAUEXA_8, B01BE0JGE0_3, B00JPJQASS_1, B00JPJQASS_2, B00JPJQASS_4, B00JPJQASS_5, B00JPJQASS_8, B073P51YBZ_1, B073P51YBZ_3, B073P51YBZ_5, B00EZP9X18_3, B00EZP9X18_4, B00EZP9X18_6, B00EZP9X18_8, B00EZP9X18_10, B01M9GDSPC_1, B01M9GDSPC_7, B01M9GDSPC_8, B01M9GDSPC_10, B0742J54R6_1, B0742J54R6_4, B0742J54R6_6, B0742J54R6_7, B0742J54R6_8, B0742J54R6_9, B0742J54R6_10, B01F49BULE_2, B01F49BULE_6, B01F49BULE_10, B01N3ZAK3K_1, B01N3ZAK3K_5, B01N3ZAK3K_6, B01N3ZAK3K_9, B0080EWI5S_9, B06XT1KZKH_8, B06XT1KZKH_9, B06XT1KZKH_10, B01B1GV0PA_3, B01B1GV0PA_6, B01B1GV0PA_8, B019IGTH96_2, B019IGTH96_3, B019IGTH96_6, B019IGTH96_7, B019IGTH96_9, B00KVHW9H4_5, B01MR15IHO_8, B00561OC3E_1, B00561OC3E_7, B0153H90LE_5, B0153H90LE_6, B0153H90LE_7, B0153H90LE_8, B0153H90LE_9, B0153H90LE_10, B00T4UY6TI_1, B00T4UY6TI_10, B00T6GT622_5, B00T6GT622_8, B06X9PGZZS_3, B06X9PGZZS_5, B06X9PGZZS_7, B06X9PGZZS_8, B06X9PGZZS_9, B06X9PGZZS_10, B01J11QXZE_1, B01J11QXZE_4, B01J11QXZE_5, B01J11QXZE_6, B01J11QXZE_8, B06VTD32J1_3, B006JW15N4_2, B006JW15N4_5, B006JW15N4_6, B006JW15N4_10, B010DIE8PG_3, B010DIE8PG_4, B010DIE8PG_6, B010DIE8PG_7, B010DIE8PG_8, B01LQPA7HS_4, B01LQPA7HS_8, B0117SZ3IM_4, B0117SZ3IM_7, B0117SZ3IM_8, B073HG69VP_5, B073HG69VP_6, B073HG69VP_7, B073HG69VP_8, B073HG69VP_9, B073HG69VP_10, B01N8TTRBI_2, B01N8TTRBI_3, B01N8TTRBI_6, B072XP7VZS_4, B01J41M9WC_3, B01J41M9WC_7, B01J41M9WC_8, B01J41M9WC_9, B01J41DNZE_2, B01J41DNZE_4, B01J41DNZE_7, B01J41DNZE_8, B06X6GKFM8_2, B06X6GKFM8_5, B06X6GKFM8_6, B06X6GKFM8_9, B00GY8S8MO_1, B00GY8S8MO_5, B00GY8S8MO_6, B00GY8S8MO_10, B01J41DNUY_1, B01J41DNUY_9, B01J41DNUY_10, B01J41LQTE_2, B01J41LQTE_5, B01J41LQTE_6, B01J41LQTE_7, B01J41LQTE_10, B01J41LU5E_2, B01J41LU5E_5, B01J41LU5E_6, B01J41LU5E_7, B01J41LU5E_10, B01LX9672R_1, B01LX9672R_6, B01LX9672R_7, B01J41FG72_2, B01J41FG72_8, B01M0SANKN_1, B01M0SANKN_3, B01M0SANKN_5, B01M0SANKN_6, B01M0SANKN_8, B01M0SANKN_10, B0083F2XDQ_10, B01J41D4IU_1, B01J41D4IU_3, B06W2KC378_1, B06W2KC378_2, B06W2KC378_4, B06W2KC378_5, B06W2KC378_9, B01G5RI0KS_4, B01G5RI0KS_8, B01G5RI0KS_10, B01J41HPQ2_3, B01J41HPQ2_9, B01J41FSKW_9, B01J41DNWM_2, B01J41DNWM_6, B01J41DNWM_7, B01J41DNWM_9, B01MYRG38U_9, B06WD3SGCC_2, B06WD3SGCC_3, B06WD3SGCC_7, B01J41LRF2_1, B01J41LRF2_2, B01J41LRF2_3, B00F3B2TVO_2, B00F3B2TVO_4, B00F3B2TVO_9, B00NVDOWUW_10, B06WGPSBW4_1, B06WGPSBW4_2, B06WGPSBW4_5, B06WGPSBW4_6, B013GY8TH2_4, B013GY8TH2_5, B013GY8TH2_6, B016W4QWA4_3, B016W4QWA4_9, B016W4QWA4_10, B01JA24SAG_1, B01JA24SAG_2, B01JA24SAG_9, B06X8ZR7DM_1, B06X8ZR7DM_3, B06X8ZR7DM_4, B06X8ZR7DM_8, B06X8ZR7DM_10, B01J41JLEG_2, B01J41JLEG_3, B01J41JLEG_9, B06W55DZCK_4, B06W55DZCK_10, B06W2KC1QQ_4, B06W2KC1QQ_8, B06W2KC1QQ_10, B06W2KC47K_2, B06W2KC47K_8, B06W2KC47K_9, B06W2KC47K_10, B013GY7GQ2_1, B013GY7GQ2_2, B013GY7GQ2_5, B013GY7GQ2_7, B013GY7GQ2_10, B01J41FSB6_1, B01J41FSB6_3, B01J41FSB6_5, B01J41FSB6_7, B01J41FSB6_9, B06WGPS9V6_2, B00NVDOH2U_2, B00NVDOH2U_8, B00NVDOH2U_10, B01J41GOZU_1, B01J41GOZU_4, B01J41GOZU_5, B01J41GOZU_7, B01J41DVSS_4, B01J41DVSS_5, B01J41LR20_5, B01J41MPF8_6, B01J41MPF8_7, B06WD3SGC2_2, B06WD3SGC2_5, B06WD3SGC2_6, B06WD3SGC2_8, B06WLL3SMJ_3, B00PY3EYQO_3, B00PY3EYQO_7, B00PY3EYQO_10, B06WGPS9MY_2, B06WGPS9MY_3, B06WGPS9MY_4, B06WGPS9MY_9, B01J41JLTQ_1, B01J41JLTQ_4, B06WGPSBPB_2, B06W55DZ8K_1, B06W55DZ8K_7, B06W55DZ8K_8, B06W55DZ8K_10, B012NOGTVE_3, B012NOGTVE_7, B01J41GQOE_1, B01J41GQOE_4, B01J41GQOE_7, B01J41DO0S_1, B01J41DO0S_3, B01J41DO0S_6, B01J41DO0S_8, B01J41FI8E_7, B01J41FI8E_9, B01J41FI8E_10, B01J41DVGU_3, B01J41DVGU_4, B01J41DVGU_6, B01J41DVGU_7, B01J41DVGU_10, B06WLL3TQY_1, B06WLL3TQY_6, B06WLL3TQY_9, B06WLL3TQY_10, B019F2SF14_5, B019F2SF14_7, B019F2SF14_10, B01J41DAUM_2, B01J41DAUM_3, B01J41G4E6_3, B01J41G4E6_4, B01J41G4E6_10, B01J41DNYK_1, B01J41DNYK_2, B01J41DNYK_3, B01J41DNYK_8, B01J41DHSC_2, B01J41DHSC_9, B06WD3SJ8Z_1, B06W2KC1QS_1, B06W2KC1QS_3, B06W2KC1QS_4, B06W2KC1QS_7, B06W2KC1QS_9, B06W2KC1QS_10, B06VVPJ3B4_5, B06VVPJ3B4_6, B01J41D570_2, B06WRRJ6MM_3, B06WRRJ6MM_7, B06WRRJ6MM_10, B01J41FUHS_1, B01J41FUHS_4, B01J41DAQ6_1, B01J41DAQ6_9, B06WLL3M8Y_4, B06WLL3M8Y_9, B01GG2Z8CA_1, B01GG2Z8CA_7, B01GG2Z8CA_8, B01GG2Z8CA_10, B06VVH6313_1, B01J41DHFA_8, B01J41DHFA_10, B00HFPM3IK_6, B01J41HRZQ_4, B01J41HRZQ_5, B01J41HRZQ_9, B01J41KIIE_7, B01J41ERCM_1, B01J41ERCM_3, B01J41ERCM_7, B01J41ERCM_9, B06X92LST2_2, B06X92LST2_5, B06X92LST2_6, B06X92LST2_7, B06X92LST2_8, B06VVH3Z9K_4, B06VVH3Z9K_7, B06VVH3Z9K_8, B06VVH3Z9K_9, B06VVH3Z9K_10, B01J41D5D4_3, B01J41D5D4_5, B06Y4BC95L_4, B00EUJFYCG_3, B00EUJFYCG_8, B01J41GO2S_5, B01J41GO2S_6, B01J41GO2S_7, B01J41GO2S_8, B01J41K0HS_2, B01J41K0HS_5, B01J41JZX8_1, B01J41JZX8_2, B01J41JZX8_3, B01J41JZX8_4, B01J41JZX8_7, B01J41JZX8_8, B01J41JZX8_9, B00DSNQ35W_1, B00DSNQ35W_5, B00DSNQ35W_7, B06WVBM4L8_5, B000E8S8XO_1, B000E8S8XO_2, B000E8S8XO_4, B000E8S8XO_10, B01J41DHWI_1, B01J41DHWI_2, B01J41DHWI_4, B01J41DHWI_8, B01M4RZL27_8, B01M4RZL27_10, B01J41G4SC_1, B01J41G4SC_2, B01J41G4SC_3, B01J41G4SC_4, B01J41G4SC_6, B01J41G4SC_8, B01J41G4SC_9, B06W2KC4T2_1, B06W2KC4T2_4, B06W2KC4T2_10, B01J41EBFU_1, B0042HOU1W_1, B0042HOU1W_4, B0042HOU1W_5, B0042HOU1W_6, B0042HOU1W_7, B0042HOU1W_8, B0042HOU1W_10, B01AC1CTFK_4, B01AC1CTFK_6, B01AC1CTFK_7, B01AC1CTFK_9, B06WRRJ5Z6_2, B06WRRJ5Z6_6, B06WRRJ5Z6_7, B06WRRJ5Z6_10, B06W2KC5GC_1, B06W2KC5GC_3, B06W2KC5GC_4, B06W2KC5GC_6, B06W2KC5GC_8, B06W2KC5GC_9, B06W2KC5GC_10, B01J41G4Z0_2, B01J41G4Z0_5, B01J41G4Z0_9, B01J41G4Z0_10, B01J41EBQ4_7, B06VV73LFR_1, B06VV73LFR_4, B06VV73LFR_5, B06VV73LFR_7, B06VV73LFR_8, B000RPDPSC_7, B000RPDPSC_8, B014L3QKL4_1, B014L3QKL4_4, B014L3QKL4_8, B014L3QKL4_9, B014L3QKL4_10, B000RPC4IY_2, B000RPC4IY_4, B000RPC4IY_9, B0013PU09W_3, B0013PU09W_10, B0033UX0QK_7, B00G7KM4ZG_2, B00G7KM4ZG_10, B01LX5NY95_1, B01LX5NY95_2, B0077QT4VG_2, B006LI5ZLY_2, B006LI5ZLY_3, B006LI5ZLY_4, B006LI5ZLY_5, B006LI5ZLY_10, B01H5QPICG_3, B01H5QPICG_9, B001NQHN7S_5, B001NQHN7S_6, B001NQHN7S_9, B015CCR6UC_8, B015CCR6UC_10, B01BM60SBG_5, B01BM60SBG_6, B01BM60SBG_10, B002LJGM4Q_2, B002LJGM4Q_5, B002LJGM4Q_7, B002LJGM4Q_9, B01ARGBR9O_4, B00403TP8Q_1, B00403TP8Q_2, B00403TP8Q_8, B00CXWC48O_1, B00CXWC48O_5, B01ARGBPBO_4, B01ARGBPBO_10, B019B9SXH2_1, B019B9SXH2_3, B019B9SXH2_6, B019B9SXH2_10, B00TXI26S4_1, B00TXI26S4_3, B00U6E860G_10, B06X9SFWNT_6, B06X9SFWNT_9, B06X9SFWNT_10, B06XSHF3V1_4, B00NBNV3OU_1, B00NBNV3OU_2, B00NBNV3OU_3, B00NBNV3OU_6, B00NBNV3OU_9, B015RSDMWM_1, B015RSDMWM_2, B015RSDMWM_3, B015RSDMWM_4, B015RSDMWM_9, B00LHXUOXM_4, B00LHXUOXM_6, B00LHXUOXM_8, B00LHXUOXM_10, B004CM29Y2_1, B004CM29Y2_6, B004CM29Y2_10, B01IT3VEH2_10, B015CCR1FW_6, B015CCR1FW_9, B00HRRE3UM_4, B00HRRCJUS_1, B00HRRCJUS_3, B00HRRCJUS_6, B00HRRCJUS_10, B000E5QZ8M_1, B000E5QZ8M_4, B000E5QZ8M_10, B001B6ODSW_1, B001B6ODSW_2, B001B6ODSW_3, B001B6ODSW_5, B001B6ODSW_6, B001B6ODSW_8, B001B6ODSW_9, B001B6ODSW_10, B0104BL1Y8_2, B0104BL1Y8_3, B0104BL1Y8_4, B0104BL1Y8_8, B002Y9ZGEA_8, B000L70MQO_7, B000L70MQO_8, B000L70MQO_9, B000L70MQO_10, B00E3SM3SW_2, B00E3SM3SW_7, B00E3SM3SW_9, B00E3SM3SW_10, B001GMQZ14_2, B001GMQZ14_3, B001GMQZ14_6, B01D9KNCNE_7, B01D9KNCNE_9, B01D9KNCNE_10, B00EIFS8AC_1, B00EIFS8AC_2, B01H5QPIJE_2, B01H5QPIJE_9, 095346993X_5, 095346993X_6, 095346993X_8, 095346993X_9, B016VZXJT6_1, B016VZXJT6_6, B016VZXJT6_7, B01EJKLX2U_1, B01EJKLX2U_2, B00026ZEDK_1, B00026ZEDK_8, B00026ZEDK_9, B0090U47KA_1, B0090U47KA_7, B0090U47KA_8, B01IT3VEQ8_10, B0047LF2GK_3, B0047LF2GK_6, B0047LF2GK_8, B0047LF2GK_9, B0047LF2GK_10, B001DRA7HA_6, B001DRA7HA_8, B001DRA7HA_10, B01C479Q7E_4, B019YJNT8C_1, B019YJNT8C_5, B019YJNT8C_6, B019YJNT8C_10, B01CSC7OTW_10, B01M7R41N9_3, B01M7R41N9_8, B005INHQJW_3, B005INHQJW_4, B005INHQJW_6, B005INHQJW_7, B005INHQJW_9, B005KRN6GS_9, B075KP7XW8_2, B075KP7XW8_4, B075KP7XW8_5, B075KP7XW8_8, B075KP7XW8_9, B075KP7XW8_10, B01IKOZ8EA_4, B01IKOZ8EA_6, B0037LIZKQ_1, B0037LIZKQ_3, B0037LIZKQ_4, B0037LIZKQ_7, B0037LIZKQ_8, B0037LIZKQ_9, B003RRXZC8_2, B003RRXZC8_4, B004DDJCSG_4, B004DDJCSG_5, B004DDJCSG_9, B06XJ3635M_5, B06XJ3635M_6, B06XJ3635M_10, B06W2LB1L7_8, B06W2LB1L7_9, B06W2LB1L7_10, B01IT3VEJA_8, B004DJ99MO_4, B004DJ99MO_5, B004DJ99MO_9, B004VYYA2K_1, B004VYYA2K_8, B00165X2B2_5, B00165X2B2_6, B00165X2B2_7, B00Y8AS21W_7, B00Y8AS21W_9, B000FCM09C_1, B000FCM09C_3, B000FCM09C_4, B000FCM09C_10, B06XSQ8RP8_5, B06XSQ8RP8_9, B01J124SUU_1, B01J124SUU_3, B01J124SUU_9, B0058C97YK_3, B0058C97YK_6, B0058C97YK_7, B0058C97YK_10, B0043JF0SQ_1, B0043JF0SQ_4, B0043JF0SQ_9, B00HRRD8US_6, B00HRRD8US_9, B06Y1225MR_4, B06Y1225MR_6, B06Y1225MR_7, B001Q7PXEO_9, B00NZ8GU4E_1, B01MRV4ET4_1, B01MRV4ET4_8, B005KJ4XUO_1, B005KJ4XUO_4, B005KJ4XUO_6, B005KJ4XUO_7, B005KJ4XUO_9, B005KJ4XUO_10, B0080MSGFQ_3, B0080MSGFQ_6, B0080MSGFQ_9, B00NWG3JC0_5, B00NWG3JC0_7, B00NWG3JC0_10, B00MT044II_4, B00MT044II_5, B00MT044II_7, B00MT044II_8, B00MT044II_9, B00MT044II_10, B0104BKFU4_3, B0104BKFU4_4, B0104BKFU4_7, B01MQOC7TZ_4, B00210E0VM_1, B00210E0VM_4, B00210E0VM_5, B00210E0VM_9, B00O2JUVRM_2, B00O2JUVRM_6, B0000BX8MA_2, B0000BX8MA_10, B01IT3VHAG_3, B00XLHP1FS_7, B00XLHP1FS_8, B00XLHP1FS_9, B01H5QPIG2_5, B01H5QPIG2_10, B072MGVV73_2, B072MGVV73_3, B072MGVV73_8, B009386Q9O_1, B009386Q9O_2, B009386Q9O_3, B009386Q9O_8, B009386Q9O_9, B00Q8NEL1M_5, B00Q8NEL1M_8, B00Q8NEL1M_10, B01EAANJTE_1, B01EAANJTE_2, B01EAANJTE_4, B01EAANJTE_9, B00000IZKX_1, B00000IZKX_6, B00000IZKX_7, B00000IZKX_8, B00000IZKX_10, B00GSSMI1M_3, B00GSSMI1M_4, B00GSSMI1M_5, B00GSSMI1M_6, B00GSSMI1M_9, B000FCM0B0_9, B000FCM0B0_10, B014V7G830_2, B014V7G830_5, B014V7G830_8, B014V7G830_10, B017SRMTR4_3, B017SRMTR4_4, B017SRMTR4_6, B017SRMTR4_7, B017SRMTR4_10, B00A8PW9QK_2, B00A8PW9QK_8, B00A8PW9QK_9, B00SWRBOQM_2, B00SWRBOQM_5, B00SWRBOQM_7, B01CXSZU8I_3, B01CXSZU8I_5, B01CXSZU8I_9, B0015XJUV6_2, B009VIDP2C_2, B009VIDP2C_3, B009VIDP2C_9, B00YCICQHQ_3, B00YCICQHQ_5, B00YCICQHQ_6, B00YCICQHQ_7, B00YCICQHQ_8, B01N6U9TS6_10, B003JSMW88_4, B01BXAISS6_2, B01BXAISS6_3, B01BXAISS6_6, B01BXAISS6_7, B01BXAISS6_8, B01BXAISS6_10, B06XRGR78J_6, B06XRGR78J_7, B06XRGR78J_8, B06XRGR78J_9, B00ISQKHTM_1, B00ISQKHTM_2, B00ISQKHTM_9, B000UTXL20_4, B005XVIY9A_4, B005XVIY9A_6, B002P7SEK4_2, B002P7SEK4_3, B002P7SEK4_8, B001G4MVN8_1, B001G4MVN8_7, B00CRZXUZI_2, B00CRZXUZI_6, B00CRZXUZI_7, B00CRZXUZI_9, B000I8T8V6_1, B000I8T8V6_3, B000I8T8V6_5, B00CM7A0ZE_4, B00CM7A0ZE_6, B00CM7A0ZE_9, B0079FCB8I_5, B0079FCB8I_6, B00JM94NGM_4, B00JM94NGM_7, B07219WZFC_1, B07219WZFC_2, B07219WZFC_3, B07219WZFC_7, B07219WZFC_8, B07219WZFC_9, B07219WZFC_10, B000H5V08E_5, B000H5V08E_9, B01HBFUA4W_5, B0006SK3WG_1, B01AXP1S9I_7, B01AXP1S9I_8, B01AXP1S9I_9, B01AXP1S9I_10, B01DXULN9K_6, B004S6QWHW_1, B004S6QWHW_2, B004S6QWHW_5, B004S6QWHW_6, B004S6QWHW_7, B0007KK0V2_2, B0007KK0V2_6, B004P5PTZ2_5, B004P5PTZ2_7, B00N4TRHVO_2, B00N4TRHVO_4, B00N4TRHVO_5, B015HJV4TE_3, B015HJV4TE_4, B015HJV4TE_5, B015HJV4TE_7, B00004TDLD_1, B00004TDLD_6, B00L2DZ4OG_3, B00L2DZ4OG_4, B00008OS3W_3, B00008OS3W_6, B00008OS3W_10, B00GNJRR76_1, B00GNJRR76_4, B00GNJRR76_5, B00GNJRR76_9, B00GNJRR76_10, B004R3RV6W_1, B004R3RV6W_3, B004R3RV6W_4, B004R3RV6W_6, B004R3RV6W_9, B00EQ4JOBC_2, B002OHCYZQ_2, B002OHCYZQ_4, B002OHCYZQ_5, B002OHCYZQ_7, B004S6QWEK_1, B004S6QWEK_3, B004S6QWEK_4, B004OBZRR2_8, B004OBZRR2_9, B001AXFDRQ_2, B001AXFDRQ_3, B001AXFDRQ_4, B001AXFDRQ_9, B00IF97V1Y_5, B00IF97V1Y_6, B00IF97V1Y_7, B00IF97V1Y_8, B00IF97V1Y_9, B00IF97V1Y_10, B00WJ1O76G_3, B00WJ1O76G_6, B00WJ1O76G_7, B00ZTL4YCA_3, B00ZTL4YCA_5, B00ZTL4YCA_7, B00ZTL4YCA_10, B007FJM7PK_2, B007FJM7PK_4, B06XZ3RQVN_3, B06XZ3RQVN_9, B06XZ3RQVN_10, B00006L99R_1, B00006L99R_5, B00006L99R_6, B0015X4Y5S_5, B0015X4Y5S_7, B0015X4Y5S_8, B0015QQZJS_2, B0015QQZJS_5, B0015QQZJS_10, B01CJFHW0Y_1, B014TL44FM_6, B00YF33H12_2, B00YF33H12_4, B00YF33H12_6, B00YF33H12_8, B075V51NCV_3, B075V51NCV_5, B075V51NCV_6, B06XHJC5R6_5, B06XHJC5R6_8, B00CWB0KLE_5, B00CWB0KLE_8, B00CWB0KLE_10, B0030BJRWS_3, B0030BJRWS_5, B0077OIYXC_3, B0077OIYXC_8, B0077OIYXC_9, B01DC8Q2ZS_4, B01DC8Q2ZS_5, B01DC8Q2ZS_7, B01D9IDIQW_2, B01D9IDIQW_9, B0007TXTIO_5, B0007TXTIO_7, B0007TXTIO_9, B00LAX52IQ_3, B00LAX52IQ_5, B00LAX52IQ_9, B00LAX52IQ_10, B00ZOO1YJ8_3, B00ZOO1YJ8_4, B00ZOO1YJ8_5, B00ZOO1YJ8_9, B00ZOO1YJ8_10, B01H5AD86K_3, B01H5AD86K_5, B01H5AD86K_8, B01H5AD86K_9, B01H5AD86K_10, B001UHO66Q_1, B001UHO66Q_2, B001UHO66Q_3, B001UHO66Q_9, B00F4VFJRO_2, B00008BFZH_1, B00008BFZH_10, B000795N4W_5, B000795N4W_9, B00B1Z6EPS_3, B00B1Z6EPS_9, B00067U6R4_1, B00067U6R4_2, B00067U6R4_3, B00067U6R4_10, B01C765UTA_6, B01C765UTA_10, B00000ISC5_3, B00000ISC5_4, B00EUJFYCG_3, B00EUJFYCG_8, B01CJFHVR8_1, B00U3G9Q9W_1, B00U3G9Q9W_2, B00U3G9Q9W_3, B00U3G9Q9W_7, B00U3G9Q9W_10, B000H6W53W_1, B000H6W53W_7, B000H6W53W_9, B00OP1MCJC_7, B004X4WB2E_2, B004X4WB2E_5, B00DSNQ35W_1, B00DSNQ35W_5, B00DSNQ35W_7, B000E8S8XO_1, B000E8S8XO_2, B000E8S8XO_4, B000E8S8XO_10, B01DXULLCE_8, B00BQB8GZ8_1, B00BQB8GZ8_7, B00BQB8GZ8_8, B00BQB8GZ8_10, B00CP6A836_4, B00CP6A836_7, B00CP6A836_8, B0006HBERA_1, B0006HBERA_2, B0006HBERA_5, B0006HBERA_8, B001CG5IZI_1, B001CG5IZI_3, B001CG5IZI_4, B001CG5IZI_5, B001CG5IZI_6, B001CG5IZI_7, B001CG5IZI_10, B00JM98ZNO_7, B00JM98ZNO_8, B00JM98ZNO_9, B00FA0Y5I8_6, B00JLHVX36_2, B00JLHVX36_5, B00JLHVX36_7, B01MQGK0FU_1, B01MQGK0FU_3, B01MQGK0FU_4, B01MQGK0FU_5, B01MQGK0FU_7, B01MQGK0FU_10, B00OE6TQZQ_1, B00OE6TQZQ_4, B00OE6TQZQ_7, B00OE6TQZQ_8, B00OE6TQZQ_9, B0077OIZ04_2, B0077OIZ04_8, B0079FCBBK_3, B000088T2F_2, B000088T2F_4, B000088T2F_5, B000088T2F_6, B000088T2F_7, B00XCK9LNC_3, B00XCK9LNC_6, B00XCK9LNC_8, B00000IZKX_1, B00000IZKX_6, B00000IZKX_7, B00000IZKX_8, B00000IZKX_10, B0074HSHGQ_1,"
     ]
    },
    {
     "name": "stderr",
     "output_type": "stream",
     "text": [
      "/usr/local/lib/python3.6/site-packages/ipykernel_launcher.py:10: DeprecationWarning: \n",
      ".ix is deprecated. Please use\n",
      ".loc for label based indexing or\n",
      ".iloc for positional indexing\n",
      "\n",
      "See the documentation here:\n",
      "http://pandas.pydata.org/pandas-docs/stable/indexing.html#ix-indexer-is-deprecated\n",
      "  # Remove the CWD from sys.path while we load stuff.\n"
     ]
    },
    {
     "name": "stdout",
     "output_type": "stream",
     "text": [
      " B0074HSHGQ_2, B0074HSHGQ_7, B0074HSHGQ_9, B06W2H5DF8_5, B06W2H5DF8_9, B06W2H5DF8_10, B002ZSSEG2_4, B002ZSSEG2_5, B002ZSSEG2_7, B002ZSSEG2_10, B0026ZPSS6_3, B0026ZPSS6_4, B0026ZPSS6_6, B0026ZPSS6_9, B004JQPXNU_2, B004JQPXNU_5, B004JQPXNU_9, B07632XN62_2, B07632XN62_4, B07632XN62_5, B07632XN62_6, B07632XN62_7, B07632XN62_8, B07632XN62_9, B0007TXTL6_10, B0031J8Q4E_4, B0031J8Q4E_9, B0031J8Q4E_10, B0006G3B68_5, B0006G3B68_9, B073RPXNWH_2, B073RPXNWH_5, B073RPXNWH_6, B073RPXNWH_8, B00J1XDZIQ_4, B00J1XDZIQ_8, B0026ZPTYY_8, B06WVH1RFT_1, B06WVH1RFT_2, B06WVH1RFT_7, B06WVH1RFT_10, B00CRGPHZ8_4, B00CRGPHZ8_6, B00CRGPHZ8_8, B01N4SEGJ9_2, B01N4SEGJ9_8, B01N4SEGJ9_10, B0015XWTW8_9, B00HWHO7M6_2, B00HWHO7M6_10, B00000JD5S_1, B00000JD5S_5, B00000JD5S_10, B00HFR4GRY_4, B008IZHSLS_2, B008IZHSLS_4, B008IZHSLS_6, B008IZHSLS_8, B008IZHSLS_10, B00VFLTZ4A_6, B00VFLTZ4A_7, B00VFLTZ4A_8, B00140ILCO_1, B00140ILCO_2, B00140ILCO_4, B00140ILCO_6, 1933054395_6, B00ECDKCUE_3, B00ECDKCUE_4, B00ECDKCUE_5, B00ECDKCUE_9, B01GPSA2RG_3, B01GPSA2RG_5, B01GJN6R62_8, B01CXQSEOC_2, B01CXQSEOC_10, B003MSYGWA_4, B003MSYGWA_6, B003MSYGWA_7, B00LGWRTS2_1, B00LGWRTS2_4, B00LGWRTS2_6, B06W2H5RYP_1, B06W2H5RYP_9, B06W2H5RYP_10, B00WOFBCHO_3, B00WOFBCHO_4, B000EB7AJO_1, B000EB7AJO_5, B000EB7AJO_6, B06XWRPQZD_4, B06XWRPQZD_7, B06XWRPQZD_8, B06XWRPQZD_9, B00000J0JF_2, B00000J0JF_4, B00000J0JF_5, B00000J0JF_6, B00HFJNHCM_6, B00HFJNHCM_10, B014SVVLDQ_6, B014SVVLDQ_10, B01K1MDHJC_7, B01K1MDHJC_9, B073PW186C_1, B073PW186C_6, B073PW186C_9, B073PW186C_10, B000EWC11U_2, B000EWC11U_5, B000EWC11U_6, B000EWC11U_8, B008DB7VSM_1, B008DB7VSM_4, B008DB7VSM_9, B008DB7VSM_10, B013ORII9A_2, B013ORII9A_6, B013ORII9A_7, B013ORII9A_10, B075TT97NT_2, B075TT97NT_4, B075TT97NT_6, B075TT97NT_7, B075TT97NT_8, B075TT97NT_9, B002105R50_2, B002105R50_5, B002105R50_9, B01NH7MO6D_1, B01NH7MO6D_7, B0747NY7TP_2, B0747NY7TP_4, B0747NY7TP_8, B0747NY7TP_9, B0747NY7TP_10, B00Y0YY03A_1, B00Y0YY03A_3, B00Y0YY03A_5, B00Y0YY03A_8, B00Y0YY03A_9, B00Y0YY03A_10, B06ZXV6RDC_6, B06ZXV6RDC_10, B019XMRQPM_9, B018FPKN4Y_4, B018FPKN4Y_5, B018FPKN4Y_6, B018FPKN4Y_10, B0006NM9AK_8, B0006NM9AK_9, B06WLHXMDM_2, B06WLHXMDM_6, B06WLHXMDM_7, B06WLHXMDM_8, B06WLHXMDM_9, B06WLHXMDM_10, B00FS6TN6I_4, B00FS6TN6I_6, B00FS6TN6I_7, B00FS6TN6I_10, B01MZXOR7M_2, B01MZXOR7M_3, B01MZXOR7M_6, B01MZXOR7M_9, B01MZXOR7M_10, B00005N5P6_1, B00005N5P6_2, B00005N5P6_3, B00005N5P6_4, B00005N5P6_5, B00005N5P6_6, B00005N5P6_8, B01IW2XIK6_6, B06XSZJWSX_1, B06XSZJWSX_7, B06XSZJWSX_8, B004O0TOJA_2, B004O0TOJA_3, B00HFR4FAW_6, B071VW7RKC_7, B01N0Z3QWO_3, B01N0Z3QWO_5, B01N0Z3QWO_8, B005WVN1B2_3, B005WVN1B2_4, B00HHBLZAE_5, B00HHBLZAE_8, B0007TXTIO_5, B0007TXTIO_7, B0007TXTIO_9, B000WPD44W_9, B00HWHNNRG_1, B00QM4W042_2, B00QM4W042_6, B008IZHSEA_1, B008IZHSEA_3, B008IZHSEA_5, B008IZHSEA_9, B06XPXQW6Z_2, B06XPXQW6Z_3, B06XPXQW6Z_7, B01AT47MLQ_1, B01AT47MLQ_2, B01AT47MLQ_7, B01AT47MLQ_8, B01AT47MLQ_9, B00CFV24TC_1, B00CFV24TC_4, B00CFV24TC_9, B00CFV24TC_10, B00HFJNHOK_1, B00HFJNHOK_4, B00IVC1B16_5, B00IVC1B16_7, B00IVC1B16_10, B003PHQHUM_2, B003PHQHUM_9, B009IR0P0G_3, B009IR0P0G_4, B009IR0P0G_9, B009IR0P0G_10, B01MRLKIEK_4, B01MRLKIEK_5, B01MRLKIEK_6, B01MRLKIEK_7, B01MRLKIEK_8, B01MRLKIEK_9, B01MRLKIEK_10, B075QHL7M2_1, B075QHL7M2_3, B075QHL7M2_4, B01N8VUCQ6_2, B01N8VUCQ6_3, B01N8VUCQ6_7, B01N8VUCQ6_9, B00OYJ6IY0_3, B00OYJ6IY0_4, B00OYJ6IY0_7, B00OYJ6IY0_10, B00000DMER_3, B01MSFGJ38_3, B01MSFGJ38_8, B01MSFGJ38_10, B00MOI8756_8, B01IQX06K6_4, B005IX6ZOY_7, B005IX6ZOY_8, B00HWHNMUO_1, B00HWHNMUO_5, B0002HR306_4, B0002HR306_9, B0002HR306_10, B072J28JYT_1, B072J28JYT_7, B072J28JYT_10, B0721Y71NB_3, B0721Y71NB_5, B0721Y71NB_8, B01N4RMMGB_1, B01N4RMMGB_3, B01N4RMMGB_7, B01N9JXEHF_6, B0753C927N_4, B0753C927N_5, B0753C927N_6, B0753C927N_8, B0753C927N_10, B000EWC0NY_1, B000EWC0NY_2, B000EWC0NY_7, B00146K0I6_1, B00146K0I6_2, B00146K0I6_7, B00A2MLITS_2, B00A2MLITS_3, B00A2MLITS_4, B00A2MLITS_10, B071G85LSK_1, B071G85LSK_2, B071G85LSK_8, B071G85LSK_9, B001NQHN7S_5, B001NQHN7S_8, B006YMOCOS_2, B006YMOCOS_3, B006YMOCOS_5, B006YMOCOS_7, B006YMOCOS_10, B018NMU2FY_2, B018NMU2FY_3, B018NMU2FY_6, B018NMU2FY_7, B00FYON14Y_1, B00FYON14Y_4, B00FYON14Y_8, B00FYON14Y_9, B01MFGBS5K_1, B01MFGBS5K_3, B01MFGBS5K_4, B01MFGBS5K_7, B01BP6GPX8_3, B004ISL30Q_3, B004ISL30Q_5, B004ISL30Q_8, B004ISL30Q_10, B0002HZPUG_1, B0002HZPUG_2, B0002HZPUG_4, B0002HZPUG_5, B01D2R64WK_1, B01D2R64WK_3, B01D2R64WK_10, B01N4EM5ML_3, B01N4EM5ML_9, B005XVIY9A_4, B005XVIY9A_6, B004VPJBK0_3, B004VPJBK0_5, B004VPJBK0_6, B01MS0D34S_1, B01MS0D34S_2, B01MS0D34S_4, B01MS0D34S_7, B01MS0D34S_8, B06X9LP736_2, B06X9LP736_4, B06X9LP736_6, B06X9LP736_7, B06X9LP736_8, B06X9LP736_9, B06X9LP736_10, B000FJ3FK8_6, B001HBJ5P2_6, B001HBJ5P2_7, B01D4GA4AM_1, B01D4GA4AM_6, B01D4GA4AM_8, B01D4GA4AM_9, B01D4GA4AM_10, B01N9480GG_3, B01N9480GG_5, B01N9480GG_10, B005FQTPMS_2, B005FQTPMS_3, B005FQTPMS_4, B005FQTPMS_6, B005FQTPMS_8, B003JGSIWY_5, B003JGSIWY_7, B003JGSIWY_9, B003JGSIWY_10, B005RROHPU_2, B005RROHPU_3, B005RROHPU_4, B0079FCB8I_5, B0079FCB8I_6, B076M2486L_1, B076M2486L_2, B076M2486L_4, B076M2486L_5, B076M2486L_10, B009CSSG4I_7, B009CSSG4I_8, B009NFH6Y6_1, B006ZKXGL4_7, B075CG95NL_4, B075CG95NL_5, B075CG95NL_8, B075CG95NL_9, B075CG95NL_10, B00BSN004E_6, B00BSN004E_8, B01N4PKL8O_4, B01N4PKL8O_6, B00009B1SF_1, B00009B1SF_3, B00009B1SF_7, B01F6XNAVG_9, B0135X2GQE_1, B0135X2GQE_5, B0135X2GQE_6, B0135X2GQE_9, B0135X2GQE_10, B005KPLNFG_2, B005KPLNFG_5, B005KPLNFG_8, B00ETMVUMC_2, B00ETMVUMC_5, B00ETMVUMC_8, B00TDP7R2W_1, B00TDP7R2W_2, B00TDP7R2W_4, B00TDP7R2W_5, B00TDP7R2W_6, B00TDP7R2W_8, B006ZKXHFE_2, B006ZKXHFE_5, B002CZPR0Y_6, B001BRVBH2_1, B001BRVBH2_3, B001BRVBH2_8, B01BP6GPV0_1, B01BP6GPV0_4, B01BP6GPV0_8, B076H1SYKW_4, B076H1SYKW_7, B00008J1AV_4, B00008J1AV_7, B00008J1AV_9, B000LNC6SU_1, B000LNC6SU_2, B000LNC6SU_9, B000LNC6SU_10, B01NCP46DK_2, B01NCP46DK_3, B01NCP46DK_4, B00BFSF66O_1, B00BFSF66O_3, B00BFSF66O_5, B00BFSF66O_9, B00V0XKDL2_6, B00V0XKDL2_9, B01M1ALBUC_2, B01M1ALBUC_5, B01M1ALBUC_6, B01M1ALBUC_8, B009NFH54W_6, B009NFH54W_10, B00ABXVV3Q_9, B01608M29M_4, B01608M29M_8, B0002CYUMA_3, B0002CYUMA_8, B0002CYUMA_10, B006FT065O_1, B006FT065O_2, B006FT065O_5, B006FT065O_9, B00BSN1CAU_2, B00BSN1CAU_5, B00BSN1CAU_7, B00VEMLNU4_1, B00VEMLNU4_5, B00VEMLNU4_8, B00VEMLNU4_9, B06X9KFFTJ_1, B06X9KFFTJ_5, B06X9KFFTJ_8, B06X9KFFTJ_10, B01N34ZSTJ_4, B01N34ZSTJ_5, B01N34ZSTJ_8, B0756TLW9F_3, B0756TLW9F_8, B002KCSNBO_2, B002KCSNBO_9, B002KCSNBO_10, B00BMLVF6O_6, B00BMLVF6O_7, B00BMLVF6O_9, B004VPJBGY_3, B004VPJBGY_5, B004VPJBGY_6, B074CFDWCF_2, B074CFDWCF_4, B074CFDWCF_5, B074CFDWCF_7, B074CFDWCF_8, B01GPOL4UO_1, B01GPOL4UO_2, B01GPOL4UO_7, B01GPOL4UO_9, B01CK2UFR8_1, B01CK2UFR8_3, B01CK2UFR8_4, B01CK2UFR8_6, B01CK2UFR8_7, B01CK2UFR8_9, B01CK2UFR8_10, B06XYJ6SRY_7, B06XYJ6SRY_8, B06XYJ6SRY_9, B01MR15IHO_8, B00I4CEVZG_1, B00I4CEVZG_2, B00I4CEVZG_7, B004YATJ72_2, B004YATJ72_3, B076CLFGPP_4, B076CLFGPP_6, B076CLFGPP_7, B076CLFGPP_8, B076CLFGPP_9, B076CLFGPP_10, B001RZJK8A_2, B001RZJK8A_5, B001RZJK8A_9, B001RZJK8A_10, B00VEMLOBC_1, B00VEMLOBC_2, B00VEMLOBC_8, B00VEMLOBC_9, B00VEMLOBC_10, B002V841QI_6, B002V841QI_8, B00MUMZM90_2, B00MUMZM90_5, B00MUMZM90_7, B00MUMZM90_9, B0085JRADS_4, B010NXYQMG_4, B010NXYQMG_5, B010NXYQMG_8, B010NXYQMG_9, B075XJQQQB_3, B075XJQQQB_6, B01MXLMEAP_1, B01MXLMEAP_2, B01MXLMEAP_3, B01MXLMEAP_4, B01MXLMEAP_6, B01MXLMEAP_7, B01MXLMEAP_10, B014M0S1EK_2, B014M0S1EK_5, B014M0S1EK_6, B014M0S1EK_7, B014M0S1EK_8, B014M0S1EK_9, B014M0S1EK_10, B014LKSFJ2_4, B014LKSFJ2_5, B015X471AY_1, B015X471AY_2, B015X471AY_3, B015X471AY_4, B015X471AY_5, B015X471AY_7, B015X471AY_9, B004JQPXOE_1, B004JQPXOE_3, B004JQPXOE_5, B004JQPXOE_6, B0721KV9ZQ_3, B0721KV9ZQ_4, B0721KV9ZQ_5, B0721KV9ZQ_6, B0721KV9ZQ_7, B0721KV9ZQ_8, B0721KV9ZQ_9, B0721KV9ZQ_10, B06X9Q5T2N_1, B06X9Q5T2N_3, B00E9QMIME_3, B00E9QMIME_7, B00E9QMIME_8, B0002GTIXW_2, B0002GTIXW_8, B0002GTIXW_9, B0002GTIXW_10, B000284ZNI_10, B0723HN2QW_1, B011CCMOTE_3, B011CCMOTE_5, B018S366RQ_1, B018S366RQ_3, B009M5K0O0_1, B009M5K0O0_2, B009M5K0O0_3, B00SCF10DG_10, B074492T3G_2, B074492T3G_10, B001ENV4JS_6, B001ENV4JS_7, B001ENV4JS_8, B001ENV4JS_9, B0764DW1JY_8, B074J57L4L_2, B074J57L4L_4, B074J57L4L_6, B074J57L4L_7, B074J57L4L_8, B000WNZ1SQ_1, B000WNZ1SQ_7, B000WNZ1SQ_8, B000WNZ1SQ_9, B074J5S67L_2, B074J5S67L_4, B074J5S67L_6, B074J5S67L_7, B074J5S67L_8, B00C2RC8FE_3, B074GTSKQ3_5, B01GVGIJT0_4, B01GVGIJT0_9, B004QB4VRW_2, B004QB4VRW_3, B004QB4VRW_7, B004QB4VRW_9, B004QB4VRW_10, B071G8QNLR_3, B071G8QNLR_7, B019F4JLRO_2, B00WNC1A9I_4, B01LZNNV62_9, B01LZNNV62_10, B01CTVWFHI_7, B06ZZ6PSFM_4, B06ZZ6PSFM_8, B00C65YDGE_4, B00C65YDGE_7, B00C65YDGE_9, B00C65YDGE_10, B00K6D4UHA_6, B00K6D4UHA_8, B0719QH4CM_2, B0719QH4CM_6, B0719QH4CM_8, B0719QH4CM_9, B018S367L6_9, B00005OB9I_5, B00EIFS8AC_1, B00EIFS8AC_2, B00RY3C5BI_7, B071WJX1N7_1, B071WJX1N7_2, B071WJX1N7_4, B071WJX1N7_9, B016XRTTAA_4, B016XRTTAA_7, B01DSX8XS6_1, B01DSX8XS6_2, B01DSX8XS6_7, B01DSX8XS6_9, B001W30D2O_4, B00R7Q2RVK_2, B00R7Q2RVK_3, B00R7Q2RVK_5, B00XSPEW2G_5, B00XSPEW2G_8, B00RY3C6MQ_1, B00RY3C6MQ_9, B071SF5W39_9, B071SF5W39_10, B01MFCMO1M_9, B00SWUTUOM_4, B00SWUTUOM_6, B00SWUTUOM_7, B00SWUTUOM_9, B07516GZ2L_5, B07516GZ2L_6, B072F6DZMC_2, B072F6DZMC_4, B072F6DZMC_9, B01KNBCDLE_2, B003YC2VPS_9, B00BB7YETE_5, B00BB7YETE_9, B01NBWUAFD_8, B01BPUNVS6_7, B01BPUNVS6_8, B01BPUNVS6_9, B00CIU4T2K_3, B00CIU4T2K_9, B00YHDSAZS_4, B00SYIPS70_6, B00DQN034Q_9, B00DQN034Q_10, B010DJXDII_8, B01DSX8XYU_3, B01DSX8XYU_6, B01DSX8XYU_7, B01DSX8XYU_8, B01DSX8XYU_9, B004T1M4EG_3, B004T1M4EG_8, B00HUMNWN8_5, B0721B946K_2, B0721B946K_9, B0721B946K_10, B0721SWLM3_5, B0721SWLM3_6, B0721SWLM3_9, B00Y17BDTA_5, B00Y17BDTA_10, B071FGLFQN_2, B071FGLFQN_6, B071FGLFQN_8, B071FGLFQN_9, B004T1MCDO_1, B004T1MCDO_4, B004T1MCDO_5, B004T1MCDO_6, B018XNPA0A_5, B018XNPA0A_6, B018XNPA0A_10, B00F657TXA_2, B00F657TXA_5, B06XHKNVX9_1, B06XHKNVX9_3, B06XHKNVX9_8, B00TV402ZE_1, B00TV402ZE_2, B00TV402ZE_4, B00TV402ZE_5, B00TV402ZE_6, B00TV402ZE_8, B00TV402ZE_9, B072FP7D1B_4, B072FP7D1B_5, B072FP7D1B_7, B072FP7D1B_9, B072FP7D1B_10, B074M3F7WY_2, B074M3F7WY_3, B074M3F7WY_9, B074M3F7WY_10, B00BQY073O_1, B00BQY073O_4, B00BQY073O_9, B00YHDSB1G_4, B00R7Q2RRO_2, B00R7Q2RRO_7, B06XCDHYY7_2, B06XCDHYY7_3, B06XCDHYY7_5, B06XCDHYY7_6, B06XCDHYY7_7, B06XCDHYY7_9, B01M0YC7J8_7, B004T1MDZ6_2, B004T1MDZ6_3, B01BU9WWYG_1, B01BU9WWYG_4, B01BU9WWYG_5, B01BU9WWYG_7, B018S367KW_1, B018S367KW_2, B018S367KW_6, B018S367KW_10, B0712191GF_8, B01N7K9PQ4_3, B01N7K9PQ4_5, B00WNC0K80_3, B00C20M07C_1, B00C20M07C_5, B00C20M07C_6, B00C20M07C_9, B00C20M07C_10, B01GFZT3QK_2, B01M3TUX8K_1, B01M3TUX8K_2, B01M3TUX8K_3, B01M3TUX8K_4, B01M3TUX8K_5, B01M3TUX8K_7, B01M3TUX8K_8, B072ZB89LR_6, B072ZB89LR_7, B002Q4M5PQ_8, B01N07TS8M_7, B071JVQTQF_3, B071JVQTQF_10, B001ENZ43K_1, B001ENZ43K_10, B01ICSE08Y_5, B01ICSE08Y_8, B000I2Q0F4_2, B000I2Q0F4_5, B000I2Q0F4_6, B000I2Q0F4_7, B000I2Q0F4_8, B000I2Q0F4_10, B06Y479HS9_1, B06Y479HS9_3, B06Y479HS9_5, B06Y479HS9_10, B0727VNM6G_5, B0727VNM6G_10, B01LYRGY7M_4, B01LYRGY7M_6, B01LYRGY7M_8, B01608LKP4_1, B01608LKP4_5, B01608LKP4_6, B019DQFZJM_3, B019DQFZJM_6, B019DQFZJM_7, B019DQFZJM_9, B01HGTMPHS_6, B01HGTMPHS_7, B01HGTMPHS_10, B01NAKL8NE_4, B01NAKL8NE_6, B01NAKL8NE_7, B01MUQHG4W_1, B01MUQHG4W_5, B01MUQHG4W_7, B010BT1UR6_1, B010BT1UR6_7, B010BT1UR6_10, B01LTHZP16_2, B06WLNL3WT_2, B06WLNL3WT_5, B06WLNL3WT_6, B06WLNL3WT_9, B004KPKWKY_1, B004KPKWKY_5, B004KPKWKY_7, B01NCJX1GR_1, B01NCJX1GR_5, B01NCJX1GR_10, B01LY44LRZ_4, B01LY44LRZ_6, B01LY44LRZ_8, B000JXKWYC_4, B0014VIX3A_9, B06XJ2XLMY_1, B06XJ2XLMY_2, B06XJ2XLMY_3, B06XJ2XLMY_6, B06XJ2XLMY_7, B06XJ2XLMY_8, B06XJ2XLMY_9, B00IF1VVFO_2, B00IF1VVFO_9, B00IF1VVFO_10, B01M7YNDXI_3, B01M7YNDXI_9, B01EV5EZZU_3, B06XPHB8GS_5, B06XPHB8GS_7, B06XPHB8GS_8, B009T1UB14_1, B009T1UB14_5, B009T1UB14_7, B009T1UB14_8, B01HVA4DPE_3, B01HVA4DPE_5, B00F3B2TVO_2, B00F3B2TVO_4, B00F3B2TVO_9, B00S640FGQ_4, B005XVIY9A, B005XVIY9A, B072Q6TZC5, B072Q6TZC5, B072Q6TZC5, B072Q6TZC5, B01F93H43I, B01F93H43I, B01F93H43I, B013GY8TH2, B013GY8TH2, B013GY8TH2, B00LHNR282, B00LHNR282, B00LHNR282, B00LHNR282, B01LYFTXRS, B01LYFTXRS, B01LYFTXRS, B01EKFF2KS, B01EKFF2KS, B01EKFF2KS, B06XNJ6RFT, B06XNJ6RFT, B06XNJ6RFT, B06XNJ6RFT, B01LZ4HSYB, B00O4E27MC, B00O4E27MC, B00O4E27MC, B071ZSY96K, B071ZSY96K, B071ZSY96K, B01LX4ZC9H, B013GY7GQ2, B013GY7GQ2, B013GY7GQ2, B013GY7GQ2, B013GY7GQ2, B01CNSO54I, B01CNSO54I, B00N1EJXUU, B00N1EJXUU, B00N1EJXUU, B01AWGZXNA, B01AWGZXNA, B01AWGZXNA, B01N6RK9UE, B01N6RK9UE, B01N6RK9UE, B01N6RK9UE, B01M5K3XLA, B01M5K3XLA, B01M5K3XLA, B01M5K3XLA, B01M5K3XLA, 6040489650, B0052KHQ8M, B0052KHQ8M, B0052KHQ8M, B01CSC7OTW, B0055ANRZ0, B0055ANRZ0, B0055ANRZ0, B073BFVH9Q, B073BFVH9Q, B073BFVH9Q, B073BFVH9Q, B01MZITZZJ, B01MZITZZJ, B01MZITZZJ, B075MB3BD2, B075MB3BD2, B075MB3BD2, B075MB3BD2, B075MB3BD2, B075MB3BD2, B00160C8NK, B00160C8NK, B00160C8NK, B00160C8NK, B00FJR0FOK, B00FJR0FOK, B00FJR0FOK, B00FJR0FOK, B00FJR0FOK, B00FJR0FOK, B0001MEGSY, B0001MEGSY, B0001MEGSY, B01BSXWY38, B01BSXWY38, B01BSXWY38, B01BSXWY38, B01BSXWY38, B01BSXWY38, B071FTWXB2, B071FTWXB2, B071FTWXB2, B071FTWXB2, B071FTWXB2, B00VLUZ31O, B00VLUZ31O, B00VLUZ31O, B00VLUZ31O, B00VLUZ31O, B01MQR0SJA, B01EKBD0DI, B01EKBD0DI, B00O4E4040, B00O4E4040, B00O4E4040, B00O4E4040, B00W62P65E, B06X6BJKWJ, B06X6BJKWJ, B06X6BJKWJ, B01MRE5KS2, B01MRE5KS2, B01MRE5KS2, B01MRE5KS2, B01MG9A7IP, B01MG9A7IP, B01608LE1Y, B01LYRIWYZ, B01LYRIWYZ, B06XBBBYJN, B06XBBBYJN, B0188R0MMC, B012NOF6G8, B012NOF6G8, B012NOF6G8, B012NOF6G8, B00NLHWELM, B00NLHWELM, B019JIACIS, B00TQ6RORQ, B00TQ6RORQ, B00TQ6RORQ, B00TQ6RORQ, B00TQ6RORQ, B01608LE5A, B01608LE5A, B01EV5FFOA, B01EV5FFOA, B01608M48G, B06X6BS21T, B00VLV5SB8, B00VLV5SB8, B00VLV5SB8, B00VLV5SB8, B01AWGZXP8, B01N0S8YOG, B01N0S8YOG, B01N0S8YOG, B01N0S8YOG, B01N0S8YOG, B00VLV48V4, B00VLV48V4, B00VLV48V4, B071HNQ8Q4, B06WV7KCDK, B06WV7KCDK, B01608LQE4, B01608LQE4, B01608LQE4, B01608LQE4, B01608LQE4, B01608LQE4, B071RLJ6G5, B0716HTWPK, B0716HTWPK, B0716HTWPK, B0725XHLK7, B0725XHLK7, B01AWGZXHQ, B0725QQCKC, B0725QQCKC, B0725QQCKC, B00VLV6M6S, B00VLV6M6S, B00VLV6M6S, B00QFFIYAW, B00GRWLZV8, B00GRWLZV8, B00GRWLZV8, B00GRWLZV8, B00GRWLZV8, B06X9362NJ, B06X9362NJ, B06X9362NJ, B06X9362NJ, B06X9362NJ, B00CYDSHK6, B074X2VR5B, B074X2VR5B, B074X2VR5B, B074X2VR5B, B00C9YE7AO, B00C9YE7AO, B00C9YE7AO, B07333DK6K, B07333DK6K, B000NIJ5SM, B000NIJ5SM, B000NIJ5SM, B01N6WV6ZM, B01N6WV6ZM, B01N6WV6ZM, B01N6WV6ZM, B00U6E85ZM, B00U6E85ZM, B00004UBH2, B00004UBH2, B00004UBH2, B00004UBH2, B00004UBH2, B0015XJUV6, B00J7KSY2A, B00J7KSY2A, B00J7KSY2A, B00TLRSPGY, B00TLRSPGY, B00TLRSPGY, B00U42LTK4, B00U42LTK4, B00U42LTK4, B00U42LTK4, B00U42LTK4, B00U42LTK4, B007QTB6U6, B007QTB6U6, B007QTB6U6, B01NAKXFJQ, B01NAKXFJQ, B01NAKXFJQ, B00U42LTKO, B00U42LTKO, B00U42LTKO, B00U42LTKO, B018J7JK56, B018J7JK56, B018J7JK56, B018J7JK56, B018J7JK56, B00294DSG8, B00294DSG8, B073P4YYX4, B073P4YYX4, B073P4YYX4, B073P4YYX4, B075TDGD3R, B075TDGD3R, B075TDGD3R, B075TDGD3R, B002CZPR40, B00SUZX55O, B0002HYYDU, B0002HYYDU, B0002HYYDU, B073X3422S, B073X3422S, B073X3422S, B073X3422S, B01F0OB6T4, B00FAT4NUY, B00VC3R98U, B00VC3R98U, B00VC3R98U, B004KPKW6S, B004KPKW6S, B01H07E0W4, B01H07E0W4, B01H07E0W4, B003WFKOSS, B003WFKOSS, B06W52XW1X, B06W52XW1X, B06W52XW1X, B06W52XW1X, B00JM94NGM, B00JM94NGM, B00TPJ4KBM, B00TPJ4KBM, B00TPJ4KBM, B00TPJ4KBM, B00TPJ4KBM, B00TPJ4KBM, B0002HYYGM, B01MT0SL03, B01MT0SL03, B01M653JYG, B01M653JYG, B01M653JYG, B00B201C72, B00B201C72, B00B201C72, B00B201C72, B01DCLUG16, B01DCLUG16, B01DCLUG16, B01DCLUG16, B01DCLUG16, B00TYHJ56U, B00TYHJ56U, B00TYHJ56U, B00IT2JUTS, B00IT2JUTS, B019PA4NL2, B01DLWEFWM, B01DLWEFWM, B002CZPR0Y, B076NDYCPD, B076NDYCPD, B076NDYCPD, B076NDYCPD, B06W9HKT1D, B00ZD5FA1G, B00ZD5FA1G, B00ZD5FA1G, B00ZD5FA1G, B00ZD5FA1G, B00YCID48G, B00X9ZPZFI, B01D8NRYOK, B01D8NRYOK, B00J6767GY, B000ET7F8C, B000ET7F8C, B000ET7F8C, B06XXQNJ36, B06XXQNJ36, B000TNJHJ8, B000TNJHJ8, B000TNJHJ8, B000TNJHJ8, B01MU32MGX, B01MU32MGX, B01MU32MGX, B01MU32MGX, B004OBZRN6, B004OBZRN6, B004OBZRN6, B00U6E86B0, B00U6E86B0, B01N63IITS, B007ZPWIQC, B007ZPWIQC, B007ZPWIQC, B002CZPR2W, B002CZPR2W, B002CZPR2W, B075XHVBLF, B075XHVBLF, B075XHVBLF, B075XHVBLF, B075XHVBLF,"
     ]
    },
    {
     "name": "stdout",
     "output_type": "stream",
     "text": [
      " B075XHVBLF, B007R4829I, B007R4829I, B007R4829I, B000EB55RS, B000EB55RS, B000EB55RS, B000EB55RS, B000EB55RS, B000EB55RS, B000EB55RS, B000EB55RS, B01N4061WW, B01N4061WW, B01N4061WW, B00IRFM4V8, B00IRFM4V8, B000FCM09C, B000FCM09C, B000FCM09C, B000FCM09C, B01AVADUIM, B01AVADUIM, B01AVADUIM, B01ASIFRWE, B01ASIFRWE, B002R5J2C8, B002R5J2C8, B002R5J2C8, B002R5J2C8, B06XY2HZNG, B002UXO4J8, B002UXO4J8, B00763PNBK, B00083D79U, B00083D79U, B00083D79U, B00083D79U, B00BG417HY, B00BG417HY, B00BG417HY, B00BG417HY, B00BG417HY, B00BG417HY, B072MK7BX3, B072MK7BX3, B072MK7BX3, B01BM616BM, B01BM616BM, B01BM616BM, B01BM616BM, B01M3RCB80, B01M3RCB80, B01M3RCB80, B01M3RCB80, B01CI31RYO, B00DGQ1K8Q, B00DGQ1K8Q, B01BF6F20K, B01BF6F20K, B01BF6F20K, B01BF6F20K, B00KPVTXE8, B00KPVTXE8, B00KPVTXE8, B00KPVTXE8, B00KPVTXE8, B00KPVTXE8, B00KPVTXE8, B00KPVTXE8, B00M2L6BPI, B00M2L6BPI, B00WU7E7QO, B00WU7E7QO, B00WU7E7QO, B000FCR4XO, B000FCR4XO, B000FCR4XO, B000FCR4XO, B000FCR4XO, B00005LWJ6, B00005LWJ6, B00005LWJ6, B000OWE1TU, B000OWE1TU, B00USQ81IY, B004ALKLR2, B004ALKLR2, B004ALKLR2, B00O07LZ5I, B019K8L3IK, B019K8L3IK, B00C9Q2P56, B00C9Q2P56, B00C9Q2P56, B00C9Q2P56, B00C9Q2P56, B00471DPA0, B00471DPA0, B00471DPA0, B0074HSHGQ, B0074HSHGQ, B0074HSHGQ, B0074HSHGQ, B00CMR270K, B00CMR270K, B01IN45ENC, B01IN45ENC, B01IN45ENC, B00OZEXM70, B00OZEXM70, B018SS3WNC, B018SS3WNC, B018SS3WNC, B018SS3WNC, B018SS3WNC, B018SS3WNC, B018SS3WNC, B00VJKT0LK, B00VJKT0LK, B00VJKT0LK, B00VJKT0LK, B00068Q7LC, B00068Q7LC, B00068Q7LC, B00005RF5G, B012BP34TU, B012BP34TU, B012BP34TU, B012BP34TU, B012BP34TU, B000LSZVKA, B000LSZVKA, B000LSZVKA, B0007A5HL0, B0007A5HL0, B00IFWP73U, B00IFWP73U, B0054O9UIA, B0054O9UIA, B0054O9UIA, B0054O9UIA, B0054O9UIA, B0054O9UIA, B00CDL617A, B00CDL617A, B00CDL617A, B071K8H6R4, B071K8H6R4, B00VWL3NHI, B00VWL3NHI, B072Q1P2Z1, B072Q1P2Z1, B072Q1P2Z1, B072Q1P2Z1, B01LNWSEQU, B01LNWSEQU, B00OZEWATQ, B00140ILCO, B00140ILCO, B00140ILCO, B00140ILCO, B004560BPY, B004560BPY, B01L7KXPQC, B01L7KXPQC, B01L7KXPQC, B06XT2YDVM, B06XT2YDVM, B06XT2YDVM, B00804BCK0, B00804BCK0, B01GZZ3MSU, B01GZZ3MSU, B01GZZ3MSU, B06XJ6G82D, B06XJ6G82D, B00005OB9I, B0073BW27I, B0073BW27I, B01LZ4HSYB, B001P3SJG8, B001P3SJG8, B000CEM6WY, B00272N8E4, B00272N8E4, B076B3KR9Q, B076B3KR9Q, B076B3KR9Q, B018SSDEWG, B018SSDEWG, B018SSDEWG, B018SSDEWG, B018SSDEWG, B01N074ELB, B01N074ELB, B074STYG8F, B074STYG8F, B00GNAP830, B00GNAP830, B01CNSO54I, B01CNSO54I, B001W30D2O, B01C49MHB4, B01C49MHB4, B00E3PTHDE, B076B2K6JK, B076B2K6JK, B076B2K6JK, B0765W3JRZ, B0765W3JRZ, B0765W3JRZ, B008CDR7LW, B008CDR7LW, B008CDR7LW, B008CDR7LW, B00QTXYO4U, B00QTXYO4U, B00QTXYO4U, B00GNAP5T2, B00GNAP5T2, B01BSJWIVK, B01BSJWIVK, B01BSJWIVK, B01BSNY3BO, B01BSNY3BO, B01BSNY3BO, B01BSNY3BO, B01BSNY3BO, B01BSNY3BO, B011IBSIJY, B011IBSIJY, B011IBSIJY, B007FJM7PK, B007FJM7PK, B000067PWG, B000067PWG, B000067PWG, B000067PWG, B000067PWG, B000067PWG, B017GX32MQ, B017GX32MQ, B017GX32MQ, B072C36NSW, B072C36NSW, B072C36NSW, B000BB56B6, B000BB56B6, B01NBC5MWD, B01CMSESVO, B00K5PJMYA, B01N0NU68I, B01N0NU68I, B01N0NU68I, B01N0NU68I, B01N0NU68I, B004KPKW8G, B004KPKW8G, B004KPKW8G, B004X0WBHS, B004X0WBHS, B004X0WBHS, B016QBOY1M, B016QBOY1M, B016QBOY1M, B016QBOY1M, B016QBOY1M, B00IB34HMA, B00IB34HMA, B00RCXU602, B00RCXU602, B0070W57L8, B0070W57L8, B004AHMCKA, B004AHMCKA, B004AHMCKA, B004AHMCKA, B01EWU4BIU, B076BBJJX8, B076BBJJX8, B076BBJJX8, B00DL6UH6W, B00DL6UH6W, B00DL6UH6W, B00BQY073O, B00BQY073O, B00BQY073O, B00QV2P7BI, B00QV2P7BI, B01E93LC96, B00HAZFWAQ, B00HAZFWAQ, B002NWJ1LW, B002NWJ1LW, B002NWJ1LW, B002NWJ1LW, B0007D7O22, B0007D7O22, B0007D7O22, B0007D7O22, B0007D7O22, B0007D7O22, B0007D7O22, B001RCJDIU, B001RCJDIU, B001RCJDIU, B001RCJDIU, B00DCP5LMW, B00DCP5LMW, B00J57OHWG, B074SJMWG3, B074SJMWG3, B074SJMWG3, B074SJMWG3, B074SJMWG3, B074SJMWG3, B074SJMWG3, B074SJMWG3, B014LKNSYO, B014LKNSYO, B00L1TX61O, B00L1TX61O, B0006IRTU0, B0006IRTU0, B0006IRTU0, B0006IRTU0, B00CCIKII2, B00CCIKII2, B004MWJLHK, B01EJA4DLI, B01EJA4DLI, B01EJA4DLI, B00CJU0G6C, B00CJU0G6C, B01GZZ3LVS, B01GZZ3LVS, B01GZZ3LVS, B00TYM5QEA, B00TYM5QEA, B00TYM5QEA, B074SK2VB8, B074SK2VB8, B074SK2VB8, B074SK2VB8, B00OZEXLPS, B00OZEXLPS, B00OZEXLPS, B00F5Y4VV0, B00SH4FSEO, B00SH4FSEO, B00WNC13EA, B00WNC13EA, B00WNC13EA, B001D0Z4M0, B0049ESPU0, B0049ESPU0, B000I2Q0F4, B000I2Q0F4, B000I2Q0F4, B000I2Q0F4, B000I2Q0F4, B000I2Q0F4, B001NQHN7S, B001NQHN7S, B013ID7O8G, B013ID7O8G, B00PKBI47U, B00BQAJKQS, B00BQAJKQS, B01KZS1IHK, B0002HZPUG, B0002HZPUG, B0002HZPUG, B0002HZPUG, B015NHJT06, B015NHJT06, B01MFG934M, B01MFG934M, B01MFG934M, B00UXBWPOU, B00UXBWPOU, B00UXBWPOU, B01N4EM5ML, B01N4EM5ML, B076F16JC1, B00ET5A3WC, B00ET5A3WC, B00ET5A3WC, B00ET5A3WC, B00ET5A3WC, B00ET5A3WC, B002QQ7JLY, B002QQ7JLY, B002QQ7JLY, B002QQ7JLY, B0744VCQ2T, B076HMTK52, B076HMTK52, B076HMTK52, B01ELIGSGQ, B01ELIGSGQ, B008MJGHH6, B008MJGHH6, B06X1665TT, B00C1JVRRI, B00C1JVRRI, B00C1JZZZ8, B00C1JZZZ8, B01HQ9EQ1G, B01HQ9EQ1G,\n",
      "\n",
      "Cluster 1 titles: B01DZXE8PG_1, B01KZS1IEI_5, B01KZS1IEI_8, B00OH9OMZY_2, B00OH9OMZY_9, B01MXXC58P_10, B0052RMWF2_3, B0052RMWF2_5, B0052RMWF2_9, B002CY999K_10, B00BVIHWKQ_2, B01B6C1MVQ_3, B006ZKXGL4_6, B01N4PKL8O_1, B01G3KI8A4_2, B01G3KI8A4_8, B00J8DZ7AI_1, B00J8DZ7AI_7, B006MPY0WG_1, B006MPY0WG_2, B01ND3Y02K_6, B072N6VMKV_8, B005OYGNLW_6, B07576493W_5, B07576493W_6, B01CIQ11PQ_4, B01KZS1IFW_8, B01KZS1IA2_9, B01CW35VME_2, B01CW35VME_10, B0083U8GP0_5, B0083U8GP0_6, B076B42HXR_6, B076B42HXR_9, B008U8WZIY_2, B008U8WZIY_8, B00F961WJI_10, B002QQ7JM8_8, B002QQ7JM8_9, B002BDU87Y_10, B01608M29M_2, B01DVEI0WQ_6, B0009Y4FSK_2, B0009Y4FSK_3, B0009Y4FSK_7, B00TT5LRC2_2, B00TT5LRC2_3, B00TT5LRC2_10, B019DZ67J0_1, B01MUXWESB_9, B001S2TIQG_4, B000XAUEXA_6, B01BE0JGE0_4, B01F49BULE_3, B01N3ZAK3K_4, B01N3ZAK3K_8, B01N3ZAK3K_10, B01B1GV0PA_10, B00KVHW9H4_1, B00KVHW9H4_2, B01MR15IHO_5, B00561OC3E_2, B0153H90LE_4, B00T4UY6TI_5, B004MW55Z2_7, B004MW55Z2_10, B00T6GT622_2, B06VTD32J1_1, B006JW15N4_3, B006JW15N4_7, B006JW15N4_9, B0117SZ3IM_9, B073HG69VP_4, B072XP7VZS_1, B072XP7VZS_5, B00GY8S8MO_3, B00GY8S8MO_8, B00GY8S8MO_9, B01J41DNUY_3, B01J41DNUY_5, B01LX9672R_8, B01J41FG72_1, B01M0SANKN_9, B01J41HPQ2_4, B01J41HPQ2_6, B01J41FSKW_2, B06WD3SGCC_9, B06WD3SGCC_10, B00F3B2TVO_5, B01J41D4IA_8, B00NVDOWUW_3, B013GY8TH2_3, B013GY8TH2_7, B013GY8TH2_8, B016W4QWA4_5, B01JA24SAG_8, B01J41JLEG_5, B06W2KC1QQ_2, B06W2KC47K_5, B06W2KC47K_6, B06W2KC47K_7, B06WGPS9V6_9, B00NVDOH2U_4, B00NVDOH2U_6, B01J41GOZU_2, B01J41DVSS_2, B01J41LR20_3, B01J41MPF8_1, B06WD3SGC2_9, B00PY3EYQO_1, B01J41JLTQ_2, B01J41JLTQ_9, B06WGPSBPB_7, B012NOGTVE_1, B06WGPS94M_4, B01J41DO0S_4, B01J41DO0S_5, B01J41FI8E_8, B06WLL3TQY_2, B06WLL3TQY_3, B01J41DAUM_5, B01J41DAUM_9, B01J41G4E6_2, B01J41DNYK_4, B01J41D570_9, B06WLL3M8Y_3, B06WGPSD8P_9, B06WGPSD8P_10, B01GG2Z8CA_3, B00HFPM3IK_5, B00HFPM3IK_7, B00EUJFYCG_1, B00EUJFYCG_7, B01J41K0HS_3, B01J41K0HS_4, B01M4RZL27_1, B01M4RZL27_4, B01J41EBFU_10, B06WRRJ5Z6_8, B06W2KC5GC_7, B01J41G4Z0_7, B01J41EBQ4_10, B014L3QKL4_2, B014L3QKL4_3, B0013PU09W_5, B0033UX0QK_2, B00G7KM4ZG_3, B00G7KM4ZG_4, B00G7KM4ZG_8, B00HRRD10A_1, B006LI5ZLY_7, B01H5QPICG_1, B01H5QPICG_5, B01H5QPICG_10, B001NQHN7S_2, B002LJGM4Q_3, B01ARGBR9O_9, B01ARGBPBO_1, B01ARGBPBO_5, B01ARGBPBO_8, B019B9SXH2_4, B00TXI26S4_9, B00U6E860G_9, B06X9SFWNT_4, B06X9SFWNT_7, B00NBNV3OU_10, B015RSDMWM_5, B015RSDMWM_6, B015RSDMWM_10, B00LHXUOXM_5, B004CM29Y2_4, B004CM29Y2_9, B01IT3VEH2_2, B01IT3VEH2_9, B015CCR1FW_2, B015CCR1FW_7, B015CCR1FW_10, B01IT3VH9W_8, B00HRRE3UM_3, B00HRRE3UM_5, B00HRRCJUS_2, B000E5QZ8M_6, B0104BL1Y8_6, B001GMQZ14_4, B001GMQZ14_9, B01H5QPIJE_8, 095346993X_1, B01EJKLX2U_9, B00026ZEDK_3, B01IT3VEQ8_1, B06Y3N2VC4_8, B001DRA7HA_9, B01CSC7OTW_5, B0037LL0U8_4, B0037LL0U8_5, B005INHQJW_8, B005KRN6GS_3, B005KRN6GS_4, B005KRN6GS_6, B075KP7XW8_3, B075KP7XW8_7, B004DDJCSG_3, B004DDJCSG_7, B004DDJCSG_8, B06XJ3635M_4, B06XJ3635M_8, B06W2LB1L7_3, B01IT3VEJA_4, B004DJ99MO_3, B004DJ99MO_7, B004DJ99MO_8, B004VYYA2K_7, B00165X2B2_10, B00Y8AS21W_2, B06XSQ8RP8_3, B06XSQ8RP8_8, B01J124SUU_5, B0058C97YK_2, B0043JF0SQ_3, B06Y1225MR_3, B06Y1225MR_9, B06Y1225MR_10, B001Q7PXEO_2, B001Q7PXEO_7, B001Q7PXEO_10, B00NZ8GU4E_3, B00NZ8GU4E_10, B01MRV4ET4_7, B005KJ4XUO_5, B0080MSGFQ_4, B0080MSGFQ_5, B0080MSGFQ_10, B00MT044II_1, B0104BKFU4_1, B00XLHP1FS_1, B00XLHP1FS_4, B072MGVV73_1, B009386Q9O_7, B00Q8NEL1M_1, B000FCM0B0_3, B00A8PW9QK_3, B00A8PW9QK_7, B00SWRBOQM_10, B00YCICQHQ_4, B01N6U9TS6_7, B01N6U9TS6_8, B01N6U9TS6_9, B003JSMW88_2, B003JSMW88_3, B003JSMW88_5, B003JSMW88_7, B06XRGR78J_3, B000UTXL20_1, B000UTXL20_2, B000UTXL20_10, B001G4MVN8_6, B001G4MVN8_10, B00CM7A0ZE_1, B00CM7A0ZE_7, B000H5V08E_3, B000H5V08E_6, B01HBFUA4W_2, B0006SK3WG_10, B01AXP1S9I_5, B01DXULN9K_3, B01DXULN9K_4, B00N4TRHVO_10, B00004TDLD_7, B00L2DZ4OG_9, B00EQ4JOBC_6, B00JSLSYXW_10, B00WJ1O76G_4, B06XZ3RQVN_2, B06XZ3RQVN_5, B06XZ3RQVN_6, B00YF33H12_1, B0030BJRWS_1, B0030BJRWS_4, B0030BJRWS_6, B01DC8Q2ZS_1, B01DC8Q2ZS_10, B0007TXTIO_8, B00LAX52IQ_1, B00LAX52IQ_2, B00LAX52IQ_6, B00ZOO1YJ8_1, B00ZOO1YJ8_8, B001UHO66Q_4, B001UHO66Q_10, B00F4VFJRO_4, B00F4VFJRO_6, B00F4VFJRO_8, B00B1Z6EPS_10, B00067U6R4_7, B00067U6R4_9, B01C765UTA_2, B01C765UTA_5, B00000ISC5_5, B00000ISC5_9, B00EUJFYCG_1, B00EUJFYCG_7, B016NFHJMW_3, B016NFHJMW_9, B00OP1MCJC_3, B00OP1MCJC_9, B00OP1MCJC_10, B01DXULLCE_5, B00CP6A836_5, B0006HBERA_7, B00JLHVX36_8, B00OE6TQZQ_10, B0079FCBBK_7, B000088T2F_1, B00XCK9LNC_1, B002ZSSEG2_3, B00S6415TW_5, B0026ZPSS6_1, B0026ZPSS6_5, B07632XN62_3, B07632XN62_10, B0007TXTL6_6, B0007TXTL6_7, B0031J8Q4E_3, B0031J8Q4E_6, B0006G3B68_3, B000V0GZA8_2, B073RPXNWH_3, B06WVH1RFT_4, B00CRGPHZ8_2, B01N4SEGJ9_4, B00HWHO7M6_6, B00000JD5S_4, B00000JD5S_7, B00000JD5S_8, B00HFR4GRY_1, B00VFLTZ4A_3, B00VFLTZ4A_9, B075L6MQ9L_3, B075L6MQ9L_6, B075L6MQ9L_8, B00140ILCO_5, B00140ILCO_7, B00ECDKCUE_8, B01CXQSEOC_5, B003MSYGWA_3, B003MSYGWA_5, B003MSYGWA_9, B003MSYGWA_10, B00WOFBCHO_1, B00000J0JF_10, B01K1MDHJC_4, B073PW186C_4, B000EWC11U_1, B008DB7VSM_3, B0009QXX4A_7, B013ORII9A_8, B002105R50_4, B002105R50_8, B01NH7MO6D_4, B0747NY7TP_5, B019XMRQPM_1, B0006NM9AK_5, B01MZXOR7M_5, B06XSZJWSX_4, B071VW7RKC_6, B071VW7RKC_8, B01N0Z3QWO_4, B005WVN1B2_5, B005WVN1B2_6, B005WVN1B2_8, B005WVN1B2_9, B00HHBLZAE_2, B00HHBLZAE_7, B06XWVTF3F_1, B06XWVTF3F_10, B0007TXTIO_8, B01MQYCBU4_5, B01MQYCBU4_7, B01AT47MLQ_5, B003PHQHUM_1, B003PHQHUM_6, B009IR0P0G_8, B01N8VUCQ6_4, B01MSFGJ38_1, B01MSFGJ38_4, B01IQX06K6_2, B01IQX06K6_7, B01IQX06K6_8, B005IX6ZOY_1, B005IX6ZOY_6, B00HWHNMUO_3, B00HWHNMUO_10, B0002HR306_3, B072J28JYT_2, B01N9JXEHF_1, B000EWC0NY_8, B00A2MLITS_1, B00A2MLITS_5, B00A2MLITS_6, B00A2MLITS_9, B071G85LSK_3, B001NQHN7S_2, B00FYON14Y_5, B01MFGBS5K_2, B077P2BLVN_8, B01D2R64WK_8, B01N4EM5ML_5, B004VPJBK0_8, B004VPJBK0_10, B06X9LP736_3, B06X9LP736_5, B01D4GA4AM_3, B01D4GA4AM_5, B005FQTPMS_5, B005FQTPMS_10, B003JGSIWY_4, B009CSSG4I_2, B009CSSG4I_3, B009NFH6Y6_2, B009NFH6Y6_6, B006ZKXGL4_6, B075CG95NL_1, B01N4PKL8O_1, B01F6XNAVG_1, B01F6XNAVG_6, B0135X2GQE_2, B005KPLNFG_1, B005KPLNFG_3, B005KPLNFG_9, B00ETMVUMC_1, B00ETMVUMC_10, B0718ZQD9V_3, B0718ZQD9V_6, B001BRVBH2_4, B01BP6GPV0_6, B076H1SYKW_3, B00008J1AV_8, B00008J1AV_10, B00V0XKDL2_3, B00V0XKDL2_8, B01M1ALBUC_7, B00ABXVV3Q_7, B00ABXVV3Q_10, B01608M29M_2, B0002CYUMA_4, B0002CYUMA_6, B0002CYUMA_7, B006FT065O_6, B00BSN1CAU_6, B00BSN1CAU_8, B00VEMLNU4_6, B00VEMLNU4_7, B06X9KFFTJ_4, B06X9KFFTJ_6, B06X9KFFTJ_9, B01N34ZSTJ_6, B01N34ZSTJ_7, B01N34ZSTJ_10, B0756TLW9F_1, B00BMLVF6O_2, B004VPJBGY_8, B004VPJBGY_10, B01GPOL4UO_3, B009AS5VW0_7, B01MR15IHO_5, B00I4CEVZG_3, B00I4CEVZG_5, B00I4CEVZG_6, B00I4CEVZG_10, B004YATJ72_5, B004YATJ72_10, B004MW55Z2_7, B004MW55Z2_10, B076CLFGPP_5, B00VEMLOBC_6, B002V841QI_4, B0085JRADS_5, B010NXYQMG_3, B075XJQQQB_5, B01MXLMEAP_8, B014M0S1EK_3, B06ZYCX58J_2, B06ZYCX58J_5, B06ZYCX58J_8, B06ZYCX58J_9, B014LKSFJ2_1, B015X471AY_6, B004JQPXOE_4, B004JQPXOE_10, B06X9Q5T2N_7, B00E9QMIME_4, B00E9QMIME_6, B0002GTIXW_1, B000284ZNI_7, B000284ZNI_9, B0723HN2QW_2, B0723HN2QW_4, B0723HN2QW_7, B011CCMOTE_2, B011CCMOTE_10, B009M5K0O0_9, B00SCF10DG_5, B00SCF10DG_6, B00SCF10DG_9, B074492T3G_8, B001ENV4JS_10, B0764DW1JY_9, B074J57L4L_10, B000WNZ1SQ_6, B000WNZ1SQ_10, B074J5S67L_10, B00C2RC8FE_4, B074GTSKQ3_2, B074GTSKQ3_10, B01GVGIJT0_1, B01GVGIJT0_2, B01GVGIJT0_3, B01GVGIJT0_7, B004QB4VRW_1, B004QB4VRW_5, B019F4JLRO_1, B019F4JLRO_7, B00CDQVJ2W_10, B00WNC1A9I_8, B01LZNNV62_1, B01LZNNV62_2, B01LZNNV62_3, B01LZNNV62_4, B01LZNNV62_6, B01CTVWFHI_3, B06ZZ6PSFM_5, B06ZZ6PSFM_7, B06ZZ6PSFM_9, B00C65YDGE_2, B00K6D4UHA_1, B00K6D4UHA_5, B00EWJYOG6_4, B00EWJYOG6_7, B00EWJYOG6_9, B0728HMWGC_9, B00RY3C5BI_10, B001W30D2O_5, B001W30D2O_6, B00XSPEW2G_9, B071SF5W39_3, B01MFCMO1M_2, B07516GZ2L_2, B07516GZ2L_9, B00CDQVEPY_10, B072F6DZMC_5, B01KNBCDLE_8, B01KNBCDLE_9, B003YC2VPS_4, B00BB7YETE_2, B00BB7YETE_4, B00BB7YETE_6, B00BB7YETE_8, B00BB7YETE_10, B00YHDSAZS_5, B00YHDSAZS_10, B00SYIPS70_5, B00SYIPS70_8, B00DQN034Q_1, B00DQN034Q_8, B010DJXDII_1, B00HUMNWN8_3, B00HUMNWN8_6, B0721B946K_1, B0721B946K_3, B0721SWLM3_1, B018XNPA0A_4, B00F657TXA_7, B00F657TXA_10, B00TV402ZE_3, B00TV402ZE_7, B01MPWBRYI_5, B00YHDSB1G_2, B00R7Q2RRO_6, B06XCDHYY7_4, B06XCDHYY7_8, B01M0YC7J8_2, B01M0YC7J8_5, B004T1MDZ6_1, B004T1MDZ6_9, B0712191GF_9, B00WNC0K80_6, B00C20M07C_8, B01GFZT3QK_4, B01GFZT3QK_6, B01GFZT3QK_8, B072ZB89LR_9, B002Q4M5PQ_10, B071JVQTQF_6, B071JVQTQF_7, B001ENZ43K_9, B01ICSE08Y_2, B000I2Q0F4_1, B0727VNM6G_2, B0727VNM6G_9, B01LYRGY7M_2, B01LYRGY7M_3, B01LYRGY7M_7, B01LYRGY7M_10, B01HGTMPHS_8, B01MUQHG4W_2, B01MUQHG4W_4, B01MUQHG4W_10, B00HRRC4I0_5, B00HRRC4I0_6, B00HRRC4I0_10, B06WLNL3WT_1, B004KPKWKY_2, B004KPKWKY_6, B01NCJX1GR_6, B01LY44LRZ_2, B01LY44LRZ_3, B01LY44LRZ_7, B01LY44LRZ_10, B000JXKWYC_5, B000JXKWYC_6, B000JXKWYC_7, B06XJ2XLMY_4, B06XJ2XLMY_5, B00IF1VVFO_7, B01M7YNDXI_4, B06WV7KBTQ_8, B01EV5EZZU_7, B01EV5EZZU_9, B06XPHB8GS_9, B00F3B2TVO_5, B00S640FGQ_7, B072Q6TZC5, B01F93H43I, B01F93H43I, B01F93H43I, B013GY8TH2, B013GY8TH2, B013GY8TH2, B071ZSY96K, B01LX4ZC9H, B01CNSO54I, B00N1EJXUU, B01N6RK9UE, B00J1XE7CO, B0052KHQ8M, B01CSC7OTW, B00HRRAFS6, B00HRRAFS6, B00HRRAFS6, B0055ANRZ0, B073BFVH9Q, B073BFVH9Q, B01MZITZZJ, B075MB3BD2, B00160C8NK, B00FJR0FOK, B071FTWXB2, B01N9JMG57, B01N9JMG57, B01N9JMG57, B01N9JMG57, B01EKBD0DI, B00O4E4040, B00W62P65E, B01MRE5KS2, B01MRE5KS2, B01MG9A7IP, B01MG9A7IP, B0188R0MMC, B0188R0MMC, B0188R0MMC, B012NOF6G8, B00NLHWELM, B019JIACIS, B019JIACIS, B019JIACIS, B01608LE5A, B01EV5FFOA, B06X6BS21T, B00VLV5SB8, B071HNQ8Q4, B06WV7KCDK, B071RLJ6G5, B0716HTWPK, B0716HTWPK, B0716HTWPK, B0716HTWPK, B0725XHLK7, B0725QQCKC, B00GRWLZV8, B06X9362NJ, B00CYDSHK6, B074X2VR5B, B00C9YE7AO, B00C9YE7AO, B000NIJ5SM, B000NIJ5SM, B06X9QRJLS, B00U6E85ZM, B00004UBH2, B00004UBH2, B00U42LTK4, B007QTB6U6, B075TDGD3R, B002CZPR40, B00SUZX55O, B0002HYYDU, B0002HYYDU, B01F0OB6T4, B00FAT4NUY, B00FAT4NUY, B00FAT4NUY, B004KPKW6S, B003WFKOSS, B06W52XW1X, B0002HYYGM, B01M653JYG, B00B201C72, B01DCLUG16, B00IT2JUTS, B019PA4NL2, B019PA4NL2, B076NDYCPD, B06W9HKT1D, B00ZD5FA1G, B00YCID48G, B00JSLSYXW, B00X9ZPZFI, B01D8NRYOK, B01D8NRYOK, B01D8NRYOK, B0037LL0U8, B0037LL0U8, B000ET7F8C, B00067U818, B00IRFM4V8, B00IRFM4V8, B01M5E2M2N, B01ASIFRWE, B002R5J2C8, B06XY2HZNG, B002UXO4J8, B072MK7BX3, B01M3RCB80, B00KPVTXE8, B00WU7E7QO, B000OWE1TU, B004ALKLR2, B004ALKLR2, B00C9Q2P56, B00C9Q2P56, B00C9Q2P56, B00471DPA0, B00CMR270K, B00CMR270K, B00CMR270K, B01IN45ENC, B00VJKT0LK, B00005RF5G, B000LSZVKA, B000LSZVKA, B0007A5HL0, B0007A5HL0, B0054O9UIA, B00CDL617A, B071K8H6R4, B071K8H6R4, B072Q1P2Z1, B072Q1P2Z1, B01LNWSEQU, B00OZEWATQ, B00OZEWATQ, B00OZEWATQ, B00140ILCO, B00140ILCO, B01L7KXPQC, B01GZZ3MSU, B06XJ6G82D, B0073BW27I, B06XSKKM3L, B06XSKKM3L, B06XSKKM3L, B001P3SJG8, B001P3SJG8, B000CEM6WY, B000CEM6WY, B00272N8E4, B076B3KR9Q, B01N074ELB, B074STYG8F, B074STYG8F, B074STYG8F, B00GNAP830, B01CNSO54I, B001W30D2O, B001W30D2O, B01C49MHB4, B01C49MHB4, B00E3PTHDE, B076B2K6JK, B00FA2W28G, B00FA2W28G, B0765W3JRZ, B00QTXYO4U, B00GNAP5T2, B00GNAP5T2, B01BSJWIVK, B000067PWG, B000067PWG, B000BB56B6, B01NBC5MWD, B01NBC5MWD, B01NBC5MWD, B01NBC5MWD, B01NBC5MWD, B00K5PJMYA, B00K5PJMYA, B00K5PJMYA, B004X0WBHS, B016QBOY1M, B00IB34HMA, B00IB34HMA, B01LOG9FS6, B01LOG9FS6, B01LOG9FS6, B01LOG9FS6, B0070W57L8, B0070W57L8, B076BBJJX8, B00DL6UH6W, B00DL6UH6W, B00QV2P7BI, B00HAZFWAQ, B002NWJ1LW, B001RCJDIU, B001RCJDIU, B001RCJDIU, B001RCJDIU, B00DCP5LMW, B014LKNSYO, B0006IRTU0, B00CCIKII2, B00CCIKII2, B004MWJLHK, B01GZZ3LVS, B074SK2VB8, B00OZEXLPS, B00OZEXLPS, B00OZEXLPS, B00F5Y4VV0, B00SH4FSEO, B00SH4FSEO, B00SH4FSEO, B00WNC13EA, B001D0Z4M0, B0049ESPU0, B000I2Q0F4, B001NQHN7S, B00PKBI47U, B00PKBI47U, B00BQAJKQS, B015NHJT06, B01MFG934M, B01N4EM5ML, B0744VCQ2T, B0744VCQ2T, B0744VCQ2T, B076HMTK52, B076HMTK52, B076HMTK52, B008MJGHH6, B008MJGHH6, B06X1665TT,\n",
      "\n"
     ]
    },
    {
     "name": "stdout",
     "output_type": "stream",
     "text": [
      "Cluster 2 titles: B01KZS1IEI_1, B01KZS1IEI_7, B0052RMWF2_1, B0052RMWF2_4, B00L1FEYFA_1, B002CY999K_3, B002CY999K_7, B00BVIHWKQ_3, B00BVIHWKQ_4, B01B6C1MVQ_1, B01B6C1MVQ_2, B006ZKXGL4_3, B01N4PKL8O_5, B01N4PKL8O_7, B00J8DZ7AI_2, B006MPY0WG_10, B01N8TTTWH_1, B01N3U5U6H_1, B011R2RFX4_2, B01CW35VME_6, B0083U8GP0_10, B01JLX2KWC_1, B076B42HXR_2, B076B42HXR_8, B01KXT8JV4_1, B008U8WZIY_10, B01CSAR4F8_1, B01CSAR4F8_7, B00F961WJI_1, B01DVEI0WQ_1, B01DVEI0WQ_10, B019DZ67J0_2, B000XAUEXA_1, B000XAUEXA_9, B00JPJQASS_9, B073P51YBZ_8, B01M9GDSPC_9, B0742J54R6_5, B06XT1KZKH_2, B06XT1KZKH_4, B01B1GV0PA_1, B00561OC3E_4, B00561OC3E_10, B004MW55Z2_1, B00T6GT622_4, B00T6GT622_6, B06VTD32J1_6, B006JW15N4_8, B010DIE8PG_5, B0117SZ3IM_1, B0117SZ3IM_2, B01N8TTRBI_1, B01J41M9WC_2, B06X6GKFM8_1, B01LX9672R_3, B01J41FG72_7, B0083F2XDQ_7, B01J41HPQ2_10, B06WD3SGCC_4, B06WD3SGCC_5, B06WD3SGCC_6, B01J41D4IA_2, B016W4QWA4_1, B016W4QWA4_4, B06WGPS9V6_3, B06WGPS9V6_6, B06WGPS9V6_7, B01J41FI8E_1, B01J41DAUM_4, B06VVPJ3B4_2, B01J41DAQ6_5, B01J41ERCM_2, B06X92LST2_1, B01J41K0HS_1, B01J41K0HS_10, B06WVBM4L8_2, B06W2KC4T2_3, B06W2KC4T2_5, B0042HOU1W_9, B01AC1CTFK_2, B06VV73LFR_6, B000RPC4IY_1, B000RPC4IY_8, B0013PU09W_1, B0013PU09W_9, B00G7KM4ZG_1, B01LX5NY95_4, B00HRRD10A_10, B006LI5ZLY_1, B001NQHN7S_4, B001NQHN7S_7, B015CCR6UC_1, B015CCR6UC_5, B002LJGM4Q_1, B002LJGM4Q_8, B01ARGBR9O_2, B00CXWC48O_2, B00CXWC48O_6, B00CXWC48O_7, B01ARGBPBO_2, B01ARGBPBO_9, B019B9SXH2_2, B019B9SXH2_8, B01IT3VH9W_1, B00HRRE3UM_6, B001B6ODSW_4, B002Y9ZGEA_1, B002Y9ZGEA_4, B00E3SM3SW_1, B001GMQZ14_5, B001GMQZ14_7, B001GMQZ14_8, B0000658L4_1, B0000658L4_2, B0000658L4_5, B01D9KNCNE_6, B00EIFS8AC_8, 095346993X_3, B016VZXJT6_3, B01EJKLX2U_7, B00026ZEDK_4, B0090U47KA_3, B0090U47KA_4, B0047LF2GK_1, B0047LF2GK_7, B019YJNT8C_3, B01CSC7OTW_4, B01M7R41N9_2, B0037LL0U8_1, B0037LL0U8_6, B005INHQJW_5, B005KRN6GS_2, B075KP7XW8_1, B075KP7XW8_6, B0037LIZKQ_2, B003RRXZC8_3, B06XJ3635M_3, B06XJ3635M_9, B00165X2B2_1, B00Y8AS21W_3, B00Y8AS21W_8, B000FCM09C_5, B06XSQ8RP8_7, B0058C97YK_1, B0043JF0SQ_2, B00HRRD8US_1, B00HRRD8US_4, B06Y1225MR_2, B001Q7PXEO_3, B01MRV4ET4_3, B005KJ4XUO_2, B00MT044II_2, B00MT044II_6, B00210E0VM_2, B00210E0VM_7, B00210E0VM_10, B072MGVV73_6, B00000IZKX_9, B000FCM0B0_4, B00A8PW9QK_1, B00A8PW9QK_5, B01CXSZU8I_4, B0015XJUV6_8, B00YCICQHQ_2, B003JSMW88_6, B06XRGR78J_10, B000UTXL20_7, B005XVIY9A_7, B002P7SEK4_1, B002P7SEK4_4, B002P7SEK4_7, B002P7SEK4_10, B001G4MVN8_5, B00CRZXUZI_8, B000I8T8V6_2, B00CM7A0ZE_3, B00CM7A0ZE_8, B00CM7A0ZE_10, B0079FCB8I_3, B01HBFUA4W_1, B01AXP1S9I_1, B01DXULN9K_10, B004S6QWHW_8, B0007KK0V2_10, B004P5PTZ2_1, B004P5PTZ2_3, B004P5PTZ2_8, B015HJV4TE_1, B015HJV4TE_6, B015HJV4TE_9, B015HJV4TE_10, B00004TDLD_8, B00004TDLD_10, B00L2DZ4OG_1, B004R3RV6W_2, B004S6QWEK_7, B004OBZRR2_1, B004OBZRR2_5, B00JSLSYXW_9, B001AXFDRQ_1, B00IF97V1Y_2, B007FJM7PK_1, B007FJM7PK_5, B007FJM7PK_7, B0015X4Y5S_3, B0015X4Y5S_4, B0015QQZJS_1, B01CJFHW0Y_8, B00YF33H12_9, B00YF33H12_10, B075V51NCV_9, B06XHJC5R6_9, B00CWB0KLE_1, B00CWB0KLE_7, B0030BJRWS_2, B0030BJRWS_7, B0030BJRWS_8, B0030BJRWS_10, B0077OIYXC_1, B0077OIYXC_10, B00ZOO1YJ8_2, B00B1Z6EPS_2, B00067U6R4_5, B01C765UTA_3, B00000ISC5_2, B01CJFHVR8_8, B000H6W53W_4, B016NFHJMW_5, B016NFHJMW_6, B016NFHJMW_7, B00OP1MCJC_6, B01DXULLCE_3, B00BQB8GZ8_9, B001CG5IZI_2, B001CG5IZI_8, B00FA0Y5I8_3, B00JLHVX36_4, B00JLHVX36_6, B01MQGK0FU_9, B00OE6TQZQ_2, B00OE6TQZQ_5, B00XCK9LNC_7, B00000IZKX_9, B01MY5QFYH_1, B01MY5QFYH_2, B01MY5QFYH_8, B01MY5QFYH_9, B00S6415TW_3, B004JQPXNU_1, B004JQPXNU_3, B004JQPXNU_7, B0006G3B68_2, B0006G3B68_4, B0006G3B68_8, B000V0GZA8_6, B06WVH1RFT_3, B00CRGPHZ8_1, B00CRGPHZ8_5, B00CRGPHZ8_7, B00CRGPHZ8_9, B01N4SEGJ9_1, B01N4SEGJ9_3, B0015XWTW8_3, B0015XWTW8_5, B0015XWTW8_8, B0015XWTW8_10, B00HFR4GRY_5, B00140ILCO_9, B00ECDKCUE_2, B01GJN6R62_1, B01CXQSEOC_1, B01CXQSEOC_3, B003MSYGWA_1, B003MSYGWA_2, B00LGWRTS2_7, B073PW186C_8, B000EWC11U_4, B013ORII9A_5, B002105R50_1, B0747NY7TP_3, B06ZXV6RDC_1, B06ZXV6RDC_2, B06ZXV6RDC_3, B06ZXV6RDC_4, B06ZXV6RDC_8, B018FPKN4Y_1, B018FPKN4Y_3, B0006NM9AK_4, B00FS6TN6I_1, B00FS6TN6I_2, B06XSZJWSX_3, B004O0TOJA_1, B004O0TOJA_9, B071VW7RKC_1, B071VW7RKC_2, B00HHBLZAE_1, B00QM4W042_1, B00QM4W042_3, B00QM4W042_5, B06XPXQW6Z_10, B01AT47MLQ_6, B00HFJNHOK_2, B00HFJNHOK_5, B00IVC1B16_4, B00IVC1B16_9, B009IR0P0G_1, B01MRLKIEK_1, B01N8VUCQ6_5, B01N8VUCQ6_6, B00OYJ6IY0_2, B00000DMER_4, B01MSFGJ38_6, B005IX6ZOY_4, B01N4RMMGB_5, B01N4RMMGB_8, B0753C927N_1, B0753C927N_2, B0753C927N_7, B000EWC0NY_9, B00146K0I6_5, B071G85LSK_4, B001NQHN7S_4, B001NQHN7S_6, B006YMOCOS_8, B018NMU2FY_5, B01MFGBS5K_8, B01MFGBS5K_9, B01BP6GPX8_2, B077P2BLVN_2, B005XVIY9A_7, B004VPJBK0_1, B004VPJBK0_9, B000FJ3FK8_8, B001HBJ5P2_1, B001HBJ5P2_2, B001HBJ5P2_3, B001HBJ5P2_10, B003JGSIWY_1, B003JGSIWY_6, B01NAGYZRQ_2, B01NAGYZRQ_6, B005RROHPU_1, B005RROHPU_5, B005RROHPU_8, B0079FCB8I_3, B006ZKXGL4_3, B075CG95NL_2, B075CG95NL_3, B00BSN004E_1, B00BSN004E_3, B00BSN004E_7, B00BSN004E_10, B01N4PKL8O_5, B01N4PKL8O_7, B00009B1SF_6, B0135X2GQE_3, B0135X2GQE_4, B001BRVBH2_6, B001BRVBH2_10, B01BP6GPV0_7, B01NCP46DK_10, B01M1ALBUC_3, B009NFH54W_2, B009NFH54W_5, B009NFH54W_7, B0002CYUMA_1, B006FT065O_3, B006FT065O_10, B00BSN1CAU_1, B00BSN1CAU_3, B00BSN1CAU_4, B00VEMLNU4_3, B00VEMLNU4_4, B06X9KFFTJ_3, B01N34ZSTJ_2, B0756TLW9F_9, B004VPJBGY_1, B004VPJBGY_9, B01GPOL4UO_6, B01CK2UFR8_2, B009AS5VW0_4, B06XYJ6SRY_10, B00I4CEVZG_4, B004YATJ72_8, B004MW55Z2_1, B076CLFGPP_2, B001RZJK8A_1, B001RZJK8A_3, B002V841QI_2, B002V841QI_9, B002V841QI_10, B00MUMZM90_4, B0085JRADS_1, B010NXYQMG_6, B01MXLMEAP_5, B06ZYCX58J_4, B06X9Q5T2N_4, B00E9QMIME_1, B00E9QMIME_9, B000284ZNI_6, B011CCMOTE_1, B018S366RQ_4, B009M5K0O0_8, B00SCF10DG_7, B074492T3G_4, B074492T3G_7, B001ENV4JS_2, B00C2RC8FE_1, B071G8QNLR_1, B019F4JLRO_9, B00CDQVJ2W_1, B00CDQVJ2W_6, B012705WK8_1, B01CTVWFHI_1, B06ZZ6PSFM_2, B00C65YDGE_8, B00K6D4UHA_2, B0719QH4CM_1, B0719QH4CM_3, B018S367L6_2, B018S367L6_6, B00EIFS8AC_8, B00RY3C5BI_2, B001W30D2O_9, B00R7Q2RVK_4, B00R7Q2RVK_8, B00XSPEW2G_7, B071SF5W39_5, B071SF5W39_7, B01MFCMO1M_1, B00CDQVEPY_1, B00CDQVEPY_2, B00CDQVEPY_7, B072F6DZMC_3, B003YC2VPS_1, B00CIU4T2K_1, B00CIU4T2K_2, B00CIU4T2K_5, B00YHDSAZS_1, B00YHDSAZS_2, B00HUMNWN8_1, B00HUMNWN8_9, B0721B946K_8, B00Y17BDTA_2, B071FGLFQN_1, B071FGLFQN_3, B004T1MCDO_2, B00F657TXA_1, B00F657TXA_4, B06XHKNVX9_2, B01MPWBRYI_7, B00BQY073O_3, B00BQY073O_6, B00BQY073O_10, B00YHDSB1G_1, B00R7Q2RRO_1, B06XCDHYY7_10, B01BU9WWYG_3, B01N7K9PQ4_8, B00WNC0K80_1, B072ZB89LR_3, B01ICSE08Y_4, B000I2Q0F4_4, B000I2Q0F4_9, B01NAKL8NE_9, B00HRRC4I0_9, B010BT1UR6_9, B01NCJX1GR_2, B0014VIX3A_1, B06WV7KBTQ_6, B06XPHB8GS_1, B06XPHB8GS_3, B009T1UB14_2, B009T1UB14_3, B009T1UB14_6, B01HVA4DPE_1, B01HVA4DPE_4, B00S640FGQ_9, B005XVIY9A, B01F93H43I, B01F93H43I, B01LYFTXRS, B01EKFF2KS, B01LZ4HSYB, B01LZ4HSYB, B01LZ4HSYB, B01CNSO54I, B00N1EJXUU, B00N1EJXUU, B00N1EJXUU, B01N6RK9UE, B00J1XE7CO, 6040489650, B0052KHQ8M, B0052KHQ8M, B0052KHQ8M, B01CSC7OTW, B00HRRAFS6, B0055ANRZ0, B075MB3BD2, B00160C8NK, B01MQR0SJA, B01EKBD0DI, B00W62P65E, B06X6BJKWJ, B06X6BJKWJ, B01MRE5KS2, B06XBBBYJN, B0188R0MMC, B0188R0MMC, B0188R0MMC, B0188R0MMC, B00TQ6RORQ, B01EV5FFOA, B01608M48G, B06X6BS21T, B06X6BS21T, B00VLV5SB8, B00VLV5SB8, B01N0S8YOG, B06WV7KCDK, B06WV7KCDK, B0716HTWPK, B0716HTWPK, B01AWGZXHQ, B00VLV6M6S, B00VLV6M6S, B06X9362NJ, B00CYDSHK6, B00CYDSHK6, B00CYDSHK6, B074X2VR5B, B074X2VR5B, B00C9YE7AO, B00C9YE7AO, B07333DK6K, B07333DK6K, B000NIJ5SM, B01N6WV6ZM, B06X9QRJLS, B06X9QRJLS, B00U6E85ZM, B00004UBH2, B0015XJUV6, B00J7KSY2A, B00J7KSY2A, B00J7KSY2A, B00U42LTK4, B007QTB6U6, B007QTB6U6, B01NAKXFJQ, B00U42LTKO, B00U42LTKO, B00U42LTKO, B00U42LTKO, B018J7JK56, B00294DSG8, B00294DSG8, B073P4YYX4, B073P4YYX4, B073P4YYX4, B073P4YYX4, B00SUZX55O, B0002HYYDU, B073X3422S, B073X3422S, B01F0OB6T4, B01F0OB6T4, B00VC3R98U, B004KPKW6S, B004KPKW6S, B00TPJ4KBM, B00TPJ4KBM, B00TPJ4KBM, B0002HYYGM, B01MT0SL03, B01M653JYG, B00IT2JUTS, B019PA4NL2, B019PA4NL2, B00JSLSYXW, B00X9ZPZFI, B00X9ZPZFI, B00J6767GY, B00J6767GY, B0037LL0U8, B0037LL0U8, B000ET7F8C, B000ET7F8C, B06XXQNJ36, B01MU32MGX, B01MU32MGX, B004OBZRN6, B004OBZRN6, B075XHVBLF, B000EB55RS, B01N4061WW, B00IRFM4V8, B01M5E2M2N, B000FCM09C, B01AVADUIM, B002R5J2C8, B002R5J2C8, B002R5J2C8, B06XY2HZNG, B00763PNBK, B00763PNBK, B00083D79U, B00083D79U, B01BM616BM, B01CI31RYO, B01BF6F20K, B01BF6F20K, B00M2L6BPI, B00WU7E7QO, B00WU7E7QO, B00WU7E7QO, B00005LWJ6, B00005LWJ6, B00005LWJ6, B004ALKLR2, B004ALKLR2,"
     ]
    },
    {
     "name": "stdout",
     "output_type": "stream",
     "text": [
      " B00CMR270K, B01IN45ENC, B00OZEXM70, B018SS3WNC, B00VJKT0LK, B00068Q7LC, B00005RF5G, B00005RF5G, B00005RF5G, B00005RF5G, B012BP34TU, B000LSZVKA, B000LSZVKA, B00IFWP73U, B00IFWP73U, B00CDL617A, B00CDL617A, B071K8H6R4, B072Q1P2Z1, B072Q1P2Z1, B01LNWSEQU, B00OZEWATQ, B00140ILCO, B004560BPY, B01L7KXPQC, B06XJ6G82D, B01LZ4HSYB, B01LZ4HSYB, B01LZ4HSYB, B001P3SJG8, B001P3SJG8, B001P3SJG8, B000CEM6WY, B000CEM6WY, B000CEM6WY, B00272N8E4, B00272N8E4, B00272N8E4, B076B3KR9Q, B076B3KR9Q, B018SSDEWG, B018SSDEWG, B018SSDEWG, B01N074ELB, B074STYG8F, B00GNAP830, B00GNAP830, B01CNSO54I, B001W30D2O, B00E3PTHDE, B00E3PTHDE, B076B2K6JK, B076B2K6JK, B00FA2W28G, B00FA2W28G, B00FA2W28G, B0765W3JRZ, B008CDR7LW, B008CDR7LW, B008CDR7LW, B01BSNY3BO, B007FJM7PK, B007FJM7PK, B007FJM7PK, B017GX32MQ, B017GX32MQ, B000BB56B6, B00K5PJMYA, B004KPKW8G, B004KPKW8G, B00IB34HMA, B01LOG9FS6, B01LOG9FS6, B004AHMCKA, B004AHMCKA, B004AHMCKA, B004AHMCKA, B076BBJJX8, B076BBJJX8, B00DL6UH6W, B00BQY073O, B00BQY073O, B00BQY073O, B00QV2P7BI, B01E93LC96, B01E93LC96, B01E93LC96, B01E93LC96, B00HAZFWAQ, B002NWJ1LW, B00DCP5LMW, B00J57OHWG, B014LKNSYO, B00L1TX61O, B01EJA4DLI, B01EJA4DLI, B00CJU0G6C, B00CJU0G6C, B00CJU0G6C, B00CJU0G6C, B01GZZ3LVS, B01GZZ3LVS, B00TYM5QEA, B00TYM5QEA, B074SK2VB8, B00OZEXLPS, B00SH4FSEO, B00SH4FSEO, B00SH4FSEO, B00WNC13EA, B00WNC13EA, B001D0Z4M0, B001D0Z4M0, B001D0Z4M0, B001D0Z4M0, B001D0Z4M0, B001D0Z4M0, B000I2Q0F4, B000I2Q0F4, B001NQHN7S, B001NQHN7S, B00PKBI47U, B00BQAJKQS, B01KZS1IHK, B01KZS1IHK, B00UXBWPOU, B00ET5A3WC, B0744VCQ2T, B008MJGHH6, B008MJGHH6, B06X1665TT, B00C1JVRRI, B00C1JZZZ8,\n",
      "\n",
      "Cluster 3 titles: B00OH9OMW2_1, B00OH9OMW2_2, B00OH9OMW2_7, B01MXXC58P_5, B01MXXC58P_7, B0052RMWF2_2, B00L1FEYFA_5, B00BVIHWKQ_5, B00BVIHWKQ_6, B00BVIHWKQ_8, B01B6C1MVQ_8, B01B6C1MVQ_9, B01N4PKL8O_8, B01G3KI8A4_1, B01G3KI8A4_7, B00J8DZ7AI_4, B00J8DZ7AI_5, B00J8DZ7AI_6, B00J8DZ7AI_9, B006ZKXHFE_1, B01N8TTTWH_5, B01N3U5U6H_5, B011R2RFX4_9, B01KZS1IA2_5, B01KZS1IA2_10, B01JLX2KWC_4, B01JLX2KWC_9, B076B42HXR_10, B01CSAR4F8_2, B002QQ7JM8_3, B002BDU87Y_1, B01608M29M_3, B0009Y4FSK_10, B01MUXWESB_7, B001S2TIQG_6, B001S2TIQG_7, B001S2TIQG_8, B073P51YBZ_9, B01M9GDSPC_4, B01B1GV0PA_2, B019IGTH96_1, B019IGTH96_4, B019IGTH96_5, B00561OC3E_3, B004MW55Z2_8, B00T6GT622_3, B01J11QXZE_10, B06VTD32J1_10, B006JW15N4_4, B010DIE8PG_1, B0117SZ3IM_6, B01N8TTRBI_5, B072XP7VZS_3, B01J41FG72_4, B01J41FG72_9, B0083F2XDQ_2, B0083F2XDQ_4, B0083F2XDQ_9, B01J41D4IU_10, B00F3B2TVO_3, B06W55DZCK_5, B06WD3SGC2_10, B06WLL3SMJ_2, B06WLL3SMJ_10, B01J41DNYK_9, B06WD3SJ8Z_6, B06WD3SJ8Z_9, B01J41ERCM_8, B01J41ERCM_10, B06WVBM4L8_4, B06WVBM4L8_9, B000E8S8XO_3, B000E8S8XO_5, B000E8S8XO_6, B000E8S8XO_9, B01J41EBFU_8, B000RPDPSC_6, B000RPC4IY_3, B0013PU09W_7, B0033UX0QK_3, B0077QT4VG_4, B0077QT4VG_6, B00HRRD10A_7, B01H5QPICG_4, B01H5QPICG_7, B01H5QPICG_8, B001NQHN7S_3, B015CCR6UC_3, B01BM60SBG_7, B01ARGBR9O_1, B01ARGBR9O_3, B01ARGBPBO_3, B019B9SXH2_7, B00TXI26S4_7, B00TXI26S4_8, B00TXI26S4_10, B00U6E860G_1, B00U6E860G_3, B00U6E860G_6, B06X9SFWNT_8, B06XSHF3V1_2, B06XSHF3V1_3, B06XSHF3V1_6, B00LHXUOXM_1, B00LHXUOXM_2, B004CM29Y2_3, B01IT3VEH2_1, B01IT3VEH2_4, B015CCR1FW_8, B01IT3VH9W_3, B00HRRE3UM_2, B00HRRE3UM_8, B00HRRCJUS_5, B00EIFS8AC_3, B00EIFS8AC_6, B00EIFS8AC_9, B00EIFS8AC_10, B01H5QPIJE_1, B01H5QPIJE_3, B01H5QPIJE_4, B01H5QPIJE_7, B01EJKLX2U_4, B01IT3VEQ8_4, B001DRA7HA_3, B001DRA7HA_5, B01C479Q7E_2, B01C479Q7E_3, B019YJNT8C_9, B01CSC7OTW_2, B01CSC7OTW_7, B01CSC7OTW_8, B01M7R41N9_4, B01M7R41N9_6, B01M7R41N9_10, B005INHQJW_1, B005INHQJW_10, B005KRN6GS_1, B005KRN6GS_8, B005KRN6GS_10, B01IKOZ8EA_1, B01IKOZ8EA_3, B01IKOZ8EA_7, B06XJ3635M_7, B06W2LB1L7_1, B06W2LB1L7_7, B01IT3VEJA_1, B000FCM09C_6, B06XSQ8RP8_6, B0058C97YK_9, B0043JF0SQ_8, B00HRRD8US_2, B00HRRD8US_3, B00HRRD8US_5, B00HRRD8US_8, B00HRRD8US_10, B06Y1225MR_8, B01MRV4ET4_5, B01MRV4ET4_6, B00NWG3JC0_3, B00NWG3JC0_9, B0104BKFU4_6, B0104BKFU4_8, B0104BKFU4_10, B01MQOC7TZ_8, B01MQOC7TZ_9, B01MQOC7TZ_10, B01IT3VHAG_4, B01IT3VHAG_5, B01IT3VHAG_6, B01IT3VHAG_8, B00XLHP1FS_5, B00XLHP1FS_10, B01H5QPIG2_8, B01H5QPIG2_9, B009386Q9O_4, B01EAANJTE_10, B01CIGMNWQ_1, B00YCICQHQ_9, B01BXAISS6_5, B002P7SEK4_5, B00CRZXUZI_1, B0079FCB8I_2, B01HBFUA4W_4, B01HBFUA4W_6, B01HBFUA4W_9, B01AXP1S9I_3, B01AXP1S9I_6, B015HJV4TE_2, B015HJV4TE_8, B00004TDLD_5, B00GNJRR76_3, B004S6QWEK_2, B004S6QWEK_6, B004S6QWEK_10, B00JSLSYXW_2, B00WJ1O76G_10, B00ZTL4YCA_2, B007FJM7PK_9, B00006L99R_8, B01CJFHW0Y_2, B01CJFHW0Y_4, B075V51NCV_1, B075V51NCV_10, B06XHJC5R6_7, B01D9IDIQW_1, B01D9IDIQW_3, B01D9IDIQW_6, B01D9IDIQW_10, B0007TXTIO_6, B00ZOO1YJ8_6, B00F4VFJRO_9, B00F4VFJRO_10, B00008BFZH_3, B000795N4W_2, B00B1Z6EPS_1, B00000ISC5_1, B00000ISC5_7, B00000ISC5_8, B01CJFHVR8_2, B01CJFHVR8_4, B00U3G9Q9W_8, B004X4WB2E_3, B004X4WB2E_8, B000E8S8XO_3, B000E8S8XO_5, B000E8S8XO_6, B000E8S8XO_9, B01DXULLCE_1, B01DXULLCE_4, B01DXULLCE_10, B00BQB8GZ8_6, B00CP6A836_9, B00FA0Y5I8_4, B00FA0Y5I8_10, B01MY5QFYH_4, B01MY5QFYH_5, B00S6415TW_7, B00S6415TW_10, B004JQPXNU_6, B000V0GZA8_3, B073RPXNWH_10, B00J1XDZIQ_5, B0026ZPTYY_4, B06WVH1RFT_8, B06WVH1RFT_9, B0015XWTW8_1, B00HWHO7M6_4, B00HWHO7M6_5, B00HFR4GRY_9, B00ECDKCUE_6, B01GPSA2RG_2, B01GPSA2RG_4, B01GPSA2RG_7, B00LGWRTS2_8, B06XWRPQZD_5, B01K1MDHJC_6, B073PW186C_7, B008DB7VSM_7, B0009QXX4A_4, B075TT97NT_1, B00Y0YY03A_2, B06ZXV6RDC_9, B019XMRQPM_8, B01MZXOR7M_1, B01N0Z3QWO_7, B00HHBLZAE_3, B06XWVTF3F_4, B06XWVTF3F_9, B0007TXTIO_6, B00HWHNNRG_2, B01MQYCBU4_2, B008IZHSEA_6, B06XPXQW6Z_8, B00CFV24TC_5, B00HFJNHOK_3, B00HFR4PFC_2, B00HFR4PFC_8, B00HFR4PFC_9, B075QHL7M2_5, B075QHL7M2_6, B00OYJ6IY0_6, B005IX6ZOY_2, B00HWHNMUO_7, B0002HR306_6, B01N4RMMGB_6, B000EWC0NY_3, B00146K0I6_10, B001NQHN7S_3, B077P2BLVN_6, B000FJ3FK8_2, B000FJ3FK8_3, B00OH9OMW2_1, B00OH9OMW2_2, B00OH9OMW2_7, B0079FCB8I_2, B00BSN004E_2, B01N4PKL8O_8, B00009B1SF_4, B006ZKXHFE_1, B002CZPR0Y_5, B00V0XKDL2_5, B00V0XKDL2_10, B01608M29M_3, B006FT065O_4, B004MW55Z2_8, B075XJQQQB_4, B075XJQQQB_7, B075XJQQQB_8, B075XJQQQB_9, B06ZYCX58J_3, B06ZYCX58J_6, B004JQPXOE_2, B0723HN2QW_5, B0723HN2QW_8, B0723HN2QW_10, B011CCMOTE_7, B009M5K0O0_6, B00SCF10DG_1, B00SCF10DG_4, B0764DW1JY_1, B0764DW1JY_2, B0764DW1JY_4, B0764DW1JY_6, B0764DW1JY_7, B074J57L4L_5, B074J5S67L_5, B00C2RC8FE_5, B074GTSKQ3_1, B074GTSKQ3_8, B01GVGIJT0_6, B004QB4VRW_4, B071G8QNLR_5, B071G8QNLR_6, B071G8QNLR_9, B019F4JLRO_4, B00CDQVJ2W_9, B00WNC1A9I_3, B012705WK8_4, B01LZNNV62_8, B01CTVWFHI_2, B01CTVWFHI_8, B01CTVWFHI_10, B00C65YDGE_1, B00C65YDGE_3, B00K6D4UHA_3, B00K6D4UHA_10, B0728HMWGC_2, B018S367L6_5, B00EIFS8AC_3, B00EIFS8AC_6, B00EIFS8AC_9, B00EIFS8AC_10, B071WJX1N7_3, B071WJX1N7_5, B016XRTTAA_8, B001W30D2O_3, B001W30D2O_8, B00R7Q2RVK_9, B00RY3C6MQ_3, B00RY3C6MQ_4, B00RY3C6MQ_7, B00RY3C6MQ_10, B071SF5W39_1, B071SF5W39_4, B01MFCMO1M_3, B01MFCMO1M_6, B01MFCMO1M_7, B07516GZ2L_1, B07516GZ2L_3, B00CDQVEPY_5, B00CDQVEPY_9, B003YC2VPS_5, B00BB7YETE_1, B00BB7YETE_3, B01BPUNVS6_10, B00DQN034Q_2, B010DJXDII_3, B010DJXDII_9, B004T1M4EG_5, B00HUMNWN8_2, B00HUMNWN8_7, B0721B946K_5, B004TMOXSK_1, B004TMOXSK_4, B004TMOXSK_7, B004TMOXSK_8, B0721SWLM3_2, B0721SWLM3_3, B00F657TXA_3, B06XHKNVX9_4, B06XHKNVX9_7, B06XHKNVX9_9, B072FP7D1B_1, B072FP7D1B_3, B074M3F7WY_4, B074M3F7WY_6, B074M3F7WY_7, B01MPWBRYI_2, B01MPWBRYI_3, B01MPWBRYI_6, B01MPWBRYI_10, B00R7Q2RRO_9, B06XCDHYY7_1, B01M0YC7J8_3, B01BU9WWYG_6, B01BU9WWYG_8, B0712191GF_1, B0712191GF_3, B01N7K9PQ4_1, B01N7K9PQ4_6, B01N7K9PQ4_9, B01M3TUX8K_6, B002Q4M5PQ_5, B071JVQTQF_1, B071JVQTQF_2, B071JVQTQF_4, B001ENZ43K_4, B001ENZ43K_8, B06Y479HS9_4, B06Y479HS9_6, B0727VNM6G_1, B019DQFZJM_8, B01NAKL8NE_10, B00HRRC4I0_2, B00HRRC4I0_4, B06WLNL3WT_3, B06WLNL3WT_4, B06WLNL3WT_8, B01NCJX1GR_3, B01NCJX1GR_4, B01NCJX1GR_8, B00IF1VVFO_3, B00IF1VVFO_4, B01M7YNDXI_5, B01M7YNDXI_10, B06WV7KBTQ_1, B06WV7KBTQ_2, B06WV7KBTQ_10, B01EV5EZZU_10, B00F3B2TVO_3, B00O4E27MC, B01AWGZXNA, B01AWGZXNA, B00J1XE7CO, B00J1XE7CO, B01CSC7OTW, B01CSC7OTW, B01CSC7OTW, B00HRRAFS6, B00HRRAFS6, B073BFVH9Q, B0001MEGSY, B0001MEGSY, B0001MEGSY, B01N9JMG57, B01N9JMG57, B00O4E4040, B00W62P65E, B06X6BJKWJ, B06X6BJKWJ, B06X6BJKWJ, B01MRE5KS2, B01MG9A7IP, B00NLHWELM, B00NLHWELM, B019JIACIS, B01608LE5A, B01608M48G, B01608M48G, B06X6BS21T, B01AWGZXP8, B01AWGZXP8, B01AWGZXP8, B01AWGZXP8, B01AWGZXP8, B01AWGZXP8, B071HNQ8Q4, B071HNQ8Q4, B06WV7KCDK, B071RLJ6G5, B01AWGZXHQ, B01AWGZXHQ, B0725QQCKC, B074X2VR5B, B07333DK6K, B07333DK6K, B07333DK6K, B00U6E85ZM, B00004UBH2, B00J7KSY2A, B00J7KSY2A, B01NAKXFJQ, B00U42LTKO, B00U42LTKO, B073P4YYX4, B075TDGD3R, B002CZPR40, B002CZPR40, B00SUZX55O, B00FAT4NUY, B01H07E0W4, B0002HYYGM, B0002HYYGM, B00B201C72, B00B201C72, B01DCLUG16, B01DCLUG16, B00TYHJ56U, B00TYHJ56U, B019PA4NL2, B019PA4NL2, B01DLWEFWM, B01DLWEFWM, B002CZPR0Y, B076NDYCPD, B06W9HKT1D, B06W9HKT1D, B06W9HKT1D, B06W9HKT1D, B00ZD5FA1G, B00JSLSYXW, B00X9ZPZFI, B01D8NRYOK, B00J6767GY, B06XXQNJ36, B06XXQNJ36, B004RON2A0, B004OBZRN6, B004OBZRN6, B004OBZRN6, B01N63IITS, B01N63IITS, B007ZPWIQC, B007ZPWIQC, B002CZPR2W, B075XHVBLF, B007R4829I, B01M5E2M2N, B000FCM09C, B06XY2HZNG, B002UXO4J8, B002UXO4J8, B00763PNBK, B00763PNBK, B00083D79U, B00BG417HY, B072MK7BX3, B01BM616BM, B01BM616BM, B01CI31RYO, B00DGQ1K8Q, B00WU7E7QO, B00WU7E7QO, B000FCR4XO, B000FCR4XO, B00005LWJ6, B004ALKLR2, B00O07LZ5I, B019K8L3IK, B00OZEXM70, B00OZEXM70, B018SS3WNC, B00068Q7LC, B00005RF5G, B012BP34TU, B0007A5HL0, B071K8H6R4, B01LNWSEQU, B004560BPY, B06XT2YDVM, B00804BCK0, B01GZZ3MSU, B06XSKKM3L, B000CEM6WY, B018SSDEWG, B00GNAP830, B00GNAP830, B001W30D2O, B001W30D2O, B00FA2W28G, B0765W3JRZ, B0765W3JRZ, B0765W3JRZ, B008CDR7LW, B00GNAP5T2, B01BSNY3BO, B007FJM7PK, B000067PWG, B017GX32MQ, B072C36NSW, B000BB56B6, B000BB56B6, B01CMSESVO, B01N0NU68I, B01LOG9FS6, B01EWU4BIU, B01E93LC96, B00HAZFWAQ, B002NWJ1LW, B014LKNSYO, B014LKNSYO, B0006IRTU0, B0006IRTU0, B004MWJLHK, B01EJA4DLI, B01GZZ3LVS, B01GZZ3LVS, B01GZZ3LVS, B00TYM5QEA, B00WNC13EA, B001NQHN7S, B00PKBI47U, B01KZS1IHK, B01KZS1IHK, B015NHJT06, B015NHJT06, B01MFG934M, B00UXBWPOU, B076F16JC1, B0744VCQ2T, B01ELIGSGQ, B01ELIGSGQ, B06X1665TT, B00C1JZZZ8, B00C1JZZZ8, B00C1JZZZ8, B01HQ9EQ1G,\n",
      "\n",
      "Cluster 4 titles: B01DZXE8PG_4, B01KZS1IEI_9, B00OH9OMZY_5, B01MXXC58P_4, B0052RMWF2_7, B002CY999K_6, B00BVIHWKQ_7, B01B6C1MVQ_6, B006ZKXGL4_8, B01N4PKL8O_2, B01G3KI8A4_6, B00J8DZ7AI_3, B00J8DZ7AI_8, B01ND3Y02K_5, B01ND3Y02K_7, B005OYGNLW_4, B005OYGNLW_8, B01N8PQGFE_10, B07576493W_1, B07576493W_3, B07576493W_7, B006ZKXHFE_6, B006ZKXHFE_9, B01CIQ11PQ_2, B00RVZGVBE_2, B00RVZGVBE_6, B00RVZGVBE_7, B011R2RFX4_3, B011R2RFX4_8, B01JLX2KWC_10, B076B42HXR_5, B01KXT8JV4_2, B01KXT8JV4_7, B01CSAR4F8_9, B002QQ7JM8_4, B002QQ7JM8_7, B002QQ7JM8_10, B002BDU87Y_2, B002BDU87Y_8, B01608M29M_10, B00IEAALP2_5, B00IEAALP2_7, B01DVEI0WQ_2, B0009Y4FSK_5, B00TT5LRC2_6, B00TT5LRC2_9, B019DZ67J0_4, B01MUXWESB_6, B00JPJQASS_3, B00JPJQASS_7, B0742J54R6_2, B01F49BULE_8, B01F49BULE_9, B0080EWI5S_6, B06XT1KZKH_5, B06XT1KZKH_6, B01B1GV0PA_5, B01MR15IHO_10, B00T4UY6TI_6, B004MW55Z2_4, B06X9PGZZS_4, B06X9PGZZS_6, B01J11QXZE_7, B06VTD32J1_5, B073HG69VP_1, B072XP7VZS_10, B01J41M9WC_5, B01J41DNZE_1, B01J41DNZE_10, B06X6GKFM8_7, B06X6GKFM8_8, B01J41DNUY_6, B01J41DNUY_7, B01J41DNUY_8, B01LX9672R_2, B0083F2XDQ_6, B01J41D4IU_4, B06W2KC378_6, B01G5RI0KS_5, B01G5RI0KS_7, B01J41FFUA_1, B01J41FFUA_3, B01J41FFUA_9, B01J41HPQ2_8, B01J41FSKW_6, B01MYRG38U_3, B01J41LRF2_4, B01J41LRF2_6, B01J41LRF2_7, B01J41LRF2_10, B01J41D4IA_4, B01J41D4IA_5, B01J41D4IA_6, B01J41D4IA_10, B00NVDOWUW_4, B00NVDOWUW_9, B06WGPSBW4_4, B013GY8TH2_2, B06X8ZR7DM_2, B06X8ZR7DM_6, B06X8ZR7DM_9, B01J41JLEG_8, B06W55DZCK_6, B06W2KC1QQ_5, B013GY7GQ2_4, B06WGPS9V6_10, B01J41GOZU_3, B01J41GOZU_6, B01J41GOZU_10, B01J41DVSS_1, B01J41LR20_7, B01J41LR20_10, B01J41MPF8_9, B06WLL3SMJ_6, B06WLL3SMJ_8, B00PY3EYQO_2, B00PY3EYQO_6, B06WGPS9MY_6, B01J41JLTQ_8, B06WGPSBPB_9, B012NOGTVE_2, B01J41GQOE_5, B01J41DO0S_9, B01J41FI8E_6, B06WLL3TQY_7, B019F2SF14_3, B019F2SF14_9, B01J41DAUM_7, B01J41G4E6_9, B01J41DHSC_4, B01J41DHSC_8, B01J41DHSC_10, B06WD3SJ8Z_7, B06WD3SJ8Z_10, B06W2KC1QS_8, B06VVPJ3B4_8, B01J41D570_6, B01J41D570_7, B06WRRJ6MM_4, B06WRRJ6MM_5, B06WRRJ6MM_8, B01J41FUHS_3, B06WGPSD8P_5, B01GG2Z8CA_4, B01GG2Z8CA_6, B01GG2Z8CA_9, B06VVH6313_2, B06VVH6313_4, B06VVH6313_5, B06VVH6313_10, B01J41DHFA_7, B00HFPM3IK_2, B00HFPM3IK_10, B01J41HRZQ_1, B01J41HRZQ_6, B01J41KIIE_2, B01J41ERCM_4, B06X92LST2_9, B06X92LST2_10, B01J41D5D4_7, B01J41D5D4_9, B01J41GO2S_4, B01J41JZX8_10, B00DSNQ35W_4, B00DSNQ35W_6, B00DSNQ35W_8, B01M4RZL27_7, B01J41G4SC_5, B06W2KC4T2_2, B06W2KC4T2_8, B01J41EBFU_7, B06WRRJ5Z6_1, B06WRRJ5Z6_3, B06VV73LFR_10, B000RPDPSC_3, B000RPC4IY_5, B0033UX0QK_8, B00G7KM4ZG_7, B0077QT4VG_1, B0077QT4VG_3, B01H5QPICG_2, B01H5QPICG_6, B015CCR6UC_7, B015CCR6UC_9, B01BM60SBG_2, B002LJGM4Q_10, B00CXWC48O_4, B00U6E860G_7, B06X9SFWNT_5, B06XSHF3V1_10, B00NBNV3OU_4, B00NBNV3OU_7, B015RSDMWM_7, B00LHXUOXM_9, B01IT3VH9W_6, B00HRRE3UM_9, B00HRRCJUS_8, B0104BL1Y8_1, B002Y9ZGEA_5, B002Y9ZGEA_6, B002Y9ZGEA_9, B000L70MQO_4, B000L70MQO_6, B00E3SM3SW_3, B00E3SM3SW_4, B00E3SM3SW_5, B00E3SM3SW_8, B0000658L4_3, B0000658L4_7, B01D9KNCNE_4, B01D9KNCNE_5, B01D9KNCNE_8, B016VZXJT6_8, B01EJKLX2U_8, B01EJKLX2U_10, B00026ZEDK_5, B06Y3N2VC4_4, B0047LF2GK_5, B001DRA7HA_2, B001DRA7HA_4, B019YJNT8C_4, B01M7R41N9_7, B0037LL0U8_9, B01IKOZ8EA_5, B01IKOZ8EA_9, B0037LIZKQ_5, B003RRXZC8_8, B003RRXZC8_9, B06W2LB1L7_2, B004VYYA2K_3, B004VYYA2K_9, B00165X2B2_4, B00Y8AS21W_4, B00Y8AS21W_10, B01J124SUU_4, B01J124SUU_6, B0058C97YK_4, B0043JF0SQ_10, B001Q7PXEO_4, B001Q7PXEO_5, B00NZ8GU4E_2, B00NZ8GU4E_5, B00NZ8GU4E_6, B00NZ8GU4E_7, B00NZ8GU4E_9, B005KJ4XUO_8, B0080MSGFQ_8, B00NWG3JC0_4, B00NWG3JC0_6, B00MT044II_3, B0000BX8MA_3, B01IT3VHAG_7, B072MGVV73_7, B009386Q9O_10, B00Q8NEL1M_3, B00Q8NEL1M_9, B01EAANJTE_3, B01EAANJTE_6, B01CIGMNWQ_6, B01CIGMNWQ_9, B00GSSMI1M_1, B00GSSMI1M_8, B00GSSMI1M_10, B017SRMTR4_1, B017SRMTR4_5, B00A8PW9QK_10, B00SWRBOQM_3, B00SWRBOQM_4, B00SWRBOQM_9, B0015XJUV6_5, B0015XJUV6_6, B0015XJUV6_7, B00YCICQHQ_1, B003JSMW88_9, B00ISQKHTM_8, B000UTXL20_5, B000UTXL20_6, B005XVIY9A_5, B002P7SEK4_6, B000I8T8V6_7, B000I8T8V6_8, B00JM94NGM_1, B00JM94NGM_3, B00JM94NGM_5, B07219WZFC_5, B000H5V08E_10, B01HBFUA4W_3, B01DXULN9K_1, B01DXULN9K_7, B0007KK0V2_5, B0007KK0V2_9, B004P5PTZ2_6, B00N4TRHVO_8, B00N4TRHVO_9, B00004TDLD_4, B00L2DZ4OG_7, B00008OS3W_1, B00008OS3W_4, B00008OS3W_7, B004R3RV6W_5, B00EQ4JOBC_3, B00EQ4JOBC_5, B00EQ4JOBC_9, B00EQ4JOBC_10, B002OHCYZQ_1, B002OHCYZQ_6, B002OHCYZQ_8, B004OBZRR2_6, B004OBZRR2_7, B00JSLSYXW_4, B00JSLSYXW_8, B00IF97V1Y_1, B00IF97V1Y_3, B00WJ1O76G_9, B00ZTL4YCA_4, B00ZTL4YCA_8, B06XZ3RQVN_1, B06XZ3RQVN_7, B00006L99R_3, B00006L99R_4, B00006L99R_10, B0015QQZJS_6, B01CJFHW0Y_10, B075V51NCV_7, B06XHJC5R6_10, B00CWB0KLE_4, B01DC8Q2ZS_3, B00LAX52IQ_4, B001UHO66Q_6, B000795N4W_7, B000795N4W_8, B000795N4W_10, B00000ISC5_10, B01CJFHVR8_10, B00U3G9Q9W_6, B000H6W53W_2, B000H6W53W_3, B00OP1MCJC_4, B00OP1MCJC_8, B004X4WB2E_10, B00DSNQ35W_4, B00DSNQ35W_6, B00DSNQ35W_8, B01DXULLCE_6, B00BQB8GZ8_4, B00BQB8GZ8_5, B00CP6A836_2, B0006HBERA_6, B001CG5IZI_9, B00JM98ZNO_3, B00JM98ZNO_10, B00FA0Y5I8_2, B00FA0Y5I8_7, B0077OIZ04_3, B0077OIZ04_5, B0077OIZ04_7, B0077OIZ04_9, B0079FCBBK_5, B00XCK9LNC_2, B00XCK9LNC_5, B01MY5QFYH_10, B0074HSHGQ_5, B06W2H5DF8_7, B06W2H5DF8_8, B002ZSSEG2_1, B002ZSSEG2_6, B004JQPXNU_8, B07632XN62_1, B0006G3B68_7, B0026ZPTYY_1, B0026ZPTYY_10, B0015XWTW8_7, B00000JD5S_9, B00HFR4GRY_3, B00HFR4GRY_6, B00140ILCO_3, B00140ILCO_8, 1933054395_5, 1933054395_7, 1933054395_10, B00ECDKCUE_1, B01CXQSEOC_7, B01CXQSEOC_8, B01CXQSEOC_9, B06W2H5RYP_4, B06W2H5RYP_6, B06W2H5RYP_7, B00WOFBCHO_5, B014SVVLDQ_2, B01K1MDHJC_1, B073PW186C_5, B000EWC11U_3, B000EWC11U_9, B008DB7VSM_5, B0009QXX4A_5, B013ORII9A_1, B075TT97NT_3, B01NH7MO6D_6, B01NH7MO6D_9, B01NH7MO6D_10, B0747NY7TP_1, B019XMRQPM_10, B018FPKN4Y_7, B06WLHXMDM_3, B00005N5P6_9, B01IW2XIK6_5, B01IW2XIK6_9, B01IW2XIK6_10, B06XSZJWSX_5, B004O0TOJA_7, B01N0Z3QWO_1, B01N0Z3QWO_9, B005WVN1B2_10, B06XWVTF3F_8, B000WPD44W_1, B00HWHNNRG_4, B00HWHNNRG_10, B01MQYCBU4_8, B01MQYCBU4_10, B06XPXQW6Z_6, B06XPXQW6Z_9, B00CFV24TC_8, B00HFJNHOK_7, B00HFJNHOK_8, B00IVC1B16_1, B003PHQHUM_3, B003PHQHUM_7, B00HFR4PFC_3, B00HFR4PFC_4, B00HFR4PFC_6, B009IR0P0G_2, B009IR0P0G_7, B01MRLKIEK_2, B075QHL7M2_7, B075QHL7M2_8, B00OYJ6IY0_5, B00OYJ6IY0_8, B00OYJ6IY0_9, B00000DMER_6, B01MSFGJ38_9, B00MOI8756_9, B005IX6ZOY_5, B00HWHNMUO_8, B0002HR306_8, B072J28JYT_4, B0721Y71NB_6, B0721Y71NB_7, B0721Y71NB_9, B0721Y71NB_10, B000EWC0NY_5, B000EWC0NY_10, B00146K0I6_3, B00A2MLITS_8, B071G85LSK_5, B006YMOCOS_9, B01MFGBS5K_6, B01BP6GPX8_6, B01BP6GPX8_8, B077P2BLVN_7, B004ISL30Q_2, B0002HZPUG_7, B0002HZPUG_9, B01D2R64WK_7, B01N4EM5ML_8, B005XVIY9A_5, B01MS0D34S_10, B000FJ3FK8_7, B000FJ3FK8_10, B01D4GA4AM_4, B01D4GA4AM_7, B01N9480GG_6, B01NAGYZRQ_1, B005RROHPU_7, B076M2486L_8, B076M2486L_9, B009CSSG4I_9, B009NFH6Y6_3, B009NFH6Y6_9, B009NFH6Y6_10, B006ZKXGL4_8, B00BSN004E_5, B01N4PKL8O_2, B00009B1SF_10, B01F6XNAVG_3, B01F6XNAVG_7, B0135X2GQE_8, B00ETMVUMC_6, B00TDP7R2W_3, B006ZKXHFE_6, B006ZKXHFE_9, B002CZPR0Y_9, B001BRVBH2_5, B001BRVBH2_9, B01BP6GPV0_3, B01BP6GPV0_9, B00008J1AV_3, B00008J1AV_6, B000LNC6SU_3, B000LNC6SU_5, B000LNC6SU_6, B01NCP46DK_8, B00BFSF66O_8, B00BFSF66O_10, B01M1ALBUC_1, B01M1ALBUC_10, B009NFH54W_1, B00ABXVV3Q_3, B00ABXVV3Q_6, B01608M29M_10, B006FT065O_8, B0756TLW9F_2, B0756TLW9F_10, B002KCSNBO_5, B002KCSNBO_7, B00BMLVF6O_4, B074CFDWCF_3, B01GPOL4UO_5, B01GPOL4UO_10, B009AS5VW0_5, B06XYJ6SRY_3, B06XYJ6SRY_5, B01MR15IHO_10, B00I4CEVZG_8, B004YATJ72_1, B004YATJ72_7, B004YATJ72_9, B004MW55Z2_4, B001RZJK8A_7, B00VEMLOBC_3, B00VEMLOBC_4, B002V841QI_3, B00MUMZM90_3, B0085JRADS_2, B010NXYQMG_7, B014M0S1EK_4, B004JQPXOE_7, B06X9Q5T2N_6, B00E9QMIME_5, B0002GTIXW_7, B0723HN2QW_6, B018S366RQ_6, B018S366RQ_8, B009M5K0O0_5, B009M5K0O0_10, B0764DW1JY_5, B0764DW1JY_10, B074J57L4L_3, B000WNZ1SQ_3, B000WNZ1SQ_4, B074J5S67L_3, B074GTSKQ3_7, B004QB4VRW_8, B071G8QNLR_10, B00WNC1A9I_5, B00WNC1A9I_6, B00WNC1A9I_7, B012705WK8_3, B012705WK8_6, B012705WK8_8, B01LZNNV62_5, B01CTVWFHI_6, B06ZZ6PSFM_1, B06ZZ6PSFM_3, B0719QH4CM_4, B00RY3C5BI_6, B00RY3C5BI_9, B016XRTTAA_3, B016XRTTAA_9, B01DSX8XS6_5, B00R7Q2RVK_6, B00SWUTUOM_8, B00SWUTUOM_10, B07516GZ2L_8, B00CDQVEPY_8, B072F6DZMC_8, B01KNBCDLE_3, B01KNBCDLE_6, B01KNBCDLE_7, B003YC2VPS_3, B00CIU4T2K_6, B00YHDSAZS_7, B00YHDSAZS_8, B00YHDSAZS_9, B00SYIPS70_2, B01DSX8XYU_2, B004TMOXSK_2, B0721SWLM3_7, B00Y17BDTA_7, B00Y17BDTA_9, B071FGLFQN_4, B018XNPA0A_8, B00F657TXA_9, B06XHKNVX9_5, B00BQY073O_5, B00R7Q2RRO_10, B01M0YC7J8_4, B01M0YC7J8_6, B01M0YC7J8_9, B004T1MDZ6_8, B0712191GF_4, B00WNC0K80_4, B00WNC0K80_9, B01GFZT3QK_9, B072ZB89LR_2, B072ZB89LR_8, B002Q4M5PQ_7, B01N07TS8M_5, B01N07TS8M_6, B001ENZ43K_2, B01608LKP4_2, B01608LKP4_7, B01608LKP4_10, B01HGTMPHS_4, B01NAKL8NE_8, B010BT1UR6_2, B010BT1UR6_3, B010BT1UR6_5, B010BT1UR6_6, B01LTHZP16_10, B000JXKWYC_2, B000JXKWYC_9, B0014VIX3A_3, B0014VIX3A_8, B0014VIX3A_10, B06XJ2XLMY_10, B01M7YNDXI_1, B01HVA4DPE_6, B01HVA4DPE_10, B00S640FGQ_3, B005XVIY9A, B072Q6TZC5, B01F93H43I, B013GY8TH2, B00LHNR282, B00LHNR282, B00LHNR282, B01LYFTXRS, B01EKFF2KS, B06XNJ6RFT, B01LX4ZC9H, B013GY7GQ2, B01CNSO54I, B01CNSO54I, B01AWGZXNA, B01AWGZXNA, 6040489650, 6040489650, B0055ANRZ0, B0055ANRZ0, B0055ANRZ0, B0055ANRZ0, B01MZITZZJ, B01MZITZZJ, B00160C8NK, B01BSXWY38, B01N9JMG57, B01N9JMG57, B01EKBD0DI, B01EKBD0DI, B00O4E4040, B00O4E4040, B00W62P65E, B00W62P65E, B01HXND5XK, B01HXND5XK, B01MG9A7IP, B01608LE1Y, B01608LE1Y, B01LYRIWYZ, B0188R0MMC, B012NOF6G8, B00NLHWELM, B00TQ6RORQ, B01EV5FFOA, B01608M48G, B06X6BS21T, B01AWGZXP8, B01N0S8YOG, B071HNQ8Q4, B0716HTWPK, B01AWGZXHQ, B00QFFIYAW, B074X2VR5B, B07333DK6K, B01N6WV6ZM, B01N6WV6ZM, B06X9QRJLS, B00U6E85ZM, B00U6E85ZM, B00U6E85ZM, B00004UBH2, B0015XJUV6, B0015XJUV6, B0015XJUV6, B00U42LTK4, B01NAKXFJQ, B00294DSG8, B075TDGD3R, B002CZPR40, B002CZPR40, B073X3422S, B073X3422S, B01F0OB6T4, B004KPKW6S, B01H07E0W4, B06W52XW1X, B00JM94NGM, B00JM94NGM, B00JM94NGM, B0002HYYGM, B0002HYYGM, B01MT0SL03, B01MT0SL03, B01M653JYG, B00TYHJ56U, B00TYHJ56U, B00IT2JUTS, B00IT2JUTS, B002CZPR0Y, B076NDYCPD, B00ZD5FA1G, B00YCID48G, B00JSLSYXW, B00JSLSYXW, B0037LL0U8, B000ET7F8C, B06XXQNJ36, B06XXQNJ36, B000TNJHJ8, B000TNJHJ8, B01MU32MGX, B00067U818, B00U6E86B0, B075XHVBLF, B007R4829I, B007R4829I, B00IRFM4V8, B00IRFM4V8, B01M5E2M2N, B01AVADUIM, B01AVADUIM, B01ASIFRWE, B01ASIFRWE, B06XY2HZNG, B002UXO4J8, B002UXO4J8, B00763PNBK, B00083D79U, B072MK7BX3, B01M3RCB80, B01M3RCB80, B01CI31RYO, B00DGQ1K8Q, B00DGQ1K8Q, B00DGQ1K8Q, B01BF6F20K, B00M2L6BPI, B004ALKLR2, B00O07LZ5I, B00O07LZ5I, B00O07LZ5I, B00O07LZ5I, B00O07LZ5I, B019K8L3IK, B00471DPA0, B0074HSHGQ, B00CMR270K, B00005RF5G, B00005RF5G, B012BP34TU, B0007A5HL0, B00IFWP73U, B0054O9UIA, B071K8H6R4, B072Q1P2Z1, B00OZEWATQ, B00OZEWATQ, B00OZEWATQ, B00140ILCO, B00140ILCO, B01L7KXPQC, B06XT2YDVM, B06XT2YDVM, B00804BCK0, B00804BCK0, B00804BCK0, B06XJ6G82D, B06XJ6G82D, B06XSKKM3L, B001P3SJG8, B076B3KR9Q, B01N074ELB, B074STYG8F, B074STYG8F, B00GNAP830, B01CNSO54I, B01CNSO54I, B00E3PTHDE, B076B2K6JK, B00FA2W28G, B0765W3JRZ, B008CDR7LW, B01BSJWIVK, B01BSJWIVK, B01BSNY3BO, B011IBSIJY, B017GX32MQ, B072C36NSW, B072C36NSW, B000BB56B6, B000BB56B6, B01CMSESVO, B00K5PJMYA, B01N0NU68I, B004X0WBHS, B01HXND5XK, B01HXND5XK, B00IB34HMA, B00IB34HMA, B01LOG9FS6, B01LOG9FS6, B0070W57L8, B0070W57L8, B004AHMCKA, B01EWU4BIU, B01EWU4BIU, B01EWU4BIU, B01EWU4BIU, B076BBJJX8, B00DL6UH6W, B00BQY073O, B00QV2P7BI, B001RCJDIU, B00DCP5LMW, B00DCP5LMW, B00J57OHWG, B074SJMWG3, B014LKNSYO, B00L1TX61O, B00L1TX61O, B0006IRTU0, B00CCIKII2, B00CCIKII2, B004MWJLHK, B004MWJLHK, B004MWJLHK, B00CJU0G6C, B01GZZ3LVS, B00TYM5QEA, B074SK2VB8, B00F5Y4VV0, B00SH4FSEO, B013ID7O8G, B013ID7O8G, B00PKBI47U, B00BQAJKQS, B00BQAJKQS, B00BQAJKQS, B0002HZPUG, B0002HZPUG, B015NHJT06, B00UXBWPOU, B00UXBWPOU, B01N4EM5ML, B076F16JC1, B076F16JC1, B076F16JC1, B00ET5A3WC, B00ET5A3WC, B00EGXSONM, B00EGXSONM, B0744VCQ2T, B01ELIGSGQ, B01ELIGSGQ, B06X1665TT, B00C1JVRRI, B00C1JVRRI, B00C1JVRRI,\n",
      "\n"
     ]
    },
    {
     "name": "stdout",
     "output_type": "stream",
     "text": [
      "Cluster 5 titles: B01DZXE8PG_6, B01DZXE8PG_7, B00OH9OMZY_8, B0052RMWF2_10, B00OH9OMUE_5, B01B6C1MVQ_7, B01N4PKL8O_3, B00J8DZ7AI_10, B072N6VMKV_1, B072N6VMKV_4, B072N6VMKV_6, B01N8PQGFE_9, B07576493W_4, B01CIQ11PQ_5, B01CIQ11PQ_6, B00RVZGVBE_3, B00RVZGVBE_4, B00RVZGVBE_9, B01KZS1IFW_7, B01KZS1IA2_1, B0083U8GP0_2, B01JLX2KWC_6, B01KXT8JV4_3, B01KXT8JV4_8, B01KXT8JV4_9, B008U8WZIY_1, B002QQ7JM8_5, B002BDU87Y_3, B002BDU87Y_6, B01608M29M_9, B00TT5LRC2_8, B01MUXWESB_2, B000XAUEXA_4, B01BE0JGE0_6, B073P51YBZ_4, B00EZP9X18_9, B0742J54R6_3, B01N3ZAK3K_2, B01N3ZAK3K_7, B06XT1KZKH_7, B01B1GV0PA_7, B019IGTH96_10, B01MR15IHO_1, B00561OC3E_6, B00T4UY6TI_3, B00T4UY6TI_4, B004MW55Z2_5, B004MW55Z2_9, B06X9PGZZS_2, B01J11QXZE_2, B01J11QXZE_9, B06VTD32J1_8, B06VTD32J1_9, B010DIE8PG_9, B01LQPA7HS_1, B0117SZ3IM_3, B0117SZ3IM_10, B072XP7VZS_8, B072XP7VZS_9, B01J41M9WC_6, B01J41M9WC_10, B01J41DNZE_3, B01J41DNZE_6, B06X6GKFM8_4, B00GY8S8MO_4, B01J41FG72_5, B01J41FG72_10, B0083F2XDQ_8, B06W2KC378_3, B01J41FFUA_4, B01J41HPQ2_2, B01MYRG38U_6, B01MYRG38U_7, B06WD3SGCC_8, B01J41LRF2_5, B00F3B2TVO_6, B00F3B2TVO_10, B00NVDOWUW_1, B00NVDOWUW_7, B06WGPSBW4_7, B06WGPSBW4_8, B06WGPSBW4_10, B01JA24SAG_10, B06X8ZR7DM_5, B06X8ZR7DM_7, B01J41JLEG_4, B01J41JLEG_6, B06W55DZCK_8, B01J41FSB6_4, B01J41FSB6_6, B06WGPS9V6_1, B00NVDOH2U_1, B00NVDOH2U_3, B00NVDOH2U_5, B01J41DVSS_10, B01J41LR20_2, B01J41LR20_8, B01J41LR20_9, B06WLL3SMJ_1, B06WLL3SMJ_5, B06WGPS9MY_10, B01J41JLTQ_5, B06W55DZ8K_2, B06W55DZ8K_3, B06W55DZ8K_6, B06W55DZ8K_9, B012NOGTVE_4, B012NOGTVE_8, B012NOGTVE_10, B01J41GQOE_10, B01J41DO0S_10, B01J41DVGU_1, B01J41DVGU_5, B01J41DVGU_9, B019F2SF14_6, B01J41DAUM_6, B01J41DNYK_7, B06WD3SJ8Z_3, B06VVPJ3B4_7, B01J41FUHS_5, B01J41DAQ6_3, B06WGPSD8P_3, B06WGPSD8P_7, B06VVH6313_9, B00HFPM3IK_1, B00HFPM3IK_3, B00HFPM3IK_4, B01J41KIIE_4, B06VVH3Z9K_5, B00EUJFYCG_9, B01J41GO2S_3, B01J41GO2S_10, B01J41JZX8_5, B06WVBM4L8_1, B06WVBM4L8_6, B01M4RZL27_9, B01J41EBFU_4, B0042HOU1W_2, B0042HOU1W_3, B01J41EBQ4_4, B01J41EBQ4_5, B01J41EBQ4_6, B000RPDPSC_2, B000RPDPSC_4, B014L3QKL4_5, B0013PU09W_2, B0013PU09W_4, B0013PU09W_8, B0033UX0QK_1, B0033UX0QK_5, B0033UX0QK_10, B01LX5NY95_3, B01LX5NY95_6, B00HRRD10A_3, B00HRRD10A_4, B00HRRD10A_5, B006LI5ZLY_8, B006LI5ZLY_9, B015CCR6UC_4, B01BM60SBG_9, B00403TP8Q_10, B00CXWC48O_3, B00CXWC48O_9, B00CXWC48O_10, B00TXI26S4_2, B06XSHF3V1_1, B06XSHF3V1_5, B00NBNV3OU_5, B00NBNV3OU_8, B015RSDMWM_8, B004CM29Y2_2, B004CM29Y2_7, B004CM29Y2_8, B01IT3VEH2_5, B01IT3VEH2_7, B01IT3VH9W_4, B01IT3VH9W_5, B00HRRCJUS_4, B00HRRCJUS_9, B000E5QZ8M_2, B002Y9ZGEA_2, B002Y9ZGEA_10, B000L70MQO_2, B000L70MQO_3, B000L70MQO_5, B0000658L4_8, B0000658L4_9, 095346993X_4, 095346993X_7, 095346993X_10, B016VZXJT6_9, B00026ZEDK_2, B00026ZEDK_6, B0090U47KA_2, B01C479Q7E_1, B01C479Q7E_8, B01M7R41N9_5, B01M7R41N9_9, B01IKOZ8EA_2, B003RRXZC8_1, B003RRXZC8_7, B003RRXZC8_10, B01IT3VEJA_3, B01IT3VEJA_9, B004VYYA2K_2, B004VYYA2K_4, B00Y8AS21W_1, B00Y8AS21W_5, B06XSQ8RP8_2, B06XSQ8RP8_4, B01J124SUU_7, B0043JF0SQ_7, B001Q7PXEO_1, B001Q7PXEO_6, B001Q7PXEO_8, B00NZ8GU4E_4, B01MRV4ET4_2, B005KJ4XUO_3, B0080MSGFQ_7, B00NWG3JC0_2, B01MQOC7TZ_5, B01MQOC7TZ_6, B00O2JUVRM_9, B0000BX8MA_7, B0000BX8MA_8, B0000BX8MA_9, B00XLHP1FS_2, B00XLHP1FS_3, B01H5QPIG2_4, B01H5QPIG2_7, B00Q8NEL1M_2, B00Q8NEL1M_7, B01CIGMNWQ_7, B00000IZKX_2, B00000IZKX_3, B00000IZKX_4, B00GSSMI1M_2, B000FCM0B0_8, B014V7G830_9, B017SRMTR4_8, B017SRMTR4_9, B00SWRBOQM_1, B01CXSZU8I_6, B01CXSZU8I_8, B009VIDP2C_7, B009VIDP2C_8, B003JSMW88_8, B002P7SEK4_9, B001G4MVN8_8, B001G4MVN8_9, B00CRZXUZI_4, B00CRZXUZI_10, B07219WZFC_6, B000H5V08E_1, B0006SK3WG_7, B0006SK3WG_8, B01AXP1S9I_2, B01DXULN9K_8, B01DXULN9K_9, B0007KK0V2_7, B00N4TRHVO_7, B00004TDLD_9, B00L2DZ4OG_8, B00008OS3W_9, B004R3RV6W_7, B004R3RV6W_8, B00EQ4JOBC_7, B001AXFDRQ_5, B001AXFDRQ_8, B001AXFDRQ_10, B007FJM7PK_6, B007FJM7PK_8, B06XZ3RQVN_4, B0015X4Y5S_6, B014TL44FM_1, B014TL44FM_8, B014TL44FM_10, B06XHJC5R6_2, B0077OIYXC_2, B01DC8Q2ZS_6, B01DC8Q2ZS_8, B01D9IDIQW_7, B01H5AD86K_4, B001UHO66Q_7, B001UHO66Q_8, B00B1Z6EPS_7, B00067U6R4_4, B01C765UTA_1, B01C765UTA_4, B01C765UTA_9, B00EUJFYCG_9, B000H6W53W_8, B016NFHJMW_1, B004X4WB2E_6, B00JM98ZNO_1, B00JM98ZNO_6, B00FA0Y5I8_9, B01MQGK0FU_8, B00OE6TQZQ_6, B0079FCBBK_10, B000088T2F_10, B00000IZKX_2, B00000IZKX_3, B00000IZKX_4, B01MY5QFYH_3, B01MY5QFYH_6, B01MY5QFYH_7, B0074HSHGQ_6, B002ZSSEG2_2, B00S6415TW_1, B00S6415TW_2, B0026ZPSS6_8, B0026ZPSS6_10, B004JQPXNU_10, B0007TXTL6_1, B0006G3B68_1, B0006G3B68_10, B000V0GZA8_4, B000V0GZA8_9, B073RPXNWH_1, B073RPXNWH_7, B00J1XDZIQ_1, B00J1XDZIQ_9, B01N4SEGJ9_6, B01N4SEGJ9_9, B0015XWTW8_2, B00HWHO7M6_7, B00HWHO7M6_9, B00000JD5S_3, B00000JD5S_6, B00HFR4GRY_8, B008IZHSLS_3, B008IZHSLS_7, B008IZHSLS_9, 1933054395_4, B01GJN6R62_7, B01GJN6R62_9, B01CXQSEOC_4, B00LGWRTS2_2, B00LGWRTS2_9, B00WOFBCHO_2, B00WOFBCHO_6, B00WOFBCHO_8, B000EB7AJO_8, B06XWRPQZD_2, B00000J0JF_7, B00HFJNHCM_5, B00HFJNHCM_8, B01K1MDHJC_8, B000EWC11U_7, B000EWC11U_10, B008DB7VSM_2, B008DB7VSM_8, B0009QXX4A_8, B013ORII9A_4, B013ORII9A_9, B075TT97NT_5, B002105R50_6, B01NH7MO6D_5, B0747NY7TP_6, B0747NY7TP_7, B00Y0YY03A_6, B06ZXV6RDC_5, B06ZXV6RDC_7, B0006NM9AK_3, B0006NM9AK_6, B00FS6TN6I_9, B01MZXOR7M_7, B01MZXOR7M_8, B01IW2XIK6_4, B01IW2XIK6_7, B06XSZJWSX_6, B06XSZJWSX_10, B004O0TOJA_8, B00HFR4FAW_1, B071VW7RKC_10, B01N0Z3QWO_10, B00HHBLZAE_4, B000WPD44W_4, B00HWHNNRG_3, B00HWHNNRG_5, B00HWHNNRG_7, B00QM4W042_9, B008IZHSEA_7, B008IZHSEA_8, B008IZHSEA_10, B06XPXQW6Z_1, B01AT47MLQ_4, B00CFV24TC_6, B00HFJNHOK_6, B00HFJNHOK_9, B00IVC1B16_3, B003PHQHUM_10, B00HFR4PFC_5, B00HFR4PFC_7, B075QHL7M2_9, B075QHL7M2_10, B00OYJ6IY0_1, B01MSFGJ38_7, B00MOI8756_4, B00MOI8756_10, B01IQX06K6_1, B01IQX06K6_5, B01IQX06K6_6, B01IQX06K6_9, B01IQX06K6_10, B005IX6ZOY_3, B00HWHNMUO_4, B00HWHNMUO_6, B00HWHNMUO_9, B072J28JYT_9, B0721Y71NB_1, B0721Y71NB_2, B01N4RMMGB_2, B01N4RMMGB_4, B01N4RMMGB_9, B01N9JXEHF_3, B0753C927N_9, B000EWC0NY_6, B071G85LSK_6, B071G85LSK_7, B006YMOCOS_6, B018NMU2FY_8, B00FYON14Y_3, B00FYON14Y_7, B00FYON14Y_10, B01MFGBS5K_10, B01BP6GPX8_10, B077P2BLVN_10, B004ISL30Q_7, B0002HZPUG_10, B01D2R64WK_4, B01D2R64WK_9, B01N4EM5ML_1, B01N4EM5ML_7, B004VPJBK0_2, B004VPJBK0_4, B01MS0D34S_3, B01MS0D34S_6, B01MS0D34S_9, B000FJ3FK8_5, B000FJ3FK8_9, B001HBJ5P2_5, B001HBJ5P2_8, B01N9480GG_7, B01N9480GG_8, B005FQTPMS_7, B003JGSIWY_8, B01NAGYZRQ_10, B005RROHPU_6, B005RROHPU_9, B005RROHPU_10, B009CSSG4I_4, B009CSSG4I_6, B009NFH6Y6_5, B01N4PKL8O_3, B01F6XNAVG_10, B0135X2GQE_7, B005KPLNFG_4, B005KPLNFG_7, B00TDP7R2W_9, B0718ZQD9V_1, B0718ZQD9V_2, B0718ZQD9V_8, B001BRVBH2_2, B01BP6GPV0_10, B076H1SYKW_1, B076H1SYKW_2, B076H1SYKW_5, B00008J1AV_1, B00008J1AV_2, B000LNC6SU_8, B01NCP46DK_1, B00BFSF66O_7, B00V0XKDL2_1, B00V0XKDL2_2, B00V0XKDL2_4, B009NFH54W_4, B009NFH54W_8, B00ABXVV3Q_2, B01608M29M_9, B0002CYUMA_2, B01N34ZSTJ_9, B002KCSNBO_4, B002KCSNBO_8, B00BMLVF6O_1, B00BMLVF6O_5, B00BMLVF6O_10, B004VPJBGY_2, B004VPJBGY_4, B074CFDWCF_1, B06XYJ6SRY_1, B06XYJ6SRY_6, B01MR15IHO_1, B00I4CEVZG_9, B004YATJ72_4, B004MW55Z2_5, B004MW55Z2_9, B001RZJK8A_4, B001RZJK8A_6, B001RZJK8A_8, B00VEMLOBC_5, B002V841QI_5, B0085JRADS_6, B0085JRADS_8, B0085JRADS_9, B0085JRADS_10, B010NXYQMG_1, B075XJQQQB_10, B014M0S1EK_1, B015X471AY_8, B015X471AY_10, B0721KV9ZQ_1, B0721KV9ZQ_2, B06X9Q5T2N_10, B00E9QMIME_2, B00E9QMIME_10, B0002GTIXW_5, B000284ZNI_2, B0723HN2QW_9, B011CCMOTE_4, B011CCMOTE_8, B009M5K0O0_7, B074492T3G_1, B074492T3G_9, B001ENV4JS_1, B001ENV4JS_3, B001ENV4JS_4, B001ENV4JS_5, B000WNZ1SQ_2, B000WNZ1SQ_5, B00C2RC8FE_10, B074GTSKQ3_6, B019F4JLRO_5, B019F4JLRO_8, B00CDQVJ2W_4, B00WNC1A9I_10, B012705WK8_5, B012705WK8_7, B06ZZ6PSFM_10, B00K6D4UHA_7, B00EWJYOG6_1, B0728HMWGC_4, B0728HMWGC_7, B018S367L6_7, B00005OB9I_3, B00005OB9I_4, B00005OB9I_7, B00005OB9I_10, B00RY3C5BI_1, B071WJX1N7_6, B01DSX8XS6_10, B001W30D2O_10, B00R7Q2RVK_1, B071SF5W39_2, B01MFCMO1M_8, B01MFCMO1M_10, B00SWUTUOM_3, B00SWUTUOM_5, B07516GZ2L_4, B00CDQVEPY_4, B01NBWUAFD_1, B01NBWUAFD_3, B01BPUNVS6_1, B01BPUNVS6_3, B01BPUNVS6_4, B00CIU4T2K_7, B00CIU4T2K_8, B00DQN034Q_3, B00DQN034Q_5, B010DJXDII_2, B00HUMNWN8_8, B00HUMNWN8_10, B0721B946K_4, B0721SWLM3_10, B00Y17BDTA_1, B004T1MCDO_10, B018XNPA0A_1, B018XNPA0A_7, B00TV402ZE_10, B072FP7D1B_2, B072FP7D1B_8, B01MPWBRYI_1, B00YHDSB1G_3, B01M0YC7J8_8, B004T1MDZ6_4, B004T1MDZ6_6, B01N7K9PQ4_4, B00WNC0K80_2, B01GFZT3QK_10, B01M3TUX8K_9, B01M3TUX8K_10, B01N07TS8M_3, B01ICSE08Y_1, B06Y479HS9_2, B0727VNM6G_3, B0727VNM6G_4, B01608LKP4_3, B01HGTMPHS_3, B01LTHZP16_4, B01LTHZP16_5, B01LTHZP16_8, B01NCJX1GR_9, B000JXKWYC_8, B009T1UB14_9, B01HVA4DPE_7, B01HVA4DPE_8, B01HVA4DPE_9, B00F3B2TVO_6, B00F3B2TVO_10, B00S640FGQ_1, B072Q6TZC5, B072Q6TZC5, B01F93H43I, B00LHNR282, B01LYFTXRS, B01LYFTXRS, B06XNJ6RFT, B06XNJ6RFT, B01LZ4HSYB, B00O4E27MC, B00O4E27MC, B00O4E27MC, B071ZSY96K, B071ZSY96K, B01LX4ZC9H, B01CNSO54I, B01M5K3XLA, B01M5K3XLA, B0052KHQ8M, B073BFVH9Q, B00160C8NK, B00160C8NK, B00FJR0FOK, B0001MEGSY, B0001MEGSY, B071FTWXB2, B01MQR0SJA, B01MQR0SJA, B01MQR0SJA, B01EKBD0DI, B01HXND5XK, B01HXND5XK, B01HXND5XK, B01MRE5KS2, B01MG9A7IP, B01608LE1Y, B01LYRIWYZ, B06XBBBYJN, B0188R0MMC, B012NOF6G8, B012NOF6G8, B012NOF6G8, B00NLHWELM, B019JIACIS, B00TQ6RORQ, B01EV5FFOA, B00VLV48V4, B071HNQ8Q4, B01608LQE4, B0725XHLK7, B0725XHLK7, B00QFFIYAW, B00QFFIYAW, B06X9362NJ, B00CYDSHK6, B00CYDSHK6, B000NIJ5SM, B000NIJ5SM, B000NIJ5SM, B01N6WV6ZM, B00TLRSPGY, B00TLRSPGY, B018J7JK56, B00294DSG8, B073P4YYX4, B00SUZX55O, B00SUZX55O, B0002HYYDU, B0002HYYDU, B0002HYYDU, B073X3422S, B01F0OB6T4, B00FAT4NUY, B00VC3R98U, B00VC3R98U, B00VC3R98U, B004KPKW6S, B01H07E0W4, B01H07E0W4, B06W52XW1X, B0002HYYGM, B01MT0SL03, B01M653JYG, B01M653JYG, B076NDYCPD, B076NDYCPD, B00ZD5FA1G, B01D8NRYOK, B01D8NRYOK, B00J6767GY, B00J6767GY, B000ET7F8C, B000ET7F8C, B000TNJHJ8, B000TNJHJ8, B004RON2A0, B00067U818, B00067U818, B00067U818, B01N63IITS, B002CZPR2W, B075XHVBLF, B007R4829I, B01N4061WW, B01AVADUIM, B01AVADUIM, B01AVADUIM, B002R5J2C8, B002R5J2C8, B002UXO4J8, B00763PNBK, B01BM616BM, B01M3RCB80, B01M3RCB80, B01BF6F20K, B01BF6F20K, B00M2L6BPI, B004ALKLR2, B00O07LZ5I, B00C9Q2P56, B00471DPA0, B00471DPA0, B0074HSHGQ, B01IN45ENC, B00OZEXM70, B018SS3WNC, B00068Q7LC, B000LSZVKA, B000LSZVKA, B0007A5HL0, B00IFWP73U, B00VWL3NHI, B01LNWSEQU, B004560BPY, B01L7KXPQC, B00005OB9I, B00005OB9I, B00005OB9I, B00005OB9I, B0073BW27I, B0073BW27I, B0073BW27I, B01LZ4HSYB, B06XSKKM3L, B00272N8E4, B076B3KR9Q, B076B3KR9Q, B074STYG8F, B00GNAP830, B00GNAP830, B01CNSO54I, B001W30D2O, B01C49MHB4, B00E3PTHDE, B076B2K6JK, B076B2K6JK, B008CDR7LW, B00QTXYO4U, B011IBSIJY, B007FJM7PK, B007FJM7PK, B000067PWG, B01CMSESVO, B01N0NU68I, B004KPKW8G, B004X0WBHS, B004X0WBHS, B004X0WBHS, B016QBOY1M, B016QBOY1M, B016QBOY1M, B01HXND5XK, B01HXND5XK, B01HXND5XK, B00IB34HMA, B00RCXU602, B00RCXU602, B00RCXU602, B00RCXU602, B0070W57L8, B004AHMCKA, B01EWU4BIU, B076BBJJX8, B076BBJJX8, B01E93LC96, B00HAZFWAQ, B00HAZFWAQ, B0007D7O22, B00DCP5LMW, B00J57OHWG, B014LKNSYO, B0006IRTU0, B00CCIKII2, B00CJU0G6C, B00TYM5QEA, B074SK2VB8, B074SK2VB8, B00F5Y4VV0, B00SH4FSEO, B00WNC13EA, B0049ESPU0, B00BQAJKQS, B00BQAJKQS, B01KZS1IHK, B0002HZPUG, B01MFG934M, B01MFG934M, B00UXBWPOU, B01N4EM5ML, B01N4EM5ML, B00ET5A3WC, B00EGXSONM, B002QQ7JLY, B002QQ7JLY, B002QQ7JLY, B002QQ7JLY, B002QQ7JLY, B002QQ7JLY, B01ELIGSGQ, B01ELIGSGQ, B06X1665TT, B06X1665TT, B00C1JVRRI, B00C1JVRRI, B00C1JZZZ8, B01HQ9EQ1G, B01HQ9EQ1G, B01HQ9EQ1G,\n",
      "\n",
      "Cluster 6 titles: B01DZXE8PG_2, B00OH9OMW2_3, B00OH9OMW2_4, B00OH9OMW2_6, B00OH9OMW2_8, B00OH9OMW2_10, B01KZS1IEI_10, B00OH9OMZY_1, B00OH9OMZY_3, B00OH9OMZY_4, B01MXXC58P_2, B01MXXC58P_3, B00BVIHWKQ_1, B00OH9OMUE_1, B00OH9OMUE_3, B00OH9OMUE_8, B01B6C1MVQ_10, B006ZKXGL4_1, B006ZKXGL4_9, B01ND3Y02K_4, B072N6VMKV_2, B01N8PQGFE_1, B01N8PQGFE_2, B01N8PQGFE_4, B07576493W_9, B006ZKXHFE_4, B006ZKXHFE_10, B01CIQ11PQ_8, B01KZS1IFW_4, B01KZS1IA2_7, B01KZS1IA2_8, B0083U8GP0_1, B076B42HXR_7, B01KXT8JV4_6, B008U8WZIY_6, B01CSAR4F8_8, B01CSAR4F8_10, B00F961WJI_2, B00F961WJI_5, B00F961WJI_9, B002BDU87Y_4, B002BDU87Y_5, B01608M29M_6, B01608M29M_7, B01DVEI0WQ_8, B0009Y4FSK_4, B00TT5LRC2_5, B01MUXWESB_4, B01MUXWESB_10, B01BE0JGE0_2, B01BE0JGE0_5, B01BE0JGE0_10, B00JPJQASS_6, B01F49BULE_1, B01F49BULE_5, B01N3ZAK3K_3, B0080EWI5S_2, B0080EWI5S_4, B0080EWI5S_7, B0080EWI5S_8, B0080EWI5S_10, B01B1GV0PA_4, B01B1GV0PA_9, B019IGTH96_8, B00KVHW9H4_8, B00KVHW9H4_9, B01MR15IHO_6, B00T4UY6TI_8, B00T6GT622_10, B010DIE8PG_2, B01LQPA7HS_6, B01LQPA7HS_10, B072XP7VZS_7, B06X6GKFM8_3, B01J41LQTE_4, B01J41LQTE_8, B01J41LU5E_4, B01J41LU5E_8, B01LX9672R_9, B01J41D4IU_8, B01G5RI0KS_3, B01G5RI0KS_9, B01J41FFUA_5, B01J41FFUA_7, B01J41DNWM_5, B01MYRG38U_8, B01MYRG38U_10, B01J41LRF2_9, B00F3B2TVO_1, B00F3B2TVO_7, B01J41D4IA_9, B06WGPSBW4_3, B06WGPSBW4_9, B013GY8TH2_9, B013GY8TH2_10, B01JA24SAG_4, B01JA24SAG_5, B01JA24SAG_6, B01J41JLEG_7, B01J41JLEG_10, B06W55DZCK_2, B06W55DZCK_3, B06W55DZCK_9, B06W2KC1QQ_1, B06W2KC1QQ_9, B06W2KC47K_4, B013GY7GQ2_8, B01J41GOZU_9, B01J41DVSS_7, B01J41DVSS_9, B01J41LR20_6, B01J41MPF8_2, B06WD3SGC2_4, B00PY3EYQO_4, B06WGPS9MY_8, B01J41JLTQ_6, B01J41JLTQ_10, B06WGPSBPB_4, B06WGPSBPB_8, B012NOGTVE_5, B06WGPS94M_8, B01J41DO0S_7, B01J41FI8E_2, B01J41FI8E_3, B01J41FI8E_4, B01J41DVGU_2, B019F2SF14_1, B01J41DAUM_10, B01J41G4E6_5, B01J41G4E6_7, B01J41G4E6_8, B01J41DNYK_6, B01J41DHSC_7, B01J41D570_5, B01J41D570_8, B01J41FUHS_7, B01J41FUHS_10, B01J41DAQ6_8, B06WLL3M8Y_5, B06WLL3M8Y_6, B06WGPSD8P_1, B06WGPSD8P_4, B06WGPSD8P_6, B06WGPSD8P_8, B01GG2Z8CA_5, B01J41DHFA_3, B01J41DHFA_4, B01J41HRZQ_10, B01J41KIIE_8, B01J41KIIE_9, B06VVH3Z9K_6, B06Y4BC95L_9, B01J41K0HS_6, B00DSNQ35W_10, B06WVBM4L8_3, B01J41DHWI_3, B01J41G4SC_10, B06W2KC4T2_9, B01J41EBFU_2, B01J41EBFU_5, B01J41EBFU_9, B06WRRJ5Z6_4, B06WRRJ5Z6_5, B06WRRJ5Z6_9, B01J41G4Z0_8, B01J41EBQ4_3, B06VV73LFR_2, B000RPDPSC_5, B000RPDPSC_10, B014L3QKL4_6, B014L3QKL4_7, B000RPC4IY_7, B000RPC4IY_10, B0013PU09W_6, B0033UX0QK_6, B0033UX0QK_9, B00G7KM4ZG_5, B00G7KM4ZG_6, B00HRRD10A_2, B00HRRD10A_8, B01BM60SBG_4, B002LJGM4Q_4, B002LJGM4Q_6, B00403TP8Q_6, B00403TP8Q_7, B00403TP8Q_9, B01ARGBPBO_6, B019B9SXH2_5, B00TXI26S4_6, B06X9SFWNT_2, B06XSHF3V1_7, B06XSHF3V1_9, B01IT3VEH2_3, B01IT3VEH2_8, B015CCR1FW_5, B01IT3VH9W_7, B01IT3VH9W_9, B00HRRE3UM_10, B00HRRCJUS_7, B000E5QZ8M_7, B000E5QZ8M_8, B001B6ODSW_7, B0104BL1Y8_10, B001GMQZ14_10, B01D9KNCNE_2, B01D9KNCNE_3, B01H5QPIJE_5, B00026ZEDK_7, B01IT3VEQ8_3, B01IT3VEQ8_5, B01IT3VEQ8_7, B01IT3VEQ8_8, B06Y3N2VC4_6, B06Y3N2VC4_9, B001DRA7HA_7, B0037LL0U8_10, B01IKOZ8EA_8, B003RRXZC8_5, B06W2LB1L7_4, B004VYYA2K_5, B00165X2B2_9, B01J124SUU_2, B01J124SUU_10, B00HRRD8US_7, B00NZ8GU4E_8, B0080MSGFQ_1, B0104BKFU4_2, B01MQOC7TZ_1, B01MQOC7TZ_2, B01MQOC7TZ_3, B00O2JUVRM_4, B0000BX8MA_6, B01IT3VHAG_9, B01H5QPIG2_1, B072MGVV73_10, B009386Q9O_6, B01EAANJTE_5, B01EAANJTE_7, B01EAANJTE_8, B01CIGMNWQ_10, B00000IZKX_5, B000FCM0B0_7, B00SWRBOQM_8, B01CXSZU8I_1, B01CXSZU8I_7, B0015XJUV6_9, B0015XJUV6_10, B009VIDP2C_1, B009VIDP2C_6, B01N6U9TS6_3, B01N6U9TS6_4, B01BXAISS6_4, B06XRGR78J_4, B005XVIY9A_3, B00CRZXUZI_3, B000I8T8V6_6, B0079FCB8I_9, B0079FCB8I_10, B00JM94NGM_9, B01HBFUA4W_8, B01HBFUA4W_10, B0006SK3WG_4, B0006SK3WG_5, B0006SK3WG_9, B01DXULN9K_5, B004S6QWHW_3, B004S6QWHW_10, B0007KK0V2_8, B004P5PTZ2_10, B00L2DZ4OG_6, B00008OS3W_8, B00GNJRR76_8, B004R3RV6W_10, B002OHCYZQ_3, B002OHCYZQ_10, B004S6QWEK_8, B004OBZRR2_10, B00JSLSYXW_1, B00JSLSYXW_3, B001AXFDRQ_7, B00IF97V1Y_4, B00ZTL4YCA_6, B06XZ3RQVN_8, B00006L99R_7, B0015QQZJS_4, B0015QQZJS_9, B014TL44FM_3, B06XHJC5R6_6, B00CWB0KLE_3, B01DC8Q2ZS_9, B0007TXTIO_10, B00F4VFJRO_3, B00F4VFJRO_5, B000795N4W_1, B000795N4W_4, B00B1Z6EPS_5, B00B1Z6EPS_8, B00000ISC5_6, B00U3G9Q9W_9, B000H6W53W_5, B00DSNQ35W_10, B01DXULLCE_2, B01DXULLCE_7, B00CP6A836_1, B00CP6A836_3, B00CP6A836_10, B0006HBERA_9, B00JM98ZNO_2, B00JM98ZNO_4, B00FA0Y5I8_8, B00JLHVX36_9, B0077OIZ04_1, B0079FCBBK_2, B00XCK9LNC_10, B00000IZKX_5, B0074HSHGQ_10, B06W2H5DF8_4, B0007TXTL6_2, B0031J8Q4E_8, B000V0GZA8_5, B000V0GZA8_8, B073RPXNWH_4, B073RPXNWH_9, B00J1XDZIQ_6, B00J1XDZIQ_10, B0026ZPTYY_2, B01N4SEGJ9_5, B01N4SEGJ9_7, B00HWHO7M6_3, B00000JD5S_2, B00VFLTZ4A_10, B01GPSA2RG_8, B01GPSA2RG_10, B01GJN6R62_3, B01GJN6R62_5, B01GJN6R62_6, B01CXQSEOC_6, B003MSYGWA_8, B00LGWRTS2_3, B06W2H5RYP_8, B00WOFBCHO_9, B000EB7AJO_10, B06XWRPQZD_1, B06XWRPQZD_3, B00000J0JF_8, B00HFJNHCM_9, B014SVVLDQ_7, B01K1MDHJC_2, B01K1MDHJC_3, B01K1MDHJC_10, B073PW186C_2, B073PW186C_3, B0009QXX4A_10, B019XMRQPM_6, B018FPKN4Y_9, B0006NM9AK_7, B06WLHXMDM_4, B06WLHXMDM_5, B00FS6TN6I_3, B00FS6TN6I_8, B00005N5P6_7, B00005N5P6_10, B01IW2XIK6_3, B01IW2XIK6_8, B00HFR4FAW_2, B00HFR4FAW_9, B071VW7RKC_9, B01N0Z3QWO_6, B00HHBLZAE_6, B00HHBLZAE_9, B0007TXTIO_10, B000WPD44W_3, B000WPD44W_8, B000WPD44W_10, B00HWHNNRG_6, B00HWHNNRG_9, B01MQYCBU4_3, B00QM4W042_4, B003PHQHUM_4, B00HFR4PFC_10, B009IR0P0G_6, B01MRLKIEK_3, B00000DMER_8, B00MOI8756_5, B00HWHNMUO_2, B072J28JYT_3, B0721Y71NB_4, B01N9JXEHF_8, B01N9JXEHF_9, B00146K0I6_6, B00146K0I6_8, B001NQHN7S_10, B006YMOCOS_1, B018NMU2FY_9, B018NMU2FY_10, B00FYON14Y_2, B077P2BLVN_3, B077P2BLVN_4, B077P2BLVN_5, B004ISL30Q_4, B004ISL30Q_6, B01N4EM5ML_2, B005XVIY9A_3, B000FJ3FK8_4, B00OH9OMW2_3, B00OH9OMW2_4, B00OH9OMW2_6, B00OH9OMW2_8, B00OH9OMW2_10, B01D4GA4AM_2, B01N9480GG_1, B005FQTPMS_1, B01NAGYZRQ_5, B01NAGYZRQ_7, B01NAGYZRQ_9, B0079FCB8I_9, B0079FCB8I_10, B076M2486L_6, B076M2486L_7, B009CSSG4I_5, B006ZKXGL4_1, B006ZKXGL4_9, B075CG95NL_6, B00009B1SF_9, B01F6XNAVG_4, B01F6XNAVG_5, B01F6XNAVG_8, B005KPLNFG_6, B00ETMVUMC_3, B00TDP7R2W_10, B006ZKXHFE_4, B006ZKXHFE_10, B002CZPR0Y_2, B002CZPR0Y_7, B01BP6GPV0_5, B076H1SYKW_10, B01NCP46DK_9, B00V0XKDL2_7, B00ABXVV3Q_1, B00ABXVV3Q_8, B01608M29M_6, B01608M29M_7, B0002CYUMA_5, B0002CYUMA_9, B006FT065O_7, B00BSN1CAU_9, B00VEMLNU4_10, B01N34ZSTJ_1, B01N34ZSTJ_3, B00BMLVF6O_8, B074CFDWCF_9, B01GPOL4UO_8, B01CK2UFR8_5, B01CK2UFR8_8, B009AS5VW0_8, B06XYJ6SRY_2, B06XYJ6SRY_4, B01MR15IHO_6, B076CLFGPP_1, B00MUMZM90_1, B00MUMZM90_8, B06ZYCX58J_7, B06ZYCX58J_10, B014LKSFJ2_8, B014LKSFJ2_9, B014LKSFJ2_10, B06X9Q5T2N_5, B0002GTIXW_4, B000284ZNI_1, B0723HN2QW_3, B011CCMOTE_9, B018S366RQ_7, B018S366RQ_9, B018S366RQ_10, B00SCF10DG_8, B074492T3G_3, B074J57L4L_1, B074J57L4L_9, B074J5S67L_1, B074J5S67L_9, B00C2RC8FE_6, B00C2RC8FE_7, B074GTSKQ3_3, B074GTSKQ3_4, B01GVGIJT0_10, B004QB4VRW_6, B071G8QNLR_2, B019F4JLRO_6, B019F4JLRO_10, B00CDQVJ2W_8, B00WNC1A9I_2, B00WNC1A9I_9, B01LZNNV62_7, B01CTVWFHI_4, B00C65YDGE_6, B00K6D4UHA_4, B00EWJYOG6_3, B00EWJYOG6_5, B00EWJYOG6_6, B0719QH4CM_7, B0719QH4CM_10, B0728HMWGC_6, B018S367L6_4, B018S367L6_8, B00005OB9I_1, B00005OB9I_6, B00005OB9I_8, B00005OB9I_9, B00RY3C5BI_3, B00RY3C5BI_4, B00RY3C5BI_5, B00RY3C5BI_8, B071WJX1N7_7, B071WJX1N7_8, B016XRTTAA_2, B016XRTTAA_6, B01DSX8XS6_3, B01DSX8XS6_6, B001W30D2O_1, B001W30D2O_7, B00R7Q2RVK_7, B00XSPEW2G_1, B00XSPEW2G_2, B00XSPEW2G_4, B00XSPEW2G_6, B00XSPEW2G_10, B00RY3C6MQ_8, B01MFCMO1M_5, B00SWUTUOM_1, B07516GZ2L_10, B00CDQVEPY_3, B072F6DZMC_6, B01KNBCDLE_1, B01KNBCDLE_4, B01KNBCDLE_5, B01KNBCDLE_10, B003YC2VPS_6, B003YC2VPS_10, B01NBWUAFD_4, B01NBWUAFD_5, B01NBWUAFD_6, B01NBWUAFD_10, B01BPUNVS6_5, B01BPUNVS6_6, B00CIU4T2K_4, B00CIU4T2K_10, B00YHDSAZS_3, B00YHDSAZS_6, B00SYIPS70_1, B00SYIPS70_9, B00DQN034Q_6, B010DJXDII_4, B010DJXDII_5, B010DJXDII_6, B010DJXDII_7, B010DJXDII_10, B01DSX8XYU_4, B01DSX8XYU_5, B01DSX8XYU_10, B004T1M4EG_1, B004T1M4EG_2, B004T1M4EG_6, B004T1M4EG_10, B0721B946K_6, B0721B946K_7, B004TMOXSK_6, B004TMOXSK_9, B004TMOXSK_10, B0721SWLM3_4, B0721SWLM3_8, B071FGLFQN_7, B071FGLFQN_10, B004T1MCDO_3, B004T1MCDO_8, B018XNPA0A_9, B00F657TXA_6, B06XHKNVX9_6, B06XHKNVX9_10, B072FP7D1B_6, B074M3F7WY_5, B074M3F7WY_8, B01MPWBRYI_4, B01MPWBRYI_9, B00YHDSB1G_5, B00YHDSB1G_6, B00YHDSB1G_7, B00YHDSB1G_8, B00YHDSB1G_9, B00YHDSB1G_10, B00R7Q2RRO_3, B00R7Q2RRO_5, B00R7Q2RRO_8, B01M0YC7J8_10, B004T1MDZ6_5, B004T1MDZ6_7, B004T1MDZ6_10, B01BU9WWYG_2, B018S367KW_5, B018S367KW_7, B018S367KW_8, B018S367KW_9, B0712191GF_5, B0712191GF_6, B01N7K9PQ4_7, B01N7K9PQ4_10, B00WNC0K80_5, B00WNC0K80_7, B00WNC0K80_8, B00C20M07C_4, B01GFZT3QK_1, B072ZB89LR_1, B072ZB89LR_4, B002Q4M5PQ_2, B002Q4M5PQ_3, B002Q4M5PQ_9, B01N07TS8M_4, B01N07TS8M_9, B01N07TS8M_10, B001ENZ43K_6, B001ENZ43K_7, B01ICSE08Y_3, B01ICSE08Y_9, B0727VNM6G_6, B0727VNM6G_7, B01608LKP4_4, B01608LKP4_9, B019DQFZJM_10, B01HGTMPHS_5, B01NAKL8NE_2, B01MUQHG4W_9, B00HRRC4I0_3, B00HRRC4I0_7, B010BT1UR6_4, B01LTHZP16_7, B06WLNL3WT_7, B06WLNL3WT_10, B004KPKWKY_9, B004KPKWKY_10, B01NCJX1GR_7, B000JXKWYC_3, B0014VIX3A_5, B00IF1VVFO_5, B00IF1VVFO_6, B01M7YNDXI_7, B06WV7KBTQ_3, B06WV7KBTQ_5, B01EV5EZZU_1, B01EV5EZZU_5, B01EV5EZZU_6, B06XPHB8GS_6, B06XPHB8GS_10, B01HVA4DPE_2, B00F3B2TVO_1, B00F3B2TVO_7, B00S640FGQ_6, B00S640FGQ_8, B00S640FGQ_10, B005XVIY9A, B072Q6TZC5, B013GY8TH2, B013GY8TH2, B01EKFF2KS, B06XNJ6RFT, B06XNJ6RFT, B01LZ4HSYB, B01LZ4HSYB, B00O4E27MC, B071ZSY96K, B071ZSY96K, B071ZSY96K, B01LX4ZC9H, B013GY7GQ2, B01CNSO54I, B00N1EJXUU, B01AWGZXNA, B01M5K3XLA, B01M5K3XLA, B00J1XE7CO, B00J1XE7CO, 6040489650, 6040489650, 6040489650, B00HRRAFS6, B00HRRAFS6, B01MZITZZJ, B01MZITZZJ, B01MZITZZJ, B075MB3BD2, B0001MEGSY, B01BSXWY38, B01BSXWY38, B071FTWXB2, B01MQR0SJA, B01MQR0SJA, B01MQR0SJA, B01EKBD0DI, B00O4E4040, B00O4E4040, B00W62P65E, B00W62P65E, B00W62P65E, B00W62P65E, B01HXND5XK, B01HXND5XK, B01HXND5XK, B01HXND5XK, B01MG9A7IP, B01MG9A7IP, B01MG9A7IP, B01LYRIWYZ, B01LYRIWYZ, B01LYRIWYZ, B06XBBBYJN, B06XBBBYJN, B00NLHWELM, B00NLHWELM, B019JIACIS, B00TQ6RORQ, B00TQ6RORQ, B01EV5FFOA, B01608M48G, B01608M48G, B01608M48G, B01608M48G, B06X6BS21T, B06X6BS21T, B06X6BS21T, B00VLV5SB8, B01N0S8YOG, B00VLV48V4, B00VLV48V4, B00VLV48V4, B071HNQ8Q4, B06WV7KCDK, B01608LQE4, B01608LQE4, B01608LQE4, B071RLJ6G5, B071RLJ6G5, B0725XHLK7, B0725XHLK7, B0725XHLK7, B01AWGZXHQ, B0725QQCKC, B0725QQCKC, B00VLV6M6S, B00QFFIYAW, B00QFFIYAW, B00QFFIYAW, B00GRWLZV8, B00GRWLZV8, B06X9362NJ, B00CYDSHK6, B01N6WV6ZM, B06X9QRJLS, B0015XJUV6, B0015XJUV6, B01NAKXFJQ, B018J7JK56, B075TDGD3R, B075TDGD3R, B002CZPR40, B01F0OB6T4, B01F0OB6T4, B00FAT4NUY, B00FAT4NUY, B004KPKW6S, B01H07E0W4, B01H07E0W4, B06W52XW1X, B00JM94NGM, B00TPJ4KBM, B0002HYYGM, B01MT0SL03, B01MT0SL03, B01M653JYG, B01M653JYG, B01DCLUG16, B00TYHJ56U, B00IT2JUTS, B00IT2JUTS, B019PA4NL2, B019PA4NL2, B01DLWEFWM, B002CZPR0Y, B002CZPR0Y, B076NDYCPD, B06W9HKT1D, B00YCID48G, B00JSLSYXW, B00JSLSYXW, B00X9ZPZFI, B00X9ZPZFI, B00J6767GY, B0037LL0U8, B000ET7F8C, B06XXQNJ36, B004RON2A0, B004RON2A0, B00067U818, B00067U818, B00067U818, B01N63IITS, B007ZPWIQC, B007ZPWIQC, B002CZPR2W, B007R4829I, B007R4829I, B01N4061WW, B01N4061WW, B01M5E2M2N, B01ASIFRWE, B01ASIFRWE, B01ASIFRWE, B06XY2HZNG, B06XY2HZNG, B06XY2HZNG, B00763PNBK, B00763PNBK, B00BG417HY, B072MK7BX3, B072MK7BX3, B01CI31RYO, B01CI31RYO, B01CI31RYO, B01BF6F20K, B00M2L6BPI, B00M2L6BPI, B00USQ81IY, B00USQ81IY, B00USQ81IY, B00O07LZ5I, B019K8L3IK, B019K8L3IK, B00C9Q2P56, B00471DPA0, B0074HSHGQ, B00OZEXM70, B00005RF5G, B012BP34TU, B000LSZVKA, B0007A5HL0, B0007A5HL0, B00IFWP73U, B00IFWP73U, B00IFWP73U, B0054O9UIA, B0054O9UIA, B071K8H6R4, B00VWL3NHI, B01LNWSEQU, B01LNWSEQU, B00OZEWATQ, B00OZEWATQ, B004560BPY, B01L7KXPQC, B01L7KXPQC, B06XT2YDVM, B06XT2YDVM, B00804BCK0, B01GZZ3MSU, B01GZZ3MSU, B01GZZ3MSU, B01GZZ3MSU, B06XJ6G82D, B00005OB9I, B00005OB9I, B00005OB9I, B00005OB9I, B0073BW27I, B0073BW27I, B01LZ4HSYB, B01LZ4HSYB, B06XSKKM3L, B06XSKKM3L, B001P3SJG8, B000CEM6WY, B01N074ELB, B01N074ELB, B01N074ELB, B01N074ELB, B074STYG8F, B01CNSO54I, B001W30D2O, B001W30D2O, B01C49MHB4, B01C49MHB4, B01C49MHB4, B00E3PTHDE, B00E3PTHDE, B00FA2W28G, B0765W3JRZ, B00QTXYO4U, B00QTXYO4U, B00QTXYO4U, B00GNAP5T2, B00GNAP5T2, B00GNAP5T2, B00GNAP5T2, B01BSJWIVK, B01BSJWIVK, B01BSNY3BO, B011IBSIJY, B011IBSIJY, B011IBSIJY, B017GX32MQ, B072C36NSW, B072C36NSW, B000BB56B6, B01NBC5MWD, B01NBC5MWD, B01CMSESVO, B00K5PJMYA, B01N0NU68I, B004KPKW8G, B004X0WBHS, B016QBOY1M, B01HXND5XK, B01HXND5XK, B01HXND5XK, B01HXND5XK, B00RCXU602, B00RCXU602, B00RCXU602, B00RCXU602, B01LOG9FS6, B01EWU4BIU, B01EWU4BIU, B01EWU4BIU, B00DL6UH6W, B00DL6UH6W, B00QV2P7BI, B00QV2P7BI, B01E93LC96, B01E93LC96, B002NWJ1LW, B0007D7O22, B001RCJDIU, B00DCP5LMW, B00J57OHWG, B00J57OHWG, B00J57OHWG, B074SJMWG3, B014LKNSYO, B00L1TX61O, B00L1TX61O, B00L1TX61O, B004MWJLHK, B01EJA4DLI, B01EJA4DLI, B00CJU0G6C, B074SK2VB8, B00OZEXLPS, B00OZEXLPS, B00OZEXLPS, B00F5Y4VV0, B00F5Y4VV0, B00F5Y4VV0, B00F5Y4VV0, B0049ESPU0, B0049ESPU0, B001NQHN7S, B013ID7O8G, B013ID7O8G, B013ID7O8G, B00PKBI47U, B01KZS1IHK, B00UXBWPOU, B01N4EM5ML, B076F16JC1, B076F16JC1, B00EGXSONM, B00EGXSONM, B0744VCQ2T, B008MJGHH6, B00C1JVRRI, B00C1JVRRI, B00C1JZZZ8, B01HQ9EQ1G,\n",
      "\n"
     ]
    },
    {
     "name": "stdout",
     "output_type": "stream",
     "text": [
      "Cluster 7 titles: B00OH9OMW2_9, B01KZS1IEI_2, B00OH9OMZY_6, B00OH9OMUE_2, B01ND3Y02K_9, B005OYGNLW_3, B011R2RFX4_4, B0083U8GP0_9, B01KXT8JV4_4, B01CSAR4F8_5, B01608M29M_5, B000XAUEXA_10, B00EZP9X18_2, B00EZP9X18_7, B06XT1KZKH_1, B00KVHW9H4_3, B004MW55Z2_3, B00T6GT622_7, B06X9PGZZS_1, B06VTD32J1_4, B01LQPA7HS_3, B01J41DNZE_9, B06X6GKFM8_10, B01J41DNUY_2, B01J41DNUY_4, B01J41LQTE_3, B01J41LU5E_3, B01LX9672R_5, B01J41D4IU_2, B01J41D4IU_5, B01J41D4IU_7, B01J41FFUA_2, B01J41FFUA_10, B01J41HPQ2_1, B01J41HPQ2_7, B01J41FSKW_1, B01J41FSKW_4, B01J41FSKW_8, B01J41DNWM_10, B01MYRG38U_5, B00F3B2TVO_8, B01J41D4IA_3, B00NVDOWUW_5, B01JA24SAG_3, B06W55DZCK_1, B01J41GOZU_8, B01J41DVSS_3, B01J41DVSS_6, B01J41MPF8_4, B01J41MPF8_8, B00PY3EYQO_5, B00PY3EYQO_8, B06WGPS9MY_5, B06WGPSBPB_5, B06WGPSBPB_6, B06WGPSBPB_10, B012NOGTVE_9, B06WGPS94M_6, B01J41DO0S_2, B06WLL3TQY_5, B01J41DAUM_1, B01J41DNYK_5, B01J41DNYK_10, B01J41DHSC_5, B01J41DHSC_6, B06VVPJ3B4_1, B01J41D570_1, B01J41D570_3, B01J41DAQ6_2, B01J41DAQ6_6, B06WLL3M8Y_1, B06WLL3M8Y_7, B06WLL3M8Y_8, B01GG2Z8CA_2, B06VVH6313_6, B01J41KIIE_6, B01J41KIIE_10, B01J41D5D4_6, B01J41D5D4_8, B06Y4BC95L_10, B00EUJFYCG_2, B00EUJFYCG_4, B000E8S8XO_7, B01J41DHWI_5, B01J41DHWI_7, B01J41DHWI_9, B01AC1CTFK_1, B0033UX0QK_4, B0077QT4VG_7, B001NQHN7S_8, B01BM60SBG_3, B01ARGBR9O_5, B01ARGBR9O_8, B01ARGBR9O_10, B00403TP8Q_3, B00403TP8Q_5, B00CXWC48O_8, B01ARGBPBO_7, B00TXI26S4_4, B00TXI26S4_5, B00U6E860G_5, B00U6E860G_8, B01IT3VEH2_6, B000E5QZ8M_5, B0104BL1Y8_7, B002Y9ZGEA_3, B00E3SM3SW_6, B00EIFS8AC_7, B016VZXJT6_4, B016VZXJT6_5, B016VZXJT6_10, B0090U47KA_6, B0090U47KA_9, B0090U47KA_10, B01IT3VEQ8_6, B06Y3N2VC4_7, B0047LF2GK_2, B0047LF2GK_4, B019YJNT8C_8, B01IKOZ8EA_10, B06XJ3635M_1, B01IT3VEJA_5, B01IT3VEJA_7, B004VYYA2K_6, B00165X2B2_3, B00165X2B2_8, B000FCM09C_2, B000FCM09C_7, B06XSQ8RP8_10, B01MRV4ET4_4, B01IT3VHAG_2, B01IT3VHAG_10, B01H5QPIG2_3, B014V7G830_1, B009VIDP2C_5, B003JSMW88_1, B06XRGR78J_1, B005XVIY9A_9, B001G4MVN8_4, B0079FCB8I_1, B00JM94NGM_6, B00JM94NGM_8, B0006SK3WG_6, B01DXULN9K_2, B0007KK0V2_3, B004P5PTZ2_9, B00004TDLD_3, B00L2DZ4OG_5, B00L2DZ4OG_10, B00GNJRR76_7, B00EQ4JOBC_1, B00EQ4JOBC_4, B00EQ4JOBC_8, B004S6QWEK_9, B00JSLSYXW_6, B00006L99R_9, B0015X4Y5S_2, B014TL44FM_2, B014TL44FM_4, B00YF33H12_5, B075V51NCV_4, B0077OIYXC_4, B0077OIYXC_7, B0007TXTIO_2, B0007TXTIO_3, B00ZOO1YJ8_7, B01H5AD86K_2, B00B1Z6EPS_6, B00EUJFYCG_2, B00EUJFYCG_4, B016NFHJMW_2, B016NFHJMW_10, B00OP1MCJC_1, B00OP1MCJC_2, B004X4WB2E_4, B000E8S8XO_7, B00BQB8GZ8_2, B00FA0Y5I8_5, B00JLHVX36_10, B01MQGK0FU_6, B0079FCBBK_4, B0079FCBBK_8, B000088T2F_3, B000088T2F_9, B00XCK9LNC_4, B06W2H5DF8_2, B06W2H5DF8_6, B002ZSSEG2_8, B002ZSSEG2_9, B00S6415TW_6, B0026ZPSS6_2, B0006G3B68_6, B00J1XDZIQ_3, B06WVH1RFT_5, B075L6MQ9L_7, B075L6MQ9L_9, B075L6MQ9L_10, B01GPSA2RG_6, B01GPSA2RG_9, B01GJN6R62_4, B00HFJNHCM_4, B0009QXX4A_1, B0009QXX4A_9, B013ORII9A_3, B00Y0YY03A_7, B019XMRQPM_5, B018FPKN4Y_2, B01IW2XIK6_2, B004O0TOJA_5, B005WVN1B2_1, B005WVN1B2_2, B06XWVTF3F_2, B0007TXTIO_2, B0007TXTIO_3, B000WPD44W_5, B01MQYCBU4_6, B01MQYCBU4_9, B008IZHSEA_2, B06XPXQW6Z_4, B003PHQHUM_5, B009IR0P0G_5, B00000DMER_7, B01MSFGJ38_2, B01N4RMMGB_10, B01N9JXEHF_4, B000EWC0NY_4, B00146K0I6_9, B00A2MLITS_7, B001NQHN7S_7, B006YMOCOS_4, B01BP6GPX8_9, B0002HZPUG_8, B01D2R64WK_5, B01D2R64WK_6, B005XVIY9A_9, B000FJ3FK8_1, B00OH9OMW2_9, B01N9480GG_2, B01N9480GG_4, B003JGSIWY_3, B0079FCB8I_1, B009NFH6Y6_8, B01F6XNAVG_2, B00ETMVUMC_7, B002CZPR0Y_3, B076H1SYKW_9, B01NCP46DK_7, B01M1ALBUC_9, B009NFH54W_9, B01608M29M_5, B00BSN1CAU_10, B06X9KFFTJ_7, B0756TLW9F_4, B0756TLW9F_5, B002KCSNBO_1, B00BMLVF6O_3, B004YATJ72_6, B004MW55Z2_3, B00MUMZM90_6, B0085JRADS_7, B014LKSFJ2_6, B06X9Q5T2N_8, B000284ZNI_5, B011CCMOTE_6, B009M5K0O0_4, B00SCF10DG_2, B074492T3G_6, B00C2RC8FE_9, B01GVGIJT0_5, B00CDQVJ2W_7, B012705WK8_2, B012705WK8_9, B06ZZ6PSFM_6, B00EWJYOG6_2, B0728HMWGC_1, B0728HMWGC_10, B018S367L6_10, B00EIFS8AC_7, B071WJX1N7_10, B00R7Q2RVK_10, B00RY3C6MQ_2, B071SF5W39_8, B07516GZ2L_7, B072F6DZMC_10, B01NBWUAFD_2, B01BPUNVS6_2, B00SYIPS70_3, B00SYIPS70_7, B00SYIPS70_10, B00DQN034Q_4, B00DQN034Q_7, B004T1M4EG_7, B00HUMNWN8_4, B00Y17BDTA_4, B00Y17BDTA_6, B004T1MCDO_9, B018XNPA0A_3, B00BQY073O_2, B00BQY073O_7, B00BQY073O_8, B00R7Q2RRO_4, B00C20M07C_3, B00C20M07C_7, B002Q4M5PQ_6, B01N07TS8M_8, B071JVQTQF_5, B001ENZ43K_3, B000I2Q0F4_3, B01LYRGY7M_9, B019DQFZJM_4, B01NAKL8NE_3, B01NAKL8NE_5, B01MUQHG4W_3, B01MUQHG4W_6, B01MUQHG4W_8, B00HRRC4I0_8, B01LTHZP16_9, B004KPKWKY_3, B004KPKWKY_4, B01LY44LRZ_9, B01M7YNDXI_2, B01M7YNDXI_6, B01EV5EZZU_8, B06XPHB8GS_4, B009T1UB14_10, B00F3B2TVO_8, B00S640FGQ_2, B005XVIY9A, B072Q6TZC5, B00LHNR282, B01LYFTXRS, B01LYFTXRS, B01EKFF2KS, B01LZ4HSYB, B01LZ4HSYB, B00N1EJXUU, B01AWGZXNA, B01N6RK9UE, B01M5K3XLA, 6040489650, 6040489650, B00HRRAFS6, B0055ANRZ0, B073BFVH9Q, B01MZITZZJ, B075MB3BD2, B00FJR0FOK, B071FTWXB2, B06X6BJKWJ, B01HXND5XK, B01MRE5KS2, B01LYRIWYZ, B01LYRIWYZ, B00NLHWELM, B019JIACIS, B01608LE5A, B00VLV5SB8, B01AWGZXP8, B00VLV48V4, B071HNQ8Q4, B071HNQ8Q4, B071RLJ6G5, B071RLJ6G5, B0725QQCKC, B00VLV6M6S, B00GRWLZV8, B06X9362NJ, B00C9YE7AO, B00C9YE7AO, B00C9YE7AO, B00U6E85ZM, B00U6E85ZM, B007QTB6U6, B018J7JK56, B018J7JK56, B00294DSG8, B00294DSG8, B002CZPR40, B00SUZX55O, B00SUZX55O, B01F0OB6T4, B00VC3R98U, B01H07E0W4, B003WFKOSS, B003WFKOSS, B003WFKOSS, B003WFKOSS, B06W52XW1X, B00JM94NGM, B00JM94NGM, B0002HYYGM, B01MT0SL03, B00B201C72, B00B201C72, B00TYHJ56U, B002CZPR0Y, B06W9HKT1D, B00YCID48G, B00YCID48G, B00JSLSYXW, B00X9ZPZFI, B01D8NRYOK, B00J6767GY, B004RON2A0, B00067U818, B00U6E86B0, B00U6E86B0, B00U6E86B0, B01N63IITS, B00IRFM4V8, B000FCM09C, B000FCM09C, B00083D79U, B00BG417HY, B072MK7BX3, B00DGQ1K8Q, B00DGQ1K8Q, B00DGQ1K8Q, B00M2L6BPI, B000FCR4XO, B000OWE1TU, B000OWE1TU, B000OWE1TU, B000OWE1TU, B00USQ81IY, B00USQ81IY, B00471DPA0, B00471DPA0, B00068Q7LC, B00068Q7LC, B0007A5HL0, B00VWL3NHI, B004560BPY, B00804BCK0, B00804BCK0, B01GZZ3MSU, B01LZ4HSYB, B01LZ4HSYB, B000CEM6WY, B076B3KR9Q, B00E3PTHDE, B00E3PTHDE, B076B2K6JK, B01NBC5MWD, B01CMSESVO, B01CMSESVO, B00K5PJMYA, B01N0NU68I, B004X0WBHS, B01HXND5XK, B0070W57L8, B076BBJJX8, B00DL6UH6W, B00BQY073O, B00BQY073O, B00BQY073O, B00QV2P7BI, B00QV2P7BI, B0007D7O22, B00J57OHWG, B00J57OHWG, B00CCIKII2, B004MWJLHK, B00TYM5QEA, B00F5Y4VV0, B00WNC13EA, B001D0Z4M0, B001D0Z4M0, B0049ESPU0, B000I2Q0F4, B001NQHN7S, B01KZS1IHK, B0002HZPUG, B00UXBWPOU, B008MJGHH6, B06X1665TT,\n",
      "\n",
      "Cluster 8 titles: B01DZXE8PG_8, B00OH9OMW2_5, B01KZS1IEI_4, B01KZS1IEI_6, B00OH9OMZY_7, B01MXXC58P_1, B01MXXC58P_6, B01MXXC58P_9, B0052RMWF2_6, B00L1FEYFA_4, B00L1FEYFA_7, B00L1FEYFA_8, B00L1FEYFA_9, B00L1FEYFA_10, B002CY999K_1, B002CY999K_2, B01B6C1MVQ_4, B006ZKXGL4_2, B006ZKXGL4_4, B006ZKXGL4_5, B01N4PKL8O_10, B01G3KI8A4_3, B006MPY0WG_3, B006MPY0WG_5, B006MPY0WG_6, B006MPY0WG_7, B01ND3Y02K_1, B01ND3Y02K_8, B072N6VMKV_3, B072N6VMKV_7, B072N6VMKV_9, B005OYGNLW_2, B005OYGNLW_5, B005OYGNLW_10, B01N8PQGFE_6, B07576493W_8, B006ZKXHFE_3, B01N8TTTWH_4, B01N8TTTWH_7, B01N8TTTWH_8, B01N8TTTWH_9, B01N8TTTWH_10, B01CIQ11PQ_1, B01CIQ11PQ_3, B01N3U5U6H_4, B01N3U5U6H_7, B01N3U5U6H_8, B01N3U5U6H_9, B01N3U5U6H_10, B011R2RFX4_1, B011R2RFX4_10, B01KZS1IFW_3, B01KZS1IFW_9, B01KZS1IFW_10, B01KZS1IA2_4, B01CW35VME_3, B01CW35VME_7, B0083U8GP0_8, B01JLX2KWC_3, B01JLX2KWC_5, B01JLX2KWC_7, B076B42HXR_1, B076B42HXR_3, B01KXT8JV4_5, B008U8WZIY_5, B01CSAR4F8_3, B01CSAR4F8_6, B00F961WJI_4, B00F961WJI_7, B01608M29M_1, B00IEAALP2_3, B0009Y4FSK_1, B0009Y4FSK_8, B0009Y4FSK_9, B019DZ67J0_7, B01MUXWESB_1, B001S2TIQG_3, B001S2TIQG_9, B01BE0JGE0_1, B01BE0JGE0_7, B01BE0JGE0_9, B00JPJQASS_10, B073P51YBZ_2, B073P51YBZ_7, B01M9GDSPC_2, B01M9GDSPC_3, B01M9GDSPC_5, B01M9GDSPC_6, B01F49BULE_4, B01F49BULE_7, B0080EWI5S_1, B0080EWI5S_3, B0080EWI5S_5, B06XT1KZKH_3, B00KVHW9H4_4, B00KVHW9H4_6, B00KVHW9H4_7, B00KVHW9H4_10, B01MR15IHO_2, B01MR15IHO_3, B01MR15IHO_7, B01MR15IHO_9, B00561OC3E_5, B00561OC3E_8, B00561OC3E_9, B0153H90LE_1, B0153H90LE_2, B00T4UY6TI_2, B00T4UY6TI_7, B004MW55Z2_2, B004MW55Z2_6, B00T6GT622_1, B01J11QXZE_3, B06VTD32J1_2, B06VTD32J1_7, B006JW15N4_1, B010DIE8PG_10, B01LQPA7HS_2, B01LQPA7HS_5, B01LQPA7HS_7, B01LQPA7HS_9, B0117SZ3IM_5, B073HG69VP_3, B01N8TTRBI_4, B01N8TTRBI_7, B01N8TTRBI_8, B01N8TTRBI_9, B01N8TTRBI_10, B072XP7VZS_2, B072XP7VZS_6, B01J41M9WC_1, B00GY8S8MO_7, B01J41LQTE_1, B01J41LQTE_9, B01J41LU5E_1, B01J41LU5E_9, B01LX9672R_4, B01LX9672R_10, B01J41FG72_3, B01J41FG72_6, B01M0SANKN_4, B01M0SANKN_7, B0083F2XDQ_1, B0083F2XDQ_3, B0083F2XDQ_5, B01J41D4IU_9, B06W2KC378_7, B06W2KC378_8, B01G5RI0KS_1, B01G5RI0KS_2, B01G5RI0KS_6, B01J41FFUA_8, B01J41FSKW_3, B01J41DNWM_4, B01J41DNWM_8, B01MYRG38U_1, B01MYRG38U_2, B06WD3SGCC_1, B01J41LRF2_8, B01J41D4IA_1, B00NVDOWUW_2, B00NVDOWUW_6, B013GY8TH2_1, B016W4QWA4_6, B016W4QWA4_7, B016W4QWA4_8, B01J41JLEG_1, B06W55DZCK_7, B06W2KC47K_1, B06W2KC47K_3, B01J41FSB6_2, B01J41FSB6_10, B06WGPS9V6_4, B06WGPS9V6_5, B06WGPS9V6_8, B00NVDOH2U_7, B00NVDOH2U_9, B01J41DVSS_8, B01J41LR20_1, B01J41LR20_4, B01J41MPF8_3, B01J41MPF8_5, B06WD3SGC2_1, B06WD3SGC2_7, B06WLL3SMJ_4, B06WLL3SMJ_7, B00PY3EYQO_9, B06WGPS9MY_1, B06WGPS9MY_7, B01J41JLTQ_3, B06WGPSBPB_1, B06W55DZ8K_5, B01J41GQOE_2, B01J41GQOE_3, B01J41GQOE_9, B06WGPS94M_2, B06WGPS94M_3, B06WGPS94M_5, B06WGPS94M_7, B06WGPS94M_9, B01J41FI8E_5, B06WLL3TQY_8, B019F2SF14_8, B01J41DAUM_8, B01J41G4E6_1, B01J41G4E6_6, B01J41DHSC_1, B01J41DHSC_3, B06WD3SJ8Z_2, B06WD3SJ8Z_5, B06WD3SJ8Z_8, B06W2KC1QS_2, B06W2KC1QS_6, B06VVPJ3B4_3, B06VVPJ3B4_9, B06WRRJ6MM_2, B06WRRJ6MM_9, B01J41FUHS_2, B01J41FUHS_6, B01J41DAQ6_4, B01J41DAQ6_10, B06WLL3M8Y_2, B06VVH6313_7, B01J41DHFA_1, B01J41DHFA_2, B01J41DHFA_6, B01J41DHFA_9, B00HFPM3IK_8, B00HFPM3IK_9, B01J41HRZQ_2, B01J41HRZQ_7, B01J41KIIE_1, B01J41KIIE_3, B01J41ERCM_5, B06X92LST2_3, B06X92LST2_4, B06VVH3Z9K_1, B01J41D5D4_1, B01J41D5D4_2, B01J41D5D4_10, B06Y4BC95L_1, B06Y4BC95L_2, B06Y4BC95L_3, B06Y4BC95L_5, B06Y4BC95L_6, B06Y4BC95L_7, B00EUJFYCG_5, B00EUJFYCG_6, B01J41K0HS_8, B01J41K0HS_9, B00DSNQ35W_9, B06WVBM4L8_7, B06WVBM4L8_8, B06WVBM4L8_10, B000E8S8XO_8, B01J41DHWI_10, B01M4RZL27_5, B06W2KC4T2_7, B01J41EBFU_3, B01J41EBFU_6, B01AC1CTFK_3, B01AC1CTFK_8, B01J41G4Z0_1, B01J41EBQ4_1, B01J41EBQ4_2, B06VV73LFR_9, B000RPDPSC_1, B000RPDPSC_9, B000RPC4IY_6, B00G7KM4ZG_9, B01LX5NY95_5, B01LX5NY95_7, B01LX5NY95_8, B01LX5NY95_9, B0077QT4VG_5, B001NQHN7S_1, B015CCR6UC_2, B01BM60SBG_1, B01ARGBR9O_6, B01ARGBR9O_7, B00403TP8Q_4, B00U6E860G_4, B06X9SFWNT_1, B00LHXUOXM_7, B004CM29Y2_5, B015CCR1FW_3, B015CCR1FW_4, B01IT3VH9W_10, B00HRRE3UM_1, B00HRRE3UM_7, B000E5QZ8M_3, B000E5QZ8M_9, B001GMQZ14_1, B0000658L4_6, B00EIFS8AC_4, B00EIFS8AC_5, 095346993X_2, B016VZXJT6_2, B01EJKLX2U_3, B01EJKLX2U_5, B01EJKLX2U_6, B00026ZEDK_10, B06Y3N2VC4_5, B001DRA7HA_1, B01C479Q7E_6, B01C479Q7E_7, B01C479Q7E_10, B019YJNT8C_2, B019YJNT8C_7, B01CSC7OTW_1, B01M7R41N9_1, B0037LL0U8_2, B0037LL0U8_3, B0037LL0U8_7, B0037LL0U8_8, B005INHQJW_2, B005KRN6GS_5, B005KRN6GS_7, B0037LIZKQ_6, B004DDJCSG_1, B004DDJCSG_2, B004DDJCSG_6, B004DDJCSG_10, B06W2LB1L7_5, B06W2LB1L7_6, B01IT3VEJA_2, B01IT3VEJA_6, B004DJ99MO_1, B004DJ99MO_2, B004DJ99MO_6, B004DJ99MO_10, B004VYYA2K_10, B00165X2B2_2, B00Y8AS21W_6, B01J124SUU_8, B0058C97YK_5, B0058C97YK_8, B0043JF0SQ_5, B0043JF0SQ_6, B01MRV4ET4_10, B0080MSGFQ_2, B00NWG3JC0_1, B00NWG3JC0_8, B0104BKFU4_9, B01MQOC7TZ_7, B00210E0VM_3, B00210E0VM_6, B00O2JUVRM_1, B00O2JUVRM_3, B00O2JUVRM_7, B00O2JUVRM_10, B0000BX8MA_1, B0000BX8MA_4, B0000BX8MA_5, B01IT3VHAG_1, B01H5QPIG2_2, B072MGVV73_4, B072MGVV73_5, B00Q8NEL1M_4, B01CIGMNWQ_2, B01CIGMNWQ_3, B01CIGMNWQ_5, B01CIGMNWQ_8, B00GSSMI1M_7, B000FCM0B0_1, B000FCM0B0_2, B000FCM0B0_5, B000FCM0B0_6, B014V7G830_3, B014V7G830_7, B017SRMTR4_2, B00SWRBOQM_6, B01CXSZU8I_2, B01CXSZU8I_10, B0015XJUV6_1, B0015XJUV6_3, B0015XJUV6_4, B009VIDP2C_4, B009VIDP2C_10, B00YCICQHQ_10, B003JSMW88_10, B01BXAISS6_1, B06XRGR78J_2, B00ISQKHTM_3, B00ISQKHTM_4, B00ISQKHTM_5, B00ISQKHTM_6, B00ISQKHTM_7, B000UTXL20_8, B000UTXL20_9, B005XVIY9A_8, B005XVIY9A_10, B001G4MVN8_3, B00CRZXUZI_5, B000I8T8V6_4, B000I8T8V6_9, B000I8T8V6_10, B0079FCB8I_4, B0079FCB8I_7, B0079FCB8I_8, B00JM94NGM_10, B07219WZFC_4, B000H5V08E_2, B000H5V08E_4, B000H5V08E_7, B01HBFUA4W_7, B0006SK3WG_3, B01AXP1S9I_4, B004S6QWHW_4, B004S6QWHW_9, B0007KK0V2_1, B004P5PTZ2_2, B004P5PTZ2_4, B00N4TRHVO_1, B00N4TRHVO_3, B00N4TRHVO_6, B00004TDLD_2, B00008OS3W_2, B00008OS3W_5, B00GNJRR76_2, B00GNJRR76_6, B002OHCYZQ_9, B004S6QWEK_5, B004OBZRR2_2, B00JSLSYXW_7, B001AXFDRQ_6, B00WJ1O76G_1, B00WJ1O76G_5, B00WJ1O76G_8, B00ZTL4YCA_1, B007FJM7PK_3, B007FJM7PK_10, B00006L99R_2, B0015X4Y5S_1, B0015X4Y5S_10, B0015QQZJS_7, B01CJFHW0Y_3, B01CJFHW0Y_5, B01CJFHW0Y_6, B01CJFHW0Y_7, B01CJFHW0Y_9, B014TL44FM_5, B014TL44FM_7, B014TL44FM_9, B00YF33H12_7, B06XHJC5R6_1, B06XHJC5R6_3, B06XHJC5R6_4, B00CWB0KLE_2, B00CWB0KLE_6, B00CWB0KLE_9, B01D9IDIQW_5, B01D9IDIQW_8, B0007TXTIO_1, B0007TXTIO_4, B00LAX52IQ_7, B01H5AD86K_1, B01H5AD86K_6, B001UHO66Q_5, B00F4VFJRO_1, B00008BFZH_4, B00008BFZH_8, B00B1Z6EPS_4, B00EUJFYCG_5, B00EUJFYCG_6, B01CJFHVR8_3, B01CJFHVR8_5, B01CJFHVR8_6, B01CJFHVR8_7, B01CJFHVR8_9, B00U3G9Q9W_5, B016NFHJMW_8, B004X4WB2E_1, B004X4WB2E_9, B00DSNQ35W_9, B000E8S8XO_8, B00BQB8GZ8_3, B00CP6A836_6, B0006HBERA_3, B0006HBERA_4, B00JM98ZNO_5, B00FA0Y5I8_1, B00JLHVX36_1, B01MQGK0FU_2, B00OE6TQZQ_3, B0077OIZ04_4, B0077OIZ04_10, B0079FCBBK_6, B0079FCBBK_9, B00XCK9LNC_9, B0074HSHGQ_3, B0074HSHGQ_8, B06W2H5DF8_1, B06W2H5DF8_3, B00S6415TW_4, B0026ZPSS6_7, B004JQPXNU_4, B0007TXTL6_3, B0007TXTL6_4, B0007TXTL6_5, B0007TXTL6_8, B0007TXTL6_9, B0031J8Q4E_1, B0031J8Q4E_2, B0031J8Q4E_5, B000V0GZA8_7, B000V0GZA8_10, B0026ZPTYY_3, B0026ZPTYY_5, B0026ZPTYY_6, B0026ZPTYY_7, B06WVH1RFT_6, B00CRGPHZ8_3, B0015XWTW8_4, B0015XWTW8_6, B00HWHO7M6_1, B00HFR4GRY_2, B008IZHSLS_1, B008IZHSLS_5, B00VFLTZ4A_1, B00VFLTZ4A_2, B00VFLTZ4A_5, B075L6MQ9L_1, B075L6MQ9L_2, B075L6MQ9L_4, B075L6MQ9L_5, B00140ILCO_10, 1933054395_1, 1933054395_2, B00ECDKCUE_10, B01GJN6R62_2, B01GJN6R62_10, B00LGWRTS2_5, B06W2H5RYP_3, B06W2H5RYP_5, B00WOFBCHO_7, B000EB7AJO_2, B000EB7AJO_3, B000EB7AJO_4, B000EB7AJO_7, B000EB7AJO_9, B06XWRPQZD_10, B00000J0JF_1, B00000J0JF_3, B00000J0JF_9, B00HFJNHCM_1, B00HFJNHCM_2, B00HFJNHCM_3, B00HFJNHCM_7, B014SVVLDQ_1, B014SVVLDQ_3, B014SVVLDQ_4, B014SVVLDQ_5, B014SVVLDQ_8, B014SVVLDQ_9, B008DB7VSM_6, B0009QXX4A_2, B002105R50_3, B002105R50_10, B01NH7MO6D_2, B01NH7MO6D_3, B01NH7MO6D_8, B019XMRQPM_2, B019XMRQPM_3, B019XMRQPM_7, B0006NM9AK_1, B0006NM9AK_2, B0006NM9AK_10, B01MZXOR7M_4, B01IW2XIK6_1, B06XSZJWSX_2, B06XSZJWSX_9, B004O0TOJA_4, B004O0TOJA_6, B004O0TOJA_10, B00HFR4FAW_4, B00HFR4FAW_7, B00HFR4FAW_8, B00HFR4FAW_10, B06XWVTF3F_3, B06XWVTF3F_6, B06XWVTF3F_7, B0007TXTIO_1, B0007TXTIO_4, B000WPD44W_2, B000WPD44W_6, B00HWHNNRG_8, B01MQYCBU4_1, B01MQYCBU4_4, B00QM4W042_7, B008IZHSEA_4, B01AT47MLQ_3, B01AT47MLQ_10, B00CFV24TC_2, B00CFV24TC_3, B00HFJNHOK_10, B00IVC1B16_6, B003PHQHUM_8, B00HFR4PFC_1, B075QHL7M2_2, B01N8VUCQ6_1, B01N8VUCQ6_10, B00000DMER_1, B00000DMER_2, B00000DMER_5, B00000DMER_9, B00000DMER_10, B01MSFGJ38_5, B00MOI8756_1, B00MOI8756_2, B00MOI8756_3, B00MOI8756_7, B005IX6ZOY_9, B0002HR306_1, B0002HR306_2, B0002HR306_5, B0002HR306_7, B01N9JXEHF_5, B01N9JXEHF_10, B0753C927N_3, B071G85LSK_10, B001NQHN7S_1, B018NMU2FY_4, B01MFGBS5K_5, B01BP6GPX8_1, B01BP6GPX8_5, B01BP6GPX8_7, B077P2BLVN_1, B004ISL30Q_1, B004ISL30Q_9, B0002HZPUG_3, B0002HZPUG_6, B01D2R64WK_2, B01N4EM5ML_4, B01N4EM5ML_6, B005XVIY9A_8, B005XVIY9A_10, B004VPJBK0_7, B01MS0D34S_5, B00OH9OMW2_5, B01N9480GG_9, B005FQTPMS_9, B003JGSIWY_2, B01NAGYZRQ_3, B01NAGYZRQ_4, B0079FCB8I_4, B0079FCB8I_7, B0079FCB8I_8, B006ZKXGL4_2, B006ZKXGL4_4, B006ZKXGL4_5, B075CG95NL_7, B00BSN004E_4, B00BSN004E_9, B01N4PKL8O_10, B00009B1SF_5, B00009B1SF_8, B00ETMVUMC_4, B00TDP7R2W_7, B006ZKXHFE_3, B0718ZQD9V_5, B0718ZQD9V_7, B0718ZQD9V_9, B0718ZQD9V_10, B002CZPR0Y_1, B01BP6GPV0_2, B00008J1AV_5, B000LNC6SU_4, B000LNC6SU_7, B01NCP46DK_6, B00BFSF66O_2, B00BFSF66O_4, B009NFH54W_3, B00ABXVV3Q_4, B00ABXVV3Q_5, B01608M29M_1, B00VEMLNU4_2, B06X9KFFTJ_2, B0756TLW9F_7, B004VPJBGY_7, B074CFDWCF_6, B01GPOL4UO_4, B009AS5VW0_2, B009AS5VW0_3, B01MR15IHO_2, B01MR15IHO_3, B01MR15IHO_7, B01MR15IHO_9, B004MW55Z2_2, B004MW55Z2_6, B076CLFGPP_3, B00MUMZM90_10, B010NXYQMG_2, B010NXYQMG_10, B075XJQQQB_1, B01MXLMEAP_9, B06ZYCX58J_1, B014LKSFJ2_2, B014LKSFJ2_3, B014LKSFJ2_7, B004JQPXOE_8, B004JQPXOE_9, B06X9Q5T2N_2, B06X9Q5T2N_9, B000284ZNI_3, B018S366RQ_2, B018S366RQ_5, B00C2RC8FE_2, B074GTSKQ3_9, B00CDQVJ2W_2, B00CDQVJ2W_3, B00CDQVJ2W_5, B01CTVWFHI_5, B01CTVWFHI_9, B00C65YDGE_5, B00K6D4UHA_9, B00EWJYOG6_8, B018S367L6_3, B00005OB9I_2, B00EIFS8AC_4, B00EIFS8AC_5, B016XRTTAA_1, B016XRTTAA_5, B01DSX8XS6_4, B01DSX8XS6_8, B001W30D2O_2, B00XSPEW2G_3, B00RY3C6MQ_5, B00CDQVEPY_6, B003YC2VPS_2, B003YC2VPS_7, B003YC2VPS_8, B00BB7YETE_7, B01NBWUAFD_9, B00SYIPS70_4, B01DSX8XYU_1, B004T1M4EG_4, B004TMOXSK_5, B018XNPA0A_2, B00F657TXA_8, B01MPWBRYI_8, B018S367KW_3, B0712191GF_10, B00WNC0K80_10, B00C20M07C_2, B01GFZT3QK_7, B072ZB89LR_5, B072ZB89LR_10, B01N07TS8M_1, B01N07TS8M_2, B01ICSE08Y_7, B06Y479HS9_9, B0727VNM6G_8, B01LYRGY7M_1, B01LYRGY7M_5, B01608LKP4_8, B019DQFZJM_2, B01HGTMPHS_2, B01HGTMPHS_9, B01NAKL8NE_1, B00HRRC4I0_1, B01LY44LRZ_1, B01LY44LRZ_5, B000JXKWYC_1, B000JXKWYC_10, B0014VIX3A_2, B0014VIX3A_4, B00IF1VVFO_1, B00IF1VVFO_8, B06WV7KBTQ_4, B06WV7KBTQ_9, B01EV5EZZU_2, B01EV5EZZU_4, B06XPHB8GS_2, B00S640FGQ_5, B005XVIY9A, B005XVIY9A, B013GY8TH2, B01EKFF2KS, B01EKFF2KS, B01EKFF2KS, B06XNJ6RFT, B01LZ4HSYB, B00O4E27MC, B01LX4ZC9H, B01LX4ZC9H, B01LX4ZC9H, B01N6RK9UE, B00J1XE7CO, B00J1XE7CO, B0052KHQ8M, B01CSC7OTW, B00HRRAFS6, B00160C8NK, B00FJR0FOK, B0001MEGSY, B00VLUZ31O, B00VLUZ31O, B00VLUZ31O, B00VLUZ31O, B01N9JMG57, B01N9JMG57, B01MQR0SJA, B01EKBD0DI, B01EKBD0DI, B06X6BJKWJ, B01608LE1Y, B01608LE1Y, B06XBBBYJN, B06XBBBYJN, B01608LE5A, B01608LE5A, B01EV5FFOA, B06X6BS21T, B01AWGZXP8, B01N0S8YOG, B01N0S8YOG, B00VLV48V4, B00VLV48V4, B06WV7KCDK, B06WV7KCDK, B06WV7KCDK, B071RLJ6G5, B071RLJ6G5, B0725XHLK7, B0725XHLK7, B01AWGZXHQ, B01AWGZXHQ, B00VLV6M6S, B00VLV6M6S, B00VLV6M6S, B00QFFIYAW, B00QFFIYAW, B00QFFIYAW, B00CYDSHK6, B074X2VR5B, B07333DK6K, B000NIJ5SM, B01N6WV6ZM, B06X9QRJLS, B06X9QRJLS, B06X9QRJLS, B0015XJUV6, B0015XJUV6, B0015XJUV6, B00J7KSY2A, B00TLRSPGY, B00TLRSPGY, B00TLRSPGY, B00TLRSPGY, B00TLRSPGY, B00U42LTK4, B007QTB6U6, B007QTB6U6, B007QTB6U6, B01NAKXFJQ, B00294DSG8, B075TDGD3R, B002CZPR40, B002CZPR40, B00SUZX55O, B00SUZX55O, B0002HYYDU, B00FAT4NUY, B00VC3R98U, B004KPKW6S, B003WFKOSS, B003WFKOSS, B06W52XW1X, B00JM94NGM, B01MT0SL03, B00B201C72, B01DCLUG16, B00IT2JUTS, B00IT2JUTS, B019PA4NL2, B01DLWEFWM, B002CZPR0Y, B06W9HKT1D, B00ZD5FA1G, B00JSLSYXW, B00X9ZPZFI, B00X9ZPZFI, B00J6767GY, B00J6767GY, B0037LL0U8, B0037LL0U8, B0037LL0U8, B0037LL0U8, B06XXQNJ36, B000TNJHJ8, B004RON2A0, B004RON2A0, B01MU32MGX, B01MU32MGX, B01MU32MGX, B004OBZRN6, B004OBZRN6, B00U6E86B0, B007ZPWIQC, B007ZPWIQC, B002CZPR2W, B002CZPR2W, B002CZPR2W, B000EB55RS, B01N4061WW, B01N4061WW, B01N4061WW, B00IRFM4V8, B00IRFM4V8, B01M5E2M2N, B01M5E2M2N, B01ASIFRWE, B06XY2HZNG, B002UXO4J8, B002UXO4J8, B00083D79U, B01BM616BM, B01BM616BM, B01M3RCB80, B01CI31RYO, B01CI31RYO, B00DGQ1K8Q, B00M2L6BPI, B00M2L6BPI, B000FCR4XO, B000FCR4XO, B00005LWJ6, B00005LWJ6, B00005LWJ6, B000OWE1TU, B000OWE1TU, B00USQ81IY, B00USQ81IY, B00USQ81IY, B019K8L3IK, B019K8L3IK, B019K8L3IK, B0074HSHGQ, B0074HSHGQ, B00CMR270K, B00CMR270K, B01IN45ENC, B01IN45ENC, B00VJKT0LK, B00VJKT0LK, B00VJKT0LK, B00068Q7LC, B012BP34TU, B00IFWP73U, B00CDL617A, B00CDL617A, B00CDL617A, B071K8H6R4, B071K8H6R4, B00VWL3NHI, B00VWL3NHI, B00VWL3NHI, B00VWL3NHI, B072Q1P2Z1, B01LNWSEQU, B00140ILCO, B004560BPY, B01L7KXPQC, B06XJ6G82D, B06XJ6G82D, B06XJ6G82D, B00005OB9I, B0073BW27I, B01LZ4HSYB, B06XSKKM3L, B06XSKKM3L, B001P3SJG8, B000CEM6WY, B00272N8E4, B00272N8E4, B00272N8E4, B018SSDEWG, B01N074ELB, B001W30D2O, B00FA2W28G, B00QTXYO4U, B00QTXYO4U, B01BSJWIVK, B011IBSIJY, B007FJM7PK, B007FJM7PK, B01NBC5MWD, B01CMSESVO, B01CMSESVO, B00K5PJMYA, B004KPKW8G, B004KPKW8G, B004KPKW8G, B00IB34HMA, B0070W57L8, B0070W57L8, B01E93LC96, B00HAZFWAQ, B002NWJ1LW, B002NWJ1LW, B00DCP5LMW, B00DCP5LMW, B014LKNSYO, B00L1TX61O, B00CCIKII2, B00CCIKII2, B004MWJLHK, B01EJA4DLI, B00CJU0G6C, B00TYM5QEA, B00F5Y4VV0, B0049ESPU0, B001NQHN7S, B013ID7O8G, B013ID7O8G, B00PKBI47U, B00BQAJKQS, B01KZS1IHK, B0002HZPUG, B0002HZPUG, B015NHJT06, B015NHJT06, B015NHJT06, B015NHJT06, B01MFG934M, B01MFG934M, B01N4EM5ML, B01N4EM5ML, B076F16JC1, B076F16JC1, B076F16JC1, B00EGXSONM, B00EGXSONM, B00EGXSONM, B00EGXSONM, B00EGXSONM, B0744VCQ2T, B076HMTK52, B076HMTK52, B076HMTK52, B076HMTK52, B01ELIGSGQ, B008MJGHH6, B008MJGHH6, B06X1665TT, B06X1665TT, B00C1JZZZ8, B01HQ9EQ1G, B01HQ9EQ1G, B01HQ9EQ1G,\n",
      "\n",
      "Cluster 9 titles: B00OH9OMZY_10, B00OH9OMUE_7, B006ZKXGL4_10, B01N4PKL8O_9, B01G3KI8A4_5, B006MPY0WG_8, B006ZKXHFE_7, B006ZKXHFE_8, B01KZS1IA2_3, B01KZS1IA2_6, B01CW35VME_1, B01CW35VME_9, B0083U8GP0_3, B008U8WZIY_7, B002BDU87Y_9, B00IEAALP2_4, B00IEAALP2_8, B01DVEI0WQ_4, B01MUXWESB_3, B000XAUEXA_2, B000XAUEXA_3, B01BE0JGE0_8, B073P51YBZ_6, B073P51YBZ_10, B00EZP9X18_1, B00EZP9X18_5, B01MR15IHO_4, B0153H90LE_3, B00T4UY6TI_9, B00T6GT622_9, B073HG69VP_2, B01J41M9WC_4, B01J41DNZE_5, B00GY8S8MO_2, B01M0SANKN_2, B01J41D4IU_6, B06W2KC378_10, B01J41FFUA_6, B01J41HPQ2_5, B01J41FSKW_5, B01J41FSKW_7, B01J41FSKW_10, B01J41DNWM_1, B01J41DNWM_3, B01MYRG38U_4, B01J41D4IA_7, B00NVDOWUW_8, B016W4QWA4_2, B01JA24SAG_7, B06W2KC1QQ_3, B06W2KC1QQ_6, B06W2KC1QQ_7, B013GY7GQ2_3, B013GY7GQ2_6, B013GY7GQ2_9, B01J41FSB6_8, B01J41MPF8_10, B06WD3SGC2_3, B06WLL3SMJ_9, B01J41JLTQ_7, B06WGPSBPB_3, B06W55DZ8K_4, B012NOGTVE_6, B01J41GQOE_6, B01J41GQOE_8, B06WGPS94M_1, B06WGPS94M_10, B01J41DVGU_8, B06WLL3TQY_4, B019F2SF14_2, B019F2SF14_4, B06WD3SJ8Z_4, B06W2KC1QS_5, B06VVPJ3B4_4, B06VVPJ3B4_10, B01J41D570_4, B01J41D570_10, B06WRRJ6MM_1, B06WRRJ6MM_6, B01J41FUHS_8, B01J41FUHS_9, B01J41DAQ6_7, B06WLL3M8Y_10, B06WGPSD8P_2, B06VVH6313_3, B06VVH6313_8, B01J41DHFA_5, B01J41HRZQ_3, B01J41HRZQ_8, B01J41KIIE_5, B01J41ERCM_6, B06VVH3Z9K_2, B06VVH3Z9K_3, B01J41D5D4_4, B06Y4BC95L_8, B00EUJFYCG_10, B01J41GO2S_1, B01J41GO2S_2, B01J41GO2S_9, B01J41K0HS_7, B01J41JZX8_6, B00DSNQ35W_2, B00DSNQ35W_3, B01J41DHWI_6, B01M4RZL27_2, B01M4RZL27_3, B01M4RZL27_6, B01J41G4SC_7, B06W2KC4T2_6, B01AC1CTFK_5, B01AC1CTFK_10, B06W2KC5GC_2, B06W2KC5GC_5, B01J41G4Z0_3, B01J41G4Z0_4, B01J41G4Z0_6, B01J41EBQ4_8, B01J41EBQ4_9, B06VV73LFR_3, B01LX5NY95_10, B0077QT4VG_8, B0077QT4VG_9, B0077QT4VG_10, B00HRRD10A_6, B00HRRD10A_9, B006LI5ZLY_6, B001NQHN7S_10, B015CCR6UC_6, B01BM60SBG_8, B019B9SXH2_9, B00U6E860G_2, B06X9SFWNT_3, B06XSHF3V1_8, B00LHXUOXM_3, B015CCR1FW_1, B01IT3VH9W_2, B0104BL1Y8_5, B0104BL1Y8_9, B002Y9ZGEA_7, B000L70MQO_1, B0000658L4_4, B0000658L4_10, B01D9KNCNE_1, B01H5QPIJE_6, B01H5QPIJE_10, B0090U47KA_5, B01IT3VEQ8_2, B01IT3VEQ8_9, B06Y3N2VC4_1, B06Y3N2VC4_2, B06Y3N2VC4_3, B06Y3N2VC4_10, B01C479Q7E_5, B01C479Q7E_9, B01CSC7OTW_3, B01CSC7OTW_6, B01CSC7OTW_9, B0037LIZKQ_10, B003RRXZC8_6, B06XJ3635M_2, B01IT3VEJA_10, B000FCM09C_8, B000FCM09C_9, B06XSQ8RP8_1, B06Y1225MR_1, B06Y1225MR_5, B01MRV4ET4_9, B0104BKFU4_5, B00210E0VM_8, B00O2JUVRM_5, B00O2JUVRM_8, B00XLHP1FS_6, B01H5QPIG2_6, B072MGVV73_9, B009386Q9O_5, B00Q8NEL1M_6, B01CIGMNWQ_4, B014V7G830_4, B014V7G830_6, B00A8PW9QK_4, B00A8PW9QK_6, B01N6U9TS6_1, B01N6U9TS6_2, B01N6U9TS6_5, B01N6U9TS6_6, B01BXAISS6_9, B06XRGR78J_5, B00ISQKHTM_10, B000UTXL20_3, B005XVIY9A_1, B005XVIY9A_2, B001G4MVN8_2, B00CM7A0ZE_2, B00CM7A0ZE_5, B00JM94NGM_2, B000H5V08E_8, B0006SK3WG_2, B0007KK0V2_4, B00L2DZ4OG_2, B004OBZRR2_3, B004OBZRR2_4, B00JSLSYXW_5, B00WJ1O76G_2, B00ZTL4YCA_9, B0015X4Y5S_9, B0015QQZJS_3, B0015QQZJS_8, B00YF33H12_3, B075V51NCV_2, B075V51NCV_8, B0030BJRWS_9, B0077OIYXC_5, B0077OIYXC_6, B01DC8Q2ZS_2, B01D9IDIQW_4, B00LAX52IQ_8, B01H5AD86K_7, B00F4VFJRO_7, B00008BFZH_2, B00008BFZH_5, B00008BFZH_6, B00008BFZH_7, B00008BFZH_9, B000795N4W_3, B000795N4W_6, B00067U6R4_6, B00067U6R4_8, B01C765UTA_7, B01C765UTA_8, B00EUJFYCG_10, B00U3G9Q9W_4, B000H6W53W_6, B000H6W53W_10, B016NFHJMW_4, B00OP1MCJC_5, B004X4WB2E_7, B00DSNQ35W_2, B00DSNQ35W_3, B01DXULLCE_9, B0006HBERA_10, B00JLHVX36_3, B0077OIZ04_6, B0079FCBBK_1, B000088T2F_8, B0074HSHGQ_4, B00S6415TW_8, B00S6415TW_9, B0031J8Q4E_7, B000V0GZA8_1, B00J1XDZIQ_2, B00J1XDZIQ_7, B0026ZPTYY_9, B00CRGPHZ8_10, B00HWHO7M6_8, B00HFR4GRY_7, B00HFR4GRY_10, B00VFLTZ4A_4, 1933054395_3, 1933054395_8, 1933054395_9, B00ECDKCUE_7, B01GPSA2RG_1, B00LGWRTS2_10, B06W2H5RYP_2, B00WOFBCHO_10, B06XWRPQZD_6, B01K1MDHJC_5, B0009QXX4A_3, B0009QXX4A_6, B075TT97NT_10, B002105R50_7, B00Y0YY03A_4, B019XMRQPM_4, B018FPKN4Y_8, B06WLHXMDM_1, B00FS6TN6I_5, B00HFR4FAW_3, B00HFR4FAW_5, B071VW7RKC_3, B071VW7RKC_4, B071VW7RKC_5, B01N0Z3QWO_2, B005WVN1B2_7, B00HHBLZAE_10, B06XWVTF3F_5, B000WPD44W_7, B00QM4W042_8, B00QM4W042_10, B06XPXQW6Z_5, B00CFV24TC_7, B00IVC1B16_2, B00IVC1B16_8, B01N8VUCQ6_8, B00MOI8756_6, B01IQX06K6_3, B005IX6ZOY_10, B072J28JYT_5, B072J28JYT_6, B072J28JYT_8, B01N9JXEHF_2, B01N9JXEHF_7, B00146K0I6_4, B001NQHN7S_9, B018NMU2FY_1, B00FYON14Y_6, B01BP6GPX8_4, B077P2BLVN_9, B01N4EM5ML_10, B005XVIY9A_1, B005XVIY9A_2, B06X9LP736_1, B001HBJ5P2_4, B001HBJ5P2_9, B01NAGYZRQ_8, B076M2486L_3, B009CSSG4I_1, B009CSSG4I_10, B009NFH6Y6_4, B009NFH6Y6_7, B006ZKXGL4_10, B01N4PKL8O_9, B00009B1SF_2, B005KPLNFG_10, B00ETMVUMC_9, B006ZKXHFE_7, B006ZKXHFE_8, B0718ZQD9V_4, B002CZPR0Y_4, B002CZPR0Y_8, B002CZPR0Y_10, B001BRVBH2_7, B076H1SYKW_6, B076H1SYKW_8, B01NCP46DK_5, B00BFSF66O_6, B01M1ALBUC_4, B0756TLW9F_6, B002KCSNBO_3, B002KCSNBO_6, B074CFDWCF_10, B009AS5VW0_1, B009AS5VW0_6, B009AS5VW0_9, B009AS5VW0_10, B01MR15IHO_4, B00VEMLOBC_7, B002V841QI_1, B002V841QI_7, B0085JRADS_3, B075XJQQQB_2, B0002GTIXW_3, B0002GTIXW_6, B000284ZNI_4, B000284ZNI_8, B00SCF10DG_3, B074492T3G_5, B0764DW1JY_3, B00C2RC8FE_8, B01GVGIJT0_8, B071G8QNLR_4, B071G8QNLR_8, B019F4JLRO_3, B00WNC1A9I_1, B012705WK8_10, B00EWJYOG6_10, B0719QH4CM_5, B0728HMWGC_3, B0728HMWGC_5, B0728HMWGC_8, B018S367L6_1, B016XRTTAA_10, B00RY3C6MQ_6, B071SF5W39_6, B01MFCMO1M_4, B00SWUTUOM_2, B072F6DZMC_1, B072F6DZMC_7, B01NBWUAFD_7, B004T1M4EG_9, B004TMOXSK_3, B00Y17BDTA_3, B00Y17BDTA_8, B071FGLFQN_5, B004T1MCDO_7, B074M3F7WY_1, B01M0YC7J8_1, B01BU9WWYG_9, B01BU9WWYG_10, B018S367KW_4, B0712191GF_2, B0712191GF_7, B01N7K9PQ4_2, B01GFZT3QK_3, B01GFZT3QK_5, B002Q4M5PQ_1, B002Q4M5PQ_4, B071JVQTQF_8, B071JVQTQF_9, B001ENZ43K_5, B01ICSE08Y_6, B01ICSE08Y_10, B06Y479HS9_7, B06Y479HS9_8, B019DQFZJM_1, B019DQFZJM_5, B01HGTMPHS_1, B010BT1UR6_8, B01LTHZP16_1, B01LTHZP16_3, B01LTHZP16_6, B004KPKWKY_8, B0014VIX3A_6, B0014VIX3A_7, B01M7YNDXI_8, B06WV7KBTQ_7, B009T1UB14_4, B005XVIY9A, B005XVIY9A, B00LHNR282, B01LYFTXRS, B00O4E27MC, B071ZSY96K, B01LX4ZC9H, B01LX4ZC9H, B013GY7GQ2, B013GY7GQ2, B013GY7GQ2, B01CNSO54I, B01CNSO54I, B00N1EJXUU, B01AWGZXNA, B01N6RK9UE, B01N6RK9UE, B00J1XE7CO, B00J1XE7CO, 6040489650, B0052KHQ8M, B01CSC7OTW, B01CSC7OTW, B01CSC7OTW, B073BFVH9Q, B01BSXWY38, B071FTWXB2, B00VLUZ31O, B01MQR0SJA, B01608LE1Y, B01608LE1Y, B01608LE1Y, B01608LE1Y, B01LYRIWYZ, B06XBBBYJN, B06XBBBYJN, B012NOF6G8, B019JIACIS, B019JIACIS, B01608LE5A, B01608LE5A, B01608LE5A, B01EV5FFOA, B01EV5FFOA, B01608M48G, B00VLV5SB8, B071HNQ8Q4, B071RLJ6G5, B01AWGZXHQ, B01AWGZXHQ, B0725QQCKC, B0725QQCKC, B00GRWLZV8, B00CYDSHK6, B07333DK6K, B06X9QRJLS, B06X9QRJLS, B00J7KSY2A, B01NAKXFJQ, B01NAKXFJQ, B00294DSG8, B073X3422S, B01F0OB6T4, B00FAT4NUY, B00VC3R98U, B004KPKW6S, B003WFKOSS, B00JM94NGM, B00TYHJ56U, B01DLWEFWM, B01DLWEFWM, B01DLWEFWM, B01DLWEFWM, B002CZPR0Y, B002CZPR0Y, B002CZPR0Y, B06W9HKT1D, B00YCID48G, B00YCID48G, B00YCID48G, B00YCID48G, B00JSLSYXW, B01D8NRYOK, B06XXQNJ36, B000TNJHJ8, B004RON2A0, B004RON2A0, B004RON2A0, B00067U818, B00U6E86B0, B00U6E86B0, B00U6E86B0, B01N63IITS, B01N63IITS, B01N63IITS, B01N63IITS, B007ZPWIQC, B002CZPR2W, B007R4829I, B01M5E2M2N, B01M5E2M2N, B01M5E2M2N, B000FCM09C, B000FCM09C, B01AVADUIM, B01ASIFRWE, B06XY2HZNG, B00763PNBK, B00BG417HY, B072MK7BX3, B01CI31RYO, B00KPVTXE8, B00WU7E7QO, B000OWE1TU, B00USQ81IY, B00O07LZ5I, B019K8L3IK, B0074HSHGQ, B00CMR270K, B01IN45ENC, B01IN45ENC, B00OZEXM70, B00OZEXM70, B00OZEXM70, B00VJKT0LK, B00068Q7LC, B00CDL617A, B00VWL3NHI, B01LNWSEQU, B004560BPY, B004560BPY, B06XT2YDVM, B06XT2YDVM, B00804BCK0, B0073BW27I, B01CNSO54I, B01CNSO54I, B01C49MHB4, B01C49MHB4, B00FA2W28G, B00GNAP5T2, B01BSJWIVK, B011IBSIJY, B017GX32MQ, B017GX32MQ, B072C36NSW, B072C36NSW, B000BB56B6, B01CMSESVO, B00K5PJMYA, B00IB34HMA, B00QV2P7BI, B00HAZFWAQ, B00HAZFWAQ, B00J57OHWG, B00L1TX61O, B0006IRTU0, B004MWJLHK, B01EJA4DLI, B00WNC13EA, B0049ESPU0, B0049ESPU0, B001NQHN7S, B013ID7O8G, B00PKBI47U, B00PKBI47U, B01KZS1IHK, B01MFG934M, B01N4EM5ML, B0744VCQ2T, B01ELIGSGQ, B00C1JZZZ8,\n",
      "\n"
     ]
    }
   ],
   "source": [
    "from __future__ import print_function\n",
    " \n",
    "print(\"Top terms per cluster:\")\n",
    "print()\n",
    "# 按离质心的距离排列聚类中心，由近到远\n",
    "order_centroids = km.cluster_centers_.argsort()[:, ::-1] \n",
    " \n",
    "for i in range(num_clusters):\n",
    "    print(\"Cluster %d titles:\" % i, end='')\n",
    "    for title in frame.ix[i]['title'].values.tolist():\n",
    "        print(' %s,' % title, end='')\n",
    "    print() # 空行\n",
    "    print() # 空行"
   ]
  },
  {
   "cell_type": "code",
   "execution_count": 44,
   "metadata": {},
   "outputs": [
    {
     "name": "stdout",
     "output_type": "stream",
     "text": [
      "Top terms per cluster:\n",
      "\n",
      "Cluster 0: littl, 's, fun, realli, like, use, play, just, product, bought, set, nice, kid, bit, time, son, toy, make, look, qualiti, grandson, love, happi, price, recommend, christma, old, great, veri, good, year, daughter, n't, present, gift, year old,\n",
      "\n",
      "Cluster 1: veri, good, happi, love, qualiti, product, littl, nice, toy, great, son, price, bought, use, recommend, play, 's, time, grandson, look, just, kid, like, make, fun, bit, realli, old, set, christma, n't, daughter, year, present, year old, gift,\n",
      "\n",
      "Cluster 2: n't, 's, veri, use, realli, good, just, love, like, great, look, play, product, bought, littl, kid, toy, make, time, bit, daughter, christma, fun, son, old, qualiti, price, recommend, nice, set, year, present, grandson, happi, year old, gift,\n",
      "\n",
      "Cluster 3: daughter, love, great, bought, 's, veri, good, littl, realli, play, like, just, christma, toy, happi, look, time, qualiti, bit, price, set, product, make, fun, use, old, recommend, present, nice, n't, year, kid, son, gift, year old, grandson,\n",
      "\n",
      "Cluster 4: great, love, fun, littl, product, price, toy, set, kid, son, play, qualiti, bought, grandson, christma, look, realli, time, 's, just, recommend, use, make, old, bit, nice, like, daughter, veri, happi, n't, good, year, gift, present, year old,\n",
      "\n",
      "Cluster 5: good, qualiti, price, love, look, product, fun, realli, kid, littl, great, toy, bought, 's, time, son, play, like, set, just, use, christma, nice, bit, grandson, make, old, recommend, year, veri, happi, daughter, n't, present, year old, gift,\n",
      "\n",
      "Cluster 6: love, grandson, son, littl, bought, kid, toy, play, christma, 's, old, just, realli, recommend, time, set, use, qualiti, make, fun, product, nice, bit, price, look, like, great, veri, year, n't, present, good, happi, daughter, gift, year old,\n",
      "\n",
      "Cluster 7: gift, bought, love, great, christma, littl, veri, good, look, happi, qualiti, nice, 's, play, price, fun, daughter, like, realli, son, grandson, toy, product, n't, make, present, bit, just, time, set, kid, use, recommend, year, old, year old,\n",
      "\n",
      "Cluster 8: year, year old, old, love, bought, great, veri, 's, son, good, play, realli, christma, use, grandson, littl, fun, toy, present, just, n't, daughter, gift, qualiti, set, like, make, look, time, recommend, bit, product, happi, nice, price, kid,\n",
      "\n",
      "Cluster 9: present, christma, bought, love, look, good, great, veri, son, grandson, 's, littl, daughter, n't, realli, use, qualiti, fun, happi, product, play, price, like, nice, just, time, recommend, make, toy, old, set, kid, year, bit, year old, gift,\n",
      "\n"
     ]
    }
   ],
   "source": [
    "from __future__ import print_function\n",
    " \n",
    "print(\"Top terms per cluster:\")\n",
    "print()\n",
    "# 按离质心的距离排列聚类中心，由近到远\n",
    "order_centroids = km.cluster_centers_.argsort()[:, ::-1] \n",
    "# print(order_centroids)\n",
    "for i in range(num_clusters):\n",
    "    print(\"Cluster %d:\" % i, end='')\n",
    "    time.sleep(1)\n",
    "    for ind in order_centroids[i, :50]: # 每个聚类选 10 个词\n",
    "        print(' %s' % word[ind]  , end=',')\n",
    "    print() # 空行\n",
    "    print() # 空行"
   ]
  },
  {
   "cell_type": "markdown",
   "metadata": {},
   "source": [
    "## LDA"
   ]
  },
  {
   "cell_type": "code",
   "execution_count": 16,
   "metadata": {
    "collapsed": true
   },
   "outputs": [],
   "source": [
    "from sklearn.decomposition import LatentDirichletAllocation"
   ]
  },
  {
   "cell_type": "code",
   "execution_count": 17,
   "metadata": {
    "collapsed": true
   },
   "outputs": [],
   "source": [
    "n_topics = 10\n",
    "lda = LatentDirichletAllocation(n_topics=n_topics, max_iter=50,\n",
    "                                learning_method='online',\n",
    "                                learning_offset=50.,\n",
    "                                random_state=0)"
   ]
  },
  {
   "cell_type": "code",
   "execution_count": 18,
   "metadata": {},
   "outputs": [
    {
     "name": "stderr",
     "output_type": "stream",
     "text": [
      "/usr/local/lib/python3.6/site-packages/sklearn/decomposition/online_lda.py:294: DeprecationWarning: n_topics has been renamed to n_components in version 0.19 and will be removed in 0.21\n",
      "  DeprecationWarning)\n"
     ]
    },
    {
     "data": {
      "text/plain": [
       "LatentDirichletAllocation(batch_size=128, doc_topic_prior=None,\n",
       "             evaluate_every=-1, learning_decay=0.7,\n",
       "             learning_method='online', learning_offset=50.0,\n",
       "             max_doc_update_iter=100, max_iter=50, mean_change_tol=0.001,\n",
       "             n_components=10, n_jobs=1, n_topics=10, perp_tol=0.1,\n",
       "             random_state=0, topic_word_prior=None,\n",
       "             total_samples=1000000.0, verbose=0)"
      ]
     },
     "execution_count": 18,
     "metadata": {},
     "output_type": "execute_result"
    }
   ],
   "source": [
    "lda.fit(tf)"
   ]
  },
  {
   "cell_type": "code",
   "execution_count": 19,
   "metadata": {},
   "outputs": [
    {
     "ename": "NameError",
     "evalue": "name 'corpus' is not defined",
     "output_type": "error",
     "traceback": [
      "\u001b[0;31m---------------------------------------------------------------------------\u001b[0m",
      "\u001b[0;31mNameError\u001b[0m                                 Traceback (most recent call last)",
      "\u001b[0;32m<ipython-input-19-799d245a6e2b>\u001b[0m in \u001b[0;36m<module>\u001b[0;34m()\u001b[0m\n\u001b[0;32m----> 1\u001b[0;31m \u001b[0mcorpus_lda\u001b[0m \u001b[0;34m=\u001b[0m \u001b[0mlda\u001b[0m\u001b[0;34m[\u001b[0m\u001b[0mcorpus\u001b[0m\u001b[0;34m]\u001b[0m\u001b[0;34m\u001b[0m\u001b[0m\n\u001b[0m\u001b[1;32m      2\u001b[0m \u001b[0mlda\u001b[0m\u001b[0;34m.\u001b[0m\u001b[0mprint_topics\u001b[0m\u001b[0;34m(\u001b[0m\u001b[0;36m2\u001b[0m\u001b[0;34m)\u001b[0m\u001b[0;34m\u001b[0m\u001b[0m\n\u001b[1;32m      3\u001b[0m \u001b[0;32mfor\u001b[0m \u001b[0mdoc\u001b[0m \u001b[0;32min\u001b[0m \u001b[0mcorpus_lda\u001b[0m\u001b[0;34m:\u001b[0m\u001b[0;34m\u001b[0m\u001b[0m\n\u001b[1;32m      4\u001b[0m     \u001b[0mprint\u001b[0m\u001b[0;34m(\u001b[0m\u001b[0mdoc\u001b[0m\u001b[0;34m)\u001b[0m\u001b[0;34m\u001b[0m\u001b[0m\n",
      "\u001b[0;31mNameError\u001b[0m: name 'corpus' is not defined"
     ]
    }
   ],
   "source": [
    "corpus_lda = lda[corpus]  \n",
    "lda.print_topics(2)  \n",
    "for doc in corpus_lda:  \n",
    "    print(doc)  "
   ]
  },
  {
   "cell_type": "code",
   "execution_count": null,
   "metadata": {},
   "outputs": [],
   "source": [
    "def print_top_words(model, feature_names, n_top_words):\n",
    "    for topic_idx, topic in enumerate(model.components_):\n",
    "        print(\"Topic #%d:\" % topic_idx)\n",
    "        print(\" , \".join([feature_names[i]\n",
    "                        for i in topic.argsort()[:-n_top_words - 1:-1]]))\n",
    "        print([model.components_[topic_idx][i-1] for i in topic.argsort()[:-n_top_words - 1:-1]])\n",
    "        \n",
    "    print()"
   ]
  },
  {
   "cell_type": "code",
   "execution_count": null,
   "metadata": {},
   "outputs": [],
   "source": [
    "n_top_words = 30"
   ]
  },
  {
   "cell_type": "code",
   "execution_count": null,
   "metadata": {},
   "outputs": [],
   "source": [
    "tf_feature_names = vectorizer.get_feature_names()\n",
    "print_top_words(lda, tf_feature_names, n_top_words)"
   ]
  },
  {
   "cell_type": "code",
   "execution_count": null,
   "metadata": {},
   "outputs": [],
   "source": [
    "import pyLDAvis\n",
    "import pyLDAvis.sklearn\n",
    "pyLDAvis.enable_notebook()\n",
    "pyLDAvis.sklearn.prepare(lda, tf, vectorizer)"
   ]
  },
  {
   "cell_type": "code",
   "execution_count": null,
   "metadata": {
    "collapsed": true
   },
   "outputs": [],
   "source": []
  },
  {
   "cell_type": "code",
   "execution_count": null,
   "metadata": {
    "collapsed": true
   },
   "outputs": [],
   "source": []
  },
  {
   "cell_type": "code",
   "execution_count": null,
   "metadata": {
    "collapsed": true
   },
   "outputs": [],
   "source": []
  }
 ],
 "metadata": {
  "kernelspec": {
   "display_name": "Python 3",
   "language": "python",
   "name": "python3"
  },
  "language_info": {
   "codemirror_mode": {
    "name": "ipython",
    "version": 3
   },
   "file_extension": ".py",
   "mimetype": "text/x-python",
   "name": "python",
   "nbconvert_exporter": "python",
   "pygments_lexer": "ipython3",
   "version": "3.6.1"
  }
 },
 "nbformat": 4,
 "nbformat_minor": 2
}
