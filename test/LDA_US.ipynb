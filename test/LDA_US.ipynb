{
 "cells": [
  {
   "cell_type": "code",
   "execution_count": 1,
   "metadata": {
    "collapsed": true
   },
   "outputs": [],
   "source": [
    "#导入要用到的模块\n",
    "import numpy as np\n",
    "import pandas as pd\n",
    "import nltk\n",
    "import re\n",
    "from bs4 import BeautifulSoup\n",
    "from sklearn import feature_extraction\n",
    "import numpy as np  \n",
    "import lda\n",
    "import lda.datasets \n",
    "import os    \n",
    "import sys  \n",
    "import matplotlib  \n",
    "import scipy  \n",
    "import matplotlib.pyplot as plt  \n",
    "from sklearn import feature_extraction    \n",
    "from sklearn.feature_extraction.text import TfidfTransformer    \n",
    "from sklearn.feature_extraction.text import CountVectorizer  \n",
    "from sklearn.feature_extraction.text import HashingVectorizer "
   ]
  },
  {
   "cell_type": "code",
   "execution_count": 2,
   "metadata": {
    "collapsed": true
   },
   "outputs": [],
   "source": [
    "review = open('../US.20180118.txt').read().split(','+'\\\"')"
   ]
  },
  {
   "cell_type": "code",
   "execution_count": 3,
   "metadata": {},
   "outputs": [
    {
     "data": {
      "text/plain": [
       "{'   assembl ',\n",
       " '   handl',\n",
       " ' actual',\n",
       " ' app',\n",
       " ' beware',\n",
       " ' cool',\n",
       " ' easy ',\n",
       " ' funky ',\n",
       " ' impressed',\n",
       " ' money',\n",
       " ' packing',\n",
       " ' perfect',\n",
       " ' pictur',\n",
       " ' price',\n",
       " ' qualiti',\n",
       " ' quickly',\n",
       " ' recommend',\n",
       " ' recommend ',\n",
       " ' slow',\n",
       " ' soft',\n",
       " ' time',\n",
       " ' togeth',\n",
       " ' verified',\n",
       " 'Amazon',\n",
       " 'Barbie',\n",
       " 'Disney',\n",
       " 'Funko',\n",
       " 'Hape',\n",
       " 'KidKraft',\n",
       " 'LEGO',\n",
       " 'Marvel',\n",
       " 'Spider-Man',\n",
       " 'admit',\n",
       " 'adorable',\n",
       " 'arrive',\n",
       " 'assembled',\n",
       " 'awesome',\n",
       " 'best',\n",
       " 'big',\n",
       " 'boring',\n",
       " 'brand',\n",
       " 'broke',\n",
       " 'carrying',\n",
       " 'certified',\n",
       " 'challenging',\n",
       " 'cheap',\n",
       " 'colorful',\n",
       " 'comfortable',\n",
       " 'confusing',\n",
       " 'craft',\n",
       " 'creative',\n",
       " 'cuddly ',\n",
       " 'cute ',\n",
       " 'description',\n",
       " 'design',\n",
       " 'detail',\n",
       " 'disappointed',\n",
       " 'disgusting',\n",
       " 'emoji ',\n",
       " 'engaging',\n",
       " 'exactly ',\n",
       " 'excellent',\n",
       " 'excited',\n",
       " 'expect',\n",
       " 'expected',\n",
       " 'expensive',\n",
       " 'fake',\n",
       " 'fantastic',\n",
       " 'fascinated',\n",
       " 'fast',\n",
       " 'favorite',\n",
       " 'fossil ',\n",
       " 'free',\n",
       " 'fun',\n",
       " 'glad',\n",
       " 'glad ',\n",
       " 'gorgeous ',\n",
       " 'great',\n",
       " 'happi',\n",
       " 'happy',\n",
       " 'hilarious',\n",
       " 'hit',\n",
       " 'hold',\n",
       " 'instructions',\n",
       " 'interactive',\n",
       " 'logo',\n",
       " 'love',\n",
       " 'mark',\n",
       " 'messing',\n",
       " 'nasty',\n",
       " 'nice ',\n",
       " 'obsessed',\n",
       " 'overpriced',\n",
       " 'party',\n",
       " 'peeling',\n",
       " 'perfect',\n",
       " 'photo',\n",
       " 'picture',\n",
       " 'plastic',\n",
       " 'quality',\n",
       " 'receiv',\n",
       " 'refuse',\n",
       " 'remarkable',\n",
       " 'representation',\n",
       " 'review',\n",
       " 'ridiculous',\n",
       " 'rough',\n",
       " 'schedule',\n",
       " 'seller',\n",
       " 'setup',\n",
       " 'shipping',\n",
       " 'simple',\n",
       " 'size',\n",
       " 'small',\n",
       " 'smashed',\n",
       " 'solid',\n",
       " 'soon',\n",
       " 'spacious ',\n",
       " 'speed',\n",
       " 'squishy',\n",
       " 'style',\n",
       " 'time',\n",
       " 'tiny',\n",
       " 'unfortunately',\n",
       " 'useful',\n",
       " 'value',\n",
       " 'violence',\n",
       " 'weight ',\n",
       " 'well-made'}"
      ]
     },
     "execution_count": 3,
     "metadata": {},
     "output_type": "execute_result"
    }
   ],
   "source": [
    "voc = open('../vocab_US.txt').read().split('\\t')\n",
    "voc = set(voc)\n",
    "voc"
   ]
  },
  {
   "cell_type": "code",
   "execution_count": 4,
   "metadata": {
    "collapsed": true
   },
   "outputs": [],
   "source": [
    "# 载入 nltk 的英文停用词作为“stopwords”变量\n",
    "stopwords = nltk.corpus.stopwords.words('english')"
   ]
  },
  {
   "cell_type": "code",
   "execution_count": 5,
   "metadata": {
    "collapsed": true
   },
   "outputs": [],
   "source": [
    "# 载入 nltk 的 SnowballStemmer 作为“stemmer”变量(把一些動詞形式轉換成原型)\n",
    "from nltk.stem.snowball import SnowballStemmer\n",
    "stemmer = SnowballStemmer(\"english\")"
   ]
  },
  {
   "cell_type": "code",
   "execution_count": 6,
   "metadata": {
    "collapsed": true
   },
   "outputs": [],
   "source": [
    "#分词\n",
    "import string\n",
    "def strip_proppers(text):\n",
    "    # first tokenize by sentence, then by word to ensure that punctuation is caught as it's own token\n",
    "    tokens = [word for sent in nltk.sent_tokenize(text) for word in nltk.word_tokenize(sent) if word.islower()]\n",
    "    return \"\".join([\" \"+i if not i.startswith(\"'\") and i not in string.punctuation else i for i in tokens]).strip()"
   ]
  },
  {
   "cell_type": "code",
   "execution_count": 7,
   "metadata": {
    "collapsed": true
   },
   "outputs": [],
   "source": [
    "# 分詞器\n",
    "def tokenize_and_stem(text):\n",
    "    tokens = [word.lower() for sent in nltk.sent_tokenize(text) for word in nltk.word_tokenize(sent)]\n",
    "    filtered_tokens = []\n",
    "    #过滤掉非字母，比如数字和间隔等\n",
    "    for token in tokens:\n",
    "        if re.search('[a-zA-Z]', token):\n",
    "            filtered_tokens.append(token)\n",
    "    stems = [stemmer.stem(t) for t in filtered_tokens]\n",
    "    return stems"
   ]
  },
  {
   "cell_type": "code",
   "execution_count": 8,
   "metadata": {
    "collapsed": true
   },
   "outputs": [],
   "source": [
    "#文本准备\n",
    "from gensim import corpora, models, similarities\n",
    "\n",
    "#remove proper names\n",
    "preprocess = [strip_proppers(doc) for doc in review]"
   ]
  },
  {
   "cell_type": "code",
   "execution_count": 9,
   "metadata": {
    "collapsed": true
   },
   "outputs": [],
   "source": [
    "tokenized_text = [tokenize_and_stem(text) for text in preprocess]"
   ]
  },
  {
   "cell_type": "code",
   "execution_count": 10,
   "metadata": {
    "collapsed": true
   },
   "outputs": [],
   "source": [
    "#text\n",
    "# texts = [[word for word in text if word not in stopwords] for text in tokenized_text]"
   ]
  },
  {
   "cell_type": "code",
   "execution_count": 11,
   "metadata": {},
   "outputs": [],
   "source": [
    "#voc\n",
    "texts = [[word for word in text if word not in stopwords] for text in tokenized_text]"
   ]
  },
  {
   "cell_type": "code",
   "execution_count": 12,
   "metadata": {
    "collapsed": true
   },
   "outputs": [],
   "source": [
    "#词典和语料库准备\n",
    "dictionary = corpora.Dictionary(texts) #构造词典\n",
    "# dictionary.filter_extremes(no_below=1, no_above=0.8)#去高频词\n",
    "\n",
    "corpus = [dictionary.doc2bow(text) for text in texts] #构造语料库"
   ]
  },
  {
   "cell_type": "code",
   "execution_count": 13,
   "metadata": {},
   "outputs": [
    {
     "data": {
      "text/plain": [
       "3728"
      ]
     },
     "execution_count": 13,
     "metadata": {},
     "output_type": "execute_result"
    }
   ],
   "source": [
    "len(corpus)"
   ]
  },
  {
   "cell_type": "code",
   "execution_count": 14,
   "metadata": {},
   "outputs": [
    {
     "data": {
      "text/plain": [
       "[(0, 1),\n",
       " (1, 1),\n",
       " (2, 1),\n",
       " (3, 1),\n",
       " (4, 1),\n",
       " (5, 1),\n",
       " (6, 1),\n",
       " (7, 1),\n",
       " (8, 1),\n",
       " (9, 1),\n",
       " (10, 1),\n",
       " (11, 1),\n",
       " (12, 1),\n",
       " (13, 1),\n",
       " (14, 1),\n",
       " (15, 1),\n",
       " (16, 1),\n",
       " (17, 1),\n",
       " (18, 2),\n",
       " (19, 1),\n",
       " (20, 1),\n",
       " (21, 1),\n",
       " (22, 1),\n",
       " (23, 1)]"
      ]
     },
     "execution_count": 14,
     "metadata": {},
     "output_type": "execute_result"
    }
   ],
   "source": [
    "corpus[0]"
   ]
  },
  {
   "cell_type": "code",
   "execution_count": 15,
   "metadata": {},
   "outputs": [
    {
     "name": "stdout",
     "output_type": "stream",
     "text": [
      "CPU times: user 11min 45s, sys: 7.19 s, total: 11min 52s\n",
      "Wall time: 12min 57s\n"
     ]
    }
   ],
   "source": [
    "#训练一个LDA模型\n",
    "%time lda = models.LdaModel(corpus, num_topics=10, id2word=dictionary, update_every=5,passes=50)"
   ]
  },
  {
   "cell_type": "code",
   "execution_count": 16,
   "metadata": {},
   "outputs": [
    {
     "name": "stdout",
     "output_type": "stream",
     "text": [
      "[(3, 0.58218771), (8, 0.3870368)]\n"
     ]
    }
   ],
   "source": [
    "print(lda[corpus[0]])"
   ]
  },
  {
   "cell_type": "code",
   "execution_count": 17,
   "metadata": {
    "collapsed": true
   },
   "outputs": [],
   "source": [
    "topics = lda.print_topics(10)#结果中的主题"
   ]
  },
  {
   "cell_type": "code",
   "execution_count": 18,
   "metadata": {},
   "outputs": [
    {
     "data": {
      "text/plain": [
       "'0.027*\"love\" + 0.022*\"\\'s\" + 0.015*\"one\" + 0.014*\"n\\'t\" + 0.013*\"cute\" + 0.013*\"gift\" + 0.011*\"littl\" + 0.011*\"great\" + 0.010*\"daughter\" + 0.010*\"veri\" + 0.010*\"like\" + 0.008*\"got\" + 0.008*\"product\" + 0.008*\"look\" + 0.008*\"price\" + 0.007*\"get\" + 0.007*\"perfect\" + 0.007*\"good\" + 0.007*\"qualiti\" + 0.006*\"kid\" + 0.006*\"bought\" + 0.006*\"birthday\" + 0.006*\"old\" + 0.006*\"would\" + 0.006*\"soft\" + 0.006*\"made\" + 0.006*\"realli\" + 0.006*\"expect\" + 0.005*\"year\" + 0.005*\"purchas\" + 0.005*\"happi\" + 0.005*\"came\" + 0.005*\"toy\" + 0.005*\"son\" + 0.005*\"play\" + 0.005*\"buy\" + 0.005*\"box\" + 0.005*\"packag\" + 0.005*\"pictur\" + 0.005*\"super\" + 0.005*\"well\" + 0.005*\"order\" + 0.004*\"open\" + 0.004*\"much\" + 0.004*\"work\" + 0.004*\"doe\" + 0.004*\"receiv\" + 0.004*\"know\" + 0.004*\"want\" + 0.004*\"still\" + 0.004*\"size\" + 0.004*\"becaus\" + 0.004*\"day\" + 0.004*\"figur\" + 0.004*\"pretti\" + 0.004*\"collect\" + 0.004*\"even\" + 0.004*\"make\" + 0.004*\"item\" + 0.003*\"arriv\" + 0.003*\"sure\" + 0.003*\"parti\" + 0.003*\"girl\" + 0.003*\"ador\" + 0.003*\"give\" + 0.003*\"ship\" + 0.003*\"friend\" + 0.003*\"think\" + 0.003*\"nice\" + 0.003*\"disappoint\" + 0.003*\"niec\" + 0.003*\"granddaught\" + 0.003*\"say\" + 0.003*\"time\" + 0.003*\"small\" + 0.003*\"paint\" + 0.003*\"smell\" + 0.003*\"bear\" + 0.003*\"new\" + 0.003*\"review\" + 0.003*\"present\" + 0.003*\"recommend\" + 0.002*\"go\" + 0.002*\"doll\" + 0.002*\"excit\" + 0.002*\"version\" + 0.002*\"big\" + 0.002*\"actual\" + 0.002*\"thought\" + 0.002*\"also\" + 0.002*\"back\" + 0.002*\"real\" + 0.002*\"head\" + 0.002*\"though\" + 0.002*\"fake\" + 0.002*\"onli\" + 0.002*\"could\" + 0.002*\"squishi\" + 0.002*\"worth\" + 0.002*\"exact\"'"
      ]
     },
     "execution_count": 18,
     "metadata": {},
     "output_type": "execute_result"
    }
   ],
   "source": [
    "lda.print_topic(3, topn=100)"
   ]
  },
  {
   "cell_type": "code",
   "execution_count": 19,
   "metadata": {},
   "outputs": [
    {
     "data": {
      "text/plain": [
       "[(0,\n",
       "  '0.014*\"n\\'t\" + 0.013*\"\\'s\" + 0.012*\"one\" + 0.012*\"use\" + 0.011*\"get\" + 0.010*\"year\" + 0.009*\"veri\" + 0.009*\"like\" + 0.008*\"wheel\" + 0.008*\"ride\"'),\n",
       " (1,\n",
       "  '0.039*\"color\" + 0.018*\"use\" + 0.012*\"marker\" + 0.011*\"n\\'t\" + 0.010*\"like\" + 0.009*\"paper\" + 0.009*\"littl\" + 0.009*\"great\" + 0.008*\"water\" + 0.008*\"set\"'),\n",
       " (2,\n",
       "  '0.022*\"\\'s\" + 0.020*\"n\\'t\" + 0.017*\"toy\" + 0.013*\"babi\" + 0.011*\"old\" + 0.010*\"well\" + 0.010*\"water\" + 0.010*\"bath\" + 0.009*\"work\" + 0.008*\"month\"'),\n",
       " (3,\n",
       "  '0.027*\"love\" + 0.022*\"\\'s\" + 0.015*\"one\" + 0.014*\"n\\'t\" + 0.013*\"cute\" + 0.013*\"gift\" + 0.011*\"littl\" + 0.011*\"great\" + 0.010*\"daughter\" + 0.010*\"veri\"'),\n",
       " (4,\n",
       "  '0.018*\"gun\" + 0.014*\"dart\" + 0.011*\"veri\" + 0.009*\"use\" + 0.009*\"n\\'t\" + 0.009*\"wagon\" + 0.008*\"nerf\" + 0.008*\"shoot\" + 0.008*\"one\" + 0.008*\"blaster\"'),\n",
       " (5,\n",
       "  '0.031*\"love\" + 0.021*\"toy\" + 0.020*\"old\" + 0.019*\"play\" + 0.014*\"year\" + 0.011*\"\\'s\" + 0.010*\"great\" + 0.010*\"littl\" + 0.010*\"one\" + 0.009*\"like\"'),\n",
       " (6,\n",
       "  '0.029*\"doll\" + 0.013*\"bubbl\" + 0.012*\"n\\'t\" + 0.011*\"ball\" + 0.011*\"\\'s\" + 0.010*\"like\" + 0.009*\"look\" + 0.008*\"qualiti\" + 0.008*\"book\" + 0.007*\"one\"'),\n",
       " (7,\n",
       "  '0.021*\"love\" + 0.020*\"set\" + 0.012*\"one\" + 0.011*\"old\" + 0.010*\"like\" + 0.010*\"\\'s\" + 0.010*\"n\\'t\" + 0.009*\"littl\" + 0.009*\"play\" + 0.009*\"year\"'),\n",
       " (8,\n",
       "  '0.047*\"puzzl\" + 0.027*\"piec\" + 0.014*\"n\\'t\" + 0.012*\"one\" + 0.011*\"togeth\" + 0.011*\"\\'s\" + 0.011*\"put\" + 0.009*\"like\" + 0.008*\"love\" + 0.008*\"would\"'),\n",
       " (9,\n",
       "  '0.017*\"paint\" + 0.012*\"draw\" + 0.010*\"use\" + 0.009*\"\\'s\" + 0.008*\"kit\" + 0.008*\"crystal\" + 0.008*\"slide\" + 0.007*\"rock\" + 0.007*\"come\" + 0.007*\"n\\'t\"')]"
      ]
     },
     "execution_count": 19,
     "metadata": {},
     "output_type": "execute_result"
    }
   ],
   "source": [
    "topics #主题"
   ]
  },
  {
   "cell_type": "code",
   "execution_count": 20,
   "metadata": {
    "collapsed": true
   },
   "outputs": [],
   "source": [
    "topics_matrix = lda.show_topics(formatted=False,num_words=20)"
   ]
  },
  {
   "cell_type": "code",
   "execution_count": 21,
   "metadata": {},
   "outputs": [
    {
     "data": {
      "text/plain": [
       "[(0,\n",
       "  [(\"n't\", 0.014482182),\n",
       "   (\"'s\", 0.012800287),\n",
       "   ('one', 0.011909137),\n",
       "   ('use', 0.011806506),\n",
       "   ('get', 0.011295191),\n",
       "   ('year', 0.01045979),\n",
       "   ('veri', 0.0091683436),\n",
       "   ('like', 0.0086478097),\n",
       "   ('wheel', 0.0078730639),\n",
       "   ('ride', 0.0078698229),\n",
       "   ('old', 0.0076374584),\n",
       "   ('love', 0.0071162214),\n",
       "   ('kid', 0.0068469276),\n",
       "   ('great', 0.0067579173),\n",
       "   ('would', 0.0064065093),\n",
       "   ('scooter', 0.0063146441),\n",
       "   ('bike', 0.0061832438),\n",
       "   ('daughter', 0.0060586617),\n",
       "   ('littl', 0.0057878182),\n",
       "   ('fit', 0.0056720874)]),\n",
       " (1,\n",
       "  [('color', 0.038936321),\n",
       "   ('use', 0.018015593),\n",
       "   ('marker', 0.012246297),\n",
       "   (\"n't\", 0.010520052),\n",
       "   ('like', 0.0097324755),\n",
       "   ('paper', 0.0094160587),\n",
       "   ('littl', 0.0093773995),\n",
       "   ('great', 0.0089698536),\n",
       "   ('water', 0.0082243979),\n",
       "   ('set', 0.0081822099),\n",
       "   ('veri', 0.0080565251),\n",
       "   (\"'s\", 0.0075350506),\n",
       "   ('work', 0.0072164559),\n",
       "   ('pencil', 0.0069463584),\n",
       "   ('kid', 0.0069025788),\n",
       "   ('project', 0.0067478972),\n",
       "   ('dri', 0.0067180363),\n",
       "   ('get', 0.0063913427),\n",
       "   ('kit', 0.0062228981),\n",
       "   ('would', 0.005872739)]),\n",
       " (2,\n",
       "  [(\"'s\", 0.022155775),\n",
       "   (\"n't\", 0.019740926),\n",
       "   ('toy', 0.016883567),\n",
       "   ('babi', 0.013348836),\n",
       "   ('old', 0.010660566),\n",
       "   ('well', 0.010280244),\n",
       "   ('water', 0.010120462),\n",
       "   ('bath', 0.0096703405),\n",
       "   ('work', 0.008897448),\n",
       "   ('month', 0.0082312142),\n",
       "   ('veri', 0.0081757931),\n",
       "   ('use', 0.0077454755),\n",
       "   ('doe', 0.0072670896),\n",
       "   ('kid', 0.0069268681),\n",
       "   ('would', 0.006866307),\n",
       "   ('easi', 0.006685229),\n",
       "   ('year', 0.0064603561),\n",
       "   ('one', 0.0059957332),\n",
       "   ('product', 0.005943005),\n",
       "   ('teeth', 0.0059304223)]),\n",
       " (3,\n",
       "  [('love', 0.02702076),\n",
       "   (\"'s\", 0.021953532),\n",
       "   ('one', 0.014608542),\n",
       "   (\"n't\", 0.014273593),\n",
       "   ('cute', 0.013160317),\n",
       "   ('gift', 0.012661469),\n",
       "   ('littl', 0.010849309),\n",
       "   ('great', 0.010586123),\n",
       "   ('daughter', 0.010328846),\n",
       "   ('veri', 0.010228511),\n",
       "   ('like', 0.0098520909),\n",
       "   ('got', 0.0082616014),\n",
       "   ('product', 0.0079037892),\n",
       "   ('look', 0.007668837),\n",
       "   ('price', 0.0076547065),\n",
       "   ('get', 0.0072997496),\n",
       "   ('perfect', 0.0069944742),\n",
       "   ('good', 0.0067097642),\n",
       "   ('qualiti', 0.0065777665),\n",
       "   ('kid', 0.0064559807)]),\n",
       " (4,\n",
       "  [('gun', 0.017711677),\n",
       "   ('dart', 0.013811114),\n",
       "   ('veri', 0.010522585),\n",
       "   ('use', 0.0093963174),\n",
       "   (\"n't\", 0.0091735832),\n",
       "   ('wagon', 0.0089683458),\n",
       "   ('nerf', 0.0082879756),\n",
       "   ('shoot', 0.0080871778),\n",
       "   ('one', 0.0078620603),\n",
       "   ('blaster', 0.0078177499),\n",
       "   (\"'s\", 0.0067673163),\n",
       "   ('kid', 0.0064112092),\n",
       "   ('get', 0.006410474),\n",
       "   ('make', 0.0062624644),\n",
       "   ('like', 0.0060452688),\n",
       "   ('would', 0.0055239461),\n",
       "   ('back', 0.0054646023),\n",
       "   ('well', 0.0053529469),\n",
       "   ('time', 0.0052994797),\n",
       "   ('side', 0.0052915029)]),\n",
       " (5,\n",
       "  [('love', 0.030743292),\n",
       "   ('toy', 0.020572061),\n",
       "   ('old', 0.020240428),\n",
       "   ('play', 0.01913891),\n",
       "   ('year', 0.013939342),\n",
       "   (\"'s\", 0.011136428),\n",
       "   ('great', 0.010009148),\n",
       "   ('littl', 0.0099802036),\n",
       "   ('one', 0.0095432615),\n",
       "   ('like', 0.0093978569),\n",
       "   ('get', 0.0088951653),\n",
       "   ('time', 0.0083390493),\n",
       "   ('use', 0.0082059167),\n",
       "   ('fun', 0.0080890059),\n",
       "   ('kid', 0.0079036029),\n",
       "   ('daughter', 0.0077940854),\n",
       "   ('month', 0.0072193556),\n",
       "   ('son', 0.0071944869),\n",
       "   (\"n't\", 0.0067633153),\n",
       "   ('make', 0.0064629777)]),\n",
       " (6,\n",
       "  [('doll', 0.02871602),\n",
       "   ('bubbl', 0.012914667),\n",
       "   (\"n't\", 0.012399985),\n",
       "   ('ball', 0.011078229),\n",
       "   (\"'s\", 0.010837527),\n",
       "   ('like', 0.0096305106),\n",
       "   ('look', 0.0091344854),\n",
       "   ('qualiti', 0.0080421539),\n",
       "   ('book', 0.007733651),\n",
       "   ('one', 0.0072884229),\n",
       "   ('use', 0.0072138649),\n",
       "   ('doe', 0.0066762441),\n",
       "   ('good', 0.0058643408),\n",
       "   ('get', 0.0056849001),\n",
       "   ('work', 0.0054794359),\n",
       "   ('bottl', 0.0051569077),\n",
       "   ('size', 0.0051470515),\n",
       "   ('glue', 0.0050160848),\n",
       "   ('see', 0.0050079529),\n",
       "   ('buy', 0.0049697496)]),\n",
       " (7,\n",
       "  [('love', 0.020859763),\n",
       "   ('set', 0.020343944),\n",
       "   ('one', 0.012124436),\n",
       "   ('old', 0.010948913),\n",
       "   ('like', 0.010422449),\n",
       "   (\"'s\", 0.0098564439),\n",
       "   (\"n't\", 0.0097728055),\n",
       "   ('littl', 0.0092501407),\n",
       "   ('play', 0.0086488714),\n",
       "   ('year', 0.0085118627),\n",
       "   ('build', 0.007887003),\n",
       "   ('toy', 0.0077251061),\n",
       "   ('would', 0.0072474517),\n",
       "   ('great', 0.0067023095),\n",
       "   ('work', 0.0066311043),\n",
       "   ('realli', 0.0065781185),\n",
       "   ('kid', 0.0065590586),\n",
       "   ('thing', 0.0064575071),\n",
       "   ('use', 0.0061938777),\n",
       "   ('batteri', 0.0060965498)]),\n",
       " (8,\n",
       "  [('puzzl', 0.047128689),\n",
       "   ('piec', 0.02713952),\n",
       "   (\"n't\", 0.013914249),\n",
       "   ('one', 0.011722734),\n",
       "   ('togeth', 0.0112781),\n",
       "   (\"'s\", 0.010857452),\n",
       "   ('put', 0.010565868),\n",
       "   ('like', 0.0085342983),\n",
       "   ('love', 0.0081707723),\n",
       "   ('would', 0.0081534209),\n",
       "   ('veri', 0.0080855368),\n",
       "   ('product', 0.00775071),\n",
       "   ('work', 0.0071004434),\n",
       "   ('fit', 0.0070856367),\n",
       "   ('use', 0.0067821997),\n",
       "   ('great', 0.0066515296),\n",
       "   ('cube', 0.0065653627),\n",
       "   ('qualiti', 0.0065132626),\n",
       "   ('time', 0.0061116158),\n",
       "   ('get', 0.0060764803)]),\n",
       " (9,\n",
       "  [('paint', 0.017451691),\n",
       "   ('draw', 0.011959937),\n",
       "   ('use', 0.010219911),\n",
       "   (\"'s\", 0.0089168996),\n",
       "   ('kit', 0.0084175989),\n",
       "   ('crystal', 0.0083101122),\n",
       "   ('slide', 0.0079888711),\n",
       "   ('rock', 0.007360057),\n",
       "   ('come', 0.0065452023),\n",
       "   (\"n't\", 0.0065416433),\n",
       "   ('experi', 0.0064530587),\n",
       "   ('love', 0.0063503059),\n",
       "   ('kid', 0.0061658747),\n",
       "   ('like', 0.0061343224),\n",
       "   ('brush', 0.0059823589),\n",
       "   ('make', 0.0058277724),\n",
       "   ('veri', 0.0056604957),\n",
       "   ('daughter', 0.0055859708),\n",
       "   ('color', 0.0053592222),\n",
       "   ('good', 0.0053138472)])]"
      ]
     },
     "execution_count": 21,
     "metadata": {},
     "output_type": "execute_result"
    }
   ],
   "source": [
    "topics_matrix"
   ]
  },
  {
   "cell_type": "code",
   "execution_count": null,
   "metadata": {
    "collapsed": true
   },
   "outputs": [],
   "source": []
  }
 ],
 "metadata": {
  "kernelspec": {
   "display_name": "Python 3",
   "language": "python",
   "name": "python3"
  },
  "language_info": {
   "codemirror_mode": {
    "name": "ipython",
    "version": 3
   },
   "file_extension": ".py",
   "mimetype": "text/x-python",
   "name": "python",
   "nbconvert_exporter": "python",
   "pygments_lexer": "ipython3",
   "version": "3.6.1"
  }
 },
 "nbformat": 4,
 "nbformat_minor": 2
}
