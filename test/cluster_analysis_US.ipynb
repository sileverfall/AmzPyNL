{
 "cells": [
  {
   "cell_type": "markdown",
   "metadata": {},
   "source": [
    "## 準備工作"
   ]
  },
  {
   "cell_type": "code",
   "execution_count": 1,
   "metadata": {
    "collapsed": true
   },
   "outputs": [],
   "source": [
    "import numpy as np\n",
    "import pandas as pd\n",
    "import nltk\n",
    "from bs4 import BeautifulSoup\n",
    "import re\n",
    "import os\n",
    "import codecs\n",
    "from sklearn import feature_extraction\n",
    "import mpld3"
   ]
  },
  {
   "cell_type": "code",
   "execution_count": 35,
   "metadata": {},
   "outputs": [
    {
     "data": {
      "text/plain": [
       "6880"
      ]
     },
     "execution_count": 35,
     "metadata": {},
     "output_type": "execute_result"
    }
   ],
   "source": [
    "#title\n",
    "asins = open('../US_20171130/pre/ASIN.csv').read().split('\\n')\n",
    "ASINs=[]\n",
    "for item in asins:\n",
    "    a = item.split(',')\n",
    "    ASINs += a\n",
    "len(ASINs)"
   ]
  },
  {
   "cell_type": "code",
   "execution_count": 36,
   "metadata": {},
   "outputs": [
    {
     "data": {
      "text/plain": [
       "6880"
      ]
     },
     "execution_count": 36,
     "metadata": {},
     "output_type": "execute_result"
    }
   ],
   "source": [
    "#synopses\n",
    "review = open('../US_20171130/pre/review.csv').read().split('\\n')\n",
    "# review[0]\n",
    "Reviews=[]\n",
    "for rev in review:\n",
    "    a = rev.split('|')\n",
    "   \n",
    "    Reviews += a \n",
    "Reviews[0]\n",
    "Reviews = Reviews[:-1]\n",
    "len(Reviews)"
   ]
  },
  {
   "cell_type": "code",
   "execution_count": 37,
   "metadata": {},
   "outputs": [
    {
     "data": {
      "text/plain": [
       "6880"
      ]
     },
     "execution_count": 37,
     "metadata": {},
     "output_type": "execute_result"
    }
   ],
   "source": [
    "#genres\n",
    "categorys = open('../US_20171130/pre/categories.csv').read().split('\\n')\n",
    "\n",
    "Category=[]\n",
    "for cat in categorys:\n",
    "    a = cat.split(',')\n",
    "    Category += a\n",
    "len(Category)"
   ]
  },
  {
   "cell_type": "code",
   "execution_count": 39,
   "metadata": {},
   "outputs": [
    {
     "data": {
      "text/plain": [
       "6880"
      ]
     },
     "execution_count": 39,
     "metadata": {},
     "output_type": "execute_result"
    }
   ],
   "source": [
    "#ranks\n",
    "ranks = open('../US_20171130/pre/ranks.csv').read().split('\\n')\n",
    "ranks[0] = ranks[0].replace('\\ufeff','')\n",
    "Rank =[]\n",
    "for rank in ranks:\n",
    "    a = rank.split('\\t')\n",
    "    Rank += a\n",
    "    \n",
    "Ranks =[float(i) for i in Rank]  \n",
    "Ranks[0]\n",
    "len(Ranks)"
   ]
  },
  {
   "cell_type": "code",
   "execution_count": 7,
   "metadata": {
    "collapsed": true
   },
   "outputs": [],
   "source": [
    "# 载入 nltk 的英文停用词作为“stopwords”变量\n",
    "stopwords = nltk.corpus.stopwords.words('english')"
   ]
  },
  {
   "cell_type": "code",
   "execution_count": 8,
   "metadata": {
    "collapsed": true
   },
   "outputs": [],
   "source": [
    "# 载入 nltk 的 SnowballStemmer 作为“stemmer”变量\n",
    "from nltk.stem.snowball import SnowballStemmer\n",
    "stemmer = SnowballStemmer(\"english\")"
   ]
  },
  {
   "cell_type": "code",
   "execution_count": 9,
   "metadata": {
    "collapsed": true
   },
   "outputs": [],
   "source": [
    "# 这里我定义了一个分词器（tokenizer）和词干分析器（stemmer），它们会输出给定文本词干化后的词集合\n",
    " \n",
    "def tokenize_and_stem(text):\n",
    "    # 首先分句，接着分词，而标点也会作为词例存在\n",
    "    tokens = [word for sent in nltk.sent_tokenize(text) for word in nltk.word_tokenize(sent)]\n",
    "    filtered_tokens = []\n",
    "    # 过滤所有不含字母的词例（例如：数字、纯标点）\n",
    "    for token in tokens:\n",
    "        if re.search('[a-zA-Z]', token):\n",
    "            filtered_tokens.append(token)\n",
    "    stems = [stemmer.stem(t) for t in filtered_tokens]\n",
    "    return stems\n",
    " \n",
    "def tokenize_only(text):\n",
    "    # 首先分句，接着分词，而标点也会作为词例存在\n",
    "    tokens = [word.lower() for sent in nltk.sent_tokenize(text) for word in nltk.word_tokenize(sent)]\n",
    "    filtered_tokens = []\n",
    "    # 过滤所有不含字母的词例（例如：数字、纯标点）\n",
    "    for token in tokens:\n",
    "        if re.search('[a-zA-Z]', token):\n",
    "            filtered_tokens.append(token)\n",
    "    return filtered_tokens"
   ]
  },
  {
   "cell_type": "code",
   "execution_count": 10,
   "metadata": {
    "collapsed": true
   },
   "outputs": [],
   "source": [
    "# 非常不 pythonic，一点也不！\n",
    "# 扩充列表后变成了非常庞大的二维（flat）词汇表\n",
    "totalvocab_stemmed = []\n",
    "totalvocab_tokenized = []\n",
    "for i in Reviews:\n",
    "    allwords_stemmed = tokenize_and_stem(i) #对每个评价进行分词和词干化\n",
    "    totalvocab_stemmed.extend(allwords_stemmed) # 扩充“totalvocab_stemmed”列表\n",
    " \n",
    "    allwords_tokenized = tokenize_only(i)\n",
    "    totalvocab_tokenized.extend(allwords_tokenized)"
   ]
  },
  {
   "cell_type": "code",
   "execution_count": 11,
   "metadata": {},
   "outputs": [
    {
     "name": "stdout",
     "output_type": "stream",
     "text": [
      "there are 139724 items in vocab_frame\n"
     ]
    }
   ],
   "source": [
    "vocab_frame = pd.DataFrame({'words': totalvocab_tokenized}, index = totalvocab_stemmed)\n",
    "print ('there are ' + str(vocab_frame.shape[0]) + ' items in vocab_frame')"
   ]
  },
  {
   "cell_type": "code",
   "execution_count": 12,
   "metadata": {},
   "outputs": [
    {
     "name": "stdout",
     "output_type": "stream",
     "text": [
      "     words\n",
      "not    not\n",
      "upto  upto\n",
      "the    the\n",
      "mark  mark\n",
      "poor  poor\n"
     ]
    }
   ],
   "source": [
    "print (vocab_frame.head())"
   ]
  },
  {
   "cell_type": "markdown",
   "metadata": {},
   "source": [
    "## Tf-idf and document similarity"
   ]
  },
  {
   "cell_type": "code",
   "execution_count": 69,
   "metadata": {},
   "outputs": [
    {
     "name": "stdout",
     "output_type": "stream",
     "text": [
      "CPU times: user 5.96 s, sys: 46.7 ms, total: 6 s\n",
      "Wall time: 6.02 s\n",
      "(9620, 13)\n"
     ]
    }
   ],
   "source": [
    "from sklearn.feature_extraction.text import TfidfVectorizer\n",
    " \n",
    "# 定义向量化参数\n",
    "tfidf_vectorizer = TfidfVectorizer(max_df=0.9, max_features=200000,\n",
    "                                 min_df=0.05, stop_words='english',\n",
    "                                 use_idf=True, tokenizer=tokenize_and_stem, ngram_range=(1,3))\n",
    " \n",
    "%time tfidf_matrix = tfidf_vectorizer.fit_transform(Reviews) # 向量化剧情简介文本\n",
    " \n",
    "print(tfidf_matrix.shape)\n"
   ]
  },
  {
   "cell_type": "code",
   "execution_count": 70,
   "metadata": {},
   "outputs": [
    {
     "name": "stdout",
     "output_type": "stream",
     "text": [
      "  (0, 10)\t0.647531612505\n",
      "  (0, 3)\t0.762038588791\n",
      "  (1, 10)\t0.490970545833\n",
      "  (1, 9)\t0.871176172266\n",
      "  (2, 9)\t0.735149382426\n",
      "  (2, 2)\t0.677905144927\n",
      "  (3, 12)\t0.81570858682\n",
      "  (3, 11)\t0.578463051013\n",
      "  (4, 2)\t0.327243200899\n",
      "  (4, 12)\t0.772531426092\n",
      "  (4, 0)\t0.544157222837\n",
      "  (5, 5)\t1.0\n",
      "  (6, 10)\t0.443634478072\n",
      "  (6, 9)\t0.787183243012\n",
      "  (6, 12)\t0.428405172456\n",
      "  (7, 8)\t1.0\n",
      "  (8, 5)\t1.0\n",
      "  (9, 10)\t0.388234347548\n",
      "  (9, 3)\t0.456888202232\n",
      "  (9, 9)\t0.344440736527\n",
      "  (9, 2)\t0.317620000773\n",
      "  (9, 12)\t0.374906845243\n",
      "  (9, 4)\t0.52957552206\n",
      "  (10, 3)\t0.698154864782\n",
      "  (10, 9)\t0.526327829567\n",
      "  :\t:\n",
      "  (9595, 12)\t0.729779609459\n",
      "  (9595, 5)\t0.460714989683\n",
      "  (9596, 9)\t0.543671699459\n",
      "  (9596, 11)\t0.839297970453\n",
      "  (9597, 10)\t0.719346009349\n",
      "  (9597, 12)\t0.694651940783\n",
      "  (9598, 9)\t1.0\n",
      "  (9599, 10)\t0.53224822126\n",
      "  (9599, 2)\t0.435439784026\n",
      "  (9599, 4)\t0.72601930102\n",
      "  (9600, 2)\t1.0\n",
      "  (9601, 10)\t0.914098140306\n",
      "  (9601, 9)\t0.405493020766\n",
      "  (9603, 2)\t1.0\n",
      "  (9604, 2)\t0.557953588702\n",
      "  (9604, 7)\t0.829872154524\n",
      "  (9607, 9)\t0.527254535916\n",
      "  (9607, 1)\t0.849707393375\n",
      "  (9608, 8)\t1.0\n",
      "  (9610, 10)\t0.430455672208\n",
      "  (9610, 9)\t0.381899411306\n",
      "  (9610, 2)\t0.704323725105\n",
      "  (9610, 12)\t0.415678775213\n",
      "  (9611, 3)\t0.798508835452\n",
      "  (9611, 9)\t0.601983089218\n"
     ]
    }
   ],
   "source": [
    "print(tfidf_matrix)"
   ]
  },
  {
   "cell_type": "code",
   "execution_count": 71,
   "metadata": {
    "collapsed": true
   },
   "outputs": [],
   "source": [
    "terms = tfidf_vectorizer.get_feature_names()"
   ]
  },
  {
   "cell_type": "code",
   "execution_count": 72,
   "metadata": {},
   "outputs": [
    {
     "name": "stdout",
     "output_type": "stream",
     "text": [
      "[\"'s\", 'buy', 'good', 'kid', 'like', 'love', \"n't\", 'nice', 'price', 'product', 'qualiti', 'use', 'veri']\n"
     ]
    }
   ],
   "source": [
    "print(terms)"
   ]
  },
  {
   "cell_type": "code",
   "execution_count": 73,
   "metadata": {},
   "outputs": [
    {
     "data": {
      "text/plain": [
       "13"
      ]
     },
     "execution_count": 73,
     "metadata": {},
     "output_type": "execute_result"
    }
   ],
   "source": [
    "len(terms)"
   ]
  },
  {
   "cell_type": "code",
   "execution_count": 74,
   "metadata": {
    "collapsed": true
   },
   "outputs": [],
   "source": [
    "from sklearn.metrics.pairwise import cosine_similarity\n",
    "dist = 1 - cosine_similarity(tfidf_matrix)"
   ]
  },
  {
   "cell_type": "code",
   "execution_count": 75,
   "metadata": {},
   "outputs": [
    {
     "name": "stdout",
     "output_type": "stream",
     "text": [
      "[[ -2.22044605e-16   6.82081051e-01   1.00000000e+00 ...,   1.00000000e+00\n",
      "    1.00000000e+00   1.00000000e+00]\n",
      " [  6.82081051e-01  -2.22044605e-16   3.59555375e-01 ...,   1.00000000e+00\n",
      "    1.00000000e+00   1.00000000e+00]\n",
      " [  1.00000000e+00   3.59555375e-01   0.00000000e+00 ...,   1.00000000e+00\n",
      "    1.00000000e+00   1.00000000e+00]\n",
      " ..., \n",
      " [  1.00000000e+00   1.00000000e+00   1.00000000e+00 ...,   1.00000000e+00\n",
      "    1.00000000e+00   1.00000000e+00]\n",
      " [  1.00000000e+00   1.00000000e+00   1.00000000e+00 ...,   1.00000000e+00\n",
      "    1.00000000e+00   1.00000000e+00]\n",
      " [  1.00000000e+00   1.00000000e+00   1.00000000e+00 ...,   1.00000000e+00\n",
      "    1.00000000e+00   1.00000000e+00]]\n"
     ]
    }
   ],
   "source": [
    "print(dist)"
   ]
  },
  {
   "cell_type": "markdown",
   "metadata": {},
   "source": [
    "# K-means clustering"
   ]
  },
  {
   "cell_type": "code",
   "execution_count": 87,
   "metadata": {},
   "outputs": [
    {
     "name": "stdout",
     "output_type": "stream",
     "text": [
      "CPU times: user 1.45 s, sys: 9.74 ms, total: 1.46 s\n",
      "Wall time: 1.46 s\n"
     ]
    }
   ],
   "source": [
    "from sklearn.cluster import KMeans\n",
    " \n",
    "num_clusters = 10\n",
    " \n",
    "km = KMeans(n_clusters=num_clusters)\n",
    " \n",
    "%time km.fit(tfidf_matrix)\n",
    " \n",
    "clusters = km.labels_.tolist()"
   ]
  },
  {
   "cell_type": "code",
   "execution_count": 88,
   "metadata": {
    "collapsed": true
   },
   "outputs": [],
   "source": [
    "from sklearn.externals import joblib\n",
    "# 注释语句用来存储你的模型\n",
    "# 因为我已经从 pickle 载入过模型了\n",
    " \n",
    "joblib.dump(km,  'doc_cluster.pkl')\n",
    " \n",
    "km = joblib.load('doc_cluster.pkl')\n",
    "clusters = km.labels_.tolist()"
   ]
  },
  {
   "cell_type": "code",
   "execution_count": 89,
   "metadata": {
    "collapsed": true
   },
   "outputs": [],
   "source": [
    "toys = { 'title': ASINs, 'rank': Ranks, 'review': Reviews, 'cluster': clusters, 'category': Category }\n",
    " \n",
    "frame = pd.DataFrame(toys , index = [clusters] , columns = ['rank', 'title', 'cluster', 'category'])\n"
   ]
  },
  {
   "cell_type": "code",
   "execution_count": 90,
   "metadata": {},
   "outputs": [
    {
     "data": {
      "text/plain": [
       "2    3641\n",
       "8     910\n",
       "1     838\n",
       "5     757\n",
       "0     726\n",
       "3     690\n",
       "4     622\n",
       "6     493\n",
       "7     480\n",
       "9     463\n",
       "Name: cluster, dtype: int64"
      ]
     },
     "execution_count": 90,
     "metadata": {},
     "output_type": "execute_result"
    }
   ],
   "source": [
    "frame['cluster'].value_counts() #number of review per cluster (clusters from 0 to 10)"
   ]
  },
  {
   "cell_type": "code",
   "execution_count": 91,
   "metadata": {},
   "outputs": [
    {
     "data": {
      "text/plain": [
       "cluster\n",
       "0    4.187879\n",
       "1    4.214021\n",
       "2    3.955108\n",
       "3    4.362681\n",
       "4    4.326367\n",
       "5    4.293395\n",
       "6    4.401623\n",
       "7    4.263750\n",
       "8    4.169945\n",
       "9    4.270194\n",
       "Name: rank, dtype: float64"
      ]
     },
     "execution_count": 91,
     "metadata": {},
     "output_type": "execute_result"
    }
   ],
   "source": [
    "grouped = frame['rank'].groupby(frame['cluster']) # 为了凝聚（aggregation），由聚类分类。\n",
    " \n",
    "grouped.mean() # 每个聚类的平均排名（0 到 5）"
   ]
  },
  {
   "cell_type": "code",
   "execution_count": 92,
   "metadata": {
    "scrolled": false
   },
   "outputs": [
    {
     "name": "stdout",
     "output_type": "stream",
     "text": [
      "Top terms per cluster:\n",
      "\n",
      "Cluster 0: b'quality', b'good', b'product', b'very', b'useful', b\"n't\", b'buy', b\"'s\", b'price', b'nice', b'love', b'kid', b'likes',\n",
      "\n",
      "Cluster 1: b'product', b'good', b'useful', b'buy', b\"'s\", b\"n't\", b'quality', b'very', b'likes', b'nice', b'price', b'kid', b'love',\n",
      "\n",
      "Cluster 2: b\"n't\", b\"'s\", b'buy', b'useful', b'good', b'product', b'quality', b'very', b'nice', b'love', b'kid', b'likes', b'price',\n",
      "\n",
      "Cluster 3: b'kid', b'love', b'good', b'product', b'very', b'useful', b'quality', b\"'s\", b'buy', b\"n't\", b'nice', b'likes', b'price',\n",
      "\n",
      "Cluster 4: b'nice', b'product', b'very', b'good', b'quality', b'kid', b\"'s\", b'useful', b'love', b'buy', b\"n't\", b'price', b'likes',\n",
      "\n",
      "Cluster 5: b'good', b\"'s\", b'useful', b'product', b'quality', b'very', b'kid', b'love', b'nice', b'buy', b\"n't\", b'price', b'likes',\n",
      "\n",
      "Cluster 6: b'love', b'good', b'quality', b'product', b'very', b\"'s\", b'useful', b'buy', b'nice', b\"n't\", b'kid', b'price', b'likes',\n",
      "\n",
      "Cluster 7: b'likes', b'good', b'very', b'kid', b'product', b'quality', b'useful', b\"n't\", b\"'s\", b'nice', b'love', b'buy', b'price',\n",
      "\n",
      "Cluster 8: b'very', b'good', b'product', b'quality', b'useful', b\"n't\", b'buy', b\"'s\", b'nice', b'kid', b'price', b'likes', b'love',\n",
      "\n",
      "Cluster 9: b'price', b'good', b'quality', b'product', b'very', b\"'s\", b'kid', b'nice', b'love', b\"n't\", b'buy', b'useful', b'likes',\n",
      "\n"
     ]
    }
   ],
   "source": [
    "from __future__ import print_function\n",
    " \n",
    "print(\"Top terms per cluster:\")\n",
    "print()\n",
    "# 按离质心的距离排列聚类中心，由近到远\n",
    "order_centroids = km.cluster_centers_.argsort()[:, ::-1] \n",
    " \n",
    "for i in range(num_clusters):\n",
    "    print(\"Cluster %d:\" % i, end='')\n",
    " \n",
    "    for ind in order_centroids[i, :50]: # 每个聚类选 10 个词\n",
    "        print(' %s' % vocab_frame.ix[terms[ind].split(' ')].values.tolist()[0][0].encode('utf-8', 'ignore'), end=',')\n",
    "    print() # 空行\n",
    "    print() # 空行"
   ]
  },
  {
   "cell_type": "code",
   "execution_count": 93,
   "metadata": {},
   "outputs": [
    {
     "name": "stdout",
     "output_type": "stream",
     "text": [
      "Top terms per cluster:\n",
      "\n",
      "Cluster 0 titles: B0746KMZ4W_4, B01MFFRJAX_5, B00SWURF62_4, B00SWURF62_7, B01HV9XPN6_1, B00RJE7MWE_4, B00RJE7MWE_9, B01N7PUAQ8_1, B01N7PUAQ8_2, B01N7PUAQ8_3, B06X3YL24L_2, B06X3YL24L_3, B06X3YL24L_6, B06X3YL24L_7, B0746KD3XW_4, B01GEH9IZU_1, B074FXGQP6_3, B01N6OH8JR_1, B01N6OH8JR_2, B01N6OH8JR_3, B00WN96QEA_4, B00WN96QEA_8, B071Y3B8KL_9, B01GLGGKD2_1, B01GLGGKD2_10, B06WGWZ7Z6_3, B06WGWZ7Z6_5, B076DBRSBD_7, B01LD0BPEU_2, B01LD0BPEU_6, B06WVPGQP7_4, B06WVPGQP7_7, B06XBD7J6D_10, B01N36UBBJ_8, B01HCJSRFG_6, B01HCJSRFG_9, B01D66ARIO_10, B01MZDE2S6_2, B01MZDE2S6_3, B01MZDE2S6_9, B01MU9NSCU_6, B01MU9NSCU_10, B0089IO47K_8, B009A7ZKGS_4, B009A7ZKGS_9, B009A7ZKGS_10, B00AWQMMGM_7, B00AWQMMGM_9, B0089IO7UO_6, B00I4IXBRY_1, B00I4IXBRY_2, B008DHZDCC_6, B007GE75HY_2, B00F3B33PU_1, B0089IOWE0_8, B0089IO43Y_7, B007OUBCRO_5, B015WJKQY8_6, B015WJKQY8_8, B06XVH8WXJ_2, B075SFRBS1_3, B01AW4GGLU_1, B01AW4GGLU_2, B01AW4GGLU_4, B01AW4GGLU_6, B01AW4GGLU_10, B00005RF5D_5, B00005RF5D_10, B075M8RL1T_1, B075M8RL1T_2, B00A3QPCOA_1, B00X9J1B4S_1, B00X9J1B4S_4, B06XKJ6BF8_3, B06XKJ6BF8_4, B06XKJ6BF8_7, B06XKJ6BF8_9, B077L65CHC_2, B077L65CHC_5, B077L65CHC_7, B075YZTQX4_1, B076NMNRSH_2, B077L3NCYQ_2, B077L3NCYQ_5, B077L3NCYQ_7, B01FFKQQHK_1, B075S9HCCG_6, B074D4BS7Q_4, B013SVWB4U_8, B013SVWB4U_10, B01MFGS0MU_2, B01MFGS0MU_8, B014DEJF7W_1, B013SVX13A_10, B0083TXZVQ_2, B0125KTJ72_1, B00K5NFGI8_9, B06XRWGS6Y_3, B01MTYDO5I_10, B01MUR1RSC_1, B01MUR1RSC_9, B01G0FOTBO_5, B01G0FOTBO_8, B01M1FOORV_3, B0125KTIQY_3, B0125KTIQY_4, B0125KTIQY_6, B0125KTIQY_10, B06XRNN6BJ_1, B06XRNN6BJ_4, B011ERS3XI_1, B013SVW5SC_7, B013SVW5SC_9, B0721FB2L6_3, B00HAE7PWA_5, B00HAE7PWA_6, B01HH074VI_6, B073726RWB_4, B073726RWB_5, B06XSJFBJQ_1, B06XSJFBJQ_3, B06XSJFBJQ_7, B071777CNH_5, B071777CNH_9, B009YEPM9W_7, B01E1PLRP6_3, B01LZTCUYY_2, B01LZTCUYY_4, B01N0QOWPY_2, B014DEIYA6_2, B014DEIYA6_7, B014DEIYA6_9, B01LDA9DVM_4, B015U4NYDU_1, B01M0HBXWD_9, B01M0HBXWD_10, B01NALK4XS_10, B01LY5PYDS_6, B01G0FOTBY_5, B01G0FOTBY_8, B01BCD2UNI_3, B01BCD2UNI_7, B01BCD2UNI_9, B01N9CD02L_7, B06XRTJ6K6_1, B06XRTJ6K6_4, B01N5WJ2WC_1, B01N5WJ2WC_2, B01N5WJ2WC_4, B01N5WJ2WC_9, B017WJA8NU_7, B017WJA8NU_10, B00HKX7JI6_4, B01N0R4PXH_3, B01F7B2HFC_7, B06XHHKWFL_1, B06XHHKWFL_9, B00MCBJKD8_4, B00MCBJKD8_7, B01M0FQQX9_3, B01N9VPZW6_1, B07523BTST_5, B075WF92PJ_2, B01MUW0WK7_5, B00WDYE8TK_9, B01MEG490K_2, B01MEG490K_6, B01MEG490K_9, B06XX48DT3_1, B06XX48DT3_5, B06Y4HJ61S_6, B009GCRXCQ_4, B009GCRXCQ_6, B009GCR36W_7, B00PSQQZ3W_5, B009GCROI4_7, B009GCROI4_10, B013SDVN60_7, B06XF2JPD7_7, B01MQISR84_4, B01IKD2M8Q_4, B01IKD2M8Q_9, B010BVWYDS_3, B010BVWYDS_9, B010BVWYDS_10, B01ANPG83E_3, B01N99FFSF_2, B01N99FFSF_4, B01N99FFSF_8, B00S8IGQGI_10, B01LYQAANJ_5, B01N4646N8_2, B00N9WI71U_3, B00MCP6ZZ0_9, B009P10L36_9, B009P10L36_10, B01HKQ1J2Y_1, B0182GF54E_1, B00MIVLJZE_3, B00MIVLJZE_4, B00MIVLJZE_5, B00J4XC5IE_9, B00ELBBGOI_5, B00ELBBGOI_9, B00J4M33MC_2, B00J4M33MC_6, B00J4M2ZLM_1, B00J4M2ZLM_7, B00QMHD77S_6, B01HEZ48MO_2, B01HEZ48MO_6, B01HEZ48MO_7, B01HEZ48MO_8, B074QZFSW7_7, B009GCQZN4_6, B00OV25KEO_2, B072MQQVGR_2, B072MQQVGR_10, B009GCRTPC_1, B009GCRTPC_6, B00KPBBJ3G_2, B0188VY5UI_3, B0188VY5UI_6, B01DGMGMEG_3, B01DGMGMEG_6, B01N0H2DN0_3, B01M34GFGE_1, B00J3NJ0MO_8, B01MZELYRL_3, B01MZELYRL_4, B00N9WI5UI_6, B071V86RTS_10, B075SRMJKS_1, B074P93F79_10, B01KV3NL6A_1, B009319M2O_3, B00MQS83A8_8, B009GCRDZ8_6, B009GCRDZ8_7, B01EHHT15G_1, B01EHHT15G_9, B00HNR55DK_10, B0050JHJAK_1, B0050JHJAK_4, B0753G7GDG_5, B0753G7GDG_7, B0753G7GDG_8, B00931109W_8, B00HYMC33O_1, B00ELB9U4G_1, B01LZ4VYF9_1, B009312190_1, B009311M6I_3, B009311QIW_9, B019KH5JRW_3, B019KH5JRW_9, B00OK78H5O_2, B0093123PC_7, B00B6SLFMC_8, B00B6SLFMC_10, B076WQ3M5X_3, B009GCTH1Q_8, B076WVK44C_3, B076WVK44C_4, B009318L6C_9, B00MDBOK96_4, B00MDBOK96_8, B00V9MNQBI_5, B0117855BC_3, B0117855BC_9, B009312QTK_2, B009312QTK_4, B01EHHSZ4E_3, B01EHHSZ4E_8, B01EHHSZ4E_10, B00KCMCWDO_8, B00DZL8JSQ_3, B00DZL8JSQ_10, B01CML16CK_2, B01CML16CK_4, B01CML16CK_5, B01BB8MRNM_1, B009P0ZR8Q_9, B01EHHTD5Y_3, B01EHHTD5Y_8, B01EHHTD5Y_10, B004CT3HKU_10, B00RCHK748_9, B009GCRRUE_3, B009GCRRUE_5, B009GCRRUE_9, B007OU5T5A_9, B009310GPG_3, B009311WCC_3, B0093138H4_3, B004UVJG7I_1, B00NMIYHU6_7, B00J2WB5BK_8, B074K4QSR9_2, B074K4QSR9_6, B074K4QSR9_9, B009T45XY6_1, B009T45XY6_3, B00AWCF76I_2, B00AWCF76I_3, B076HZSR94_2, B072QSPQM4_9, B06XHMSZGY_2, B06XHMSZGY_7, B073H4WMWW_1, B01M3POPY5_5, B01M3POPY5_7, B071F3SJ6S_7, B00EAHXWEU_4, B071WK651R_1, B00ID6OUH2_1, B072NC2KN5_1, B0738DFR6J_2, B0738DFR6J_6, B0738DFR6J_7, B073723MDC_7, B01MUEA3S2_3, B01MUEA3S2_5, B01MUEA3S2_6, B01J1PBYQI_10, B07354FKPL_1, B01GCQIB24_3, B00N7K3ABQ_7, B072C135YS_7, B072C135YS_8, B072C135YS_9, B07194433K_1, B07194433K_6, B06X6KD25K_8, B06X6KD25K_9, B071CZKWPS_7, B071CZKWPS_8, B071CZKWPS_9, B00MIVLJZE_3, B00MIVLJZE_4, B00MIVLJZE_5, B01M5C5M5G_3, B01M5C5M5G_8, B00J4XC5IE_9, B071Z1VGJW_7, B01JU82EI8_5, B01N5IBDAS_6, B00MHYNGOY_2, B00MHYNGOY_10, B00GU8G52I_5, B06Y617JCS_2, B06Y617JCS_10, B071J29VTG_6, B071KNMXCH_3, B071KNMXCH_5, B071KNMXCH_6, B071KNMXCH_10, B019U5SO5S_3, B019U5SO5S_7, B019U5SO5S_8, B019U5SO5S_10, B071J8D8CM_4, B071KNWK5L_2, B071KNWK5L_6, B000ICZ84I_9, B071RXV3WH_1, B073SGH9Q2_2, B00N7K35JI_2, B00N7K35JI_3, B00N7K35JI_5, B01M24CCE9_5, B071R7NDV7_2, B072MWV544_5, B072MWV544_7, B00FAY7K1S_3, B01N7SA3Y2_8, B012CZH0LW_4, B012CZH0LW_6, B00U0ZSDDQ_10, B01LXFTX9K_2, B01N4G9RW0_1, B0728F96TS_4, B013K7SD0S_10, B074LHJMJQ_2, B00GFJSQYC_3, B07356XK79_2, B07356XK79_7, B00PRJ4X66_1, B072FPVTFY_5, B072FPVTFY_6, B018I1996I_2, B018I1996I_6, B06VSPTGLS_3, B06VSPTGLS_4, B01176NUDE_2, B019842PUG_10, B072BMJPZM_2, B072BMJPZM_9, B014YLZMYY_6, B014YLZMYY_10, B016WG786O_4, B016WG786O_10, B01JIIBKSK_2, B00SR15J3M_9, B01MUD0WFM_2, B00GFJSM46_9, B00JSR91I8_1, B0185VIKG6_5, B0185VIKG6_6, B0185VIKG6_9, B0748HL1NZ_3, B0748HL1NZ_5, B072XRYBV5_4, B072XRYBV5_5, B01GX1BEKE_2, B00Y0QOBUU_2, B00FVVVLHE_8, B01MRVY4IW_2, B01M094DOA_2, B01DT15P88_4, B01DT15P88_9, B01GX1BFNK_4, B01GX1BFNK_9, B077FBDCZK_3, B00JOH3XJ0_6, B00JOH3XJ0_9, B07356PHR1_2, B01GCPZOZM_1, B00QNSMLYQ_9, B00QNSMLYQ_10, B01C9X1NDS_2, B01C9X1NDS_8, B014YM0Z4A_4, B071X9WRMM_2, B071X9WRMM_8, B071X9WRMM_9, B01M7VCTOD_5, B07588671M_3, B0716S97FM_2, B0716S97FM_9, B0725ZD991_4, B072R2K423_1, B071VMQF36_2, B071VMQF36_9, B00EVKLB5I_5, B00EVKLB5I_8, B00EVKLB5I_9, B075ZZ77WH_7, B005TQQZGI_1, B005TQQZGI_2, B005TQQZGI_6, B015LYNHJU_3, B01176RWN8_9, B01FALOZPY_1, B072NYVZYH_4, B072NYVZYH_9, B072N64HML_2, B072N64HML_8, B072N64HML_9, B01M0MQB9G_6, B00U3SSM22_1, B00U3SSM22_8, B001579Z6W_8, B001579Z6W_10, B074JFFYBH_5, B01BQ6XYTA_5, B01ANKEXUO_5, B01ANKEXUO_6, B01ANKEXUO_9, B01MTJXJSP_7, B00KA593LC_5, B00F1ACGEM_4, B00F1ACGEM_9, B07585QC21_2, B074JCJYVX_2, B00705YP2C_4, B00705YP2C_7, B00ET0MYPQ_7, B074J6YSJF_6, B00Y0QO9G6_9, B00Y0QO9G6_10, B01MZ9Q1Y9_10, B074V3D5VS_3, B01LZ7SL2Z_8, B003XWVV6E_3, B06WWFZN2B_1, B06WWFZN2B_10, B06XH8681N_6, B01EIUFLR4_4, B01B9WJUWG_5, B01B9WJUWG_6, B01B9WJUWG_8, B073PWL69Z_6, B07587FM46_2, B07587FM46_5, B07587FM46_9, B014FFU61I_2, B01MQ0G8WF_1, B01MQ0G8WF_4, B01MQ0G8WF_6, B01IHFCNX6_3, B017EXWTW2_2, B017EXWTW2_5, B017EXWTW2_10, B00N1EJXUU_3, B00N1EJXUU_9, B00ABA0ZOA_2, B00ABA0ZOA_5, B009ZCA1TO_6, B009ZCA1TO_8, B009ZCA1TO_10, B071KP3NWK_1, B071KP3NWK_2, B00MBID4B6_10, B00SYMTTXA_9, B00SYMTTXA_10, B0731H7R1L_5, B0723CX4YH_6, B076P9DSXG_1, B00GU8GMD0_5, B01JU977AW_1, B01JU977AW_4, B01N4EQT6K_1, B01N4EQT6K_8, B01GVI34W0_1, B01GVI34W0_2, B01GVI34W0_3, B01GVI34W0_8, B01IPQ3LFG_2, B009REO880_5, B06Y5MJFYW_6, B077JRN4QK_1, B01FG70FD8_1, B01FG70FD8_9, B01FG70FD8_10, B001579Z6W_8, B001579Z6W_10, B072FP3GXS_3, B01IHFCO08_2, B01IHFCO08_4, B014FFTW9A_9, B072B9YG47_10, B01FFRSJW8_2, B01FFRSJW8_7, B00XNCV86W_4, B00XNCV86W_9, B01F31YLSC_1, B01F31YLSC_2, B016YCGERK_2, B00ELBA7A2_8, B06XCZK5ST_3, B01EOKB34I_2, B016A61VBE_4, B016A61VBE_6, B016A61VBE_9, B01MYBXLWI_5, B0062FFTRG_2, B00E7LJK54_3, B075WV7B65_1, B01IFBKUKU_6, B01IFBKUKU_8, B01IFBKUKU_9, B017K93EXS_3, B017K93EXS_5, B01939ZQ4S_5, B00XYB30C2_2, B01AJU4AK6_2, B01IYE747U_5, B01KXG5I2U_3, B00IVIZXP0_4, B009S0E5IQ_10, B01H8XYC6Y_1, B01H8XYC6Y_9, B075Z266Z5_7, B072BB2CVH_2, B01JACD2WQ_1, B01JACD2WQ_2, B00O7FZBTE_2, B00O7FZBTE_6, B01H5TE7AW_5, B01MT9DJNR_3, B002V3GGP2_3, B002IRF9UE_10, B00FFZY6EQ_2, B00FFZY6EQ_3, B017K0M7M6_10, B00J3XELSC_8, B00J3XELSC_10, B074V8TG6M_5, B005VEKL5Y_9, B01KZCZ0PM_3, B01KZCZ0PM_9, B00YJC9EIE_4, B072JFD3VV_6, B0179YAIRO_1, B0179YAIRO_7, B01IPQ3LFG_2, B01H9OBFZ8_4, B01H9OBFZ8_7, B00XNE50Z0_5, B005Q4D7ZA_9, B0076L3KKI_1, B00Z9Y4670_4, B00M4BU0OO_4, B01LZNRW0C_3, B00XND0WEU_6, B00792MX98_9, B009REO3LC_1, B005TQJS80_1, B005TQJS80_6, B013JQE56G_7, B076F2HMP1_6, B00SFXDR9U_3, B00SFXDR9U_8, B01N2QGP65_4, B01MEEHW0K_5, B076H36J3D_9, B01G0JVHSI_4, B000OIGLOM_9, B00005N9YF_8, B00XHLTR26_5, B00UINDM04_7, B01NBV4HSQ_1, B01NBV4HSQ_5, B01JM4CGAQ_7, B06XDBDRSJ_2, B06XDBDRSJ_9, B00VVQJNMS_1, B00VVQJNMS_2, B009RENV1U_2, B009RENV1U_4, B009ZCA1TO_6, B009ZCA1TO_8, B009ZCA1TO_10, B01N9TT0W4_7, B012SHPYNK_3, B012SHPYNK_5, B012SHPYNK_7, B01FC8RSAE_8, B01FC8RSAE_10, B00MYL9JW8_1, B00MYL9JW8_4, B06XSRJF7J_6, B007UHS09O_9, B072FSM9S3_3, B0076L102S_2, B01EX1NBMA_5, B01FUIE7IM_6, B0105PH3GI_2, B0105PH3GI_3, B00NXXWI4W_4, B00NXXWI4W_5, B00NXXWI4W_6, B0063BMTTA_4, B0063BMTTA_10, B01HWNL72M_2, B01HWNL72M_3, B01HWNL72M_6, B073JB5ZM7_1, B073JB5ZM7_2, B073JB5ZM7_5, B076M8N9VL_5, B076M8N9VL_6, B012NR8ND8_2, B005H7BTVU_1, B005H7BTVU_2, B005H7BTVU_9, B0753KVCZS_5, B072Q61HM4_1, B0076L1K6E_1, B00XYCU39E_1, B00XYCU39E_7, B00XYCU39E_9, B007UHRZTU_4, B007UHRZTU_9, B007EA4UBY_5, B00BWKNOGE_5, B00XTUHABA_5, B06XF8MXK2_7, B014WE5L7Q_9, B00000IZQP_2, B00000IZQP_4, B01N6T1JEU_7, B00MZWUQX2_5, B00MZWUQX2_6, B073FJNFD6_2, B01CZU8WIO_9, B0761R8X5G_2, B006DSCUKQ_3, B076VCWVD9_7, B073D3RS6L_2, B073D3RS6L_8, B071YVS69G_1, B071YVS69G_5, B071YVS69G_8, B074RKNTQJ_1, B0123ROMBU_9, B0738939Q3_3, B00RJE7BPC_2, B00RJE7BPC_7, B00RJE7BPC_8, B01NAQRENI_2, B06ZY5WXPN_9, B073WX7351_4, B00Y8B5X5O_4, B00Y8B5X5O_5, B075VV3GRB_1, B075VV3GRB_2, B075VV3GRB_6, B075VV3GRB_7, B00YE3IT0C_5, B06VT9WP57_2, B01N01UGRU_1, B0754HTP5K_8, B00V3EJQ0C_9, B073WXQLXM_8, B01NB0JGIQ_6, B01NB0JGIQ_9, B00YE2UMI0_10, B06Y42C6S9_6, B01EX65AAG_1, B01NAOR1VM_1, B00J4XMUFW_6, B00KFE6L6S_2, B01ENJFCW4_2, B06XZCFS5S_1,\n",
      "\n",
      "Cluster 1 titles: B06Y3F148Q_2, B06Y3F148Q_3, B06Y3F148Q_7, B0746KMZ4W_2, B01MFFRJAX_1, B01MFFRJAX_2, B01MFFRJAX_6, B01MFFRJAX_7, B00SWURF62_2, B00SWURF62_5, B005HHRXWE_5, B005HHRXWE_7, B005HHRXWE_10, B01N7NSKEO_3, B01N7NSKEO_6, B01HV9XPN6_4, B01JC4680U_6, B01JC4680U_10, B074GR1WCX_10, B077D8QGBV_1, B077D8QGBV_3, B01N7PUAQ8_4, B01N7PUAQ8_5, B01N7PUAQ8_6, B0746KD3XW_3, B01GEH9IZU_8, B01EUFQDSI_1, B074FXGQP6_4, B01N6OH8JR_4, B01N6OH8JR_5, B01N6OH8JR_6, B00XJJGPWQ_6, B00WN96QEA_3, B0146MG8TE_6, B06WGWZ7Z6_7, B076DBRSBD_2, B01LD0BPEU_7, B06WVPGQP7_6, B01N36UBBJ_3, B01HCJSRFG_1, B01HCJSRFG_7, B01HCJSRFG_8, B01AW4GCJQ_3, B00AWQMMGM_4, B0089IO7UO_3, B0089IO7UO_10, B014PJGJ4W_5, B0089IOWE0_2, B0089IOWE0_3, B0089IOWE0_6, B0089IO43Y_1, B0089IO43Y_9, B015WJKQY8_1, B06XVH8WXJ_3, B0089IO0OW_6, B0089IO0OW_10, B0089IO4SO_8, B0089IO7OA_2, B0089IO7OA_3, B0089IO7OA_7, B01MRVXMWP_1, B01MRVXMWP_5, B01MXWNQ9J_5, B01MXWNQ9J_9, B0749MMH6Y_1, B0089IO4O8_1, B0089IO4O8_4, B0089IO4O8_6, B0089IO3GW_4, B0089IO3GW_5, B0089IO3GW_7, B01MFF8P1J_8, B075YZTQX4_8, B076NMNRSH_6, B076NMNRSH_8, B06XP2G4KP_5, B014DEHUU6_10, B01CJKRA60_4, B01FFKQQHK_10, B075S9HCCG_2, B075S9HCCG_8, B074D4BS7Q_10, B013SVWB4U_3, B013SVWB4U_5, B01MFGS0MU_1, B01MFGS0MU_9, B01N2ZUXNM_4, B0083TXZVQ_8, B0125KTJ72_7, B0125KTJ72_8, B01NBJQW2P_6, B01MU6HF61_4, B01MU6HF61_5, B01MTYDO5I_2, B01BKFFPF8_6, B01BKFFPF8_8, B01BU9VYZE_4, B01BU9VYZE_7, B01BU9VYZE_10, B01M1FOORV_5, B01M1FOORV_8, B01M1FOORV_9, B013SVW5SC_5, B0721FB2L6_9, B01N1RV3GA_3, B00IQ8MVH8_3, B01MZHIATX_7, B01MZHIATX_8, B01MXR69QX_6, B009YEPM9W_2, B009YEPM9W_9, B01E1PLRP6_1, B01E1PLRP6_6, B01LZTCUYY_5, B01LZTCUYY_8, B01LZTCUYY_10, B01MT9XI1T_9, B014DEIYA6_5, B014DEIYA6_8, B01LDA9DVM_8, B015U4NYDU_7, B01NALK4XS_1, B01NALK4XS_4, B01NALK4XS_8, B01LXR2CVR_1, B01LXR2CVR_5, B01N9CD02L_8, B0192UWN6W_4, B0192UWN6W_9, B01LYU44CH_1, B01LYU44CH_6, B01LYU44CH_7, B01N5WJ2WC_6, B017WJA8NU_1, B01F7B2HFC_1, B01F7B2HFC_3, B01B4T4P6A_4, B01B4T4P6A_8, B01M7V3QE4_9, B0744DYZ9R_6, B0744DYZ9R_7, B0744DYZ9R_8, B00MCBJKD8_6, B00MCBJKD8_9, B01M0FQQX9_8, B07523BTST_4, B01BV0WYF6_10, B01MUW0WK7_1, B01LXV0J3X_1, B06W9JC1ZH_1, B01MEG490K_4, B01MEG490K_7, B01AV4PZS6_1, B01AV4PZS6_2, B01AV4PZS6_7, B01JM4D7VI_3, B06XX48DT3_2, B06XX48DT3_7, B009GCRXCQ_3, B009GCRXCQ_9, B0761HRBJ8_2, B009GCR36W_9, B00PSQQZ3W_1, B00RLIPM16_3, B00RLIPM16_4, B01KTJ6W1M_4, B01K35TESU_4, B01K35TESU_7, B01G6B0TUM_2, B01MQISR84_10, B071YQYNGR_8, B010BVWYDS_4, B010BVWYDS_6, B01ANPG83E_1, B01ANPG83E_2, B01ANPG83E_5, B00GB9KX4W_3, B00GB9KX4W_8, B016RU13FC_3, B016D6F0TU_3, B01MS74B5E_10, B01N99FFSF_7, B00S8IGQGI_1, B00S8IGQGI_7, B00S8IGQGI_8, B009311VO6_6, B01LYQAANJ_4, B01N4646N8_4, B00N9WI71U_1, B00N9WI71U_8, B0753CWBL6_1, B009P10L36_2, 1787270009_5, B01ANSCPAG_3, B01ANSCPAG_5, B01N5234UL_4, B01N5234UL_10, B06XSN273K_6, B00J4XC5IE_7, B00ELBA932_3, B072PXFXJ4_4, B00J4M33MC_8, B001NWNPC4_6, B001NWNPC4_9, B01MDRCVPV_1, B074QZFSW7_3, B074QZFSW7_10, B00OV25KEO_1, B01GFWDGB6_6, B009GCRTPC_8, B019KH4O6O_9, B00KPBBJ3G_3, B00A3QQQF4_8, B00MDK9VVY_6, B075QHMDWF_4, B075QHMDWF_5, B01NAU4K79_2, B01N0H2DN0_2, B01N0H2DN0_6, B00U8EXCH6_9, B00J3NJ0MO_2, B00J3NJ0MO_5, 1787270017_5, B01MZELYRL_5, B010LY92VC_5, B073BCB2C4_2, B073BCB2C4_4, B071V86RTS_1, B071V86RTS_4, B071V86RTS_9, B074DVQKPX_4, B074DVQKPX_5, B01N5267EI_5, B075SRMJKS_5, B01IKFLEGU_2, B074P93F79_1, B074P93F79_5, B01MY7XSMC_10, B009319M2O_7, B00MQS83A8_4, B009GCRDZ8_1, B009GCRDZ8_5, B01DUPDSZ0_7, B01DUPDSZ0_8, B00AWCPG28_10, B009312MX0_10, B01DVUOXVM_4, B01DVUOXVM_7, B0746GB8PB_10, B072BMCMTX_1, B072BMCMTX_8, B0090UYT80_5, B0090UYT80_6, B01MT3EPQL_10, B00NGJ0048_3, B009312RMG_8, B0076L2AI6_7, B0753G7GDG_6, B00931109W_1, B00931109W_2, B004UTTXJG_1, B00HYMC33O_3, B00ELB9U4G_7, B009312190_8, B009311M6I_8, B019KH5JRW_5, B009318QDK_4, B00OK78H5O_4, B0076L2BJE_3, B00BY0GT82_3, B01NC27D26_10, B00I6THTBK_2, B076WQ3M5X_2, B076WQ3M5X_4, B009GCTH1Q_6, B009GCTH1Q_9, B075P9N6FV_10, B0076L2CK2_6, B00JO5YPLC_10, B00WDY6JXI_1, B0117855BC_8, B009312QTK_3, B009312QTK_5, B009312QTK_8, B00TGW3J56_1, B01KM1NTRC_7, B00KCMCWDO_2, B00KCMCWDO_9, B00DZL8JSQ_2, B00VBCVGO0_3, B00VBCVGO0_6, B00VBCVGO0_7, B01BB8MRNM_2, B01BB8MRNM_5, B01BB8MRNM_6, B009P0ZR8Q_2, B004CT3HKU_7, B00ELBBFCQ_2, B00RCHK748_8, B00DPSJ3WA_5, B00931268G_9, B007OU5T5A_8, B007OU5T5A_10, B01MUDEP57_10, B00EPDY59A_2, B007OUAP5E_3, B009311WCC_6, B009311WCC_7, B009311WCC_9, B009311WCC_10, B009GCU9PO_4, B0093138H4_4, B004UVJG7I_6, B004UVJG7I_8, B00NMIYHU6_6, B00J2WB5BK_4, B009T45XY6_2, B00AWCF76I_9, B072QSPQM4_6, B06XHMSZGY_9, B071F3SJ6S_4, B071F3SJ6S_9, B0711Z7XQ9_8, B000IOLDFO_6, B07237PHB6_2, B07237PHB6_5, B07237PHB6_9, B071WK651R_3, B071WK651R_4, B071WK651R_9, B071W4M117_6, B01MS74B5E_10, B01IHHS950_9, B071X4FB6Y_3, B01J1PBYQI_3, B01J1PBYQI_9, B07354FKPL_2, B07354FKPL_3, B07354FKPL_4, B07354FKPL_6, B01GCQIB24_4, B01GCQIB24_9, B00SWIDLC6_1, B00SWIDLC6_9, B00SWIDLC6_10, B01CLDGBYC_6, B01CLDGBYC_10, B00N7K3ABQ_2, B00N7K3ABQ_6, B072C135YS_4, B072C135YS_5, B07219WG9M_5, B07219WG9M_7, B072LS6PKD_3, B072LS6PKD_5, B072LS6PKD_10, B071CZKWPS_4, B071CZKWPS_5, B000OV0X48_4, B000OV0X48_8, B06XXXK9YL_6, B072M7X26B_4, B00J4XC5IE_7, B071Y1WSRR_4, B01BLC5OBA_4, B01BLC5OBA_5, B01BLC5OBA_7, B0744JC89X_6, B0744JC89X_7, B06XRCWVS3_2, B06XRCWVS3_3, B01JU82EI8_10, B00MHYNGOY_7, B00GU8G52I_10, B0719W4FF6_1, B0719W4FF6_9, B06Y617JCS_6, B06Y617JCS_8, B071J29VTG_4, B071KNMXCH_8, B071J8D8CM_6, B071J8D8CM_9, B000ICZ84I_1, B000ICZ84I_7, B071RXV3WH_10, B01KHURAU0_10, B01M24CCE9_2, B071R7NDV7_4, B072MWV544_8, B01GPPVS68_3, B01GPPVS68_5, B00FAY7K1S_5, B00FAY7K1S_7, B00FAY7K1S_8, B00FAY7K1S_10, B01GCQIMLE_7, B012CZH0LW_2, B0739YTVZ7_7, B000OV0X3Y_4, B000OV0X3Y_5, B000OV0X3Y_8, B00U0ZSDDQ_3, B01LXFTX9K_7, B010LY92VC_5, B01N4G9RW0_7, B075M6B4HK_1, B075M6B4HK_3, B075M6B4HK_6, B075M6B4HK_8, B0728F96TS_9, B0728F96TS_10, B01MY7XSMC_10, B013K7SD0S_1, B075BKMW23_2, B075BKMW23_3, B00GFJSQYC_10, B07356XK79_4, B072FPVTFY_9, B018I1996I_1, B018I1996I_4, B018I1996I_8, B06VSPTGLS_6, B019842PUG_7, B019842PUG_8, B071LQLC6T_8, B0753KTCQY_2, B0753KTCQY_3, B072BMJPZM_5, B014YLZMYY_5, B00SR15J3M_2, B00SR15J3M_5, B01MUD0WFM_4, B01MUD0WFM_10, B00GFJSM46_1, B00GFJSM46_5, B071F3W2HD_4, B071F3W2HD_7, B071F3W2HD_9, B0185VIKG6_10, B01MQVIY4F_2, B01MQVIY4F_3, B01MQVIY4F_5, B01MZ7P69Z_10, B0749QD8FD_4, B0749QD8FD_7, B0749QD8FD_9, B0753JWCZD_2, B0753JWCZD_3, B01NA82EV8_3, B00FVVVLHE_1, B01MRVY4IW_9, B01CQUUGXC_4, B01CQUUGXC_5, B01M094DOA_4, B01M094DOA_5, B01M094DOA_6, B01M094DOA_7, B01DT15P88_6, B01GX1BFNK_1, B00JOH3XJ0_5, B00JOH3XJ0_10, B07356PHR1_5, B00F1AISS0_1, B00F1AISS0_3, B00F1AISS0_6, B073QSP8XG_1, B019840O04_3, B019840O04_5, B01C9X1NDS_1, B014YM0Z4A_9, B0185VJBVO_10, B071X9WRMM_3, B01M7VCTOD_4, B01M7VCTOD_6, B0716S97FM_5, B00WJ4QIP6_3, B00WJ4QIP6_8, B00WJ4QIP6_9, B071VMQF36_5, B0753JWM5B_4, B0753JWM5B_7, B0753JWM5B_9, B00683U4AE_6, B00EVKLB5I_3, B01LXJ750I_4, B01LXJ750I_6, B01LXJ750I_9, B075ZZ77WH_1, B075ZZ77WH_3, B01176RWN8_4, B01176RWN8_8, B072NYVZYH_2, B072N64HML_3, B00U3SSM22_10, B00FSCIJ4E_2, B00FSCIJ4E_4, B001579Z6W_9, B01BHS53FA_8, B00W4ZU3AG_2, B01BQ6XYTA_1, B01BQ6XYTA_2, B01BQ6XYTA_4, B01ANKEXUO_2, B01ANKEXUO_7, B01IHXB104_5, B01IHXB104_7, B07585QC21_1, B074JCJYVX_4, B014YLYX1C_3, B014YLYX1C_10, B071XJ24C9_1, B01G0HGBPY_4, B01G0HGBPY_5, B00ET0MYPQ_1, B00ET0MYPQ_2, B00ET0MYPQ_3, B00ET0MYPQ_10, B074J6YSJF_3, B009ZCA00Y_9, B01N9VAD27_10, B076BMPMMT_3, B076BMPMMT_4, B00ELBA5S6_3, B01LZ7SL2Z_6, B003XWVV6E_10, B06WWFZN2B_3, B06WWFZN2B_6, B06WWFZN2B_7, B06XH8681N_7, B073PWL69Z_1, B073PWL69Z_7, B073PWL69Z_9, B01ISYA6JY_7, B019DP08K4_6, B01M35WOI5_1, B01MQ0G8WF_7, B01N6539JW_3, B01N6539JW_7, B00ARW17U8_9, B00ND5XOHK_2, B00ND5XOHK_3, B00N1EJXUU_5, B01F4RYXQK_10, B00ABA0ZOA_7, B001OVG40E_6, B00UXI32I6_4, B00MBID4B6_8, B00MBID4B6_9, B0722G25H8_7, B0723CX4YH_2, B0723CX4YH_7, B073FNTQ4M_1, B073FNTQ4M_2, B076P9DSXG_2, 1583333002_8, B01IB7BJ8U_1, B01IB7BJ8U_9, B00GU8GMD0_2, B00GU8GMD0_3, B01JU977AW_3, B01N4EQT6K_7, B01N4EQT6K_10, B01N6I1CUE_2, B01GVI34W0_5, B01GVI34W0_9, B009REO880_2, B00LXCKO1Y_10, B06Y5MJFYW_4, B077JRN4QK_6, B01G84OS5O_1, B001579Z6W_9, B01N6TYZ5T_6, B00KUHLUP2_2, B06WP6Z6PB_1, B06WP6Z6PB_2, B06WP6Z6PB_7, B06WP6Z6PB_9, B00AJWTEUG_2, B00AJWTEUG_4, B01IKOZ7GO_1, B01MFCXHX9_9, B072B9YG47_4, B01FFRSJW8_3, B01FFRSJW8_9, B00XNCV86W_3, B00XNCV86W_8, B01F31YLSC_4, B077B3YTPL_2, B077B3YTPL_4, 1223081087_10, B0756GWZ3G_8, B0756GWZ3G_9, B007OU5OYQ_4, B007OU5OYQ_8, B06XCZK5ST_5, B00FADI4X2_6, B016A61VBE_10, B06XDD73XG_3, B005VEE27M_3, B005VEE27M_10, B075FP6JPF_2, B01N3LU3M1_1, B01N3LU3M1_3, B00E7LJK54_6, B017K93EXS_2, B017K93EXS_8, B017K93EXS_10, B01L443P6Q_9, B01939ZQ4S_3, B01939ZQ4S_9, B007J213WG_1, B007J213WG_10, B01IYE747U_2, B01IYE747U_7, B01IYE747U_8, B01KXG5I2U_5, B01KXG5I2U_7, B002RZ8EBS_6, B007SZ1SJW_7, B007SZ1SJW_8, B00IVIZXP0_2, B00IVIZXP0_8, B00IVIZXP0_9, B009S0E5IQ_6, B071FP2PL7_3, B01LJ5UOVO_6, B01JACD2WQ_3, B00O7FZBTE_3, B00XYB4J9U_2, B01H5TE7AW_3, B01H5TE7AW_4, B01H5TE7AW_9, B01MT9DJNR_5, B007OU63GO_9, B002V3GGP2_6, B002V3GGP2_7, B002V3GGP2_9, B002IRF9UE_9, B0062FIDOM_9, B00M4J2T7M_5,"
     ]
    },
    {
     "name": "stderr",
     "output_type": "stream",
     "text": [
      "/usr/local/lib/python3.6/site-packages/ipykernel_launcher.py:10: DeprecationWarning: \n",
      ".ix is deprecated. Please use\n",
      ".loc for label based indexing or\n",
      ".iloc for positional indexing\n",
      "\n",
      "See the documentation here:\n",
      "http://pandas.pydata.org/pandas-docs/stable/indexing.html#ix-indexer-is-deprecated\n",
      "  # Remove the CWD from sys.path while we load stuff.\n"
     ]
    },
    {
     "name": "stdout",
     "output_type": "stream",
     "text": [
      " B00M4J2T7M_7, B017K0M7M6_4, B017K0M7M6_6, B017K0M7M6_9, B074V8TG6M_3, B074V8TG6M_7, B074V8TG6M_8, B00YJC9EIE_6, B00YJC9EIE_9, B007UHUM36_6, B007UHUM36_7, B00Y5EOHRY_9, B06XG1FHKX_5, B0179YAIRO_3, B0179YAIRO_10, B01H9OBFZ8_5, B013LIH7US_2, B013LIH7US_4, B013LIH7US_6, B002PEQKHG_1, B005Q4D7ZA_7, B00Z9Y4670_6, B01LZNRW0C_1, B01LZNRW0C_2, B01LZNRW0C_5, B006H07BA4_9, B00XND0WEU_10, B00ET0N3QK_6, B01JAD4NC8_3, B01JAD4NC8_9, B01M71S9DU_10, B005TQJS80_2, B01KVH709K_3, B00DZFALQ0_5, B013JQE56G_1, B013JQE56G_5, B019U7A2MY_3, B019U7A2MY_6, B01BHS53TG_8, B076F2HMP1_2, B076F2HMP1_4, B01FUIE9ZS_9, B075R7VPS9_2, B075R7VPS9_3, B00ECWE4WC_1, B00ECWE4WC_7, B0089IPOGK_5, B0089IPOGK_8, B01G0JVHSI_2, B01G0JVHSI_3, B01G0JVHSI_5, B009ZC9YBK_1, B009ZC9YBK_4, B06Y6DT7NL_1, B06Y6DT7NL_2, B00UINDM04_10, B009ZC964U_4, B009ZC964U_5, B009ZC964U_6, B009ZC964U_9, B01CCXZYVC_2, B01CCXZYVC_4, B01CCXZYVC_9, B01NBV4HSQ_3, B01NBV4HSQ_7, B01NBV4HSQ_8, B071GVSV3D_2, B01MDR83RN_10, B01JM4CGAQ_2, B06XDBDRSJ_3, B009RENV1U_3, B009RENV1U_6, B009RENV1U_7, B01N5JT3XD_2, B01EHHT9R6_10, B01N9TT0W4_10, B0753FNGSW_1, B0753FNGSW_6, B06XVDB3D6_3, B06XVDB3D6_5, B06XVDB3D6_9, B06XSRJF7J_9, B007UHS09O_4, B007UHS09O_6, B072FSM9S3_6, B01EX1NBMA_1, B01EX1NBMA_6, B01EX1NBMA_10, B01FUIE7IM_7, B0105PH3GI_8, B0105PH3GI_10, B0063BMTTA_9, B076M8N9VL_1, B076M8N9VL_7, B012NR8ND8_1, B012NR8ND8_9, B005H7BTVU_7, B0753KVCZS_3, B0753KVCZS_7, B009RENMU0_10, B00XYCU39E_5, B00BWKNOGE_3, B00BWKNOGE_6, B00XTUHABA_1, B00XTUHABA_6, B06XF8MXK2_4, B06XF8MXK2_8, B00000IZQP_6, B01N6T1JEU_10, B00MZWUQX2_1, B00LM9NGNG_6, B073FJNFD6_7, B006DSCUKQ_1, B006DSCUKQ_10, B01M4R9S6F_2, B009PGDV38_5, B009PGDV38_10, B076VCWVD9_2, B074D117H8_7, B073D3RS6L_1, B077DD7T6C_1, B077DD7T6C_3, B074RKNTQJ_2, B074RKNTQJ_6, B074RKNTQJ_8, B074RKNTQJ_10, B01N5N1O49_5, B01N5N1O49_9, B0123ROMBU_2, B0738939Q3_5, B0738939Q3_7, B0738939Q3_8, B01BM0393Q_2, B01BM0393Q_3, B01BM0393Q_6, B01BM0393Q_8, B00A76QX1W_1, B00A76QX1W_2, B01N259HXG_8, B00Q6PA0AS_2, B00Q6PA0AS_5, B00RJE7BPC_5, B00RJE7BPC_9, B01NAQRENI_5, B01NAQRENI_6, B076TS3FJ9_8, B01HV9XR8Y_1, B01HV9XR8Y_9, B071S1KRK1_1, B071S1KRK1_5, B00Y8B5X5O_2, B01LYV4NHF_1, B075VV3GRB_3, B075VV3GRB_5, B00YE3IT0C_4, B00YE3IT0C_7, B06Y3HRJGY_2, B06Y3HRJGY_3, B06Y3HRJGY_7, B076WYP6NV_1, B076WYP6NV_4, B071VLYX44_1, B0754HTP5K_7, B073WXQLXM_7, B01NB0JGIQ_3, B013SVUE44_1, B013SVUE44_5, B00YE2UMI0_2, B00YE2UMI0_6, B00YE2UMI0_8, B00YE2UMI0_9, B00WN97130_2, B072K1MBZQ_1, B074RGPBTG_3, B074RGPBTG_5, B06Y42C6S9_1, B06Y42C6S9_2, B06Y42C6S9_3, B0146LPZ44_2, B0146LPZ44_5, B0146LPZ44_6, B074KTCDJL_7, B01EX65AAG_2, B01EX65AAG_7, B01EX65AAG_10, B06W5JPP8C_6, B06W5JPP8C_8, B06W5JPP8C_9, B00YP5I4BI_1, B00YP5I4BI_3, B00YP5I4BI_4, B0746GLX3V_1, B01N7NCLUR_1, B00KFE6L6S_3, B00KFE6L6S_4, B00KFE6L6S_7, B00KFE6L6S_9, B01ENJFCW4_8,\n",
      "\n",
      "Cluster 2 titles: B0746KMZ4W_10, B01MG932X4_1, B01MG932X4_2, B01MG932X4_3, B01MG932X4_4, B01MG932X4_5, B01MG932X4_6, B01MG932X4_7, B01MG932X4_8, B01MG932X4_9, B01MG932X4_10, B01MFFRJAX_9, B01MFFRJAX_10, B005HHRXWE_3, B01N7NSKEO_2, B01N7NSKEO_4, B01N7NSKEO_7, B01N7NSKEO_8, B01N7NSKEO_9, B01N7NSKEO_10, B01HV9XPN6_9, B01HV9XPN6_10, B01JC4680U_2, B01JC4680U_3, B01JC4680U_4, B01JC4680U_5, B01JC4680U_7, B074GR1WCX_8, B00RJE7MWE_8, B077D8QGBV_4, B077D8QGBV_5, B077D8QGBV_6, B077D8QGBV_7, B077D8QGBV_8, B077D8QGBV_9, B077D8QGBV_10, B076P8H3LX_1, B076P8H3LX_5, B076P8H3LX_6, B076P8H3LX_7, B076P8H3LX_8, B076P8H3LX_9, B076P8H3LX_10, B06X3YL24L_10, B01L7688JU_1, B01L7688JU_3, B01L7688JU_6, B01L7688JU_7, B01L7688JU_9, B01L7688JU_10, B074GQJCHY_3, B074GQJCHY_4, B074GQJCHY_5, B074GQJCHY_6, B074GQJCHY_7, B074GQJCHY_8, B074GQJCHY_9, B074GQJCHY_10, B0746KD3XW_5, B0746KD3XW_6, B0746KD3XW_7, B0746KD3XW_8, B0746KD3XW_9, B0746KD3XW_10, B01GEH9IZU_4, B01GEH9IZU_6, B01EUFQDSI_4, B01EUFQDSI_5, B01EUFQDSI_7, B01EUFQDSI_9, B01EUFQDSI_10, B074FXGQP6_1, B074FXGQP6_9, B074FXGQP6_10, B00XJJGPWQ_4, B00WN96QEA_6, B00WN96QEA_7, B01GLGGKD2_5, B01GLGGKD2_7, B0146MG8TE_1, B0146MG8TE_2, B0146MG8TE_9, B0146MG8TE_10, B06WGWZ7Z6_1, B06WGWZ7Z6_4, B06WGWZ7Z6_6, B01LD0BPEU_3, B01LD0BPEU_4, B01LD0BPEU_8, B01LD0BPEU_9, B01LD0BPEU_10, B06Y4NNZM7_1, B06Y4NNZM7_2, B06Y4NNZM7_3, B06Y4NNZM7_4, B06Y4NNZM7_5, B06Y4NNZM7_6, B06Y4NNZM7_7, B06Y4NNZM7_8, B06Y4NNZM7_9, B06Y4NNZM7_10, B075FBJRWJ_2, B075FBJRWJ_3, B075FBJRWJ_4, B075FBJRWJ_5, B075FBJRWJ_6, B075FBJRWJ_7, B075FBJRWJ_8, B075FBJRWJ_9, B075FBJRWJ_10, B06X3YQQQ2_2, B06X3YQQQ2_3, B06X3YQQQ2_4, B06X3YQQQ2_5, B06X3YQQQ2_6, B06X3YQQQ2_7, B06X3YQQQ2_8, B06X3YQQQ2_9, B06X3YQQQ2_10, B008GSDU5K_1, B008GSDU5K_2, B008GSDU5K_3, B008GSDU5K_4, B008GSDU5K_5, B008GSDU5K_6, B008GSDU5K_7, B008GSDU5K_8, B008GSDU5K_9, B008GSDU5K_10, B06XBD7J6D_1, B06XBD7J6D_3, B06XBD7J6D_6, B06XBD7J6D_8, B01N36UBBJ_1, B01N36UBBJ_5, B01N36UBBJ_6, B01N36UBBJ_7, B01N36UBBJ_10, B06WP1WMHT_3, B06WP1WMHT_4, B06WP1WMHT_5, B06WP1WMHT_6, B06WP1WMHT_7, B06WP1WMHT_8, B06WP1WMHT_9, B06WP1WMHT_10, B00BGT5P3Q_1, B00BGT5P3Q_2, B00BGT5P3Q_3, B00BGT5P3Q_4, B00BGT5P3Q_5, B00BGT5P3Q_6, B00BGT5P3Q_7, B00BGT5P3Q_8, B00BGT5P3Q_9, B00BGT5P3Q_10, B01HCJSRFG_3, B01HCJSRFG_4, B01HCJSRFG_5, B01D66ARIO_1, B01D66ARIO_6, B01N7LPRB1_1, B01N7LPRB1_2, B01N7LPRB1_4, B01N7LPRB1_5, B01N7LPRB1_6, B01N7LPRB1_7, B01N7LPRB1_8, B01N7LPRB1_9, B01N7LPRB1_10, B076CH9746_1, B076CH9746_2, B076CH9746_3, B076CH9746_4, B076CH9746_5, B076CH9746_6, B076CH9746_7, B076CH9746_8, B076CH9746_9, B076CH9746_10, B01NGZWVXA_1, B01NGZWVXA_2, B01NGZWVXA_3, B01NGZWVXA_4, B01NGZWVXA_5, B01NGZWVXA_6, B01NGZWVXA_7, B01NGZWVXA_8, B01NGZWVXA_9, B01NGZWVXA_10, B06XV986C5_1, B06XV986C5_2, B06XV986C5_3, B06XV986C5_4, B06XV986C5_5, B06XV986C5_6, B06XV986C5_7, B06XV986C5_8, B06XV986C5_9, B06XV986C5_10, B01AW4GCJQ_2, B01AW4GCJQ_6, B01AW4GCJQ_7, B01AW4GCJQ_10, B01N25YA96_2, B01N25YA96_3, B01N25YA96_4, B01N25YA96_5, B01N25YA96_6, B01N25YA96_7, B01N25YA96_8, B01N25YA96_9, B01N25YA96_10, B01MZDE2S6_5, B01MZDE2S6_8, B01MZDE2S6_10, B01MU9NSCU_2, B01MU9NSCU_3, B01MU9NSCU_8, B0089IO47K_1, B0089IO47K_2, B0089IO47K_6, B0089IO47K_7, B00F3B2TVO_1, B00F3B2TVO_7, B00F3B2TVO_8, B00F3B2TVO_9, B00F3B2TVO_10, B01MZ3T94O_1, B01MZ3T94O_2, B01MZ3T94O_3, B01MZ3T94O_4, B01MZ3T94O_5, B01MZ3T94O_6, B01MZ3T94O_7, B01MZ3T94O_8, B01MZ3T94O_9, B01MZ3T94O_10, B01MT2TOEP_1, B01MT2TOEP_2, B01MT2TOEP_3, B01MT2TOEP_4, B01MT2TOEP_5, B01MT2TOEP_6, B01MT2TOEP_7, B01MT2TOEP_8, B01MT2TOEP_9, B01MT2TOEP_10, B009A7ZKGS_5, B009A7ZKGS_7, B0077QSN9A_1, B0077QSN9A_2, B0077QSN9A_3, B0077QSN9A_4, B0077QSN9A_5, B0077QSN9A_6, B0077QSN9A_7, B0077QSN9A_8, B0077QSN9A_9, B0077QSN9A_10, B06WVDSP61_2, B06WVDSP61_4, B06WVDSP61_5, B06WVDSP61_6, B06WVDSP61_7, B06WVDSP61_8, B06WVDSP61_9, B06WVDSP61_10, B01N7VHVFY_1, B01N7VHVFY_2, B01N7VHVFY_3, B01N7VHVFY_4, B01N7VHVFY_5, B01N7VHVFY_6, B01N7VHVFY_7, B01N7VHVFY_8, B01N7VHVFY_9, B01N7VHVFY_10, B00DIO9U3S_1, B00DIO9U3S_2, B00DIO9U3S_3, B00DIO9U3S_4, B00DIO9U3S_5, B00DIO9U3S_6, B00DIO9U3S_7, B00DIO9U3S_8, B00DIO9U3S_9, B00DIO9U3S_10, B00AWQMMGM_2, B00AWQMMGM_3, B0089IO7UO_1, B0089IO7UO_2, B076CP58MJ_1, B076CP58MJ_2, B076CP58MJ_3, B076CP58MJ_4, B076CP58MJ_5, B076CP58MJ_6, B076CP58MJ_7, B076CP58MJ_8, B076CP58MJ_9, B076CP58MJ_10, B071S2965Z_1, B071S2965Z_2, B071S2965Z_3, B071S2965Z_4, B071S2965Z_5, B071S2965Z_6, B071S2965Z_7, B071S2965Z_8, B071S2965Z_9, B071S2965Z_10, B00I4IXBRY_4, B00I4IXBRY_5, B00I4IXBRY_6, B00I4IXBRY_7, B00I4IXBRY_8, B00I4IXBRY_9, B00I4IXBRY_10, B075HX4JVY_1, B075HX4JVY_2, B075HX4JVY_3, B075HX4JVY_4, B075HX4JVY_5, B075HX4JVY_6, B075HX4JVY_7, B075HX4JVY_8, B075HX4JVY_9, B075HX4JVY_10, B07255FL9W_1, B07255FL9W_2, B07255FL9W_3, B07255FL9W_4, B07255FL9W_5, B07255FL9W_6, B07255FL9W_7, B07255FL9W_8, B07255FL9W_9, B07255FL9W_10, B00R3VPI2E_1, B00R3VPI2E_2, B00R3VPI2E_3, B00R3VPI2E_4, B00R3VPI2E_5, B00R3VPI2E_6, B00R3VPI2E_7, B00R3VPI2E_8, B00R3VPI2E_9, B00R3VPI2E_10, B004H3AKFQ_1, B004H3AKFQ_2, B004H3AKFQ_3, B004H3AKFQ_4, B004H3AKFQ_5, B004H3AKFQ_6, B004H3AKFQ_7, B004H3AKFQ_8, B004H3AKFQ_9, B004H3AKFQ_10, B008DHZDCC_3, B008DHZDCC_7, B008DHZDCC_10, B074DVWVXY_2, B074DVWVXY_3, B074DVWVXY_4, B074DVWVXY_5, B074DVWVXY_6, B074DVWVXY_7, B074DVWVXY_8, B074DVWVXY_9, B074DVWVXY_10, B074DBYXNX_1, B074DBYXNX_2, B074DBYXNX_3, B074DBYXNX_4, B074DBYXNX_5, B074DBYXNX_6, B074DBYXNX_7, B074DBYXNX_8, B074DBYXNX_9, B074DBYXNX_10, B01MR1KNJX_1, B01MR1KNJX_2, B01MR1KNJX_3, B01MR1KNJX_4, B01MR1KNJX_5, B01MR1KNJX_6, B01MR1KNJX_7, B01MR1KNJX_8, B01MR1KNJX_9, B01MR1KNJX_10, B014PJGJ4W_1, B014PJGJ4W_3, B014PJGJ4W_8, B014PJGJ4W_9, B014PJGJ4W_10, B071Z8ML3W_4, B071Z8ML3W_5, B071Z8ML3W_6, B071Z8ML3W_7, B071Z8ML3W_8, B071Z8ML3W_9, B071Z8ML3W_10, B009A7ZCB6_3, B009A7ZCB6_7, B00F3B33PU_6, B00F3B33PU_7, B00F3B33PU_8, B00F3B33PU_9, B00F3B33PU_10, B075LHZWKV_1, B075LHZWKV_2, B075LHZWKV_3, B075LHZWKV_4, B075LHZWKV_5, B075LHZWKV_6, B075LHZWKV_7, B075LHZWKV_8, B075LHZWKV_9, B075LHZWKV_10, B01BMC8PLK_3, B01BMC8PLK_4, B01BMC8PLK_5, B01BMC8PLK_6, B01BMC8PLK_7, B01BMC8PLK_8, B01BMC8PLK_9, B01BMC8PLK_10, B01L26UXQ6_2, B01L26UXQ6_6, B01L26UXQ6_7, B01L26UXQ6_8, B01L26UXQ6_9, B01L26UXQ6_10, B0089IOWE0_9, B071RY65TW_1, B071RY65TW_2, B071RY65TW_3, B071RY65TW_4, B071RY65TW_5, B071RY65TW_6, B071RY65TW_7, B071RY65TW_8, B071RY65TW_9, B071RY65TW_10, B0089IO43Y_6, B0089IO43Y_10, B007OUBCRO_4, B007OUBCRO_8, B007OUBCRO_10, B005KJE9L2_2, B005KJE9L2_3, B005KJE9L2_4, B005KJE9L2_5, B005KJE9L2_6, B005KJE9L2_7, B005KJE9L2_8, B005KJE9L2_9, B005KJE9L2_10, B077BYPY2Z_1, B077BYPY2Z_2, B077BYPY2Z_3, B077BYPY2Z_4, B077BYPY2Z_5, B077BYPY2Z_6, B077BYPY2Z_7, B077BYPY2Z_8, B077BYPY2Z_9, B077BYPY2Z_10, B075LDDQKH_3, B075LDDQKH_4, B075LDDQKH_5, B075LDDQKH_6, B075LDDQKH_7, B075LDDQKH_8, B075LDDQKH_9, B075LDDQKH_10, B074DBFYL9_1, B074DBFYL9_2, B074DBFYL9_3, B074DBFYL9_4, B074DBFYL9_5, B074DBFYL9_6, B074DBFYL9_7, B074DBFYL9_8, B074DBFYL9_9, B074DBFYL9_10, B0756X1MVD_1, B0756X1MVD_2, B0756X1MVD_3, B0756X1MVD_4, B0756X1MVD_5, B0756X1MVD_6, B0756X1MVD_7, B0756X1MVD_8, B0756X1MVD_9, B0756X1MVD_10, B01KVI0UVE_1, B01KVI0UVE_2, B01KVI0UVE_3, B01KVI0UVE_4, B01KVI0UVE_5, B01KVI0UVE_6, B01KVI0UVE_7, B01KVI0UVE_8, B01KVI0UVE_9, B01KVI0UVE_10, B074FTCH4P_2, B074FTCH4P_3, B074FTCH4P_4, B074FTCH4P_5, B074FTCH4P_6, B074FTCH4P_7, B074FTCH4P_8, B074FTCH4P_9, B074FTCH4P_10, B007GE75G0_9, B007GE75G0_10, B06XVH8WXJ_1, B06XVH8WXJ_8, B06XVH8WXJ_9, B06XVH8WXJ_10, B01KILRLG6_1, B01KILRLG6_2, B01KILRLG6_3, B01KILRLG6_4, B01KILRLG6_5, B01KILRLG6_6, B01KILRLG6_7, B01KILRLG6_8, B01KILRLG6_9, B01KILRLG6_10, B0089IO0OW_8, B01KMUUQVK_1, B01KMUUQVK_2, B01KMUUQVK_3, B01KMUUQVK_4, B01KMUUQVK_5, B01KMUUQVK_6, B01KMUUQVK_7, B01KMUUQVK_8, B01KMUUQVK_9, B01KMUUQVK_10, B06VVH7YY1_1, B06VVH7YY1_2, B06VVH7YY1_3, B06VVH7YY1_4, B06VVH7YY1_5, B06VVH7YY1_6, B06VVH7YY1_7, B06VVH7YY1_8, B06VVH7YY1_9, B06VVH7YY1_10, B00NVDLI0Y_1, B00NVDLI0Y_3, B00NVDLI0Y_4, B00NVDLI0Y_5, B00NVDLI0Y_6, B00NVDLI0Y_7, B00NVDLI0Y_8, B00NVDLI0Y_9, B00NVDLI0Y_10, B00D3IMEUA_2, B00D3IMEUA_3, B00D3IMEUA_4, B00D3IMEUA_5, B00D3IMEUA_6, B00D3IMEUA_7, B00D3IMEUA_8, B00D3IMEUA_9, B00D3IMEUA_10, B071Y5TDD9_1, B071Y5TDD9_2, B071Y5TDD9_3, B071Y5TDD9_4, B071Y5TDD9_5, B071Y5TDD9_6, B071Y5TDD9_7, B071Y5TDD9_8, B071Y5TDD9_9, B071Y5TDD9_10, B075SFRBS1_5, B075SFRBS1_6, B075SFRBS1_7, B075SFRBS1_8, B075SFRBS1_9, B075SFRBS1_10, B06WLL3M8Y_2, B06WLL3M8Y_3, B06WLL3M8Y_4, B06WLL3M8Y_5, B06WLL3M8Y_6, B06WLL3M8Y_7, B06WLL3M8Y_8, B06WLL3M8Y_9, B06WLL3M8Y_10, B07761GSB5_1, B07761GSB5_2, B07761GSB5_3, B07761GSB5_4, B07761GSB5_5, B07761GSB5_6, B07761GSB5_7, B07761GSB5_8, B07761GSB5_9, B07761GSB5_10, B077PXYJ9Y_1, B077PXYJ9Y_2, B077PXYJ9Y_3, B077PXYJ9Y_4, B077PXYJ9Y_5, B077PXYJ9Y_6, B077PXYJ9Y_7, B077PXYJ9Y_8, B077PXYJ9Y_9, B077PXYJ9Y_10, B0089IO4SO_3, B0089IO4SO_5, B0089IO4SO_6, B0089IO4SO_7, B0089IO4SO_10, B0089IO7OA_6, B074WDY8XR_1, B074WDY8XR_2, B074WDY8XR_3, B074WDY8XR_4, B074WDY8XR_5, B074WDY8XR_6, B074WDY8XR_7, B074WDY8XR_8, B074WDY8XR_9, B074WDY8XR_10, B01BB8MQB0_3, B01BB8MQB0_5, B01BB8MQB0_6, B01BB8MQB0_7, B01BB8MQB0_8, B01BB8MQB0_9, B01BB8MQB0_10, B00006JZCG_1, B00006JZCG_3, B00006JZCG_4, B00L5LDKVO_1, B00L5LDKVO_2, B00L5LDKVO_3, B00L5LDKVO_4, B00L5LDKVO_5, B00L5LDKVO_6, B00L5LDKVO_7, B00L5LDKVO_8, B00L5LDKVO_9, B00L5LDKVO_10, B01MXWNQ9J_7, B0089IO87Q_8, B0749MMH6Y_3, B0749MMH6Y_4, B0749MMH6Y_5, B0749MMH6Y_6, B0749MMH6Y_7, B0749MMH6Y_8, B0749MMH6Y_9, B0749MMH6Y_10, 1591747694_1, B01AW4GGLU_8, B01DS4Z51I_1, B01DS4Z51I_2, B01DS4Z51I_3, B01DS4Z51I_4, B01DS4Z51I_5, B01DS4Z51I_6, B01DS4Z51I_7, B01DS4Z51I_8, B01DS4Z51I_9, B01DS4Z51I_10, B0089IO4O8_5, B0089IO4O8_7, B071L67QZF_2, B071L67QZF_3, B071L67QZF_4, B071L67QZF_5, B071L67QZF_6, B071L67QZF_7, B071L67QZF_8, B071L67QZF_9, B071L67QZF_10, B00005RF5D_4, B00005RF5D_9, B073WXGXTT_1, B073WXGXTT_2, B073WXGXTT_3, B073WXGXTT_4, B073WXGXTT_5, B073WXGXTT_6, B073WXGXTT_7, B073WXGXTT_8, B073WXGXTT_9, B073WXGXTT_10, B0755V8LS5_1, B0755V8LS5_2, B0755V8LS5_3, B0755V8LS5_4, B0755V8LS5_5, B0755V8LS5_6, B0755V8LS5_7, B0755V8LS5_8, B0755V8LS5_9, B0755V8LS5_10, B01DIPS9GK_1, B01DIPS9GK_6, B01DIPS9GK_7, B075M8RL1T_3, B075M8RL1T_4, B075M8RL1T_5, B075M8RL1T_6, B075M8RL1T_7, B075M8RL1T_8, B075M8RL1T_9, B075M8RL1T_10, B0089IODVC_1, B0089IO3GW_3, B0089IO3GW_6, B076ZKPH7Y_1, B076ZKPH7Y_2, B076ZKPH7Y_3, B076ZKPH7Y_4, B076ZKPH7Y_5, B076ZKPH7Y_6, B076ZKPH7Y_7, B076ZKPH7Y_8, B076ZKPH7Y_9, B076ZKPH7Y_10, B075V51KQ9_1, B075V51KQ9_2, B075V51KQ9_3, B075V51KQ9_4, B075V51KQ9_5, B075V51KQ9_6, B075V51KQ9_7, B075V51KQ9_8, B075V51KQ9_9, B075V51KQ9_10, B074N57MK5_2, B074N57MK5_3, B074N57MK5_4, B074N57MK5_5, B074N57MK5_6, B074N57MK5_7, B074N57MK5_8, B074N57MK5_9, B074N57MK5_10, B011DOSKRG_1, B011DOSKRG_2, B011DOSKRG_3, B011DOSKRG_4, B011DOSKRG_5, B011DOSKRG_6, B011DOSKRG_7, B011DOSKRG_8, B011DOSKRG_9, B011DOSKRG_10, B00A3QPCOA_7, B00A3QPCOA_8, B071XMD35J_1, B071XMD35J_2, B071XMD35J_3, B071XMD35J_4, B071XMD35J_5, B071XMD35J_6, B071XMD35J_7, B071XMD35J_8, B071XMD35J_9, B071XMD35J_10, B01MFF8P1J_6, B01MFF8P1J_7, B01MFF8P1J_10, B075Z234KS_3, B075Z234KS_4, B075Z234KS_5, B075Z234KS_6, B075Z234KS_7, B075Z234KS_8, B075Z234KS_9, B075Z234KS_10, B0177LV5SA_3, B0177LV5SA_4, B076N1DXSM_2, B076N1DXSM_3, B076N1DXSM_4, B076N1DXSM_5, B076N1DXSM_6, B076N1DXSM_7, B076N1DXSM_8, B076N1DXSM_9, B076N1DXSM_10, B00X9J1B4S_3, B00X9J1B4S_5, B06XKJ6BF8_10, B077L65CHC_4, B077L65CHC_6, B077L65CHC_8, B077L65CHC_9, B077L65CHC_10, B076NMNRSH_4, B076NMNRSH_7, B076NMNRSH_9, B01K7JC9CK_4, B01K7JC9CK_5, B01K7JC9CK_6, B01K7JC9CK_7, B01K7JC9CK_8, B01K7JC9CK_9, B01K7JC9CK_10, B01MRZPERS_2, B01MRZPERS_6, B01MRZPERS_7, B01MRZPERS_8, B01MRZPERS_9, B01MRZPERS_10, B06XP2G4KP_2, B06XP2G4KP_3, B06XP2G4KP_4, B06XP2G4KP_7, B06XP2G4KP_8, B06XP2G4KP_9, B077L3NCYQ_4, B077L3NCYQ_6, B077L3NCYQ_8, B077L3NCYQ_9, B077L3NCYQ_10, B014DEHUU6_5, B014DEHUU6_7, B014DEHUU6_9, B01CJKRA60_3, B01CJKRA60_5, B01CJKRA60_9, B01CJKRA60_10, B01FFKQQHK_2, B01FFKQQHK_7, B01FFKQQHK_9, B01LYW8TOH_1, B01LYW8TOH_2, B01LYW8TOH_3, B01LYW8TOH_4, B01LYW8TOH_5, B01LYW8TOH_6, B01LYW8TOH_7, B01LYW8TOH_8, B01LYW8TOH_9, B01LYW8TOH_10, B075S9HCCG_3, B075S9HCCG_5, B075S9HCCG_7, B075S9HCCG_9, B075S9HCCG_10, B074D4BS7Q_7, B013SVWB4U_7, B07454YHRV_5, B07454YHRV_6, B07454YHRV_7, B07454YHRV_8, B07454YHRV_9, B07454YHRV_10, B01MFGS0MU_4, B014DEJF7W_4, B01N2ZUXNM_3, B01N2ZUXNM_5, B01N2ZUXNM_6, B01N2ZUXNM_9, B013SVX13A_4, B0083TXZVQ_3, B0083TXZVQ_4, B0083TXZVQ_5, B0083TXZVQ_7, B0125KTJ72_4, B00K5NFGI8_4, B00K5NFGI8_7, B00K5NFGI8_8, B06XRWGS6Y_6, B06XRWGS6Y_10, B008YD8GG0_3, B008YD8GG0_5, B008YD8GG0_7, B008YD8GG0_8, B008YD8GG0_10, B01NBJQW2P_3, B01NBJQW2P_4, B01NBJQW2P_5, B01NBJQW2P_8, B01NBJQW2P_9, B01NBJQW2P_10, B01MU6HF61_1, B01MU6HF61_6, B01MU6HF61_7, B01MU6HF61_8, B01MU6HF61_9, B01MU6HF61_10, B01MTYDO5I_4, B01MTYDO5I_5, B01MTYDO5I_6, B01MTYDO5I_7, B071RGCYBN_3, B071RGCYBN_5, B071RGCYBN_8, B071RGCYBN_9, B013SVW5SC_8, B013SVW5SC_10, B01N1RV3GA_2, B01N1RV3GA_4, B01N1RV3GA_9, B01N1RV3GA_10, B00IQ8MVH8_5, B00IQ8MVH8_6, B00IQ8MVH8_7, B00IQ8MVH8_8, B00IQ8MVH8_9, B00IQ8MVH8_10, B01MZHIATX_1, B07426GX4G_1, B07426GX4G_2, B07426GX4G_3, B07426GX4G_4, B07426GX4G_5, B07426GX4G_6, B07426GX4G_7, B07426GX4G_8, B07426GX4G_9, B07426GX4G_10, B00HAE7PWA_1, B00HAE7PWA_2, B00HAE7PWA_8, B00HAE7PWA_10, B01HH074VI_5, B01HH074VI_8, B01HH074VI_10, B01MXR69QX_7, B01MXR69QX_8, B073726RWB_9, B073726RWB_10, B06XSJFBJQ_4, B06XSJFBJQ_5, B06XSJFBJQ_10, B071777CNH_3, B071777CNH_8, B071777CNH_10, B074W6KDP1_4, B074W6KDP1_6, B074W6KDP1_7, B074W6KDP1_8, B074W6KDP1_9, B074W6KDP1_10, B01N0QOWPY_3, B01N0QOWPY_4, B01N0QOWPY_5, B01N0QOWPY_6, B01N0QOWPY_7, B01N0QOWPY_8, B01N0QOWPY_9, B01N0QOWPY_10, B01MT9XI1T_2, B01MT9XI1T_3, B01MT9XI1T_5, B01LDA9DVM_7, B015U4NYDU_9, B077967PRY_1, B077967PRY_3, B077967PRY_4, B077967PRY_5, B077967PRY_6, B077967PRY_7, B077967PRY_8, B077967PRY_9, B077967PRY_10, B01N5F9UEM_1, B01N5F9UEM_2, B01N5F9UEM_3, B01N5F9UEM_4, B01N5F9UEM_5, B01N5F9UEM_6, B01N5F9UEM_7, B01N5F9UEM_8, B01N5F9UEM_9, B01N5F9UEM_10, B01LXR2CVR_4, B01LXR2CVR_8, B01LY5PYDS_3, B01LY5PYDS_9, B01LY5PYDS_10, B00NPRM7HO_2, B01BCD2UNI_4, B01MQY92JW_2, B01MQY92JW_6, B01MQY92JW_7, B01N9CD02L_2, B01N9CD02L_3, B01N9CD02L_10, B0744LLM2C_4, B0744LLM2C_5, B0744LLM2C_6, B0744LLM2C_7, B0744LLM2C_8, B0744LLM2C_9, B0744LLM2C_10, B0192UWN6W_2, B0192UWN6W_3, B0192UWN6W_7, B0192UWN6W_10, B01LYU44CH_3, B01LYU44CH_4, B01LYU44CH_8, B077L3WX6H_2, B077L3WX6H_3, B077L3WX6H_4, B077L3WX6H_5, B077L3WX6H_6, B077L3WX6H_7, B077L3WX6H_8, B077L3WX6H_9, B077L3WX6H_10, B01N5WJ2WC_3, B01N5WJ2WC_8, B01N5WJ2WC_10, B017WJA8NU_2, B017WJA8NU_3, B017WJA8NU_8, B00HKX7JI6_3, B00HKX7JI6_8, B00HKX7JI6_9, B00HKX7JI6_10, B01F7B2HFC_4, B01F7B2HFC_8, B01B4T4P6A_5, B06XHHKWFL_7, B0744DYZ9R_3, B0744DYZ9R_5, B00MCBJKD8_1, B00MCBJKD8_3, B00MCBJKD8_5, B01M0FQQX9_1, B01M0FQQX9_4, B01M0FQQX9_5, B01N9VPZW6_3, B01N9VPZW6_6, B01N9VPZW6_7, B01N9VPZW6_8, B01N9VPZW6_9, B01N9VPZW6_10, B07523BTST_6, B07523BTST_7, B07523BTST_9, B07523BTST_10, B075WF92PJ_3, B075WF92PJ_4, B075WF92PJ_5, B075WF92PJ_6, B075WF92PJ_7, B075WF92PJ_8, B075WF92PJ_9, B075WF92PJ_10, B01BV0WYF6_1, B01BV0WYF6_6, B01BV0WYF6_7, B01MUW0WK7_4, B01MUW0WK7_10, B0736ZL2QS_2, B0736ZL2QS_3, B0736ZL2QS_4, B0736ZL2QS_5, B0736ZL2QS_6, B0736ZL2QS_7, B0736ZL2QS_8, B0736ZL2QS_9, B0736ZL2QS_10, B01LXV0J3X_3, B01LXV0J3X_4, B01LXV0J3X_5, B01LXV0J3X_6, B01LXV0J3X_7, B01LXV0J3X_8, B01LXV0J3X_9, B01LXV0J3X_10, B00WDYE8TK_4, B00WDYE8TK_5, B00WDYE8TK_6, B075MJ1L5N_3, B075MJ1L5N_4, B075MJ1L5N_5, B075MJ1L5N_6, B075MJ1L5N_7, B075MJ1L5N_8, B075MJ1L5N_9, B075MJ1L5N_10, B06W9JC1ZH_3, B06W9JC1ZH_4, B06W9JC1ZH_5, B06W9JC1ZH_6, B06W9JC1ZH_7, B06W9JC1ZH_8, B06W9JC1ZH_9, B06W9JC1ZH_10, B01MEG490K_3, B01MEG490K_8, B01AV4PZS6_6, B01AV4PZS6_10, B01JM4D7VI_1, B075NY5SS2_1, B075NY5SS2_2, B075NY5SS2_3, B075NY5SS2_4, B075NY5SS2_5, B075NY5SS2_6, B075NY5SS2_7, B075NY5SS2_8, B075NY5SS2_9, B075NY5SS2_10, B06XX48DT3_3, B06XX48DT3_9, B019IOACAQ_2, B019IOACAQ_7, B06Y4HJ61S_1, B06Y4HJ61S_5, B06Y4HJ61S_9, B06Y4HJ61S_10, B009GCRXCQ_5, B009GCRXCQ_7, B009GCRXCQ_8, B0761HRBJ8_1, B0761HRBJ8_3, B0761HRBJ8_4, B0761HRBJ8_6, B0761HRBJ8_8, B0761HRBJ8_9, B0761HRBJ8_10, B009GCR36W_2, B00PSQQZ3W_3, B00RLIPM16_5, B00RLIPM16_9, B00RLIPM16_10, B009GCROI4_4, B01KTJ6W1M_2, B01KTJ6W1M_5, B01KTJ6W1M_6, B01KTJ6W1M_9, B01KTJ6W1M_10, B01K35TESU_1, B01K35TESU_9, B073SX9BRV_1, B073SX9BRV_2, B073SX9BRV_3, B073SX9BRV_4, B073SX9BRV_5, B073SX9BRV_6, B073SX9BRV_7, B073SX9BRV_8, B073SX9BRV_9, B073SX9BRV_10, B00MDFYCBS_5, B00MDFYCBS_7, B00MDFYCBS_8, B00MDFYCBS_10, B013SDVN60_8, B013SDVN60_10, B06XF2JPD7_3, B06XF2JPD7_5, B06XF2JPD7_8, B0761TJRVQ_1, B0761TJRVQ_2, B0761TJRVQ_3, B0761TJRVQ_4, B0761TJRVQ_5, B0761TJRVQ_6, B0761TJRVQ_7, B0761TJRVQ_8, B0761TJRVQ_9, B0761TJRVQ_10, B01MQISR84_1, B01MQISR84_2, B01MQISR84_6, B071YQYNGR_4, B071YQYNGR_6, B010BVWYDS_7, B01ANPG83E_4, B01ANPG83E_9, B00GB9KX4W_7, B00GB9KX4W_10, B01M18C3XZ_6, B01M18C3XZ_7, B01M18C3XZ_8, B01M18C3XZ_9, B01M18C3XZ_10, B016RU13FC_2, B016RU13FC_4, B016RU13FC_7, B016D6F0TU_2, B016D6F0TU_4, B016D6F0TU_7, B073MFTS4S_2, B073MFTS4S_4, B073MFTS4S_5, B073MFTS4S_6, B073MFTS4S_7, B073MFTS4S_8, B073MFTS4S_9, B073MFTS4S_10, B01MS74B5E_2, B01MS74B5E_8, B01N99FFSF_9, B01N99FFSF_10, B00S8IGQGI_4, B009311VO6_5, B072ST93T9_1, B072ST93T9_2, B072ST93T9_3, B072ST93T9_4, B072ST93T9_5, B072ST93T9_6, B072ST93T9_7, B072ST93T9_8, B072ST93T9_9, B072ST93T9_10, B01LYQAANJ_2, B01LYQAANJ_6, B01LYQAANJ_9, B01LYQAANJ_10, B01N4646N8_1, B01N4646N8_6, B00N9WI71U_4, B00N9WI71U_6, B00N9WI71U_10, B0753CWBL6_4, B0753CWBL6_5, B0753CWBL6_6, B0753CWBL6_7, B0753CWBL6_8, B0753CWBL6_9, B0753CWBL6_10, B00930Z7LU_5, B00930Z7LU_9, B00MCP6ZZ0_10, B009P10L36_3, B009P10L36_5, B009P10L36_7, B01M8PKHV5_1, B01M8PKHV5_3, B01M8PKHV5_4, B01M8PKHV5_5, B01M8PKHV5_6, B01M8PKHV5_7, B01M8PKHV5_8, B01M8PKHV5_9, B01M8PKHV5_10, 1787270009_8, 1787270009_10, B01HKQ1J2Y_2, B01HKQ1J2Y_3, B01HKQ1J2Y_4, B01HKQ1J2Y_5, B01HKQ1J2Y_6, B01HKQ1J2Y_7, B01HKQ1J2Y_8, B01HKQ1J2Y_9, B01HKQ1J2Y_10, B0182GF54E_2, B0182GF54E_3, B0182GF54E_4, B0182GF54E_5, B0182GF54E_6, B0182GF54E_7, B0182GF54E_8, B0182GF54E_9, B0182GF54E_10, B009GCQZD4_1, B009GCQZD4_3, B009GCQZD4_6, B01ANSCPAG_1, B01ANSCPAG_2, B01ANSCPAG_4, B01ANSCPAG_6, B01ANSCPAG_9, B01ANSCPAG_10, B01N981WRS_2, B01N981WRS_3, B01N981WRS_4, B01N981WRS_5, B01N981WRS_6, B01N981WRS_7, B01N981WRS_8, B01N981WRS_9, B01N981WRS_10, B00MIVLJZE_2, B00MIVLJZE_6, B01N5234UL_6, B01N5234UL_7, B06XSN273K_2, B06XSN273K_4, B06XSN273K_7, B00J4XC5IE_4, B00ELBA932_8, B077GT99MM_1, B077GT99MM_2, B077GT99MM_3, B077GT99MM_4, B077GT99MM_5, B077GT99MM_6, B077GT99MM_7, B077GT99MM_8, B077GT99MM_9, B077GT99MM_10, B072PXFXJ4_3, B072PXFXJ4_5, B072PXFXJ4_6, B072PXFXJ4_7, B072PXFXJ4_8, B072PXFXJ4_9, B072PXFXJ4_10, B00J4M33MC_4, B00J4M33MC_5, B00J4M2ZLM_9, B00QMHD77S_1, B00QMHD77S_3, B00QMHD77S_4, B00QMHD77S_9, B001NWNPC4_1, B01HEZ48MO_1, B01HEZ48MO_9, B01HEZ48MO_10, B01MDRCVPV_4, B01MDRCVPV_5, B009GCQZN4_4, B009GCQZN4_10, B075HX4BQZ_2, B075HX4BQZ_3, B075HX4BQZ_4, B075HX4BQZ_5, B075HX4BQZ_6, B075HX4BQZ_7, B075HX4BQZ_8, B075HX4BQZ_9, B075HX4BQZ_10, B00OQKZ39I_4, B00OV25KEO_3, B00OV25KEO_5, B00OV25KEO_10, B01GFWDGB6_7, B01GFWDGB6_8, B072MQQVGR_8, B009GCRTPC_2, B019KH4O6O_1, B019KH4O6O_4, B019KH4O6O_5, B019KH4O6O_6, B019KH4O6O_8, B00KPBBJ3G_5, B00KPBBJ3G_6, B00KPBBJ3G_7, B00KPBBJ3G_8, B00A3QQQF4_3, B00A3QQQF4_6, B0188VY5UI_9, B01DGMGMEG_7, B01DGMGMEG_8, B01DGMGMEG_9, B01DGMGMEG_10, B00MDK9VVY_1, B00MDK9VVY_2, B00MDK9VVY_3, B075QHMDWF_9, B01NAU4K79_3, B01NAU4K79_4, B01NAU4K79_6, B01N0H2DN0_8, B01N0H2DN0_9, B01N0H2DN0_10, B01M34GFGE_2, B01M34GFGE_3, B01M34GFGE_4, B01M34GFGE_5, B01M34GFGE_6, B01M34GFGE_7, B01M34GFGE_8, B01M34GFGE_9, B01M34GFGE_10, B00U8EXCH6_1, B00U8EXCH6_5, B00U8EXCH6_6, B00U8EXCH6_10, B00J3NJ0MO_9, 1787270017_8, 1787270017_10, B075FVFP7D_1, B075FVFP7D_4, B075FVFP7D_5, B075FVFP7D_6, B075FVFP7D_7, B075FVFP7D_8, B075FVFP7D_9, B075FVFP7D_10, B01MTNA7I0_3, B01MTNA7I0_5, B01MTNA7I0_9, B00E4G0UH4_8, B00E4G0UH4_9, B00E4G0UH4_10, B01MZELYRL_2, B01MZELYRL_7, B01MZELYRL_8, B01MZELYRL_10, B010LY92VC_2, B010LY92VC_8, B010LY92VC_9, B00N9WI5UI_5, B00N9WI5UI_7, B00N9WI5UI_9, B073BCB2C4_6, B073BCB2C4_7, B073BCB2C4_8, B073BCB2C4_9, B073BCB2C4_10, B071V86RTS_2, B071V86RTS_5, B074DVQKPX_3, B074DVQKPX_6, B074DVQKPX_7, B074DVQKPX_8, B074DVQKPX_9, B074DVQKPX_10, B075SRMJKS_3, B075SRMJKS_7, B075SRMJKS_8, B075SRMJKS_9, B075SRMJKS_10, B01IKFLEGU_3, B01IKFLEGU_5, B01IKFLEGU_6, B01IKFLEGU_7, B01IKFLEGU_8, B01IKFLEGU_9, B01IKFLEGU_10, B074P93F79_7, B074P93F79_8, B074P93F79_9, B01MY7XSMC_2, B01MY7XSMC_8, B01KV3NL6A_2, B009319M2O_9, B009319M2O_10, B00MQS83A8_2, B00MQS83A8_3, B009GCRDZ8_4, B009GCRDZ8_8, B075QDXVRW_3, B075QDXVRW_4, B075QDXVRW_5, B075QDXVRW_6, B075QDXVRW_7, B075QDXVRW_8, B075QDXVRW_9, B075QDXVRW_10, B01DUPDSZ0_5, B01DUPDSZ0_9, B00AWCPG28_2, B00AWCPG28_3, B00AWCPG28_5, B00AWCPG28_6, B009312MX0_1, B009312MX0_3, B009312MX0_6, B009312MX0_7, B009318OE6_5, B0746GB8PB_3, B009310S22_1, B009310S22_4, B009310S22_6, B072BMCMTX_6, B072BMCMTX_10, B0090UYT80_2, B0090UYT80_8, B01MT3EPQL_3, B00HNR55DK_1, B00NGJ0048_7, B00V7MMFKI_2, B0050JHJAK_5, B0050JHJAK_9, B0774XQ3KN_1, B0774XQ3KN_2, B0774XQ3KN_3, B012DB8E38_7, B01N7FNITL_3, B01N7FNITL_8, B00LCT5IUK_1, B00LCT5IUK_2, B00LCT5IUK_4, B00LCT5IUK_8, B00LCT5IUK_10, B009312RMG_3, B009312RMG_9, B0076L2AI6_1, B0076L2AI6_6, B0076L2AI6_10, B0753G7GDG_9, B0753G7GDG_10, B00931109W_4, B00931109W_7, B00931109W_9, B004UTTXJG_3, B004UTTXJG_6, B004UTTXJG_8, B004UTTXJG_10, B00HYMC33O_2, B00HYMC33O_5, B00HYMC33O_6, B00ELB9U4G_4, B00ELB9U4G_6, B00ELB9U4G_10, B01LZ4VYF9_3, B01LZ4VYF9_4, B00F1D8WHO_2, B00F1D8WHO_3, B00F1D8WHO_4, B00F1D8WHO_5, B00F1D8WHO_6, B00F1D8WHO_7, B00F1D8WHO_8, B00F1D8WHO_9, B00F1D8WHO_10, B009312190_10, B009311M6I_1, B009311M6I_5, B009311M6I_9, B00930YGB2_2, B009311QIW_2, B009311QIW_5, B019KH5JRW_8, B009318QDK_1, B009318QDK_5, B009318QDK_8, B009318QDK_10, B00OK78H5O_7, B0076L2BJE_2, B0093123PC_2, B0093123PC_10, B00BY0GT82_10, B01NC27D26_3, B00B6SLFMC_1, B00I6THTBK_4, B00I6THTBK_7, B00I6THTBK_10, B076WQ3M5X_8, B009GCTH1Q_7, B009GCTH1Q_10, B075P9N6FV_1, B075P9N6FV_4, B075P9N6FV_9, B0093133HE_9, B076WVK44C_6, B076WVK44C_7, B0076L2CK2_10, B00JO5YPLC_2, B00JO5YPLC_6, B00MDBOK96_7, B00WDY6JXI_8, B00WDY6JXI_10, B00YP5CVEO_1, B00YP5CVEO_5, B00YP5CVEO_7, B00YP5CVEO_8, B00YP5CVEO_10, B0117855BC_1, B0117855BC_2, B0117855BC_5, B0117855BC_6, B0117855BC_7, B009312QTK_1, B009312QTK_6, B01EHHSZ4E_1, B00TGW3J56_3, B00TGW3J56_6, B00TGW3J56_8, B00TGW3J56_9, B01KM1NTRC_2, B01KM1NTRC_5, B01KM1NTRC_6, B00KCMCWDO_4, B00KCMCWDO_5, B00DZL8JSQ_4, B00DZL8JSQ_5, B00DZL8JSQ_7, B0076L1XA2_1, B0076L1XA2_6, B0076L1XA2_7, B0076L1XA2_10, B01CML16CK_3, B01CML16CK_6, B01CML16CK_8, B01CML16CK_9, B005PH2HTK_2, B005PH2HTK_4, B005PH2HTK_10, B01BB8MRNM_9, B009P0ZR8Q_10, B01EHHTD5Y_1, B003NFJMBM_2, B003NFJMBM_5, B004CT3HKU_1, B004CT3HKU_3, B004CT3HKU_6, B0093125IM_4, B0093125IM_5, B0753DGQ62_3, B0753DGQ62_4, B0753DGQ62_5, B0753DGQ62_6, B0753DGQ62_7, B0753DGQ62_8, B0753DGQ62_9, B0753DGQ62_10, B00ELBBFCQ_7, B00RCHK748_3, B00RCHK748_10, B00DPSJ3WA_1, B00DPSJ3WA_3, B00DPSJ3WA_4, B00DPSJ3WA_10, B00931268G_7, B00931268G_8, B00SIWUU2A_4, B00SIWUU2A_7, B009GCRRUE_7, B007OU5T5A_2, B007OU5T5A_3, B007OU5T5A_6, B01MUDEP57_3, B00EPDY59A_8, B00EPDY59A_9, B00AEI58HI_2, B00AEI58HI_8, B007OUAP5E_2, B009310GPG_2, B009310GPG_4, B009310GPG_5, B009310GPG_6, B009310GPG_7, B009310GPG_8, B009310GPG_9, B009310GPG_10, B06XSDJDC7_4, B06XSDJDC7_5, B06XSDJDC7_6, B06XSDJDC7_7, B06XSDJDC7_8, B06XSDJDC7_9, B06XSDJDC7_10, B0093138H4_7, B004UVJG7I_7, B00MDC8DO8_2, B00MDC8DO8_3, B00MDC8DO8_8, B00NMIYHU6_4, B00NMIYHU6_5, B00NMIYHU6_10, B00J2WB5BK_2, B00J2WB5BK_7, B074K4QSR9_4, B074K4QSR9_5, B074K4QSR9_8, B009T45XY6_5, B009T45XY6_6, B009T45XY6_9, B077P5VSMF_5, B077P5VSMF_7, B077P5VSMF_10, B00AWCF76I_6, B076HZSR94_5, B076HZSR94_6, B076HZSR94_7, B076HZSR94_8, B076HZSR94_9, B076HZSR94_10, B00BG8F0H8_1, B00BG8F0H8_6, B00BG8F0H8_7, B00BG8F0H8_8, B00BG8F0H8_10, B01IK52REI_4, B072QSPQM4_3, B072QSPQM4_5, B072QSPQM4_10, B01L8W5K76_2, B01L8W5K76_5, B06XHMSZGY_3, B06XHMSZGY_5, B06XHMSZGY_8, B06XHMSZGY_10, B073H4WMWW_9, B071F3SJ6S_2, B071F3SJ6S_6, B0711Z7XQ9_4, B0711Z7XQ9_7, B0711Z7XQ9_9, B0711Z7XQ9_10, B00TOC717K_3, B00TOC717K_4, B00TOC717K_5, B00TOC717K_6, B00TOC717K_7, B00TOC717K_8, B00TOC717K_9, B00TOC717K_10, B075H2H3N6_1, B075H2H3N6_2, B075H2H3N6_3, B075H2H3N6_4, B075H2H3N6_5, B075H2H3N6_6, B075H2H3N6_7, B075H2H3N6_8, B075H2H3N6_9, B075H2H3N6_10, B07237PHB6_6, B00EAHXWEU_1, B00EAHXWEU_3, B00EAHXWEU_6, B00EAHXWEU_7, B00EAHXWEU_8, B00EAHXWEU_9, B073YRT4KW_1, B073YRT4KW_2, B073YRT4KW_3, B073YRT4KW_4, B073YRT4KW_5, B073YRT4KW_6, B073YRT4KW_7, B073YRT4KW_8, B073YRT4KW_9, B073YRT4KW_10, B071WK651R_2, B071WK651R_6, B071WK651R_8, B071WK651R_10, B00ID6OUH2_2, B00ID6OUH2_4, B00ID6OUH2_7, B071W4M117_2, B071W4M117_3, B071W4M117_5, B071W4M117_7, B071W4M117_8, B071W4M117_9, B071W4M117_10, B01MS74B5E_2, B01MS74B5E_8, B072NC2KN5_2, B072NC2KN5_8, B072NC2KN5_10, B01IHHS950_3, B01IHHS950_4, B01IHHS950_5, B01IHHS950_7, B0738DFR6J_4, B0738DFR6J_5, B0738DFR6J_8, B0738DFR6J_9, B0738DFR6J_10, B073723MDC_2, B073723MDC_3, B073723MDC_10, B01MUEA3S2_2, B01MUEA3S2_8, B01MUEA3S2_9, B071X4FB6Y_4, B071X4FB6Y_5, B071X4FB6Y_6, B071X4FB6Y_7, B071X4FB6Y_8, B071X4FB6Y_9, B071X4FB6Y_10, B076C2DQBC_1, B076C2DQBC_3, B076C2DQBC_4, B076C2DQBC_5, B076C2DQBC_6, B076C2DQBC_7, B076C2DQBC_8, B076C2DQBC_9, B076C2DQBC_10, B01J1PBYQI_5, B01J1PBYQI_6, B01J1PBYQI_7, B075GYZF5D_8, B075GYZF5D_9, B075GYZF5D_10, B0773S84CX_2, B0773S84CX_3, B0773S84CX_4, B0773S84CX_5, B0773S84CX_6, B0773S84CX_7, B0773S84CX_8, B0773S84CX_9, B0773S84CX_10, B075TZZMPQ_3, B075TZZMPQ_10, B07354FKPL_8, B07354FKPL_10, B0083TXWXC_2, B0083TXWXC_4, B072KR77WM_3, B072KR77WM_6, B01GCQIB24_2, B01GCQIB24_5, B01GCQIB24_8, B00SWIDLC6_6, B00SWIDLC6_7, B01CLDGBYC_8, B072C135YS_10, B07194433K_3, B07194433K_4, B07194433K_7, B07194433K_9, B07219WG9M_2, B07219WG9M_3, B07219WG9M_6, B07219WG9M_9, B07219WG9M_10, B06X6KD25K_1, B06X6KD25K_10, B072LS6PKD_6, B071CZKWPS_10, B000OV0X48_3, B00MIVLJZE_2, B00MIVLJZE_6, B06XXXK9YL_1, B06XXXK9YL_4, B06XXXK9YL_8, B06XXXK9YL_10, B076CG3ZVB_1, B076CG3ZVB_3, B076CG3ZVB_4, B076CG3ZVB_5, B076CG3ZVB_6, B076CG3ZVB_9, B01M5C5M5G_9, B075MGJY8Q_1, B075MGJY8Q_6, B075MGJY8Q_7, B075MGJY8Q_8, B075MGJY8Q_9, B075MGJY8Q_10, B072M7X26B_1, B072M7X26B_5, B072M7X26B_8, B072M7X26B_9, B072M7X26B_10, B00J4XC5IE_4, B071Y1WSRR_3, B071Y1WSRR_6, B071Y1WSRR_8, B071Y1WSRR_10, B01N52Q2GS_10, B074C24RDV_3, B074C24RDV_4, B074C24RDV_5, B074C24RDV_6, B074C24RDV_7, B074C24RDV_8, B074C24RDV_9, B074C24RDV_10, B01BLC5OBA_2, B071Z1VGJW_1, B071Z1VGJW_2, B071Z1VGJW_5, B071Z1VGJW_9, B071Z1VGJW_10, B0744JC89X_1, B0744JC89X_5, B06XRCWVS3_8, B06XRCWVS3_10, B01JU82EI8_6, B01JU82EI8_9, B01N5IBDAS_2, B01N5IBDAS_5, B01N5IBDAS_8, B01N5IBDAS_9, B00MHYNGOY_9, B00GU8G52I_6, B00GU8G52I_7, B00GU8G52I_9, B0719W4FF6_5, B0719W4FF6_6, B0719W4FF6_8, B06Y617JCS_5, B071J29VTG_2, B071J29VTG_7, B071J29VTG_8, B071KNMXCH_4, B019U5SO5S_4, B071J8D8CM_2, B071J8D8CM_10, B071KNWK5L_4, B071KNWK5L_10, B000ICZ84I_4, B000ICZ84I_8, B071RXV3WH_2, B071RXV3WH_5, B071RXV3WH_8, B073SGH9Q2_1, B073SGH9Q2_3, B073SGH9Q2_5, B073SGH9Q2_6, B073SGH9Q2_7, B073SGH9Q2_9, B073SGH9Q2_10, B01KHURAU0_1, B01KHURAU0_2, B01KHURAU0_4, B01KHURAU0_6, B01KHURAU0_7, B00N7K35JI_4, B00N7K35JI_8, B00N7K35JI_9, B071R7NDV7_7, B071R7NDV7_8, B071R7NDV7_9, B072MWV544_2, B072MWV544_9, B01GPPVS68_2, B01GPPVS68_4, B01GPPVS68_6, B01GPPVS68_8, B01GPPVS68_10, B00FAY7K1S_1, B00FAY7K1S_2, B00FAY7K1S_4, B00FAY7K1S_6, B00FAY7K1S_9, B01GCQIMLE_1, B01GCQIMLE_4, B01GCQIMLE_8, B01GCQIMLE_9, B01GCQIMLE_10, B012CZH0LW_10, B0739YTVZ7_3, B0739YTVZ7_5, B0739YTVZ7_8, B0739YTVZ7_9, B000OV0X3Y_1, B00U0ZSDDQ_4, B072BH5FYW_3, B072BH5FYW_6, B072BH5FYW_8, B01BLBZJGQ_6, B01LXFTX9K_4, B01LXFTX9K_9, B01LXFTX9K_10, B010LY92VC_2, B010LY92VC_8, B010LY92VC_9, B01N4G9RW0_3, B01N4G9RW0_4, B01N4G9RW0_6, B01N4G9RW0_9, B075M6B4HK_4, B075M6B4HK_5, B075M6B4HK_7, B075M6B4HK_9, B075M6B4HK_10, B0728F96TS_2, B0728F96TS_3, B0728F96TS_7, B0728F96TS_8, B01MY7XSMC_2, B01MY7XSMC_8, B013K7SD0S_3, B013K7SD0S_5, B013K7SD0S_6, B013K7SD0S_7, B013K7SD0S_8, B075BKMW23_4, B075BKMW23_8, B075BKMW23_9, B074LHJMJQ_3, B074LHJMJQ_5, B074LHJMJQ_6, B074LHJMJQ_7, B074LHJMJQ_8, B074LHJMJQ_9, B074LHJMJQ_10, B00GFJSQYC_2, B07356XK79_3, B07356XK79_6, B07356XK79_8, B07356XK79_9, B07356XK79_10, B00PRJ4X66_2, B00PRJ4X66_4, B00PRJ4X66_6, B00PRJ4X66_9, B072FPVTFY_2, B072FPVTFY_7, B018I1996I_3, B018I1996I_5, B018I1996I_9, B06VSPTGLS_1, B06VSPTGLS_5, B06VSPTGLS_9, B06VSPTGLS_10, B01176NUDE_9, B019842PUG_6, B071LQLC6T_3, B071LQLC6T_9, B0753KTCQY_4, B0753KTCQY_8, B0753KTCQY_9, B072BMJPZM_1, B072BMJPZM_3, B014YLZMYY_3, B014YLZMYY_8, B016WG786O_3, B016WG786O_5, B016WG786O_7, B01JIIBKSK_6, B01JIIBKSK_7, B00SR15J3M_1, B00SR15J3M_10, B01MUD0WFM_5, B00GFJSM46_3, B00GFJSM46_6, B06WCZC23D_2, B06WCZC23D_3, B06WCZC23D_5, B06WCZC23D_6, B06WCZC23D_7, B06WCZC23D_8, B06WCZC23D_9, B06WCZC23D_10, B00JSR91I8_3, B00JSR91I8_4, B00JSR91I8_5, B00JSR91I8_6, B00JSR91I8_7, B00JSR91I8_8, B00JSR91I8_9, B00JSR91I8_10, B071F3W2HD_1, B071F3W2HD_6, B0185VIKG6_4, B016NW7GJQ_5, B016NW7GJQ_6, B016NW7GJQ_7, B016NW7GJQ_8, B016NW7GJQ_9, B016NW7GJQ_10, B0748HL1NZ_8, B0748HL1NZ_9, B01MQVIY4F_9, B01MQVIY4F_10, B01MZ7P69Z_4, B01MZ7P69Z_8, B0749QD8FD_1, B0749QD8FD_6, B0753JWCZD_4, B0753JWCZD_8, B0753JWCZD_9, B01NA82EV8_6, B01NA82EV8_7, B01NA82EV8_8, B01NA82EV8_9, B01NA82EV8_10, B072XRYBV5_6, B072XRYBV5_7, B072XRYBV5_8, B072XRYBV5_9, B072XRYBV5_10, B01GX1BEKE_1, B00Y0QOBUU_6, B00Y0QOBUU_9, B00FVVVLHE_4, B00FVVVLHE_5, B00FVVVLHE_7, B00FVVVLHE_9, B01MRVY4IW_1, B01MRVY4IW_6, B01MRVY4IW_7, B01CQUUGXC_1, B01CQUUGXC_2, B01CQUUGXC_3, B01N0NXU15_1, B01N0NXU15_2, B01N0NXU15_4, B01N0NXU15_5, B01N0NXU15_6, B01N0NXU15_7, B01N0NXU15_8, B01N0NXU15_9, B01N0NXU15_10, B01M094DOA_9, B01M094DOA_10, B071S9S2YC_3, B071S9S2YC_5, B071S9S2YC_6, B071S9S2YC_7, B071S9S2YC_8, B071S9S2YC_9, B071S9S2YC_10, B01DT15P88_2, B01DT15P88_3, B01DT15P88_5, B01GX1BFNK_2, B01GX1BFNK_6, B01GX1BFNK_7, B01GX1BFNK_10, B077FBDCZK_1, B077FBDCZK_5, B077FBDCZK_7, B00JOH3XJ0_2, B07356PHR1_3, B07356PHR1_4, B07356PHR1_8, B07356PHR1_9, B07356PHR1_10, B01N00ZRE4_9, B01N00ZRE4_10, B00F1AISS0_5, B00F1AISS0_8, B00F1AISS0_10, B073QSP8XG_2, B00QNSMLYQ_2, B00QNSMLYQ_7, B00QNSMLYQ_8, B019840O04_1, B019840O04_7, B019840O04_10, B01C9X1NDS_6, B01C9X1NDS_7, B014YM0Z4A_1, B014YM0Z4A_5, B0185VJBVO_3, B0185VJBVO_9, B071X9WRMM_5, B071X9WRMM_6, B071X9WRMM_7, B01MECRUS1_5, B01MECRUS1_7, B01MECRUS1_8, B01MECRUS1_9, B01MECRUS1_10, B019W8N2OG_1, B019W8N2OG_2, B019W8N2OG_4, B019W8N2OG_9, B07588671M_4, B07588671M_5, B07588671M_6, B07588671M_7, B07588671M_8, B07588671M_9, B07588671M_10, B01G90JXFC_2, B01G90JXFC_3, B01G90JXFC_4, B01G90JXFC_5, B01G90JXFC_6, B01G90JXFC_7, B01G90JXFC_8, B01G90JXFC_9, B01G90JXFC_10, B0716S97FM_1, B0716S97FM_3, B0725ZD991_3, B0725ZD991_6, B0725ZD991_7, B0725ZD991_8, B0725ZD991_9, B0725ZD991_10, B00WJ4QIP6_5, B00WJ4QIP6_6, B00WJ4QIP6_7, B072R2K423_2, B072R2K423_3, B072R2K423_4, B072R2K423_5, B072R2K423_6, B072R2K423_7, B072R2K423_8, B072R2K423_9, B072R2K423_10, B00WJ4OBA0_5, B071VMQF36_1, B071VMQF36_3, B0753JWM5B_1, B0753JWM5B_6, B00683U4AE_2, B00683U4AE_4, B00683U4AE_7, B00683U4AE_10, B00EVKLB5I_6, B01LXJ750I_2, B01LXJ750I_5, B01LXJ750I_7, B01LXJ750I_8, B075ZZ77WH_5, B075ZZ77WH_8, B075ZZ77WH_9, B075ZZ77WH_10, B005TQQZGI_3, B005TQQZGI_4, B005TQQZGI_7, B015LYNHJU_1, B015LYNHJU_7, B015LYNHJU_10, B0731K6LW8_2, B0731K6LW8_3, B0731K6LW8_4, B0731K6LW8_5, B0731K6LW8_6, B0731K6LW8_7, B0731K6LW8_8, B0731K6LW8_9, B0731K6LW8_10, B01FALOZPY_8, B01FALOZPY_9, B01FALOZPY_10, B074JFNDBJ_1, B074JFNDBJ_2, B074JFNDBJ_3, B074JFNDBJ_4, B074JFNDBJ_5, B074JFNDBJ_6, B074JFNDBJ_7, B074JFNDBJ_8, B074JFNDBJ_9, B074JFNDBJ_10, B072NYVZYH_1, B072NYVZYH_10, B072N64HML_5, B072N64HML_6, B072N64HML_7, B01M0MQB9G_5, B01M0MQB9G_7, B01M0MQB9G_8, B01M0MQB9G_9, B01M0MQB9G_10, B00U3SSM22_3, B01MCXZPKS_4, B01MCXZPKS_7, B01MCXZPKS_8, B01MCXZPKS_10, B00FSCIJ4E_5, B00FSCIJ4E_6, B00FSCIJ4E_8, B00FSCIJ4E_10, B001579Z6W_3, B001579Z6W_5, B001579Z6W_6, B074JFFYBH_1, B074JFFYBH_2, B074JFFYBH_3, B074JFFYBH_6, B074JFFYBH_7, B074JFFYBH_8, B074JFFYBH_9, B074JFFYBH_10, B01BHS53FA_6, B01BHS53FA_7, B00W4ZU3AG_10, B01ANKEXUO_3, B01ANKEXUO_8, B01ANKEXUO_10, B01MTJXJSP_2, B01MTJXJSP_3, B01MTJXJSP_4, B01MTJXJSP_5, B01MTJXJSP_9, B01MTJXJSP_10, B00KA593LC_1, B00KA593LC_3, B00KA593LC_4, B00KA593LC_6, B00KA593LC_9, B00F1ACGEM_6, B01IHXB104_3, B07585QC21_5, B07585QC21_6, B07585QC21_7, B07585QC21_8, B07585QC21_9, B07585QC21_10, B074JCJYVX_5, B074JCJYVX_6, B074JCJYVX_7, B074JCJYVX_8, B074JCJYVX_9, B074JCJYVX_10, B014YLYX1C_4, B014YLYX1C_5, B071XJ24C9_4, B071XJ24C9_5, B071XJ24C9_9, B071XJ24C9_10, B01G0HGBPY_1, B01G0HGBPY_7, B01G0HGBPY_8, B01G0HGBPY_9, B01G0HGBPY_10, B0748HGXQN_1, B0748HGXQN_9, B0748HGXQN_10, B00705YP2C_2, B00705YP2C_6, B00705YP2C_10, B011MUD3AA_1, B011MUD3AA_2, B011MUD3AA_3, B011MUD3AA_4, B011MUD3AA_5, B011MUD3AA_6, B011MUD3AA_7, B011MUD3AA_8, B011MUD3AA_9, B011MUD3AA_10, B01MYBH8BW_4, B01MYBH8BW_6, B01MYBH8BW_8, B01MD18COY_2, B01MD18COY_4, B01MD18COY_8, B01MD18COY_9, B01MD18COY_10, B01M054XWA_2, B01M054XWA_9, B00ET0MYPQ_8, B074J6YSJF_2, B074J6YSJF_5, B074J6YSJF_7, B074J6YSJF_8, B074J6YSJF_9, B074J6YSJF_10, B076BPW75Y_1, B076BPW75Y_2, B076BPW75Y_3, B076BPW75Y_4, B076BPW75Y_5, B076BPW75Y_6, B076BPW75Y_7, B076BPW75Y_8, B076BPW75Y_9, B076BPW75Y_10, B00Y0QO9G6_2, B00Y0QO9G6_7, B00Y0QO9G6_8, B06XWBD2HF_1, B06XWBD2HF_2, B06XWBD2HF_3, B06XWBD2HF_4, B06XWBD2HF_5, B06XWBD2HF_6, B06XWBD2HF_7, B06XWBD2HF_8, B06XWBD2HF_9, B06XWBD2HF_10, B01MZ9Q1Y9_1, B01MZ9Q1Y9_4, B01MZ9Q1Y9_6, B01MZ9Q1Y9_7, B01MZ9Q1Y9_8, B01IK52REI_4, B009ZCA00Y_3, B009ZCA00Y_4, B009ZCA00Y_6, B009ZCA00Y_8, B01N7ZK8RN_1, B01N7ZK8RN_2, B01N7ZK8RN_3, B01N7ZK8RN_4, B01N7ZK8RN_5, B01N7ZK8RN_6, B01N7ZK8RN_7, B01N7ZK8RN_8, B01N7ZK8RN_9, B01N7ZK8RN_10, B01MY555QZ_1, B01MY555QZ_2, B01MY555QZ_3, B01MY555QZ_4, B01MY555QZ_5, B01MY555QZ_6, B01MY555QZ_7, B01MY555QZ_8, B01MY555QZ_9, B01MY555QZ_10, B01DT15JQ6_2, B01DT15JQ6_3, B01DT15JQ6_4, B01DT15JQ6_5, B01DT15JQ6_6, B01DT15JQ6_7, B01DT15JQ6_8, B01DT15JQ6_9, B01DT15JQ6_10, B07112KHMH_2, B07112KHMH_5, B07112KHMH_6, B07112KHMH_7, B07112KHMH_8, B07112KHMH_9, B07112KHMH_10, B074PRJSGY_3, B074PRJSGY_4, B074PRJSGY_5, B074PRJSGY_6, B074PRJSGY_7, B074PRJSGY_8, B074PRJSGY_9, B074PRJSGY_10, B074V3D5VS_4, B01N9VAD27_1, B01N9VAD27_3, B01N9VAD27_4, B076BMPMMT_1, B076BMPMMT_2, B076BMPMMT_5, B076BMPMMT_6, B076BMPMMT_7, B076BMPMMT_8, B076BMPMMT_9, B076BMPMMT_10, B00ELBA5S6_2, B00ELBA5S6_4, B00ELBA5S6_5, B00ELBA5S6_6, B00ELBA5S6_7, B00ELBA5S6_8, B00ELBA5S6_9, B00ELBA5S6_10, B072DZ3ZR6_1, B072DZ3ZR6_2, B072DZ3ZR6_3, B072DZ3ZR6_4, B072DZ3ZR6_5, B072DZ3ZR6_6, B072DZ3ZR6_7, B072DZ3ZR6_8, B072DZ3ZR6_9, B072DZ3ZR6_10, B01LZ7SL2Z_9, B01LZ7SL2Z_10, B003XWVV6E_4, B06WWFZN2B_8, B06WWFZN2B_9, B06XH8681N_2, B06XH8681N_9, B06XH8681N_10, B01EIUFLR4_5, B01EIUFLR4_6, B01EIUFLR4_7, B01EIUFLR4_8, B01EIUFLR4_9, B01EIUFLR4_10, B073PWL69Z_5, B073PWL69Z_8, B073PWL69Z_10, B01ISYA6JY_1, B01ISYA6JY_2, B01ISYA6JY_3, B01ISYA6JY_4, B01ISYA6JY_5, B01ISYA6JY_6, B01ISYA6JY_8, B072BX5HFQ_2, B072BX5HFQ_5, B072BX5HFQ_7, B072BX5HFQ_8, B07587FM46_3, B07587FM46_6, B014FFU61I_4, B014FFU61I_5, B01M35WOI5_3, B01M35WOI5_4, B01M35WOI5_5, B01M35WOI5_6, B01M35WOI5_7, B01M35WOI5_8, B01M35WOI5_9, B01M35WOI5_10, B009ZC9ZDC_5, B009ZC9ZDC_8, B009ZC9ZDC_9, B01MQ0G8WF_3, B01MQ0G8WF_9, B01MQ0G8WF_10, B01IHFCNX6_1, B01IHFCNX6_2, B01IHFCNX6_4, B01IHFCNX6_5, B01IHFCNX6_6, B01IHFCNX6_7, B01IHFCNX6_8, B01IHFCNX6_9, B01IHFCNX6_10, B01N6539JW_10, B075Q9D5MC_2, B075Q9D5MC_3, B075Q9D5MC_4, B075Q9D5MC_5, B075Q9D5MC_6, B075Q9D5MC_7, B075Q9D5MC_8, B075Q9D5MC_9, B075Q9D5MC_10, B017EXWTW2_1, B017EXWTW2_3, B017EXWTW2_4, B017EXWTW2_9, B00ARW17U8_1, B00ARW17U8_2, B00ARW17U8_5, B00ARW17U8_6, B00ARW17U8_7, B00ARW17U8_8, B01GCUQ24O_1, B01GCUQ24O_2, B01GCUQ24O_3, B01GCUQ24O_4, B01GCUQ24O_5, B01GCUQ24O_6, B01GCUQ24O_7, B01GCUQ24O_8, B01GCUQ24O_9, B01GCUQ24O_10, B00ND5XOHK_4, B00ND5XOHK_5, B00ND5XOHK_6, B00ND5XOHK_7, B00ND5XOHK_8, B00ND5XOHK_9, B00ND5XOHK_10, B01F4RYXQK_8, B00ABA0ZOA_4, B00ABA0ZOA_8, B00ABA0ZOA_9, B00ABA0ZOA_10, B001OVG40E_2, B001OVG40E_3, B001OVG40E_5, B001OVG40E_8, B01CBME0P0_2, B01CBME0P0_4, B01CBME0P0_5, B01CBME0P0_6, B01CBME0P0_7, B01CBME0P0_8, B01CBME0P0_9, B01CBME0P0_10, B075XHCWQX_2, B075XHCWQX_3, B075XHCWQX_4, B075XHCWQX_5, B075XHCWQX_6, B075XHCWQX_7, B075XHCWQX_8, B075XHCWQX_9, B075XHCWQX_10, B00ECV50DU_6, B00ECV50DU_7, B00ECV50DU_8, B00ECV50DU_9, B00ECV50DU_10, B009ZCA1TO_2, B009ZCA1TO_4, B009ZCA1TO_9, B071KP3NWK_3, B071KP3NWK_4, B071KP3NWK_5, B071KP3NWK_6, B071KP3NWK_7, B071KP3NWK_8, B071KP3NWK_9, B071KP3NWK_10, B00UXI32I6_1, B00UXI32I6_7, B00UXI32I6_8, B019GOFDFC_3, B019GOFDFC_4, B019GOFDFC_9, B019GOFDFC_10, B00SYMTTXA_2, B00SYMTTXA_7, B00SYMTTXA_8, B0722G25H8_4, B0722G25H8_10, B0731H7R1L_4, B0731H7R1L_8, B0723CX4YH_5, B0723CX4YH_8, B0723CX4YH_9, B0723CX4YH_10, B073FNTQ4M_3, B073FNTQ4M_4, B073FNTQ4M_5, B073FNTQ4M_6, B073FNTQ4M_7, B073FNTQ4M_8, B073FNTQ4M_9, B073FNTQ4M_10, B076P9DSXG_3, B076P9DSXG_4, B076P9DSXG_5, B076P9DSXG_6, B076P9DSXG_7, B076P9DSXG_8, B076P9DSXG_9, B076P9DSXG_10, 1583333002_4, 1583333002_5, 1583333002_6, 1583333002_9, 1583333002_10, B074H9DV31_1, B074H9DV31_2, B074H9DV31_3, B074H9DV31_4, B074H9DV31_5, B074H9DV31_6, B074H9DV31_7, B074H9DV31_8, B074H9DV31_9, B074H9DV31_10, B01IB7BJ8U_6, B01IB7BJ8U_8, B00ND00XU6_1, B00ND00XU6_2, B00ND00XU6_3, B00ND00XU6_4, B00ND00XU6_5, B00ND00XU6_6, B00ND00XU6_7, B00ND00XU6_8, B00ND00XU6_9, B00ND00XU6_10, B01JU977AW_5, B01JU977AW_6, B01JU977AW_7, B01JU977AW_8, B01JU977AW_9, B01JU977AW_10, B075GNXYZW_2, B075GNXYZW_7, B075GNXYZW_8, B075GNXYZW_9, B075GNXYZW_10, B01N4EQT6K_6, B01N4EQT6K_9, B01N6I1CUE_3, B01N6I1CUE_4, B01N6I1CUE_5, B01N6I1CUE_6, B01N6I1CUE_7, B01N6I1CUE_8, B01N6I1CUE_9, B01N6I1CUE_10, B071PCM8YT_2, B071PCM8YT_3, B071PCM8YT_4, B071PCM8YT_5, B071PCM8YT_6, B071PCM8YT_7, B071PCM8YT_8, B071PCM8YT_9, B071PCM8YT_10, B00QX75SUG_1, B00QX75SUG_2, B00QX75SUG_3, B00QX75SUG_5, B00QX75SUG_6, B00QX75SUG_8, B00QX75SUG_10, B01GVI34W0_7, B01GVI34W0_10, B01IPQ3LFG_3, B01IPQ3LFG_4, B01IPQ3LFG_5, B01IPQ3LFG_6, B01IPQ3LFG_7, B01IPQ3LFG_8, B01IPQ3LFG_9, B01IPQ3LFG_10, B009REO880_6, B009REO880_7, B009REO880_8, B009REO880_9, B00LXCKO1Y_2, B00LXCKO1Y_6, B06Y5MJFYW_7, B06Y5MJFYW_9, B077JRN4QK_7, B01G84OS5O_2, B01G84OS5O_4, B01FG70FD8_5, B001579Z6W_3, B001579Z6W_5, B001579Z6W_6, B073TYRC6K_1, B073TYRC6K_2, B073TYRC6K_3, B073TYRC6K_4, B073TYRC6K_5, B073TYRC6K_6, B073TYRC6K_7, B073TYRC6K_8, B073TYRC6K_9, B073TYRC6K_10, B01N6TYZ5T_2, B01N6TYZ5T_5, B01N6TYZ5T_8, B01N6TYZ5T_9, B01N6TYZ5T_10, B00KUHLUP2_1, B00KUHLUP2_5, B00KUHLUP2_6, B00KUHLUP2_7, B00KUHLUP2_8, B00KUHLUP2_9, B00KUHLUP2_10, B06WP6Z6PB_3, B06WP6Z6PB_5, B072FP3GXS_4, B072FP3GXS_10, B06XHZPNCY_1, B06XHZPNCY_2, B06XHZPNCY_3, B06XHZPNCY_4, B06XHZPNCY_5, B06XHZPNCY_6, B06XHZPNCY_7, B06XHZPNCY_8, B06XHZPNCY_9, B06XHZPNCY_10, B01IHFCO08_6, B01IHFCO08_7, B01IHFCO08_8, B01IHFCO08_9, B01IHFCO08_10, B014FFTW9A_3, B014FFTW9A_10, B073TRQH1P_1, B073TRQH1P_2, B073TRQH1P_4, B073TRQH1P_5, B073TRQH1P_7, B073TRQH1P_8, B073TRQH1P_10, B00AJWTEUG_1, B00AJWTEUG_5, B00AJWTEUG_7, B00AJWTEUG_9, B019QYUT42_2, B019QYUT42_3, B019QYUT42_5, B019QYUT42_6, B019QYUT42_7, B019QYUT42_8, B019QYUT42_9, B019QYUT42_10, B01IHFCO12_2, B01IHFCO12_3, B01IHFCO12_5, B01IHFCO12_6, B01IHFCO12_7, B01IHFCO12_8, B01IHFCO12_9, B01IHFCO12_10, B071Y7P39L_1, B071Y7P39L_5, B071Y7P39L_8, B071Y7P39L_9, B071Y7P39L_10, B01IKOZ7GO_3, B01IKOZ7GO_4, B01IKOZ7GO_5, B01IKOZ7GO_6, B01IKOZ7GO_7, B01IKOZ7GO_8, B01IKOZ7GO_9, B01IKOZ7GO_10, B01MFCXHX9_4, B01MFCXHX9_10, B072B9YG47_1, B072B9YG47_2, B072B9YG47_9, B01F31YLSC_3, B01F31YLSC_5, B01F31YLSC_6, B01F31YLSC_7, B01F31YLSC_8, B01F31YLSC_9, B01F31YLSC_10, B016YCGERK_5, B016YCGERK_6, B016YCGERK_7, B016YCGERK_8, B016YCGERK_9, B016YCGERK_10, B01N5FXKRO_3, B01N5FXKRO_4, B01N5FXKRO_5, B01N5FXKRO_6, B01N5FXKRO_7, B01N5FXKRO_8, B01N5FXKRO_9, B01N5FXKRO_10, B077B3YTPL_1, B077B3YTPL_5, B077B3YTPL_6, B077B3YTPL_7, B077B3YTPL_8, B077B3YTPL_9, B077B3YTPL_10, B00ELBA7A2_1, B00ELBA7A2_3, B00ELBA7A2_5, B00ELBA7A2_9, B00ELBA7A2_10, B0756GWZ3G_1, B0756GWZ3G_2, B0756GWZ3G_4, B0756GWZ3G_6, B007OU5OYQ_6, B007OU5OYQ_9, B06XCZK5ST_1, B06XCZK5ST_6, B06XCZK5ST_7, B06XCZK5ST_8, B06XCZK5ST_9, B06XCZK5ST_10, B00FADI4X2_7, B01EOKB34I_3, B01EOKB34I_4, B01EOKB34I_6, B01EOKB34I_9, B01EOKB34I_10, B016A61VBE_1, B016A61VBE_3, B016A61VBE_8, B06XDD73XG_5, B06XDD73XG_9, B06XDD73XG_10, B019E7ZCXY_1, B019E7ZCXY_2, B019E7ZCXY_3, B019E7ZCXY_4, B019E7ZCXY_5, B019E7ZCXY_6, B019E7ZCXY_7, B019E7ZCXY_8, B019E7ZCXY_9, B019E7ZCXY_10, B005VEE27M_6, B005VEE27M_7, B005VEE27M_8, B00XJ94MGM_1, B00XJ94MGM_2, B00XJ94MGM_3, B00XJ94MGM_4, B00XJ94MGM_5, B00XJ94MGM_6, B00XJ94MGM_7, B00XJ94MGM_8, B00XJ94MGM_9, B00XJ94MGM_10, B01MYBXLWI_1, B01MYBXLWI_4, B01MYBXLWI_7, B01MYBXLWI_9, B01MYBXLWI_10, B0062FFTRG_5, B0062FFTRG_7, B0062FFTRG_8, B0062FFTRG_9, B0062FFTRG_10, B075FP6JPF_3, B075FP6JPF_5, B075FP6JPF_6, B075FP6JPF_7, B075FP6JPF_8, B075FP6JPF_9, B075FP6JPF_10, B01N3LU3M1_5, B01N3LU3M1_6, B01N3LU3M1_7, B01N3LU3M1_8, B01N3LU3M1_9, B01N3LU3M1_10, B00E7LJK54_2, B00E7LJK54_9, B075WV7B65_2, B075WV7B65_3, B075WV7B65_4, B075WV7B65_5, B075WV7B65_6, B075WV7B65_7, B075WV7B65_8, B075WV7B65_9, B075WV7B65_10, B01IFBKUKU_2, B01IFBKUKU_5, B017K93EXS_7, B01L443P6Q_3, B01L443P6Q_4, B01L443P6Q_6, B01939ZQ4S_1, B01939ZQ4S_6, B007J213WG_2, B007J213WG_9, B004M56VU2_5, B004M56VU2_6, B004M56VU2_7, B004M56VU2_8, B004M56VU2_9, B00XYB30C2_5, B00XYB30C2_6, B00XYB30C2_8, B01AJU4AK6_7, B01AJU4AK6_8, B01IYE747U_4, B01IYE747U_6, B01KXG5I2U_1, B01KXG5I2U_8, B01KXG5I2U_10, B002RZ8EBS_1, B002RZ8EBS_3, B002RZ8EBS_4, B007SZ1SJW_1, B007SZ1SJW_4, B007SZ1SJW_9, B00IVIZXP0_5, B009S0E5IQ_2, B009S0E5IQ_3, B009S0E5IQ_4, B01H8XYC6Y_2, B01H8XYC6Y_5, B01H8XYC6Y_7, B01H8XYC6Y_8, B075Z266Z5_1, B075Z266Z5_5, B075Z266Z5_8, B075Z266Z5_9, B075Z266Z5_10, B072BB2CVH_1, B072BB2CVH_3, B072BB2CVH_4, B072BB2CVH_5, B072BB2CVH_6, B072BB2CVH_7, B072BB2CVH_8, B072BB2CVH_9, B072BB2CVH_10, B071FP2PL7_4, B071FP2PL7_5, B071FP2PL7_6, B071FP2PL7_7, B071FP2PL7_8, B071FP2PL7_9, B071FP2PL7_10, B01LJ5UOVO_3, B01LJ5UOVO_7, B01LJ5UOVO_9, B01JACD2WQ_4, B01JACD2WQ_5, B01JACD2WQ_6, B01JACD2WQ_7, B01JACD2WQ_8, B01JACD2WQ_9, B01JACD2WQ_10, B00O7FZBTE_8, B00O7FZBTE_10, B00XYB4J9U_7, B00XYB4J9U_8, B00XYB4J9U_9, B01H5TE7AW_2, B01MT9DJNR_1, B01MT9DJNR_2, B01MT9DJNR_7, B01MT9DJNR_9, B01MT9DJNR_10, B007OU63GO_1, B007OU63GO_3, B007OU63GO_4, B007OU63GO_6, B007OU63GO_8, B01MFBTTA5_3, B01MFBTTA5_6, B01MFBTTA5_7, B01MFBTTA5_8, B01MFBTTA5_9, B01MFBTTA5_10, 819305573X_8, 819305573X_9, 819305573X_10, B002V3GGP2_1, B002V3GGP2_10, B002IRF9UE_1, B002IRF9UE_3, B002IRF9UE_4, B002IRF9UE_7, B00FFZY6EQ_5, B0062FIDOM_3, B0062FIDOM_6, B00M4J2T7M_2, B00M4J2T7M_6, B00M4J2T7M_10, B017K0M7M6_7, B017K0M7M6_8, B00J3XELSC_1, B00J3XELSC_4, B00J3XELSC_6, B00J3XELSC_7, B00J3XELSC_9, B01LZ660RF_1, B01LZ660RF_2, B01LZ660RF_3, B01LZ660RF_4, B01LZ660RF_5, B01LZ660RF_6, B01LZ660RF_7, B01LZ660RF_8, B01LZ660RF_9, B01LZ660RF_10, B074V8TG6M_9, B074V8TG6M_10, B005VEKL5Y_2, B005VEKL5Y_4, B005VEKL5Y_5, B005VEKL5Y_6, B01KZCZ0PM_1, B01KZCZ0PM_6, B01KZCZ0PM_7, B01KZCZ0PM_10, B00YJC9EIE_1, B007UHUM36_8, B007UHUM36_10, B009B7F6DO_10, B072JFD3VV_1, B00Y5EOHRY_1, B00Y5EOHRY_3, B00Y5EOHRY_6, B00Y5EOHRY_7, B00Y5EOHRY_10, B0179YAIRO_4, B01IPQ3LFG_3, B01IPQ3LFG_4, B01IPQ3LFG_5, B01IPQ3LFG_6, B01IPQ3LFG_7, B01IPQ3LFG_8, B01IPQ3LFG_9, B01IPQ3LFG_10, B01H9OBFZ8_6, B013LIH7US_3, B013LIH7US_9, B00XNE50Z0_9, B00XNE50Z0_10, B002PEQKHG_10, B005Q4D7ZA_1, B0076L3KKI_6, B0076L3KKI_7, B0076L3KKI_8, B0076L3KKI_9, B0076L3KKI_10, B00Z9Y4670_2, B00Z9Y4670_3, B00M4BU0OO_3, B00M4BU0OO_6, B00M4BU0OO_9, B00M4BU0OO_10, B01LZNRW0C_6, B01LZNRW0C_7, B01LZNRW0C_8, B01LZNRW0C_9, B01LZNRW0C_10, B075D7GFZP_2, B075D7GFZP_3, B075D7GFZP_4, B075D7GFZP_5, B075D7GFZP_6, B075D7GFZP_7, B075D7GFZP_8, B075D7GFZP_9, B075D7GFZP_10, B006H07BA4_5, B006H07BA4_6, B006H07BA4_10, B00XND0WEU_4, B00XND0WEU_5, B00ET0N3QK_1, B00ET0N3QK_3, B00ET0N3QK_9, B00ET0N3QK_10, B074JXQYY8_1, B074JXQYY8_2, B074JXQYY8_4, B074JXQYY8_5, B074JXQYY8_6, B074JXQYY8_7, B074JXQYY8_8, B074JXQYY8_9, B074JXQYY8_10, B01JAD4NC8_5, B01JAD4NC8_7, B00792MX98_1, B00792MX98_2, B00792MX98_4, B00792MX98_5, B00792MX98_8, B01M71S9DU_3, B01M71S9DU_8, B009REO3LC_4, B009REO3LC_6, B009REO3LC_7, B005TQJS80_4, B005TQJS80_5, B005TQJS80_9, B01KVH709K_4, B01KVH709K_6, B01KVH709K_8, B00DZFALQ0_4, B00DZFALQ0_7, B00DZFALQ0_9, B013JQE56G_3, B013JQE56G_6, B013JQE56G_9, B013JQE56G_10, B00ADZULW4_4, B00ADZULW4_9, B00ADZULW4_10, B019U7A2MY_5, B019U7A2MY_8, B019U7A2MY_10, B01BHS53TG_6, B01BHS53TG_7, B076F2HMP1_9, B076F2HMP1_10, B01FUIE9ZS_1, B01FUIE9ZS_2, B01FUIE9ZS_3, B01FUIE9ZS_6, B077G9ZYF3_1, B077G9ZYF3_3, B077G9ZYF3_6, B077G9ZYF3_7, B077G9ZYF3_8, B077G9ZYF3_9, B077G9ZYF3_10, B00SFXDR9U_4, B00SFXDR9U_6, B01N2QGP65_2, B01N2QGP65_6, B01N2QGP65_9, B01N2QGP65_10, B004RFQDNC_8, B075R7VPS9_4, B075R7VPS9_8, B075R7VPS9_9, B01MEEHW0K_1, B01MEEHW0K_3, B01MEEHW0K_8, B01MEEHW0K_9, B01MEEHW0K_10, B076H36J3D_1, B076H36J3D_2, B076H36J3D_3, B076H36J3D_7, B076H36J3D_8, B076H36J3D_10, B00ECWE4WC_2, B00ECWE4WC_10, B0089IPOGK_3, B0089IPOGK_4, B0089IPOGK_10, B01G0JVHSI_6, B01G0JVHSI_9, B000OIGLOM_1, B000OIGLOM_5, B009ZC9YBK_8, B009ZC9YBK_9, B00XHLTR26_4, B00XHLTR26_6, B06Y6DT7NL_3, B06Y6DT7NL_4, B06Y6DT7NL_5, B06Y6DT7NL_6, B06Y6DT7NL_7, B06Y6DT7NL_8, B06Y6DT7NL_9, B06Y6DT7NL_10, B00UINDM04_2, B00UINDM04_3, B076F4J5KF_5, B076F4J5KF_7, B076F4J5KF_9, B076F4J5KF_10, B009ZC964U_10, B01CCXZYVC_3, B01NBV4HSQ_2, B01NBV4HSQ_6, B01NBV4HSQ_9, B071GVSV3D_1, B071GVSV3D_3, B071GVSV3D_10, B073QMPFW9_1, B073QMPFW9_2, B073QMPFW9_3, B073QMPFW9_4, B073QMPFW9_5, B073QMPFW9_6, B073QMPFW9_7, B073QMPFW9_8, B073QMPFW9_9, B073QMPFW9_10, B01MDR83RN_6, B01MDR83RN_7, B076F3HH9R_1, B076F3HH9R_3, B076F3HH9R_4, B076F3HH9R_5, B076F3HH9R_6, B076F3HH9R_7, B076F3HH9R_8, B076F3HH9R_9, B076F3HH9R_10, B011IFTHIG_9, B06XDBDRSJ_10, B00VVQJNMS_3, B009RENV1U_9, B009RENV1U_10, B009ZCA1TO_2, B009ZCA1TO_4, B009ZCA1TO_9, B01EHHT9R6_5, B01EHHT9R6_7, B01AWDUEQ4_3, B01AWDUEQ4_5, B01AWDUEQ4_6, B01AWDUEQ4_7, B01AWDUEQ4_8, B01AWDUEQ4_9, B01N9TT0W4_3, B01N9TT0W4_4, B01N9TT0W4_5, B01N9TT0W4_6, B01N9TT0W4_9, B0753FNGSW_4, B0753FNGSW_5, B0753FNGSW_8, B0753FNGSW_9, B0753FNGSW_10, B012SHPYNK_6, B012SHPYNK_8, B06XVDB3D6_1, B06XVDB3D6_6, B01FC8RSAE_2, B01FC8RSAE_4, B01FC8RSAE_6, B01FC8RSAE_7, B00MYL9JW8_6, B00MYL9JW8_10, B06XSRJF7J_5, B06XSRJF7J_7, B06XSRJF7J_10, B00WB1WEOQ_2, B00WB1WEOQ_4, B00WB1WEOQ_8, B00WB1WEOQ_9, B00WB1WEOQ_10, B072FSM9S3_7, B072FSM9S3_8, B072FSM9S3_9, B072FSM9S3_10, B0076L102S_3, B0076L102S_6, B01EX1NBMA_8, B01FUIE7IM_1, B01FUIE7IM_10, B0105PH3GI_1, B00NXXWI4W_3, B00NXXWI4W_10, B0063BMTTA_2, B01HWNL72M_7, B075K51JMD_5, B075K51JMD_6, B075K51JMD_7, B075K51JMD_8, B075K51JMD_9, B075K51JMD_10, B073JB5ZM7_4, B073JB5ZM7_7, B073JB5ZM7_8, B073JB5ZM7_9, B073JB5ZM7_10, B076M8N9VL_4, B076M8N9VL_8, B076M8N9VL_9, B076M8N9VL_10, B012NR8ND8_5, B012NR8ND8_7, B012NR8ND8_10, B005H7BTVU_10, B0753KVCZS_4, B0753KVCZS_6, B0753KVCZS_8, B072Q61HM4_2, B072Q61HM4_6, B072Q61HM4_7, B072Q61HM4_9, B0076L1K6E_2, B0076L1K6E_3, B0076L1K6E_5, B0076L1K6E_7, B0076L1K6E_9, B0076L1K6E_10, B009RENMU0_1, B009RENMU0_2, B009RENMU0_4, B009RENMU0_7, B009RENMU0_9, B0771NLX1Z_1, B0771NLX1Z_4, B0771NLX1Z_5, B0771NLX1Z_6, B0771NLX1Z_7, B0771NLX1Z_8, B0771NLX1Z_9, B0771NLX1Z_10, B00XYCU39E_3, B00XYCU39E_4, B00XYCU39E_10, B007UHRZTU_1, B007UHRZTU_10, B007EA4UBY_4, B007EA4UBY_8, B00XTUHABA_2, B00XTUHABA_3, B00XTUHABA_4, B00XTUHABA_7, B00XTUHABA_9, B00XTUHABA_10, B00KNQDWVU_8, B06XF8MXK2_1, B06XF8MXK2_10, B014WE5L7Q_8, B014WE5L7Q_10, B00000IZQP_9, B01N6T1JEU_3, B01N6T1JEU_4, B01N6T1JEU_5, B01N6T1JEU_6, B01N6T1JEU_9, B072KNJV8P_1, B072KNJV8P_2, B072KNJV8P_3, B072KNJV8P_4, B072KNJV8P_5, B072KNJV8P_6, B072KNJV8P_7, B072KNJV8P_8, B072KNJV8P_9, B072KNJV8P_10, B00MZWUQX2_2, B00MZWUQX2_3, B00MZWUQX2_7, B00MZWUQX2_9, B00LM9NGNG_9, B00LM9NGNG_10, B073FJNFD6_1, B073FJNFD6_6, B073FJNFD6_8, B01CZU8WIO_3, B01CZU8WIO_6, B01CZU8WIO_10, B0761R8X5G_3, B0761R8X5G_7, B01FUIE8RC_1, B01FUIE8RC_5, B01FUIE8RC_8, B01FUIE8RC_9, B006DSCUKQ_2, B006DSCUKQ_4, B01CZU8YAU_2, B01CZU8YAU_10, B009PGDV38_2, B076VCWVD9_5, B076VCWVD9_6, B076VCWVD9_8, B076VCWVD9_9, B076VCWVD9_10, B074D117H8_3, B074D117H8_5, B074D117H8_6, B074D117H8_9, B074D117H8_10, B073D3RS6L_4, B073D3RS6L_9, B077DD7T6C_4, B077DD7T6C_5, B077DD7T6C_6, B077DD7T6C_7, B077DD7T6C_8, B077DD7T6C_9, B077DD7T6C_10, B074RKNTQJ_5, B074RKNTQJ_7, B06WLP86C3_1, B06WLP86C3_2, B06WLP86C3_3, B06WLP86C3_4, B06WLP86C3_5, B06WLP86C3_6, B06WLP86C3_7, B06WLP86C3_8, B06WLP86C3_9, B06WLP86C3_10, B01N5N1O49_6, B01N5N1O49_7, B00TIHLFTQ_5, B00TIHLFTQ_6, B00TIHLFTQ_8, B0123ROMBU_1, B0123ROMBU_3, B0123ROMBU_6, B0123ROMBU_7, B0123ROMBU_8, B0123ROMBU_10, B01BM0393Q_7, B01BM0393Q_9, B01LZA4UM2_1, B01LZA4UM2_2, B01LZA4UM2_3, B01LZA4UM2_4, B01LZA4UM2_5, B01LZA4UM2_6, B01LZA4UM2_7, B01LZA4UM2_8, B01LZA4UM2_9, B01LZA4UM2_10, B072ZTG87T_2, B072ZTG87T_3, B072ZTG87T_4, B072ZTG87T_5, B072ZTG87T_6, B072ZTG87T_7, B072ZTG87T_8, B072ZTG87T_9, B072ZTG87T_10, B00A76QX1W_6, B00A76QX1W_9, B00A76QX1W_10, B01N259HXG_1, B01N259HXG_3, B01N259HXG_4, B01N259HXG_6, B01N259HXG_9, B01N259HXG_10, B00Q6PA0AS_6, B00Q6PA0AS_7, B00Q6PA0AS_8, B00Q6PA0AS_9, B00Q6PA0AS_10, B00RJE7BPC_4, B00RJE7BPC_10, B01NAQRENI_1, B01NAQRENI_7, B01NAQRENI_8, B076TS3FJ9_3, B076TS3FJ9_5, B076TS3FJ9_6, B076TS3FJ9_9, B076TS3FJ9_10, B01HV9XR8Y_3, B01HV9XR8Y_6, B071S1KRK1_2, B071S1KRK1_8, B071S1KRK1_9, B071S1KRK1_10, B073WX7351_1, B073WX7351_2, B073WX7351_6, B073WX7351_10, B00Y8B5X5O_6, B00Y8B5X5O_7, B00Y8B5X5O_8, B00Y8B5X5O_9, B00Y8B5X5O_10, B01LYV4NHF_2, B01LYV4NHF_3, B01LYV4NHF_4, B01LYV4NHF_5, B01LYV4NHF_6, B01LYV4NHF_7, B01LYV4NHF_8, B01LYV4NHF_9, B01LYV4NHF_10, B075VV3GRB_8, B075VV3GRB_10, B00YE3IT0C_1, B00YE3IT0C_3, B00YE3IT0C_9, B00YE3IT0C_10, B06VT9WP57_4, B06VT9WP57_5, B06VT9WP57_6, B06VT9WP57_7, B06VT9WP57_8, B06VT9WP57_9, B06VT9WP57_10, B01N01UGRU_3, B01N01UGRU_4, B01N01UGRU_5, B01N01UGRU_6, B01N01UGRU_7, B01N01UGRU_8, B01N01UGRU_9, B01N01UGRU_10, B076WYP6NV_2, B01L52CHCA_2, B01L52CHCA_3, B01L52CHCA_4, B01L52CHCA_6, B01L52CHCA_7, B01L52CHCA_8, B01L52CHCA_9, B01L52CHCA_10, B071VLYX44_2, B071VLYX44_4, B071VLYX44_5, B071VLYX44_6, B071VLYX44_7, B071VLYX44_8, B071VLYX44_9, B071VLYX44_10, B0754HTP5K_1, B0754HTP5K_3, B0754HTP5K_6, B0754HTP5K_9, B00V3EJQ0C_4, B00V3EJQ0C_7, B073WXQLXM_1, B073WXQLXM_3, B073WXQLXM_6, B073WXQLXM_9, B01NB0JGIQ_1, B076759P6Q_1, B076759P6Q_2, B076759P6Q_3, B076759P6Q_4, B076759P6Q_5, B076759P6Q_6, B076759P6Q_7, B076759P6Q_8, B076759P6Q_9, B076759P6Q_10, B00YE2UMI0_7, B00WN97130_6, B00WN97130_7, B00WN97130_8, B00WN97130_9, B00WN97130_10, B072K1MBZQ_2, B072K1MBZQ_3, B072K1MBZQ_4, B072K1MBZQ_5, B072K1MBZQ_6, B072K1MBZQ_7, B072K1MBZQ_8, B072K1MBZQ_9, B072K1MBZQ_10, B074RGPBTG_1, B074RGPBTG_9, B074RGPBTG_10, B06Y42C6S9_7, B0146LPZ44_8, B0146LPZ44_9, B0146LPZ44_10, B074KTCDJL_1, B074KTCDJL_4, B074KTCDJL_6, B074KTCDJL_8, B01EX65AAG_4, B06W5JPP8C_7, B06W5JPP8C_10, B00YP5I4BI_5, B00YP5I4BI_6, B00YP5I4BI_7, B00YP5I4BI_8, B00YP5I4BI_9, B00YP5I4BI_10, B0746GLX3V_3, B0746GLX3V_4, B0746GLX3V_5, B0746GLX3V_6, B0746GLX3V_7, B0746GLX3V_8, B0746GLX3V_9, B0746GLX3V_10, B01NAOR1VM_4, B01NAOR1VM_5, B01NAOR1VM_6, B01NAOR1VM_7, B01NAOR1VM_8, B01NAOR1VM_9, B01NAOR1VM_10, B06W2NHRJY_1, B06W2NHRJY_2, B06W2NHRJY_3, B06W2NHRJY_4, B06W2NHRJY_5, B06W2NHRJY_6, B06W2NHRJY_7, B06W2NHRJY_8, B06W2NHRJY_9, B06W2NHRJY_10, B00J4XMUFW_3, B00J4XMUFW_4, B00J4XMUFW_7, B01N7NCLUR_3, B01N7NCLUR_4, B01N7NCLUR_5, B01N7NCLUR_6, B01N7NCLUR_7, B01N7NCLUR_8, B01N7NCLUR_9, B01N7NCLUR_10, B01ENJFCW4_3, B01ENJFCW4_6, B01ENJFCW4_7, B01ENJFCW4_10, B06XZCFS5S_3, B06XZCFS5S_4, B06XZCFS5S_5, B06XZCFS5S_6, B06XZCFS5S_7, B06XZCFS5S_8, B06XZCFS5S_9, B06XZCFS5S_10,\n",
      "\n"
     ]
    },
    {
     "name": "stdout",
     "output_type": "stream",
     "text": [
      "Cluster 3 titles: B06Y3F148Q_1, B0746KMZ4W_1, B00SWURF62_9, B005HHRXWE_4, B005HHRXWE_8, B005HHRXWE_9, B01HV9XPN6_2, B01JC4680U_8, B074GR1WCX_1, B074GR1WCX_6, B074GR1WCX_9, B00RJE7MWE_3, B00RJE7MWE_5, B06X3YL24L_1, B06X3YL24L_4, B01L7688JU_8, B074FXGQP6_6, B00XJJGPWQ_1, B00XJJGPWQ_8, B071Y3B8KL_1, B06WGWZ7Z6_2, B06WGWZ7Z6_8, B076DBRSBD_1, B01D66ARIO_8, B01AW4GCJQ_1, B01AW4GCJQ_5, B01MU9NSCU_1, B0089IO47K_3, B0089IO47K_4, B00F3B2TVO_2, B00F3B2TVO_3, B00F3B2TVO_4, B009A7ZKGS_8, B06WVDSP61_1, B0089IO7UO_4, B0089IO7UO_7, B008DHZDCC_2, B007GE75HY_5, B007GE75HY_6, B007GE75HY_8, B009A7ZCB6_4, B009A7ZCB6_5, B009A7ZCB6_9, B00F3B33PU_5, B01L26UXQ6_5, B0089IOWE0_1, B0089IOWE0_10, B0089IO43Y_2, B0089IO43Y_3, B0089IO43Y_5, B007OUBCRO_2, B007OUBCRO_9, B075LDDQKH_2, B015WJKQY8_3, B015WJKQY8_5, B015WJKQY8_10, B007GE75G0_3, B0089IO0OW_1, B0089IO0OW_3, B0089IO0OW_4, B0089IO0OW_5, B0089IO0OW_7, B0089IO0OW_9, B00D3IMEUA_1, B0089IO4SO_2, B0089IO4SO_4, B0089IO4SO_9, B0089IO7OA_5, B0089IO7OA_9, B01MRVXMWP_2, B01MRVXMWP_10, B00006JZCG_2, B00006JZCG_8, B01MXWNQ9J_2, B01MXWNQ9J_3, B01MXWNQ9J_4, B01MXWNQ9J_8, B0089IO87Q_3, B0089IO87Q_4, B0089IO87Q_6, B0089IO87Q_7, B0089IO87Q_9, 1591747694_7, 1591747694_8, 1591747694_9, B0089IO4O8_10, B00005RF5D_1, B01DIPS9GK_5, B01DIPS9GK_8, B01DIPS9GK_9, B0089IODVC_3, B0089IODVC_8, B0089IO3GW_1, B0089IO3GW_2, B0089IO3GW_8, B0089IO3GW_9, B01MFF8P1J_1, B01MFF8P1J_5, B01MFF8P1J_9, B0177LV5SA_5, B0177LV5SA_9, B00X9J1B4S_8, B075YZTQX4_9, B075YZTQX4_10, B076NMNRSH_1, B01CJKRA60_2, B01FFKQQHK_3, B075S9HCCG_1, B013SVWB4U_6, B013SVX13A_6, B013SVX13A_7, B0125KTJ72_3, B00K5NFGI8_1, B008YD8GG0_4, B01BU9VYZE_1, B01BU9VYZE_8, B01BU9VYZE_9, B01MUR1RSC_4, B01MUR1RSC_5, B01MUR1RSC_6, B01G0FOTBO_1, B01M1FOORV_1, B071RGCYBN_1, B071RGCYBN_2, B06XRNN6BJ_3, B011ERS3XI_4, B013SVW5SC_2, B0721FB2L6_8, B00IQ8MVH8_1, B01MZHIATX_5, B00HAE7PWA_4, B00HAE7PWA_7, B01MXR69QX_1, B073726RWB_1, B009YEPM9W_4, B009YEPM9W_5, B01E1PLRP6_4, B01E1PLRP6_5, B01E1PLRP6_8, B01N0QOWPY_1, B01LDA9DVM_2, B01NALK4XS_3, B01LXR2CVR_7, B01G0FOTBY_1, B00NPRM7HO_10, B06XRTJ6K6_3, B01N0R4PXH_5, B01B4T4P6A_1, B01M7V3QE4_3, B01M7V3QE4_4, B01M7V3QE4_10, B06XHHKWFL_3, B06XHHKWFL_10, B07523BTST_1, B01MUW0WK7_8, B01MUW0WK7_9, B00WDYE8TK_2, B00WDYE8TK_8, B01MEG490K_1, B01AV4PZS6_8, B01JM4D7VI_2, B01JM4D7VI_6, B019IOACAQ_3, B019IOACAQ_6, B00PSQQZ3W_2, B00PSQQZ3W_6, B00RLIPM16_7, B00RLIPM16_8, B009GCROI4_6, B01KTJ6W1M_3, B01K35TESU_3, B013SDVN60_1, B013SDVN60_5, B06XF2JPD7_2, B01G6B0TUM_9, B01MQISR84_3, B01MQISR84_5, B01MQISR84_8, B01IKD2M8Q_3, B01IKD2M8Q_7, B071YQYNGR_5, B071YQYNGR_7, B010BVWYDS_1, B010BVWYDS_2, B010BVWYDS_5, B01ANPG83E_7, B01ANPG83E_8, B016RU13FC_1, B016D6F0TU_1, B01MS74B5E_4, B01MS74B5E_5, B01MS74B5E_6, B01MS74B5E_7, B01MS74B5E_9, B00S8IGQGI_2, B01N4646N8_5, B01N4646N8_9, B00N9WI71U_2, B0753CWBL6_3, B00930Z7LU_6, B00930Z7LU_7, 1787270009_1, 1787270009_3, 1787270009_6, 1787270009_9, B009GCQZD4_2, B009GCQZD4_8, B009GCQZD4_9, B01N981WRS_1, B00MIVLJZE_8, B01N5234UL_1, B06XSN273K_3, B06XSN273K_5, B00J4XC5IE_2, B00J4XC5IE_5, B00J4XC5IE_8, B00ELBBGOI_1, B00ELBBGOI_4, B00ELBBGOI_8, B00J4M33MC_1, B00J4M33MC_3, B00J4M2ZLM_6, B00QMHD77S_7, B00QMHD77S_8, B001NWNPC4_2, B001NWNPC4_3, B001NWNPC4_4, B01HEZ48MO_3, B01HEZ48MO_5, B01MDRCVPV_10, B074QZFSW7_9, B009GCQZN4_1, B009GCQZN4_7, B00OQKZ39I_5, B00OQKZ39I_7, B00OV25KEO_8, B01GFWDGB6_9, B072MQQVGR_3, B009GCRTPC_7, B009GCRTPC_9, B00KPBBJ3G_1, B00KPBBJ3G_9, B00KPBBJ3G_10, B00A3QQQF4_5, B00MDK9VVY_9, B00MDK9VVY_10, B075QHMDWF_2, B01NAU4K79_1, B01NAU4K79_7, B01NAU4K79_9, B01NAU4K79_10, B01N0H2DN0_7, B00J3NJ0MO_3, 1787270017_1, 1787270017_3, 1787270017_6, 1787270017_9, B01MTNA7I0_1, B01MTNA7I0_6, B01MTNA7I0_7, B00E4G0UH4_1, B00N9WI5UI_1, B073BCB2C4_3, B071V86RTS_3, B071V86RTS_6, B074DVQKPX_2, B01N5267EI_4, B01N5267EI_8, B01N5267EI_9, B075SRMJKS_4, B075SRMJKS_6, B01MY7XSMC_4, B01MY7XSMC_5, B01MY7XSMC_6, B01MY7XSMC_7, B01MY7XSMC_9, B01KV3NL6A_3, B01KV3NL6A_6, B01KV3NL6A_8, B01KV3NL6A_9, B01KV3NL6A_10, B009319M2O_1, B009GCRDZ8_9, B009GCRDZ8_10, B01DUPDSZ0_2, B01DUPDSZ0_3, B009312MX0_9, B009318OE6_2, B009318OE6_9, B01DVUOXVM_1, B01DVUOXVM_2, B01DVUOXVM_3, B01DVUOXVM_10, B0746GB8PB_2, B0746GB8PB_4, B0746GB8PB_8, B01EHHT15G_3, B01EHHT15G_4, B009310S22_2, B009310S22_3, B01MT3EPQL_2, B01MT3EPQL_4, B01MT3EPQL_8, B00NGJ0048_1, B00NGJ0048_2, B00NGJ0048_6, B00NGJ0048_8, B00V7MMFKI_3, B00V7MMFKI_9, B0774XQ3KN_8, B0774XQ3KN_9, B012DB8E38_9, B009312RMG_4, B009312RMG_7, B0076L2AI6_3, B0076L2AI6_9, B0753G7GDG_1, B00931109W_5, B00931109W_6, B00931109W_10, B00ELB9U4G_2, B01LZ4VYF9_2, B00F1D8WHO_1, B009312190_2, B009312190_3, B009312190_7, B009312190_9, B009311M6I_2, B00930YGB2_3, B00930YGB2_8, B009311QIW_1, B009311QIW_3, B009311QIW_7, B009311QIW_10, B019KH5JRW_1, B019KH5JRW_2, B009318QDK_6, B0076L2BJE_4, B0076L2BJE_10, B0093123PC_5, B0093123PC_8, B01NC27D26_2, B01NC27D26_4, B01NC27D26_8, B00B6SLFMC_9, B00I6THTBK_1, B076WQ3M5X_5, B076WQ3M5X_6, B075P9N6FV_3, B075P9N6FV_6, B075P9N6FV_8, B0093133HE_3, B0093133HE_4, B076WVK44C_5, B009318L6C_1, B009318L6C_3, B009318L6C_5, B009318L6C_7, B0076L2CK2_7, B00JO5YPLC_3, B00JO5YPLC_5, B00WDY6JXI_3, B00YP5CVEO_4, B00V9MNQBI_2, B00V9MNQBI_7, B00V9MNQBI_9, B00V9MNQBI_10, B00DZL8JSQ_1, B0076L1XA2_5, B00VBCVGO0_1, B00VBCVGO0_4, B009P0ZR8Q_6, B009P0ZR8Q_7, B009P0ZR8Q_8, B003NFJMBM_7, B003NFJMBM_10, B0093125IM_8, B0093125IM_9, B00ELBBFCQ_3, B00ELBBFCQ_4, B00ELBBFCQ_8, B00ELBBFCQ_10, B00931268G_1, B00931268G_5, B00931268G_6, B009GCRRUE_4, B007OU5T5A_1, B007OU5T5A_4, B007OU5T5A_5, B01MUDEP57_2, B01MUDEP57_4, B01MUDEP57_8, B06XSDJDC7_3, B009311WCC_1, B009311WCC_2, B009311WCC_4, B009GCU9PO_7, B009GCU9PO_9, B0093138H4_5, B0093138H4_10, B009T45XY6_7, B009T45XY6_8, B00AWCF76I_1, B00AWCF76I_4, B00AWCF76I_5, B00AWCF76I_7, B01L8W5K76_4, B01L8W5K76_8, B01L8W5K76_10, B073H4WMWW_4, B073H4WMWW_10, B01M3POPY5_2, B01M3POPY5_3, B01M3POPY5_8, B000IOLDFO_3, B000IOLDFO_4, B000IOLDFO_5, B07237PHB6_1, B00ID6OUH2_3, B01MS74B5E_4, B01MS74B5E_5, B01MS74B5E_6, B01MS74B5E_7, B01MS74B5E_9, B01J1PBYQI_2, B075GYZF5D_4, B075TZZMPQ_1, B0083TXWXC_5, B0083TXWXC_10, B072KR77WM_10, B00SWIDLC6_4, B01CLDGBYC_2, B01CLDGBYC_7, B00N7K3ABQ_4, B00N7K3ABQ_8, B072C135YS_2, B071CZKWPS_2, B000OV0X48_6, B00MIVLJZE_8, B06XXXK9YL_2, B01M5C5M5G_1, B075MGJY8Q_5, B00J4XC5IE_2, B00J4XC5IE_5, B00J4XC5IE_8, B071Y1WSRR_5, B01N52Q2GS_2, B01JU82EI8_3, B01N5IBDAS_1, B01N5IBDAS_4, B071J29VTG_3, B019U5SO5S_5, B071RXV3WH_7, B01M24CCE9_4, B01M24CCE9_6, B072MWV544_6, B01N7SA3Y2_3, B01GCQIMLE_5, B012CZH0LW_5, B012CZH0LW_7, B0739YTVZ7_2, B0739YTVZ7_10, B00U0ZSDDQ_5, B00U0ZSDDQ_7, B00U0ZSDDQ_8, B01BLBZJGQ_1, B01BLBZJGQ_2, B01BLBZJGQ_7, B01BLBZJGQ_10, B01N4G9RW0_2, B0728F96TS_1, B01MY7XSMC_4, B01MY7XSMC_5, B01MY7XSMC_6, B01MY7XSMC_7, B01MY7XSMC_9, B00GFJSQYC_5, B01176NUDE_3, B01176NUDE_4, B01176NUDE_7, B01GX1BEKE_4, B077FBDCZK_6, B077FBDCZK_9, B073QSP8XG_4, B073QSP8XG_5, B073QSP8XG_6, B01GCPZOZM_2, B0185VJBVO_4, B071X9WRMM_1, B071X9WRMM_4, B01M7VCTOD_2, B01M7VCTOD_3, B00WJ4OBA0_1, B00WJ4OBA0_2, B072N64HML_1, B072N64HML_4, B001579Z6W_2, B01BHS53FA_5, B00W4ZU3AG_8, B00KA593LC_2, B00KA593LC_10, B00F1ACGEM_3, B071XJ24C9_8, B01MYBH8BW_3, B009ZCA00Y_1, B009ZCA00Y_2, B06XH8681N_3, B01B9WJUWG_1, B01B9WJUWG_3, B01B9WJUWG_10, B009ZC9ZDC_3, B009ZC9ZDC_7, B01N6539JW_4, B01F4RYXQK_2, B01F4RYXQK_7, B01F4RYXQK_9, B00ABA0ZOA_3, B00MBID4B6_1, B00MBID4B6_2, B00MBID4B6_3, B00MBID4B6_4, B01IB7BJ8U_4, B01IB7BJ8U_7, B00GU8GMD0_8, B01N4EQT6K_3, B01N4EQT6K_5, B00LXCKO1Y_1, B06Y5MJFYW_2, B01G84OS5O_5, B01FG70FD8_6, B01FG70FD8_8, B001579Z6W_2, B01IHFCO08_3, B073TRQH1P_6, B073TRQH1P_9, B00AJWTEUG_3, B071Y7P39L_2, B071Y7P39L_3, B01MFCXHX9_1, B01MFCXHX9_3, B01MFCXHX9_6, B01MFCXHX9_7, B072B9YG47_3, B072B9YG47_8, B01FFRSJW8_6, B01FFRSJW8_8, B00XNCV86W_1, B074CNZWZ6_1, B074CNZWZ6_5, B074CNZWZ6_7, 1223081087_2, 1223081087_8, 1223081087_9, B007OU5OYQ_3, B00FADI4X2_10, B06XDD73XG_1, B06XDD73XG_8, B005VEE27M_4, B0062FFTRG_6, B01N3LU3M1_2, B00E7LJK54_8, B01IFBKUKU_4, B01L443P6Q_7, B00XYB30C2_7, B01AJU4AK6_10, B01IYE747U_1, B01IYE747U_10, B002RZ8EBS_10, B007SZ1SJW_6, B00IVIZXP0_1, B00IVIZXP0_7, B075Z266Z5_3, B00O7FZBTE_1, B00O7FZBTE_4, B00XYB4J9U_1, B00XYB4J9U_5, B007OU63GO_2, B007OU63GO_5, B00FFZY6EQ_1, B0062FIDOM_2, B0062FIDOM_10, B005VEKL5Y_8, B007UHUM36_5, B009B7F6DO_5, B009B7F6DO_7, B009B7F6DO_9, B072JFD3VV_7, B072JFD3VV_10, B06XG1FHKX_2, B013LIH7US_8, B00XNE50Z0_1, B00Z9Y4670_10, B006H07BA4_2, B009REO3LC_8, B00DZFALQ0_2, B00DZFALQ0_6, B00DZFALQ0_10, B01BHS53TG_5, B076F2HMP1_8, B00SFXDR9U_2, B00SFXDR9U_5, B01N2QGP65_1, B004RFQDNC_2, B004RFQDNC_3, B004RFQDNC_5, B004RFQDNC_6, B01MEEHW0K_7, B000OIGLOM_7, B000OIGLOM_8, B00ADZUNYK_1, B00ADZUNYK_2, B00ADZUNYK_7, B00005N9YF_1, B00005N9YF_3, B009ZC9YBK_7, B00XHLTR26_3, B00XHLTR26_8, B00XHLTR26_10, B00UINDM04_5, B076F4J5KF_4, B009ZC964U_3, B01CCXZYVC_1, B01CCXZYVC_7, B01MDR83RN_1, B01MDR83RN_5, B01JM4CGAQ_5, B01JM4CGAQ_6, B011IFTHIG_2, B06XDBDRSJ_1, B00VVQJNMS_8, B01EHHT9R6_1, B012SHPYNK_1, B012SHPYNK_2, B00MYL9JW8_3, B007UHS09O_3, B007UHS09O_7, B0076L102S_4, B01EX1NBMA_2, B00NXXWI4W_7, B0063BMTTA_5, B076M8N9VL_3, B012NR8ND8_8, B005H7BTVU_6, B0076L1K6E_6, B007UHRZTU_2, B007UHRZTU_5, B007UHRZTU_6, B007UHRZTU_7, B007UHRZTU_8, B007EA4UBY_2, B007EA4UBY_6, B007EA4UBY_7, B007EA4UBY_10, B00BWKNOGE_1, B00BWKNOGE_9, B00KNQDWVU_4, B014WE5L7Q_1, B00000IZQP_5, B073FJNFD6_9, B076VCWVD9_4, B00TIHLFTQ_1, B00TIHLFTQ_10, B0123ROMBU_4, B0738939Q3_2, B01BM0393Q_5, B00RJE7BPC_3, B01HV9XR8Y_2, B01HV9XR8Y_8, B06ZY5WXPN_1, B071S1KRK1_3, B071S1KRK1_6, B073WX7351_8, B00Y8B5X5O_3, B075VV3GRB_4, B06Y3HRJGY_1, B06VT9WP57_1, B06VT9WP57_3, B076WYP6NV_7, B071VLYX44_3, B01NB0JGIQ_2, B01NB0JGIQ_5, B01NB0JGIQ_10, B013SVUE44_4, B013SVUE44_10, B06Y42C6S9_5, B0146LPZ44_4, B01EX65AAG_6, B06W5JPP8C_4, B00KFE6L6S_1, B06XZCFS5S_2,\n",
      "\n",
      "Cluster 4 titles: B0746KMZ4W_5, B00SWURF62_10, B005HHRXWE_1, B01N7NSKEO_5, B01HV9XPN6_5, B074GR1WCX_2, B074GR1WCX_5, B00RJE7MWE_6, B01GEH9IZU_3, B01GEH9IZU_5, B074FXGQP6_2, B00WN96QEA_9, B071Y3B8KL_7, B0146MG8TE_4, B0146MG8TE_8, B076DBRSBD_8, B06WVPGQP7_8, B06WVPGQP7_10, B01N36UBBJ_9, B01HCJSRFG_2, B01AW4GCJQ_8, B01MZDE2S6_7, B01MU9NSCU_9, B0089IO47K_10, B00F3B2TVO_6, B00AWQMMGM_10, B0089IO7UO_9, B008DHZDCC_4, B008DHZDCC_8, B014PJGJ4W_7, B071Z8ML3W_2, B01BMC8PLK_2, B0089IOWE0_7, B007OUBCRO_7, B0089IO7OA_1, B0089IO7OA_4, B0089IO7OA_8, B0089IO87Q_10, B0749MMH6Y_2, 1591747694_3, 1591747694_4, B071L67QZF_1, B00005RF5D_2, B01DIPS9GK_3, B0089IODVC_2, B0089IODVC_5, B0089IODVC_7, B00A3QPCOA_5, B075YZTQX4_2, B076NMNRSH_10, B01MRZPERS_3, B01MRZPERS_5, B01CJKRA60_7, B01FFKQQHK_4, B07454YHRV_3, B07454YHRV_4, B014DEJF7W_5, B01N2ZUXNM_1, B01N2ZUXNM_10, B0083TXZVQ_1, B0125KTJ72_6, B0125KTJ72_10, B00K5NFGI8_5, B00K5NFGI8_6, B01BKFFPF8_3, B01MUR1RSC_2, B01M1FOORV_10, B06XRNN6BJ_7, B0721FB2L6_4, B01N1RV3GA_5, B00IQ8MVH8_4, B01MZHIATX_10, B00HAE7PWA_9, B01HH074VI_3, B01HH074VI_4, B01MXR69QX_3, B073726RWB_2, B073726RWB_3, B073726RWB_7, B06XSJFBJQ_8, B071777CNH_2, B071777CNH_4, B074W6KDP1_5, B01E1PLRP6_2, B01MT9XI1T_1, B014DEIYA6_1, B014DEIYA6_3, B014DEIYA6_10, B01LDA9DVM_6, B015U4NYDU_2, B015U4NYDU_8, B01M0HBXWD_1, B01M0HBXWD_4, B01NALK4XS_6, B01LXR2CVR_10, B01BCD2UNI_5, B01BCD2UNI_6, B06XRTJ6K6_7, B00HKX7JI6_1, B01N0R4PXH_4, B01B4T4P6A_3, B01B4T4P6A_7, B01M7V3QE4_6, B01M7V3QE4_7, B0744DYZ9R_1, B0744DYZ9R_2, B01M0FQQX9_2, B01M0FQQX9_6, B01BV0WYF6_3, B01BV0WYF6_4, B01BV0WYF6_9, B01MUW0WK7_7, B075MJ1L5N_1, B06W9JC1ZH_2, B06XX48DT3_4, B06XX48DT3_8, B06Y4HJ61S_4, B06Y4HJ61S_8, B00PSQQZ3W_9, B009GCROI4_1, B009GCROI4_9, B01KTJ6W1M_8, B00MDFYCBS_9, B06XF2JPD7_4, B06XF2JPD7_10, B071YQYNGR_2, B071YQYNGR_9, B010BVWYDS_8, B00GB9KX4W_9, B016RU13FC_9, B016D6F0TU_9, B073MFTS4S_1, B01LYQAANJ_3, B0753CWBL6_2, B00930Z7LU_3, B00930Z7LU_8, B00MCP6ZZ0_6, B00MCP6ZZ0_7, B009GCQZD4_10, B06XSN273K_10, B00J4XC5IE_6, B00ELBA932_2, B00ELBA932_5, B00ELBA932_6, B00ELBA932_9, B00ELBA932_10, B00ELBBGOI_3, B00J4M33MC_10, B00J4M2ZLM_10, B00QMHD77S_5, B01MDRCVPV_6, B074QZFSW7_4, B009GCQZN4_9, B075HX4BQZ_1, B00OQKZ39I_1, B00OQKZ39I_9, B01GFWDGB6_10, B009GCRTPC_3, B019KH4O6O_3, B00A3QQQF4_4, B00A3QQQF4_10, B01DGMGMEG_4, B075QHMDWF_7, B00E4G0UH4_2, B00N9WI5UI_4, B00N9WI5UI_8, B073BCB2C4_1, B01IKFLEGU_1, B009319M2O_4, B009319M2O_5, B009319M2O_8, B00MQS83A8_1, B00AWCPG28_1, B00AWCPG28_7, B009318OE6_7, B01DVUOXVM_9, B009310S22_9, B072BMCMTX_2, B072BMCMTX_7, B0090UYT80_4, B00HNR55DK_6, B00HNR55DK_7, B00V7MMFKI_4, B0050JHJAK_10, B0774XQ3KN_10, B01N7FNITL_2, B01N7FNITL_7, B00LCT5IUK_3, B00LCT5IUK_9, B0076L2AI6_2, B0076L2AI6_5, B0753G7GDG_4, B01LZ4VYF9_5, B009312190_4, B009312190_6, B009311M6I_6, B00930YGB2_5, B00930YGB2_7, B009318QDK_7, B00OK78H5O_5, B0093123PC_4, B00BY0GT82_2, B00BY0GT82_5, B00I6THTBK_6, B076WQ3M5X_9, B075P9N6FV_2, B075P9N6FV_7, B0093133HE_5, B0093133HE_10, B00JO5YPLC_8, B00MDBOK96_2, B00YP5CVEO_3, B01KM1NTRC_4, B01KM1NTRC_8, B00KCMCWDO_7, B00DZL8JSQ_8, B0076L1XA2_9, B01CML16CK_7, B00VBCVGO0_5, B005PH2HTK_6, B01BB8MRNM_4, B009P0ZR8Q_3, B003NFJMBM_9, B0753DGQ62_1, B00RCHK748_1, B00RCHK748_5, B00DPSJ3WA_9, B009GCRRUE_6, B00EPDY59A_4, B00EPDY59A_10, B00AEI58HI_1, B00AEI58HI_3, B00AEI58HI_6, B00AEI58HI_9, B00AEI58HI_10, B007OUAP5E_7, B06XSDJDC7_1, B06XSDJDC7_2, B009GCU9PO_6, B0093138H4_6, B004UVJG7I_9, B00MDC8DO8_1, B00AWCF76I_8, B00BG8F0H8_2, B01IK52REI_2, B01IK52REI_5, B01IK52REI_6, B072QSPQM4_1, B01L8W5K76_7, B01L8W5K76_9, B01M3POPY5_10, B0711Z7XQ9_1, B07237PHB6_7, B07237PHB6_10, B00ID6OUH2_10, B072NC2KN5_3, B072NC2KN5_6, B01IHHS950_1, B01IHHS950_8, B0738DFR6J_1, B0738DFR6J_3, B073723MDC_4, B075GYZF5D_2, B0773S84CX_1, B0083TXWXC_7, B0083TXWXC_9, B072KR77WM_4, B072KR77WM_7, B00SWIDLC6_2, B00SWIDLC6_5, B00N7K3ABQ_1, B00N7K3ABQ_9, B07194433K_2, B07194433K_5, B000OV0X48_10, B076CG3ZVB_2, B01M5C5M5G_10, B075MGJY8Q_2, B072M7X26B_2, B00J4XC5IE_6, B01N52Q2GS_8, B01N52Q2GS_9, B01BLC5OBA_6, B071Z1VGJW_3, B071Z1VGJW_4, B06XRCWVS3_4, B06XRCWVS3_6, B01JU82EI8_4, B01N5IBDAS_7, B071KNMXCH_2, B071J8D8CM_8, B071KNWK5L_5, B071KNWK5L_9, B000ICZ84I_2, B000ICZ84I_5, B071RXV3WH_9, B073SGH9Q2_8, B01KHURAU0_8, B01GPPVS68_1, B01N7SA3Y2_5, B01N7SA3Y2_6, B012CZH0LW_8, B000OV0X3Y_9, B000OV0X3Y_10, B00U0ZSDDQ_1, B00U0ZSDDQ_9, B013K7SD0S_2, B075BKMW23_7, B07356XK79_1, B072FPVTFY_8, B018I1996I_10, B019842PUG_2, B0753KTCQY_7, B014YLZMYY_4, B014YLZMYY_9, B016WG786O_2, B016WG786O_6, B016WG786O_9, B01JIIBKSK_9, B01MUD0WFM_7, B01MUD0WFM_8, B00GFJSM46_8, B06WCZC23D_4, B071F3W2HD_10, B0185VIKG6_1, B016NW7GJQ_1, B016NW7GJQ_2, B016NW7GJQ_3, B016NW7GJQ_4, B0748HL1NZ_1, B0748HL1NZ_6, B0748HL1NZ_10, B01MZ7P69Z_6, B01MZ7P69Z_9, B0749QD8FD_10, B0753JWCZD_7, B01NA82EV8_2, B072XRYBV5_1, B072XRYBV5_3, B01GX1BEKE_9, B00Y0QOBUU_4, B00FVVVLHE_10, B01MRVY4IW_8, B01CQUUGXC_6, B01CQUUGXC_9, B01CQUUGXC_10, B01M094DOA_8, B071S9S2YC_2, B00JOH3XJ0_1, B00JOH3XJ0_7, B07356PHR1_7, B01GCPZOZM_5, B01GCPZOZM_8, B01GCPZOZM_9, B00QNSMLYQ_3, B01C9X1NDS_4, B014YM0Z4A_3, B071X9WRMM_10, B01MECRUS1_1, B01MECRUS1_6, B019W8N2OG_7, B01M7VCTOD_9, B07588671M_1, B0725ZD991_2, B00WJ4OBA0_8, B0753JWM5B_10, B00683U4AE_5, B00EVKLB5I_7, B01LXJ750I_10, B075ZZ77WH_6, B015LYNHJU_8, B01FALOZPY_5, B01FALOZPY_6, B072N64HML_10, B00U3SSM22_5, B01MCXZPKS_9, B00FSCIJ4E_7, B00FSCIJ4E_9, B074JFFYBH_4, B01BHS53FA_1, B00W4ZU3AG_5, B01ANKEXUO_4, B01MTJXJSP_6, B00F1ACGEM_7, B01IHXB104_4, B01IHXB104_9, B074JCJYVX_1, B074JCJYVX_3, B014YLYX1C_7, B0748HGXQN_4, B0748HGXQN_5, B0748HGXQN_6, B00705YP2C_8, B01M054XWA_6, B00ET0MYPQ_4, B074J6YSJF_4, B00Y0QO9G6_3, B01IK52REI_2, B01IK52REI_5, B01IK52REI_6, B009ZCA00Y_5, B01N9VAD27_6, B01LZ7SL2Z_1, B003XWVV6E_2, B003XWVV6E_5, B003XWVV6E_9, B06WWFZN2B_2, B01EIUFLR4_2, B01EIUFLR4_3, B073PWL69Z_4, B01ISYA6JY_10, B072BX5HFQ_4, B072BX5HFQ_6, B019DP08K4_10, B07587FM46_7, B01MQ0G8WF_5, B01N6539JW_1, B00ARW17U8_10, B00N1EJXUU_2, B00N1EJXUU_4, B00N1EJXUU_6, B015R3PTL4_6, B015R3PTL4_7, B01F4RYXQK_3, B001OVG40E_1, B00ECV50DU_4, B009ZCA1TO_3, B019GOFDFC_2, B00SYMTTXA_3, B0722G25H8_2, B0722G25H8_3, B0731H7R1L_2, B01IB7BJ8U_2, B01IB7BJ8U_3, B00GU8GMD0_9, B075GNXYZW_1, B009REO880_1, B00LXCKO1Y_7, B00LXCKO1Y_9, B06Y5MJFYW_1, B06Y5MJFYW_3, B01N6TYZ5T_4, B00KUHLUP2_3, B06WP6Z6PB_4, B014FFTW9A_5, B071Y7P39L_7, B00XNCV86W_10, B016YCGERK_1, 1223081087_1, 1223081087_3, 1223081087_6, B007OU5OYQ_2, B00FADI4X2_2, B00FADI4X2_5, B01EOKB34I_8, B016A61VBE_7, B005VEE27M_1, B005VEE27M_2, B005VEE27M_9, B00E7LJK54_4, B00E7LJK54_5, B01L443P6Q_10, B01939ZQ4S_4, B01939ZQ4S_10, B007J213WG_4, B007J213WG_8, B004M56VU2_3, B01AJU4AK6_5, B00IVIZXP0_6, B009S0E5IQ_7, B01H8XYC6Y_4, B01H8XYC6Y_6, B075Z266Z5_2, B01LJ5UOVO_10, B00XYB4J9U_4, B00XYB4J9U_6, B00XYB4J9U_10, B01MT9DJNR_6, B007OU63GO_10, B01MFBTTA5_2, 819305573X_2, B002V3GGP2_8, B002IRF9UE_2, B00FFZY6EQ_9, B017K0M7M6_2, B00J3XELSC_3, B00J3XELSC_5, B074V8TG6M_2, B074V8TG6M_6, B01KZCZ0PM_5, B01KZCZ0PM_8, B00YJC9EIE_2, B009B7F6DO_1, B009B7F6DO_3, B009B7F6DO_4, B06XG1FHKX_1, B00XNE50Z0_8, B002PEQKHG_6, B002PEQKHG_9, B0076L3KKI_2, B00Z9Y4670_7, B00M4BU0OO_8, B006H07BA4_3, B006H07BA4_8, B00XND0WEU_2, B00XND0WEU_7, B00ET0N3QK_2, B00ET0N3QK_7, B00ET0N3QK_8, B00792MX98_7, B01M71S9DU_4, B009REO3LC_10, B005TQJS80_3, B01KVH709K_9, B00ADZULW4_3, B00ADZULW4_6, B00ADZULW4_7, B00ADZULW4_8, B01BHS53TG_1, B076F2HMP1_3, B076F2HMP1_5, B077G9ZYF3_2, B077G9ZYF3_5, B00SFXDR9U_7, B01N2QGP65_8, B004RFQDNC_9, B075R7VPS9_7, B01MEEHW0K_4, B01G0JVHSI_8, B00005N9YF_2, B00005N9YF_6, B00005N9YF_7, B009ZC9YBK_6, B00XHLTR26_7, B076F4J5KF_1, B076F4J5KF_6, B011IFTHIG_4, B011IFTHIG_6, B011IFTHIG_10, B06XDBDRSJ_5, B06XDBDRSJ_7, B01N5JT3XD_4, B01N5JT3XD_5, B01N5JT3XD_6, B01N5JT3XD_7, B01N5JT3XD_9, B009ZCA1TO_3, B01AWDUEQ4_2, B01N9TT0W4_1, B012SHPYNK_9, B06XVDB3D6_7, B06XVDB3D6_10, B01FC8RSAE_1, B007UHS09O_1, B007UHS09O_10, B0076L102S_1, B0076L102S_8, B01FUIE7IM_2, B01FUIE7IM_9, B0063BMTTA_1, B01HWNL72M_1, B073JB5ZM7_6, B0753KVCZS_1, B0753KVCZS_2, B072Q61HM4_10, B0076L1K6E_4, B0076L1K6E_8, B009RENMU0_3, B009RENMU0_5, B009RENMU0_6, B0771NLX1Z_2, B007EA4UBY_3, B06XF8MXK2_5, B014WE5L7Q_3, B014WE5L7Q_6, B00000IZQP_7, B01N6T1JEU_1, B01CZU8WIO_5, B0761R8X5G_9, B01FUIE8RC_2, B01FUIE8RC_3, B01FUIE8RC_7, B01M4R9S6F_8, B01M4R9S6F_9, B01CZU8YAU_8, B074D117H8_8, B01N5N1O49_4, B0123ROMBU_5, B0738939Q3_6, B0738939Q3_10, B01N259HXG_2, B01N259HXG_5, B00Q6PA0AS_3, B01NAQRENI_4, B01NAQRENI_10, B076TS3FJ9_1, B01HV9XR8Y_5, B06ZY5WXPN_7, B076WYP6NV_3, B076WYP6NV_5, B076WYP6NV_8, B076WYP6NV_9, B0754HTP5K_4, B00V3EJQ0C_2, B00V3EJQ0C_3, B00V3EJQ0C_6, B00V3EJQ0C_10, B073WXQLXM_4, B01NB0JGIQ_4, B01NB0JGIQ_8, B013SVUE44_9, B074RGPBTG_7, B074RGPBTG_8, B06Y42C6S9_9, B06Y42C6S9_10, B074KTCDJL_2, B074KTCDJL_5, B01NAOR1VM_2, B00J4XMUFW_1, B00J4XMUFW_2, B00J4XMUFW_5, B01ENJFCW4_5,\n",
      "\n",
      "Cluster 5 titles: B0746KMZ4W_6, B01MFFRJAX_8, B01HV9XPN6_6, B01JC4680U_9, B074GR1WCX_4, B00RJE7MWE_10, B01L7688JU_5, B074GQJCHY_2, B0746KD3XW_2, B01GEH9IZU_7, B01GEH9IZU_10, B01EUFQDSI_2, B01EUFQDSI_6, B074FXGQP6_7, B074FXGQP6_8, B00XJJGPWQ_5, B071Y3B8KL_4, B01GLGGKD2_2, B01GLGGKD2_9, B0146MG8TE_7, B076DBRSBD_9, B076DBRSBD_10, B06WVPGQP7_9, B01N36UBBJ_2, B01HCJSRFG_10, B01D66ARIO_4, B01D66ARIO_5, B01N7LPRB1_3, B01AW4GCJQ_9, B01MU9NSCU_5, B0089IO47K_5, B009A7ZKGS_1, B009A7ZKGS_2, B00AWQMMGM_6, B007GE75HY_1, B007GE75HY_4, B014PJGJ4W_6, B009A7ZCB6_6, B009A7ZCB6_10, B00F3B33PU_4, B0089IOWE0_4, B007OUBCRO_3, B005KJE9L2_1, B015WJKQY8_4, B015WJKQY8_9, B0089IO0OW_2, B075SFRBS1_4, B01MRVXMWP_3, B00006JZCG_7, B00006JZCG_10, B01MXWNQ9J_10, B0089IO87Q_5, B0089IO4O8_8, B0089IODVC_9, B074N57MK5_1, B00A3QPCOA_3, B00A3QPCOA_10, B075Z234KS_1, B075Z234KS_2, B0177LV5SA_10, B00X9J1B4S_7, B075YZTQX4_3, B075YZTQX4_4, B01K7JC9CK_3, B014DEHUU6_1, B014DEHUU6_6, B01CJKRA60_6, B01CJKRA60_8, B013SVWB4U_4, B01MFGS0MU_5, B01N2ZUXNM_8, B013SVX13A_3, B013SVX13A_9, B0083TXZVQ_9, B0083TXZVQ_10, B0125KTJ72_5, B00K5NFGI8_3, B06XRWGS6Y_5, B06XRWGS6Y_7, B06XRWGS6Y_8, B01NBJQW2P_2, B01MU6HF61_2, B01BKFFPF8_7, B01G0FOTBO_6, B01M1FOORV_4, B071RGCYBN_7, B06XRNN6BJ_2, B06XRNN6BJ_6, B06XRNN6BJ_8, B011ERS3XI_10, B013SVW5SC_4, B01N1RV3GA_7, B01N1RV3GA_8, B00IQ8MVH8_2, B01MZHIATX_3, B00HAE7PWA_3, B01HH074VI_1, B01HH074VI_9, B01MXR69QX_10, B073726RWB_8, B071777CNH_7, B074W6KDP1_1, B009YEPM9W_3, B009YEPM9W_8, B01E1PLRP6_7, B01LZTCUYY_9, B01MT9XI1T_10, B015U4NYDU_3, B01LXR2CVR_2, B01G0FOTBY_6, B01BCD2UNI_2, B01MQY92JW_3, B01N9CD02L_5, B01N9CD02L_6, B06XRTJ6K6_2, B06XRTJ6K6_6, B06XRTJ6K6_8, B0192UWN6W_1, B0192UWN6W_6, B01LYU44CH_5, B017WJA8NU_4, B017WJA8NU_5, B017WJA8NU_6, B00HKX7JI6_2, B01F7B2HFC_5, B01F7B2HFC_6, B01B4T4P6A_9, B01M7V3QE4_5, B06XHHKWFL_4, B06XHHKWFL_8, B00MCBJKD8_10, B01M0FQQX9_10, B01N9VPZW6_4, B07523BTST_2, B01MUW0WK7_3, B01MUW0WK7_6, B01LXV0J3X_2, B01JM4D7VI_4, B01JM4D7VI_7, B01JM4D7VI_9, B01JM4D7VI_10, B06XX48DT3_6, B019IOACAQ_5, B019IOACAQ_9, B009GCRXCQ_1, B009GCRXCQ_2, B0761HRBJ8_5, B00RLIPM16_1, B00RLIPM16_6, B01KTJ6W1M_7, B01K35TESU_6, B01K35TESU_8, B013SDVN60_3, B01G6B0TUM_1, B01G6B0TUM_3, B01G6B0TUM_4, B01G6B0TUM_6, B01G6B0TUM_10, B01IKD2M8Q_2, B01IKD2M8Q_10, B071YQYNGR_1, B071YQYNGR_3, B00GB9KX4W_1, B01M18C3XZ_3, B016RU13FC_10, B016D6F0TU_10, B073MFTS4S_3, B01N99FFSF_3, B00S8IGQGI_5, B00S8IGQGI_6, B00S8IGQGI_9, B009311VO6_2, B009311VO6_3, B009311VO6_9, B009311VO6_10, B01LYQAANJ_7, B01LYQAANJ_8, B01N4646N8_7, B01N4646N8_8, B00N9WI71U_9, B00930Z7LU_2, B00930Z7LU_10, B00MCP6ZZ0_3, B00MCP6ZZ0_8, B009P10L36_4, B009GCQZD4_4, B009GCQZD4_7, B01N5234UL_3, B01N5234UL_8, B06XSN273K_1, B06XSN273K_8, B06XSN273K_9, B00ELBBGOI_7, B00J4M33MC_7, B00J4M33MC_9, B00QMHD77S_2, B01MDRCVPV_9, B074QZFSW7_2, B00OQKZ39I_3, B00OQKZ39I_6, B00OV25KEO_6, B072MQQVGR_7, B009GCRTPC_10, B019KH4O6O_2, B0188VY5UI_5, B0188VY5UI_10, B00MDK9VVY_8, B075QHMDWF_8, B01NAU4K79_8, B00U8EXCH6_8, B00J3NJ0MO_1, B00J3NJ0MO_4, B075FVFP7D_2, B075FVFP7D_3, B00E4G0UH4_3, B00E4G0UH4_4, B00E4G0UH4_5, B00E4G0UH4_6, B00E4G0UH4_7, B01MZELYRL_1, B01MZELYRL_9, B010LY92VC_3, B010LY92VC_6, B073BCB2C4_5, B074P93F79_4, B009319M2O_2, B00MQS83A8_5, B00MQS83A8_6, B009GCRDZ8_2, B075QDXVRW_1, B01DUPDSZ0_1, B01DUPDSZ0_6, B00AWCPG28_9, B009312MX0_2, B009312MX0_4, B009312MX0_8, B009318OE6_3, B009318OE6_4, B009318OE6_10, B0746GB8PB_9, B01EHHT15G_7, B01EHHT15G_10, B009310S22_7, B009310S22_8, B072BMCMTX_3, B0090UYT80_7, B01MT3EPQL_9, B00HNR55DK_4, B00NGJ0048_4, B00NGJ0048_10, B00V7MMFKI_10, B012DB8E38_6, B012DB8E38_10, B01N7FNITL_1, B00LCT5IUK_5, B00LCT5IUK_6, B00LCT5IUK_7, B009312RMG_2, B009312RMG_10, B0753G7GDG_3, B00HYMC33O_4, B00HYMC33O_10, B00ELB9U4G_8, B00ELB9U4G_9, B01LZ4VYF9_7, B01LZ4VYF9_9, B009312190_5, B009311M6I_4, B00930YGB2_1, B00930YGB2_4, B009311QIW_4, B019KH5JRW_4, B019KH5JRW_10, B009318QDK_9, B00OK78H5O_10, B0076L2BJE_5, B0093123PC_1, B0093123PC_3, B00BY0GT82_7, B00BY0GT82_9, B01NC27D26_9, B00B6SLFMC_2, B00B6SLFMC_5, B00B6SLFMC_7, B00I6THTBK_5, B076WQ3M5X_7, B076WQ3M5X_10, B009GCTH1Q_5, B075P9N6FV_5, B0093133HE_2, B0093133HE_6, B0093133HE_7, B0093133HE_8, B076WVK44C_2, B076WVK44C_10, B009318L6C_6, B0076L2CK2_2, B0076L2CK2_3, B0076L2CK2_8, B00JO5YPLC_4, B00JO5YPLC_7, B00MDBOK96_5, B00WDY6JXI_4, B00WDY6JXI_6, B00WDY6JXI_9, B00YP5CVEO_2, B00V9MNQBI_8, B0117855BC_10, B01EHHSZ4E_2, B01EHHSZ4E_6, B00TGW3J56_4, B00TGW3J56_5, B00TGW3J56_7, B01KM1NTRC_1, B01KM1NTRC_3, B00KCMCWDO_1, B00KCMCWDO_10, B00DZL8JSQ_9, B0076L1XA2_2, B0076L1XA2_4, B00VBCVGO0_9, B005PH2HTK_3, B005PH2HTK_9, B01EHHTD5Y_2, B01EHHTD5Y_6, B003NFJMBM_1, B0093125IM_2, B0093125IM_3, B0093125IM_6, B0093125IM_7, B0093125IM_10, B00ELBBFCQ_9, B00RCHK748_6, B00DPSJ3WA_6, B00931268G_2, B00931268G_3, B00931268G_4, B009GCRRUE_1, B007OU5T5A_7, B01MUDEP57_9, B00EPDY59A_5, B00AEI58HI_7, B007OUAP5E_5, B007OUAP5E_6, B007OUAP5E_9, B009311WCC_5, B009311WCC_8, B0093138H4_8, B0093138H4_9, B004UVJG7I_4, B004UVJG7I_5, B00MDC8DO8_4, B00MDC8DO8_7, B00J2WB5BK_6, B00J2WB5BK_9, B009T45XY6_4, B009T45XY6_10, B077P5VSMF_8, B00BG8F0H8_4, B00BG8F0H8_9, B01IK52REI_3, B072QSPQM4_7, B01L8W5K76_3, B073H4WMWW_8, B071F3SJ6S_8, B0711Z7XQ9_3, B0711Z7XQ9_5, B00TOC717K_2, B07237PHB6_4, B00EAHXWEU_10, B071WK651R_5, B073723MDC_8, B01MUEA3S2_10, B076C2DQBC_2, B075GYZF5D_1, B075GYZF5D_7, B07354FKPL_5, B01GCQIB24_7, B01GCQIB24_10, B00SWIDLC6_8, B01CLDGBYC_5, B00N7K3ABQ_5, B072C135YS_6, B07194433K_10, B06X6KD25K_6, B06X6KD25K_7, B072LS6PKD_7, B071CZKWPS_6, B06XXXK9YL_5, B01M5C5M5G_2, B074C24RDV_2, B01BLC5OBA_9, B01BLC5OBA_10, B071Z1VGJW_6, B0744JC89X_3, B06XRCWVS3_7, B06XRCWVS3_9, B01JU82EI8_1, B01N5IBDAS_10, B00MHYNGOY_6, B00GU8G52I_4, B0719W4FF6_10, B071J8D8CM_1, B071J8D8CM_7, B071KNWK5L_1, B071KNWK5L_3, B073SGH9Q2_4, B01KHURAU0_3, B01KHURAU0_5, B01KHURAU0_9, B071R7NDV7_5, B072MWV544_3, B01GPPVS68_9, B01N7SA3Y2_9, B01N7SA3Y2_10, B01GCQIMLE_6, B000OV0X3Y_3, B00U0ZSDDQ_6, B072BH5FYW_10, B01BLBZJGQ_9, B01LXFTX9K_6, B010LY92VC_3, B010LY92VC_6, B01N4G9RW0_10, B075M6B4HK_2, B0728F96TS_5, B013K7SD0S_4, B075BKMW23_6, B074LHJMJQ_1, B00GFJSQYC_6, B00GFJSQYC_7, B00GFJSQYC_9, B07356XK79_5, B071LQLC6T_5, B0753KTCQY_6, B072BMJPZM_7, B014YLZMYY_2, B01JIIBKSK_3, B01JIIBKSK_5, B01JIIBKSK_8, B01MUD0WFM_1, B01MUD0WFM_3, B00GFJSM46_2, B00GFJSM46_10, B06WCZC23D_1, B00JSR91I8_2, B071F3W2HD_5, B071F3W2HD_8, B0185VIKG6_3, B0185VIKG6_8, B01MZ7P69Z_7, B0749QD8FD_5, B0749QD8FD_8, B0753JWCZD_6, B01NA82EV8_4, B01GX1BEKE_5, B01GX1BEKE_8, B01GX1BEKE_10, B00Y0QOBUU_3, B00Y0QOBUU_8, B01MRVY4IW_10, B01CQUUGXC_7, B01CQUUGXC_8, B01N0NXU15_3, B071S9S2YC_4, B01DT15P88_10, B01GX1BFNK_5, B077FBDCZK_2, B077FBDCZK_10, B00JOH3XJ0_3, B01N00ZRE4_2, B01N00ZRE4_3, B01N00ZRE4_6, B01N00ZRE4_7, B01N00ZRE4_8, B073QSP8XG_9, B073QSP8XG_10, B01GCPZOZM_6, B00QNSMLYQ_6, B019840O04_6, B01C9X1NDS_3, B01C9X1NDS_9, B01MECRUS1_4, B019W8N2OG_3, B019W8N2OG_6, B07588671M_2, B0716S97FM_7, B0725ZD991_1, B00WJ4QIP6_10, B071VMQF36_7, B0753JWM5B_5, B0753JWM5B_8, B00EVKLB5I_4, B015LYNHJU_4, B015LYNHJU_5, B01176RWN8_2, B01176RWN8_3, B01FALOZPY_2, B01FALOZPY_3, B072NYVZYH_5, B00U3SSM22_9, B01MCXZPKS_5, B01MCXZPKS_6, B01BHS53FA_3, B00W4ZU3AG_6, B00KA593LC_7, B01IHXB104_10, B07585QC21_4, B014YLYX1C_1, B01G0HGBPY_2, B01G0HGBPY_6, B01M054XWA_4, B01M054XWA_8, B00Y0QO9G6_6, B01IK52REI_3, B009ZCA00Y_10, B074PRJSGY_2, B01N9VAD27_7, B01N9VAD27_9, B01LZ7SL2Z_4, B01LZ7SL2Z_7, B003XWVV6E_6, B06WWFZN2B_5, B06XH8681N_1, B06XH8681N_8, B01B9WJUWG_4, B01B9WJUWG_9, B072BX5HFQ_9, B019DP08K4_1, B019DP08K4_9, B07587FM46_4, B014FFU61I_7, B014FFU61I_9, B014FFU61I_10, B01MQ0G8WF_8, B01N6539JW_6, B017EXWTW2_7, B00N1EJXUU_10, B015R3PTL4_3, B015R3PTL4_4, B01F4RYXQK_5, B01F4RYXQK_6, B00ABA0ZOA_1, B001OVG40E_4, B001OVG40E_9, B001OVG40E_10, B01CBME0P0_1, B01CBME0P0_3, B075XHCWQX_1, B00ECV50DU_3, B00UXI32I6_2, B00UXI32I6_10, B019GOFDFC_6, B00SYMTTXA_6, B0722G25H8_5, B0722G25H8_8, 1583333002_1, 1583333002_3, 1583333002_7, B00GU8GMD0_6, B00GU8GMD0_10, B01JU977AW_2, B075GNXYZW_3, B075GNXYZW_5, B075GNXYZW_6, B01N4EQT6K_4, B00QX75SUG_7, B009REO880_4, B00LXCKO1Y_4, B00LXCKO1Y_5, B00LXCKO1Y_8, B01FG70FD8_7, B06WP6Z6PB_10, B072FP3GXS_9, B014FFTW9A_2, B014FFTW9A_6, B00AJWTEUG_6, B01IHFCO12_4, B072B9YG47_5, B00XNCV86W_6, B00XNCV86W_7, B00ELBA7A2_4, B0756GWZ3G_5, B0756GWZ3G_7, B0756GWZ3G_10, B007OU5OYQ_5, B007OU5OYQ_7, B007OU5OYQ_10, B00FADI4X2_3, B016A61VBE_2, B01MYBXLWI_8, B0062FFTRG_3, B0062FFTRG_4, B075FP6JPF_1, B075FP6JPF_4, B00E7LJK54_1, B01IFBKUKU_3, B01IFBKUKU_7, B007J213WG_3, B007J213WG_5, B007J213WG_6, B004M56VU2_10, B00XYB30C2_4, B01AJU4AK6_4, B01AJU4AK6_9, B01IYE747U_9, B01KXG5I2U_6, B007SZ1SJW_3, B00IVIZXP0_3, B075Z266Z5_4, B071FP2PL7_1, B01MFBTTA5_1, 819305573X_3, 819305573X_5, 819305573X_6, B002IRF9UE_5, B0062FIDOM_5, B0062FIDOM_8, B00M4J2T7M_8, B01KZCZ0PM_2, B00YJC9EIE_5, B00YJC9EIE_7, B00YJC9EIE_8, B007UHUM36_9, B072JFD3VV_3, B00Y5EOHRY_2, B00Y5EOHRY_5, B00Y5EOHRY_8, B06XG1FHKX_4, B0179YAIRO_5, B0179YAIRO_8, B0179YAIRO_9, B01H9OBFZ8_8, B01H9OBFZ8_10, B00XNE50Z0_6, B002PEQKHG_8, B005Q4D7ZA_10, B0076L3KKI_4, B00M4BU0OO_1, B006H07BA4_4, B00XND0WEU_1, B00XND0WEU_3, B00XND0WEU_8, B00ET0N3QK_4, B00ET0N3QK_5, B01JAD4NC8_1, B01JAD4NC8_2, B01JAD4NC8_6, B00792MX98_3, B01M71S9DU_7, B009REO3LC_2, B009REO3LC_9, B01KVH709K_10, B00DZFALQ0_3, B019U7A2MY_4, B019U7A2MY_7, B01BHS53TG_3, B01FUIE9ZS_7, B01FUIE9ZS_8, B077G9ZYF3_4, B00SFXDR9U_9, B00SFXDR9U_10, B075R7VPS9_6, B076H36J3D_4, B00ECWE4WC_3, B0089IPOGK_7, B000OIGLOM_3, B000OIGLOM_10, B00005N9YF_9, B009ZC9YBK_10, B01CCXZYVC_6, B01CCXZYVC_10, B071GVSV3D_5, B01MDR83RN_9, B01JM4CGAQ_4, B01JM4CGAQ_9, B011IFTHIG_1, B011IFTHIG_8, B06XDBDRSJ_4, B06XDBDRSJ_6, B06XDBDRSJ_8, B009RENV1U_8, B01N5JT3XD_3, B01EHHT9R6_6, B01AWDUEQ4_1, B01AWDUEQ4_4, B0753FNGSW_3, B0753FNGSW_7, B06XVDB3D6_4, B00MYL9JW8_7, B06XSRJF7J_2, B06XSRJF7J_3, B007UHS09O_5, B007UHS09O_8, B072FSM9S3_2, B072FSM9S3_4, B01EX1NBMA_3, B01EX1NBMA_7, B0105PH3GI_5, B01HWNL72M_8, B01HWNL72M_9, B075K51JMD_3, B073JB5ZM7_3, B076M8N9VL_2, B005H7BTVU_3, B0753KVCZS_10, B009RENMU0_8, B0771NLX1Z_3, B00XTUHABA_8, B00000IZQP_1, B00MZWUQX2_4, B00LM9NGNG_5, B073FJNFD6_4, B073FJNFD6_5, B01CZU8WIO_8, B0761R8X5G_8, B01FUIE8RC_4, B01FUIE8RC_10, B006DSCUKQ_9, B01CZU8YAU_1, B01CZU8YAU_5, B01CZU8YAU_7, B01CZU8YAU_9, B009PGDV38_7, B009PGDV38_9, B074D117H8_2, B073D3RS6L_7, B073D3RS6L_10, B071YVS69G_2, B071YVS69G_3, B071YVS69G_4, B071YVS69G_7, B071YVS69G_10, B01N5N1O49_1, B01N5N1O49_3, B01N5N1O49_8, B01N5N1O49_10, B00TIHLFTQ_3, B00A76QX1W_5, B00Q6PA0AS_4, B01HV9XR8Y_10, B06ZY5WXPN_4, B073WX7351_3, B073WX7351_5, B00YE3IT0C_6, B00YE3IT0C_8, B01L52CHCA_1, B013SVUE44_6, B00WN97130_5, B074RGPBTG_4, B06Y42C6S9_4, B06W5JPP8C_2, B0746GLX3V_2, B01NAOR1VM_3, B00J4XMUFW_8, B01ENJFCW4_1, B01ENJFCW4_4,\n",
      "\n"
     ]
    },
    {
     "name": "stdout",
     "output_type": "stream",
     "text": [
      "Cluster 6 titles: B06Y3F148Q_6, B06Y3F148Q_9, B00SWURF62_1, B00SWURF62_3, B00SWURF62_6, B00SWURF62_8, B00RJE7MWE_7, B06X3YL24L_5, B06X3YL24L_9, B0746KD3XW_1, B01GEH9IZU_2, B071Y3B8KL_2, B071Y3B8KL_5, B06WP1WMHT_1, B01N25YA96_1, B00F3B2TVO_5, B00I4IXBRY_3, B007GE75HY_3, B007GE75HY_9, B007GE75HY_10, B00F3B33PU_3, B01L26UXQ6_1, B0089IOWE0_5, B007GE75G0_5, B007GE75G0_8, B06XVH8WXJ_6, B075SFRBS1_1, B075SFRBS1_2, B01MRVXMWP_4, B01MRVXMWP_6, B00006JZCG_5, B00006JZCG_6, B01MXWNQ9J_6, 1591747694_2, B00005RF5D_3, B00005RF5D_6, B00005RF5D_7, B01DIPS9GK_10, B0089IO3GW_10, B00A3QPCOA_2, B00A3QPCOA_4, B00A3QPCOA_9, B0177LV5SA_2, B00X9J1B4S_2, B00X9J1B4S_9, B075YZTQX4_5, B075YZTQX4_6, B075YZTQX4_7, B014DEHUU6_2, B014DEHUU6_3, B01CJKRA60_1, B074D4BS7Q_6, B074D4BS7Q_9, B013SVWB4U_2, B013SVWB4U_9, B07454YHRV_2, B01MFGS0MU_7, B014DEJF7W_2, B014DEJF7W_6, B014DEJF7W_10, B00K5NFGI8_2, B06XRWGS6Y_2, B008YD8GG0_1, B008YD8GG0_6, B01MTYDO5I_1, B01MTYDO5I_9, B01BKFFPF8_5, B01BKFFPF8_9, B01MUR1RSC_3, B01MUR1RSC_7, B01MUR1RSC_8, B01MUR1RSC_10, B01G0FOTBO_4, B01M1FOORV_6, B0125KTIQY_7, B0125KTIQY_8, B06XRNN6BJ_5, B011ERS3XI_2, B011ERS3XI_5, B0721FB2L6_1, B0721FB2L6_10, B01N1RV3GA_6, B01MZHIATX_2, B01MZHIATX_4, B01HH074VI_7, B06XSJFBJQ_2, B06XSJFBJQ_9, B009YEPM9W_10, B01E1PLRP6_10, B01MT9XI1T_7, B014DEIYA6_4, B01LDA9DVM_5, B01LDA9DVM_10, B015U4NYDU_10, B01M0HBXWD_2, B01M0HBXWD_7, B01NALK4XS_2, B01NALK4XS_7, B01LXR2CVR_9, B01LY5PYDS_4, B01G0FOTBY_4, B00NPRM7HO_5, B01BCD2UNI_8, B01BCD2UNI_10, B01MQY92JW_4, B01MQY92JW_5, B01MQY92JW_10, B06XRTJ6K6_5, B0192UWN6W_8, B00HKX7JI6_7, B01N0R4PXH_2, B01N0R4PXH_8, B01N0R4PXH_9, B06XHHKWFL_2, B0744DYZ9R_10, B01MUW0WK7_2, B00WDYE8TK_10, B01AV4PZS6_5, B06Y4HJ61S_3, B06Y4HJ61S_7, B009GCR36W_3, B009GCR36W_4, B009GCR36W_6, B009GCR36W_8, B00PSQQZ3W_7, B00RLIPM16_2, B01K35TESU_2, B01K35TESU_5, B01K35TESU_10, B00MDFYCBS_1, B013SDVN60_6, B01MQISR84_7, B01MQISR84_9, B01IKD2M8Q_5, B01M18C3XZ_4, B01M18C3XZ_5, B016RU13FC_5, B016D6F0TU_5, B00MCP6ZZ0_5, B009P10L36_8, 1787270009_4, B01N5234UL_5, B00J4XC5IE_1, B00ELBBGOI_6, B00J4M2ZLM_4, B001NWNPC4_5, B001NWNPC4_8, B01MDRCVPV_2, B01MDRCVPV_7, B00OQKZ39I_10, B00MDK9VVY_4, B01NAU4K79_5, B01N0H2DN0_1, B00U8EXCH6_4, B00U8EXCH6_7, 1787270017_4, B01MTNA7I0_2, B01MTNA7I0_8, B00N9WI5UI_3, B01N5267EI_3, B01N5267EI_10, B075SRMJKS_2, B01DUPDSZ0_4, B009318OE6_6, B01DVUOXVM_6, B0746GB8PB_6, B009310S22_10, B01MT3EPQL_6, B00HNR55DK_9, B00NGJ0048_5, B00NGJ0048_9, B00V7MMFKI_1, B0774XQ3KN_7, B009312RMG_1, B009312RMG_5, B004UTTXJG_4, B00ELB9U4G_5, B01LZ4VYF9_8, B009311M6I_7, B00OK78H5O_6, B0076L2BJE_6, B01NC27D26_6, B00B6SLFMC_3, B00MDBOK96_3, B00MDBOK96_9, B00MDBOK96_10, B00WDY6JXI_2, B00V9MNQBI_3, B0117855BC_4, B009312QTK_9, B009312QTK_10, B01EHHSZ4E_7, B00DZL8JSQ_6, B0076L1XA2_8, B00VBCVGO0_8, B009P0ZR8Q_1, B01EHHTD5Y_7, B003NFJMBM_4, B00ELBBFCQ_1, B00ELBBFCQ_5, B00ELBBFCQ_6, B00DPSJ3WA_2, B00SIWUU2A_2, B01MUDEP57_6, B00EPDY59A_7, B009310GPG_1, B009GCU9PO_1, B009GCU9PO_5, B009GCU9PO_8, B004UVJG7I_10, B00MDC8DO8_6, B00J2WB5BK_5, B077P5VSMF_2, B077P5VSMF_3, B00AWCF76I_10, B01IK52REI_9, B01IK52REI_10, B072QSPQM4_2, B072QSPQM4_8, B01M3POPY5_9, B071F3SJ6S_10, B000IOLDFO_8, B01IHHS950_10, B01MUEA3S2_7, B01J1PBYQI_1, B075TZZMPQ_5, B075TZZMPQ_7, B072KR77WM_5, B01CLDGBYC_1, B00N7K3ABQ_3, B06X6KD25K_2, B000OV0X48_7, B00J4XC5IE_1, B071Y1WSRR_9, B01BLC5OBA_3, B0744JC89X_10, B01JU82EI8_8, B00MHYNGOY_1, B06Y617JCS_1, B06Y617JCS_7, B06Y617JCS_9, B019U5SO5S_9, B00N7K35JI_10, B01M24CCE9_8, B071R7NDV7_1, B01N7SA3Y2_2, B012CZH0LW_3, B012CZH0LW_9, B01BLBZJGQ_3, B01BLBZJGQ_4, B01BLBZJGQ_5, B01LXFTX9K_5, B075BKMW23_10, B00PRJ4X66_3, B00PRJ4X66_5, B00PRJ4X66_7, B06VSPTGLS_7, B01176NUDE_1, B01176NUDE_6, B01176NUDE_8, B019842PUG_5, B071LQLC6T_1, B071LQLC6T_2, B071LQLC6T_4, B0753KTCQY_10, B072BMJPZM_10, B014YLZMYY_1, B016WG786O_1, B01JIIBKSK_1, B00SR15J3M_7, B00SR15J3M_8, B01MQVIY4F_1, B01MQVIY4F_6, B01MZ7P69Z_2, B0753JWCZD_10, B01GX1BEKE_3, B01GX1BEKE_7, B00Y0QOBUU_5, B00Y0QOBUU_7, B00Y0QOBUU_10, B01MRVY4IW_4, B01MRVY4IW_5, B077FBDCZK_4, B00JOH3XJ0_4, B01N00ZRE4_1, B00QNSMLYQ_1, B00QNSMLYQ_4, B01C9X1NDS_5, B014YM0Z4A_6, B014YM0Z4A_7, B014YM0Z4A_10, B0185VJBVO_2, B0716S97FM_10, B00WJ4QIP6_1, B00WJ4OBA0_3, B00WJ4OBA0_6, B071VMQF36_10, B00683U4AE_9, B00EVKLB5I_1, B075ZZ77WH_4, B005TQQZGI_8, B005TQQZGI_9, B0731K6LW8_1, B01176RWN8_1, B01FALOZPY_4, B01FALOZPY_7, B072NYVZYH_3, B072NYVZYH_8, B01M0MQB9G_4, B01MCXZPKS_2, B01BHS53FA_2, B01BHS53FA_4, B00W4ZU3AG_9, B01BQ6XYTA_6, B01BQ6XYTA_10, B01MTJXJSP_1, B00F1ACGEM_2, B00F1ACGEM_5, B01IHXB104_1, B014YLYX1C_2, B014YLYX1C_6, B014YLYX1C_8, B01G0HGBPY_3, B0748HGXQN_2, B00705YP2C_3, B00705YP2C_5, B00705YP2C_9, B01MYBH8BW_5, B01M054XWA_1, B00Y0QO9G6_1, B00Y0QO9G6_4, B01IK52REI_9, B01IK52REI_10, B00ELBA5S6_1, B01LZ7SL2Z_5, B003XWVV6E_8, B01B9WJUWG_2, B073PWL69Z_2, B072BX5HFQ_3, B019DP08K4_2, B019DP08K4_4, B07587FM46_8, B01N6539JW_8, B00N1EJXUU_1, B00N1EJXUU_7, B015R3PTL4_8, B015R3PTL4_9, B00ECV50DU_1, B00ECV50DU_2, B00ECV50DU_5, B00UXI32I6_5, B00UXI32I6_9, B019GOFDFC_5, B00SYMTTXA_1, B00SYMTTXA_4, B0731H7R1L_7, B0731H7R1L_9, B0731H7R1L_10, B0723CX4YH_1, B01N6I1CUE_1, B00LXCKO1Y_3, B01G84OS5O_6, B01G84OS5O_8, B01G84OS5O_10, B072FP3GXS_7, B01IHFCO08_1, B01IHFCO08_5, B01FFRSJW8_10, B074CNZWZ6_3, 1223081087_4, 1223081087_7, B00ELBA7A2_2, B06XCZK5ST_4, B00FADI4X2_8, B01EOKB34I_7, B06XDD73XG_2, B0062FFTRG_1, B017K93EXS_1, B01939ZQ4S_7, B00XYB30C2_9, B01IYE747U_3, B007SZ1SJW_5, B007SZ1SJW_10, B00IVIZXP0_10, B009S0E5IQ_5, B075Z266Z5_6, B01H5TE7AW_6, B01MT9DJNR_4, B01MT9DJNR_8, B00FFZY6EQ_4, B00M4J2T7M_1, B00M4J2T7M_3, B00J3XELSC_2, B005VEKL5Y_3, B01KZCZ0PM_4, B00YJC9EIE_3, B007UHUM36_2, B007UHUM36_3, B072JFD3VV_4, B072JFD3VV_5, B072JFD3VV_8, B072JFD3VV_9, B06XG1FHKX_7, B013LIH7US_5, B00XNE50Z0_7, B002PEQKHG_3, B002PEQKHG_4, B002PEQKHG_5, B005Q4D7ZA_3, B0076L3KKI_3, B01M71S9DU_5, B005TQJS80_8, B01KVH709K_1, B01KVH709K_2, B00DZFALQ0_8, B013JQE56G_2, B00ADZULW4_1, B01BHS53TG_2, B01BHS53TG_4, B01FUIE9ZS_5, B01N2QGP65_5, B01N2QGP65_7, B075R7VPS9_10, B01MEEHW0K_2, B00ECWE4WC_9, B0089IPOGK_2, B000OIGLOM_6, B00ADZUNYK_4, B00ADZUNYK_5, B00ADZUNYK_8, B00ADZUNYK_9, B00005N9YF_4, B00005N9YF_10, B00UINDM04_1, B00UINDM04_4, B00UINDM04_9, B009ZC964U_2, B01CCXZYVC_5, B071GVSV3D_6, B01MDR83RN_3, B076F3HH9R_2, B011IFTHIG_3, B011IFTHIG_7, B009RENV1U_1, B01N5JT3XD_1, B01EHHT9R6_3, B012SHPYNK_4, B01FC8RSAE_9, B00MYL9JW8_5, B00MYL9JW8_9, B0076L102S_7, B0105PH3GI_4, B0063BMTTA_3, B0063BMTTA_7, B0063BMTTA_8, B005H7BTVU_4, B005H7BTVU_5, B00BWKNOGE_4, B00BWKNOGE_10, B00KNQDWVU_3, B00KNQDWVU_5, B06XF8MXK2_3, B014WE5L7Q_2, B014WE5L7Q_4, B014WE5L7Q_5, B014WE5L7Q_7, B00LM9NGNG_1, B0761R8X5G_6, B01FUIE8RC_6, B006DSCUKQ_6, B006DSCUKQ_7, B01M4R9S6F_4, B01M4R9S6F_6, B009PGDV38_4, B0738939Q3_1, B01BM0393Q_1, B076TS3FJ9_2, B076TS3FJ9_7, B06ZY5WXPN_2, B06ZY5WXPN_5, B071S1KRK1_4, B071S1KRK1_7, B06Y3HRJGY_6, B06Y3HRJGY_9, B00V3EJQ0C_1, B00V3EJQ0C_5, B00V3EJQ0C_8, B01NB0JGIQ_7, B013SVUE44_7, B013SVUE44_8, B00WN97130_1, B00WN97130_3, B074KTCDJL_9,\n",
      "\n",
      "Cluster 7 titles: B06Y3F148Q_10, B0746KMZ4W_3, B0746KMZ4W_7, B005HHRXWE_2, B01N7NSKEO_1, B01HV9XPN6_8, B01L7688JU_4, B01EUFQDSI_8, B00XJJGPWQ_3, B00WN96QEA_2, B00WN96QEA_5, B00WN96QEA_10, B071Y3B8KL_3, B071Y3B8KL_6, B071Y3B8KL_10, B01GLGGKD2_4, B076DBRSBD_6, B06WVPGQP7_1, B06WVPGQP7_3, B01D66ARIO_7, B01AW4GCJQ_4, B01MZDE2S6_4, B00AWQMMGM_1, B00AWQMMGM_5, B071Z8ML3W_3, B009A7ZCB6_8, B0089IO43Y_4, B007GE75G0_6, B06XVH8WXJ_4, B06XVH8WXJ_5, B06WLL3M8Y_1, B0089IO4SO_1, B01MRVXMWP_9, B00006JZCG_9, 1591747694_5, 1591747694_6, B01AW4GGLU_7, B0089IO4O8_9, B0089IODVC_4, B0089IODVC_10, B01MFF8P1J_2, B0177LV5SA_8, B076N1DXSM_1, B06XKJ6BF8_1, B06XKJ6BF8_6, B01MRZPERS_1, B01MRZPERS_4, B014DEHUU6_4, B01FFKQQHK_6, B074D4BS7Q_3, B07454YHRV_1, B01MFGS0MU_3, B01MFGS0MU_6, B013SVX13A_1, B0125KTJ72_2, B06XRWGS6Y_9, B01MU6HF61_3, B01BKFFPF8_4, B01BU9VYZE_6, B01G0FOTBO_7, B071RGCYBN_10, B0125KTIQY_2, B0125KTIQY_5, B0125KTIQY_9, B011ERS3XI_3, B011ERS3XI_6, B011ERS3XI_7, B011ERS3XI_9, B0721FB2L6_5, B01N1RV3GA_1, B01MXR69QX_4, B06XSJFBJQ_6, B071777CNH_1, B074W6KDP1_2, B009YEPM9W_6, B01LZTCUYY_3, B01LZTCUYY_6, B01LZTCUYY_7, B01MT9XI1T_6, B015U4NYDU_6, B01NALK4XS_5, B01NALK4XS_9, B01LY5PYDS_2, B01G0FOTBY_7, B00NPRM7HO_4, B00NPRM7HO_7, B00NPRM7HO_9, B01MQY92JW_1, B01N9CD02L_1, B077L3WX6H_1, B017WJA8NU_9, B01F7B2HFC_10, B01B4T4P6A_10, B01M7V3QE4_1, B01M7V3QE4_2, B01M7V3QE4_8, B0744DYZ9R_4, B01BV0WYF6_2, B00WDYE8TK_7, B075MJ1L5N_2, B01AV4PZS6_3, B01AV4PZS6_4, B01JM4D7VI_5, B019IOACAQ_1, B019IOACAQ_8, B019IOACAQ_10, B06Y4HJ61S_2, B009GCR36W_1, B00PSQQZ3W_4, B00PSQQZ3W_8, B00MDFYCBS_4, B00MDFYCBS_6, B013SDVN60_4, B01G6B0TUM_8, B071YQYNGR_10, B01ANPG83E_10, B00GB9KX4W_2, B00GB9KX4W_4, B00GB9KX4W_5, B01M18C3XZ_1, B016RU13FC_6, B016RU13FC_8, B016D6F0TU_6, B016D6F0TU_8, B01MS74B5E_1, B01MS74B5E_3, B009311VO6_7, B00930Z7LU_1, B00MCP6ZZ0_1, B00MCP6ZZ0_2, B00MCP6ZZ0_4, 1787270009_2, B01ANSCPAG_8, B01N5234UL_2, B01N5234UL_9, B00J4XC5IE_10, B00ELBA932_4, B00ELBBGOI_10, B00J4M2ZLM_5, B00J4M2ZLM_8, B001NWNPC4_10, B01MDRCVPV_3, B01MDRCVPV_8, B074QZFSW7_6, B00OV25KEO_7, B01GFWDGB6_3, B072MQQVGR_1, B019KH4O6O_10, B00A3QQQF4_7, B0188VY5UI_8, B00MDK9VVY_5, 1787270017_2, B01MTNA7I0_10, B010LY92VC_4, B010LY92VC_7, B010LY92VC_10, B071V86RTS_8, B01N5267EI_2, B01N5267EI_6, B074P93F79_3, B074P93F79_6, B01MY7XSMC_1, B01MY7XSMC_3, B01KV3NL6A_7, B009GCRDZ8_3, B075QDXVRW_2, B0746GB8PB_1, B01EHHT15G_2, B072BMCMTX_9, B01MT3EPQL_1, B0050JHJAK_3, B0774XQ3KN_4, B0774XQ3KN_5, B0774XQ3KN_6, B0753G7GDG_2, B00HYMC33O_7, B009318QDK_2, B00OK78H5O_1, B00OK78H5O_8, B0076L2BJE_7, B01NC27D26_1, B00B6SLFMC_4, B00B6SLFMC_6, B00I6THTBK_3, B00I6THTBK_8, B076WQ3M5X_1, B009GCTH1Q_2, B076WVK44C_1, B009318L6C_4, B009318L6C_10, B0076L2CK2_1, B00JO5YPLC_9, B00MDBOK96_1, B00TGW3J56_2, B01CML16CK_1, B005PH2HTK_5, B005PH2HTK_7, B005PH2HTK_8, B009P0ZR8Q_4, B003NFJMBM_6, B003NFJMBM_8, B004CT3HKU_4, B00RCHK748_2, B00DPSJ3WA_8, B00SIWUU2A_3, B00SIWUU2A_5, B01MUDEP57_1, B007OUAP5E_1, B007OUAP5E_8, B007OUAP5E_10, B009GCU9PO_3, B00MDC8DO8_5, B077P5VSMF_1, B077P5VSMF_4, B076HZSR94_1, B06XHMSZGY_1, B073H4WMWW_6, B01M3POPY5_4, B01M3POPY5_6, B00EAHXWEU_2, B00EAHXWEU_5, B00ID6OUH2_5, B071W4M117_4, B01MS74B5E_1, B01MS74B5E_3, B072NC2KN5_4, B072NC2KN5_5, B01IHHS950_2, B073723MDC_1, B075GYZF5D_3, B075GYZF5D_5, B0083TXWXC_3, B0083TXWXC_8, B072KR77WM_1, B01GCQIB24_1, B00SWIDLC6_3, B01CLDGBYC_3, B01CLDGBYC_4, B072C135YS_1, B07219WG9M_8, B072LS6PKD_8, B071CZKWPS_1, B000OV0X48_1, B076CG3ZVB_10, B01M5C5M5G_4, B01M5C5M5G_7, B075MGJY8Q_4, B00J4XC5IE_10, B071Y1WSRR_1, B01N52Q2GS_7, B074C24RDV_1, B071J29VTG_5, B071J29VTG_10, B071KNMXCH_9, B071KNWK5L_7, B071RXV3WH_3, B01M24CCE9_9, B071R7NDV7_3, B072MWV544_10, B000OV0X3Y_2, B072BH5FYW_2, B01LXFTX9K_1, B010LY92VC_4, B010LY92VC_7, B010LY92VC_10, B01N4G9RW0_5, B01MY7XSMC_1, B01MY7XSMC_3, B013K7SD0S_9, B075BKMW23_1, B00PRJ4X66_10, B072FPVTFY_1, B01176NUDE_10, B0753KTCQY_1, B014YLZMYY_7, B016WG786O_8, B00SR15J3M_4, B00SR15J3M_6, B071F3W2HD_2, B071F3W2HD_3, B0185VIKG6_2, B01MQVIY4F_4, B01MQVIY4F_7, B01MZ7P69Z_3, B0749QD8FD_2, B0749QD8FD_3, B0753JWCZD_1, B01NA82EV8_1, B01NA82EV8_5, B00Y0QOBUU_1, B00FVVVLHE_2, B01DT15P88_1, B01DT15P88_7, B01GX1BFNK_8, B07356PHR1_6, B00F1AISS0_2, B00F1AISS0_7, B00F1AISS0_9, B073QSP8XG_7, B01GCPZOZM_3, B019840O04_2, B019840O04_4, B019840O04_8, B0185VJBVO_6, B0185VJBVO_7, B01MECRUS1_2, B019W8N2OG_10, B01M7VCTOD_7, B01G90JXFC_1, B00WJ4QIP6_2, B00WJ4OBA0_7, B0753JWM5B_2, B0753JWM5B_3, B00EVKLB5I_2, B01LXJ750I_1, B01LXJ750I_3, B005TQQZGI_5, B01176RWN8_5, B072NYVZYH_7, B01M0MQB9G_2, B01MCXZPKS_3, B00W4ZU3AG_7, B01BQ6XYTA_7, B01BQ6XYTA_9, B00KA593LC_8, B00F1ACGEM_10, B071XJ24C9_6, B0748HGXQN_7, B0748HGXQN_8, B00705YP2C_1, B01MYBH8BW_2, B01MD18COY_6, B074J6YSJF_1, B07112KHMH_1, B074V3D5VS_8, B01N9VAD27_2, B003XWVV6E_1, B073PWL69Z_3, B019DP08K4_3, B07587FM46_1, B014FFU61I_1, B009ZC9ZDC_1, B009ZC9ZDC_2, B009ZC9ZDC_6, B009ZC9ZDC_10, B01N6539JW_5, B075Q9D5MC_1, B00ARW17U8_3, B015R3PTL4_1, B015R3PTL4_2, B01F4RYXQK_4, B00ABA0ZOA_6, B009ZCA1TO_5, B0731H7R1L_6, 1583333002_2, B01N4EQT6K_2, B009REO880_3, B077JRN4QK_3, B01G84OS5O_3, B01G84OS5O_9, B01N6TYZ5T_1, B06WP6Z6PB_6, B072FP3GXS_8, B014FFTW9A_7, B00AJWTEUG_10, B01FFRSJW8_1, B00XNCV86W_5, B016YCGERK_4, B00ELBA7A2_6, B007OU5OYQ_1, B00FADI4X2_1, B005VEE27M_5, B01N3LU3M1_4, B00E7LJK54_10, B017K93EXS_4, B01L443P6Q_1, B004M56VU2_2, B00XYB30C2_3, B01KXG5I2U_9, B007SZ1SJW_2, B009S0E5IQ_8, B00O7FZBTE_5, B00O7FZBTE_7, B01MFBTTA5_4, 819305573X_1, B00FFZY6EQ_7, B00M4J2T7M_9, B017K0M7M6_1, B074V8TG6M_1, B007UHUM36_1, B009B7F6DO_2, B009B7F6DO_6, B01H9OBFZ8_2, B013LIH7US_7, B00XNE50Z0_2, B002PEQKHG_7, B005Q4D7ZA_6, B005Q4D7ZA_8, B0076L3KKI_5, B00Z9Y4670_8, B00M4BU0OO_5, B01JAD4NC8_8, B00792MX98_6, B005TQJS80_10, B00DZFALQ0_1, B013JQE56G_8, B00ADZULW4_2, B00ADZULW4_5, B019U7A2MY_2, B076F2HMP1_7, B004RFQDNC_4, B004RFQDNC_7, B004RFQDNC_10, B075R7VPS9_1, B01MEEHW0K_6, B00ECWE4WC_8, B0089IPOGK_9, B000OIGLOM_2, B00ADZUNYK_6, B009ZC9YBK_5, B00XHLTR26_9, B076F4J5KF_3, B009ZC964U_1, B009ZC964U_7, B01CCXZYVC_8, B071GVSV3D_8, B01MDR83RN_2, B00VVQJNMS_5, B00VVQJNMS_10, B009RENV1U_5, B009ZCA1TO_5, B01EHHT9R6_4, B01EHHT9R6_9, B06XSRJF7J_4, B00WB1WEOQ_5, B00WB1WEOQ_7, B0076L102S_10, B01FUIE7IM_5, B0105PH3GI_9, B01HWNL72M_10, B005H7BTVU_8, B072Q61HM4_5, B072Q61HM4_8, B007EA4UBY_9, B06XF8MXK2_6, B00MZWUQX2_10, B00LM9NGNG_3, B00LM9NGNG_7, B00LM9NGNG_8, B01CZU8WIO_2, B01CZU8WIO_7, B0761R8X5G_1, B0761R8X5G_10, B01M4R9S6F_1, B01CZU8YAU_6, B009PGDV38_1, B009PGDV38_8, B076VCWVD9_3, B074D117H8_1, B071YVS69G_6, B00TIHLFTQ_4, B01BM0393Q_4, B01BM0393Q_10, B00A76QX1W_4, B06ZY5WXPN_3, B06ZY5WXPN_6, B06ZY5WXPN_10, B073WX7351_9, B00Y8B5X5O_1, B00YE3IT0C_2, B06Y3HRJGY_10, B01L52CHCA_5, B013SVUE44_2, B074RGPBTG_2, B06Y42C6S9_8, B0146LPZ44_1, B06W5JPP8C_5, B00J4XMUFW_9, B00KFE6L6S_5, B00KFE6L6S_10,\n",
      "\n",
      "Cluster 8 titles: B06Y3F148Q_4, B06Y3F148Q_5, B0746KMZ4W_9, B01MFFRJAX_3, B01MFFRJAX_4, B005HHRXWE_6, B01HV9XPN6_7, B01JC4680U_1, B074GR1WCX_7, B00RJE7MWE_1, B00RJE7MWE_2, B077D8QGBV_2, B01N7PUAQ8_8, B01N7PUAQ8_9, B01N7PUAQ8_10, B076P8H3LX_2, B076P8H3LX_3, B076P8H3LX_4, B01L7688JU_2, B074GQJCHY_1, B01GEH9IZU_9, B01EUFQDSI_3, B074FXGQP6_5, B01N6OH8JR_8, B01N6OH8JR_9, B01N6OH8JR_10, B00XJJGPWQ_2, B00XJJGPWQ_7, B00XJJGPWQ_9, B00XJJGPWQ_10, B071Y3B8KL_8, B01GLGGKD2_3, B01GLGGKD2_6, B01GLGGKD2_8, B0146MG8TE_3, B06WGWZ7Z6_9, B06WGWZ7Z6_10, B076DBRSBD_3, B076DBRSBD_4, B076DBRSBD_5, B01LD0BPEU_1, B075FBJRWJ_1, B06WVPGQP7_2, B06XBD7J6D_2, B06XBD7J6D_4, B06XBD7J6D_5, B06XBD7J6D_7, B06XBD7J6D_9, B01N36UBBJ_4, B06WP1WMHT_2, B01D66ARIO_2, B01D66ARIO_3, B01D66ARIO_9, B01MZDE2S6_1, B01MU9NSCU_4, B01MU9NSCU_7, B009A7ZKGS_6, B00AWQMMGM_8, B0089IO7UO_5, B008DHZDCC_1, B008DHZDCC_9, B074DVWVXY_1, B014PJGJ4W_4, B071Z8ML3W_1, B00F3B33PU_2, B01L26UXQ6_3, B01L26UXQ6_4, B007OUBCRO_6, B075LDDQKH_1, B015WJKQY8_2, B015WJKQY8_7, B074FTCH4P_1, B06XVH8WXJ_7, B01BB8MQB0_1, B01BB8MQB0_2, B01BB8MQB0_4, B01MRVXMWP_7, B01MRVXMWP_8, 1591747694_10, B0089IO4O8_2, B0089IO4O8_3, B00005RF5D_8, B01DIPS9GK_2, B0089IODVC_6, B00A3QPCOA_6, B01MFF8P1J_3, B0177LV5SA_7, B00X9J1B4S_6, B00X9J1B4S_10, B06XKJ6BF8_2, B06XKJ6BF8_5, B06XKJ6BF8_8, B077L65CHC_1, B077L65CHC_3, B076NMNRSH_5, B06XP2G4KP_1, B06XP2G4KP_10, B077L3NCYQ_1, B077L3NCYQ_3, B01FFKQQHK_8, B013SVWB4U_1, B01MFGS0MU_10, B014DEJF7W_7, B014DEJF7W_9, B01N2ZUXNM_2, B01N2ZUXNM_7, B013SVX13A_5, B013SVX13A_8, B0083TXZVQ_6, B0125KTJ72_9, B00K5NFGI8_10, B06XRWGS6Y_4, B008YD8GG0_2, B01NBJQW2P_7, B01MTYDO5I_3, B01MTYDO5I_8, B01BKFFPF8_1, B01BKFFPF8_10, B01BU9VYZE_3, B01BU9VYZE_5, B01G0FOTBO_2, B01G0FOTBO_9, B01M1FOORV_2, B01M1FOORV_7, B0125KTIQY_1, B06XRNN6BJ_9, B011ERS3XI_8, B013SVW5SC_3, B013SVW5SC_6, B0721FB2L6_2, B01MZHIATX_9, B073726RWB_6, B071777CNH_6, B074W6KDP1_3, B009YEPM9W_1, B01E1PLRP6_9, B01MT9XI1T_4, B01MT9XI1T_8, B01LDA9DVM_3, B01LDA9DVM_9, B015U4NYDU_4, B015U4NYDU_5, B01M0HBXWD_5, B01M0HBXWD_6, B01M0HBXWD_8, B01LXR2CVR_3, B01LXR2CVR_6, B01LY5PYDS_1, B01LY5PYDS_5, B01LY5PYDS_7, B01G0FOTBY_2, B01G0FOTBY_9, B00NPRM7HO_1, B00NPRM7HO_8, B01BCD2UNI_1, B01MQY92JW_8, B01MQY92JW_9, B01N9CD02L_9, B06XRTJ6K6_9, B0744LLM2C_1, B0744LLM2C_2, B0744LLM2C_3, B01LYU44CH_2, B01N5WJ2WC_7, B00HKX7JI6_5, B00HKX7JI6_6, B01N0R4PXH_1, B01N0R4PXH_10, B01F7B2HFC_9, B01B4T4P6A_6, B06XHHKWFL_6, B0744DYZ9R_9, B00MCBJKD8_2, B00MCBJKD8_8, B01M0FQQX9_7, B01M0FQQX9_9, B01N9VPZW6_2, B07523BTST_3, B07523BTST_8, B075WF92PJ_1, B01BV0WYF6_8, B00WDYE8TK_1, B00WDYE8TK_3, B01MEG490K_5, B01AV4PZS6_9, B06XX48DT3_10, B019IOACAQ_4, B009GCRXCQ_10, B0761HRBJ8_7, B009GCR36W_10, B01KTJ6W1M_1, B013SDVN60_9, B06XF2JPD7_1, B06XF2JPD7_6, B06XF2JPD7_9, B01G6B0TUM_7, B01IKD2M8Q_6, B01IKD2M8Q_8, B01ANPG83E_6, B01M18C3XZ_2, B01N99FFSF_1, B01N99FFSF_5, B00S8IGQGI_3, B009311VO6_1, B009311VO6_4, B01N4646N8_10, B00N9WI71U_5, B00N9WI71U_7, B00930Z7LU_4, B009P10L36_1, B009P10L36_6, B01M8PKHV5_2, B009GCQZD4_5, B01ANSCPAG_7, B00MIVLJZE_1, B00MIVLJZE_7, B00MIVLJZE_9, B00MIVLJZE_10, B00ELBA932_1, B00ELBA932_7, B00ELBBGOI_2, B072PXFXJ4_1, B00J4M2ZLM_2, B01HEZ48MO_4, B009GCQZN4_2, B009GCQZN4_3, B009GCQZN4_5, B009GCQZN4_8, B00OV25KEO_4, B00OV25KEO_9, B01GFWDGB6_2, B01GFWDGB6_4, B072MQQVGR_4, B072MQQVGR_5, B072MQQVGR_9, B009GCRTPC_4, B009GCRTPC_5, B019KH4O6O_7, B00KPBBJ3G_4, B00A3QQQF4_1, B00A3QQQF4_9, B0188VY5UI_1, B0188VY5UI_4, B0188VY5UI_7, B01DGMGMEG_2, B01DGMGMEG_5, B00MDK9VVY_7, B075QHMDWF_3, B075QHMDWF_6, B075QHMDWF_10, B01N0H2DN0_4, B01N0H2DN0_5, B00U8EXCH6_2, B00U8EXCH6_3, B00J3NJ0MO_6, B00J3NJ0MO_7, B00J3NJ0MO_10, B01MZELYRL_6, B00N9WI5UI_10, B071V86RTS_7, B074DVQKPX_1, B01IKFLEGU_4, B01KV3NL6A_5, B009319M2O_6, B00MQS83A8_7, B00MQS83A8_9, B01DUPDSZ0_10, B00AWCPG28_4, B00AWCPG28_8, B009312MX0_5, B009318OE6_8, B01DVUOXVM_8, B0746GB8PB_5, B01EHHT15G_8, B072BMCMTX_4, B0090UYT80_3, B01MT3EPQL_5, B00HNR55DK_2, B00HNR55DK_3, B00HNR55DK_5, B00HNR55DK_8, B00V7MMFKI_6, B00V7MMFKI_7, B00V7MMFKI_8, B0050JHJAK_2, B0050JHJAK_6, B0050JHJAK_7, B0050JHJAK_8, B012DB8E38_2, B012DB8E38_4, B012DB8E38_5, B012DB8E38_8, B01N7FNITL_4, B01N7FNITL_5, B01N7FNITL_6, B01N7FNITL_9, B01N7FNITL_10, B00931109W_3, B004UTTXJG_9, B00HYMC33O_9, B00ELB9U4G_3, B01LZ4VYF9_6, B01LZ4VYF9_10, B009311M6I_10, B00930YGB2_6, B00930YGB2_9, B00930YGB2_10, B009311QIW_6, B009311QIW_8, B019KH5JRW_6, B019KH5JRW_7, B00OK78H5O_9, B0076L2BJE_8, B0093123PC_9, B01NC27D26_5, B00I6THTBK_9, B009GCTH1Q_3, B009GCTH1Q_4, B076WVK44C_8, B076WVK44C_9, B009318L6C_8, B0076L2CK2_9, B00MDBOK96_6, B00WDY6JXI_7, B00YP5CVEO_9, B00V9MNQBI_1, B00V9MNQBI_4, B00V9MNQBI_6, B009312QTK_7, B01EHHSZ4E_5, B01EHHSZ4E_9, B00TGW3J56_10, B01KM1NTRC_9, B00KCMCWDO_3, B00KCMCWDO_6, B0076L1XA2_3, B01CML16CK_10, B00VBCVGO0_2, B00VBCVGO0_10, B005PH2HTK_1, B01BB8MRNM_3, B01BB8MRNM_7, B01BB8MRNM_10, B009P0ZR8Q_5, B01EHHTD5Y_5, B01EHHTD5Y_9, B003NFJMBM_3, B004CT3HKU_5, B004CT3HKU_8, B004CT3HKU_9, B0753DGQ62_2, B00RCHK748_4, B00DPSJ3WA_7, B00931268G_10, B00SIWUU2A_6, B00SIWUU2A_9, B009GCRRUE_10, B01MUDEP57_5, B00EPDY59A_3, B00EPDY59A_6, B00AEI58HI_4, B00AEI58HI_5, B007OUAP5E_4, B009GCU9PO_2, B009GCU9PO_10, B0093138H4_1, B0093138H4_2, B004UVJG7I_3, B00MDC8DO8_9, B00MDC8DO8_10, B00NMIYHU6_2, B00NMIYHU6_3, B00NMIYHU6_9, B00J2WB5BK_1, B00J2WB5BK_3, B074K4QSR9_1, B074K4QSR9_3, B074K4QSR9_10, B077P5VSMF_6, B077P5VSMF_9, B076HZSR94_3, B076HZSR94_4, B00BG8F0H8_3, B00BG8F0H8_5, B01IK52REI_7, B072QSPQM4_4, B01L8W5K76_1, B01L8W5K76_6, B06XHMSZGY_6, B073H4WMWW_2, B073H4WMWW_3, B073H4WMWW_7, B071F3SJ6S_3, B0711Z7XQ9_2, B0711Z7XQ9_6, B00TOC717K_1, B07237PHB6_8, B071WK651R_7, B00ID6OUH2_6, B00ID6OUH2_8, B00ID6OUH2_9, B071W4M117_1, B072NC2KN5_7, B072NC2KN5_9, B01IHHS950_6, B073723MDC_5, B073723MDC_9, B01MUEA3S2_1, B01J1PBYQI_8, B075GYZF5D_6, B075TZZMPQ_2, B075TZZMPQ_8, B075TZZMPQ_9, B07354FKPL_9, B0083TXWXC_1, B0083TXWXC_6, B072KR77WM_2, B072KR77WM_8, B01GCQIB24_6, B01CLDGBYC_9, B00N7K3ABQ_10, B07219WG9M_4, B06X6KD25K_4, B06X6KD25K_5, B072LS6PKD_1, B072LS6PKD_2, B000OV0X48_2, B000OV0X48_5, B000OV0X48_9, B00MIVLJZE_1, B00MIVLJZE_7, B00MIVLJZE_9, B00MIVLJZE_10, B06XXXK9YL_3, B06XXXK9YL_7, B01M5C5M5G_5, B01M5C5M5G_6, B075MGJY8Q_3, B072M7X26B_6, B072M7X26B_7, B071Y1WSRR_2, B071Y1WSRR_7, B01N52Q2GS_1, B01N52Q2GS_3, B01N52Q2GS_4, B01N52Q2GS_5, B01N52Q2GS_6, B01BLC5OBA_8, B0744JC89X_4, B0744JC89X_9, B06XRCWVS3_5, B01JU82EI8_2, B01JU82EI8_7, B01N5IBDAS_3, B00GU8G52I_1, B00GU8G52I_3, B00GU8G52I_8, B0719W4FF6_2, B0719W4FF6_4, B06Y617JCS_3, B06Y617JCS_4, B071J29VTG_1, B071KNMXCH_7, B019U5SO5S_6, B071J8D8CM_3, B071KNWK5L_8, B000ICZ84I_3, B000ICZ84I_6, B000ICZ84I_10, B071RXV3WH_4, B071RXV3WH_6, B00N7K35JI_6, B00N7K35JI_7, B01M24CCE9_1, B01M24CCE9_7, B01M24CCE9_10, B071R7NDV7_6, B01GPPVS68_7, B01N7SA3Y2_1, B01N7SA3Y2_4, B01N7SA3Y2_7, B01GCQIMLE_2, B01GCQIMLE_3, B0739YTVZ7_1, B0739YTVZ7_4, B000OV0X3Y_7, B072BH5FYW_1, B072BH5FYW_4, B072BH5FYW_5, B072BH5FYW_7, B072BH5FYW_9, B01BLBZJGQ_8, B01LXFTX9K_8, B01N4G9RW0_8, B075BKMW23_5, B074LHJMJQ_4, B00GFJSQYC_4, B00GFJSQYC_8, B072FPVTFY_3, B072FPVTFY_10, B01176NUDE_5, B019842PUG_1, B019842PUG_4, B019842PUG_9, B071LQLC6T_7, B071LQLC6T_10, B0753KTCQY_5, B072BMJPZM_6, B072BMJPZM_8, B01JIIBKSK_10, B01MUD0WFM_9, B00GFJSM46_4, B00GFJSM46_7, B0185VIKG6_7, B0748HL1NZ_7, B01MQVIY4F_8, B01MZ7P69Z_1, B01MZ7P69Z_5, B0753JWCZD_5, B072XRYBV5_2, B01GX1BEKE_6, B00FVVVLHE_3, B00FVVVLHE_6, B01MRVY4IW_3, B071S9S2YC_1, B01DT15P88_8, B01GX1BFNK_3, B00JOH3XJ0_8, B07356PHR1_1, B01N00ZRE4_4, B01N00ZRE4_5, B00F1AISS0_4, B073QSP8XG_3, B073QSP8XG_8, B01GCPZOZM_10, B019840O04_9, B01C9X1NDS_10, B014YM0Z4A_2, B014YM0Z4A_8, B0185VJBVO_1, B0185VJBVO_5, B0185VJBVO_8, B01MECRUS1_3, B019W8N2OG_5, B019W8N2OG_8, B01M7VCTOD_1, B01M7VCTOD_10, B0716S97FM_6, B0716S97FM_8, B0725ZD991_5, B00WJ4QIP6_4, B00WJ4OBA0_9, B00WJ4OBA0_10, B071VMQF36_6, B071VMQF36_8, B00683U4AE_1, B00683U4AE_3, B00683U4AE_8, B00EVKLB5I_10, B075ZZ77WH_2, B005TQQZGI_10, B015LYNHJU_6, B015LYNHJU_9, B01176RWN8_6, B072NYVZYH_6, B01M0MQB9G_3, B00U3SSM22_4, B00U3SSM22_6, B01MCXZPKS_1, B00FSCIJ4E_1, B00FSCIJ4E_3, B001579Z6W_4, B01BHS53FA_10, B00W4ZU3AG_1, B00W4ZU3AG_3, B00W4ZU3AG_4, B01BQ6XYTA_3, B01ANKEXUO_1, B01MTJXJSP_8, B00F1ACGEM_1, B00F1ACGEM_8, B01IHXB104_2, B01IHXB104_6, B01IHXB104_8, B07585QC21_3, B014YLYX1C_9, B071XJ24C9_2, B071XJ24C9_3, B071XJ24C9_7, B01MYBH8BW_7, B01MYBH8BW_9, B01MYBH8BW_10, B01MD18COY_3, B01MD18COY_5, B01M054XWA_3, B01M054XWA_7, B01M054XWA_10, B00ET0MYPQ_5, B00ET0MYPQ_6, B00ET0MYPQ_9, B01MZ9Q1Y9_2, B01MZ9Q1Y9_3, B01MZ9Q1Y9_5, B01MZ9Q1Y9_9, B01IK52REI_7, B009ZCA00Y_7, B01DT15JQ6_1, B07112KHMH_3, B07112KHMH_4, B074V3D5VS_1, B074V3D5VS_2, B074V3D5VS_5, B074V3D5VS_6, B074V3D5VS_7, B074V3D5VS_10, B01N9VAD27_5, B01N9VAD27_8, B06XH8681N_4, B01EIUFLR4_1, B072BX5HFQ_10, B019DP08K4_8, B07587FM46_10, B014FFU61I_3, B014FFU61I_6, B014FFU61I_8, B01M35WOI5_2, B01MQ0G8WF_2, B01N6539JW_2, B01N6539JW_9, B00ARW17U8_4, B00ND5XOHK_1, B00N1EJXUU_8, B015R3PTL4_5, B015R3PTL4_10, B01F4RYXQK_1, B001OVG40E_7, B009ZCA1TO_1, B009ZCA1TO_7, B00UXI32I6_6, B00MBID4B6_7, B019GOFDFC_1, B019GOFDFC_8, B0722G25H8_9, B0731H7R1L_3, B0723CX4YH_4, B01IB7BJ8U_5, B01IB7BJ8U_10, B00GU8GMD0_4, B00GU8GMD0_7, B071PCM8YT_1, B00QX75SUG_9, B01GVI34W0_4, B01IPQ3LFG_1, B009REO880_10, B06Y5MJFYW_5, B06Y5MJFYW_10, B077JRN4QK_2, B077JRN4QK_4, B077JRN4QK_5, B077JRN4QK_8, B077JRN4QK_9, B077JRN4QK_10, B001579Z6W_4, B01N6TYZ5T_3, B01N6TYZ5T_7, B06WP6Z6PB_8, B014FFTW9A_1, B014FFTW9A_4, B014FFTW9A_8, B073TRQH1P_3, B019QYUT42_4, B01MFCXHX9_5, B01MFCXHX9_8, B072B9YG47_6, B072B9YG47_7, B01FFRSJW8_4, B01FFRSJW8_5, B00XNCV86W_2, B074CNZWZ6_2, B074CNZWZ6_4, B074CNZWZ6_6, B074CNZWZ6_8, B074CNZWZ6_9, B074CNZWZ6_10, B016YCGERK_3, B01N5FXKRO_1, B01N5FXKRO_2, B077B3YTPL_3, 1223081087_5, B00ELBA7A2_7, B0756GWZ3G_3, B06XCZK5ST_2, B01EOKB34I_1, B01EOKB34I_5, B06XDD73XG_4, B06XDD73XG_6, B06XDD73XG_7, B01MYBXLWI_2, B01MYBXLWI_3, B01MYBXLWI_6, B01IFBKUKU_1, B01IFBKUKU_10, B017K93EXS_9, B01L443P6Q_2, B01L443P6Q_5, B01L443P6Q_8, B01939ZQ4S_8, B004M56VU2_1, B004M56VU2_4, B00XYB30C2_1, B00XYB30C2_10, B01AJU4AK6_1, B01AJU4AK6_3, B01AJU4AK6_6, B01KXG5I2U_2, B01KXG5I2U_4, B002RZ8EBS_2, B002RZ8EBS_5, B002RZ8EBS_8, B002RZ8EBS_9, B009S0E5IQ_1, B009S0E5IQ_9, B01H8XYC6Y_3, B01H8XYC6Y_10, B071FP2PL7_2, B01LJ5UOVO_2, B01LJ5UOVO_4, B01LJ5UOVO_5, B01LJ5UOVO_8, B00O7FZBTE_9, B00XYB4J9U_3, B01H5TE7AW_1, B01H5TE7AW_7, B01H5TE7AW_8, B01H5TE7AW_10, B007OU63GO_7, B01MFBTTA5_5, 819305573X_4, B002V3GGP2_2, B002IRF9UE_6, B002IRF9UE_8, B0062FIDOM_4, B0062FIDOM_7, B00M4J2T7M_4, B017K0M7M6_3, B017K0M7M6_5, B074V8TG6M_4, B005VEKL5Y_10, B072JFD3VV_2, B00Y5EOHRY_4, B06XG1FHKX_3, B06XG1FHKX_8, B06XG1FHKX_9, B0179YAIRO_2, B0179YAIRO_6, B01IPQ3LFG_1, B013LIH7US_10, B00XNE50Z0_3, B005Q4D7ZA_2, B00Z9Y4670_1, B00Z9Y4670_5, B00Z9Y4670_9, B00M4BU0OO_7, B075D7GFZP_1, B00XND0WEU_9, B01JAD4NC8_4, B01JAD4NC8_10, B01M71S9DU_6, B009REO3LC_3, B009REO3LC_5, B01KVH709K_5, B01KVH709K_7, B013JQE56G_4, B019U7A2MY_1, B019U7A2MY_9, B01BHS53TG_10, B01FUIE9ZS_4, B01FUIE9ZS_10, B00SFXDR9U_1, B01N2QGP65_3, B004RFQDNC_1, B075R7VPS9_5, B00ECWE4WC_5, B00ECWE4WC_6, B000OIGLOM_4, B009ZC9YBK_2, B00XHLTR26_1, B00XHLTR26_2, B00UINDM04_6, B00UINDM04_8, B076F4J5KF_8, B01NBV4HSQ_4, B071GVSV3D_4, B071GVSV3D_7, B071GVSV3D_9, B01MDR83RN_4, B01JM4CGAQ_1, B01JM4CGAQ_3, B01JM4CGAQ_8, B011IFTHIG_5, B00VVQJNMS_4, B00VVQJNMS_6, B01N5JT3XD_8, B01N5JT3XD_10, B009ZCA1TO_1, B009ZCA1TO_7, B01EHHT9R6_2, B01AWDUEQ4_10, B01N9TT0W4_8, B0753FNGSW_2, B012SHPYNK_10, B06XVDB3D6_2, B06XVDB3D6_8, B01FC8RSAE_3, B01FC8RSAE_5, B06XSRJF7J_1, B06XSRJF7J_8, B00WB1WEOQ_6, B072FSM9S3_1, B072FSM9S3_5, B0076L102S_5, B0076L102S_9, B01EX1NBMA_4, B01EX1NBMA_9, B01FUIE7IM_3, B01FUIE7IM_4, B01FUIE7IM_8, B0105PH3GI_6, B0105PH3GI_7, B00NXXWI4W_1, B00NXXWI4W_2, B00NXXWI4W_8, B00NXXWI4W_9, B0063BMTTA_6, B01HWNL72M_4, B01HWNL72M_5, B075K51JMD_1, B012NR8ND8_3, B012NR8ND8_4, B012NR8ND8_6, B0753KVCZS_9, B072Q61HM4_3, B00XYCU39E_2, B00XYCU39E_6, B00XYCU39E_8, B00BWKNOGE_2, B00KNQDWVU_1, B00KNQDWVU_2, B00KNQDWVU_6, B00KNQDWVU_9, B06XF8MXK2_2, B06XF8MXK2_9, B00000IZQP_3, B01N6T1JEU_8, B00MZWUQX2_8, B073FJNFD6_10, B01CZU8WIO_1, B01CZU8WIO_4, B006DSCUKQ_8, B01M4R9S6F_3, B01M4R9S6F_7, B01CZU8YAU_3, B01CZU8YAU_4, B009PGDV38_3, B009PGDV38_6, B074D117H8_4, B073D3RS6L_3, B073D3RS6L_5, B073D3RS6L_6, B077DD7T6C_2, B071YVS69G_9, B074RKNTQJ_3, B074RKNTQJ_4, B074RKNTQJ_9, B0738939Q3_9, B072ZTG87T_1, B00A76QX1W_7, B01N259HXG_7, B00RJE7BPC_6, B076TS3FJ9_4, B01HV9XR8Y_4, B01HV9XR8Y_7, B06ZY5WXPN_8, B073WX7351_7, B075VV3GRB_9, B06Y3HRJGY_4, B06Y3HRJGY_5, B01N01UGRU_2, B076WYP6NV_10, B0754HTP5K_2, B0754HTP5K_5, B0754HTP5K_10, B073WXQLXM_2, B073WXQLXM_5, B073WXQLXM_10, B00YE2UMI0_4, B00WN97130_4, B074RGPBTG_6, B0146LPZ44_3, B0146LPZ44_7, B074KTCDJL_10, B01EX65AAG_3, B01EX65AAG_8, B01EX65AAG_9, B06W5JPP8C_1, B06W5JPP8C_3, B00YP5I4BI_2, B00J4XMUFW_10, B00KFE6L6S_6, B00KFE6L6S_8,\n",
      "\n",
      "Cluster 9 titles: B06Y3F148Q_8, B0746KMZ4W_8, B01HV9XPN6_3, B074GR1WCX_3, B01N7PUAQ8_7, B06X3YL24L_8, B01N6OH8JR_7, B00WN96QEA_1, B0146MG8TE_5, B01LD0BPEU_5, B06X3YQQQ2_1, B06WVPGQP7_5, B01MZDE2S6_6, B0089IO47K_9, B009A7ZKGS_3, B06WVDSP61_3, B0089IO7UO_8, B008DHZDCC_5, B007GE75HY_7, B014PJGJ4W_2, B009A7ZCB6_1, B009A7ZCB6_2, B01BMC8PLK_1, B0089IO43Y_8, B007OUBCRO_1, B007GE75G0_1, B007GE75G0_2, B007GE75G0_4, B007GE75G0_7, B00NVDLI0Y_2, B0089IO7OA_10, B01MXWNQ9J_1, B0089IO87Q_1, B0089IO87Q_2, B01AW4GGLU_3, B01AW4GGLU_5, B01AW4GGLU_9, B01DIPS9GK_4, B01MFF8P1J_4, B0177LV5SA_1, B0177LV5SA_6, B076NMNRSH_3, B01K7JC9CK_1, B01K7JC9CK_2, B06XP2G4KP_6, B014DEHUU6_8, B01FFKQQHK_5, B075S9HCCG_4, B074D4BS7Q_1, B074D4BS7Q_2, B074D4BS7Q_5, B074D4BS7Q_8, B014DEJF7W_3, B014DEJF7W_8, B013SVX13A_2, B06XRWGS6Y_1, B008YD8GG0_9, B01NBJQW2P_1, B01BKFFPF8_2, B01BU9VYZE_2, B01G0FOTBO_3, B01G0FOTBO_10, B071RGCYBN_4, B071RGCYBN_6, B06XRNN6BJ_10, B013SVW5SC_1, B0721FB2L6_6, B0721FB2L6_7, B01MZHIATX_6, B01HH074VI_2, B01MXR69QX_2, B01MXR69QX_5, B01MXR69QX_9, B01LZTCUYY_1, B014DEIYA6_6, B01LDA9DVM_1, B077967PRY_2, B01M0HBXWD_3, B01LY5PYDS_8, B01G0FOTBY_3, B01G0FOTBY_10, B00NPRM7HO_3, B00NPRM7HO_6, B01N9CD02L_4, B06XRTJ6K6_10, B0192UWN6W_5, B01LYU44CH_9, B01LYU44CH_10, B01N5WJ2WC_5, B01N0R4PXH_6, B01N0R4PXH_7, B01F7B2HFC_2, B01B4T4P6A_2, B06XHHKWFL_5, B01N9VPZW6_5, B01BV0WYF6_5, B0736ZL2QS_1, B01MEG490K_10, B01JM4D7VI_8, B009GCR36W_5, B00PSQQZ3W_10, B009GCROI4_2, B009GCROI4_3, B009GCROI4_5, B009GCROI4_8, B00MDFYCBS_2, B00MDFYCBS_3, B013SDVN60_2, B01G6B0TUM_5, B01IKD2M8Q_1, B00GB9KX4W_6, B01N99FFSF_6, B009311VO6_8, B01LYQAANJ_1, B01N4646N8_3, 1787270009_7, B00J4XC5IE_3, B072PXFXJ4_2, B00J4M2ZLM_3, B00QMHD77S_10, B001NWNPC4_7, B074QZFSW7_1, B074QZFSW7_5, B074QZFSW7_8, B00OQKZ39I_2, B00OQKZ39I_8, B01GFWDGB6_1, B01GFWDGB6_5, B072MQQVGR_6, B00A3QQQF4_2, B0188VY5UI_2, B01DGMGMEG_1, B075QHMDWF_1, 1787270017_7, B01MTNA7I0_4, B010LY92VC_1, B00N9WI5UI_2, B01N5267EI_1, B01N5267EI_7, B074P93F79_2, B01KV3NL6A_4, B00MQS83A8_10, B009318OE6_1, B01DVUOXVM_5, B0746GB8PB_7, B01EHHT15G_5, B01EHHT15G_6, B009310S22_5, B072BMCMTX_5, B0090UYT80_1, B0090UYT80_9, B0090UYT80_10, B01MT3EPQL_7, B00V7MMFKI_5, B012DB8E38_1, B012DB8E38_3, B009312RMG_6, B0076L2AI6_4, B0076L2AI6_8, B004UTTXJG_2, B004UTTXJG_5, B004UTTXJG_7, B00HYMC33O_8, B009318QDK_3, B00OK78H5O_3, B0076L2BJE_1, B0076L2BJE_9, B0093123PC_6, B00BY0GT82_1, B00BY0GT82_4, B00BY0GT82_6, B00BY0GT82_8, B01NC27D26_7, B009GCTH1Q_1, B0093133HE_1, B009318L6C_2, B0076L2CK2_4, B0076L2CK2_5, B00JO5YPLC_1, B00WDY6JXI_5, B00YP5CVEO_6, B01EHHSZ4E_4, B01KM1NTRC_10, B01BB8MRNM_8, B01EHHTD5Y_4, B004CT3HKU_2, B0093125IM_1, B00RCHK748_7, B00SIWUU2A_1, B00SIWUU2A_8, B00SIWUU2A_10, B009GCRRUE_2, B009GCRRUE_8, B01MUDEP57_7, B00EPDY59A_1, B004UVJG7I_2, B00NMIYHU6_1, B00NMIYHU6_8, B00J2WB5BK_10, B074K4QSR9_7, B01IK52REI_1, B01IK52REI_8, B06XHMSZGY_4, B073H4WMWW_5, B01M3POPY5_1, B071F3SJ6S_1, B071F3SJ6S_5, B000IOLDFO_1, B000IOLDFO_2, B000IOLDFO_7, B000IOLDFO_9, B000IOLDFO_10, B07237PHB6_3, B073723MDC_6, B01MUEA3S2_4, B071X4FB6Y_1, B071X4FB6Y_2, B01J1PBYQI_4, B075TZZMPQ_4, B075TZZMPQ_6, B07354FKPL_7, B072KR77WM_9, B072C135YS_3, B07194433K_8, B07219WG9M_1, B06X6KD25K_3, B072LS6PKD_4, B072LS6PKD_9, B071CZKWPS_3, B06XXXK9YL_9, B076CG3ZVB_7, B076CG3ZVB_8, B072M7X26B_3, B00J4XC5IE_3, B01BLC5OBA_1, B071Z1VGJW_8, B0744JC89X_2, B0744JC89X_8, B06XRCWVS3_1, B00MHYNGOY_3, B00MHYNGOY_4, B00MHYNGOY_5, B00MHYNGOY_8, B00GU8G52I_2, B0719W4FF6_3, B0719W4FF6_7, B071J29VTG_9, B071KNMXCH_1, B019U5SO5S_1, B019U5SO5S_2, B071J8D8CM_5, B00N7K35JI_1, B01M24CCE9_3, B071R7NDV7_10, B072MWV544_1, B072MWV544_4, B012CZH0LW_1, B0739YTVZ7_6, B000OV0X3Y_6, B00U0ZSDDQ_2, B01LXFTX9K_3, B010LY92VC_1, B0728F96TS_6, B00GFJSQYC_1, B00PRJ4X66_8, B072FPVTFY_4, B018I1996I_7, B06VSPTGLS_2, B06VSPTGLS_8, B019842PUG_3, B071LQLC6T_6, B072BMJPZM_4, B01JIIBKSK_4, B00SR15J3M_3, B01MUD0WFM_6, B0748HL1NZ_2, B0748HL1NZ_4, B01M094DOA_1, B01M094DOA_3, B077FBDCZK_8, B01GCPZOZM_4, B01GCPZOZM_7, B00QNSMLYQ_5, B01M7VCTOD_8, B0716S97FM_4, B00WJ4OBA0_4, B071VMQF36_4, B015LYNHJU_2, B01176RWN8_7, B01176RWN8_10, B01M0MQB9G_1, B00U3SSM22_2, B00U3SSM22_7, B001579Z6W_1, B001579Z6W_7, B01BHS53FA_9, B01BQ6XYTA_8, B0748HGXQN_3, B01MYBH8BW_1, B01MD18COY_1, B01MD18COY_7, B01M054XWA_5, B00Y0QO9G6_5, B01IK52REI_1, B01IK52REI_8, B074PRJSGY_1, B074V3D5VS_9, B01LZ7SL2Z_2, B01LZ7SL2Z_3, B003XWVV6E_7, B06WWFZN2B_4, B06XH8681N_5, B01B9WJUWG_7, B01ISYA6JY_9, B072BX5HFQ_1, B019DP08K4_5, B019DP08K4_7, B009ZC9ZDC_4, B017EXWTW2_6, B017EXWTW2_8, B00UXI32I6_3, B00MBID4B6_5, B00MBID4B6_6, B019GOFDFC_7, B00SYMTTXA_5, B0722G25H8_1, B0722G25H8_6, B0731H7R1L_1, B0723CX4YH_3, B00GU8GMD0_1, B075GNXYZW_4, B00QX75SUG_4, B01GVI34W0_6, B06Y5MJFYW_8, B01G84OS5O_7, B01FG70FD8_2, B01FG70FD8_3, B01FG70FD8_4, B001579Z6W_1, B001579Z6W_7, B00KUHLUP2_4, B072FP3GXS_1, B072FP3GXS_2, B072FP3GXS_5, B072FP3GXS_6, B00AJWTEUG_8, B019QYUT42_1, B01IHFCO12_1, B071Y7P39L_4, B071Y7P39L_6, B01IKOZ7GO_2, B01MFCXHX9_2, B00FADI4X2_4, B00FADI4X2_9, B016A61VBE_5, B00E7LJK54_7, B017K93EXS_6, B01939ZQ4S_2, B007J213WG_7, B002RZ8EBS_7, B01LJ5UOVO_1, 819305573X_7, B002V3GGP2_4, B002V3GGP2_5, B00FFZY6EQ_6, B00FFZY6EQ_8, B00FFZY6EQ_10, B0062FIDOM_1, B005VEKL5Y_1, B005VEKL5Y_7, B00YJC9EIE_10, B007UHUM36_4, B009B7F6DO_8, B06XG1FHKX_6, B06XG1FHKX_10, B01H9OBFZ8_1, B01H9OBFZ8_3, B01H9OBFZ8_9, B013LIH7US_1, B00XNE50Z0_4, B002PEQKHG_2, B005Q4D7ZA_4, B005Q4D7ZA_5, B00M4BU0OO_2, B01LZNRW0C_4, B006H07BA4_1, B006H07BA4_7, B074JXQYY8_3, B00792MX98_10, B01M71S9DU_1, B01M71S9DU_2, B01M71S9DU_9, B005TQJS80_7, B01BHS53TG_9, B076F2HMP1_1, B076H36J3D_5, B076H36J3D_6, B00ECWE4WC_4, B0089IPOGK_1, B0089IPOGK_6, B01G0JVHSI_1, B01G0JVHSI_7, B01G0JVHSI_10, B00ADZUNYK_3, B00ADZUNYK_10, B00005N9YF_5, B009ZC9YBK_3, B076F4J5KF_2, B009ZC964U_8, B01NBV4HSQ_10, B01MDR83RN_8, B01JM4CGAQ_10, B00VVQJNMS_7, B00VVQJNMS_9, B01EHHT9R6_8, B01N9TT0W4_2, B00MYL9JW8_2, B00MYL9JW8_8, B00WB1WEOQ_1, B00WB1WEOQ_3, B007UHS09O_2, B075K51JMD_2, B075K51JMD_4, B072Q61HM4_4, B007UHRZTU_3, B007EA4UBY_1, B00BWKNOGE_7, B00BWKNOGE_8, B00KNQDWVU_7, B00KNQDWVU_10, B00000IZQP_8, B00000IZQP_10, B01N6T1JEU_2, B00LM9NGNG_2, B00LM9NGNG_4, B073FJNFD6_3, B0761R8X5G_4, B0761R8X5G_5, B006DSCUKQ_5, B01M4R9S6F_5, B01M4R9S6F_10, B076VCWVD9_1, B01N5N1O49_2, B00TIHLFTQ_2, B00TIHLFTQ_7, B00TIHLFTQ_9, B0738939Q3_4, B00A76QX1W_3, B00A76QX1W_8, B00Q6PA0AS_1, B00RJE7BPC_1, B01NAQRENI_3, B01NAQRENI_9, B06Y3HRJGY_8, B076WYP6NV_6, B013SVUE44_3, B00YE2UMI0_1, B00YE2UMI0_3, B00YE2UMI0_5, B074KTCDJL_3, B01EX65AAG_5, B01N7NCLUR_2, B01ENJFCW4_9,\n",
      "\n"
     ]
    }
   ],
   "source": [
    "from __future__ import print_function\n",
    " \n",
    "print(\"Top terms per cluster:\")\n",
    "print()\n",
    "# 按离质心的距离排列聚类中心，由近到远\n",
    "order_centroids = km.cluster_centers_.argsort()[:, ::-1] \n",
    " \n",
    "for i in range(num_clusters):\n",
    "    print(\"Cluster %d titles:\" % i, end='')\n",
    "    for title in frame.ix[i]['title'].values.tolist():\n",
    "        print(' %s,' % title, end='')\n",
    "    print() # 空行\n",
    "    print() # 空行\n"
   ]
  },
  {
   "cell_type": "markdown",
   "metadata": {},
   "source": [
    "## 多维尺度分析（Multidimensional scaling）"
   ]
  },
  {
   "cell_type": "code",
   "execution_count": null,
   "metadata": {
    "collapsed": true
   },
   "outputs": [],
   "source": [
    "# import os  # 为了使用 os.path.basename 函数\n",
    " \n",
    "# import matplotlib.pyplot as plt\n",
    "# import matplotlib as mpl\n",
    " \n",
    "# from sklearn.manifold import MDS\n",
    " \n",
    "# MDS()\n",
    " \n",
    "# # 将二位平面中绘制的点转化成两个元素（components）\n",
    "# # 设置为“precomputed”是因为我们提供的是距离矩阵\n",
    "# # 我们可以将“random_state”具体化来达到重复绘图的目的\n",
    "# mds = MDS(n_components=2, dissimilarity=\"precomputed\", random_state=1)\n",
    " \n",
    "# pos = mds.fit_transform(dist)  # 形如 (n_components, n_samples)\n",
    " \n",
    "# xs, ys = pos[:, 0], pos[:, 1]"
   ]
  },
  {
   "cell_type": "markdown",
   "metadata": {},
   "source": [
    "## 可视化文档聚类"
   ]
  },
  {
   "cell_type": "code",
   "execution_count": null,
   "metadata": {
    "collapsed": true
   },
   "outputs": [],
   "source": [
    "# #用字典设置每个聚类的颜色\n",
    "# cluster_colors = {0: '#1c9e33', 1: '#d95f02', 2: '#7570b3', 3: '#e7298a', 4: '#66a61e', 5: '#1b9c33', 6: '#d95f06',\\\n",
    "#                   7: '#7570b9', 8: '#e7288a', 9: '#66a63f'}\n",
    " \n",
    "# # 用字典设置每个聚类名称\n",
    "# cluster_names = {0: 'Kids, fun, pieces', \n",
    "#                  1: 'Kids, love, work', \n",
    "#                  2: 'Son, christmas, playing', \n",
    "#                  3: 'Christmas, bought, playing', \n",
    "#                  4: 'Months, old, playing',\n",
    "#                  5: 'Grandsons, christmas, gift',\n",
    "#                  6: 'Daughter, cute, work',\n",
    "#                  7: 'Little, daughter, used',\n",
    "#                  8: 'Christmas, daughter, playing',\n",
    "#                  9: 'Christmas, pefect, bought'}"
   ]
  },
  {
   "cell_type": "code",
   "execution_count": null,
   "metadata": {
    "collapsed": true
   },
   "outputs": [],
   "source": [
    "# #在 ipython 中内联（inline）演示 matplotlib 绘图\n",
    "# %matplotlib inline \n",
    " \n",
    "#  # 用 MDS 后的结果加上聚类编号和绘色创建 DataFrame\n",
    "# df = pd.DataFrame(dict(x=xs, y=ys, label=clusters)) \n",
    " \n",
    "# # 聚类归类\n",
    "# groups = df.groupby('label')\n",
    " \n",
    "#  # 设置绘图\n",
    "# fig, ax = plt.subplots(figsize=(17, 9)) # 设置大小\n",
    "# ax.margins(0.05) # 可选项，只添加 5% 的填充（padding）来自动缩放（auto scaling）。\n",
    " \n",
    "# # 对聚类进行迭代并分布在绘图上\n",
    "# # 我用到了 cluster_name 和 cluster_color 字典的“name”项，这样会返回相应的 color 和 label\n",
    "# for name, group in groups:\n",
    "#     ax.plot(group.x, group.y, marker='o', linestyle='', ms=12, \n",
    "#             label=cluster_names[name], color=cluster_colors[name], \n",
    "#             mec='none')\n",
    "#     ax.set_aspect('auto')\n",
    "#     ax.tick_params(\n",
    "#         axis= 'x',          # 使用 x 坐标轴\n",
    "#         which='both',      # 同时使用主刻度标签（major ticks）和次刻度标签（minor ticks）\n",
    "#         bottom='off',      # 取消底部边缘（bottom edge）标签\n",
    "#         top='off',         # 取消顶部边缘（top edge）标签\n",
    "#         labelbottom='off')\n",
    "#     ax.tick_params(\n",
    "#         axis= 'y',         # 使用 y 坐标轴\n",
    "#         which='both',      # 同时使用主刻度标签（major ticks）和次刻度标签（minor ticks）\n",
    "#         left='off',      # 取消底部边缘（bottom edge）标签\n",
    "#         top='off',         # 取消顶部边缘（top edge）标签\n",
    "#         labelleft='off')\n",
    "# ax.legend(numpoints=1)  # 图例（legend）中每项只显示一个点\n",
    " \n",
    "# # 在坐标点为 x,y 处添加影片名作为标签（label）\n",
    "# for i in range(len(df)):\n",
    "#     ax.text(df.ix[i]['x'], df.ix[i]['y'],size=8)  \n",
    " \n",
    " \n",
    "# plt.show() # 展示绘图\n",
    "# # 以下注释语句可以保存需要的绘图\n",
    "# #plt.savefig('clusters_small_noaxes.png', dpi=200)"
   ]
  },
  {
   "cell_type": "code",
   "execution_count": null,
   "metadata": {
    "collapsed": true
   },
   "outputs": [],
   "source": [
    "# plt.close()"
   ]
  },
  {
   "cell_type": "markdown",
   "metadata": {},
   "source": [
    "## 文档层次聚类"
   ]
  },
  {
   "cell_type": "code",
   "execution_count": null,
   "metadata": {
    "collapsed": true
   },
   "outputs": [],
   "source": [
    "# from scipy.cluster.hierarchy import ward, dendrogram\n",
    " \n",
    "# linkage_matrix = ward(dist) # 聚类算法处理之前计算得到的距离，用 linkage_matrix 表示\n",
    " \n",
    "# fig, ax = plt.subplots(figsize=(15, 20)) # 设置大小\n",
    "# ax = dendrogram(linkage_matrix, orientation=\"right\", labels=ASINs);\n",
    " \n",
    "# plt.tick_params(\n",
    "#         axis= 'x',          # 使用 x 坐标轴\n",
    "#         which='both',      # 同时使用主刻度标签（major ticks）和次刻度标签（minor ticks）\n",
    "#         bottom='off',      # 取消底部边缘（bottom edge）标签\n",
    "#         top='off',         # 取消顶部边缘（top edge）标签\n",
    "#     labelbottom='off')\n",
    " \n",
    "# plt.tight_layout() # 展示紧凑的绘图布局\n",
    " \n",
    "# # 注释语句用来保存图片\n",
    "# plt.savefig('ward_clusters_US20171130.png', dpi=200) # 保存图片为 ward_clusters"
   ]
  },
  {
   "cell_type": "code",
   "execution_count": null,
   "metadata": {
    "collapsed": true
   },
   "outputs": [],
   "source": [
    "# plt.close()"
   ]
  },
  {
   "cell_type": "markdown",
   "metadata": {},
   "source": [
    "## LDA"
   ]
  },
  {
   "cell_type": "code",
   "execution_count": 13,
   "metadata": {
    "collapsed": true
   },
   "outputs": [],
   "source": [
    "# 去除文本中所有的专有名词……不幸的是，现在句子的第一个单词也被去掉了。\n",
    "import string\n",
    "def strip_proppers(text):\n",
    "    #  首先分句，接着分词，而标点也会作为词例存在\n",
    "    tokens = [word for sent in nltk.sent_tokenize(text) for word in nltk.word_tokenize(sent) if word.islower()]\n",
    "    return \"\".join([\" \"+i if not i.startswith(\"'\") and i not in string.punctuation else i for i in tokens]).strip()"
   ]
  },
  {
   "cell_type": "code",
   "execution_count": 31,
   "metadata": {
    "collapsed": true
   },
   "outputs": [],
   "source": [
    "# 去除文本中所有专有名词（NNP）和复数名词（NNPS）\n",
    "from nltk.tag import pos_tag\n",
    " \n",
    "def strip_proppers_POS(text):\n",
    "    tagged = pos_tag(text.split()) # 使用 NLTK 的词性标注器\n",
    "    non_propernouns = [word for word,pos in tagged if pos != 'NNP' and pos != 'NNPS']\n",
    "    return non_propernouns"
   ]
  },
  {
   "cell_type": "code",
   "execution_count": 32,
   "metadata": {},
   "outputs": [
    {
     "name": "stdout",
     "output_type": "stream",
     "text": [
      "CPU times: user 3.56 s, sys: 33.7 ms, total: 3.59 s\n",
      "Wall time: 3.78 s\n",
      "CPU times: user 5.94 s, sys: 52.9 ms, total: 5.99 s\n",
      "Wall time: 6.33 s\n",
      "CPU times: user 521 ms, sys: 3.56 ms, total: 525 ms\n",
      "Wall time: 526 ms\n"
     ]
    }
   ],
   "source": [
    "from gensim import corpora, models, similarities \n",
    " \n",
    "# 去除专有名词\n",
    "%time preprocess = [strip_proppers(doc) for doc in review]\n",
    " \n",
    " # 分词\n",
    "%time tokenized_text = [tokenize_and_stem(text) for text in preprocess]\n",
    " \n",
    " # 去停用词\n",
    "%time texts = [[word for word in text if word not in stopwords] for text in tokenized_text]\n"
   ]
  },
  {
   "cell_type": "code",
   "execution_count": 33,
   "metadata": {},
   "outputs": [
    {
     "name": "stdout",
     "output_type": "stream",
     "text": [
      "{'ho', 'today', 'shadow', 'slow', 'hubbi', \"story'sand\", 'toolbox', 'chockol', 'liter', 'put', 'redund', 'exchang', 'syring', 'healthi', 'bmx', 'rubber', '28cm', 'camper', 'faffi', 'well-received.|mi', 'car|noth', 'ie', 'pillow', 'consid', 'shave', 'sulphat', 'spider', 'decent', 'histori', 'video', 'attatch', 'abec', 'centr', 'suffer', 'rein', 'chair/bumbo', 'spanner', 'board.|skateboard', 'happy.easi', 'radioact', 'cooki', 'cupboard', 'au', 'f', 'yesterday', 'yr.', 'belt', 'four', 'plastik', 'trees/rock', 'wear', 'iron.|great', 'refund', 'spacious', 'otherwis', 'fantast', 'net', 'refil', 'graber', '🙃🙃🙃🙃|brilliant', 'off-complet', 'hood', '9year', 'cheapli', 'lax', 'carnt', 'ate', 'fair-siz', 'creativity.|purchas', 'duff', 'suppos', 'mishap', 'teacher/pupil', 'softi', 'todger', 'unscrew', 'nois', '5m', 'crimin', 'apply.nic', 'sharp', '6oz', 'tangerin', 'lip', 'mass', 'tv', 'recommended|high', 'elementari', 'soup', 'superhero', 'riding/pulling/carri', 'colleg', 'gas', 'else.|colour', 'geolog', 'play', 'add-on', 'inflat', 'ither', 'cardboard', '|great', 'tape', 'wherebi', 'easilli', 'nasti', 'measurements..but', 'puzzel', 'especi', 'vehicl', 'properly-', 'backdrop', 'teenag', 'oublier', 'this.perfect', 'coolest', 'fidgeti', 'firt', 'lego|a', 'dress-up', 'retail', 'programme..ther', 'hard•', 'happy.|thi', 'team', 'pluck', 'nurtur', 'cast', 'tail/end', 'darl', 'choc', 'typic', 'bamboo', 'everyon', 'out..', 'backpack', 'principl', 'pool', 'ink', 'visit', 'hatchl', 'kick', 'risk', 'wud', 'roleplay', 'incluy', 'colours.|got', 'embroid', 'dojo', 'roar', '3x', 'raini', 'stimul', 'spill', 'autis', 'hungri', '2inst', 'wipe', 'numbers.|', 'it.|it', 'hospit', 'cloth', 'dont', 'task', 'shallow', 'guess|brought', 'closeabl', 'nake', 'transpar', 'labour', 'convinc', 'free-stand', 'featur', 'self', 'pug', 'thoma', 'surpris', 'cheat', 'drama', 'batter', 'blend', 'daili', 'grab', 'habitat', 'moult', 'caterpillar', 'smoother', 'sweati', 'outsid', 'helmet', '1x2', 'pompom', \"these'babi\", 'dither', 'okay..', 'tatter', 'seper', 'promenad', 'cushioni', 'occasion', 'complex', 'poundland', 'separatley', 'compliment', 'entranc', 'freez', 'gift.|great', 'wheal', 'flam', 'style.|lov', 'money|ok', 'it.|7', 'daughter', 'key', 'proxim', 'it.|would', '17month', 'disapoint', 'learner', 'scoot', 'symbol', 'share', 'develop', 'veg/fruit', 'whack', 'squirt', 'projector', \"sparklers'firework\", 'need', 'diabet', 'tac', 'gigant', 'credit', 'accommod', 'gifts-', 'mint', 'nostalgia', 'collar', 'expected-', 'have.|r', 'extrud', 'intuit', 'mysteri', 'suspens', 'characters|4yr', 'h', 'gd', 'china', 'scientif', 'product|it', 'chip', 'sum', \"product'mi\", 'though.|got', 'bandana', 'neat', 'guess', 'lean', 'pee', 'lightsab', 'headscarf', 'rifl', 'blues/green', 'tubes😁', 'jobbi', 'recommend|seem', 'crab', 'thanks|on', 'swims/bath', 'prob', 'process', 'breakfast', 'chunk', 'gradual', 'grrr', 'aswel', \"sided'green\", 'appeal', 'main', 'stripi', 'sodium', 'half-term', 'disassembl', 'pay', 'ammunit', 'getmor', 'puppet', 'daighter', 'cartridg', 'accent', '6-year-old', 'modern', 'danger', 'hate', 'hey', 'motorbik', 'shes', 'prix', 'regular', 'anymore.|no', 'blank', 'envelop', 'talk', 'grandma', 'ca', 'intact', 'y/o', 'useag', 'beep.|8', 'cute.|', 'document', 'shaft', '.will', 'nonstop', 'gold', 'ten', 'youngest', 'ring', 'dip', 'hitch', 'puppi', 'chunkier', 'hoverboard', 'homag', 'dos', 'femal', 'abandon', 'washabl', 'enlist', 'peeler', '.hard', 'ut', 'secondri', 'dad', 'sock', 'thinni', 'penc', 'eaten', \"we'll.|a\", 'puddl', 'protrud', 'lego', 'critic', 'together..', 'earlier', 'descend', 'hing', 'handicap', 'shop', 'brick', 'twin', 'huge', 'awesom', 'deadlin', 'cute.|mi', 'imagain', 'across', 'gane', 'suck', '2yr', 'important-', 'onc', 'curios', 'decemb', 'interest', 'stitch', 'katana', 'buyer', 'shelf', 'control', 'glu', 'concret', 'spinner', 'disconcert', 'toothbrush', 'undo', 'despatch', 'album', 'norman', 'ribbon', 'unseal', 'ftom', 'recomend', 'on-air', 'lego.simpl', 'layer', 'nobodi', 'away.|smal', 'fan', 'yet', 'one-off', 'odditi', 'holiday', 'aqua', 'white', 'plant', 'till', 'swollen', 'batch', 'crock', 'barrier', 'harder', 'you|granson', '.carolin', 'trust', 'budget', 'ty', 'wing', 'awkward', 'smudgi', \"the'parti\", 'shall', 'blanch', 'disguis', 'selv', 'marbl', \"sit'n'toddl\", 'replica', 'grate', 'scents.|would', 'definet', 'woman', 'throughout', 'long', 'this|great', 'pavement', 'stickers-', 'strap', 'evoqu', 'it|bought', 'paddl', 'react', 'tabbi', 'stage', 'ammo', 'shot', 'recipient.|bi', 'cri', '|wow', 'dextrous', 'fun.|bought', 'intent', 'protect', 'rubric', 'dri', 'change|what', 'meet', 'laptop', 'snugg', 'vs', 'skill', 'v3', 'bolognes', 'balconi', 'exuber', 'easili', '.seem', 'rough', 'mulan', 'cudd', 'needless', '2-3day', 'cleaver', 'spanners.|ord', 'gumbal', 'themb', 'rehears', 'techniqu', 'north', 'error', 'therefor', 'yeah', 'it|christma', '3yo', 'much|wouldnt', 'drive', 'niece-sh', 'unlock', '..he', 'therein', 'earli', 'carnag', 'in4', 'pose', \"actually'slept\", 'strength', 'shaken', 'ambigu', 'slinki', 'still..wish', 'sick', 'film', 'inde', 'boy', 'avail', 'took', 'tunnel', 'rize', 'saucer', 'ineffect', 'chest', 'carri', 'entri', 'chuf', 'judg', 'bum', 'doorstep', 'gain', 'donat', 'familiar', '5yr', 'assess', '😊|realli', 'videogam', 'sparkl', 'pray', 'abroad', 'glue', 'dust', 'special.|thi', 'fun|thi', 'mummi', 'decid', 'fairi', 'ramp', 'face.|grandson', 'crumbl', 'too|great', 'face.excel', 'apparatus', 'putti', 'either', 'ahhhh', '17mth', 'detach', 'willag', 'curve.rv', 'solut', 'promptl', 'afterward', 'partial', 'nonk', 'pieces-', 'reassur', 'torn', 'plastic.but', 'hung', 'bulkier', 'onlin', 'are.|mi', 'toddler/children', '-i', 'thingi', 'authent', 'work|i', 'tat.|thank', 'disney', 'toy/cushion', 'trouvé', 'page', 'tilt', 'thrown', 'situat', 'grey', 'anoth', 'scene', 'happy.|no', 'again.|tri', 'earring', 'rappel', 'fastest', 'schedul', 'ninki', '..lol', 'aspect', 'whos', 'swing', 'it.8', 'couple.|good', 'invit', 'flight.|', 'bc', 'winki', 'appear', 'origion', 'bewar', 'substanc', 'lamin', \"it'challeng\", 'dial', 'scope', 'pleaser', 'clump', 'then-3', 'friend', 'tbh', 'diminish', 'strip', 'inexpens', 'harden', 'buy', '..make', 'nicer', '3day', 'cut/mould', 'nerf', 'bog', 'fill', 'bore', 'nonetheless.|for', 'franchis', 'atal', 'sorter', 'play8bg', 'skin', 'pari', 'frustrated.|excel', 'flag', 'firefli', 'sand', 'spatula', 'lumin', 'wonki', 'mod', 'nowher', 'uv', 'product|bought', 'reviv', 'mermaid', 'equipment/toy', 'soul', 'board.4', '-so', 'lace', 'mam', '.veri', 'ver', 'fought', 'doors/windows/wal', 'bacteri', 'ofclap', 'obscur', 'review', 'twest|brought', 'tack', 'sheer', 'pyramid', 'enjoy', 'mechansim', 'oil', 'note', 'playdo', '.got', 'toot', 'it.|grandson', 'eas', 'bring', 'time|great', 'complaint', 'underwhelm', 'scare', 'again.|bought', 'spat', 'ster', 'attempt', 'fidg', 'liven', 'fad', '3-year-old', 'untreat', 'pig', 'football.|grand', 'sweets/gumbal', 'plenti', 'engaging|brought', 'shuttl', 'fiddley', 'inrecognis', 'year.|', 'vari', 'gym', 'comments.|a', 'gazillion', 'u', 'pleased|alot', '8-year-old', 'priceat', 'liner', 'masquerad', 'muscl', 'up.|wa', 'sprung', '4-year', 'damn', 'villag', 'routin', 'rope', 'forgotten', 'porridg', 'biscuit', 'satisfactorili', 'diagram', 'toyota', 'calcul', 'playset', 'coat', 'amusing.|simpl', 'pride', 'input.|bought', 'slimmer', 'plonk', 'token', 'en', 'precaut', 'set.|kid', 'copious', 'mail', 'display', 'overhead', 'chubbi', 'flagship', 'minifig', '|ive', 'amus', 'improvis', 'arrang', 'standard', 'scent', 'piggy/doggi', 'poppi', 'christen', 'patienc', 'leakag', 'sqishey', 'doh', 'therapeut', 'flatpack', 'recipient|veri', 'phrase', 'uncontrol', 'stencil', 'grandpar', 'rc', 'machin', 'quizz', 'request', 'plays|wel', 'shirt', 'consol', 'moveabl', 'inclus', 'underwat', 'des', 'playmobil|7', 'ugli', 'award', 'base', 'health', 'well|flip', '..happi', 'set|veri', 'smush', 'over.|lov', 'pertrud', 'nowaday', 'scienc', 'occupi', 'bush', 'foetal', 'shock', 'stylus', 'panel', 'grandson', 'ging', '|fine', 'usabl', 'propel', 'cheapest', 'fanat', 'nufff', 'firm', 'scrape', 'horizont', 'slogan', 'rebath', 'tile', 'destruct', 'tap', 'amazing.|smal', 'battl', 'son|', 'fulli', 'somebodi', 'problem..', 'photo', 'tight', 'blow', 'much-enjoy', 'diagnos', 'ex', \"n'est\", 'geod', 'triplet', '3094309403th', 'applic', 'er', 'flap', 'imposs', 'pokemon', 'worri', 'funni', 'xxp.s', 'snippet', '1/2yr', 'birth', 'bow', 'embrac', 'chuckl', 'consign', 'chute', 'notecard', 'coo', 'n-strike', 'organis', 'refresh', 'priblema', 'weari', 'squish|it', 'girli', 'snot', 'rainbow', 'frog', 'it|cut', 'zimmer', 'adult.|', 'destroy', 'saver', 'playset..grey', 'more|star', 'though.|cam', 'shoulders.|', 'lesser', 'overheat', 'substandard', 'mat', 'chosen', 'costume.|veri', 'quicker', 'overlap', 'softest', 'hobbi', 'stock', 'prius', 'ekind', 'moon', 'sa', 'donkey', 'trap', 'bite', 'squeez', 'suspend', 'fidd', 'packet', 'geli', 'stew', 'moonwith', 'hairless', 'bent', 'singl', 'audienc', 'surface.wher', 'cumbersom', 'tall', 'contact', 'select', 'mile', 'ingeni', 'littk', 'greaseproof', 'faster', 'easy.|so', 'gum', 'repriev', 'preserv', 'muct', 'obtain', \"c'est\", 'asleep', 'contrapt', 'minifigur', 'hole', 'toe', 'assembl', 'act', 'chartridg', 'know', 'kilter', 'bing', 'built', 'groceri', 'weblink', 'lie', 'cheerful.|th', 'veget', 'audit', '2yo-', 'relentless', 'new', 'look-up', 'six', 'pleased|excel', 'wigg', 'ceram', 'bday', '4yo', 'chew', 'impli', 'grant', 'vtech', 'whatev', 'tentic', 'bother', 'chore', 'string', 'packag', '59cm', 'kid', 'continu', 'turquoise/blu', 'smell', 'fab', 'insideit', 'storag', 'dispens', 'bubbles.|du', 'cheer', 'blister', 'emigr', 'straw', 'join', 'gotten', 'softer', 'wrink', 'ready-to', 'fayr', 'it.|mi', 'wise', 'ones.|it', 'snap', 'special', 'alic', 'garden', 'factori', 'ijn', 'loveliest', 'dispatch', 'nativ', 'terri', 'except', 'unnumb', 'merchandis', 'incorrect', 'planet', 'phonic', 'trail', 'amd', 'heat', 'paintbrush', 'reviews..but', 'veri', 'annoy', 'stone', 'weak', 'true', 'replac', 'stale', 'puttjng', 'newli', 'diff', 'haha|nic', 'thicken', 'noisier', 'inexplic', 'men', 'technolog', \"it'off\", 'cabl', 'voitur', 'trod', 'learning|lov', 'kids.|beauti', 'complimentari', '21st', 'per', 'complet', 'port', 'disconnect', 'good|9', 'remark', 'fli', 'oil-would', '7-year', '|instant', 'size', 'choic', 'lover', 'motion', 'battleship', 'trumpet', 'copper', 'set.|mi', 'cant', 'school', 'chair', 'curtain', 'too.|veri', 'spacer', 'stiff', 'butteri', 're-seal', 'drawer', 'grangson', 'lolo', 'call', 'vibrant', 'saddl', 'tough', 'flipfuri', 'boy/girl', 'prober', 'particular', 'geographi', 'children', 'placement', 'bust', 'dog', 'plush', 'deliv', 'intend', 'polyvinysomethingywhatsit', 'briefcas', 'grain', 'bro', 'ensur', 'stear', 'pinki', 'circular', 'besid', 'configur', 'cracker', 'ton', 'gift/stock', 'craft', 'predict', 'etcher', 'flatten', 'starter/engin', 'cleaned-upon', 'alittl', 'boyth', 'hug', 'dramat', 'definit', 'changer', 'steel', 'awak', 'aa', 'of-cours', 'angel', 'crown', 'dexter', 'tension', 'tildo', 'gave', 'guest', 'unattend', 'tonstart', 'artwork', 'tyke', 'partner', 'yaer', 'po', 'borrow', 'activity.|ravensburg', 'effort', 'figurin', 'media', 'bikes.|it', 'granddaughter.|anoth', 'disppojntdd', 'count', 'expect.|mi', 'you|a', 'fore', 'luv', 'them..', 'board', 'lil', '👍🏻|what', \"the'paint\", 'supermarket', 'roomi', 'wwe', 'sub', 'orient', 'promis', 'quirt', 'yes', '6y.o', 'unfold', 'lass', 'tractor', 'sister', 'shake', 'whole', 'countries8', 'correct', 'blast', 'sky', 'all|look', 'beani', 'adhes', 'wanted|grandaught', 'water', 'middle|grandchild', 'neck', 'due', 'quickly.|top', 'competit', 'scenario', 'digit', 'weight', 'lol', 'dispos', 'food', 'knee', 'phlat', 'tantrum', 'colorful', 'increas', 'it|it', 'woof', 'nerv', 'orchard', 'mammoth', 'this.|', 'god', 'bike', 'flick', 'falllen', 'territori', 'sequenc', 'erupt', 'blatant', 'brighten', 'chatter', 'batteri', 'speciallli', 'advic', 'velour', 'hardboard', 'concoct', 'car.|mi', 'cos', 'filler-', 'itscomfort', 'wears-', 'bound', 'gross', 'shaker', 'b4', 'spiral', 'max', 'unsecur', 'graphic', 'keep.kid', 'top', 'broken.at', 'pouch', 'product.sturdi', 'condit', 'product.|good', 'cog', 'sevur', 'vacat', 'bit', 'flea', 'baff', 'forc', 'drys', 'sellotap', 'haul', 'flat', 'foru', 'gift.|', 'whizz', 'imagin', 'it.|bought', 'polystyren', 'repres', 'belli', 'helicopt', 'recov', 'cottag', 'posabl', 'inch', \"the'good\", 'round', 'roam', '3-4cm', 'cellophane|3', 'sturdier', 'opening.th', 'feather', 'prescript', 'swore', 'rnci', 'inspir', 'wherea', 'it.|wel', 'much', 'catamaran', 'theori', 'solubl', 'submerg', 'whisker', 'recept', 'problemat', 'insulin', 'ago.|', 'sade', 'laugh', 'sniper', 'upto', 'fanci', 'one.|just', 'futur', 'sampl', 'dig', 'loos', 'distanc', 'gown', 'play.|not', 'shabbili', 'surfac', 'alon', 'restless', 'arsenic', 'casser|brilli', 'box', 'folder', 'invari', 'bairn', 'splash', 'temprement', 'pain', 'shown..', 'spoilt', '.|veri', 'sack', 'nie', 'bandi', 'catapillar', 'sem', 'aliv', 'width', 'won/t', 'mediocr', 'presum', 'tow', 'split', 'dissapppoint', 'ani', 'yrs', 'fg', 'crumpl', 'batman', 'uncle/aunt', 'bulki', 'swim', 'email', 'convert', 'law', 'impract', 'unlik', \"y'o\", 'disrupt', 'grownup', 'sentiment', 'recycled.|mi', 'scooter', '.second', 'packaged.||', \"being'th\", 'sooth', 'meduim', 'dinosaur', 'buy|', 'began', 'expans', 'mid', 'price|mi', 'element', 'coffin', 'quit', 'flaw', 'determin', 'thick', 'twiddl', 'infact', 'receiv', 'unmad', '£15p', '7pm', 'ect', 'day.|thi', 'plesent', 'decreas', 'dream', 'ish', 'crafti', 'part.|it', 'zero', '|what', 'co', 'accuraci', 'scheme', 'gurgl', 'lion', 'proport', 'chart', 'crude', 'freeli', 'tabard', 'frost', 'commenc', 'liquid', 'evid', \"special'prim\", '.|it', 'clean', 'skills.|lik', 'crunchi', 'eat', 'sont', 'adults|perfect', 'feeli', 'item-', 'occur', 'go-kart', 'comment', 'sunglass', 'go-to', 'faint', 'forgiv', 'complainin', 'whenw', 'indent', 'olli', 'manoeuvr', 'envari', 'earth', 'halford', 'style', 'dice', 'own.|', 'doni', 'star', 'playmat', 'pt', 'you|good', 'compani', 'properly|perfect', '.i', 'accur', 'winner-ha', 'track', 'crushed/', 'knot', 'ceris', 'amongst', 'hatchim', '7yo', 'muddl', 'discrib', 're-or', 'job', 'rescu', 'you.|', 'water/gel', 'sooner', 'exclus', 'daughter-in-law', 'ac', 'inconveni', 'lesson', 'wider', 'durat', 'bracket', 'scant', 'enquiri', 'event', 'filll', 'a.slight', 'oldest', 'reccommend', 'prsent', 'bolster', 'rush', 'lessen', 'bough', 'care', 'wick', '11inch', 'ripoff', 'projectil', 'on.|', 'airtight', 'homeschool', 'repeat', 'largeish', 'toy', 'normal', \"say'look\", 'tub.th', 'den', \"foamed'ic\", 'it|mad', 'loader', 'em', 'low', 'corduroy', 'fox', 'cuddl', 'arm', 'up|7', 'filler.|great', 'kart', 'rung', 'monitor', 'welcom', 'extend', 'wrestler', '42cm', 'objet', 'speed', 'puzzl', 'whet', 'et', 'softgiven', 'child.|what', 'fell', 'boxer', 'teaser', 'pole', 'wrapper', 'amend', \"whole're-us\", 'maker', 'shed', 'born', 'overflow', 'disappear', 'rocketed.suppos', 'grass', 'space/planet', 'locker', 'shoddi', '.what', 'thanks|kid', 'buckl', 'staedtler', 'reach', 'pj', 'speedi', 'inoper', 'xmas', 'hoursbof', 'work.☹️', 'instal', 'outdoor', \"the'twin\", 'fluff', 'tactic', 'unchart', 'present.|veri', 'experienc', 'reliev', 'fact', 'slope', 'incred', 'design.sup', 'pedal', 'streak', 'hes', 'hooper', 'digger', 'varnicsh', 'behav', 'height.|wow', 'room', 'statur', 'inexperienc', 'christmas-', 'it|fun', 'accomplish', 'plug', 'taller', 'flywheel', 'togeth', 'rock', 'great', 'thoe', 'damp', 'hardback', 'slippi', 'footbal', 'chemistri', 'jig', 'magazord', 'upon', 'squirrel', 'proud', 'lyric', 'inbuilt', 'use|', '-he', 'disclaim', 'pounc', 'too|lov', '.et', 'glitter', 'therapi', 'rumertid', 'faceless', 'money.|12', \"n't\", 'simular', 'sachet', 'first2', 'resembl', 'superbl', 'it|||||', 'booklet', 'correspond', 'pre-ship', 'pointless', 'encount', 'middl', 'stifl', 'money.|bought', 'stuggl', 'icon', '|excel', 'fingers/hand', 'interior', 'bath|good', 'die', 'demand', 'classic', 'doabl', 'doggi', 'rate', '|do', 'afford', 'definitley', 'primarili', 'dread', 'ruction', 'joystick', 'lick', 'patrol', 'one.|com', 'ears.|great', 'bare', 'filler.|it', 'disappointed|when', 'fun.|good', 'refus', 'them.|', 'money', 'munch', 'airport/plan', 'vehicle.great', 'monito', 'sensori', 'week', 'rais', 'made/sturdi', 'do.mi', 'ofcous', 'mild', 'hilari', 'armstrong', 'rapid', 'remot', 'bless', 'beach', 'inspect', 'stickerless', 'hoot', 'child-friend', 'nd', 'nature.|mi', 'morn', 'advantag', 'opinion', 'pour', 'peel', 'puff', 'it|happi', 'thorough', \"different's\", 'manipul', 'funko/vinyl', 'bleed', 'excesivli', 'rubik', 'strict', 'trop', 'flute', 'side.3', 'goog', 'grea', 'flavour', 'sur', 'squiesh', 'spent', \"li'l\", 'withthi', 'unravel', 'sausag', 'locks/key', 'spare', 'rare', 'fro', 'associ', 'buy|great', 'heap', 'mor', 'slime', 'fun|thank', 'playtim', 'vendor', 'three-year-old', 'described|lov', 'queue', 'intern', 'bell', 'queen', 'year-old', 'within', 'sprout', \"and'walk\", 'groot', 'spi', 'substanti', 'dummi', 'stabl', 'others.|bought', 'dismantl', '.the', 'reconsid', \"that'slip\", 'haunch', 'permet', 'build', '7year', 'approxim', 'forward', 'gir', 'essenti', 'behind', 'unfortunat', 'drawn', 'sleep', '.it', 'luck|cut', 'easiest', 'outweigh', '60x', 'amount', 'it-', 'unaid', 'unceremoni', 'iy', 'difficult', 'job|a', 'full-on', 'trip', 'aaa', 'jojo', 'bu', 'warehous', 'baddi', 'advertises.£8+', 'exec', 'lo', 'wound', 'liberti', 'serv', 'lunch', 'carpet/table/wal', 'hump', 'grandaught', 'shove', 'elast', 'got', '.he', '.|pleas', 'unhappi', 'endless', 'individualplast', 'wallpap', 'unstuck', 'rating.|great', 'spinni', 'lovely..', 'day.l', 'reliabl', 'skull', 'includ', '|got', 'beginn', 'ride-on', 'hoover', 'expect', 'thanku', '25th', 'breath', 'swish', 'damag', 'stencils..', 'soft/felti', 'recomended|bought', 'item', 'measur', 'job.|i', 'chanc', 'skittl', 'backyard', 'ok.', 'him.|mi', 'unwari', 'omg', 'project', 'darken', 'disincent', 'comfort', 'reminisc', 'shade', '6yr', 'correctly.|great', 'tone', 'him|', 'snip', 'tent', 'gooey', 'schemat', 'ate1', 'banana-shap', 'bodi', 'ravioli', 'may', 'cycl', 'thruster', 'sin', 'concentr', 'item|daught', 'teapot', '1was', '10th', 'spacecraft', 'great-grandson', 'ride-along', 'triceratop', 'fork', 'baby-prov', 'custom', 'unmark', 'problem', 'bluff', 'photo.mi', 'pricey', 'simplic', 'cheeki', 'resort', 'boredom', 'vigor', 'upmarket', 'seven', 'recommend|mi', 'rang', 'becurs', 'bedtim', 'nephew', 'chef', 'recommended.|', 'releg', 'well-kit', 'alright', 'marker', 'nine', 'mount', 'subtract', 'wear.|look', 'fidget', 'this|fun', 'though.|great', 'c', 'fidgit', 'place', 'train', 'peg', 'harden.no', 'picker', \"extra'disco\", 'near', 'partak', 'reglu', 'day.|perfect', 'excpect', 'goo', 'befor', 'filler', 'acrid', 'another.|such', 'heart', 'unpack', 'terribl', 'it|grandson', 'furbi', 'together.defo', 'wasent', 'decor', 'zealous', 'minecraft', 'broke', 'grin', 'onto', 'playwork', 'wheeler', 'brother-in-law', 'score', 'lighter', 'astronaut', '|perfect', 'playdoh', 'threw', 'functioning|appreci', 'gor', 'bridg', 'play-doh', 'quarm', 'advers', 'spin', 'great..w', 'focus', 'buri', 'cup', 'it|6', 'air', 'phone', 'eye', 'bristl', 'piggi', 'eay', 'good|perfect', 'settl', 'jewel', 'prici', 'bloodi', 'sister-in-law', 'birthday', 'appreci', 'pre-ord', 'expectedoveral', 'botyom', 'witjout', 'waffl', 'observ', 'pressi', 'go.|bought', 'aabou', 'sweet', 'approv', 'incline.prob', 'e.g', 'miriad', 'screwdriv', 'playing.i', 'chemic', 'didnt', 'pinch', 'student', 'role', 'suberbl', 'nice', 'trickier', 'too.|much', 'hover', 'dud', 'photo|w', 'hall', 'mini', 'ladybird', 'reciev', 'snd', 'alongsid', 'wiper', 'tentacl', 'dedic', 'sole', 'suffic', 'dhl', 'luck', 'dicov', 'zone', 'produit', 'ah', '1.5year', 'recommend❤️|i', 'dragon', \"d'offrir\", 'trigger', 'glorifi', 'caus', 'mister', 'sorta', '5s', 'siren', 'squar', 'rover', 'pretend', 'chap', 'scatter', 'rad', 'lvoe', '|gift', 'poster', 'assur', 'shotgun', 'brush', 'bisc', 'bark', 'quarter', 'compon', 'fot', 'time', 'choos', 'thankyou|thank', 'sécurité', 'energis', 'cs-6', 'use-', 'bake', 'luve', 'ages|thank', 'miss', 'fixabl', 'peace|delight', 'lab', 'overjoy', 'snag', 'nightim', 'stem', 'hard', 'modula', 'carrot', 'friends|a', 'qualifi', 'commerci', 'entertaining|grandson', 'deffo', 'scrub', 'treat.22.5', 'flour', 'enclos', 'cube/box', 'elder', 'redo', 'growth', 'claim', 'cost.sturdi', 'yr', 'hight', 'month+', '1st', 'packaging/deliveri', 'le', 'caland', 'well', 'grumbl', 'slimi', 'withstand', 'quickly|5', 'swan', 'addtion', 'hotel', 'parti', 'later', 'look', 'beliv', 'pushbik', 'sloth', 'notebook', 'cups•', 'wheel/fork', 'alphabet', \"about'contain\", 'download', 'eman', 'classi', 'gees', '|bought', 'flashi', 'use', 'time|bought', 'angrier', '..for', 'cross', 'swap', 'unexpect', 'activ', 'cheap|lik', 'break', '|broke', 'mealtim', 'nurf', 'twist', 'folk', 'paintwork', 're-attach', 's**t', 'firework', '4th', '8yr', 'aforement', 'research', 'amazon', 'pick', 'teciev', 'lot', 'indulg', 'daughter..', 'be|', '.save', 'genius', 'overpack', 'nighttim', 'basi', 'liabil', 'delay', 'tricki', 'amazing.|son', 'toss', 'kinet', 'sustain', 'stethoscop', 'happy||||||', 'tendenc', '10yo', 'immediately.|christma', 'theyll', 'crud', 'though.|look', 'wit', 'women', 'rubix', 'child', 'screw', 'godson', 'skirt', 'market', 'roll', 'gruffalo', 'respond', 'certainti', 'dirt', 'tug', 'elimin', 'sometim', 'soild', 'pull', 'comprehens', 'nozzl', 'appric', 'natur', 'multipack', 'save', 'cream', 'deserv', 'languag', 'lack', 'fizzi', 'family.plus', 'deliveri', 'past', 'master', 'recogn', 'possibl', 'anatomi', 'ok|nice|good', 'boost', 'pineappl', 'irk', 'knit', '..bought', 'chocol', 'oili', '16mth', 'admit', 'session', 'legoo', 'toy..', 'dissapointed..', 'hamper', 'scari', 'fashion', '9..love', \"or'addit\", 'flim', 'reseal', 'dachshund', 'uncov', 'gut', 'transot', 'soft', 'deal', 'sell', 'disco/sensori', 'necklac', 'rank', 'econom', 'lather', 'point', 'instead', 'unavail', 'dugge', 'cock', 'gap', 'row', 'scrunch', 'desir', 'compat', 'foam', 'squishi', 'recommen', 'defin', 'terrifi', 'comb', 'old-sur', 'leak', 'yellow', 'undon', 'not-too', 'balanced/mad', 'balanc', 'it|||', 'enough', 'nightmar', 'target', 'product|', 'obnoxi', '25p', 'quality/sturdi', 'eras', 'exist', \"just'had\", 'granson', 'nostalg', 'rectangl', 'hair', 'sneak', '10m', 'specifi', 'bomb', 'ghost', 'stragg', 'one-great', '£17ish', 'regim', 'grad', 'whilst', 'finish', 'clone', 'sill', 'coordin', 'communic', 'solid', 'recommended.|4', 'gand', 'rust', '2-minut', 'recommend.|it', 'forgiven', 'bump', 'comput', 'allway', 'time..say', 'novel', 'pourra', 'ignor', 'thanku|kid', '6*and', 'maze', 'model|r', 'depict', 'reckon', 'repetit', 'open', 'beauti', 'hoop', 'kinda', 'nightlight', 'fingertip', 'wet', 'reveal', 'doll', 'offabl', 'sob', 'violet', 'it.|grand', 'seri', 'leathal', 'grade', 'prone', 'knicknack', 'hygiéniqu', 'cousin', 'descib', '.|littl', '3yr', 'regardless', 'often', 'safeti', 'accord', 'tot', 'bulk', 'hindsight', '4y.o', 'teach', '11yo', 'throw', 'lightbulb', 'glitchi', 'presssur', 'anf', 'conveni', 'dolphin', 'experiments.|pretti', 'screechi', 'post', \"little'un\", 'prefect', 'hardwork', 'crusad', 'evapor', 'sideward', 'chunki', 'mattered|mi', 'guid', 'juic', 'i.e', '5yo', 'wrestl', 'rins', 'for.|it', 'camaflag', 'mention', 'neveu', 'navig', 'terror', 'unl', 'anxiety/stress', 'money.h', 'pleasedarriv', 'child.|', 'dissolv', 'infant', 'glass', 'lengthi', 'skil', 'airlin', 'weighti', 'dissatisfi', '40m', 'antic', 'darn', 'away.h', 'minus', 'habit', 'trampolin', 'vouch', 'persev', 'claw', 'accesori', 'enthusiasm', 'greatgrand', 'wiggl', 'return-app', 'g', 'meilleur', 'ive', 'xx', 'fierc', 'color', 'treatment', 'noiseth', 'chisel', 'nonpluss', 'medic', 'starter', 'indic', '..exact', 'indistruct', 'beautifi', 'east', 'curious', \"loves'play\", 'pom', 'spoiler', 'fall', 'wish', 'faff', 'product|okish', 'splatter', 'rainstick', '|delight', 'brown', 'sides=', 'kitten', 'comparison', \"a'pen\", 'sink', 'iron', \"qu'un\", 'abstract', 'reconmend', '..weird', 'hair/salt', 'reorder', 'fist', 'rout', 'it.mi', 'deflat', 'sit', 'isnt', 'tray', 'conjur', 'approach', 'tradit', 'use\\\\\\\\mak', \"it'th\", 'fabul', 'tout', 'surgeri', 'tatti', 'misnom', 'speci', 'unopen', 'circuit', 'matt', '10min', 'child.|great', 'qualiti', 'fragil', 'beard', 'resist', 'shine', 'material.|', 'nomin', 'execut', 'plastici', 'thsi', 'portable.6', 'play..a', 'customer.|6', 'comfi', 'funniest', 'final', 'rocket', 'cutleri', 'mind', 'bicarbon', 'studi', 'hit', 'dophin', 'recommend.|kid', 'alert', 'toythi', 'persuad', '90cm', 'shapers\\\\\\\\cutt', 'studdi', 'ful', 'excus', '12year', 'kiddo', 'content.|load', '6th', 'verbal', 'comfer', 'footeri', 'nornal', 'lossen', 'use|thes', 'learn', 'does.mi', 'squish', 'tablet', 'pitch', 'spaceship', 'initi', 'lid', 'cat', 'rail', 'dearer', 'well-mad', 'reader', '60th', 'instil', 'squashi', 'idea.|excel', 'loader-', 'collis', '4-lom', 'suit', 'jayden', '.but', 'island', 'thet', 'laser', 'everi', 'eek', 'amazon.|sup', 'fianc', 'poor.|experi', 'combinatoon', 'resound', 'lifespan|r', 'irrit', 'it.|fantast', 'quickly|ok', 'stabilis', 'aspir', 'vanilla', 'surgeon', 'atleast', 'young', 'wii', '62kg', 'ben', 'gran', 'pavements/cycl', 'these.|', 'formid', 'bead', 'jug', 'treat', 'notepad', '.well', 'anoid', 'dident', 'afraid', 'orderd', '.|granddaught', 'size.|mi', 'unbutton', 'unfinish', 'play|bought', 'balai', 'quarri', 'fund', 'penguin', 'various', 'longer', 'excess', 'ya', 'v', 'bash', 'recommended.|it', 'dislodg', 'rrp', 'danc', 'pod', 'oliv', 'cover/design', 'stove', 'whe', 'disappointed|item', 'swimming/confid', 'cover', 'murki', 'sofa', 'set.|expens', 'bathtim', 'wired/bend', 'logic', 'slot', 'anticipt', 'frighten', 'art', 'rotat', 'fridg', 'up/down', 'fare', 'write', 'snug', '12cm', 'magnifi', 'prom', 'fixat', 'eeri', 'twisti', 'db', 'def', 'state', 'googl', 'recommend', 'echo', 'it.|sav', 'tuck', 'will…', 'ticket', 'neighbour', 'syrup', 'fo', 'everyone|christma', 'underneath', 'sold', 'mate', 'group', 'lotion', 'cart', 'sabr', 'axi', 'hawk', 'sing', 'sad', 'lighten', '..think', 'interract', 'fail', 'toddler|wel', 'smash', 'reinvent', 'years-class', 'line', 'combo', 'preconceiv', 'cleanmor', 'toy.|best', 'parent', 'wee', '5cm', 'appropri', 'recit', 'offend', 'portug', 'play.|granddaught', 'reccomend', 'rear', 'divid', 'mayb', 'undrestand', 'matter', 'mcqueen', 'reset', 'bags.|4', 'bye', 'punctur', 'book', 'random', 'waterproof', 'struggl', 'design|a', 'embellish', 'bendi', 'unsur', 'mad.everi', 'nervous/muscular', 'tie', 'discov', 'money|brilliant|veri', 'powderi', 'responded', 'access', 'aussi', 'athlet', 'guidelin', 'howev', 'anxieti', 'tissu', \"wooden'cook\", 'clap', 'reus', 'inlet/squeaki', 'idea', 'happy|grandson', 'short', 'deep', 'figur', 'it|wa', 'code', 'eczema', 'alot', 'sneez', '5.55pm', 'optimum', 'pure', 'yeux', 'hose', 'walking/', 'drag', 'try-div', 'grandad', 'mnth', 'want', 'joke', 'rambo', 'permanently.|mi', 'jong', 'prompt', 'winch', 'cab', 'tdm', 'abil', 'reshap', 'tune', 'hat', 'batteries.|lov', \"most'challeng\", 'season', 'length', 'squid', 'wool', 'idea-', 'seriosli', 'hassl', '300ml', 'unawar', 'flopsi', 'disappoints|hard', 'gear', 'freezer', 'round-the-world', 'written', 'se4lect', 'hatch', 'jaw', 'baught', 'burr', 'obvious', 'microphon', '17mnth', 'report', 'room..', 'his-self', 'girl', 'sip', 'entiti', 'clack', 'maintain', 'hairbrush', 'four-month', 'dwarf', 'crane', 'inflight', 'hint', 'rise', 'despit', 'wernt', 'stood', 'educ', 'dosent', 'enhal', 'geometr', 'smelt', 'recentl', 'imper', 'eight', 'hilarious.|so', 'animalsnam', 'strong|real', 'stepson', 'slush', 'i8', '60cm', 'version', 'horrend', 'preschool', 'hous', 'link', 'justic', 'doctor', 'niggl', 'lame', 'polish', 'cuppa', 'santa', 'product.|grandson', 'drip', 'implement', 'follow', 'magazin', 'fairies.|so', 'lol.it', 'bulb', 'misshapen', 'you|mi', 'coin', 'tempt', 'glad', 'polic', 'play-dough', 'give', 'astronomi', 'devis', 'class', 'recommend.|bought', 'famous', 'pug|grand', 'strategi', 'aircraft', 'product', 'cook', '80s', 'ding', 'yelp', 'dozen', 'cloud', 'earn', 'littli', 'widthchain', 'proof', 'mirror', 'one-year-old', 'washer', \"constant'yap\", 'toys.mi', 'it|veri', 'term', 'taill', 'je', 'glow', 'glove', 'edibl', 'cooker', 'canist', 'trace•', '|much', 'shark', 'scent.|veri', 'solder', 'wat', 'would', 'bounci', 'ex-1', 'novic', 'behold', 'slow-load', 'typesoveral', 'bench', '19mth', 'jealousi', 'dots/til', '48cm', 'mound', 'well|6', 'groov', 'un-birthday', 'yeast', 'log', 'elbow', 'reverse-engin', 'stash', \"invisibly'four\", 'revert', 'lorri', 'wait', 'duplic', 'equal', 'snorkel', 'gammi', 'minut', 'happiest', '9-year', 'chlorin', 'becom', 'jewelleri', 'ink.good', 'clever', 'freaki', 'multipl', 'sh', 'son.lov', 'prepar', 'discern', 'mother', 'it.|expens', 'tech', 'toddler', 're-build', 'gushi', 'harm', 'ti', 'scuttl', 'rod', 'woukd', 'batterd', 'steadili', 'improv', 'dont3', 'ovw', 'hum', 'anxious', 'hear', 'bipod', 'sheep', '20-month-old', 'regard', 'messag', 'beautiful|lik', 'wait.|sturdi', 'residu', 'attent', 'spaghetti', 'climb', 'ador', 'expos', 'masterchef', 'adhd', 'gel', 'confess', 'fiver', 'difficulti', 'pad', 'jam', 'camo', 'fish', 'pincer', 'happi', 'slit', 'assembly.|excel', 'design', 'thread', 'wire', 'wntertain', \"we'help\", 'skateboard', 'realli', 'you|bought', 'away..', 'well-pad', 'telli', 'weapon', 'stif', 'clean|mi', 'pathet', 'speeder', 'rattly/crink', 'belong', 'excited.onc', 'disk', 'trace', 'hiccup', 'tinki', 'seam', 'higher', 'regist', 'superpow', 'movi', '|mi', 'demonstr', 'dandi', 'loved.|2yo', 'paper', '46cm+', 'kg', '..if', '120x', 'segment', 'it|ok', 'wooli', 'mani', 'slip5', 'like', 'produc', 'choke', 'badger', 'advertis', 'reli', 'ratt', 'social', 'product|kid', 'minor', 'pram', 'envi', 'older', 'cake', 'loves|pres', 'esp', 'bargainshop_london', 'competitor', 'though.|item', 'mouth', '*not*', 'realiti', 'you/your', 'old', 'tear', 'disc', 'tank', 'upgrad', 'cord', 'lush', 'see', 'fun.|4', 'torpedo', 'pie', 'load', 'issu', 'none', 'class.on', 'topic', 'slow-ris', 'flame', 'jet', 'foldabl', 'usag', 'readi', 'seed', 'gestur', 'infrequently.|absolut', 'kit', 'one.|good', 'this|', 'movement', 'scruffi', 'mold', \"it'a\", 'it|thi', 'great-look', 'christma', 'no-mess', 'two-sid', 'garag', '|brought', 'teletubbi', 'third', 'tacki', 'celeri', 'presto', 'daylight', 'insect', 'adult', 'prize', 'mischiev', 'behalf', 'peddl', 'bask', 'minutes|||||', 'goodwil', 'compromis', 'customis', 'confirm', 'purpl', 'loft', 'peopl', 'filla|no', 'sensor', 'screwtop', 'secur', 'plastic|8', 'nephew.|excel', 'severa', 'droop', 'hidden', \"really'do\", 'delivery..al', 're-sold', 'clearer', 'arti', 'privaci', \"the'tanoy\", 'money|ord', 'mistak', 'cud', 'smooth', 'unfor', 'basepl', 'naff', 'minimum', 'electrictrian', 'troubl', 'knight', 'mend', 'jolt', 'inappropri', 'perspect', 'delivery|veri', 'puzzle-rattl', '|qualiti', 'poor', 'san', 'demo', 'torch', 'lolstart', 'resurrect', 'cheap|lov', 'argument', 'pen', 'black', 'fine', 'downstair', 'loadsa', 'vengaboy', 'downfal', 'news', 'afternoon', 'woeful', 'dawn', 'boil', 'physic', 'jolli', 'shelter', 'fine|bought', 'bien', 'it.|a', 'avoid', 'bed', 'holes/slit', 'protast', 'dire', 'favour', 'environment', 'expand', 'absout', 'chorus', 'isotop', 'absolout', 'collect', 'fur', 'superior', 'well-play', 'bad', 'expected|cam', 'charact', 'introduc', 'impress', 'extens', 'mobil', 'wig', 'fluffi', 'spoil', 'fasten', 'sympathiqu', 'sucker', 'adventur', 'disast', 'nut', \"some'tin\", 'larger', 'librari', 'product|good', 'jigsaw', 'muffl', 'compli', 'makin', 'fun.|th', 'lifelik', 'beyond', 'cosmet', 'planetari', 'nail', 'it.|birthday', 'qiailiti', 'shoe', 'blower', 'craft-inclin', 'again.|thi', 'hrs', 'undamaged.|great', 'e-mail', 'bargain', 'cabinet', 'play.|bought', '|grandaught', 'transform', 'casual', 'giraff', 'cow', 'boot', 'slim', 'thou', 'abund', 'view', 'reguar', 'loat', 'letter', 'transper', \"a'lip\", '|daughter', 'it.😀', 'reed', 'daughter|great', 'allot', 'that.|keep', 'internet', 'mallet', 'colour', 'potti', 'good.|guess', 'unsolicit', 'bmw', 'warbl', 'ingredi', 'mouthpiec', 'it|xma', 'hoopla', 'and/or', 'outstand', 'plus', 'cm', 'temperament', 'briefli', 'pram/walk', 'loves|bought', 'fulfil', 'jack', 'cap', 'bedsid', 'atget', 'soapi', 'pace', 'ordinarili', '|just', 'opposit', 'junction', 'carseat', 'advert', '9yo', 'housework', 'connect', 'handles/strap', '23rd', 'maximum', '10sec', 'toy.|kid', 'sheen', 'storm', 'recycl', 'five', 'hooray', 'gemston', 'characters|good', 'gentlest', 'beardi', 'immens', 'set-up', 'bug', 'soccer', 'along', 'though.👉', 'receipt', 'glori', 'insid', 'offic', 'queri', 'butter', 'flipper', 'mosaic', 'gift|great', 'mess', 'disagre', 'wide', 'zipper', '..look', 'fruit', 'boat', 'old.lov', 'unless', 'widget', 'found', 'ice', 'argu', 'dress', 'much.wil', 'forthcom', 'progress', 'diari', 'unus', 'embarrass', 'jok', 'littl', 'substitut', 'junior', 'lie-down', 'templat', 'passport', 'aggress', 'back', 'pepol', 'facepaint', 'sketch', 'customer.|great', 'try.|just', 'morning..', 'afew', 'crib/cot', 'smaller', 'doorbel', 'durabl', 'silent', 'irrelev', 'anywayz', \"a'beani\", 'stack', 'bounc', 'something.|', 'apparit', 'caution', 'orang', 'thanks|great', 'present', 'disappointment…', 'overlay', 'squash', 'stuffer', 'enchant', 'desrib', 'prior', 'needl', '.shame', 'catchi', '3rd', 'background', 'sandpit', 'motiv', 'construct', 'eh', 'husband', 'dunno', 'home..', 'jab', 'cam', 'qui', 'stretchi', 'x|good', 'now.|such', 'groan', 'intricaci', 'handel', 'fresh', 'stacker', 'depth', 'grandkid', 'necessari', 'impressive-look', 'ghostbust', 'bulid', 'sought', 'reagent', 'invalu', 'hardi', 'recal', 'indistinguish', 'impecc', 'disadvantag', 'multi', 'filter', 'servic', 'tiniest', 'ballon', 'noisi', 'went', 'newslett', 'cleaner', 'lego|veri', 'tummi', 'going|excel', 'desk', 'repéré', 'knife', \"the'cooki\", 'hair|', 'fun|', 're-appear', 'street', 'sat', 'dough', 'virtual', 'wprk', 'buy..', 'honest', 'favours|colour', 'tp', 'frame', 'armi', 'asham', '80kg', 'you.|veri', 'compact', 'transport', 'caught', 'bay', 'swift', 'anyth', 'b', 'grip', 'upcom', 'reform', 'babies/toddl', 'craze', 'munchkin', 'peppi', 'must', 'unbeat', 'coconut', 'enabl', 'deaf', 'hero', 'snatch', 'upper', '|great|kid', 'plushi', 'vision', 'bit/speak', 'antenna', 'nontheless', 'park', 'texture-', 'cooper', 'respons', 'smyil', 'dryer', 'phospor', 'uncomfortable|6', 'gon', 'soap', 'stay', 'date', 'pump', 'clamp', 'inperfect', 'jump', 'shrink', 'satisfi', 'pup', 'pricewa', '..we', 'cute-', 'prefer', 'affix', 'boxes|brought', 'set|nic', 'haha', 'dissappoint', 'mark', 'lest', 'cricket', 'bolt', 'journey', 're-stock', \"'d\", 'unreli', 'yet|wait', 'bits..', 'checkout', 'rated.|great', 'flower', 'hart', 'realki', 'heheh', 'it|grandaught', 'delic', 'soon', 'stikcer', 'timer', 'stroller', 'companion', 'scuttlebug', 'unrecogniz', 'insentivis', \"state'stand\", 'reward', 'husebund', 'varnish', 'wasdelight', '20m', 'footrest', 'usethi', 'attact', 'ordeal', 'logo.|lego', 'miner', 'grandson.|when', '4yr', 'hex-bug', 'bigger', 'teether', 'prove', 'shoot', 'pliabl', 'prioriti', 'airport', 'column', 'lumpi', 'mood', 'modicum', 'latest', 'sibl', 'sew', 'nonsens', 'eating/read', 'refin', 'pre-built', 'photograph', 'desper', 'bunni', 'gem', 'museum', 'vomit', 'colum', 'throught', 'inhous', 'squeak', '2y', 'shop|thi', 'hem', 'donwash', 'plastic..', 'intimid', 'scrounging/adapt', 'unsuit', 'ha', 'stump', 'rubber-band', '|smaller', 'be-', '5th', 'avid', 'clothes.|no', 'garish', 'unremark', 'sooo', 'unavoid', '|good', 'tighter', 'steam', 'surviv', 'fellow', 'whir', 'beautifuli', 'riot', 'luminesc', 'tom', 'disturb', 'overpr', 'already.|mi', 'niece.|arriv', 'fed', 'adorn', 'stuf', 'recommended.|mad', 'elf', 'purchase.|kid', 'sharpen', 'thesmel', 'padlock', 'accompani', 'yearsold', 'teeth/suck', 'funitur', 'months|4', '1day', 'rest', 'realiz', '|purchas', 'scout', 'best|cut', 'yummi', 'set', 'correct.4', 'keech', 'total', 'this.|it', 'articul', '.recipi', 'courteous', 'fade', 'distort', 'visitor', 'pushalong', '9yr', 'price|great', 'wood', 'item|had', 'sizzl', 'next-', 'boo', 'averag', 'regret', 'globe', 'venom', 'micro', 'imag', 'band', 'packup', 'land', 'toy.|veri', 'distract', 'crumb', 'top-heavi', '20month', 'unrealist', 'buttons/sound', 'nephew.|good', 'learnt', 'l', 'rigid', 'clean|good', 'ordinari', 'plat', 'game.|brought', 'it|w', 'time.our', 'shimmeri', 'thanks.mick', 'prezzi', 'purchase.|', 'recognit', 'wth', 'us', 'duet', 'squidgi', 'inaccur', 'understand', 'faulti', 'door', 'shark/', 'melt', 'anticip', 'loosen', \"the'glass\", 'generous', 'price|good', 'far-', 'pepper', 'architectur', 'toujour', 'yesteryear|', 'clasp', 'fallen', 'watch', 'brutal', 'omit', 'apologis', 'badg', 'sort', 'discard', 'pullback', '.high', 'bounced/hit', 'stud', 'peac', 'nose', '2.1/2year', 'child/inf', 'tore', 'non', 'shower', 'dye', '52cm', 'neither', 'harri', 'seller', 'castl', 'bored|slim', 'password', 'race', 'lower', 'globber', 'one|kid', 'giant', 'box/cas', 'gun', 'whim', 'silver', 'upsid', '-make', 'van', 'smd', 'autism', 'tongu', 'perform', 'ad', \"a'snip\", 'awhil', 'flown', 'cartoon', 'soundtrack', 'appoint', 'beef', 'sway', '7-inch', 'sticker', 'price', 'rub', 'beat', 'everyth', 'straight', 'tact', 'met', 'min', 'gun/mag', 'unicorn', 'hot', 'percentag', 'owl', 'piqu', 'wil', 'bio', 'ankl', 'repitit', 'requir', '2hrs', '8yo', 'upto24v', 'pre-school', 'chock', 'giggl', 'len', 'handlebar', 'used.|lov', 'do/enjoy', 'standbi', 'poke', 'thin', 'sinc', 'oblig', 'doug', 'lock', 'too.thi', 'suppli', '26th', 'behaviour', 'estim', 'ummm', 'inkl', 'forget', 'show', 'worthi', 'whenev', 'devast', 'muddi', 'keep', 'hectic', '-with', 'punch', 'present.|||', 'persever', '2in', 'cristma', 'area/garag', 'steep', 'gender', 'childish', '8th', 'expected|good', 'daddi', 'recipi', 'latch', 'retract', 'nov', 'twirlywoo', 'experi', 'classroom', \"while'babi\", 'leg', 'funnel', 'stumpi', 'inan', 'togther', 'new-born', 'anymon', 'straight-forward', 'rack', 'wax', 'itarriv', 'upload', 'muck', 'keyr', 'gun.|bought', 'carriag', 'playhous', 'couldnt', 'serious', '18m', 'hammer', 'winner', 'drove', 'adapt', 'fizz', 'reflex', \"the'joystick\", 'crime', 'laugh|it', 'beaten', 'via', 'poepl', 'resent', '|super', 'sugar', 'retro', 'plan', 'safer', 'chicken', 'bend/pos', 'chlristma', 'tart', 'salt', 'reasons:1', 'replay', 'headach', 'untidi', 'mop', 'spread', 'revers', 'cash', 'angl', 'dodgi', 'fisher', 'uve', 'medium', 'shipment', 'chuck', 'he/sh', 'contain', 'balloon', \"the'real\", 'seat/', 'gloss', 'bonus', 'tryign', 'carton', 'pressur', 'gocart', 'song..', 'on..', 'whi', '.pull', 're-load', 'tenner', 'indel', 'funki', 'guarante', 'emul', 'listen', 'laisser', 'shorten', 'drop', '57cm', 'prive', 'front', 'gag', 'ridicul', '.good', 'fine|a', 'deals|also', 'sitter', 'lucki', 'hatchanim', 'n', 'backward', '30th', 'read', 'windi', 'feedback', 'again|', 'spirit', 'metamorph', 'tiara', 'morning-', 'accid', 'body.th', 'collection|got', 'support', 'savvi', 'missl', 'meter', 'bog-standard', 'jewelri', 'envious', 'clothes-ish', 'reduc', 'power', 'farm', 'tomorrow', 'product-', 'differ', 'pellet', 'play.anyth', 'second', 'eve', 'emoji', 'lob', 'tabl', 'crate', 'product-fast', '24th', 'ninja', 'thr', '8cm', 'you|perfect', 'more.look', '6y', 'unclip', 'childhood', 'wooden', 'product|mi', 'flannel', 'utter', 'sandwich', 'perfect', 'arent', 'stern', 'well|thi', 'test', 'retread', 'rage', 'squeal', 'love', 'held', 'supervis', 'dare-devil', 'fast|a', 'marshmallow', 'cobbl', 'attract', 'cheek', 'smoke', 'scratchabl', 'barrag', 'lectur', 'plastic-i', 'racer', 'pack', '.|great', 'confit', 'pushchair', 'figures-', 'crack', 'happy|a', 'it.|i', 'seal', 'transfer', 'dive', 'make', 'grandchildren|', 'imperi', 'overnight', '6year', 'world', 'expected|so', 'came', 'appal', 'sunbath', 'must-hav', 'gift.|mi', 'lightweight', 'occas', 'gaug', 'spire', \"'m\", 'ace', 'her|cut', 'sound-bit', 'this|grandaught', 'garden|grandaught', 'honest|veri', 'value|it', 'keepo', 'entir', '27th', 'kid..', 'now|id', 'doin', 'drift', 'ladi', 'spud', 'pictures|i', 'name', 'blogger', 'nib', 'slip', 'rural', 'case', 'noise.wast', 'sturdi', 'ice-cream', 'pleased|4', 'model', 'jar', 'triangl', 'memeori', 'amused|', 'mm', 'medicin', 'last|look', 'wander', 'foul', 'adam', 'recommend.|great', 'cum', '|rubbish', 'corn', 'shutter', 'lit', 'gliter', 'fear', 'water.|', 'blew', 'two-year-old', 'varieti', 'messi', 'weigh', 'account', 'terrain', 'fathom', 'paperwork|got', 'house..', 'incas', 'children|it', 'densiti', 'anger', 'bandag', 'lol.|okay', 'satisfactori', 'petit', '/clean', 'hand-ey', 'hex', 'titl', 'jungl', 'money|not', 'upstair', 'appar', 'pet', 'rubbishsham', '20s', 'step', 'kettler', 'aid', 'headquart', 'combin', 'sprinkl', 'peach', 'tumbl', 'up-', 'development.|veri', '|arriv', 'everytim', 'tinkl', 'edit', 'perpetu', 'hyped-up', '.colour', 'perches|good', 'irreplac', 'ravensburg', 'drink', 'nicknam', 'insert', 'flippiti', 'bk', 'voucher', 'critis', 'leapfrog', 'pip', 'sight', 'quickly|bought', 'cocktail', 'value|th', 'variat', 'mama', 'redesign', '..felt', 'blur', 'array', 'happen', 'spend', 'brum', 'water..', 'altho', 'jt', 'pool..', '|kid', 'shuffl', 'dab', 'countri', 'sorri', 'wrap', 'forewarn', 'candl', 'déjà', 'kind', 'alik', \"l'ai\", 'again|12', 'trainer', 'grandmoth', 'away', 'fascin', 'rhyme', 'multicolour', 'nearest', '1990s', 'honesti', 'friction', 'rattl', 'awar', 'come', 'steal', 'bouncer', 'scuf', 'toward', 'outcom', 'forum', 'creased/', 'sets.|mi', 'delightful.|do', 'constant', 'sylvanian', 'aunt', 'duct', 'encourag', 'item|son', 'qualityhard', 'hull', 'sterdi', 'shred', 'conclud', 'nic', 'sword', 'vital', 'vertic', 'mixed-up', 'enorm', 'simplest', 'slide', 'outer', 'alow', 'sourc', 'wore', 'individu', 'devic', '3year', 'shift', 'feat', 'bought', 'charg', '70cm', 'wait..', 'forev', \"when'hid\", 'ridg', 'stomp', 'from.|good', 'compar', 'explanatori', 'unimpress', 'pew', 'newly-turn', 'whether', 'vaccum', 'colour|orderd', 'blo', 'boing', 'boon', 'lookalik', 'numnom', 'service|', 'octopus', 'cling', 'peek', 'bird', 'help', 'uniqu', 'revel', '..good', 'rather', 'spectacular', 'parcel', 'flat/tight', 'til', 'faux', '18month', 'grandsonlov', 'spray', 'robe', 'lift', 'visibl', 'think', '.perfect', 'time-', 'carrier', 'biggest', 'emit', 'effici', 'worm', 'trim', 'shoulder', 'trike', 'basket/net', 'discript', 'his/hertoy', 'somewher', 'slipperi', 'cut', 'wall', '6in', 'straightforward', 'recommend.|lego', 'hands|brought', \"year's..\", 'super', '1star', 'headband', 'end', 'confus', 'dish', 'fans-', 'wife', 'tool', 'withstood', 'soak', 'tutori', 'mouldabl', 'all-in-al', 'slouchi', 'it|not', 'co-ordin', 'go', 'eyebal', 'adaptor', 'pooch', 'bolt|christma', 'toy|son', 'realis', 'attach', 'pleasant', 'grandkids|good', 'ofc', '|fantast', 'locat', 'potter', 'unwant', 'fun|a', 'now-', '-5star-would', 'gummi', 'red', 'wed', 'captain', 'toy-', 'toast', 'stich', 'week.24', 'reder', 'dropper', 'you.|happi', 'collector', 'portion', 'challeng', 'mai', 'fess', 'expression', 'brighter', 'user', 'undamag', 'slaveri', 'peppa', 'reject', 'becam', 'overspil', 'ninjago', 'sacr', 'capabl', 'squeaker', 'vivid', 'gimmicki', 'another.|7', 'spout', 'explod', '3/4/mm', 'havn', 'did.=============', 'blade', 'beam', 'naughti', 'secret', 'nearbi', 'hesist', 'money|bought', 'perfectly-', 'beast', 'oval', 'you|lov', 'incid', 'silk', 'bean', 'uneven', 'diy', 'stop', 'stupid', 'lettuc', 'unit', 'you.pay', 'defint', 'relent', 'negat', 'ach', 'disintegr', 'creepi', 'dens', 'run', 'numer', 'index', '|lego', 'pro', 'impact', 'onit', 'troubleshoot', 'said', 'de', 'roof/windshield', 'gripe', 'recoveri', 'them.|good', 'hunter', 'breakable|mi', 'surprised.mi', '-a', 'cool/cut', 'trivia', 'office|veri', 'calendar-', 'fora', 'instruct', 'axl', 'shield', 'loath', 'niece.veri', 'no-on', 'duress', 'finger', 'bounti', 'bubbl', 'days.|soft', 'about.|it', 'toys|great', 'practic', 'aquadoodl', 'son', 'involv', 'mat.wouldnt', 'greas', 'doh|they', 'daiso', 'recommend.|', 'stare', 'faith', 'fetch', 'mailshot', 'amaz', 'bend', 'chin', 'railway', 'stir', 'zoom', 'on/off', 'theme', 'knowledg', 'frustrat', 'loud', 'day.at', 'cur', 'provid', 'bowl', 'even', 'detail', 'development', 'bedroom', 'cost', 'goggl', 'attend', 'conflict', 'drawback', 'repair', 'lead', 'skimpi', 'believ', 'use/put', 'unpleas', 'x2', 'unnecessari', 'tell', 'there.|brilli', 'multi-colour', 'wari', 'goal', 'prais', 'ghost-bust', 'butterfli', 'complain', 'carer', 'card..', 'snuck', 'rule', 'haircut', 'delight', 'level', '6p', 'two-wheel', 'anywher', 'frozen', 'vey', 'trad', 'furnitur', 'good|brought', 'panic', '.|grand', 'english', 'stand', 'recommend.|thi', 'airplan', 'licens', '30cm', 'freak', 'pass', '|must', 'famili', 'them|grand', 'weel', 'doughnut', 'separ', 'almost', 'wowowowowowowo', 'lui', 'with.|purchas', 'jealous', 'accessori', 'availbl', '|take', 'send', 'critter', 'too.it', 'satisfact', '|slime', 'rampag', 'waffli', 'scribbl', 'conquer', 'incent', 'wobbl', 'specif', 'major', 'product|lov', 'warp2', 'felt', 'mute', 'grown', 'reserv', 'instread', 'quilti', 'static', 'ahead', 'basisit', 'night.|so', 'quality.|arriv', 'wonder', 'speechless', 'contend', 'non-tox', 'well.|', 'skinni', 'awe', 'next', 'penni', 'invinc', 'scale', 'quality|great', 'ofter', 'disgust', 'upright', 'sure', 'girl|brilli', 'speaker', 'hope', 'common', 'hook', 'though', 'inevit', 'wors', 'it.veri', 'necessary.|', 'expected.|mi', 'rake', 'it|brok', 'sake', 'seat', 'floam', 'websit', 'glide', 'unsaf', 'orangey', 'doe', 'un', 'plain', 'anymor', 'fight', 'ruck', 'reusabl', 'unidentifi', 'doubl', 'search', 'manfad', 'mess.|good', 'strike', \"the'offici\", 'ornament', 'ones.|', 'whrn', 'fray', 'realist', 'darts/bullet', 'pop', '.a', 'dentist', 'chagrin', 'bear', 'stabil', 'dare', 'dam', 'racket', 'na', 'corner', 'sewn', 'contin', 'grasp', 'glee', 'detract', 'legal', 'bendabl', 'villain', 'cowboy', 'waysid', '|it', 'haunt', 'mug', 'geologist', 'presenc', 'drain', '12yo', 'himyself', 'bin😢😢', 'candi', 'kiddi', 'shape', 'alien', 'right.|lov', 'owner', 'brand', 'cotton', 'detatch', 'floor', 'approx', 'form', 'explan', \"same'mould\", 'retrospect', 'toddlerit', 'quality|r', 'lost', 'pckage', 'day..', 'road', \"great'grown\", 'addit', 'ditch', 'among', '6month', 'quick.|not', 'nephew/niec', 'unstitch', 'cone', 'verifi', 'without', 'scoop', 'alway', 'loose/easi', 'pointer', 'series.|a', 'il', 'compound', 'beleav', 'weren`t', 'popular', 'intellectu', 'unnatur', 'garbag', 'draw', 'upset', 'adjust', 'brought', 'scenc', 'tackl', 'off/pick', 'option', 'cellophan', 'crush', 'deceiv', 'finicki', 'clock', 'cloudi', 'hol', 'taught', 'telephon', 'forfeit', 'open.mi', 'auto', 'ninger', 'smallest', 'crispi', 'shimmer', 'translat', 'acquir', 'touch|', 'anybodi', 'magnetis', 'calendar', 'yea', 'woket', '😂|good', 'etc', 'pile', 'bullet', 'undress', 'explor', 'pieces|bought', 'fin', 'roug', 'defo', '4year', 'father', 'hand-shap', 'spong', 'uni', 'socket', 'mega', 'font', 'sheet', 'shooter', 'kettl', 'wanted.|great', 'close', 'gingham', 'it|look', 'greasi', 'mums/dad', 'wate', 'fewer', 'leukaemia', 'unlucki', 'handl', 'tattoo', '18cm', 'foreign', 'begin.overal', 'carbohydr', 'devilish', 'snake', 'paw', 'grandchildren', 'it|what', 'town', 'unstabl', 'tike', 'dose', 'presnet', '15-month-old', 'circl', 'chappi', 'poorer', '5star', 'antler', 'one', 'shp', \"this'fault\", 'button', 'cello', 'fake', 'chines', 'brief', 'height', 'retriev', 'cours', '1-year-old', 'seasid', 'play…', 'paid', 'timeless', 'recreat', 'annoying|veri', 'energet', \"did't\", 're-purchas', 'it.|thi', 'packet..emerg', 'overact', 'reindeer', 'prevent', '2yo', 'own|', 'made', 'inner', 'refer', 'technic', 'collaps', 'outing', 'hurt', 'ling', 'supplier', 'blaster', 'degrad', \"to'colour\", 'fifth', 'mischief', 'spontan', 'stalk', 'witer', 'bracelet', 'remain', 'gone', 'number', 'imit', 'conjoin', 'ergonom', 'electr', 'tricks/tip', 'gelli', 'isn`t', 'essi', 'havnt', 'classmat', 'syndrom', 'twirl', 'hi', 'versatil', 'supplementari', 'walk', 'given', 'radiat', 'urg', 'life', 'better.|', 'necess', 'damaged||', 'home', 'chime', 'cylind', 'lopsid', 'mad', 'kids|thi', 'anything.|it', 'chang', 'ion', 'arrived.|b', 'crawl', 'box-veri', 'quality.|grandson', 'indigo', 'modulus', 'cushion', 'gorilla', 'nice|', 'doesnt', 'mixer', 'worked.|good', 'unbeliev', 'packaging/present', 'particularl', 'swag', 'spite', 'tub', 'repet', 'lever', 'meal', 'lump', 'resoak', 'sale', 'recomd|great', 'overview', 'hooter', 'strawberri', 'pink', 'axel', 'building-typ', 'admir', 'details..easi', 'anyway', 'gunk', 'keen', 'wo', 'uk', 'flash', 'gentl', 'thrilled.|h', 'birthday.|veri', 'plate', 'mix', \"whilst'medium\", 'stick', 'recommend|not', 'mechan', 'torment', 'havd', 'flock', 'disapear', 'outgrow', 'supris', 'price.|mi', 'cram', 'bored-', 'bald', 'rendit', 'rework', 'parts..', 'leader', 'playroom', 'ur', '7th', 'coffe', '9th', 'ground', 'abit', '1hrs', 'elsewhere.fit', 'immedi', '14cm', 'slimey', 'statu', 'pant', 'complement', 'trick', 'hype', 'fibr', 'soooo', \"all'hard\", 'pepperoni', 'wast', 'undertaken', 'momentarili', 'friends.|100', 'purchase.|kept', 'brash', 'artist', 'ne', 'exquisit', 'tash', '29cm', 'relief..', 'veryquick', 'warrant', 'whiten', 'staff', 'small', 'fire', 'gate', 'snoopi', 'value|', 'fig', 'scientist', 'asid', 'pester', 'cheep', 'leav', 'emperor', 'bold', 'purchs', 'etc.it', 'inquisit', 'piec', 'pikachu', 'item|our', 'restrict', 'music', 'thus', 'someon', 'fortun', 'sever', 'cheaper', 'solar', 'worn', 'million', 'you|veri', 'hours.|', 'add', 'boredom-', 'ridden', \"this'babi\", 'everywher', 'instructions.|brought', 'humor', 'superglu', 'ourselv', 'favorit', 'it.|granddaught', 'que', 'fiddl', 'drainag', 'indoor', 'while.|not', 'central', 'becaus', 'fav', 'ao', 'grumpi', 'throat', 'benefit', '2nd', \"them'in\", 'dinosaur-obsess', 'left', 'peacock', '6m', 'pud', 'doubt', 'flop', 'player', 'octopi', 'firefight', 'halo', 'fluid', 'reg', 'massiv', 'old-', 'problemsarriv', 'plaqu', 'toy|mi', 'pack.|11', 'fluent', 'helpful', 'pronunci', 'gift|a', 'versus', 'recommn', 'pinpoint', 'driver', 'it|brilli', 'miracl', 'regularly|nephew', 'yet.|disappoint', 'slight', 'virgin', 'gunna', 'feel', '13yr', 'bus', 'trodden', 'daughyer', 'builder', 'fuel', \"the'marbl\", 'outward', 'system', 'dvd', 'litl', 'money.|lov', 'tend', 'leftsid', 'eldest', 'grow', 'winni', 'picnic', 'fridat', 'flight', 'homework', 'hand', 'sail', 'easier', 'joint', 'addict', 'reassembl', 'catboy', 'stagnant', 'teeni', 'poss', 'field', 'them.|thes', 'attitud', 'feminin', 'spirograph', 'hop', 'sckrachi', 'delivery.|granddaught', 'fiance', 'monthnold', 'record', 'caravan', 'outwit', 'entertain', 'unabl', 'abl', 'manag', 'springi', 'math', '/boister', 'product.|bought', 'box|good|satisfi', 'far', 'bread', 'minim', 'porcelain', 'one.=============', 'find', 'oper', 'advent', 'themselv', 'pieces..', 'touch', 'wasnt', 'dilut', 'enter', 'five-about-to-be-six', 'exstat', 'hang', 'hair/man', 'kidizoom', 'counter', 'rectifi', 'toler', 'gaffer', 'decision.thi', 'hold', 'rebuild', 'fast', 'crystallis', 'modus', 'steadi', 'renam', 'it.|5', 'worst', 'pocket', 'eyepiec', 'moment', 'extra', 'pot', 'car', 'piti', 'ultim', 'bee', 'verdict', 'tuesday', 'zebra', 'dump', 'holder', 'velcro', 'entireti', 'eager', 'sunlight', 'r2d2', \"cupboard'in\", 'photosynthesi', 'too.|mi', 'vest', 'see-through', '11month', 'vibe', 'price|', '.|this', 'web', 'obsess', 'crash', 'tester', 'generat', 'afer', 'tremend', 'tripl', 'stammset', 'disco', 'pre', 'snow', 'fast|veri', 'align', 'creativ', 'outfit', 'click', 'snore', 'hive', 'rustl', 'knock', 'easli', 'bill', 'fans|', 'etc.|', 'huski', 'happili', 'two-thre', 'wanted|play-doh', 'function', 'thrill', \"in'spaceship\", '|not', 'melodi', 'pilot', 'trailer', 'anim', 'stylish', \"ball'in\", 'great|it', 'somehow', 'congratul', 'piggl', 'oh', 'pal', 'handler', 'wild', 're-dril', 'marksman', 'exact', '1m', 'bellies.|', 'sone', 'feet', 'consum', 'etc|lov', 'lov', 'milk', 'unwrap', 'ammount', 'crimp', 'lacklust', 'superb', 'soient', 'tat', 'assum', 'alarm', 'concert', 'henc', 'swallow', 'frightend', 'toy..stil', 'expens', 'brill', 'ambul', 'outsmart', 'precis', 'non-pluss', 'sketcher', 'succ', 'twir', 'colleagu', 'penny.|lov', 'hell', '3-year', 'disorganis', 'dodecahedron', 'itchi', 'assembled-', 'smart', 'hunt', 'dint', 'it.|just', 'buck', 'persist', 'suitabl', 'sticki', 'well.had', 'led', 'weekend', 'ran', 'expir', 'local', 'tge', 'tick', 'clear', 'sling', 'raawesom', 'pas', 'woodwork', \"our'bor\", 'tripod', 'strateg', 'palm', 'fir', 'squabbl', '*mini*', 'voic', 'granddaughter|bought', 'fuss', 'pipett', 'airhorn', 'block', 'mum', 'bet', 'contest', 'tin', 'relief', 'powder', 'strang', 'idiot', 'beachbal', 'microwav', 'person', 'prime', 'mom', 'exit', 'taken', 'cot', 'ol', 'coupl', 'blurri', 'tree', 'maneuvr', \"of'cak\", 'mag', 'spring', 'unknown', 'store', 'whoever', 'quick', 'fun.|it', 'ingenu', 'tidi', \"was'th\", 'values|veri', 'jams/get', 'st', 'wouldnt', 'somediwn', 'reattach', 'overs', 'ear', 'snappy-bang', 'peep', 'tab', 'probabl', 'bollock', 'elit', 'chase', 'face', 'wonderful', 'doodl', 'indestruct', 'not.75', 'disord', 'hovercraft', 'words..so', 'item|bought', 'aim', 'simpli', 'dashboard', 'kepi', 'extrem', '|the', 'gonna', 'daft', 'pasta', '3x3', \"a'gir\", 'is|', 'high', 'journal', 'on-lin', 'cape', 'tax', 'them|fantast', 'gifi', 'deliber', 'gift.|had', 'unstick', 'brushings.|veri', 'games/answ', 'con', \"3'year\", 'pychicadel', 'price.|just', 'pose-', 'buy.|', 'grown-up', 'club', 'wing-flap', '|did', 'gokart', 'it|good', 'hors', 'war', 'unfit', 'spell', 'breakdown', 'mine', 'ce', 'mould', \"sh'e\", 'heavi', 'tube', 'onsi', 'hardest', 'stress', 'text', 'exagger', 'landfil', 'tactil', 'brilliant', '90s', 'warm', 'period', 'portabl', 'goddaught', 'remind', 'les', 'grandchil', 'sentenc', 'devrait', 'stripe', 'stopper', 'unusu', 'trade', 'way', 'runic', 'grenad', 'rubbish', 'chat', 'georg', 'mimikyu', 'guinea', 'ecto', 'suspect', 'descript', '15month', 'veer', 'picki', 'ssi', 'factor', 'crap', 'zip', 'pipe', 'minuscule.|had', 'scratch', 'dear..', 'vintag', 'leapstart', '8y', 'intric', 'reaction', 'crossbow', 'kept', 'catch', 'paint', '|christma', 'nurseri', 'adament', 'price-', 'good.|fab', 'smallish', 'girl|got', 'reallli', 'accept', 'cheap', 'frequent', 'telescop', '1yr', 'consist', 'fans.|fast', 'olds|bought', 'described|fantast', 'live', 'running-maz', 'fang', 'fiendish', 'posit', 'granddaught', '7or', 'with.|bought', 'trolley', 'song', 'disastr', 'polit', 'im', 'incomplet', 'heck', '3/4min', 'shabbi', 'vagu', 'popper', 'order', 'again|brilli', 'decri', 'joy', 'prace', 'wrist', 'inch.veri', 'kangaroo', 'fireplac', '.so', 'careful', 'boggl', 'bicycl', 'id', 'well-respect', 'incoper', 'well|', 'could', 'oven', 'heavili', 'appli', 'this|mi', 'pound', 'toaster', 'godsend', 'it.|real', '❤️|great', 'engag', 'loom', \"young'un\", 'bathroom', 'horribl', 'affect', 'it..', 'menu', '2.5yo', 'card', 'raptur', 'ball', 'roof', 'tho', '3.30am', 'screw/bolt', 'rubbish.|it', \"leaving'hardest\", 'tri', 'couleur', 'well.|brought', 'door.7', 'bunch', 'cockpit', 'press', 'just-turned-1', 'shrimp', 'crinkl', 'confisc', 'vote', 'conceiv', 'panto', 'quantiti', 'ever', 'equip', 'r', 'actual', 'alter', 'tiny.|nic', 'enhanc', 'empti', 'sound/textur', 'decis', 'bob', 'enjoyment|3yr', 'proven', '12so', 'drill', 'chees', 'ses', 'stickier', 'purpos', 'arcad', 'pictur', 'crayon', '5-year', 'part', 'jouer', 'vocabulari', 'aint', 'unclear', 'reasons.1', 'newer', '50s', 'everyday', 'playmobil', 'monkey', 'effect', 'myself.|bought', 'thingy-thingi', 'screen', 'me|', 'louder', 'wow', 'thought', 'pronounc', 'hand/ey', 'mope', 'manual', 'fun.|excel', 'swirl', 'uncomfort', 'cancel', 'purchas', 'get', 'grandught', 'thow', 'service.|happi', 'activi', 'success', 'despar', 'warmer', 'stink', '70th', 'barbi', 'financi', 'windowsil', 'pleased|bought', 'prole', 'tower', 'deposit', 'dure', 'spiral-bound', 'toxic', 'known', 'perman', 'product-hav', 'monster', 'fit', 'bottl', 'almighti', 'throw-away', 'swamp', 'toy|lov', 'différent', 'shame', 'illustr', 'photo-shop', 'toygorg', 'farm.|excel', 'clicker', 'week-', 'goodi', 'stain', 're-insert', 'horn', 'onli', 'still', 'catchphras', 'altern', 'limb', 'vinegar', 'cope', 'alright..', 'taxi', 'turn', '|veri', 'cosplay', 'either.|r', 'well.|fantast', 'sign/stick', 'kinda-egg', 'ar', 'check', 'wether', 'pleasur', 'fans|swift', 'compart', 'had..it', 'relax', 'fun..', 'it|a', 'flexibl', 'unmanag', 'foray', 'happier', 'clay', 'march', 'origin', 'jumbo', 'present|mi', 'pregnant', 'lone', '.endless', 'adrift', 'runni', 'question', 'sooooo', 'smile', 'move', '|doesnt', 'cruiser', 'toys.|veri', 'angri', 'area', 'roller', 'children/toddl', 'vet', 'structur', 'inc', 'swear', 'de-ionis', 'pizza', 'facial', 'starri', 'closer', 'depend', 'time|happi', 'clumsy.|it', '..|not', 'vinyl', 'spark', 'seem', \"70's/ear\", '3th', 'slice', 'clang', 'thibg', 'cold', 'safe', '|order', 'tacky.th', 'delieveri', 'lent', 'trendi', 'recent', 'duplo', 'too.|', 'secondari', 'engin', 'virtu', 'ir', 'less', 'product..', 'belov', 'drawstr', 'previous', 'purchase|ok', 'usual', 'this|grand', 'razor', 'bat', 'triop', 'stool', 'dec', 'stationeri', 'recondit', 'kiddizoom', 'stuff', 'soggi', 'invent', 'whiteboard', 'intens', 'squeaki', 'recommended.|.compar', 'silli', 'beep', 'take', 'novelti', 'pumpkin', 'slightest', 'sphere', 'wedg', '1/8th', 'highest', '-especi', 'mixtur', 'bank', 'handi', \"look'too\", 'promo', '30p', 'brake', 'succeed', 'lose', 'hinself', 're-ord', 'floppi', 'bot', 'word', 'set.plenti', 'too|veri', 'autist', 'manner', 'glitch', 'dumpster', 'highchair', 'buoyanc', 'floorand', 'stiker', 'fitment', '|bit', 'magnific', 'great|amaz', 'none-us', 'silveri', 'selfi', 'ship', 'bab', 'twice', 'be.|ne', 'crazi', 'bloom', 'tini', 'gorgeous', 'instrument', 'materi', 'mari', 'satin', 'difer', 'reliever|colour', 'told', 'launch', '..it', 'it.|8', 'crackl', 'noth', 'hasnt', 'primari', 'unnotic', 'this|given', 'broken', 'boyfriend', 'it|great', 'places..|screen', 'discount', 'pokebal', 'wheel', 'bpogi', 'herring', 'sturdy.lik', \"the'bak\", 'ruin', 'recipient.|grandson', 'auti', '|grandson', 'pong', 'two', '4-year-old', 'quiet', 'stirrer/food', 'predecessor', 'llike', '3yo|simpl', 'emerg', '.easi', 'hutch', 'unwel', 'app', 'fun|return', 'xmas.day', 'girl|littl', 'halfway', 'la', 'aids.th', 'night', 'insist', 'buggi', 'assort', 'placedur', 'somethin', 'return', 'favourit', '20th', '7in', 'tattoo.stay', 'death', 'simpler', 'tubbi', 'poop', 'enthral', 'station', 'bud', 'enviroment', 'brother', 'purxhss', 'occassion', 'smart-watch', 'ove', 'span', 'greyish', 'japanes', 'tyre', 'path', \"a'gam\", 'onward', 'puzzle|veri', 'els', 'amz', 'interlock', 'woo', 'mesh', 'sble', 'cute', 'consider', 'foot', 'huggabl', 'rip', 'properly.|look', 'pretti', 'analys', 'veg', 'saw', 'surround', 'it|dig', 'grandma.their', 'reali', 'thicker', 'cuti', 'rubberi', 'diffus', 'captur', 'fave', 'stunt', 'hide', 'yap', 'jelli', 'fidder', 'shamz', 'clueless', 'thumb', 'nephew|cheap', 'stuck', 'godson/nephew', 'spec', 'busi', 'rassur', '|pass', 'it.|not', '.amaz', '24hrs', 'abov', 'with.|5', 'absolut', 'delux', 'g/daughter', 'synthet', 'rave', 'especailli', 'aunti', 'cube', '20minut', 'overpow', 'bubba', 'arrow', 'memori', 'heard', 'scalf', 'identifi', 'best', 'platform', 'festiv', 'gameplay', 'bundl', \"of'slim\", 'duck', 'clog', 'good|just', 'metal', 'thag', 'flex', \"enough'milk\", 'all-ov', 'insight', 'rusti', 'day|1st', 'yellow/orang', 'clutch', 'riski', 'reconstruct', 'appos', 'dino', 'shut', 'abus', 'well-lit', 'manufactur', 'focuss', 'wealth', 'speak', 'sharper', 'granbabi', 'blown', 'infect', 'overal', 'stroll', '..ace', 'stamp', 'good.|2', 'window', 'disabl', 'better|quit', 'subject', 'articl', 'outfit.|lov', 'neigbour', 'is|brilli', 'head', 'crink', 'nanni', 'phew', 'breakabl', 'soften', 'answer', 'module..', 'ikea', 'ask', 'elsewher', 'cautious', 'seller.|bought', 'stronger', 'camp', 'princ', 'movement.|mi', '|love', 'nudg', 'foil', 'equival', 'cane', 'panda', '50th', 'backbon', 'rhe', 'offer', 'chaotic', 'creat', 'devil', 'pastel', 'delivery.|', 'smelli', 'logo', 'print', 'flimsi', 'content', 'hip', 'volum', 'swivel', 'layout', 'recharg', 'bike.|', 'identif', '12cmx3cm', 'criticis', 'barrel', 'ago', 'beg', 'whatsoev', 'cupcak', 'subtl', 'eventu', 'portray', 'apart', 'pleasure.|mi', 'troll', 'toy|for', 'extream', '15year', 'sturdy.apart', 'tangl', 'gift', \"it's'empti\", 'palac', 'crook', 'astonish', 'becus', 'genré', 'wheek', 'basket', 'space', \"'s\", 'programm', 'bashed|good', 'dash', 'villan', 'delivery|bought', 'horrifi', 'euro', 'goe', '6week', 'adher', 'is.|8', 'thereaft', 'four-year-old', 'buy|5', 'peapl', 'contrast', 'calm', 'illumin', 'plau', 'know:1', 'fri', 'high-chair', 'hexbug', 'chop', 'attack', 'debat', 'it|mi', 'velcro/elast', '33cm', 'cosi', 'undersid', 'day', '8year', 'football..', '400ft', 'youtub', 'fun.|', 'switch', '50kgs', 'curl', 'hour', 'narrow', 'binocular', 'dinasaur', 'touch.|just', 'peu', 'bubblegum', 'ride/turn', 'start', 'reason', 'suprised..for', 'them|granddaught', 'pegboard', 'instant', 'squirti', 'dermatillomania', 'bang', 'potato', 'invis', 'item.|great', 'late', 'footstand', 'product.|had', 'geniun', 'robust', 'all-', 'overplay', 'handicraft', 'retir', 'although', 'safe.ca', 'undoubt', 'pleasure.|sturdi', 'hoodi', 'money|mi', '|6yo', 'green', 'chariti', 'multipli', 'over-pr', 'genuin', 'meagr', 'sign', 'shear', 'grew', 'microscop', '7yr', 'again|i', 'vacuum', 'lego-', 'speedboat', 'good', 'correl', 'stamper', \"the'stomp\", 'money.|fantast', 'arriv', 'nappi', 'magic', 'centuri', 'instructions.|mi', 'chain', 'princip', 'catalogu', 'purpose|arriv', 'variabl', 'money|grtandson', 'unhealthi', 'while.|', 'statutori', 'gizmo', 'dangl', 'drippi', 'inform', 'curv', 'overwhelm', '****er', 'tweezer', 'tighten', 'too|haha', 'innov', 'them.|a', 'fruiti', \"in'mess\", 'handscan', 'ok.wher', 'second-hand', 'fete', 'wand', 'this..', 'whater', 'babyish', 'simpl', 'apprehens', 'mybr', 'distress', 'iggl', 'mashin', 'mock', 'himself|brilli', 'quibbl', 'bullets|grand', 'dent', 'patient', 'suggest', 'batw', 'drew', 'ajout', 'banana', 'expensive|12', 'leather', 'methyl', '|one', 'geograph', 'hockey', 'methink', 'andveri', 'pressie.|lov', 'this|veri', 'magnif', 'win', 'b/day', 'rabbit', 'crocodil', \"plastic'screw\", 'havent', 'money|hilari', 'recipe/menu', 'patio', 'truli', 'asda', 'dead', 'gadget', 'rememb', 'practis', 'childcar', 'it.|excel', 'parlour', 'mimick', 'easi', 'perfum', 'bumper', 'grand-daught', 'weather', 'moment.|3yr', 'scratcher', 'setup', 'notic', 're-box', 'recomand', 'wonkey', 'fals', 'tho.|th', 'quality..', 'mask', 'first', 'pirat', 'firmer', 'dislik', \"not'sold\", 'eleg', 'dirti', 'cornflour', 'camera', 'barel', 'mantl', 'orca', 'galor', 'dementia', 'coolridepl', 'convers', 'toddlr', 'darker', 'pupil', 'temporari', 'stretch', 'well.|arriv', 'giot', 'memo', 'edg', 'leaf', 'noir', 'chalk', 'playfactor', 'age', 'recognis', 'chipboard', 'destin', 'infinit', 'downhil', '15cmx4cm', 'suppplier', 'wheels.3', 'godfath', 'macdonald', 'easy-to-follow', 'after-school', 'item|mi', 'advanc', 'youngster', 'old|amaz', 'qusliti', '11yr', 'soda', 'whose', '😉|good', 'cutter', 'strong/sturdi', 'bin', 'recommend.|mi', 'discontinu', 'creatur', 'hexagon', 'charriot', 'slowli', 'amamz', 'poo', 'laughter', 'nativity.|great', 'current', 'hundr', 'it.smal', 'aquabead', '16month', 'this.|mi', 'defeat', 'skeleton', 'independ', '.batteri', 'ammus', 'kw', 'gardener..', 'icki', 'snipe', 'reffer', 'thing', 'discuss', 'in😃|brilli', 'excav', 'fella', 'creator', 'reflect', 'absorb', 're-us', 'girft', 'tenaci', 'momentum', 'insur', 'enough.|ther', 'warn', 'delivery.mani', 'himself.|excit', '7-year-old', 'sensibl', 'patch', 'anoy', 'flow', 'squirter', 'termin', 'hen', 'relev', 'lube', 'bear.excel', '95yr', 'dishwash', 'sleepi', 'shaper', 'blame', 'driven', 'entertaining|3', 'exercis', 'waist', 'postag', 'microscoot', 'gather', 'tinsel', 'lamp', 'categori', 'ban', 'viscous', 'cuddlekin', 'rainmak', 'laid', \"does't\", 'okay', 'zoo', 'mix-match', 'infin', 'over|color', 'fabric', 'grabber', 'nicely.|5', 'old.mad', 'hanger', 'brain', 'torch.|great', 'strong', 'odd', 'connector', 'introduct', 'motoris', 'tinker', 'disappoint', 'a4year', 'sounds.|veri', 'keys/lock', 'helmet-', 'trunki', 'mech', 'exam', 'wind', 'price|nic', 'site', 'booster', 'walker/jogg', 'hallway', 'instinct', 'sun-loung', \"doesn'th\", 'teen', 'shout', 'dinki', 'earthquak', '2day', 'poni', \"a'toy\", 'summer', 'frequenc', 'incident', 'grandchild', 'object', 'month-old', 'together..v', 'spiderman', 'barber', 'year', 'aughter', 'sun', 'pit', 'ecstat', '|same', 'bo', 'skin.hight', 'exampl', 'masterack', 'month', 'cardigan', 'messbut', 'rebound', 'vis', 'brittl', 'deck', 'stow', 'then-7', 'suitcas', 'type', 'me-', 'moana', 'rotor', 'flip', 'flake', 'watertight', 'tad', 'playgroup', 'mouldi', 'itboy', 'robot', 'soon-to-be-9-year-old', 'pruchas', 'cool', 'bacon', 'you|', 'reaali', 'certain', 'illus', 'pale', '6inch', 'proper', 'note-', 'detail.if', \"did'nt\", 'made..', 'brightly-colour', 'discharg', 'gift..definit', 'tricksbought', 'fraction', '6yo', 'anti', 'leap', 'ot', 'sluggish', 'muscular', 'done', 'impati', 'enthusiast', 'strait', 'interact', 'tag', 'him|bought', 'bubl', 'oppos', 'allow', 'returm', 'workmanship', 'friend..h', 'assist', 'crayola', 'moder', 'smarti', 'perhap', 'bain', 'spike', 'honest.|th', 'day.|got', 'work', 'confid', 'render', 'slushi', '3cm', 'resourc', 'rucksack', 'lava', 'eighth', 'from7', 'amounts/bal', 'section', 'lazi', 'thisand', 'well-known', 'notepads.2', 'splinter', 'crimbo', 'dot', 'daunt', 'audibl', 'concern', 'broad', 'udder', '9month', 'steer', 'loooovvveessss', 'touchi', 'dark', 'fun', 'goodarriv', 'planner', 'optic', '.especi', 'preclud', 'son/daught', 'reviews.|bal', 'pr', 'knack', 'loung', 'marvel', 'bone', 'integr', 'fool', 'aw', 'dude', 'match', '19month', 'and2', 'signific', 'hydraul', 'strain', 'imaginari', 'interest.|3', 'scream', 'program', 'let', 'inconsist', 'cooler', '4pack', 'blob', 'around', 'clue', 'downsid', 'game|great', 'dart', 'foam-cov', 'grrat', 'e', '.cheaper', 'delivery|great', 'over.|amaz', 'nick', 'arch', 'one.|r', 'center', 'spoon', 'foami', 'weld', 'cutest', 'hay', 'bill-', 'friday', 'older/adult', 'phase', 'game', 'ping', 'announc', 'temporarili', 'formula', 'money.|veri', 'budg', 'future|w', 'ceil', 'last', 'down.doesnt', 're-set', 'hurri', 'fold', 'clunki', 'charm', 'investig', 'intrest', 'pic', 'volcano', 'toppl', 'tire', '18mths', 'lol..', 'moon|bought', 'star|great', 'pooh', 'babi', 'too.two', 'crystal', 'recip', 'bond', 'wrong', 'bunt', 'hyster', 'rider', 'understood', 'good-', '*right*', 'daugshter', 'feedback.|haven', 'shini', 'ideal', 'result', 'hiker/dog', 'relat', 'cater', 'balls..', 'glanc', '.|mi', 'loss', 'snugger', 'effic', 'raid', 'lolli', 'bright', 'circlet', 'fourth', 'it|lego', 'too.|great|excel', 'mean', 'pleased|oh', 'could.|great', 'anytim', 'concept', 'creation', 'pseudo', 'fingerprint', 'resolv', 'uncl', 'upsi', 'man', 'bath', 'transit', 'pleas', 'anyon', 'duracel', 'valv', 'harmless', 'slower', 'jouet', 'dessertspoon', 'basic', 'foremost', 'plastic', 'bumpi', 'year..', 'med', 'sent', 'never', 'wont', 'well-balanc', 'expecting.|th', 'musti', 'reinforc', 'silki', 'leaflet', 'upward', 'innard', 'tip', 'luckili', 'splendid', 'await', 'pop-up', 'useless', 'inferior', 'playabl', 'goood', 'granddad', 'certif', 'hollow', 'mislead', 'bt', 'teeth', 'solid.honest', 'scrambler', 'easily.|', 'quailti', 'present|great', 'defect', 'outshin', '5hrs', 'engross', 'neic', 'granchildren', 'visabl', 'presantfab', 'talent', 'cuddley', 'leafi', 'mane', 'deduct', 'unanim', 'potent', 'bargain|pres', 'quality|good', 'year.veri', 'pencil', 'old.|veri', 'whistl', 'whine', 'it|cheap', 'blindfold', 'motor', 'presi', 'mimic', 'imprint', 'good|great', 'stap', 'express', \"quality'grandson\", 'breakag', 'releas', 'cheeri', 'spot', 'up-grad', 'magnet', 'resuabl', 'pub', 'full', \"their'treasur\", 'snuggl', 'jigsaw-world', 'bike-', 'carpet', 'copi', 'son.|good', 'levit', 'reload', 'organ', 'toilet', 'frill', 'accus', 'cell', 'fring', 'it|brought', 'princess', 'niec', 'dissapoint', 'abrupt', 'explain', 'heavier', '21.5cm', 'it|', 'acknowledg', 'playground', 'also', 'three', 'pedomet', 'gripper', 'luxuri', 'about.|excel', 'visor', 'size|mi', 'bogg', 'spoke', 'grand', 'commit', 'avec', 'reflector', 'address', 'duggi', 'pantomim', 'creas', 'recon', 'siev', 'exceed', 'boister', 'prop', 'stun', 'damaged|fun', 'neutral', 'longev', 'described.|wa', 'buy.|lik', 'butt', 'yarn', '18mth', 'father/son', 'hilarious.|good', 'wiser', 'dealer|i', 'felllow', 'shown', 'sturdiest', 'personalis', 'guard', 'lovley', 'looking|mi', \"of'al\", 'ride', 'potenti', 'know1', 'phonem', 'downi', 'excel', 'bucket', 'useabl', 'core', 'hideous', 'decal', 'productther', 'novelty/grow', 'male', '5ft', 'kitchen', 'matur', 'more|perfect', 'wash', '.came', 'rearrang', 'theyr', 'trump', 'rim', 'human', 'glossi', 'burner', 'bus.h', 'romp', 'map', 'nude', 'household', 'yo', 'sea', 'travel', 'worth', 'costum', 'she.|a', '|a', 'foe', 'shopkins.|lov', 'ladybug', 'file', 'inbetween', 'dine', 'pell', 'warp', 'markers.5', 'solv', 'free', 'fat', 'promises.|definit', '5year', 'dimens', 'pattern', 'it.|al', 'greenhous', 'luggag', 'advis', 'x', 'excitement/', '2year', 'jacket', 'design.|', 'furri', '4week', 'miff', 'price.|brak', 'shorter', 'game|nice|even', 'stair', 'updat', 'courier', 'ringlet', 'stationari', 'resili', 'duper', 'itself.|grandson', '|granddught', 'make|look', 'clip', 'product.|grand', 'repurchas', 'offici', 'action', 'happygreat', 'right', 'a4', 'meant', 'definat', 'wednesday', 'promot', 'scanner', 'treasur', 'day.wil', 'fault', 'egg', 'fast|5*', 'colour/shap', 'dinner', 'nought', 'embed', 'teacher', 'clicki', 'mighti', 'rebuilt', 'chokeabl', 'enclosur', 'pueril', 'sens', 'clariti', 'accident', 'better', 'elvi', 'four-year-old\\u200b', 'catwalk', 'dolli', 'sam', 'fearless', 'bar', 'oldi', 'altogeth', 'instanc', \"has'lost\", 'humour', 'fait', 'thatsmal', 'stray', 'burn', 'rice', 'tail', 'shell', '14m', 'pui', 'stickman', 'expected..', 'expert', 'mush', 'feed', 'calend', 'vice', 'member', 'least', 'plaster', 'sandpap', 'miniatur', 'compet', 'debri', 'it.|wa', 'weaponri', 'weedi', 'lad', 'haaaa', 'valu', 'describ', 'conform', 'pigment', 'handbag', 'radio', 'millimet', 'hehe', 'cabin', 'float', 'opportun', \"or'whin\", 'instead.|bought', 'differenti', 'bottom', 'shop.easili', 'kinder', 'material.|nic', 'armband', 'replic', 'octop', 'eye-catch', 'halv', 'modifi', 'mesmeris', 'albeit', '..mi', 'hardwear', 'conect', 'thinner', 'sudden', 'age.even', 'in2', '13month', 'funsometim', 'light', 'ident', 'truck', 'peck', 'smuggi', 'htem', 'hotdog', 'head.mani', 'buddi', 'everybodi', 'corpor', 'clingy-', 'weird', 'tenni', 'thank', 'beforehand', 'fragranc', 'ok', 'item|6', 'eg', 'pristin', 'nanny|thi', 'blanket', 'holograph', 'real', 'tale', 'sour', 'elv', 'purchase.|add', 'grandson.|best', 'them|great', 'extern', 'shopkin', 'begin', 'chinstrap', 'garçon', 'burst', 'trueli', \"the'20ft\", 'rain', '.no', 'product.|veri', 'hazard', 'teddi', 'camel', 'alloc', 'speech', 'okay.person', 'meanwhil', 'dear', 'fix', 'unnecessarili', 'space.1', 'stori', \"the'ic\", 'bath-tim', 'skate', 'it.69', 'lay', 'entic', 'bike..and', 'chose', 'side', 'import', 'merch.|nic', 'mth', 'always.|fantast', 'dosnt', 'utensil', 'vibrat', 'wherev', 'knew', '10cm', 'deciph', 'someth', 'leaver', 'exspen', 'remov', 'half', 'push', 'skip', 'south', 'blue', 'heyday', 'excit', 'grind', 'piquer', 'shepherd', 'seen', 'comp', 'waterbas', 'grandsons.|r', 'flush', 'loop', 'avin', 'grubbi', 'firearm', 'ski', 'automat', '1year', 'plasticki', 'sourir', 'washable.|', 'adequ', 'pedestrian', 'mths', 'alreadi', 'bobbl', 'temperatur', 'label', 'forgot', 'challenge.|good', 'coverag', '..and', 'hours.|good', 'furthest', 'cyclist', 'mr', 'mous', 'sank', 'degre', 'sincer', 'electron', 'sound', 'pli', 'strategy..', 'gf', 'deeper', 'orbeez', 'glitteri', 'enquir', 'profession', 'guy', 'unaccept', 'environ', 'brute', 'with:5', 'newborn', 'fair', 'mountain', 'blockag', 'crowd', 'premium', 'textur', 'z', 'injuri', 'direct', 'wake', 'turtl', 'unfortun', 'gifte', 'déplair', 'defens', 'back.|th', 'hesit', 'suction', 'playdough', 'you.|great', 'quid', 'it.|so', 'larg', '|exact', '|granddaught', 'similar', 'bag', 'well..se', 'mode', 'repli', 'buzz', 'g/son', 'blood', 'decept', 'wowwe', 'achiev', 'younger', 'big', 'stunning.=============', 'crossword', 'nervous', 'pair', 'dubious', 'protector', 'visual', 'it.|', 'gush', '10yr', 'animatron', 'valuabl', 'tea', '3d', 'spice', 'fart', \"white'u\", 'quickly.|grandaught', 'peic', 'list', 'invest', 'cuddly.|a', 'teensi', 'ménage', 'familli', 'wreck', 'nonetheless', 'it|must', 'circus', 'limit', 'christmas|bought', 'general', 'recommend.|sturdi', 'might', 'complic', 'hasent', 'helplin', 'mushroom', '221b', 'plane', 'say', 'donut', 'him.|bought', 'agre', 'item|it', 'launcher', 'blond', 'somewhat', 'pin'}\n"
     ]
    }
   ],
   "source": [
    "dic=[]\n",
    "for list in texts:\n",
    "    dic += list\n",
    "dic = set(dic)\n",
    "print(dic)"
   ]
  },
  {
   "cell_type": "code",
   "execution_count": 34,
   "metadata": {
    "collapsed": true
   },
   "outputs": [],
   "source": [
    "with open('../UK.txt','w') as f:\n",
    "    f.write(str(dic))"
   ]
  },
  {
   "cell_type": "code",
   "execution_count": 42,
   "metadata": {},
   "outputs": [
    {
     "name": "stdout",
     "output_type": "stream",
     "text": [
      "123\n"
     ]
    }
   ],
   "source": [
    "#print(len([word for word in texts[0] if word not in stopwords]))\n",
    "print(len(texts[0]))"
   ]
  },
  {
   "cell_type": "code",
   "execution_count": 43,
   "metadata": {
    "collapsed": true
   },
   "outputs": [],
   "source": [
    "# 用文本构建 Gensim 字典\n",
    "dictionary = corpora.Dictionary(texts)\n",
    " \n",
    "# 去除极端的词（和构建 tf-idf 矩阵时用到 min/max df 参数时很像）\n",
    "# dictionary.filter_extremes(no_below=1, no_above=0.8)\n",
    " \n",
    "# 将字典转化为词典模型（bag of words）作为参考\n",
    "corpus = [dictionary.doc2bow(text) for text in texts]\n"
   ]
  },
  {
   "cell_type": "code",
   "execution_count": 44,
   "metadata": {},
   "outputs": [
    {
     "data": {
      "text/plain": [
       "961"
      ]
     },
     "execution_count": 44,
     "metadata": {},
     "output_type": "execute_result"
    }
   ],
   "source": [
    "len(corpus)"
   ]
  },
  {
   "cell_type": "code",
   "execution_count": 45,
   "metadata": {},
   "outputs": [
    {
     "name": "stdout",
     "output_type": "stream",
     "text": [
      "CPU times: user 6min 31s, sys: 2.8 s, total: 6min 33s\n",
      "Wall time: 6min 38s\n"
     ]
    }
   ],
   "source": [
    "%time lda = models.LdaModel(corpus, num_topics=10,id2word=dictionary,update_every=5,chunksize=10000,passes=100)"
   ]
  },
  {
   "cell_type": "code",
   "execution_count": 46,
   "metadata": {},
   "outputs": [
    {
     "name": "stdout",
     "output_type": "stream",
     "text": [
      "[(2, 0.45735168), (6, 0.5361954)]\n"
     ]
    }
   ],
   "source": [
    "print(lda[corpus[0]])"
   ]
  },
  {
   "cell_type": "code",
   "execution_count": 47,
   "metadata": {
    "collapsed": true
   },
   "outputs": [],
   "source": [
    "topics_matrix = lda.show_topics(formatted=False, num_words=100)"
   ]
  },
  {
   "cell_type": "code",
   "execution_count": 48,
   "metadata": {},
   "outputs": [
    {
     "data": {
      "text/plain": [
       "[(0,\n",
       "  [('cube', 0.040854666),\n",
       "   ('good', 0.032115981),\n",
       "   ('veri', 0.016724238),\n",
       "   ('smooth', 0.015969051),\n",
       "   (\"'s\", 0.014078646),\n",
       "   ('product', 0.01228278),\n",
       "   ('use', 0.011723666),\n",
       "   ('one', 0.010157536),\n",
       "   ('qualiti', 0.0095363231),\n",
       "   ('price', 0.0094168084),\n",
       "   ('buy', 0.0088923555),\n",
       "   ('great', 0.0088769644),\n",
       "   ('speed', 0.0084043937),\n",
       "   ('like', 0.0066474564),\n",
       "   ('sticker', 0.0064791795),\n",
       "   ('get', 0.006433615),\n",
       "   ('got', 0.0062899557),\n",
       "   ('best', 0.0062051909),\n",
       "   ('solv', 0.0061382786),\n",
       "   ('color', 0.0057334322),\n",
       "   ('also', 0.0056356951),\n",
       "   ('realli', 0.0051830197),\n",
       "   ('beginn', 0.0050300946),\n",
       "   (\"n't\", 0.0050167432),\n",
       "   ('much', 0.0049047666),\n",
       "   ('nice', 0.0046104672),\n",
       "   ('set', 0.0045248866),\n",
       "   ('corner', 0.0041500665),\n",
       "   ('origin', 0.0041060075),\n",
       "   ('day', 0.0041039926),\n",
       "   ('fast', 0.0040527009),\n",
       "   ('bought', 0.0040156259),\n",
       "   ('worth', 0.0037368126),\n",
       "   ('go', 0.003724488),\n",
       "   ('recommend', 0.0034234715),\n",
       "   ('money', 0.0033366482),\n",
       "   ('would', 0.003317313),\n",
       "   ('movement', 0.0033004431),\n",
       "   ('love', 0.0032604011),\n",
       "   ('board', 0.0031867826),\n",
       "   ('expect', 0.0031812508),\n",
       "   ('cut', 0.0031262008),\n",
       "   ('beyblad', 0.0030676906),\n",
       "   ('differ', 0.0030253546),\n",
       "   ('tri', 0.0030057805),\n",
       "   ('feel', 0.002937203),\n",
       "   ('come', 0.002896816),\n",
       "   ('even', 0.0028607596),\n",
       "   ('plastic', 0.0028499474),\n",
       "   ('onli', 0.0028121087),\n",
       "   ('look', 0.0028047177),\n",
       "   ('think', 0.0027763171),\n",
       "   ('better', 0.0027385626),\n",
       "   (\"'m\", 0.0027119052),\n",
       "   ('ever', 0.0026977162),\n",
       "   ('know', 0.0026380178),\n",
       "   ('pencil', 0.0026225343),\n",
       "   ('son', 0.0026093905),\n",
       "   ('need', 0.0025866609),\n",
       "   ('anim', 0.0025437034),\n",
       "   ('easi', 0.0024934511),\n",
       "   ('amazon', 0.0024814513),\n",
       "   ('perfect', 0.002419393),\n",
       "   ('though', 0.002333926),\n",
       "   ('piec', 0.0023289723),\n",
       "   ('move', 0.0022560668),\n",
       "   ('fix', 0.0022324957),\n",
       "   ('stuck', 0.0022151647),\n",
       "   ('made', 0.0022020126),\n",
       "   ('becaus', 0.0021879498),\n",
       "   ('want', 0.0021587028),\n",
       "   ('reason', 0.0021586493),\n",
       "   ('deliv', 0.0021056174),\n",
       "   ('overal', 0.0021044922),\n",
       "   ('puzzl', 0.0020718507),\n",
       "   ('cheap', 0.0020537924),\n",
       "   ('play', 0.0020453962),\n",
       "   ('new', 0.0020121958),\n",
       "   ('order', 0.0019811019),\n",
       "   ('ani', 0.0019541176),\n",
       "   ('came', 0.0019488495),\n",
       "   ('excel', 0.0019303041),\n",
       "   ('cost', 0.0019032751),\n",
       "   ('extrem', 0.0018842084),\n",
       "   ('colour', 0.001863096),\n",
       "   ('lube', 0.0018487338),\n",
       "   ('lot', 0.001840214),\n",
       "   ('find', 0.0017926088),\n",
       "   ('first', 0.0017822684),\n",
       "   ('name', 0.001770184),\n",
       "   ('work', 0.0017321486),\n",
       "   ('awesom', 0.0017284824),\n",
       "   ('dart', 0.0017014596),\n",
       "   ('time', 0.0016530498),\n",
       "   ('sare', 0.0016455727),\n",
       "   ('artist', 0.0016452839),\n",
       "   ('rang', 0.0016428715),\n",
       "   ('two', 0.0016122427),\n",
       "   ('brand', 0.0015785214),\n",
       "   ('start', 0.0015751451)]),\n",
       " (1,\n",
       "  [('kid', 0.040858489),\n",
       "   ('learn', 0.017434921),\n",
       "   (\"'s\", 0.016547374),\n",
       "   ('use', 0.014666167),\n",
       "   ('game', 0.014545251),\n",
       "   ('love', 0.013176135),\n",
       "   ('play', 0.011358097),\n",
       "   ('good', 0.011080994),\n",
       "   ('year', 0.010283414),\n",
       "   ('box', 0.0094970027),\n",
       "   ('time', 0.0093101142),\n",
       "   ('veri', 0.0091717066),\n",
       "   ('puzzl', 0.0091486005),\n",
       "   ('card', 0.0091152564),\n",
       "   ('like', 0.0087432936),\n",
       "   ('old', 0.0086641787),\n",
       "   ('gift', 0.0082586743),\n",
       "   ('fun', 0.0077523589),\n",
       "   ('son', 0.0075537763),\n",
       "   ('make', 0.0072641368),\n",
       "   ('anim', 0.0067440793),\n",
       "   ('one', 0.0066368198),\n",
       "   ('enjoy', 0.0065875729),\n",
       "   ('app', 0.0062022456),\n",
       "   ('product', 0.0060929339),\n",
       "   ('shape', 0.0058130659),\n",
       "   ('help', 0.0057970751),\n",
       "   ('children', 0.0057195802),\n",
       "   ('much', 0.0055480991),\n",
       "   ('interest', 0.0052788421),\n",
       "   ('way', 0.0049695177),\n",
       "   ('child', 0.0049550496),\n",
       "   ('need', 0.0047915736),\n",
       "   ('creativ', 0.0046938034),\n",
       "   ('screen', 0.0046763048),\n",
       "   ('thing', 0.0044850884),\n",
       "   ('easi', 0.0044652838),\n",
       "   ('great', 0.004391904),\n",
       "   ('best', 0.0043723816),\n",
       "   ('keep', 0.0043384084),\n",
       "   ('age', 0.0043236632),\n",
       "   ('concept', 0.004220936),\n",
       "   ('well', 0.004113087),\n",
       "   ('come', 0.0041005882),\n",
       "   ('board', 0.0039295801),\n",
       "   ('start', 0.0038190468),\n",
       "   ('book', 0.0037690946),\n",
       "   ('skill', 0.0037644692),\n",
       "   ('activ', 0.0037489389),\n",
       "   ('would', 0.0037403204),\n",
       "   ('engag', 0.003676038),\n",
       "   ('give', 0.0035400996),\n",
       "   ('qualiti', 0.0035277861),\n",
       "   ('kit', 0.0034370737),\n",
       "   ('buy', 0.0034204198),\n",
       "   ('daughter', 0.0033976224),\n",
       "   ('also', 0.0033821724),\n",
       "   ('toddler', 0.0031878396),\n",
       "   ('get', 0.0031331126),\n",
       "   ('differ', 0.0031272338),\n",
       "   ('show', 0.0031174978),\n",
       "   ('lot', 0.0031105978),\n",
       "   ('littl', 0.0030278382),\n",
       "   ('order', 0.0030137014),\n",
       "   ('parent', 0.0029177892),\n",
       "   ('teach', 0.0028811391),\n",
       "   ('develop', 0.0027964907),\n",
       "   (\"n't\", 0.0027913311),\n",
       "   ('see', 0.0027877856),\n",
       "   ('sure', 0.0027449946),\n",
       "   ('live', 0.0026401356),\n",
       "   ('mobil', 0.0026057523),\n",
       "   ('day', 0.002571156),\n",
       "   ('toy', 0.0025545866),\n",
       "   ('realiti', 0.002475159),\n",
       "   ('innov', 0.0024734577),\n",
       "   ('recommend', 0.0024651433),\n",
       "   ('bought', 0.0024565188),\n",
       "   ('better', 0.0024154524),\n",
       "   ('understand', 0.0023901141),\n",
       "   ('piec', 0.0023711598),\n",
       "   ('code', 0.0023603479),\n",
       "   ('world', 0.0023572503),\n",
       "   ('adult', 0.002338653),\n",
       "   ('design', 0.0022941157),\n",
       "   ('phone', 0.0022885865),\n",
       "   ('may', 0.0022715405),\n",
       "   ('know', 0.002263847),\n",
       "   ('realli', 0.0022450401),\n",
       "   ('place', 0.002236817),\n",
       "   ('busi', 0.0022292037),\n",
       "   ('experi', 0.0022129996),\n",
       "   ('creatur', 0.0022054585),\n",
       "   ('magnet', 0.0021812026),\n",
       "   ('educ', 0.0021754301),\n",
       "   ('devic', 0.0021574297),\n",
       "   ('creat', 0.0021327448),\n",
       "   ('wonder', 0.0021303089),\n",
       "   ('excel', 0.0021023953),\n",
       "   ('even', 0.0020942034)]),\n",
       " (2,\n",
       "  [('good', 0.046767533),\n",
       "   ('product', 0.044037715),\n",
       "   ('qualiti', 0.036411669),\n",
       "   ('love', 0.026470315),\n",
       "   ('veri', 0.025433645),\n",
       "   ('small', 0.018848646),\n",
       "   ('price', 0.017699258),\n",
       "   ('size', 0.015115988),\n",
       "   ('nice', 0.014941847),\n",
       "   ('kid', 0.014937256),\n",
       "   (\"'s\", 0.012241386),\n",
       "   ('like', 0.011933412),\n",
       "   ('one', 0.011316078),\n",
       "   ('toy', 0.0099571254),\n",
       "   ('worth', 0.0099446867),\n",
       "   ('look', 0.0097605092),\n",
       "   ('daughter', 0.009700899),\n",
       "   ('babi', 0.0094353519),\n",
       "   ('colour', 0.0092407633),\n",
       "   ('cute', 0.0086161168),\n",
       "   ('play', 0.0081251701),\n",
       "   ('also', 0.0073317816),\n",
       "   ('soft', 0.0072929431),\n",
       "   ('buy', 0.0069773598),\n",
       "   ('much', 0.0062839771),\n",
       "   ('realli', 0.0062191058),\n",
       "   ('color', 0.0061062993),\n",
       "   ('pictur', 0.0060530929),\n",
       "   ('doll', 0.0059958906),\n",
       "   ('shown', 0.0059717018),\n",
       "   ('use', 0.0058601932),\n",
       "   ('enjoy', 0.0058225268),\n",
       "   ('ball', 0.0057974337),\n",
       "   ('money', 0.0057931752),\n",
       "   ('expect', 0.005765839),\n",
       "   (\"n't\", 0.0056657055),\n",
       "   ('happi', 0.0056335558),\n",
       "   ('materi', 0.0054250755),\n",
       "   ('littl', 0.0054163379),\n",
       "   ('receiv', 0.0048636207),\n",
       "   ('high', 0.0047752843),\n",
       "   ('onli', 0.0047509829),\n",
       "   ('great', 0.0046863784),\n",
       "   ('big', 0.0045586196),\n",
       "   ('got', 0.0039221374),\n",
       "   ('doe', 0.0036899901),\n",
       "   ('n', 0.0036643576),\n",
       "   ('would', 0.0035328814),\n",
       "   ('plastic', 0.0034935367),\n",
       "   ('gift', 0.0033313497),\n",
       "   ('deliveri', 0.0032246688),\n",
       "   ('perfect', 0.0031311777),\n",
       "   ('item', 0.0031224382),\n",
       "   ('attract', 0.0029797216),\n",
       "   ('bad', 0.0029315061),\n",
       "   ('son', 0.0028276627),\n",
       "   ('imag', 0.0026635469),\n",
       "   ('ok', 0.0025905529),\n",
       "   ('time', 0.0025875655),\n",
       "   ('seem', 0.0025239442),\n",
       "   ('per', 0.0025237261),\n",
       "   ('purchas', 0.0025130697),\n",
       "   ('bit', 0.0024652621),\n",
       "   ('niec', 0.0024531086),\n",
       "   ('cost', 0.0024051999),\n",
       "   ('order', 0.0023755892),\n",
       "   ('child', 0.0023720686),\n",
       "   ('old', 0.0023651088),\n",
       "   ('better', 0.0023384499),\n",
       "   ('fit', 0.0023307798),\n",
       "   ('poor', 0.0022991935),\n",
       "   ('stitch', 0.0022821634),\n",
       "   ('though', 0.0022780567),\n",
       "   ('differ', 0.0022462888),\n",
       "   ('star', 0.0022164276),\n",
       "   ('open', 0.0021963245),\n",
       "   ('pink', 0.0021454878),\n",
       "   ('finish', 0.0021386393),\n",
       "   ('compar', 0.002134708),\n",
       "   ('well', 0.0020426887),\n",
       "   ('year', 0.0020399834),\n",
       "   ('deliv', 0.0020387056),\n",
       "   ('purpos', 0.0020263151),\n",
       "   ('bigger', 0.0020069939),\n",
       "   ('get', 0.001995601),\n",
       "   ('awesom', 0.0019791366),\n",
       "   ('bright', 0.0019703354),\n",
       "   ('set', 0.0019699773),\n",
       "   ('pic', 0.0019224219),\n",
       "   ('satisfi', 0.0018764837),\n",
       "   ('insid', 0.0018621281),\n",
       "   ('disappoint', 0.0018562212),\n",
       "   ('stuff', 0.0018388536),\n",
       "   ('could', 0.0018188166),\n",
       "   ('month', 0.001816467),\n",
       "   ('piec', 0.0017828448),\n",
       "   ('paper', 0.0017250506),\n",
       "   ('come', 0.0017177042),\n",
       "   ('bought', 0.0017156237),\n",
       "   ('beauti', 0.0017106165)]),\n",
       " (3,\n",
       "  [('product', 0.036801107),\n",
       "   ('good', 0.025930656),\n",
       "   ('veri', 0.025266534),\n",
       "   ('qualiti', 0.015446432),\n",
       "   (\"'s\", 0.014048287),\n",
       "   ('one', 0.011718329),\n",
       "   ('nice', 0.010465642),\n",
       "   ('use', 0.0093465969),\n",
       "   ('like', 0.0090456884),\n",
       "   ('time', 0.0087717483),\n",
       "   ('stick', 0.0075891465),\n",
       "   ('realli', 0.0072852038),\n",
       "   ('love', 0.0064523439),\n",
       "   ('gift', 0.0058638738),\n",
       "   ('price', 0.0057561989),\n",
       "   (\"n't\", 0.0057196785),\n",
       "   ('great', 0.0057132696),\n",
       "   ('get', 0.0056852465),\n",
       "   ('toy', 0.005640347),\n",
       "   ('color', 0.005464117),\n",
       "   ('happi', 0.0054560537),\n",
       "   ('got', 0.0054339599),\n",
       "   ('buy', 0.0050395331),\n",
       "   ('prop', 0.0050315605),\n",
       "   ('deliveri', 0.0050170184),\n",
       "   ('work', 0.0049085855),\n",
       "   ('size', 0.0045694602),\n",
       "   ('pack', 0.0045323069),\n",
       "   ('even', 0.0044238535),\n",
       "   ('batteri', 0.0044192551),\n",
       "   ('look', 0.0042460561),\n",
       "   ('parti', 0.0041257469),\n",
       "   ('n', 0.0040250435),\n",
       "   ('make', 0.0039961659),\n",
       "   ('doll', 0.0039797076),\n",
       "   ('onli', 0.0039688288),\n",
       "   ('amaz', 0.0039525544),\n",
       "   ('much', 0.0038284394),\n",
       "   ('expect', 0.0035494743),\n",
       "   ('also', 0.0035493956),\n",
       "   ('come', 0.0034977675),\n",
       "   ('kid', 0.0034892156),\n",
       "   ('dart', 0.0033841592),\n",
       "   ('worth', 0.0033798881),\n",
       "   ('paper', 0.0031928467),\n",
       "   ('becaus', 0.003127947),\n",
       "   ('side', 0.0028951522),\n",
       "   ('perfect', 0.0028391662),\n",
       "   ('fine', 0.0026047353),\n",
       "   ('made', 0.0025806515),\n",
       "   ('small', 0.002572566),\n",
       "   ('daughter', 0.0025197635),\n",
       "   ('origin', 0.002503189),\n",
       "   ('light', 0.0025009434),\n",
       "   ('would', 0.0024680756),\n",
       "   ('quill', 0.002466952),\n",
       "   ('less', 0.0024188533),\n",
       "   ('set', 0.0024049932),\n",
       "   ('take', 0.0023541239),\n",
       "   ('watch', 0.0023107559),\n",
       "   ('satisfi', 0.0022911029),\n",
       "   ('recommend', 0.0022335844),\n",
       "   ('fun', 0.002208777),\n",
       "   ('wall', 0.0021752371),\n",
       "   ('poor', 0.0021509582),\n",
       "   ('bit', 0.0021237456),\n",
       "   ('see', 0.0021066088),\n",
       "   ('bad', 0.00208798),\n",
       "   ('music', 0.0020552217),\n",
       "   ('better', 0.0020245817),\n",
       "   ('strip', 0.0019782933),\n",
       "   ('bought', 0.0019731259),\n",
       "   ('thing', 0.001940439),\n",
       "   ('order', 0.0019383193),\n",
       "   ('head', 0.0019206576),\n",
       "   ('thank', 0.0019134645),\n",
       "   ('came', 0.0018993487),\n",
       "   ('easili', 0.0018846217),\n",
       "   ('son', 0.0018614762),\n",
       "   ('lot', 0.0018292749),\n",
       "   ('packag', 0.0018220867),\n",
       "   ('purchas', 0.0018162681),\n",
       "   ('u', 0.0017938331),\n",
       "   ('excel', 0.0017917202),\n",
       "   ('need', 0.0017851928),\n",
       "   ('go', 0.0017848434),\n",
       "   ('ani', 0.0017531436),\n",
       "   ('discount', 0.0017515735),\n",
       "   ('piec', 0.0017458572),\n",
       "   ('place', 0.0017454466),\n",
       "   ('way', 0.0017401269),\n",
       "   ('could', 0.001711441),\n",
       "   ('never', 0.0016792787),\n",
       "   ('servic', 0.0016579897),\n",
       "   ('receiv', 0.0016566085),\n",
       "   ('amazon', 0.0016266814),\n",
       "   ('person', 0.0016158748),\n",
       "   ('say', 0.00161401),\n",
       "   ('cheap', 0.0015929355),\n",
       "   ('open', 0.0015906102)]),\n",
       " (4,\n",
       "  [('qualiti', 0.01774198),\n",
       "   ('product', 0.016749157),\n",
       "   ('good', 0.016653836),\n",
       "   ('block', 0.015504369),\n",
       "   ('veri', 0.014625906),\n",
       "   ('kid', 0.01184532),\n",
       "   ('use', 0.0098771267),\n",
       "   ('plastic', 0.0078194086),\n",
       "   ('toy', 0.0078044543),\n",
       "   ('old', 0.0077450513),\n",
       "   ('like', 0.0071097547),\n",
       "   ('love', 0.0069630039),\n",
       "   (\"n't\", 0.006870782),\n",
       "   ('pictur', 0.006833171),\n",
       "   ('one', 0.0064410279),\n",
       "   ('fit', 0.0064174286),\n",
       "   ('year', 0.0062281243),\n",
       "   ('alphabet', 0.0057564266),\n",
       "   ('price', 0.0054445835),\n",
       "   ('son', 0.0054315985),\n",
       "   (\"'s\", 0.0050279638),\n",
       "   ('bag', 0.0049109361),\n",
       "   ('get', 0.0047510723),\n",
       "   ('play', 0.00458227),\n",
       "   ('piec', 0.0041601155),\n",
       "   ('best', 0.004155702),\n",
       "   ('awesom', 0.0039681518),\n",
       "   ('even', 0.0039462838),\n",
       "   ('buy', 0.0038998749),\n",
       "   ('pen', 0.0038886231),\n",
       "   ('build', 0.0037925551),\n",
       "   ('n', 0.0037141156),\n",
       "   ('great', 0.0036896402),\n",
       "   ('spin', 0.0036167619),\n",
       "   ('money', 0.003587784),\n",
       "   ('launcher', 0.0034429203),\n",
       "   ('blade', 0.0034384581),\n",
       "   ('letter', 0.0033845678),\n",
       "   ('shape', 0.003309621),\n",
       "   ('shown', 0.0032277694),\n",
       "   ('come', 0.0032165258),\n",
       "   ('tip', 0.0032084561),\n",
       "   ('differ', 0.0031869842),\n",
       "   ('tight', 0.0031494752),\n",
       "   ('big', 0.0031446305),\n",
       "   ('look', 0.0031269817),\n",
       "   ('start', 0.0031205583),\n",
       "   ('littl', 0.0030352098),\n",
       "   ('doe', 0.0030085891),\n",
       "   ('bought', 0.0029404853),\n",
       "   ('children', 0.0029221647),\n",
       "   ('top', 0.0029189154),\n",
       "   ('would', 0.0029133782),\n",
       "   ('mat', 0.0028939343),\n",
       "   ('also', 0.002879675),\n",
       "   ('bit', 0.0028558436),\n",
       "   ('seller', 0.0027982951),\n",
       "   ('learn', 0.0027480957),\n",
       "   ('babi', 0.0027096288),\n",
       "   ('super', 0.00267211),\n",
       "   ('last', 0.00264451),\n",
       "   ('number', 0.0026297248),\n",
       "   ('beyblad', 0.0026195212),\n",
       "   ('ani', 0.0026042915),\n",
       "   ('tri', 0.0025893198),\n",
       "   ('month', 0.0025529009),\n",
       "   ('hard', 0.0025187025),\n",
       "   ('board', 0.0024920434),\n",
       "   ('soft', 0.0024890874),\n",
       "   ('fall', 0.0024821348),\n",
       "   ('easili', 0.0024556818),\n",
       "   ('valu', 0.0024498454),\n",
       "   ('nice', 0.0024098495),\n",
       "   ('sword', 0.0023578547),\n",
       "   ('set', 0.0023403289),\n",
       "   ('teddi', 0.0023131825),\n",
       "   ('color', 0.0023015116),\n",
       "   ('need', 0.0022995621),\n",
       "   ('proper', 0.002257914),\n",
       "   ('stick', 0.0022396725),\n",
       "   ('perfect', 0.0022290503),\n",
       "   ('exact', 0.0021903664),\n",
       "   ('made', 0.0021891894),\n",
       "   ('poor', 0.0021742987),\n",
       "   ('happi', 0.0021664642),\n",
       "   ('video', 0.0021365043),\n",
       "   ('enough', 0.0021327445),\n",
       "   ('colour', 0.0021179486),\n",
       "   ('put', 0.0021107879),\n",
       "   ('expect', 0.0020645936),\n",
       "   ('name', 0.0020276923),\n",
       "   ('two', 0.0020195385),\n",
       "   ('go', 0.0020150193),\n",
       "   ('work', 0.0020142477),\n",
       "   ('loos', 0.0020084269),\n",
       "   ('got', 0.0020005116),\n",
       "   ('brand', 0.0019865495),\n",
       "   ('keep', 0.0019824149),\n",
       "   ('onli', 0.0019811043),\n",
       "   ('day', 0.0019464653)]),\n",
       " (5,\n",
       "  [('card', 0.017053109),\n",
       "   ('kid', 0.01149259),\n",
       "   ('learn', 0.0089706155),\n",
       "   ('colour', 0.0085752402),\n",
       "   ('use', 0.0081908014),\n",
       "   ('time', 0.0080572348),\n",
       "   ('flashcard', 0.0079253465),\n",
       "   ('son', 0.0079135736),\n",
       "   ('fli', 0.0078343004),\n",
       "   ('spend', 0.0077012754),\n",
       "   ('drone', 0.0071406486),\n",
       "   ('play', 0.0062902691),\n",
       "   ('start', 0.0061640553),\n",
       "   ('ball', 0.0061147828),\n",
       "   ('enjoy', 0.0059359935),\n",
       "   ('option', 0.0055713975),\n",
       "   ('crash', 0.005571269),\n",
       "   ('size', 0.0052727903),\n",
       "   ('actual', 0.0050114305),\n",
       "   ('side', 0.0049933949),\n",
       "   (\"'s\", 0.0049547735),\n",
       "   ('imag', 0.0045587709),\n",
       "   ('good', 0.0045518912),\n",
       "   ('onli', 0.0044492777),\n",
       "   ('one', 0.004406597),\n",
       "   ('price', 0.0043508131),\n",
       "   ('year', 0.0042667664),\n",
       "   ('veri', 0.0042471648),\n",
       "   ('fun', 0.003932232),\n",
       "   ('product', 0.0039162259),\n",
       "   ('qualiti', 0.0038757599),\n",
       "   ('lot', 0.0037457731),\n",
       "   ('yrs', 0.0037210959),\n",
       "   ('bit', 0.0036292041),\n",
       "   ('tool', 0.0036215438),\n",
       "   ('bought', 0.0035218946),\n",
       "   ('small', 0.0034873479),\n",
       "   ('need', 0.0034370564),\n",
       "   ('anim', 0.0033474949),\n",
       "   ('late', 0.0032172813),\n",
       "   ('much', 0.0032172734),\n",
       "   ('area', 0.0032172559),\n",
       "   ('illustr', 0.0032172399),\n",
       "   ('difficult', 0.0026627597),\n",
       "   ('get', 0.0026483787),\n",
       "   ('studi', 0.0024325524),\n",
       "   ('help', 0.0024064421),\n",
       "   ('even', 0.0022940896),\n",
       "   ('hour', 0.0022622505),\n",
       "   ('better', 0.0022433684),\n",
       "   ('expect', 0.002170284),\n",
       "   ('perfect', 0.0021674994),\n",
       "   ('see', 0.0021582025),\n",
       "   ('soon', 0.0021374812),\n",
       "   ('look', 0.002126612),\n",
       "   ('attract', 0.0020921628),\n",
       "   ('made', 0.002059479),\n",
       "   ('describ', 0.0020504578),\n",
       "   ('make', 0.0020498962),\n",
       "   ('cover', 0.0019712693),\n",
       "   ('pictur', 0.0019505244),\n",
       "   ('mani', 0.0019314111),\n",
       "   ('caus', 0.0019025647),\n",
       "   ('becom', 0.0018323392),\n",
       "   ('like', 0.0017954659),\n",
       "   ('littl', 0.0017817508),\n",
       "   ('hit', 0.0017626522),\n",
       "   ('set', 0.0017600099),\n",
       "   ('alway', 0.0017457901),\n",
       "   ('app', 0.0017455422),\n",
       "   ('love', 0.0017378469),\n",
       "   ('adult', 0.0017238786),\n",
       "   ('shape', 0.0017236118),\n",
       "   ('long', 0.0017190101),\n",
       "   ('check', 0.0017179308),\n",
       "   ('beauti', 0.0017147567),\n",
       "   ('stand', 0.0017028316),\n",
       "   (\"n't\", 0.0016961998),\n",
       "   ('issu', 0.0016788915),\n",
       "   ('flash', 0.0016478832),\n",
       "   ('prime', 0.0016478742),\n",
       "   ('niec', 0.0016478715),\n",
       "   ('anyon', 0.0016478712),\n",
       "   ('sometim', 0.0016478703),\n",
       "   ('abov', 0.0016478691),\n",
       "   ('keep', 0.0016478687),\n",
       "   ('preschool', 0.0016478684),\n",
       "   ('brother', 0.0016478675),\n",
       "   ('letter', 0.0016478675),\n",
       "   ('without', 0.0016478673),\n",
       "   ('ca', 0.0016478671),\n",
       "   ('whether', 0.0016478667),\n",
       "   ('busi', 0.0016478663),\n",
       "   ('school', 0.0016478657),\n",
       "   ('grow', 0.0016478651),\n",
       "   ('practic', 0.0016478648),\n",
       "   ('alphabet', 0.0016478645),\n",
       "   ('someth', 0.001647863),\n",
       "   ('innov', 0.0016478613),\n",
       "   ('alon', 0.0016478605)]),\n",
       " (6,\n",
       "  [('gun', 0.039547119),\n",
       "   ('bullet', 0.011405056),\n",
       "   ('figur', 0.010890792),\n",
       "   ('use', 0.0079098782),\n",
       "   ('dart', 0.0078955628),\n",
       "   (\"'s\", 0.0058507444),\n",
       "   ('get', 0.0057654702),\n",
       "   ('look', 0.005710016),\n",
       "   ('shoot', 0.0054772687),\n",
       "   ('like', 0.0053093517),\n",
       "   ('prop', 0.0052669519),\n",
       "   ('perfect', 0.0050061839),\n",
       "   ('nerf', 0.0049866247),\n",
       "   ('design', 0.0049225804),\n",
       "   ('load', 0.0047974498),\n",
       "   ('tape', 0.0047409651),\n",
       "   ('best', 0.0047340025),\n",
       "   ('stick', 0.0046545537),\n",
       "   ('come', 0.0046505732),\n",
       "   ('time', 0.0045132595),\n",
       "   ('fire', 0.0044928975),\n",
       "   ('first', 0.0043161791),\n",
       "   ('amaz', 0.0042690202),\n",
       "   ('clip', 0.0039585256),\n",
       "   ('well', 0.0039534182),\n",
       "   ('damag', 0.003859611),\n",
       "   ('attach', 0.0037969146),\n",
       "   ('deliveri', 0.0037670245),\n",
       "   ('alway', 0.0036650258),\n",
       "   ('onli', 0.0036561417),\n",
       "   ('realli', 0.0032877617),\n",
       "   ('nice', 0.0032793777),\n",
       "   ('quantiti', 0.0032757649),\n",
       "   ('detail', 0.0031319594),\n",
       "   ('hurt', 0.0030158856),\n",
       "   ('shot', 0.0030117098),\n",
       "   ('power', 0.0028983112),\n",
       "   ('awesom', 0.0026957172),\n",
       "   ('hard', 0.0026396527),\n",
       "   ('without', 0.0025998375),\n",
       "   ('need', 0.0025904821),\n",
       "   ('review', 0.0025211775),\n",
       "   ('jelli', 0.0025180222),\n",
       "   ('batman', 0.0025180054),\n",
       "   ('barrel', 0.0025179889),\n",
       "   ('suit', 0.0025179859),\n",
       "   ('veri', 0.0025174869),\n",
       "   ('inch', 0.0024977645),\n",
       "   ('usabl', 0.0024442435),\n",
       "   ('articul', 0.0024402617),\n",
       "   ('parti', 0.0024028108),\n",
       "   ('market', 0.0023965503),\n",
       "   ('page', 0.0023931798),\n",
       "   ('wed', 0.0023719799),\n",
       "   ('ani', 0.0023718646),\n",
       "   ('much', 0.0023683358),\n",
       "   ('long', 0.0023348099),\n",
       "   ('size', 0.0023302999),\n",
       "   ('love', 0.0023280752),\n",
       "   ('basic', 0.0023120288),\n",
       "   ('easi', 0.0022943621),\n",
       "   ('go', 0.0022153235),\n",
       "   ('high', 0.0022062906),\n",
       "   ('local', 0.0022049434),\n",
       "   ('mirror', 0.0021870311),\n",
       "   ('provid', 0.0021573463),\n",
       "   ('great', 0.0021457742),\n",
       "   ('valu', 0.0021410927),\n",
       "   ('paint', 0.0020984006),\n",
       "   ('version', 0.0020652607),\n",
       "   ('avail', 0.0020543581),\n",
       "   ('pretti', 0.0020342532),\n",
       "   ('simpl', 0.0020339203),\n",
       "   ('soft', 0.0020279572),\n",
       "   ('sculpt', 0.0020242976),\n",
       "   ('new', 0.0020242964),\n",
       "   ('pig', 0.0020242855),\n",
       "   ('shoulder', 0.0020242785),\n",
       "   ('jam', 0.0020242741),\n",
       "   ('.you', 0.0020242727),\n",
       "   ('read', 0.002002171),\n",
       "   ('useless', 0.0019994653),\n",
       "   ('fan', 0.0019857381),\n",
       "   ('one', 0.0019831862),\n",
       "   ('rough', 0.0019750078),\n",
       "   ('must', 0.0019519795),\n",
       "   ('excel', 0.0019512238),\n",
       "   ('inform', 0.0019392171),\n",
       "   ('jump', 0.0019309068),\n",
       "   ('regret', 0.0019269326),\n",
       "   ('becaus', 0.0019111324),\n",
       "   ('henc', 0.0019086476),\n",
       "   ('durabl', 0.0018990939),\n",
       "   ('tip', 0.001893402),\n",
       "   ('might', 0.0018793405),\n",
       "   ('give', 0.0018780977),\n",
       "   ('quit', 0.0018514863),\n",
       "   ('bit', 0.0018471394),\n",
       "   ('grip', 0.0018358267),\n",
       "   ('round', 0.0018255418)]),\n",
       " (7,\n",
       "  [('product', 0.047792256),\n",
       "   ('good', 0.033477377),\n",
       "   ('qualiti', 0.02286193),\n",
       "   ('veri', 0.021760391),\n",
       "   ('kid', 0.017937316),\n",
       "   (\"n't\", 0.010749078),\n",
       "   ('work', 0.0097366208),\n",
       "   ('one', 0.0096766595),\n",
       "   ('love', 0.0090471199),\n",
       "   ('use', 0.0082837325),\n",
       "   ('toy', 0.008017106),\n",
       "   ('buy', 0.0077227503),\n",
       "   ('money', 0.0076683844),\n",
       "   ('part', 0.0072684754),\n",
       "   ('old', 0.0070627159),\n",
       "   ('item', 0.0069717471),\n",
       "   ('nice', 0.0069565284),\n",
       "   ('small', 0.0069168718),\n",
       "   ('year', 0.0064068758),\n",
       "   ('price', 0.0063990555),\n",
       "   ('like', 0.0063634384),\n",
       "   ('time', 0.0062873061),\n",
       "   ('play', 0.0059352531),\n",
       "   (\"'s\", 0.0058351876),\n",
       "   ('bad', 0.0054747127),\n",
       "   ('make', 0.0052423077),\n",
       "   ('also', 0.0052082837),\n",
       "   ('onli', 0.0051217708),\n",
       "   ('worth', 0.0050135138),\n",
       "   ('son', 0.0044563157),\n",
       "   ('assembl', 0.0044151265),\n",
       "   ('return', 0.0044016875),\n",
       "   ('piec', 0.0043488774),\n",
       "   ('light', 0.0042453664),\n",
       "   ('gift', 0.0042091701),\n",
       "   ('enjoy', 0.004115941),\n",
       "   ('child', 0.0040523806),\n",
       "   ('doe', 0.0039147707),\n",
       "   ('plastic', 0.0038429387),\n",
       "   ('get', 0.0038094779),\n",
       "   ('expect', 0.0037822993),\n",
       "   ('day', 0.0037613628),\n",
       "   ('even', 0.0036679318),\n",
       "   ('sound', 0.0035653899),\n",
       "   ('littl', 0.0035082519),\n",
       "   ('would', 0.0034621547),\n",
       "   ('purchas', 0.0034358811),\n",
       "   ('receiv', 0.003430503),\n",
       "   ('size', 0.0033522886),\n",
       "   ('realli', 0.0033485403),\n",
       "   ('got', 0.0032992831),\n",
       "   ('look', 0.0032857445),\n",
       "   ('materi', 0.0032806206),\n",
       "   ('well', 0.0031917149),\n",
       "   ('poor', 0.003150071),\n",
       "   ('miss', 0.0031372125),\n",
       "   ('daughter', 0.0030807164),\n",
       "   ('deliv', 0.003069049),\n",
       "   ('provid', 0.0030362294),\n",
       "   ('n', 0.0028651389),\n",
       "   ('set', 0.0028471665),\n",
       "   ('broken', 0.0028276159),\n",
       "   ('happi', 0.0027868666),\n",
       "   ('low', 0.0027500093),\n",
       "   ('fit', 0.0027322359),\n",
       "   ('proper', 0.0027214258),\n",
       "   ('differ', 0.002713185),\n",
       "   ('babi', 0.0026706324),\n",
       "   ('shown', 0.0026680008),\n",
       "   ('packag', 0.0025949103),\n",
       "   ('better', 0.002527538),\n",
       "   ('keep', 0.0024735807),\n",
       "   ('screw', 0.002456411),\n",
       "   ('recommend', 0.002443783),\n",
       "   ('go', 0.0024387199),\n",
       "   ('cost', 0.0024287039),\n",
       "   ('much', 0.0024262986),\n",
       "   ('pack', 0.0023977144),\n",
       "   ('wast', 0.002395072),\n",
       "   ('children', 0.0023603362),\n",
       "   ('wheel', 0.0023555232),\n",
       "   ('given', 0.0023279558),\n",
       "   ('ani', 0.0023164735),\n",
       "   ('pictur', 0.0022728241),\n",
       "   ('ok', 0.0022423603),\n",
       "   ('need', 0.0022325844),\n",
       "   ('box', 0.0022207652),\n",
       "   ('colour', 0.0022138294),\n",
       "   ('valu', 0.0021330903),\n",
       "   ('clay', 0.0021071329),\n",
       "   ('cheap', 0.002041308),\n",
       "   ('batteri', 0.002040074),\n",
       "   ('could', 0.0020283936),\n",
       "   ('order', 0.0019986408),\n",
       "   ('month', 0.0019835453),\n",
       "   ('bit', 0.0019729177),\n",
       "   ('problem', 0.0019627786),\n",
       "   ('replac', 0.0019212075),\n",
       "   ('help', 0.0019080668),\n",
       "   ('hard', 0.001901669)]),\n",
       " (8,\n",
       "  [('assembl', 0.02174983),\n",
       "   ('qualiti', 0.020327531),\n",
       "   (\"n't\", 0.015300483),\n",
       "   ('kid', 0.014284551),\n",
       "   ('product', 0.011382028),\n",
       "   ('costum', 0.011139571),\n",
       "   ('veri', 0.0097652767),\n",
       "   ('price', 0.0094184736),\n",
       "   ('get', 0.0088288449),\n",
       "   ('bicycl', 0.008728453),\n",
       "   ('give', 0.0081954766),\n",
       "   ('one', 0.0081508225),\n",
       "   ('okay', 0.0081318049),\n",
       "   ('star', 0.0076151211),\n",
       "   ('even', 0.0071259839),\n",
       "   ('cycl', 0.0068580871),\n",
       "   ('use', 0.0068386444),\n",
       "   ('could', 0.0061957971),\n",
       "   ('part', 0.0060773012),\n",
       "   ('buy', 0.0060627763),\n",
       "   ('wheel', 0.0058817929),\n",
       "   ('would', 0.0051823724),\n",
       "   ('easili', 0.0050604772),\n",
       "   ('like', 0.0049410071),\n",
       "   ('us', 0.0048026079),\n",
       "   ('befor', 0.0046590092),\n",
       "   ('nice', 0.004551874),\n",
       "   ('seat', 0.0043213521),\n",
       "   ('instruct', 0.0042262734),\n",
       "   ('fragil', 0.0041528605),\n",
       "   ('good', 0.0040985886),\n",
       "   ('also', 0.0040608458),\n",
       "   ('miss', 0.0040562414),\n",
       "   ('stitch', 0.0039582313),\n",
       "   ('manual', 0.0039564455),\n",
       "   ('pedal', 0.0039060886),\n",
       "   ('handl', 0.0039007731),\n",
       "   ('though', 0.0037351374),\n",
       "   ('thing', 0.0036349825),\n",
       "   ('ok', 0.0035973093),\n",
       "   ('expect', 0.0035938332),\n",
       "   ('month', 0.0035258438),\n",
       "   ('year', 0.0035105983),\n",
       "   ('tool', 0.0034860908),\n",
       "   ('poor', 0.0034695792),\n",
       "   ('face', 0.0033230588),\n",
       "   ('place', 0.0030693156),\n",
       "   ('fit', 0.0030107524),\n",
       "   ('fabric', 0.0029812094),\n",
       "   ('bear', 0.0029738436),\n",
       "   ('quit', 0.0029527356),\n",
       "   ('abus', 0.0029416466),\n",
       "   ('perspect', 0.0029416413),\n",
       "   ('torn', 0.0029301746),\n",
       "   ('day', 0.0029101335),\n",
       "   ('worth', 0.0029013185),\n",
       "   ('eye', 0.0028361154),\n",
       "   ('send', 0.0028332095),\n",
       "   ('detail', 0.0027633612),\n",
       "   ('due', 0.0027237593),\n",
       "   ('arriv', 0.0026543222),\n",
       "   ('return', 0.0026261786),\n",
       "   ('need', 0.0025600214),\n",
       "   ('becaus', 0.0025585163),\n",
       "   ('ball', 0.0024594218),\n",
       "   ('becom', 0.0024594187),\n",
       "   ('mask', 0.0024593899),\n",
       "   ('left', 0.0024153839),\n",
       "   ('avail', 0.0023010201),\n",
       "   ('ani', 0.0022729274),\n",
       "   ('better', 0.0022629579),\n",
       "   ('littl', 0.0022486006),\n",
       "   ('mani', 0.0022327937),\n",
       "   ('group', 0.0022068513),\n",
       "   ('pic', 0.0021925203),\n",
       "   ('felt', 0.002180313),\n",
       "   ('doe', 0.0021697667),\n",
       "   ('option', 0.0021662323),\n",
       "   ('print', 0.0021622996),\n",
       "   ('fade', 0.0021604071),\n",
       "   ('happi', 0.0021601852),\n",
       "   ('think', 0.0021384018),\n",
       "   ('back', 0.0021336137),\n",
       "   ('broken', 0.0021255251),\n",
       "   ('rod', 0.0021140957),\n",
       "   ('bought', 0.0021072614),\n",
       "   ('tri', 0.0020992663),\n",
       "   ('fix', 0.0020986099),\n",
       "   ('damag', 0.0020620022),\n",
       "   ('thin', 0.0020440866),\n",
       "   ('fall', 0.0020027952),\n",
       "   ('look', 0.001984346),\n",
       "   ('machin', 0.0019771759),\n",
       "   ('atleast', 0.0019771731),\n",
       "   ('finest', 0.0019771629),\n",
       "   ('went', 0.0019771333),\n",
       "   ('onlin', 0.0019758106),\n",
       "   ('size', 0.0019753959),\n",
       "   ('design', 0.0019694248),\n",
       "   ('age', 0.0019684441)]),\n",
       " (9,\n",
       "  [('product', 0.036128744),\n",
       "   ('veri', 0.023720944),\n",
       "   ('good', 0.022897862),\n",
       "   ('qualiti', 0.018664323),\n",
       "   (\"n't\", 0.016912185),\n",
       "   ('spin', 0.015574842),\n",
       "   (\"'s\", 0.013546772),\n",
       "   ('buy', 0.01237671),\n",
       "   ('spinner', 0.012246094),\n",
       "   ('one', 0.010756241),\n",
       "   ('like', 0.0098893829),\n",
       "   ('time', 0.0098822648),\n",
       "   ('nice', 0.0092743896),\n",
       "   ('look', 0.0079905465),\n",
       "   ('price', 0.00718161),\n",
       "   ('use', 0.0061487816),\n",
       "   ('bad', 0.0061216913),\n",
       "   ('money', 0.006014673),\n",
       "   ('order', 0.005962031),\n",
       "   ('fidget', 0.0051504541),\n",
       "   ('got', 0.0050674607),\n",
       "   ('shown', 0.0050275759),\n",
       "   ('min', 0.0049784095),\n",
       "   ('doe', 0.0049557621),\n",
       "   ('receiv', 0.004784524),\n",
       "   ('return', 0.004516412),\n",
       "   ('pictur', 0.0044759894),\n",
       "   ('small', 0.0044084927),\n",
       "   ('even', 0.0042351084),\n",
       "   ('rotat', 0.0041812444),\n",
       "   ('smooth', 0.0041100243),\n",
       "   ('day', 0.004100549),\n",
       "   ('cheap', 0.00408014),\n",
       "   ('get', 0.0039513297),\n",
       "   ('onli', 0.0039375289),\n",
       "   ('also', 0.0038738288),\n",
       "   ('love', 0.003863265),\n",
       "   ('u', 0.0037865101),\n",
       "   ('bear', 0.0037687968),\n",
       "   ('littl', 0.0037456048),\n",
       "   ('minut', 0.0037024426),\n",
       "   ('thing', 0.0036268288),\n",
       "   ('well', 0.0036164718),\n",
       "   ('give', 0.0036102966),\n",
       "   ('wast', 0.0035895088),\n",
       "   ('happi', 0.0034153184),\n",
       "   ('differ', 0.0032932488),\n",
       "   ('disappoint', 0.0032665231),\n",
       "   ('metal', 0.0032057194),\n",
       "   ('wheel', 0.0031923782),\n",
       "   ('kid', 0.0029770611),\n",
       "   ('sound', 0.0029485573),\n",
       "   ('worth', 0.0029414012),\n",
       "   ('toy', 0.0028795062),\n",
       "   ('bit', 0.0028733618),\n",
       "   ('realli', 0.0028574408),\n",
       "   ('star', 0.002843061),\n",
       "   ('pull', 0.0028238036),\n",
       "   ('go', 0.0027600222),\n",
       "   ('play', 0.0027549374),\n",
       "   ('second', 0.0027359596),\n",
       "   ('piec', 0.0027293395),\n",
       "   ('came', 0.0027257749),\n",
       "   ('colour', 0.0027257241),\n",
       "   ('work', 0.0026248761),\n",
       "   ('would', 0.0025673755),\n",
       "   ('light', 0.0025327366),\n",
       "   ('hand', 0.0025178709),\n",
       "   ('made', 0.0024922683),\n",
       "   ('total', 0.0024347887),\n",
       "   ('expect', 0.0024331422),\n",
       "   ('materi', 0.0024098556),\n",
       "   ('son', 0.0023908126),\n",
       "   ('poor', 0.0023836978),\n",
       "   ('without', 0.0023354499),\n",
       "   ('better', 0.0023340588),\n",
       "   ('bike', 0.0023086211),\n",
       "   ('ani', 0.0022607637),\n",
       "   ('damag', 0.0022565085),\n",
       "   ('scratch', 0.0022438045),\n",
       "   ('month', 0.0021789239),\n",
       "   ('stop', 0.0021510003),\n",
       "   ('recommend', 0.0021319657),\n",
       "   ('high', 0.002098493),\n",
       "   ('amazon', 0.0020959647),\n",
       "   ('first', 0.0020627922),\n",
       "   ('awesom', 0.0019922028),\n",
       "   ('fall', 0.0019830873),\n",
       "   ('becaus', 0.0019823911),\n",
       "   ('around', 0.0019025789),\n",
       "   ('long', 0.0019021395),\n",
       "   ('quit', 0.0018740919),\n",
       "   ('great', 0.0018559271),\n",
       "   ('complet', 0.0018349161),\n",
       "   ('see', 0.0018345034),\n",
       "   ('amaz', 0.0018149657),\n",
       "   ('feel', 0.0018148137),\n",
       "   ('ride', 0.0017896167),\n",
       "   ('best', 0.0017756835),\n",
       "   ('finish', 0.0017559876)])]"
      ]
     },
     "execution_count": 48,
     "metadata": {},
     "output_type": "execute_result"
    }
   ],
   "source": [
    "topics_matrix"
   ]
  },
  {
   "cell_type": "code",
   "execution_count": 49,
   "metadata": {
    "collapsed": true,
    "scrolled": false
   },
   "outputs": [],
   "source": [
    "A =[] \n",
    "for item in topics_matrix:\n",
    "    a =[item[1]]\n",
    "    A +=a"
   ]
  },
  {
   "cell_type": "code",
   "execution_count": 50,
   "metadata": {},
   "outputs": [
    {
     "data": {
      "text/plain": [
       "array([[['cube', '0.0408547'],\n",
       "        ['good', '0.032116'],\n",
       "        ['veri', '0.0167242'],\n",
       "        ..., \n",
       "        ['two', '0.00161224'],\n",
       "        ['brand', '0.00157852'],\n",
       "        ['start', '0.00157515']],\n",
       "\n",
       "       [['kid', '0.0408585'],\n",
       "        ['learn', '0.0174349'],\n",
       "        [\"'s\", '0.0165474'],\n",
       "        ..., \n",
       "        ['wonder', '0.00213031'],\n",
       "        ['excel', '0.0021024'],\n",
       "        ['even', '0.0020942']],\n",
       "\n",
       "       [['good', '0.0467675'],\n",
       "        ['product', '0.0440377'],\n",
       "        ['qualiti', '0.0364117'],\n",
       "        ..., \n",
       "        ['come', '0.0017177'],\n",
       "        ['bought', '0.00171562'],\n",
       "        ['beauti', '0.00171062']],\n",
       "\n",
       "       ..., \n",
       "       [['product', '0.0477923'],\n",
       "        ['good', '0.0334774'],\n",
       "        ['qualiti', '0.0228619'],\n",
       "        ..., \n",
       "        ['replac', '0.00192121'],\n",
       "        ['help', '0.00190807'],\n",
       "        ['hard', '0.00190167']],\n",
       "\n",
       "       [['assembl', '0.0217498'],\n",
       "        ['qualiti', '0.0203275'],\n",
       "        [\"n't\", '0.0153005'],\n",
       "        ..., \n",
       "        ['size', '0.0019754'],\n",
       "        ['design', '0.00196942'],\n",
       "        ['age', '0.00196844']],\n",
       "\n",
       "       [['product', '0.0361287'],\n",
       "        ['veri', '0.0237209'],\n",
       "        ['good', '0.0228979'],\n",
       "        ..., \n",
       "        ['ride', '0.00178962'],\n",
       "        ['best', '0.00177568'],\n",
       "        ['finish', '0.00175599']]],\n",
       "      dtype='<U10')"
      ]
     },
     "execution_count": 50,
     "metadata": {},
     "output_type": "execute_result"
    }
   ],
   "source": [
    "TM = np.array(A)\n",
    "TM"
   ]
  },
  {
   "cell_type": "code",
   "execution_count": 51,
   "metadata": {
    "collapsed": true
   },
   "outputs": [],
   "source": [
    "voc = open('../vocab_US.txt').read().split('\\t')\n",
    "voc = set(voc)"
   ]
  },
  {
   "cell_type": "code",
   "execution_count": 52,
   "metadata": {},
   "outputs": [
    {
     "data": {
      "text/plain": [
       "[['great',\n",
       "  'speed',\n",
       "  'best',\n",
       "  'fast',\n",
       "  'love',\n",
       "  'expect',\n",
       "  'plastic',\n",
       "  'perfect',\n",
       "  'cheap',\n",
       "  'time',\n",
       "  'brand'],\n",
       " ['love', 'time', 'fun', 'great', 'best', 'design'],\n",
       " ['love',\n",
       "  'small',\n",
       "  'size',\n",
       "  'expect',\n",
       "  'happi',\n",
       "  'receiv',\n",
       "  'great',\n",
       "  'big',\n",
       "  'plastic',\n",
       "  'perfect',\n",
       "  'time'],\n",
       " ['time',\n",
       "  'love',\n",
       "  'great',\n",
       "  'happi',\n",
       "  'size',\n",
       "  'expect',\n",
       "  'perfect',\n",
       "  'small',\n",
       "  'fun',\n",
       "  'receiv',\n",
       "  'cheap'],\n",
       " ['plastic',\n",
       "  'love',\n",
       "  'best',\n",
       "  'great',\n",
       "  'big',\n",
       "  'seller',\n",
       "  'perfect',\n",
       "  'happi',\n",
       "  'expect',\n",
       "  'brand'],\n",
       " ['time', 'size', 'fun', 'small', 'expect', 'perfect', 'soon', 'hit', 'love'],\n",
       " ['perfect',\n",
       "  'design',\n",
       "  'best',\n",
       "  'time',\n",
       "  'detail',\n",
       "  'review',\n",
       "  'size',\n",
       "  'love',\n",
       "  'great',\n",
       "  'rough'],\n",
       " ['love',\n",
       "  'small',\n",
       "  'time',\n",
       "  'plastic',\n",
       "  'expect',\n",
       "  'receiv',\n",
       "  'size',\n",
       "  'happi',\n",
       "  'cheap'],\n",
       " ['expect', 'detail', 'happi', 'size', 'design'],\n",
       " ['time',\n",
       "  'receiv',\n",
       "  'small',\n",
       "  'cheap',\n",
       "  'love',\n",
       "  'happi',\n",
       "  'expect',\n",
       "  'great',\n",
       "  'best']]"
      ]
     },
     "execution_count": 52,
     "metadata": {},
     "output_type": "execute_result"
    }
   ],
   "source": [
    "topic_words = TM[:,:,0]\n",
    "voc_list =[]\n",
    "for i in topic_words:\n",
    "    a = [str(word) for word in i if str(word) in voc]\n",
    "    voc_list += [a]\n",
    "voc_list"
   ]
  },
  {
   "cell_type": "code",
   "execution_count": null,
   "metadata": {
    "collapsed": true
   },
   "outputs": [],
   "source": [
    "#title\n",
    "asins = open('../US_20171130/pre/ASIN.csv').read().split('\\n')\n",
    "ASINs=[]\n",
    "for item in asins:\n",
    "    a = item.split(',')\n",
    "    ASINs += a\n",
    "len(ASINs)"
   ]
  },
  {
   "cell_type": "code",
   "execution_count": 5,
   "metadata": {},
   "outputs": [],
   "source": [
    "dic = []\n",
    "US = open('../US.txt').read().split(',')\n",
    "IN = open('../IN.txt').read().split(',')  \n",
    "UK = open('../UK.txt').read().split(',')  \n",
    "dic += US\n",
    "dic += IN\n",
    "dic += UK\n",
    "dic = set(dic)"
   ]
  },
  {
   "cell_type": "code",
   "execution_count": 3,
   "metadata": {},
   "outputs": [
    {
     "data": {
      "text/plain": [
       "\"{'laura'\""
      ]
     },
     "execution_count": 3,
     "metadata": {},
     "output_type": "execute_result"
    }
   ],
   "source": [
    "with open"
   ]
  },
  {
   "cell_type": "code",
   "execution_count": null,
   "metadata": {
    "collapsed": true
   },
   "outputs": [],
   "source": []
  }
 ],
 "metadata": {
  "kernelspec": {
   "display_name": "Python 3",
   "language": "python",
   "name": "python3"
  },
  "language_info": {
   "codemirror_mode": {
    "name": "ipython",
    "version": 3
   },
   "file_extension": ".py",
   "mimetype": "text/x-python",
   "name": "python",
   "nbconvert_exporter": "python",
   "pygments_lexer": "ipython3",
   "version": "3.6.1"
  }
 },
 "nbformat": 4,
 "nbformat_minor": 2
}
