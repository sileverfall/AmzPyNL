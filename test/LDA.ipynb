{
 "cells": [
  {
   "cell_type": "markdown",
   "metadata": {},
   "source": [
    "## 範本"
   ]
  },
  {
   "cell_type": "code",
   "execution_count": null,
   "metadata": {
    "collapsed": true
   },
   "outputs": [],
   "source": [
    "#导入要用到的模块\n",
    "import numpy as np\n",
    "import pandas as pd\n",
    "import nltk\n",
    "import re\n",
    "from bs4 import BeautifulSoup\n",
    "from sklearn import feature_extraction"
   ]
  },
  {
   "cell_type": "code",
   "execution_count": null,
   "metadata": {
    "collapsed": true
   },
   "outputs": [],
   "source": [
    "#分词\n",
    "import string\n",
    "def strip_proppers(text):\n",
    "    # first tokenize by sentence, then by word to ensure that punctuation is caught as it's own token\n",
    "    tokens = [word for sent in nltk.sent_tokenize(text) for word in nltk.word_tokenize(sent) if word.islower()]\n",
    "    return \"\".join([\" \"+i if not i.startswith(\"'\") and i not in string.punctuation else i for i in tokens]).strip()"
   ]
  },
  {
   "cell_type": "code",
   "execution_count": null,
   "metadata": {
    "collapsed": true
   },
   "outputs": [],
   "source": [
    "#文本准备\n",
    "from gensim import corpora, models, similarities\n",
    "\n",
    "#remove proper names\n",
    "preprocess = [strip_proppers(doc) for doc in synopses]\n",
    "\n",
    "tokenized_text = [tokenize_and_stem(text) for text in preprocess]\n",
    "\n",
    "texts = [[word for word in text if word not in stopwords] for text in tokenized_text]"
   ]
  },
  {
   "cell_type": "code",
   "execution_count": null,
   "metadata": {
    "collapsed": true
   },
   "outputs": [],
   "source": [
    "#词典和语料库准备\n",
    "dictionary = corpora.Dictionary(texts) #构造词典\n",
    "dictionary.filter_extremes(no_below=1, no_above=0.8)#去高频词\n",
    "\n",
    "corpus = [dictionary.doc2bow(text) for text in texts] #构造语料库"
   ]
  },
  {
   "cell_type": "code",
   "execution_count": null,
   "metadata": {
    "collapsed": true
   },
   "outputs": [],
   "source": [
    "len(corpus)"
   ]
  },
  {
   "cell_type": "code",
   "execution_count": null,
   "metadata": {
    "collapsed": true
   },
   "outputs": [],
   "source": [
    "#训练一个LDA模型\n",
    "%time lda = models.LdaModel(corpus, num_topics=5, id2word=dictionary, update_every=5, chunksize=10000, passes=100)"
   ]
  },
  {
   "cell_type": "code",
   "execution_count": null,
   "metadata": {
    "collapsed": true
   },
   "outputs": [],
   "source": [
    "print(lda[corpus[0]])#打印第一个文档的主题建模结果"
   ]
  },
  {
   "cell_type": "code",
   "execution_count": null,
   "metadata": {
    "collapsed": true
   },
   "outputs": [],
   "source": [
    "topics = lda.print_topics(5, num_words=20)#结果中的主题"
   ]
  },
  {
   "cell_type": "code",
   "execution_count": null,
   "metadata": {
    "collapsed": true
   },
   "outputs": [],
   "source": [
    "topics_matrix = lda.show_topics(formatted=False, num_words=20)"
   ]
  },
  {
   "cell_type": "code",
   "execution_count": null,
   "metadata": {
    "collapsed": true
   },
   "outputs": [],
   "source": [
    "topics_matrix = np.array(topics_matrix)"
   ]
  },
  {
   "cell_type": "code",
   "execution_count": null,
   "metadata": {
    "collapsed": true
   },
   "outputs": [],
   "source": [
    "topics_matrix #主题矩阵"
   ]
  },
  {
   "cell_type": "markdown",
   "metadata": {},
   "source": [
    "## 練習"
   ]
  },
  {
   "cell_type": "code",
   "execution_count": 5,
   "metadata": {},
   "outputs": [
    {
     "name": "stdout",
     "output_type": "stream",
     "text": [
      "type(X): <class 'numpy.ndarray'>\n",
      "shape: (395, 4258)\n",
      "\n",
      "[[ 1  0  1  0  0]\n",
      " [ 7  0  2  0  0]\n",
      " [ 0  0  0  1 10]\n",
      " [ 6  0  1  0  0]\n",
      " [ 0  0  0  2 14]]\n",
      "type(vocab): <class 'tuple'>\n",
      "len(vocab): 4258\n",
      "\n",
      "('church', 'pope', 'years', 'people', 'mother')\n",
      "type(titles): <class 'tuple'>\n",
      "len(titles): 395\n",
      "\n",
      "('0 UK: Prince Charles spearheads British royal revolution. LONDON 1996-08-20', '1 GERMANY: Historic Dresden church rising from WW2 ashes. DRESDEN, Germany 1996-08-21', \"2 INDIA: Mother Teresa's condition said still unstable. CALCUTTA 1996-08-23\", '3 UK: Palace warns British weekly over Charles pictures. LONDON 1996-08-25', '4 INDIA: Mother Teresa, slightly stronger, blesses nuns. CALCUTTA 1996-08-25')\n"
     ]
    }
   ],
   "source": [
    "import numpy as np  \n",
    "import lda\n",
    "import lda.datasets  \n",
    "  \n",
    "# document-term matrix  \n",
    "X = lda.datasets.load_reuters()  \n",
    "print(\"type(X): {}\".format(type(X)))  \n",
    "print(\"shape: {}\\n\".format(X.shape)) #共395个文档，4258个单词  \n",
    "print(X[:5, :5])  \n",
    "  \n",
    "# the vocab  \n",
    "vocab = lda.datasets.load_reuters_vocab()  \n",
    "print(\"type(vocab): {}\".format(type(vocab)))  \n",
    "print(\"len(vocab): {}\\n\".format(len(vocab)))  \n",
    "print(vocab[:5])  \n",
    "  \n",
    "# titles for each story  \n",
    "titles = lda.datasets.load_reuters_titles()  \n",
    "print(\"type(titles): {}\".format(type(titles)))  \n",
    "print(\"len(titles): {}\\n\".format(len(titles)))  \n",
    "print(titles[:5])  #0~4篇文章标题如下"
   ]
  },
  {
   "cell_type": "code",
   "execution_count": 6,
   "metadata": {},
   "outputs": [
    {
     "name": "stdout",
     "output_type": "stream",
     "text": [
      "doc id: 0 word id: 3117\n",
      "-- count: 2\n",
      "-- word : heir-to-the-throne\n",
      "-- doc  : 0 UK: Prince Charles spearheads British royal revolution. LONDON 1996-08-20\n"
     ]
    }
   ],
   "source": [
    "doc_id = 0  #文档\n",
    "word_id = 3117  #單詞\n",
    "print(\"doc id: {} word id: {}\".format(doc_id, word_id))  \n",
    "print(\"-- count: {}\".format(X[doc_id, word_id]))  \n",
    "print(\"-- word : {}\".format(vocab[word_id]))  \n",
    "print(\"-- doc  : {}\".format(titles[doc_id]))  "
   ]
  },
  {
   "cell_type": "code",
   "execution_count": 7,
   "metadata": {},
   "outputs": [
    {
     "name": "stderr",
     "output_type": "stream",
     "text": [
      "INFO:lda:n_documents: 395\n",
      "INFO:lda:vocab_size: 4258\n",
      "INFO:lda:n_words: 84010\n",
      "INFO:lda:n_topics: 20\n",
      "INFO:lda:n_iter: 500\n",
      "INFO:lda:<0> log likelihood: -1051748\n",
      "INFO:lda:<10> log likelihood: -719800\n",
      "INFO:lda:<20> log likelihood: -699115\n",
      "INFO:lda:<30> log likelihood: -689370\n",
      "INFO:lda:<40> log likelihood: -684918\n",
      "INFO:lda:<50> log likelihood: -681322\n",
      "INFO:lda:<60> log likelihood: -678979\n",
      "INFO:lda:<70> log likelihood: -676598\n",
      "INFO:lda:<80> log likelihood: -675383\n",
      "INFO:lda:<90> log likelihood: -673316\n",
      "INFO:lda:<100> log likelihood: -672761\n",
      "INFO:lda:<110> log likelihood: -671320\n",
      "INFO:lda:<120> log likelihood: -669744\n",
      "INFO:lda:<130> log likelihood: -669292\n",
      "INFO:lda:<140> log likelihood: -667940\n",
      "INFO:lda:<150> log likelihood: -668038\n",
      "INFO:lda:<160> log likelihood: -667429\n",
      "INFO:lda:<170> log likelihood: -666475\n",
      "INFO:lda:<180> log likelihood: -665562\n",
      "INFO:lda:<190> log likelihood: -664920\n",
      "INFO:lda:<200> log likelihood: -664979\n",
      "INFO:lda:<210> log likelihood: -664722\n",
      "INFO:lda:<220> log likelihood: -664459\n",
      "INFO:lda:<230> log likelihood: -664360\n",
      "INFO:lda:<240> log likelihood: -663600\n",
      "INFO:lda:<250> log likelihood: -664164\n",
      "INFO:lda:<260> log likelihood: -663826\n",
      "INFO:lda:<270> log likelihood: -663458\n",
      "INFO:lda:<280> log likelihood: -663393\n",
      "INFO:lda:<290> log likelihood: -662904\n",
      "INFO:lda:<300> log likelihood: -662294\n",
      "INFO:lda:<310> log likelihood: -662031\n",
      "INFO:lda:<320> log likelihood: -662430\n",
      "INFO:lda:<330> log likelihood: -661601\n",
      "INFO:lda:<340> log likelihood: -662108\n",
      "INFO:lda:<350> log likelihood: -662152\n",
      "INFO:lda:<360> log likelihood: -661899\n",
      "INFO:lda:<370> log likelihood: -661012\n",
      "INFO:lda:<380> log likelihood: -661278\n",
      "INFO:lda:<390> log likelihood: -661085\n",
      "INFO:lda:<400> log likelihood: -660418\n",
      "INFO:lda:<410> log likelihood: -660510\n",
      "INFO:lda:<420> log likelihood: -660343\n",
      "INFO:lda:<430> log likelihood: -659789\n",
      "INFO:lda:<440> log likelihood: -659336\n",
      "INFO:lda:<450> log likelihood: -659039\n",
      "INFO:lda:<460> log likelihood: -659329\n",
      "INFO:lda:<470> log likelihood: -658707\n",
      "INFO:lda:<480> log likelihood: -658879\n",
      "INFO:lda:<490> log likelihood: -658819\n",
      "INFO:lda:<499> log likelihood: -658407\n"
     ]
    },
    {
     "data": {
      "text/plain": [
       "<lda.lda.LDA at 0x10e533588>"
      ]
     },
     "execution_count": 7,
     "metadata": {},
     "output_type": "execute_result"
    }
   ],
   "source": [
    "#20個主題，500次迭代\n",
    "model = lda.LDA(n_topics=20, n_iter=500, random_state=1)  \n",
    "model.fit(X) "
   ]
  },
  {
   "cell_type": "code",
   "execution_count": 8,
   "metadata": {},
   "outputs": [
    {
     "name": "stdout",
     "output_type": "stream",
     "text": [
      "type(topic_word): <class 'numpy.ndarray'>\n",
      "shape: (20, 4258)\n",
      "('church', 'pope', 'years')\n",
      "[[  2.72436509e-06   2.72436509e-06   2.72708945e-03]\n",
      " [  2.29518860e-02   1.08771556e-06   7.83263973e-03]\n",
      " [  3.97404221e-03   4.96135108e-06   2.98177200e-03]\n",
      " [  3.27374625e-03   2.72585033e-06   2.72585033e-06]\n",
      " [  8.26262882e-03   8.56893407e-02   1.61980569e-06]\n",
      " [  1.30107788e-02   2.95632328e-06   2.95632328e-06]\n",
      " [  2.80145003e-06   2.80145003e-06   2.80145003e-06]\n",
      " [  2.42858077e-02   4.66944966e-06   4.66944966e-06]\n",
      " [  6.84655429e-03   1.90129250e-06   6.84655429e-03]\n",
      " [  3.48361655e-06   3.48361655e-06   3.48361655e-06]\n",
      " [  2.98781661e-03   3.31611166e-06   3.31611166e-06]\n",
      " [  4.27062069e-06   4.27062069e-06   4.27062069e-06]\n",
      " [  1.50994982e-02   1.64107142e-06   1.64107142e-06]\n",
      " [  7.73480150e-07   7.73480150e-07   1.70946848e-02]\n",
      " [  2.82280146e-06   2.82280146e-06   2.82280146e-06]\n",
      " [  5.15309856e-06   5.15309856e-06   4.64294180e-03]\n",
      " [  3.41695768e-06   3.41695768e-06   3.41695768e-06]\n",
      " [  3.90980357e-02   1.70316633e-03   4.42279319e-03]\n",
      " [  2.39373034e-06   2.39373034e-06   2.39373034e-06]\n",
      " [  3.32493234e-06   3.32493234e-06   3.32493234e-06]]\n",
      "topic: 0 sum: 1.0000000000000875\n",
      "topic: 1 sum: 1.0000000000001148\n",
      "topic: 2 sum: 0.9999999999998656\n",
      "topic: 3 sum: 1.0000000000000042\n",
      "topic: 4 sum: 1.0000000000000928\n"
     ]
    }
   ],
   "source": [
    "#计算'church', 'pope', 'years'这三个单词在各个主题(n_topocs=20，共20个主题)中的比重，同时输出前5个主题的比重和，其值均为1。\n",
    "topic_word = model.topic_word_  \n",
    "print(\"type(topic_word): {}\".format(type(topic_word)))  \n",
    "print(\"shape: {}\".format(topic_word.shape))  \n",
    "print(vocab[:3])  \n",
    "print(topic_word[:, :3])  \n",
    "  \n",
    "for n in range(5):  \n",
    "    sum_pr = sum(topic_word[n,:])  \n",
    "    print(\"topic: {} sum: {}\".format(n, sum_pr))  "
   ]
  },
  {
   "cell_type": "code",
   "execution_count": 9,
   "metadata": {},
   "outputs": [
    {
     "name": "stdout",
     "output_type": "stream",
     "text": [
      "*Topic 0\n",
      "- government british minister west group\n",
      "*Topic 1\n",
      "- church first during people political\n",
      "*Topic 2\n",
      "- elvis king wright fans presley\n",
      "*Topic 3\n",
      "- yeltsin russian russia president kremlin\n",
      "*Topic 4\n",
      "- pope vatican paul surgery pontiff\n",
      "*Topic 5\n",
      "- family police miami versace cunanan\n",
      "*Topic 6\n",
      "- south simpson born york white\n",
      "*Topic 7\n",
      "- order church mother successor since\n",
      "*Topic 8\n",
      "- charles prince diana royal queen\n",
      "*Topic 9\n",
      "- film france french against actor\n",
      "*Topic 10\n",
      "- germany german war nazi christian\n",
      "*Topic 11\n",
      "- east prize peace timor quebec\n",
      "*Topic 12\n",
      "- n't told life people church\n",
      "*Topic 13\n",
      "- years world time year last\n",
      "*Topic 14\n",
      "- mother teresa heart charity calcutta\n",
      "*Topic 15\n",
      "- city salonika exhibition buddhist byzantine\n",
      "*Topic 16\n",
      "- music first people tour including\n",
      "*Topic 17\n",
      "- church catholic bernardin cardinal bishop\n",
      "*Topic 18\n",
      "- harriman clinton u.s churchill paris\n",
      "*Topic 19\n",
      "- century art million museum city\n"
     ]
    }
   ],
   "source": [
    "#计算每个主题中的前5个单词\n",
    "n = 5  \n",
    "for i, topic_dist in enumerate(topic_word):  \n",
    "    topic_words = np.array(vocab)[np.argsort(topic_dist)][:-(n+1):-1]  \n",
    "    print('*Topic {}\\n- {}'.format(i, ' '.join(topic_words)))  "
   ]
  },
  {
   "cell_type": "code",
   "execution_count": 10,
   "metadata": {},
   "outputs": [
    {
     "name": "stdout",
     "output_type": "stream",
     "text": [
      "type(doc_topic): <class 'numpy.ndarray'>\n",
      "shape: (395, 20)\n",
      "doc: 0 topic: 8\n",
      "doc: 1 topic: 1\n",
      "doc: 2 topic: 14\n",
      "doc: 3 topic: 8\n",
      "doc: 4 topic: 14\n",
      "doc: 5 topic: 14\n",
      "doc: 6 topic: 14\n",
      "doc: 7 topic: 14\n",
      "doc: 8 topic: 14\n",
      "doc: 9 topic: 8\n"
     ]
    }
   ],
   "source": [
    "#计算输入前10篇文章最可能的Topic\n",
    "doc_topic = model.doc_topic_  \n",
    "print(\"type(doc_topic): {}\".format(type(doc_topic)))  \n",
    "print(\"shape: {}\".format(doc_topic.shape))  \n",
    "for n in range(10):  \n",
    "    topic_most_pr = doc_topic[n].argmax()  \n",
    "    print(\"doc: {} topic: {}\".format(n, topic_most_pr))  "
   ]
  },
  {
   "cell_type": "code",
   "execution_count": 11,
   "metadata": {},
   "outputs": [
    {
     "data": {
      "image/png": "[encoded data removed]",
      "text/plain": [
       "<matplotlib.figure.Figure at 0x10e5335c0>"
      ]
     },
     "metadata": {},
     "output_type": "display_data"
    }
   ],
   "source": [
    "#计算各个主题中单词权重分布的情况\n",
    "import matplotlib.pyplot as plt  \n",
    "f, ax= plt.subplots(5, 1, figsize=(8, 6), sharex=True)  \n",
    "for i, k in enumerate([0, 5, 9, 14, 19]):  \n",
    "    ax[i].stem(topic_word[k,:], linefmt='b-',  \n",
    "               markerfmt='bo', basefmt='w-')  \n",
    "    ax[i].set_xlim(-50,4350)  \n",
    "    ax[i].set_ylim(0, 0.08)  \n",
    "    ax[i].set_ylabel(\"Prob\")  \n",
    "    ax[i].set_title(\"topic {}\".format(k))  \n",
    "  \n",
    "ax[4].set_xlabel(\"word\")  \n",
    "  \n",
    "plt.tight_layout()  \n",
    "plt.show()  "
   ]
  },
  {
   "cell_type": "code",
   "execution_count": 13,
   "metadata": {},
   "outputs": [
    {
     "data": {
      "image/png": "[encoded data removed]",
      "text/plain": [
       "<matplotlib.figure.Figure at 0x127e86a58>"
      ]
     },
     "metadata": {},
     "output_type": "display_data"
    }
   ],
   "source": [
    "#计算文档具体分布在那个主题\n",
    "import matplotlib.pyplot as plt  \n",
    "f, ax= plt.subplots(5, 1, figsize=(8, 6), sharex=True)  \n",
    "for i, k in enumerate([1, 3, 4, 8, 9]):  \n",
    "    ax[i].stem(doc_topic[k,:], linefmt='r-',  \n",
    "               markerfmt='ro', basefmt='w-')  \n",
    "    ax[i].set_xlim(-1, 21)  \n",
    "    ax[i].set_ylim(0, 1)  \n",
    "    ax[i].set_ylabel(\"Prob\")  \n",
    "    ax[i].set_title(\"Document {}\".format(k))  \n",
    "  \n",
    "ax[4].set_xlabel(\"Topic\")  \n",
    "  \n",
    "plt.tight_layout()  \n",
    "plt.show()  "
   ]
  },
  {
   "cell_type": "code",
   "execution_count": null,
   "metadata": {
    "collapsed": true
   },
   "outputs": [],
   "source": []
  }
 ],
 "metadata": {
  "kernelspec": {
   "display_name": "Python 3",
   "language": "python",
   "name": "python3"
  },
  "language_info": {
   "codemirror_mode": {
    "name": "ipython",
    "version": 3
   },
   "file_extension": ".py",
   "mimetype": "text/x-python",
   "name": "python",
   "nbconvert_exporter": "python",
   "pygments_lexer": "ipython3",
   "version": "3.6.1"
  }
 },
 "nbformat": 4,
 "nbformat_minor": 2
}
