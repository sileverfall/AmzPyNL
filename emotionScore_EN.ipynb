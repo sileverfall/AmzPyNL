{
 "cells": [
  {
   "cell_type": "code",
   "execution_count": 1,
   "metadata": {
    "collapsed": true
   },
   "outputs": [],
   "source": [
    "import numpy as np\n",
    "import time"
   ]
  },
  {
   "cell_type": "code",
   "execution_count": 2,
   "metadata": {
    "collapsed": true
   },
   "outputs": [],
   "source": [
    "#打开词典文件，返回列表\n",
    "def open_dict(Dict = 'hahah', path=r'/Users/Wan_Ning/Desktop/AmzPyNL/dic/'):\n",
    "    path = path + '%s.txt' % Dict\n",
    "    dictionary = open(path, 'r', encoding='utf-8')\n",
    "    dict = []\n",
    "    for word in dictionary:\n",
    "        word = word.strip('\\n')\n",
    "        dict.append(word)\n",
    "    return dict\n",
    "\n",
    "def judgeodd(num):\n",
    "    if (num % 2) == 0:\n",
    "        return 'even'\n",
    "    else:\n",
    "        return 'odd'"
   ]
  },
  {
   "cell_type": "code",
   "execution_count": 3,
   "metadata": {
    "collapsed": true
   },
   "outputs": [],
   "source": [
    "#注意，这里你要修改path路径。\n",
    "deny_word = open_dict(Dict = 'deny_n', path= r'/Users/Wan_Ning/Desktop/AmzPyNL/dic/')\n",
    "posdict = open_dict(Dict = 'PP', path= r'/Users/Wan_Ning/Desktop/AmzPyNL/dic/')\n",
    "negdict = open_dict(Dict = 'NN', path= r'/Users/Wan_Ning/Desktop/AmzPyNL/dic/')\n",
    "\n",
    "degree_word = open_dict(Dict = 'extent', path= r'/Users/Wan_Ning/Desktop/AmzPyNL/dic/')\n",
    "mostdict = degree_word[degree_word.index('|extreme')+1 : degree_word.index('|very')]#权重4，即在情感词前乘以3\n",
    "verydict = degree_word[degree_word.index('|very')+1 : degree_word.index('|more')]#权重3\n",
    "moredict = degree_word[degree_word.index('|more')+1 : degree_word.index('|ish')]#权重2\n",
    "ishdict = degree_word[degree_word.index('|ish')+1 : degree_word.index('|last')]#权重0.5"
   ]
  },
  {
   "cell_type": "code",
   "execution_count": 32,
   "metadata": {},
   "outputs": [],
   "source": [
    "def sentiment_score_list(dataset):\n",
    "    seg_sentence = dataset.split('#')\n",
    "\n",
    "    count1 = []\n",
    "    count2 = []\n",
    "    for sen in seg_sentence: #循环遍历每一个评论\n",
    "        i = 0 #记录扫描到的词的位置\n",
    "        a = 0 #记录情感词的位置\n",
    "        poscount = 0 #积极词的第一次分值\n",
    "        poscount2 = 0 #积极词反转后的分值\n",
    "        poscount3 = 0 #积极词的最后分值（包括叹号的分值）\n",
    "        negcount = 0\n",
    "        negcount2 = 0\n",
    "        negcount3 = 0\n",
    "        for word in sen:\n",
    "            if word in posdict:  # 判断词语是否是情感词\n",
    "                poscount += 1\n",
    "                c = 0\n",
    "                for w in segtmp[a:i]:  # 扫描情感词前的程度词\n",
    "                    if w in mostdict:\n",
    "                        poscount *= 4.0\n",
    "                    elif w in verydict:\n",
    "                        poscount *= 3.0\n",
    "                    elif w in moredict:\n",
    "                        poscount *= 2.0\n",
    "                    elif w in ishdict:\n",
    "                        poscount *= 0.5\n",
    "                    elif w in deny_word:\n",
    "                        c += 1\n",
    "                if judgeodd(c) == 'odd':  # 扫描情感词前的否定词数\n",
    "                    poscount *= -1.0\n",
    "                    poscount2 += poscount\n",
    "                    poscount = 0\n",
    "                    poscount3 = poscount + poscount2 + poscount3\n",
    "                    poscount2 = 0\n",
    "                else:\n",
    "                    poscount3 = poscount + poscount2 + poscount3\n",
    "                    poscount = 0\n",
    "                a = i + 1  # 情感词的位置变化\n",
    "            elif word in negdict:  # 消极情感的分析，与上面一致\n",
    "                negcount += 1\n",
    "                d = 0\n",
    "                for w in segtmp[a:i]:\n",
    "                    if w in mostdict:\n",
    "                        negcount *= 4.0\n",
    "                    elif w in verydict:\n",
    "                        negcount *= 3.0\n",
    "                    elif w in moredict:\n",
    "                        negcount *= 2.0\n",
    "                    elif w in ishdict:\n",
    "                        negcount *= 0.5\n",
    "                    elif w in degree_word:\n",
    "                        d += 1\n",
    "                if judgeodd(d) == 'odd':\n",
    "                    negcount *= -1.0\n",
    "                    negcount2 += negcount\n",
    "                    negcount = 0\n",
    "                    negcount3 = negcount + negcount2 + negcount3\n",
    "                    negcount2 = 0\n",
    "                else:\n",
    "                    negcount3 = negcount + negcount2 + negcount3\n",
    "                    negcount = 0\n",
    "                    break\n",
    "                a = i + 1\n",
    "#                     break\n",
    "#             elif word == '！' or word == '!':  ##判断句子是否有感叹号\n",
    "#                 for w2 in segtmp[::-1]:  # 扫描感叹号前的情感词，发现后权值+2，然后退出循环\n",
    "#                     if w2 in posdict or negdict:\n",
    "#                         poscount3 += 2\n",
    "#                         negcount3 += 2\n",
    "                    \n",
    "            i += 1 # 扫描词位置前移\n",
    "            # 以下是防止出现负数的情况\n",
    "            pos_count = 0\n",
    "            neg_count = 0\n",
    "            if poscount3 < 0 and negcount3 > 0:\n",
    "                neg_count += negcount3 - poscount3\n",
    "                pos_count = 0\n",
    "            elif negcount3 < 0 and poscount3 > 0:\n",
    "                pos_count = poscount3 - negcount3\n",
    "                neg_count = 0\n",
    "            elif poscount3 < 0 and negcount3 < 0:\n",
    "                neg_count = -poscount3\n",
    "                pos_count = -negcount3\n",
    "            else:\n",
    "                pos_count = poscount3\n",
    "                neg_count = negcount3\n",
    "\n",
    "            count1.append([pos_count, neg_count])\n",
    "        count2.append(count1)\n",
    "        count1 = []\n",
    "\n",
    "    return count2\n"
   ]
  },
  {
   "cell_type": "code",
   "execution_count": 33,
   "metadata": {
    "collapsed": true
   },
   "outputs": [],
   "source": [
    "def sentiment_score(senti_score_list):\n",
    "    score = []\n",
    "    for review in senti_score_list:\n",
    "        score_array = np.array(review)\n",
    "        Pos = np.sum(score_array[:, 0])\n",
    "        Neg = np.sum(score_array[:, 1])\n",
    "        AvgPos = np.mean(score_array[:, 0])\n",
    "        AvgPos = float('%.1f'%AvgPos)\n",
    "        AvgNeg = np.mean(score_array[:, 1])\n",
    "        AvgNeg = float('%.1f'%AvgNeg)\n",
    "        StdPos = np.std(score_array[:, 0])\n",
    "        StdPos = float('%.1f'%StdPos)\n",
    "        StdNeg = np.std(score_array[:, 1])\n",
    "        StdNeg = float('%.1f'%StdNeg)\n",
    "        score.append([Pos, Neg, AvgPos, AvgNeg, StdPos, StdNeg])\n",
    "    return score"
   ]
  },
  {
   "cell_type": "code",
   "execution_count": 34,
   "metadata": {},
   "outputs": [
    {
     "name": "stdout",
     "output_type": "stream",
     "text": [
      "'s , like , littl , just , realli , make , n't , help , thing , use , think , onli , come , need , easi , look , cute , becaus , price , good , doe , ani , want , small , way , month , togeth , love , old , lot#\t\t\t\t\t\t\t\t\t\t\t\t\t\t\t\t\n",
      "kid , use , color , great , make , love , fun , differ , like , easi , way , need , realli , just , want , recommend , becaus , ani , come , set , help , work , purchas , 's , think , buy , price , box , veri , small#\t\t\t\t\t\t\t\t\n",
      "\t\t\t\t\t\t\t\t\n",
      "old , year , year old , love , month , bought , play , great , daughter , son , got , easi , togeth , fun , christma , small , buy , enjoy , just , toy , recommend , veri , kid , price , size , qualiti , thing , make , want , come#\t\t\t\t\t\t\t\t\n",
      "\t\t\t\t\t\t\t\t\n",
      "toy , good , great , perfect , love , price , size , qualiti , son , play , littl , small , kid , like , just , fun , buy , realli , lot , make , recommend , want , work , look , onli , ani , becaus , need , easi , daughter#\t\t\t\t\t\t\t\t\n",
      "\t\t\t\t\t\t\t\t\n",
      "love , gift , daughter , christma , great , bought , cute , littl , perfect , son , come , ani , work , recommend , product , qualiti , good , look , make , differ , enjoy , realli , size , want , like , buy , becaus , small , just , easi#\t\t\t\t\t\t\t\t\n",
      "\t\t\t\t\t\t\t\t\n",
      "n't , work , did , doe , box , just , time , want , like , becaus , onli , daughter , bought , good , look , size , differ , buy , ani , come , open , need , small , day , way , think , got , 's , qualiti , thing#\t\t\t\t\t\t\t\t\n",
      "\t\t\t\t\t\t\t\t\n",
      "purchas , time , play , love , grandson , enjoy , great , make , realli , month , recommend , just , onli , good , bought , 's , easi , littl , doe , fun , qualiti , like , come , toy , use , help , becaus , thing , want , ani#\t\t\t\t\t\t\t\t\n",
      "\t\t\t\t\t\t\t\t\n",
      "set , piec , fun , togeth , lot , play , great , littl , nice , realli , come , small , way , becaus , like , make , love , look , just , kid , enjoy , daughter , n't , doe , cute , open , time , recommend , help , easi#\t\t\t\t\t\t\t\t\n",
      "\t\t\t\t\t\t\t\t\n",
      "'s , got , son , love , play , day , christma , open , thing , onli , bought , buy , just , becaus , month , product , way , think , recommend , like , make , differ , enjoy , realli , n't , kid , qualiti , price , ani , great#\t\t\t\t\t\t\t\t\n",
      "\t\t\t\t\t\t\t\t\n",
      "veri , product , nice , child , look , qualiti , easi , recommend , buy , work , like , help , small , need , togeth , size , becaus , ani , make , realli , 's , just , great , way , fun , son , love , littl , daughter , use#\t\t\t\t\t\t\t\t\n"
     ]
    }
   ],
   "source": [
    "review = open('../review.txt','r').read()\n",
    "\n",
    "print(review)"
   ]
  },
  {
   "cell_type": "code",
   "execution_count": 36,
   "metadata": {},
   "outputs": [
    {
     "data": {
      "text/plain": [
       "[[0, 0, 0.0, 0.0, 0.0, 0.0],\n",
       " [0, 0, 0.0, 0.0, 0.0, 0.0],\n",
       " [0, 0, 0.0, 0.0, 0.0, 0.0],\n",
       " [0, 0, 0.0, 0.0, 0.0, 0.0],\n",
       " [0, 0, 0.0, 0.0, 0.0, 0.0],\n",
       " [0, 0, 0.0, 0.0, 0.0, 0.0],\n",
       " [0, 0, 0.0, 0.0, 0.0, 0.0],\n",
       " [0, 0, 0.0, 0.0, 0.0, 0.0],\n",
       " [0, 0, 0.0, 0.0, 0.0, 0.0],\n",
       " [0, 0, 0.0, 0.0, 0.0, 0.0],\n",
       " [0, 0, 0.0, 0.0, 0.0, 0.0]]"
      ]
     },
     "execution_count": 36,
     "metadata": {},
     "output_type": "execute_result"
    }
   ],
   "source": [
    "score_list = sentiment_score(sentiment_score_list(review))\n",
    "#     score = score_list[0][2]-score_list[0][3]\n",
    "score_list"
   ]
  },
  {
   "cell_type": "code",
   "execution_count": null,
   "metadata": {
    "collapsed": true
   },
   "outputs": [],
   "source": []
  }
 ],
 "metadata": {
  "kernelspec": {
   "display_name": "Python 3",
   "language": "python",
   "name": "python3"
  },
  "language_info": {
   "codemirror_mode": {
    "name": "ipython",
    "version": 3
   },
   "file_extension": ".py",
   "mimetype": "text/x-python",
   "name": "python",
   "nbconvert_exporter": "python",
   "pygments_lexer": "ipython3",
   "version": "3.6.1"
  }
 },
 "nbformat": 4,
 "nbformat_minor": 2
}
