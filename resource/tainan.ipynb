{
 "cells": [
  {
   "cell_type": "code",
   "execution_count": 1,
   "metadata": {
    "collapsed": true
   },
   "outputs": [],
   "source": [
    "import numpy as np\n",
    "import pandas as pd\n",
    "import nltk\n",
    "from bs4 import BeautifulSoup\n",
    "import  re\n",
    "import os \n",
    "import codecs\n",
    "from sklearn import feature_extraction\n",
    "import mpld3"
   ]
  },
  {
   "cell_type": "code",
   "execution_count": 8,
   "metadata": {
    "collapsed": true
   },
   "outputs": [],
   "source": [
    "review = open('../US.20171130.txt').read().split(','+'\\\"')"
   ]
  },
  {
   "cell_type": "code",
   "execution_count": 10,
   "metadata": {},
   "outputs": [
    {
     "data": {
      "text/plain": [
       "list"
      ]
     },
     "execution_count": 10,
     "metadata": {},
     "output_type": "execute_result"
    }
   ],
   "source": [
    "type(review)"
   ]
  },
  {
   "cell_type": "code",
   "execution_count": 34,
   "metadata": {},
   "outputs": [
    {
     "name": "stdout",
     "output_type": "stream",
     "text": [
      "['i', 'me', 'my', 'myself', 'we', 'our', 'ours', 'ourselves', 'you', 'your']\n"
     ]
    }
   ],
   "source": [
    "# 载入 nltk 的英文停用词作为“stopwords”变量\n",
    "stopwords = nltk.corpus.stopwords.words('english')\n",
    "print (stopwords[:10])"
   ]
  },
  {
   "cell_type": "code",
   "execution_count": 35,
   "metadata": {
    "collapsed": true
   },
   "outputs": [],
   "source": [
    "# 载入 nltk 的 SnowballStemmer 作为“stemmer”变量(把一些動詞形式轉換成原型)\n",
    "from nltk.stem.snowball import SnowballStemmer\n",
    "stemmer = SnowballStemmer(\"english\")"
   ]
  },
  {
   "cell_type": "code",
   "execution_count": 25,
   "metadata": {},
   "outputs": [
    {
     "name": "stdout",
     "output_type": "stream",
     "text": [
      "<FreqDist with 99 samples and 176 outcomes>\n"
     ]
    }
   ],
   "source": [
    "for i in review:\n",
    "    text =nltk.word_tokenize(i)\n",
    "    fdist1 = nltk.FreqDist(text)\n",
    "    text.append(fdist1)\n",
    "print(fdist1)"
   ]
  },
  {
   "cell_type": "code",
   "execution_count": 31,
   "metadata": {},
   "outputs": [
    {
     "data": {
      "text/plain": [
       "[('.', 9),\n",
       " ('for', 8),\n",
       " (',', 8),\n",
       " ('and', 7),\n",
       " ('!', 7),\n",
       " ('it', 6),\n",
       " ('I', 5),\n",
       " ('a', 5),\n",
       " ('bought', 3),\n",
       " ('son', 3),\n",
       " (\"'s\", 3),\n",
       " ('the', 3),\n",
       " ('gift', 3),\n",
       " ('cute', 3),\n",
       " ('this', 2),\n",
       " ('he', 2),\n",
       " ('The', 2),\n",
       " ('well', 2),\n",
       " ('happy', 2),\n",
       " ('Super', 2),\n",
       " ('loved', 2),\n",
       " ('pokemon', 2),\n",
       " ('fan', 2),\n",
       " ('seems', 2),\n",
       " ('to', 2),\n",
       " ('really', 2),\n",
       " ('is', 2),\n",
       " ('Pokemon', 2),\n",
       " ('It', 2),\n",
       " ('good', 2),\n",
       " ('quality', 2),\n",
       " ('My', 2),\n",
       " ('my', 1),\n",
       " ('Christmas', 1),\n",
       " ('obsessed', 1),\n",
       " ('with', 1),\n",
       " ('Pokéball', 1),\n",
       " ('Pikachu', 1),\n",
       " ('are', 1),\n",
       " ('both', 1),\n",
       " ('very', 1),\n",
       " ('made', 1),\n",
       " ('If', 1),\n",
       " (\"'m\", 1),\n",
       " ('``', 1),\n",
       " ('adorable', 1),\n",
       " ('pics', 1),\n",
       " ('description', 1),\n",
       " ('were', 1),\n",
       " ('spot', 1)]"
      ]
     },
     "execution_count": 31,
     "metadata": {},
     "output_type": "execute_result"
    }
   ],
   "source": [
    "fdist1.most_common(50)"
   ]
  },
  {
   "cell_type": "code",
   "execution_count": 32,
   "metadata": {},
   "outputs": [
    {
     "data": {
      "text/plain": [
       "['I',\n",
       " 'bought',\n",
       " 'this',\n",
       " 'for',\n",
       " 'my',\n",
       " 'son',\n",
       " 'Christmas',\n",
       " 'and',\n",
       " 'he',\n",
       " \"'s\",\n",
       " 'obsessed',\n",
       " 'with',\n",
       " 'it',\n",
       " '.',\n",
       " 'The',\n",
       " 'Pokéball',\n",
       " 'Pikachu',\n",
       " 'are',\n",
       " 'both',\n",
       " 'very',\n",
       " 'well',\n",
       " 'made',\n",
       " 'If',\n",
       " 'happy',\n",
       " ',',\n",
       " \"'m\",\n",
       " '``',\n",
       " 'Super',\n",
       " 'adorable',\n",
       " '!',\n",
       " 'pics',\n",
       " 'description',\n",
       " 'were',\n",
       " 'spot',\n",
       " 'on',\n",
       " 'the',\n",
       " 'actual',\n",
       " 'product',\n",
       " 'actually',\n",
       " 'a',\n",
       " 'white',\n",
       " 'elephant',\n",
       " 'gift',\n",
       " 'but',\n",
       " 'loved',\n",
       " 'so',\n",
       " 'much',\n",
       " 'second',\n",
       " 'one',\n",
       " 'myself']"
      ]
     },
     "execution_count": 32,
     "metadata": {},
     "output_type": "execute_result"
    }
   ],
   "source": [
    "vocabulary1 = list(fdist1.keys())\n",
    "vocabulary1[:50]"
   ]
  },
  {
   "cell_type": "code",
   "execution_count": 33,
   "metadata": {},
   "outputs": [
    {
     "data": {
      "image/png": "[encoded data removed]",
      "text/plain": [
       "<matplotlib.figure.Figure at 0x10fa5e6a0>"
      ]
     },
     "metadata": {},
     "output_type": "display_data"
    }
   ],
   "source": [
    "fdist1.plot(50, cumulative=True)"
   ]
  },
  {
   "cell_type": "markdown",
   "metadata": {},
   "source": [
    "## 測試區"
   ]
  },
  {
   "cell_type": "code",
   "execution_count": 41,
   "metadata": {
    "collapsed": true
   },
   "outputs": [],
   "source": [
    "from sklearn.datasets import fetch_20newsgroups\n",
    "from sklearn.feature_extraction.text import CountVectorizer\n",
    "from sklearn.feature_extraction.text import TfidfTransformer"
   ]
  },
  {
   "cell_type": "code",
   "execution_count": 38,
   "metadata": {
    "collapsed": true
   },
   "outputs": [],
   "source": [
    "#斷詞function\n",
    "def cut_text_list(textlist):\n",
    "    textcutlist=[]\n",
    "    for text in textlist:\n",
    "        cutwords=jieba.cut(text)\n",
    "        cuttext=\" \".join([word for word in cutwords if word not in stopwords and '\\u4e00' <= word <= '\\u9fff'])\n",
    "        textcutlist.append(cuttext)\n",
    "    return textcutlist"
   ]
  },
  {
   "cell_type": "code",
   "execution_count": 42,
   "metadata": {},
   "outputs": [
    {
     "name": "stdout",
     "output_type": "stream",
     "text": [
      "文字轉向量矩陣\n"
     ]
    }
   ],
   "source": [
    "\n",
    "#文字轉向量矩陣\n",
    "count_vect=CountVectorizer()\n",
    "X_train_counts=count_vect.fit_transform(pincutlist)\n",
    "print('文字轉向量矩陣')\n",
    "\n",
    "#向量矩陣做tfidf\n",
    "\n",
    "tfidf_transformer=TfidfTransformer()\n",
    "X_train_tfidf = tfidf_transformer.fit_transform(X_train_counts)\n",
    "print('tfidf')\n"
   ]
  },
  {
   "cell_type": "code",
   "execution_count": null,
   "metadata": {
    "collapsed": true
   },
   "outputs": [],
   "source": [
    "#ptt測試集|\n",
    "with open('./data/foodptt.json') as f:\n",
    "    testdatas=json.load(f)\n",
    "docs_new=cut_text_list(testdatas)\n",
    "X_new_counts= count_vect.transform(docs_new)\n",
    "x_new_tfidf=tfidf_transformer.transform(X_new_counts)\n",
    "\n",
    "#試用Roccio分群\n",
    "# from sklearn.neighbors.nearest_centroid import NearestCentroid\n",
    "st=time.time()\n",
    "clf = NearestCentroid().fit(X_train_tfidf,stylelist)\n",
    "predicted =clf.predict(x_new_tfidf)\n",
    "print(\"Roccio\")\n",
    "pprint.pprint(predicted)\n",
    "ed=time.time()\n",
    "print(ed-st)\n",
    "\n",
    "\n",
    "#試用bayes分群\n",
    "# from sklearn.naive_bayes import MultinomialNB\n",
    "st=time.time()\n",
    "clf = MultinomialNB().fit(X_train_tfidf,stylelist)\n",
    "predicted =clf.predict(x_new_tfidf)\n",
    "print(\"bayes\")\n",
    "pprint.pprint(predicted)\n",
    "ed=time.time()\n",
    "print(ed-st)\n",
    "\n",
    "#試用kmeans分群\n",
    "# from sklearn.neighbors import KNeighborsClassifier\n",
    "st=time.time()\n",
    "clf = KNeighborsClassifier(15).fit(X_train_tfidf,stylelist)\n",
    "predicted =clf.predict(x_new_tfidf)\n",
    "print(\"Kmeans\")\n",
    "pprint.pprint(predicted)\n",
    "ed=time.time()\n",
    "print(ed-st)\n",
    "\n",
    "#試用svm分群\n",
    "# from sklearn import svm\n",
    "st=time.time()\n",
    "clf = svm.SVC(kernel=\"linear\").fit(X_train_tfidf,stylelist)\n",
    "predicted =clf.predict(x_new_tfidf)\n",
    "print(\"svm\")\n",
    "pprint.pprint(predicted)\n",
    "ed=time.time()\n",
    "print(ed-st)"
   ]
  }
 ],
 "metadata": {
  "kernelspec": {
   "display_name": "Python 3",
   "language": "python",
   "name": "python3"
  },
  "language_info": {
   "codemirror_mode": {
    "name": "ipython",
    "version": 3
   },
   "file_extension": ".py",
   "mimetype": "text/x-python",
   "name": "python",
   "nbconvert_exporter": "python",
   "pygments_lexer": "ipython3",
   "version": "3.6.1"
  }
 },
 "nbformat": 4,
 "nbformat_minor": 2
}
